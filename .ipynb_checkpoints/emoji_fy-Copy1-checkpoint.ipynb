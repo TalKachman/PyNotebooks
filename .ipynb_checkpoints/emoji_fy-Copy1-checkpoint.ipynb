{
 "cells": [
  {
   "cell_type": "code",
   "execution_count": 1,
   "metadata": {
    "collapsed": false
   },
   "outputs": [
    {
     "name": "stdout",
     "output_type": "stream",
     "text": [
      "Populating the interactive namespace from numpy and matplotlib\n"
     ]
    }
   ],
   "source": [
    "import numpy as np\n",
    "%pylab inline\n",
    "%load_ext emoji_magic"
   ]
  },
  {
   "cell_type": "code",
   "execution_count": 2,
   "metadata": {
    "collapsed": false
   },
   "outputs": [
    {
     "name": "stdout",
     "output_type": "stream",
     "text": [
      "🚮\n"
     ]
    }
   ],
   "source": [
    "%emoji :put_litter_in_its_place:"
   ]
  },
  {
   "cell_type": "code",
   "execution_count": 8,
   "metadata": {
    "collapsed": false
   },
   "outputs": [],
   "source": [
    "from textblob import Blobber\n",
    "from textblob_aptagger import PerceptronTagger\n",
    "from textblob import TextBlob as tb"
   ]
  },
  {
   "cell_type": "code",
   "execution_count": null,
   "metadata": {
    "collapsed": false
   },
   "outputs": [],
   "source": [
    "import nltk\n",
    "#nltk.download()"
   ]
  },
  {
   "cell_type": "code",
   "execution_count": null,
   "metadata": {
    "collapsed": false
   },
   "outputs": [],
   "source": [
    "ap_tagger = PerceptronTagger()\n",
    "tb = Blobber(pos_tagger=PerceptronTagger())\n",
    "\n",
    "word = 'slang is incredibly difficult to handle due to inability to stem the word'\n",
    "pos_tag = tb(word).tags"
   ]
  },
  {
   "cell_type": "code",
   "execution_count": 1,
   "metadata": {
    "collapsed": false
   },
   "outputs": [],
   "source": [
    "from __future__ import division\n",
    "import pandas as pd\n",
    "import numpy as np\n",
    "from nltk.stem.snowball import SnowballStemmer\n",
    "from sklearn.ensemble import RandomForestRegressor, BaggingRegressor\n",
    "stemmer = SnowballStemmer('english')\n",
    "from string import punctuation\n",
    "\n",
    "import re, collections\n",
    "\n",
    "# guarantee unicode string\n",
    "_u = lambda t: t.decode('UTF-8', 'replace') if isinstance(t, str) else t\n",
    "\n",
    "def words(text):\n",
    "    try:\n",
    "        text=text.replace('\"',\"'\") #remove quotes, make single quotes\n",
    "    except AttributeError:\n",
    "        text=text\n",
    "        \n",
    "    try:\n",
    "        text=re.sub(r\"\\s?([^\\w\\s'/\\-\\+$]+)\\s?\", r\" \\1 \", text) #find punctuation\n",
    "    except TypeError:\n",
    "        text = ''\n",
    "        \n",
    "    try:\n",
    "        return re.findall(\"[\\S]+\", text.lower()) #[a-z]\n",
    "        #return text.lower().split()\n",
    "    except AttributeError:\n",
    "        return ['']\n",
    "        \n",
    "def str_stemmer(s):\n",
    "    return [stemmer.stem(word) for word in s]\n",
    "\n",
    "def lookup(word):\n",
    "    try:\n",
    "        #return ':'+emoji_dict2[stemmer.stem(word)]+':'\n",
    "        #return emoji_dict[stemmer.stem(word)]\n",
    "        return emoji_dict[word]\n",
    "    except KeyError:\n",
    "        return \"\"\n",
    "    \n",
    "def emoji_fy(text):\n",
    "    text=_u(text) #ensure unicode encoding\n",
    "    #print(emoji.emojize(''.join([lookup(word) for word in words(text)])))\n",
    "    #print(''.join([lookup(word) for word in words(text)])+'\\n'+text)\n",
    "    return text+'\\n'+''.join([lookup(word) for word in words(text)])\n",
    "    #return [lookup(word) for word in words(text)]\n",
    "        "
   ]
  },
  {
   "cell_type": "markdown",
   "metadata": {},
   "source": [
    "<h1> emojis from unicode website, with annotations </h1>"
   ]
  },
  {
   "cell_type": "code",
   "execution_count": 2,
   "metadata": {
    "collapsed": false
   },
   "outputs": [],
   "source": [
    "emoji_key = pd.read_excel('/Users/attiladobi/Documents/emoji_list.xlsx', encoding='utf-8', index_col=0, skiprows=1)\n",
    "emoji_TS = pd.read_excel('/Users/attiladobi/Documents/emoji_TS.xlsx', encoding='utf-8', skiprows=1)"
   ]
  },
  {
   "cell_type": "code",
   "execution_count": 3,
   "metadata": {
    "collapsed": false,
    "scrolled": true
   },
   "outputs": [],
   "source": [
    "emoji_TS=emoji_TS.replace(np.nan,\"\") # need to remove nan"
   ]
  },
  {
   "cell_type": "code",
   "execution_count": 4,
   "metadata": {
    "collapsed": false
   },
   "outputs": [],
   "source": [
    "emoji_dict=dict()\n",
    "for key, name, annotation,action in zip(emoji_key['Unicode'], emoji_key['Name'], emoji_key['Annotations'], emoji_key['Action']):\n",
    "    for stem_word in str_stemmer(words(annotation)+words(action)):\n",
    "    #for stem_word in words(annotation)+words(action):\n",
    "        emoji_dict[_u(stem_word)]=key\n",
    "for word, val in zip(emoji_TS['word'], emoji_TS['emoji']):\n",
    "    for stem_word in words(word):\n",
    "        emoji_dict[_u(stem_word)]=val\n",
    "#_u ensures unicode encoding"
   ]
  },
  {
   "cell_type": "code",
   "execution_count": 5,
   "metadata": {
    "collapsed": false
   },
   "outputs": [
    {
     "data": {
      "text/plain": [
       "(u'\\U0001f63c', u'\\U0001f431')"
      ]
     },
     "execution_count": 5,
     "metadata": {},
     "output_type": "execute_result"
    }
   ],
   "source": [
    "_u('😼'), _u('🐱')"
   ]
  },
  {
   "cell_type": "code",
   "execution_count": 6,
   "metadata": {
    "collapsed": false
   },
   "outputs": [
    {
     "name": "stdout",
     "output_type": "stream",
     "text": [
      "😼\n"
     ]
    }
   ],
   "source": [
    "print(u'\\U0001f63c')"
   ]
  },
  {
   "cell_type": "code",
   "execution_count": 7,
   "metadata": {
    "collapsed": false
   },
   "outputs": [
    {
     "name": "stdout",
     "output_type": "stream",
     "text": [
      "Smile! Honey bunny Hello cop man police woman tree dolphin show up in court workouts workout soup pig tea coffee bride angry bird excited dog cat\n",
      "😼❗️🍯👮🏻👨👮🚨🚺🎋🐬⬆️🆙➡️🏛🐷🍵👰🕊🐶🐱\n"
     ]
    }
   ],
   "source": [
    "print(emoji_fy(\"Smile! Honey bunny Hello cop man police woman tree dolphin show up in court workouts workout soup pig tea coffee bride angry bird excited dog cat\"))"
   ]
  },
  {
   "cell_type": "markdown",
   "metadata": {
    "collapsed": true
   },
   "source": [
    "<h1> Taylor Swift </h1>"
   ]
  },
  {
   "cell_type": "code",
   "execution_count": 8,
   "metadata": {
    "collapsed": false,
    "scrolled": true
   },
   "outputs": [
    {
     "name": "stdout",
     "output_type": "stream",
     "text": [
      "ℹ️⏰🏕🌉0️⃣➡️💁🤔❓👯👫👬👭🗣🐷🐷❓👯👫👬👭🗣🐷🐷ℹ️🚦🔛📅📅📅📅📅😄💩ℹ️🚫👯👫👬👭⏰❓👯👫👬👭🗣🐷🐷❓👯👫👬👭🗣🐷🐷💩ℹ️🛳🛥🚤🚫🚷🚫🚷🎦👍ℹ️⬇️🎶➡️💁🙇📢🐝👌⛹⛹⛹▶️▶️▶️▶️▶️➕😤😡😡😡😡😡👶😎💃🏻💃🏻💃🏻💃🏻💃🏻ℹ️💃🏻📴ℹ️💃🏻📴💔💔💔💔💔💔➕🍰🍰🍰🍰🍰🍰🍰🍰🍰👶😎💃🏻💃🏻💃🏻💃🏻💃🏻ℹ️💃🏻📴ℹ️💃🏻📴ℹ️🚫🅰️🎵😎⚡️🔛💁👣➕❓👯👫👬👭🚫👀🐷🐷❓👯👫👬👭🚫👀🐷🐷😎💃🏻🔛💁💃🏻🔛💁ℹ️🚗⬆️🆙ℹ️🚦🚗⬆️🆙ℹ️🚦➕❓👯👫👬👭🚫🙈🙊🙉🐷🐷❓👯👫👬👭🚫🙈🙊🙉🐷🐷💩ℹ️🛳🛥🚤🚫🚷🚫🚷☮👍ℹ️⬇️🎶➡️💁🙇📢🐝👌⛹⛹⛹▶️▶️▶️▶️▶️➕😤😡😡😡😡😡👶😎💃🏻💃🏻💃🏻💃🏻💃🏻ℹ️💃🏻📴ℹ️💃🏻📴💔💔💔💔💔💔➕🍰🍰🍰🍰🍰🍰🍰🍰🍰👶😎💃🏻💃🏻💃🏻💃🏻💃🏻ℹ️💃🏻📴ℹ️💃🏻📴💃🏻📴ℹ️💃🏻📴ℹ️ℹ️ℹ️💃🏻📴ℹ️💃🏻📴ℹ️ℹ️ℹ️💃🏻📴ℹ️💃🏻📴ℹ️ℹ️ℹ️💃🏻📴ℹ️💃🏻📴👋👋👋🙇🔄📥👇➕🏕🙊➕🏭🐀🏭🐀😈🌍🌎🌏📥👇⬇️🤒🎵💁🚶🏻🛄👤🆕💃🏻💁👍🎤💁🕌⛪️🕍❗️💩😎💃🏻➕🚶🏻➡️➕😈😀💇🚫⬅️🔛👶👫💃🏻💃🏻💃🏻🙆🙀⛹⛹⛹▶️▶️▶️▶️▶️➕😤😡😡😡😡😡😤😡😎💃🏻💃🏻💃🏻💃🏻💃🏻ℹ️💃🏻📴ℹ️💃🏻📴💔💔💔💔💔💔🐷➕🍰🍰🍰🍰🍰🍰🍰🍰🍰➕🍰➕🍰➕🍰👶😎💃🏻💃🏻💃🏻💃🏻💃🏻ℹ️💃🏻📴ℹ️💃🏻📴💃🏻📴ℹ️💃🏻📴ℹ️ℹ️ℹ️💃🏻📴ℹ️💃🏻📴ℹ️ℹ️ℹ️💃🏻📴ℹ️💃🏻📴ℹ️ℹ️ℹ️💃🏻📴ℹ️💃🏻📴💃🏻📴ℹ️💃🏻📴ℹ️ℹ️ℹ️💃🏻📴ℹ️💃🏻📴ℹ️ℹ️ℹ️💃🏻📴ℹ️💃🏻📴ℹ️ℹ️ℹ️💃🏻📴ℹ️💃🏻📴💃🏻📴ℹ️💃🏻📴ℹ️ℹ️ℹ️💃🏻📴ℹ️💃🏻📴ℹ️ℹ️ℹ️💃🏻📴ℹ️💃🏻📴ℹ️ℹ️ℹ️💃🏻📴ℹ️💃🏻📴\n",
      "I stay out too late\n",
      "Got nothing in my brain\n",
      "That's what people say, mmm-mmm\n",
      "That's what people say, mmm-mmm\n",
      "\n",
      "I go on too many dates [chuckle]\n",
      "But I can't make them stay\n",
      "At least that's what people say, mmm-mmm\n",
      "That's what people say, mmm-mmm\n",
      "\n",
      "But I keep cruising\n",
      "Can't stop, won't stop moving\n",
      "It's like I got this music\n",
      "In my mind\n",
      "Saying, \"It's gonna be alright.\"\n",
      "\n",
      "'Cause the players gonna play, play, play, play, play\n",
      "And the haters gonna hate, hate, hate, hate, hate\n",
      "Baby, I'm just gonna shake, shake, shake, shake, shake\n",
      "I shake it off, I shake it off\n",
      "Heart-breakers gonna break, break, break, break, break\n",
      "And the fakers gonna fake, fake, fake, fake, fake\n",
      "Baby, I'm just gonna shake, shake, shake, shake, shake\n",
      "I shake it off, I shake it off\n",
      "\n",
      "I never miss a beat\n",
      "I'm lightning on my feet\n",
      "And that's what they don't see, mmm-mmm\n",
      "That's what they don't see, mmm-mmm\n",
      "\n",
      "I'm dancing on my own (dancing on my own)\n",
      "I make the moves up as I go (moves up as I go)\n",
      "And that's what they don't know, mmm-mmm\n",
      "That's what they don't know, mmm-mmm\n",
      "\n",
      "But I keep cruising\n",
      "Can't stop, won't stop grooving\n",
      "It's like I got this music\n",
      "In my mind\n",
      "Saying, \"It's gonna be alright.\"\n",
      "\n",
      "'Cause the players gonna play, play, play, play, play\n",
      "And the haters gonna hate, hate, hate, hate, hate\n",
      "Baby, I'm just gonna shake, shake, shake, shake, shake\n",
      "I shake it off, I shake it off\n",
      "Heart-breakers gonna break, break, break, break, break\n",
      "And the fakers gonna fake, fake, fake, fake, fake\n",
      "Baby, I'm just gonna shake, shake, shake, shake, shake\n",
      "I shake it off, I shake it off\n",
      "\n",
      "Shake it off, I shake it off,\n",
      "I, I, I shake it off, I shake it off,\n",
      "I, I, I shake it off, I shake it off,\n",
      "I, I, I shake it off, I shake it off\n",
      "\n",
      "Hey, hey, hey\n",
      "Just think while you've been getting down and out about the liars and the dirty, dirty cheats of the world,\n",
      "You could've been getting down to this sick beat.\n",
      "\n",
      "My ex-man brought his new girlfriend\n",
      "She's like \"Oh, my god!\" but I'm just gonna shake.\n",
      "And to the fella over there with the hella good hair\n",
      "Won't you come on over, baby? We can shake, shake, shake\n",
      "\n",
      "Yeah ohhh\n",
      "\n",
      "'Cause the players gonna play, play, play, play, play\n",
      "And the haters gonna hate, hate, hate, hate, hate (haters gonna hate)\n",
      "I'm just gonna shake, shake, shake, shake, shake\n",
      "I shake it off, I shake it off\n",
      "Heart-breakers gonna break, break, break, break, break (mmmm)\n",
      "And the fakers gonna fake, fake, fake, fake, fake (and fake, and fake, and fake)\n",
      "Baby, I'm just gonna shake, shake, shake, shake, shake\n",
      "I shake it off, I shake it off\n",
      "\n",
      "Shake it off, I shake it off,\n",
      "I, I, I shake it off, I shake it off,\n",
      "I, I, I shake it off, I shake it off\n",
      "I, I, I shake it off, I shake it off\n",
      "\n",
      "Shake it off, I shake it off,\n",
      "I, I, I shake it off, I shake it off,\n",
      "I, I, I shake it off, I shake it off,\n",
      "I, I, I shake it off, I shake it off\n",
      "\n",
      "Shake it off, I shake it off,\n",
      "I, I, I shake it off, I shake it off (you've got to),\n",
      "I, I, I shake it off, I shake it off,\n",
      "I, I, I shake it off, I shake it off\n"
     ]
    }
   ],
   "source": [
    "print(emoji_fy(file(\"/Users/attiladobi/PyNotebooks/lyrics/ShakeItOff_TS.txt\").read()))"
   ]
  },
  {
   "cell_type": "code",
   "execution_count": 8,
   "metadata": {
    "collapsed": false
   },
   "outputs": [],
   "source": [
    "TS = file(\"/Users/attiladobi/PyNotebooks/lyrics/ShakeItOff_TS.txt\").read()\n",
    "EE=file(\"/Users/attiladobi/PyNotebooks/lyrics/Boyz-n-the-Hood.txt\").read()\n",
    "LIS=file(\"/Users/attiladobi/PyNotebooks/lyrics/Let-It_Go.txt\").read()\n",
    "Lolli=file(\"/Users/attiladobi/PyNotebooks/lyrics/Lollipop-LW.txt\").read()"
   ]
  },
  {
   "cell_type": "code",
   "execution_count": 12,
   "metadata": {
    "collapsed": false,
    "scrolled": true
   },
   "outputs": [
    {
     "name": "stdout",
     "output_type": "stream",
     "text": [
      "Ow... Uh huh, no homo, Young Mula Baby\n",
      "🤕🙄😕🙅🏻👬👦👧💵💰👶\n",
      "I say he so sweet make her wanna lick the wrapper\n",
      "ℹ️🗣👨🏻🍯❓👅🍬\n",
      "So I let her lick the wrapper\n",
      "ℹ️👌👅🍬\n",
      "\n",
      "\n",
      "She lick me like a lollipop [4x]\n",
      "👩🏻👅💁🏻👍🅰️🍭\n",
      "\n",
      "\n",
      "[Chorus 1 (2x):]\n",
      "🎤1️⃣\n",
      "Shawty wanna thug\n",
      "👩❓🚶\n",
      "Bottles in the club\n",
      "🍾🍾🍾➡️♣️\n",
      "Shawty wanna hump\n",
      "👩❓🐫\n",
      "You know I like to touch your lovely lady lumps\n",
      "🙈🙊🙉ℹ️👍✋👉💖👩🐫\n",
      "\n",
      "\n",
      "[Verse 1 — Lil Wayne:]\n",
      "1️⃣👶👨\n",
      "OK, little mama had a swag like mine\n",
      "🙆🐭👵🏻🅰️😎👍\n",
      "She even wear her hair down her back like mine\n",
      "👩🏻2️⃣👗💇👇🔙👍\n",
      "I make her feel right when it's wrong like lying\n",
      "ℹ️😖👉❌👍\n",
      "Man, she ain't never had a love like mine\n",
      "👨👩🏻🚫🚫🅰️💏👍\n",
      "And man I ain't never seen an ass like hers\n",
      "➕👨ℹ️🚫🚫👀💩👍👩\n",
      "And that pussy in my mouth had me loss for words\n",
      "➕🐱➡️💁👄💁🏻🙅🔠🔡\n",
      "Told her back it up like erp erp\n",
      "🗣🔙⬆️🆙👍😏😏\n",
      "And I made that ass jump like jerk, jerk\n",
      "➕ℹ️💩🐸👍👦👦\n",
      "And that's when she lick me like a lollipop (oh yeah I like that)\n",
      "➕👩🏻👅💁🏻👍🅰️🍭🙀🙆ℹ️👍\n",
      "She lick me like a lollipop (I like that)\n",
      "👩🏻👅💁🏻👍🅰️🍭ℹ️👍\n",
      "She lick me like a lollipop (I like that)\n",
      "👩🏻👅💁🏻👍🅰️🍭ℹ️👍\n",
      "She lick me like a lollipop\n",
      "👩🏻👅💁🏻👍🅰️🍭\n",
      "\n",
      "\n",
      "[Chorus 1]\n",
      "🎤1️⃣\n",
      "\n",
      "\n",
      "[Chorus 2:]\n",
      "🎤2️⃣\n",
      "Shawty wanna thug (oh yeah I like that)\n",
      "👩❓🚶🙀🙆ℹ️👍\n",
      "Bottles in the club (oh yeah I like that)\n",
      "🍾🍾🍾➡️♣️🙀🙆ℹ️👍\n",
      "Shawty wanna hump\n",
      "👩❓🐫\n",
      "You know I like to touch your lovely lady lumps\n",
      "🙈🙊🙉ℹ️👍✋👉💖👩🐫\n",
      "\n",
      "\n",
      "[Static Major:]\n",
      "🔉🎖\n",
      "OK after you back it up and stop\n",
      "🙆↩️🔙⬆️🆙➕🚷\n",
      "Drop it shawty drop it like it's hot\n",
      "👋👩👋👍🔥\n",
      "Oh, drop it like it's hot\n",
      "🙀👋👍🔥\n",
      "Do it shawty don't stop\n",
      "👩🚫🚷\n",
      "\n",
      "\n",
      "[Verse 2 — Lil Wayne:]\n",
      "2️⃣👶👨\n",
      "Shawty said the nigga that she with ain't shit\n",
      "👩🗣👦👩🏻➕🚫💩\n",
      "Shawty said the nigga that she with ain't this\n",
      "👩🗣👦👩🏻➕🚫⬇️\n",
      "Shawty said the nigga that she with can't hit\n",
      "👩🗣👦👩🏻➕🚫🏏\n",
      "But shawty I'm a hit it hit it like I can't miss\n",
      "💩👩😎🅰️🏏🏏👍ℹ️🚫\n",
      "And he can't do this\n",
      "➕👨🏻🚫⬇️\n",
      "And he don't do that\n",
      "➕👨🏻🚫\n",
      "\n",
      "\n",
      "Shawty need a a refund, need a bring that nigga back\n",
      "👩🅰️🅰️♻️💰🅰️👦🔙\n",
      "Just like a refund I make her bring that ass back\n",
      "👍🅰️♻️💰ℹ️💩🔙\n",
      "And she bring that ass back\n",
      "➕👩🏻💩🔙\n",
      "Because I like that\n",
      "💁ℹ️👍\n",
      "\n",
      "\n",
      "[Chorus 2]\n",
      "🎤2️⃣\n",
      "\n",
      "\n",
      "She lick me like a lollipop [3x]\n",
      "👩🏻👅💁🏻👍🅰️🍭\n",
      "So I let her lick the wrapper\n",
      "ℹ️👌👅🍬\n",
      "Like a lollipop\n",
      "👍🅰️🍭\n",
      "\n",
      "\n",
      "[4x]\n",
      "\n",
      "Call me so I can make it juicy for you\n",
      "📞💁🏻ℹ️💦\n",
      "Call me so I can get it juicy for you\n",
      "📞💁🏻ℹ️💦\n",
      "\n",
      "\n",
      "[Chorus 1]\n",
      "🎤1️⃣\n",
      "\n",
      "\n",
      "I get her on top she drop it like it hot\n",
      "ℹ️🔛🔝👩🏻👋👍🔥\n",
      "And when I'm at the bottom she Hillary Rodham\n",
      "➕😎👇👩🏻👩🏻🐷\n",
      "The middle of the bed\n",
      "🖕🛏\n",
      "Giving getting head, giving getting head, giving getting head\n",
      "🎁📥👤🎁📥👤🎁📥👤\n",
      "\n",
      "\n",
      "I said mhm... I like that\n",
      "ℹ️🗣🐽ℹ️👍\n",
      "Said u. I like that\n",
      "🗣↩️ℹ️👍\n",
      "I said mhm... I like that\n",
      "ℹ️🗣🐽ℹ️👍\n",
      "Mhmm\n",
      "🤔\n",
      "\n",
      "\n",
      "Call me so I can come and do it for your\n",
      "📞💁🏻ℹ️⬅️➕👉\n",
      "Call me so I can come and prove it for your\n",
      "📞💁🏻ℹ️⬅️➕👆👉\n",
      "Call me so I can make it juicy for you\n",
      "📞💁🏻ℹ️💦\n",
      "Call me so I can get it juicy for you\n",
      "📞💁🏻ℹ️💦\n",
      "\n",
      "\n",
      "Shawty wanna lick me like a lollipop\n",
      "👩❓👅💁🏻👍🅰️🍭\n",
      "She lick me like a lollipop\n",
      "👩🏻👅💁🏻👍🅰️🍭\n",
      "She said he's so sweet\n",
      "👩🏻🗣👦🍯\n",
      "Makes her Wanna lick the wrapper\n",
      "🛠❓👅🍬\n",
      "So I let her lick the wrapper\n",
      "ℹ️👌👅🍬\n"
     ]
    }
   ],
   "source": [
    "for line in Lolli.split('\\n'):\n",
    "    print(emoji_fy(line))"
   ]
  },
  {
   "cell_type": "markdown",
   "metadata": {
    "collapsed": true
   },
   "source": [
    "<h1> Save to a txt file. So that newlines render in HTML </h1>"
   ]
  },
  {
   "cell_type": "code",
   "execution_count": 74,
   "metadata": {
    "collapsed": false
   },
   "outputs": [],
   "source": [
    "text_file = open(\"/Users/attiladobi/emojify/lyrics/TS.txt\", \"w\")\n",
    "text_file.write('\\n'.join([emoji_fy(line) for line in TS.split('\\n')]).encode('utf-8'))\n",
    "text_file.close()"
   ]
  },
  {
   "cell_type": "code",
   "execution_count": 322,
   "metadata": {
    "collapsed": true
   },
   "outputs": [
    {
     "name": "stdout",
     "output_type": "stream",
     "text": [
      "📢\n",
      "saying\n",
      "\n",
      "just\n",
      "🚫\n",
      "don't\n",
      "\n",
      "over\n",
      "🤔\n",
      "brain\n",
      "🚫\n",
      "won't\n",
      "💃🏻\n",
      "shake\n",
      "🚦\n",
      "go\n",
      "😡\n",
      "hate\n",
      "\n",
      "(\n",
      "\n",
      ",\n",
      "🌉\n",
      "late\n",
      "\n",
      "to\n",
      "🙀\n",
      "ohhh\n",
      "👯👫👬👭\n",
      "them\n",
      "👤\n",
      "his\n",
      "🛳🛥🚤\n",
      "cruising\n",
      "🎵\n",
      "beat\n",
      "🚷\n",
      "stop\n",
      "\n",
      "gonna\n",
      "💔\n",
      "break\n",
      "\n",
      "you've\n",
      "👯👫👬👭\n",
      "they\n",
      "🆕\n",
      "new\n",
      "🌍🌎🌏\n",
      "world\n",
      "🎤\n",
      "'oh\n",
      "👇\n",
      "down\n",
      "👍\n",
      "like\n",
      "⚡️\n",
      "lightning\n",
      "\n",
      "could've\n",
      "🙊\n",
      "liars\n",
      "\n",
      "),\n",
      "👯👫👬👭\n",
      "people\n",
      "✅\n",
      "yeah\n",
      "💇\n",
      "hair\n",
      "👀\n",
      "see\n",
      "😄\n",
      "chuckle\n",
      "🏕\n",
      "out\n",
      "❓\n",
      "what\n",
      "\n",
      "'\n",
      "🕌⛪️🕍\n",
      "god\n",
      "\n",
      "got\n",
      "\n",
      "?\n",
      "\n",
      "can\n",
      "🐝\n",
      "be\n",
      "👫\n",
      "we\n",
      "🚫\n",
      "never\n",
      "\n",
      "[\n",
      "⬅️\n",
      "come\n",
      "🔛\n",
      "on\n",
      "📅📅📅📅📅\n",
      "dates\n",
      "📥\n",
      "getting\n",
      "\n",
      "many\n",
      "\n",
      "keep\n",
      "⛹⛹⛹\n",
      "players\n",
      "😎\n",
      "i'm\n",
      "🙇\n",
      "think\n",
      "🚫\n",
      "can't\n",
      "\n",
      "own\n",
      "👣\n",
      "feet\n",
      "😈\n",
      "cheats\n",
      "🍰🍰🍰🍰\n",
      "fakers\n",
      "\n",
      "least\n",
      "🍰\n",
      "fake\n",
      "\n",
      "miss\n",
      "🚶🏻\n",
      "fella\n",
      "\n",
      "'it's\n",
      "\n",
      "it's\n",
      "➡️\n",
      "there\n",
      "👋\n",
      "hey\n",
      "\n",
      "been\n",
      "\n",
      ".\n",
      "🚶🏻\n",
      "ex-man\n",
      "🎶\n",
      "music\n",
      "\n",
      "too\n",
      "💔\n",
      "heart-breakers\n",
      "\n",
      "about\n",
      "💩\n",
      "but\n",
      "🐷\n",
      "mmmm\n",
      "👶\n",
      "baby\n",
      "😤\n",
      "haters\n",
      "➕\n",
      "with\n",
      "⬇️\n",
      "this\n",
      "⬆️🆙\n",
      "up\n",
      "🔄\n",
      "while\n",
      "🏭🐀\n",
      "dirty\n",
      "\n",
      "of\n",
      "💁\n",
      "my\n",
      "➕\n",
      "and\n",
      "🙇\n",
      "mind\n",
      "\n",
      "it\n",
      "🗣\n",
      "say\n",
      "😀\n",
      "good\n",
      "\n",
      "at\n",
      "➡️\n",
      "in\n",
      "💃🏻\n",
      "girlfriend\n",
      "🚗\n",
      "moves\n",
      "\n",
      "as\n",
      "❗️\n",
      "!\n",
      "💃🏻\n",
      "dancing\n",
      "\n",
      ")\n",
      "\n",
      "make\n",
      "🤒\n",
      "sick\n",
      "\n",
      "you\n",
      "▶️\n",
      "play\n",
      "☮\n",
      "grooving\n",
      "⏰\n",
      "stay\n",
      "🎦\n",
      "moving\n",
      "\n",
      "'cause\n",
      "0️⃣\n",
      "nothing\n",
      "\n",
      "]\n",
      "🅰️\n",
      "a\n",
      "📴\n",
      "off\n",
      "ℹ️\n",
      "i\n",
      "🛄\n",
      "brought\n",
      "🐷🐷\n",
      "mmm-mmm\n",
      "😈\n",
      "hella\n",
      "👌\n",
      "alright\n",
      "💁\n",
      "she's\n",
      "\n",
      "the\n",
      "\n",
      "that's\n",
      "🙈🙊🙉\n",
      "know\n"
     ]
    }
   ],
   "source": [
    "for val in set(words(TS)):\n",
    "    emoji_fy(val)"
   ]
  },
  {
   "cell_type": "code",
   "execution_count": 89,
   "metadata": {
    "collapsed": false,
    "scrolled": true
   },
   "outputs": [
    {
     "name": "stdout",
     "output_type": "stream",
     "text": [
      "refund\n",
      "major\n",
      "because\n",
      "love\n",
      "sweet\n",
      "juicy\n",
      "jump\n",
      "bring\n",
      "homo\n",
      "static\n",
      "touch\n",
      "):]\n",
      "even\n",
      "swag\n",
      "3x\n",
      "bottles\n",
      "he's\n",
      "giving\n",
      "hump\n",
      "when\n",
      "verse\n",
      "wrapper\n",
      "your\n",
      "1\n",
      "hot\n",
      "wayne\n",
      "pussy\n",
      "mama\n",
      "shawty\n",
      "lovely\n",
      "lick\n",
      "told\n",
      "...\n",
      "thug\n",
      "mula\n",
      "jerk\n",
      "loss\n",
      "club\n",
      "mhmm\n",
      "after\n",
      "huh\n",
      "bottom\n",
      "hillary\n",
      "lil\n",
      "nigga\n",
      "wear\n",
      "words\n",
      "hers\n",
      "2\n",
      "lady\n",
      "lollipop\n",
      "rodham\n",
      "mhm\n",
      "ok\n",
      "—\n",
      "4x\n",
      "oh\n",
      "need\n",
      "prove\n",
      "2x\n",
      "bed\n",
      "middle\n",
      "lumps\n",
      "uh\n",
      "erp\n",
      "ow\n",
      "ain't\n",
      "drop\n",
      "mouth\n",
      "lying\n"
     ]
    }
   ],
   "source": [
    "#difference in sets. to get new words...\n",
    "for val in set(words(Lolli))-set(words(LIS))-set(words(EE))-set(words(TS)):\n",
    "    #print stemmer.stem(val)\n",
    "    print val"
   ]
  },
  {
   "cell_type": "code",
   "execution_count": 320,
   "metadata": {
    "collapsed": false
   },
   "outputs": [
    {
     "data": {
      "text/plain": [
       "74"
      ]
     },
     "execution_count": 320,
     "metadata": {},
     "output_type": "execute_result"
    }
   ],
   "source": [
    "len(set(words(LIS))-set(words(EE))-set(words(TS)))"
   ]
  },
  {
   "cell_type": "code",
   "execution_count": null,
   "metadata": {
    "collapsed": true
   },
   "outputs": [],
   "source": [
    "len(set(str_stemmer(words(EE)))-set(str_stemmer(words(TS))))"
   ]
  },
  {
   "cell_type": "code",
   "execution_count": null,
   "metadata": {
    "collapsed": true
   },
   "outputs": [],
   "source": []
  }
 ],
 "metadata": {
  "kernelspec": {
   "display_name": "Python 2",
   "language": "python",
   "name": "python2"
  },
  "language_info": {
   "codemirror_mode": {
    "name": "ipython",
    "version": 2
   },
   "file_extension": ".py",
   "mimetype": "text/x-python",
   "name": "python",
   "nbconvert_exporter": "python",
   "pygments_lexer": "ipython2",
   "version": "2.7.11"
  }
 },
 "nbformat": 4,
 "nbformat_minor": 0
}
