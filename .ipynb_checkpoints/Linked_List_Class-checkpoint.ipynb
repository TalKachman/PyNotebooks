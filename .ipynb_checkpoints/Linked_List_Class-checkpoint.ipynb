{
 "cells": [
  {
   "cell_type": "code",
   "execution_count": 53,
   "metadata": {
    "collapsed": false
   },
   "outputs": [],
   "source": [
    "#create linked list, add. Print, reverse \n",
    "\n",
    "class node:\n",
    "    def __init__(self,val,Next):\n",
    "        self.value=val\n",
    "        self.Next=Next\n",
    "    \n",
    "class LL:\n",
    "    def __init__(self):\n",
    "        self.head=None\n",
    "    def instert(self, val):\n",
    "        next_node=self.head\n",
    "        new_node=node(val,next_node)\n",
    "        self.head=new_node\n",
    "    def print_list(self):\n",
    "        cur_node=self.head\n",
    "        while cur_node:\n",
    "            print cur_node.value\n",
    "            cur_node=cur_node.Next\n",
    "    def reverse_list(self):\n",
    "        revLL=LL()\n",
    "        cur_node=self.head\n",
    "        while cur_node:\n",
    "            revLL.instert(cur_node.value)\n",
    "            cur_node=cur_node.Next\n",
    "        return revLL\n",
    "    "
   ]
  },
  {
   "cell_type": "code",
   "execution_count": 54,
   "metadata": {
    "collapsed": true
   },
   "outputs": [],
   "source": [
    "a=LL()"
   ]
  },
  {
   "cell_type": "code",
   "execution_count": 55,
   "metadata": {
    "collapsed": false
   },
   "outputs": [],
   "source": [
    "a.instert(2)\n",
    "a.instert(3)\n",
    "a.instert(1)"
   ]
  },
  {
   "cell_type": "code",
   "execution_count": 56,
   "metadata": {
    "collapsed": false
   },
   "outputs": [
    {
     "name": "stdout",
     "output_type": "stream",
     "text": [
      "1\n",
      "3\n",
      "2\n"
     ]
    }
   ],
   "source": [
    "a.print_list()"
   ]
  },
  {
   "cell_type": "code",
   "execution_count": 57,
   "metadata": {
    "collapsed": false
   },
   "outputs": [],
   "source": [
    "b=a.reverse_list()"
   ]
  },
  {
   "cell_type": "code",
   "execution_count": 58,
   "metadata": {
    "collapsed": false
   },
   "outputs": [
    {
     "name": "stdout",
     "output_type": "stream",
     "text": [
      "2\n",
      "3\n",
      "1\n"
     ]
    }
   ],
   "source": [
    "b.print_list()"
   ]
  },
  {
   "cell_type": "code",
   "execution_count": null,
   "metadata": {
    "collapsed": true
   },
   "outputs": [],
   "source": []
  }
 ],
 "metadata": {
  "kernelspec": {
   "display_name": "Python 2",
   "language": "python",
   "name": "python2"
  },
  "language_info": {
   "codemirror_mode": {
    "name": "ipython",
    "version": 2
   },
   "file_extension": ".py",
   "mimetype": "text/x-python",
   "name": "python",
   "nbconvert_exporter": "python",
   "pygments_lexer": "ipython2",
   "version": "2.7.11"
  }
 },
 "nbformat": 4,
 "nbformat_minor": 0
}
