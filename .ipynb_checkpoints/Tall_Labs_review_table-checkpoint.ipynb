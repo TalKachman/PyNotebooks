{
 "cells": [
  {
   "cell_type": "code",
   "execution_count": 1,
   "metadata": {
    "collapsed": true
   },
   "outputs": [],
   "source": [
    "import psycopg2\n",
    "import json\n",
    "import codecs\n",
    "from ast import literal_eval"
   ]
  },
  {
   "cell_type": "code",
   "execution_count": 18,
   "metadata": {
    "collapsed": true
   },
   "outputs": [],
   "source": [
    "conn = psycopg2.connect(\"host=localhost port=5432 dbname=qa user=attiladobi\")\n",
    "cur = conn.cursor()"
   ]
  },
  {
   "cell_type": "code",
   "execution_count": 13,
   "metadata": {
    "collapsed": true
   },
   "outputs": [],
   "source": [
    "def check_value(jsonkey):\n",
    "    try: \n",
    "        return reviewjson[jsonkey]\n",
    "    except KeyError:\n",
    "        return ''"
   ]
  },
  {
   "cell_type": "code",
   "execution_count": 3,
   "metadata": {
    "collapsed": true
   },
   "outputs": [],
   "source": [
    "#QA db ... make seperate tables\n",
    "def create_review_table(table_name):\n",
    "    cur.execute(\"CREATE TABLE reviews_{:s} (id serial PRIMARY KEY,\\\n",
    "        catagory text,\\\n",
    "        summary text,\\\n",
    "        helpful int[],\\\n",
    "        reviewerID text,\\\n",
    "        reviewerName text,\\\n",
    "        overall float,\\\n",
    "        asin text,\\\n",
    "        reviewTime Timestamp,\\\n",
    "        reviewText text,\\\n",
    "        unixReviewTime int\\\n",
    "        );\".format(table_name))\n",
    "    conn.commit() #submit change to db"
   ]
  },
  {
   "cell_type": "code",
   "execution_count": 19,
   "metadata": {
    "collapsed": false
   },
   "outputs": [],
   "source": [
    "#note the catagory = file name (amazon product catigory)   \n",
    "file_list=!ls /Users/attiladobi/Downloads/Reviews\n",
    "for catagory_file in file_list[7:8]:\n",
    "    table_name=catagory_file.split('_5')[0]\n",
    "    create_review_table(table_name)\n",
    "    with open('/Users/attiladobi/Downloads/Reviews/'+catagory_file) as f:\n",
    "        for line in f:\n",
    "            reviewjson=json.loads(line)\n",
    "\n",
    "            try:\n",
    "                asin=reviewjson['asin']\n",
    "            except KeyError:\n",
    "                asin=''\n",
    "            try:\n",
    "                helpful= reviewjson['helpful']\n",
    "            except KeyError:\n",
    "                helpful=[0,0]\n",
    "\n",
    "            summary=check_value('summary')\n",
    "            reviewerID= check_value('reviewerID')\n",
    "            reviewerName= check_value('reviewerName')\n",
    "            overall= check_value('overall')\n",
    "            #asin reviewjson['asin']\n",
    "            reviewTime= check_value('reviewTime')\n",
    "            reviewText= check_value('reviewText')\n",
    "            unixReviewTime= check_value('unixReviewTime')\n",
    "\n",
    "            #insert into postgres\n",
    "            cur.execute(\"INSERT INTO reviews_{:s} (\\\n",
    "            catagory,\\\n",
    "            summary,\\\n",
    "            helpful,\\\n",
    "            reviewerID,\\\n",
    "            reviewerName,\\\n",
    "            overall,\\\n",
    "            asin,\\\n",
    "            reviewTime,\\\n",
    "            reviewText,\\\n",
    "            unixReviewTime\\\n",
    "            )\\\n",
    "            VALUES (\\\n",
    "            %s,%s,%s,%s,%s,%s,%s,%s,%s,%s\\\n",
    "            )\".format(table_name),(catagory_file,summary,helpful,reviewerID,reviewerName,overall,asin,reviewTime,reviewText,unixReviewTime )\\\n",
    "            )\n",
    "            conn.commit() #submit change to db\n",
    " "
   ]
  },
  {
   "cell_type": "code",
   "execution_count": 7,
   "metadata": {
    "collapsed": false
   },
   "outputs": [
    {
     "data": {
      "text/plain": [
       "'Cell_Phones_and_Accessories_5.json'"
      ]
     },
     "execution_count": 7,
     "metadata": {},
     "output_type": "execute_result"
    }
   ],
   "source": [
    "file_list=!ls /Users/attiladobi/Downloads/Reviews\n",
    "file_list[7]"
   ]
  },
  {
   "cell_type": "code",
   "execution_count": null,
   "metadata": {
    "collapsed": true
   },
   "outputs": [],
   "source": []
  }
 ],
 "metadata": {
  "kernelspec": {
   "display_name": "Python 2",
   "language": "python",
   "name": "python2"
  },
  "language_info": {
   "codemirror_mode": {
    "name": "ipython",
    "version": 2
   },
   "file_extension": ".py",
   "mimetype": "text/x-python",
   "name": "python",
   "nbconvert_exporter": "python",
   "pygments_lexer": "ipython2",
   "version": "2.7.11"
  }
 },
 "nbformat": 4,
 "nbformat_minor": 0
}
