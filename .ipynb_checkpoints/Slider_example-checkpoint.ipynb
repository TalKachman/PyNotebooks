{
 "cells": [
  {
   "cell_type": "code",
   "execution_count": 2,
   "metadata": {
    "collapsed": false
   },
   "outputs": [],
   "source": [
    "import numpy as np \n",
    "\n",
    "from bokeh.io import output_file, show, vform \n",
    "from bokeh.plotting import figure \n",
    "from bokeh.models import Callback, Circle, ColumnDataSource, Slider, CustomJS\n",
    "\n",
    "N = 200 \n",
    "\n",
    "x = np.linspace(0, 5, N) \n",
    "y = np.sin(x) + np.random.random(N)*0.1 \n",
    "index = np.arange(N) \n",
    "\n",
    "output_file(\"slider_select.html\") \n",
    "\n",
    "source = ColumnDataSource(data=dict(x=x, y=y, index=index)) \n",
    "\n",
    "p = figure(plot_width=400, plot_height=400) \n",
    "p.circle(\"x\", \"y\", size=5, color=\"navy\", alpha=0.6, source=source, name=\"mycircle\") \n",
    "\n",
    "invisible_glyph = Circle(fill_alpha=0.0, line_alpha=0.0) \n",
    "\n",
    "renderer = p.select(name=\"mycircle\") \n",
    "renderer.selection_glyph = renderer[0].glyph.clone() \n",
    "renderer.nonselection_glyph = invisible_glyph \n",
    "\n",
    "callback = CustomJS(args=dict(source=source), code=\"\"\" \n",
    "    var value = last.get('value') \n",
    "\n",
    "    var data = source.get('data'); \n",
    "    index = data['index'] \n",
    "    new_indices = [] \n",
    "    for (i = 0; i < value; i++) { \n",
    "        if (i <= value) { \n",
    "            new_indices.push(i) \n",
    "        } \n",
    "    } \n",
    "    selected = source.get('selected') \n",
    "    selected['1d'].indices = new_indices \n",
    "    source.trigger('change'); \n",
    "\"\"\") \n",
    "\n",
    "slider = Slider(start=0, end=N, value=N, step=1, title=\"index\", callback=callback) \n",
    "callback.args[\"last\"] = slider\n",
    "\n",
    "show(vform(slider, p)) \n"
   ]
  },
  {
   "cell_type": "code",
   "execution_count": 7,
   "metadata": {
    "collapsed": false
   },
   "outputs": [
    {
     "ename": "NameError",
     "evalue": "name 'ds' is not defined",
     "output_type": "error",
     "traceback": [
      "\u001b[0;31m---------------------------------------------------------------------------\u001b[0m\n\u001b[0;31mNameError\u001b[0m                                 Traceback (most recent call last)",
      "\u001b[0;32m<ipython-input-7-b2cbc0cbdf70>\u001b[0m in \u001b[0;36m<module>\u001b[0;34m()\u001b[0m\n\u001b[1;32m      6\u001b[0m \u001b[0;31m#hover.tooltips = [(\"index\", \"$index\"),(\"(x,y)\", \"($x, $y)\"),(\"E(keVee)\", \"@energy\"),(\"LUXstamp\",\"@luxstamp\"),(\"Z(us)\",\"@drift\"),(\"R(cm)\",\"@s2radius_corr\")]\u001b[0m\u001b[0;34m\u001b[0m\u001b[0;34m\u001b[0m\u001b[0m\n\u001b[1;32m      7\u001b[0m \u001b[0;34m\u001b[0m\u001b[0m\n\u001b[0;32m----> 8\u001b[0;31m \u001b[0mp1\u001b[0m\u001b[0;34m.\u001b[0m\u001b[0mscatter\u001b[0m\u001b[0;34m(\u001b[0m\u001b[0;34m'energy'\u001b[0m\u001b[0;34m,\u001b[0m \u001b[0;34m'log10S2S1'\u001b[0m\u001b[0;34m,\u001b[0m \u001b[0msource\u001b[0m\u001b[0;34m=\u001b[0m\u001b[0mds\u001b[0m\u001b[0;34m,\u001b[0m \u001b[0msize\u001b[0m\u001b[0;34m=\u001b[0m\u001b[0;36m3\u001b[0m\u001b[0;34m,\u001b[0m \u001b[0mcolor\u001b[0m\u001b[0;34m=\u001b[0m\u001b[0;34m'blue'\u001b[0m\u001b[0;34m,\u001b[0m\u001b[0mlegend\u001b[0m\u001b[0;34m=\u001b[0m\u001b[0;34m'Energy'\u001b[0m\u001b[0;34m,\u001b[0m\u001b[0mfill_alpha\u001b[0m\u001b[0;34m=\u001b[0m\u001b[0;36m.1\u001b[0m\u001b[0;34m,\u001b[0m\u001b[0malpha\u001b[0m\u001b[0;34m=\u001b[0m\u001b[0;36m1\u001b[0m\u001b[0;34m,\u001b[0m\u001b[0mline_color\u001b[0m\u001b[0;34m=\u001b[0m\u001b[0;34m\"blue\"\u001b[0m\u001b[0;34m,\u001b[0m\u001b[0mline_width\u001b[0m\u001b[0;34m=\u001b[0m\u001b[0;36m1\u001b[0m\u001b[0;34m,\u001b[0m\u001b[0mname\u001b[0m\u001b[0;34m=\u001b[0m\u001b[0;34m'p1'\u001b[0m\u001b[0;34m)\u001b[0m\u001b[0;34m\u001b[0m\u001b[0m\n\u001b[0m\u001b[1;32m      9\u001b[0m \u001b[0;34m\u001b[0m\u001b[0m\n\u001b[1;32m     10\u001b[0m \u001b[0minvisible_glyph\u001b[0m \u001b[0;34m=\u001b[0m \u001b[0mscatter\u001b[0m\u001b[0;34m(\u001b[0m\u001b[0mfill_alpha\u001b[0m\u001b[0;34m=\u001b[0m\u001b[0;36m0.0\u001b[0m\u001b[0;34m,\u001b[0m \u001b[0mline_alpha\u001b[0m\u001b[0;34m=\u001b[0m\u001b[0;36m0.0\u001b[0m\u001b[0;34m)\u001b[0m\u001b[0;34m\u001b[0m\u001b[0m\n",
      "\u001b[0;31mNameError\u001b[0m: name 'ds' is not defined"
     ]
    }
   ],
   "source": [
    "tools=\"pan,wheel_zoom,box_zoom,box_select,poly_select,reset,save,hover,click,lasso_select\" #crosshair\n",
    "\n",
    "p1 = figure(title='',plot_width=600, plot_height=400, tools=tools,x_axis_label = \"Energy (keVee)\",y_axis_label = \"log10(S2/S1)\")\n",
    "\n",
    "#hover = p1.select(dict(type=HoverTool))\n",
    "#hover.tooltips = [(\"index\", \"$index\"),(\"(x,y)\", \"($x, $y)\"),(\"E(keVee)\", \"@energy\"),(\"LUXstamp\",\"@luxstamp\"),(\"Z(us)\",\"@drift\"),(\"R(cm)\",\"@s2radius_corr\")]\n",
    "\n",
    "p1.scatter('energy', 'log10S2S1', source=ds, size=3, color='blue',legend='Energy',fill_alpha=.1,alpha=1,line_color=\"blue\",line_width=1,name='p1')\n",
    "\n",
    "invisible_glyph = scatter(fill_alpha=0.0, line_alpha=0.0) \n",
    "\n",
    "renderer = p1.select(name=\"p1\") \n",
    "renderer.selection_glyph = renderer[0].glyph.clone() \n",
    "renderer.nonselection_glyph = invisible_glyph \n",
    "\n",
    "callback = Callback(args=dict(source=source), code=\"\"\" \n",
    "    var value = cb_obj.get('value') \n",
    "\n",
    "    var data = source.get('data'); \n",
    "    index = data['index'] \n",
    "    new_indices = [] \n",
    "    for (i = 0; i < index.length; i++) { \n",
    "        if (i <= value) { \n",
    "            new_indices.push(i) \n",
    "        } \n",
    "    } \n",
    "    selected = source.get('selected') \n",
    "    selected['1d'].indices = new_indices \n",
    "    source.trigger('change'); \n",
    "\"\"\") \n",
    "\n",
    "\n",
    "\n",
    "show(VBox(HBox(p2,p1),HBox(p3,p4),histo))"
   ]
  },
  {
   "cell_type": "code",
   "execution_count": 5,
   "metadata": {
    "collapsed": false
   },
   "outputs": [],
   "source": [
    "from bokeh.io import vform"
   ]
  },
  {
   "cell_type": "code",
   "execution_count": null,
   "metadata": {
    "collapsed": false
   },
   "outputs": [],
   "source": []
  }
 ],
 "metadata": {
  "kernelspec": {
   "display_name": "Python 2",
   "language": "python",
   "name": "python2"
  },
  "language_info": {
   "codemirror_mode": {
    "name": "ipython",
    "version": 2
   },
   "file_extension": ".py",
   "mimetype": "text/x-python",
   "name": "python",
   "nbconvert_exporter": "python",
   "pygments_lexer": "ipython2",
   "version": "2.7.10"
  }
 },
 "nbformat": 4,
 "nbformat_minor": 0
}
