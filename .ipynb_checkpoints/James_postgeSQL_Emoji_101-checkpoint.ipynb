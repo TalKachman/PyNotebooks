{
 "cells": [
  {
   "cell_type": "markdown",
   "metadata": {},
   "source": [
    "<h1> Emoji DB for James </h1>"
   ]
  },
  {
   "cell_type": "code",
   "execution_count": 1,
   "metadata": {
    "collapsed": true
   },
   "outputs": [],
   "source": [
    "from __future__ import division\n",
    "import json\n",
    "import pandas as pd\n",
    "import re, collections\n",
    "import numpy as np\n",
    "import os\n",
    "base_dir=os.path.expanduser('~')\n",
    "import datetime\n",
    "import time\n",
    "import psycopg2"
   ]
  },
  {
   "cell_type": "markdown",
   "metadata": {},
   "source": [
    "<h1> Connect to the emoji_db </h1>"
   ]
  },
  {
   "cell_type": "code",
   "execution_count": 1,
   "metadata": {
    "collapsed": false
   },
   "outputs": [
    {
     "ename": "NameError",
     "evalue": "name 'psycopg2' is not defined",
     "output_type": "error",
     "traceback": [
      "\u001b[0;31m---------------------------------------------------------------------------\u001b[0m",
      "\u001b[0;31mNameError\u001b[0m                                 Traceback (most recent call last)",
      "\u001b[0;32m<ipython-input-1-6deff2d607d4>\u001b[0m in \u001b[0;36m<module>\u001b[0;34m()\u001b[0m\n\u001b[1;32m      1\u001b[0m \u001b[0;31m#connect\u001b[0m\u001b[0;34m\u001b[0m\u001b[0;34m\u001b[0m\u001b[0m\n\u001b[0;32m----> 2\u001b[0;31m \u001b[0mconn\u001b[0m \u001b[0;34m=\u001b[0m \u001b[0mpsycopg2\u001b[0m\u001b[0;34m.\u001b[0m\u001b[0mconnect\u001b[0m\u001b[0;34m(\u001b[0m\u001b[0;34m\"host=52.40.90.162 port=5432 dbname=emoji_db user=WizzKid password=IVapeBro\"\u001b[0m\u001b[0;34m)\u001b[0m\u001b[0;34m\u001b[0m\u001b[0m\n\u001b[0m\u001b[1;32m      3\u001b[0m \u001b[0mcur\u001b[0m \u001b[0;34m=\u001b[0m \u001b[0mconn\u001b[0m\u001b[0;34m.\u001b[0m\u001b[0mcursor\u001b[0m\u001b[0;34m(\u001b[0m\u001b[0;34m)\u001b[0m\u001b[0;34m\u001b[0m\u001b[0m\n",
      "\u001b[0;31mNameError\u001b[0m: name 'psycopg2' is not defined"
     ]
    }
   ],
   "source": [
    "#connect\n",
    "conn = psycopg2.connect(\"host=52.40.90.162 port=5432 dbname=emoji_db user=WizzKid password=IVapeBro\")\n",
    "cur = conn.cursor()"
   ]
  },
  {
   "cell_type": "code",
   "execution_count": 5,
   "metadata": {
    "collapsed": false
   },
   "outputs": [
    {
     "ename": "ProgrammingError",
     "evalue": "permission denied for relation emoji_map\n",
     "output_type": "error",
     "traceback": [
      "\u001b[0;31m---------------------------------------------------------------------------\u001b[0m",
      "\u001b[0;31mProgrammingError\u001b[0m                          Traceback (most recent call last)",
      "\u001b[0;32m<ipython-input-5-6d0ab89e4b0f>\u001b[0m in \u001b[0;36m<module>\u001b[0;34m()\u001b[0m\n\u001b[0;32m----> 1\u001b[0;31m \u001b[0mcur\u001b[0m\u001b[0;34m.\u001b[0m\u001b[0mexecute\u001b[0m\u001b[0;34m(\u001b[0m\u001b[0;34m\"SELECT mapjson from emoji_map limit 5;\"\u001b[0m\u001b[0;34m)\u001b[0m\u001b[0;34m\u001b[0m\u001b[0m\n\u001b[0m\u001b[1;32m      2\u001b[0m \u001b[0mresult\u001b[0m\u001b[0;34m=\u001b[0m\u001b[0mcur\u001b[0m\u001b[0;34m.\u001b[0m\u001b[0mfetchall\u001b[0m\u001b[0;34m(\u001b[0m\u001b[0;34m)\u001b[0m\u001b[0;34m\u001b[0m\u001b[0m\n",
      "\u001b[0;31mProgrammingError\u001b[0m: permission denied for relation emoji_map\n"
     ]
    }
   ],
   "source": [
    "cur.execute(\"SELECT mapjson from emoji_map limit 5;\")\n",
    "result=cur.fetchall()"
   ]
  },
  {
   "cell_type": "markdown",
   "metadata": {},
   "source": [
    "<h1> search by date time on hashtags </h1>"
   ]
  },
  {
   "cell_type": "code",
   "execution_count": null,
   "metadata": {
    "collapsed": true
   },
   "outputs": [],
   "source": [
    "start_time=datetime.datetime.now()-datetime.timedelta(hours=1)\n",
    "word=\"%#%\"\n",
    "cur.execute(\"SELECT text from tweet_dump WHERE (created_at > %s and lang='en' and text LIKE %s ) \\\n",
    "order by id DESC limit 10;\",(start_time,word))\n",
    "results=cur.fetchall()"
   ]
  },
  {
   "cell_type": "markdown",
   "metadata": {},
   "source": [
    "<h1> tweet_dump table </h1>"
   ]
  },
  {
   "cell_type": "code",
   "execution_count": null,
   "metadata": {
    "collapsed": true
   },
   "outputs": [],
   "source": [
    "cur.execute(\\\n",
    "\"CREATE TABLE tweet_dump (id serial PRIMARY KEY,\\\n",
    "    date timestamp,\\\n",
    "    created_at timestamp,\\\n",
    "    text text,\\\n",
    "    retweet_count integer,\\\n",
    "    favorite_count integer,\\\n",
    "    lang varchar(5),\\\n",
    "    geo json,\\\n",
    "    coordinates json,\\\n",
    "    time_zone varchar(40),\\\n",
    "    name varchar(40),\\\n",
    "    user_name varchar(40)\\\n",
    "    );\")\n",
    "conn.commit()"
   ]
  },
  {
   "cell_type": "markdown",
   "metadata": {},
   "source": [
    "<h1> has_emoji table tweet_id= id of tweet_dump table) </h1>"
   ]
  },
  {
   "cell_type": "code",
   "execution_count": null,
   "metadata": {
    "collapsed": false
   },
   "outputs": [],
   "source": [
    "#cur.execute(\\\n",
    "\"CREATE TABLE has_emoji (id serial PRIMARY KEY,\\\n",
    "    tweet_id integer,\\\n",
    "    has_emoji bool\\\n",
    "    );\")\n",
    "#conn.commit() #submit change to db"
   ]
  },
  {
   "cell_type": "markdown",
   "metadata": {},
   "source": [
    "<h1> emoji_tweet table (tweet_id= id of tweet_dump table) </h1>"
   ]
  },
  {
   "cell_type": "code",
   "execution_count": null,
   "metadata": {
    "collapsed": true
   },
   "outputs": [],
   "source": [
    "#cur.execute\\\n",
    "(\"CREATE TABLE emoji_tweet (id serial PRIMARY KEY,\\\n",
    "    tweet_id integer,\\\n",
    "    date timestamp,\\\n",
    "    created_at timestamp,\\\n",
    "    text text,\\\n",
    "    retweet_count integer,\\\n",
    "    favorite_count integer,\\\n",
    "    lang varchar(5),\\\n",
    "    geo json,\\\n",
    "    coordinates json,\\\n",
    "    time_zone varchar(40),\\\n",
    "    name varchar(40),\\\n",
    "    user_name varchar(40),\\\n",
    "    emojiLabel text[],\\\n",
    "    emojiLabelFaceFilter bool[],\\\n",
    "    emojiCount integer[],\\\n",
    "    emojiCountSum integer,\\\n",
    "    emojiTypes integer,\\\n",
    "    prev_word text[],\\\n",
    "    next_word text[],\\\n",
    "    prev_sentence text[],\\\n",
    "    next_sentence text[],\\\n",
    "    mostFreqWord text,\\\n",
    "    mostFreqWordCount integer,\\\n",
    "    newlineCount integer,\\\n",
    "    emojiSkinLabel text[],\\\n",
    "    emojiSkinCount integer[],\\\n",
    "    emojiSkinCountSum integer,\\\n",
    "    emojiSkinTypes integer,\\\n",
    "    emojistrLabel text[],\\\n",
    "    emojistrCount integer[],\\\n",
    "    emojistrLen integer[],\\\n",
    "    emojistrTypes integer,\\\n",
    "    emojistr_prev_word text[],\\\n",
    "    emojistr_next_word text[],\\\n",
    "    emojistr_prev_sentence text[],\\\n",
    "    emojistr_next_sentence text[],\\\n",
    "    emojiPatternLabel text[],\\\n",
    "    emojiPatternCount integer[],\\\n",
    "    emojiPatternLen integer[],\\\n",
    "    emojiPatternTypes integer\\\n",
    "    );\")\n",
    "#cur.commit()"
   ]
  },
  {
   "cell_type": "markdown",
   "metadata": {},
   "source": [
    "<h1> Example Searches </h1>"
   ]
  },
  {
   "cell_type": "markdown",
   "metadata": {},
   "source": [
    "<h3> look for regex in the tweet </h3>"
   ]
  },
  {
   "cell_type": "code",
   "execution_count": 9,
   "metadata": {
    "collapsed": false,
    "scrolled": true
   },
   "outputs": [
    {
     "name": "stdout",
     "output_type": "stream",
     "text": [
      "RT @pabebegirl16161: #메이저놀이터\n",
      "#메이저놀이터\n",
      "\n",
      "사-설-토-토-사-이-트-추-천\n",
      "\n",
      "🍆🍆 https://t.co/7IQSPOiCnq 🍆🍆 h\n",
      "✅\n",
      "✅\n",
      "✅\n",
      "✅\n",
      "✅\n",
      "✅\n",
      "✅\n",
      "✈사다리연승이벤트✈\n",
      "⚠⚠ 신규첫충10%+매일첫충10% ⚠⚠\n",
      "@a_o_ru\n",
      "謝謝那須 🍆\n",
      "Tuesday means one thing #Geordieshore 🍆🍆🍆🍆\n",
      "Online 24/7 when are u getting laid 🍆🍆💦💦💦\n",
      "RT @KingJohnnyMackG: 👑 #JMG 👑 💦 #TittyTuesday 💦\n",
      "🍒 #SweetCherryPops 🍒🍆 #BBCKings 🍆\n",
      "💪 #MrFit33 💪🏆 #TexasFinest 🏆 get 👇 with the #Squad https://t.…\n"
     ]
    }
   ],
   "source": [
    "cur.execute(\"SELECT text from emoji_tweet WHERE text LIKE '%🍆%' limit 5;\")\n",
    "result=cur.fetchall()\n",
    "for text in result:\n",
    "    print(text[0])\n",
    "#or build a list# result = [text[0] for text in cur.fetchall()]"
   ]
  },
  {
   "cell_type": "markdown",
   "metadata": {},
   "source": [
    "<h3> select on tweets with geo info (json object)...by defualt twitter users have this set off, rare ~1/20 </h3>"
   ]
  },
  {
   "cell_type": "code",
   "execution_count": null,
   "metadata": {
    "collapsed": true
   },
   "outputs": [],
   "source": [
    "#example:\n",
    "#{\"full_name\": \"Lomita, CA\", \"country\": \"United States\", \"place_type\": \"city\", \"coordinates\": [[[-118.328804, 33.774937], [-118.328804, 33.807678], [-118.306568, 33.807678], [-118.306568, 33.774937]]], \"country_code\": \"US\", \"id\": \"f2f180b090191151\", \"name\": \"Lomita\"}\n",
    "cur.execute(\"select geo from tweet_dump where geo->'full_name' IS NOT NULL order by id DESC limit 5;\")\n",
    "result=cur.fetchall()"
   ]
  },
  {
   "cell_type": "markdown",
   "metadata": {},
   "source": [
    "<h3> select time_zone info ... most tweets for have time_zone </h3>"
   ]
  },
  {
   "cell_type": "code",
   "execution_count": null,
   "metadata": {
    "collapsed": true
   },
   "outputs": [],
   "source": [
    "cur.execute(\"SELECT time_zone from tweet_dump WHERE text LIKE '%🍆%' limit 5;\")\n",
    "result=cur.fetchall()"
   ]
  },
  {
   "cell_type": "markdown",
   "metadata": {},
   "source": [
    "<h3> join table example. Find last entry analyzed by workers in has emoji and search rest of tweet_dump </h3>"
   ]
  },
  {
   "cell_type": "code",
   "execution_count": null,
   "metadata": {
    "collapsed": true
   },
   "outputs": [],
   "source": [
    "cur.execute(\"SELECT date from tweet_dump a join has_emoji b on a.id=b.tweet_id WHERE (a.date > %s and a.text != '' and b.has_emoji=True);\",last_date)\n",
    "#group by hour? SUM the case has_emoji=True and has_emoji=False\n",
    "#in pandas #EmjFraction = (1+1/df.resample(\"H\",how=['mean']))**-1 #calcuate emoji_usage fraction .... has_emoji/all_tweets"
   ]
  },
  {
   "cell_type": "code",
   "execution_count": null,
   "metadata": {
    "collapsed": true
   },
   "outputs": [],
   "source": [
    "#core number is either 0 or 1\n",
    "cur.execute(\"SELECT tweet_id from has_emoji WHERE MOD(tweet_id,2)=%s order by tweet_id DESC limit 1;\",(core_number,))#find last processed id\n",
    "last_id=cur.fetchone()\n",
    "cur.execute(\"SELECT * from tweet_dump WHERE (id>%s AND MOD(id,2)=%s) LIMIT 10000;\",(last_id,core_number)) a=cur.fetchall()\n",
    "len(a)"
   ]
  },
  {
   "cell_type": "code",
   "execution_count": null,
   "metadata": {
    "collapsed": true
   },
   "outputs": [],
   "source": []
  },
  {
   "cell_type": "markdown",
   "metadata": {},
   "source": [
    "<h3> select on art </h3>"
   ]
  },
  {
   "cell_type": "code",
   "execution_count": null,
   "metadata": {
    "collapsed": true
   },
   "outputs": [],
   "source": [
    "cur.execute(\"SELECT text from emoji_tweet WHERE (emojiCountSum > 30) order by random() limit 40;\")\n",
    "result=[text[0] for text in cur.fetchall()]"
   ]
  },
  {
   "cell_type": "markdown",
   "metadata": {},
   "source": [
    "<h1> Search for skin tone info </h1>"
   ]
  },
  {
   "cell_type": "code",
   "execution_count": null,
   "metadata": {
    "collapsed": true
   },
   "outputs": [],
   "source": [
    "\"SELECT T.Label,SUM(T.Freq) as TFreq From (SELECT unnest(emojiSkinLabel) as Label, unnest(emojiSkinCount) as Freq FROM emoji_tweet WHERE (emojiSkinCountSum>0 AND LOWER(text) LIKE '%beach%')) as T group by T.Label order by TFreq DESC;\""
   ]
  },
  {
   "cell_type": "markdown",
   "metadata": {},
   "source": [
    "<h1> Used on website </h1>"
   ]
  },
  {
   "cell_type": "code",
   "execution_count": null,
   "metadata": {
    "collapsed": true
   },
   "outputs": [],
   "source": [
    "#most freq emoji, count all:\n",
    "\"SELECT T.Label,SUM(T.Freq) as TFreq From (SELECT unnest(emojiLabel) as Label, unnest(emojiCount) as Freq FROM emoji_tweet WHERE (LOWER(text) LIKE '% %')) as T group by T.Label order by TFreq DESC limit 15;\"\n",
    "#with the face filter:\n",
    "\"SELECT T.Label,SUM(T.Freq) as TFreq From (SELECT unnest(emojiLabel) as Label, unnest(emojiCount) as Freq, unnest(emojiLabelFaceFilter) as FF FROM emoji_tweet WHERE (LOWER(text) LIKE '% %')) as T WHERE(T.FF is True) group by T.Label order by TFreq DESC limit 15;\"\n",
    "\n",
    "#select emoji str\n",
    "\"SELECT T.Label,SUM(T.Freq) as TFreq From (SELECT unnest(emojistrLabel) as Label, unnest(emojistrCount) as Freq FROM emoji_tweet WHERE (LOWER(text) LIKE '% %')) as T group by T.Label order by TFreq DESC limit 15;\"\n",
    "#with FaceFilter on emojiLabel:\n",
    "\"SELECT T.Label,SUM(T.Freq) as TFreq From (SELECT unnest(emojistrLabel) as Label, unnest(emojistrCount) as Freq, unnest(emojiLabelFaceFilter) as FF FROM emoji_tweet WHERE (LOWER(text) LIKE '% %')) as T WHERE(FF is True) group by T.Label order by TFreq DESC limit 15;\"\n",
    "#cut all tweets with a face: #the cut happens after groupy so it's not quite accurate\n",
    "\"SELECT T.Label,SUM(T.Freq) as TFreq,bool_and(T.FF) as prodFF From (SELECT unnest(emojistrLabel) as Label, unnest(emojistrCount) as Freq, unnest(emojiLabelFaceFilter) as FF FROM emoji_tweet WHERE (LOWER(text) LIKE '% %')) as T group by T.Label  HAVING(bool_and(FF) is True) order by TFreq DESC limit 15;\"\n",
    "#cut all tweets with face... should be faster, using: NOT (emojiLabelFaceFilter @> ARRAY[False])\n",
    "\"SELECT T.Label,SUM(T.Freq) as TFreq From (SELECT unnest(emojistrLabel) as Label, unnest(emojistrCount) as Freq FROM emoji_tweet WHERE (emojistrTypes>0 AND LOWER(text) LIKE '% %' and NOT(emojiLabelFaceFilter @> ARRAY[False]))) as T group by T.Label order by TFreq DESC limit 15;\"\n",
    "\n",
    "\n",
    "#select emojiPattern\n",
    "\"SELECT T.Label,SUM(T.Freq) as TFreq From (SELECT unnest(emojiPatternLabel) as Label, unnest(emojiPatternCount) as Freq FROM emoji_tweet WHERE (LOWER(text) LIKE '% %')) as T group by T.Label order by TFreq DESC limit 15;\"\n",
    "\n",
    "#Select ALL\n",
    "\"SELECT T.Label,SUM(T.Freq) as TFreq From (SELECT unnest(array_cat(emojiLabel,array_cat(emojistrLabel,emojiPatternLabel))) as Label, unnest(array_cat(emojiCount,array_cat(emojistrCount,emojiPatternCount))) as Freq FROM emoji_tweet WHERE (LOWER(text) LIKE '%dog%')) as T group by T.Label order by TFreq DESC limit 15;\""
   ]
  },
  {
   "cell_type": "markdown",
   "metadata": {},
   "source": [
    "<h1> Group by time_zone </h1>"
   ]
  },
  {
   "cell_type": "code",
   "execution_count": null,
   "metadata": {
    "collapsed": true
   },
   "outputs": [],
   "source": [
    "SELECT Q.zone, Q.maximum, label FROM ((SELECT zone, MAX(tfreq) as maximum from (SELECT T.zone, T.Label,SUM(T.Freq) as TFreq From (SELECT time_zone as zone, unnest(emojiLabel) as Label, unnest(emojiCount) as Freq FROM emoji_tweet WHERE (LOWER(text) LIKE '% %')) as T group by T.zone,T.Label) as F group by zone order by maximum DESC limit 15) as Q join (SELECT T.zone, T.Label,SUM(T.Freq) as TFreq From (SELECT time_zone as zone, unnest(emojiLabel) as Label, unnest(emojiCount) as Freq FROM emoji_tweet WHERE (LOWER(text) LIKE '% %')) as T group by T.zone,T.Label) as R on Q.maximum=R.tfreq) order by Q.maximum DESC;"
   ]
  }
 ],
 "metadata": {
  "kernelspec": {
   "display_name": "Python 2",
   "language": "python",
   "name": "python2"
  },
  "language_info": {
   "codemirror_mode": {
    "name": "ipython",
    "version": 2
   },
   "file_extension": ".py",
   "mimetype": "text/x-python",
   "name": "python",
   "nbconvert_exporter": "python",
   "pygments_lexer": "ipython2",
   "version": "2.7.11"
  }
 },
 "nbformat": 4,
 "nbformat_minor": 0
}
