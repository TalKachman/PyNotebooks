{
 "cells": [
  {
   "cell_type": "code",
   "execution_count": 39,
   "metadata": {
    "collapsed": false
   },
   "outputs": [],
   "source": [
    "def edit_distance(str1,str2, i=-1, j=-1 ):\n",
    "    if (len(str1)==0):\n",
    "        return len(str2)\n",
    "    if (len(str2)==0):\n",
    "        return len(str1)\n",
    "    \n",
    "    if i == -1:\n",
    "        i=len(str1)-1\n",
    "    if j == -1:\n",
    "        j=len(str2)-1\n",
    "        \n",
    "    if i == 0:\n",
    "        return j\n",
    "    elif j == 0:\n",
    "        return i\n",
    "    elif  str1[i]==str2[j]:\n",
    "        return edit_distance(str1,str2, i-1, j-1 )\n",
    "    elif str1[i]!=str2[j]:\n",
    "        return min(edit_distance(str1,str2, i-1, j-1 ),edit_distance(str1,str2, i, j-1 ),edit_distance(str1,str2, i-1, j))+1\n",
    "    \n",
    "    "
   ]
  },
  {
   "cell_type": "code",
   "execution_count": 40,
   "metadata": {
    "collapsed": false
   },
   "outputs": [
    {
     "data": {
      "text/plain": [
       "[[0, 1, 2, 3, 4, 5, 6, 7],\n",
       " [1, 1, 2, 2, 3, 4, 5, 6],\n",
       " [2, 2, 2, 3, 3, 4, 5, 6],\n",
       " [3, 3, 3, 3, 4, 3, 4, 5],\n",
       " [4, 3, 4, 4, 4, 4, 3, 4],\n",
       " [5, 4, 4, 5, 5, 5, 4, 3]]"
      ]
     },
     "execution_count": 40,
     "metadata": {},
     "output_type": "execute_result"
    }
   ],
   "source": [
    "[[edit_distance('Saturday','Sunday',i,j) for i in range(len('Saturday'))] for j in range(len('Sunday'))]"
   ]
  },
  {
   "cell_type": "code",
   "execution_count": 43,
   "metadata": {
    "collapsed": false
   },
   "outputs": [
    {
     "data": {
      "text/plain": [
       "3"
      ]
     },
     "execution_count": 43,
     "metadata": {},
     "output_type": "execute_result"
    }
   ],
   "source": [
    "edit_distance('','AAA')"
   ]
  },
  {
   "cell_type": "markdown",
   "metadata": {},
   "source": [
    "<h1> change example </h1>"
   ]
  },
  {
   "cell_type": "code",
   "execution_count": 76,
   "metadata": {
    "collapsed": false
   },
   "outputs": [],
   "source": [
    "def make_it_rain(val,coins=[1,3,9,10]):\n",
    "    coins.sort()\n",
    "    coins.reverse()\n",
    "    if val in coins:\n",
    "        return val\n",
    "    if val == 0:\n",
    "        return 0\n",
    "    \n",
    "    change = []\n",
    "    #go through all the coins to make change\n",
    "    while val != 0:\n",
    "        for ii, coin in enumerate(coins):\n",
    "            if val >= coin:\n",
    "                change.append(coin)\n",
    "                val = val-coin\n",
    "    return change\n",
    "    \n",
    "    "
   ]
  },
  {
   "cell_type": "code",
   "execution_count": 77,
   "metadata": {
    "collapsed": false
   },
   "outputs": [
    {
     "data": {
      "text/plain": [
       "[10, 3, 1, 1]"
      ]
     },
     "execution_count": 77,
     "metadata": {},
     "output_type": "execute_result"
    }
   ],
   "source": [
    "make_it_rain(15)"
   ]
  },
  {
   "cell_type": "code",
   "execution_count": 84,
   "metadata": {
    "collapsed": false
   },
   "outputs": [],
   "source": [
    "def make_it_rain(val,coins=[1,3,9,10]):\n",
    "    coins.sort()\n",
    "    coins.reverse()\n",
    "    if val in coins:\n",
    "        return 1\n",
    "    if val == 0:\n",
    "        return 0\n",
    "    if val <0:\n",
    "        return 1000\n",
    "    else:\n",
    "        return min(make_it_rain(val-coins[0]), make_it_rain(val-coins[1]),make_it_rain(val-coins[2]) \\\n",
    "                   ,make_it_rain(val-coins[3]))  +1\n",
    "    \n",
    "    \n",
    "    \n",
    "    #change = []\n",
    "    #go through all the coins to make change\n",
    "    #while val != 0:\n",
    "    #    for ii, coin in enumerate(coins):\n",
    "    #        if val >= coin:\n",
    "    #            change.append(coin)\n",
    "    #            val = val-coin\n",
    "    #return change"
   ]
  },
  {
   "cell_type": "code",
   "execution_count": 86,
   "metadata": {
    "collapsed": false
   },
   "outputs": [
    {
     "data": {
      "text/plain": [
       "3"
      ]
     },
     "execution_count": 86,
     "metadata": {},
     "output_type": "execute_result"
    }
   ],
   "source": [
    "make_it_rain(15)"
   ]
  },
  {
   "cell_type": "code",
   "execution_count": null,
   "metadata": {
    "collapsed": true
   },
   "outputs": [],
   "source": []
  }
 ],
 "metadata": {
  "kernelspec": {
   "display_name": "Python 2",
   "language": "python",
   "name": "python2"
  },
  "language_info": {
   "codemirror_mode": {
    "name": "ipython",
    "version": 2
   },
   "file_extension": ".py",
   "mimetype": "text/x-python",
   "name": "python",
   "nbconvert_exporter": "python",
   "pygments_lexer": "ipython2",
   "version": "2.7.11"
  }
 },
 "nbformat": 4,
 "nbformat_minor": 0
}
