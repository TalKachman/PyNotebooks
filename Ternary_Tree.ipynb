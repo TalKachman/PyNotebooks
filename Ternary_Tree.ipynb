{
 "cells": [
  {
   "cell_type": "code",
   "execution_count": 57,
   "metadata": {
    "collapsed": true
   },
   "outputs": [],
   "source": [
    "class node:\n",
    "    \n",
    "    def __init__(self): #always initialize to this value when class istance is defined\n",
    "        self.key= None\n",
    "        self.value= None\n",
    "        self.LN = None\n",
    "        self.RN = None\n",
    "        self.MN = None\n",
    "        self.char = None\n",
    "        self.value = None"
   ]
  },
  {
   "cell_type": "code",
   "execution_count": 104,
   "metadata": {
    "collapsed": false
   },
   "outputs": [],
   "source": [
    "class TST:\n",
    "    def __init__(self):\n",
    "        self.rootNode=node()\n",
    "    def put_item(self,c,val, current_node, end=False):\n",
    "        if current_node.char==None:\n",
    "            current_node.MN=node()\n",
    "            current_node.char=c            \n",
    "        if c == current_node.char:\n",
    "            if end is True:\n",
    "                return current_node\n",
    "            elif (current_node.MN==None):\n",
    "                current_node.MN=node()\n",
    "                return current_node.MN\n",
    "            else:\n",
    "                return current_node.MN\n",
    "        elif c < current_node.char:\n",
    "            if current_node.LN==None:\n",
    "                current_node.LN=node()\n",
    "            return self.put_item(c,val,current_node.LN)\n",
    "        elif c > current_node.char:\n",
    "            if current_node.RN==None:\n",
    "                current_node.RN=node()\n",
    "            return self.put_item(c,val,current_node)\n",
    "        \n",
    "    def put(self,key,val):\n",
    "        current_node=self.rootNode\n",
    "        last=len(key)\n",
    "        end=False\n",
    "        \n",
    "        for ii, c in enumerate(key):\n",
    "            if ii==last:\n",
    "                end=True\n",
    "            current_node= self.put_item(c,val,current_node, end)\n",
    "        current_node.value=val\n",
    "    \n",
    "    def getItem(self, c, current_node,end=False):\n",
    "        if current_node==None:\n",
    "            return current_node\n",
    "        elif ((c == current_node.char) & (end is True)):\n",
    "            return current_node\n",
    "        elif (c == current_node.char):\n",
    "            return current_node.MN\n",
    "        elif c < current_node.char:\n",
    "            return self.getItem(c,current_node.LN,end)\n",
    "        elif c > current_node.char:\n",
    "            return self.getItem(c,current_node.RN,end)\n",
    "\n",
    "        \n",
    "    def get(self,key):\n",
    "        current_node=self.rootNode\n",
    "        last=len(key)\n",
    "        end=False\n",
    "        \n",
    "        for ii,c in enumerate(key):\n",
    "            if ii==last:\n",
    "                end=True\n",
    "            if current_node==None:\n",
    "                break\n",
    "            else:\n",
    "                current_node=self.getItem(c,current_node,end)\n",
    "                \n",
    "        if current_node==None:\n",
    "            print 'Invalid Key'\n",
    "            current_node=node()\n",
    "            current_node.value=None\n",
    "        if current_node.value==None:\n",
    "            print 'Invalid Key'\n",
    "        return current_node.value         "
   ]
  },
  {
   "cell_type": "code",
   "execution_count": null,
   "metadata": {
    "collapsed": true
   },
   "outputs": [],
   "source": []
  },
  {
   "cell_type": "code",
   "execution_count": 105,
   "metadata": {
    "collapsed": false
   },
   "outputs": [],
   "source": [
    "T=TST()"
   ]
  },
  {
   "cell_type": "code",
   "execution_count": 110,
   "metadata": {
    "collapsed": false,
    "scrolled": true
   },
   "outputs": [],
   "source": [
    "T.put('',10)"
   ]
  },
  {
   "cell_type": "code",
   "execution_count": 111,
   "metadata": {
    "collapsed": false
   },
   "outputs": [
    {
     "data": {
      "text/plain": [
       "10"
      ]
     },
     "execution_count": 111,
     "metadata": {},
     "output_type": "execute_result"
    }
   ],
   "source": [
    "T.get('')"
   ]
  },
  {
   "cell_type": "code",
   "execution_count": 113,
   "metadata": {
    "collapsed": false
   },
   "outputs": [
    {
     "name": "stdout",
     "output_type": "stream",
     "text": [
      " \n",
      "l\n"
     ]
    }
   ],
   "source": [
    "for c in ' l':\n",
    "    print c"
   ]
  },
  {
   "cell_type": "code",
   "execution_count": null,
   "metadata": {
    "collapsed": true
   },
   "outputs": [],
   "source": []
  }
 ],
 "metadata": {
  "kernelspec": {
   "display_name": "Python 2",
   "language": "python",
   "name": "python2"
  },
  "language_info": {
   "codemirror_mode": {
    "name": "ipython",
    "version": 2
   },
   "file_extension": ".py",
   "mimetype": "text/x-python",
   "name": "python",
   "nbconvert_exporter": "python",
   "pygments_lexer": "ipython2",
   "version": "2.7.11"
  }
 },
 "nbformat": 4,
 "nbformat_minor": 0
}
