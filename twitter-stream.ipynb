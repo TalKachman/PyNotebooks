{
 "cells": [
  {
   "cell_type": "code",
   "execution_count": 7,
   "metadata": {
    "collapsed": false
   },
   "outputs": [],
   "source": [
    "import json\n",
    "import twitter\n",
    "from twitter import Twitter, OAuth, TwitterHTTPError, TwitterStream, auth\n",
    "import pandas as pd\n",
    "import re, collections\n",
    "import time\n",
    "CONSUMER_KEY = 'JJNPMPuZubIrFIqDNARJRDPDb'\n",
    "CONSUMER_SECRET = 'd6MlAqrJFcdyJac9aCQpBHPbwGs5eJB8zkTn5wA3tqBLHZgw0b'\n",
    "OAUTH_TOKEN = '3229899732-piSMFy32Vi0VSyXJX8R9y2qrkr0piesoHXBdI3v'\n",
    "OAUTH_TOKEN_SECRET = 'Jq9oTRMUjHRgA7NkJLLHIEyjtCRhYiFHdWkpBw28IBtHG'\n",
    "\n",
    "#read emoji codes:\n",
    "emoji_key = pd.read_excel('/Users/attiladobi/Documents/emoji_list.xlsx', encoding='utf-8', index_col=0, skiprows=1)\n",
    "emj_codes=[code for code in emoji_key['Unicode'] if code!=\"Browser\" if sum([c==\"*\" for c in code])==0]\n",
    "\n",
    "def get_keys(tweet):\n",
    "    max_index=0\n",
    "    max_count=len(tweet['statuses'][max_index].keys())\n",
    "    \n",
    "    for ii in range(len(tweet['statuses'])):\n",
    "        if max_count < len(tweet['statuses'][ii].keys()):\n",
    "            max_index=ii\n",
    "            \n",
    "    return tweet['statuses'][max_index].keys()\n",
    "\n",
    "def print_tweets_w_emj(T_DF,num=0):\n",
    "    for item in T_DF['text'][T_DF['emjSum']>=num]:\n",
    "        print(item)\n",
    "        \n",
    "def make_twitter_DF(tweet): #create PD dataframe\n",
    "    columns=get_keys(tweet)\n",
    "    for ii in range(len(tweet['statuses'])): \n",
    "        diff= list(set(columns)-set(tweet['statuses'][ii].keys()))\n",
    "        for val in diff:\n",
    "            tweet['statuses'][ii][val]=\"\"\n",
    "    return pd.DataFrame([tweet['statuses'][ii] for ii in range(len(tweet['statuses']))], columns=get_keys(tweet)) \n",
    "\n",
    "def Search_Word(q):\n",
    "    # Initiate the connection to Twitter REST API\n",
    "    twitter = Twitter(auth=OAuth( OAUTH_TOKEN, OAUTH_TOKEN_SECRET, CONSUMER_KEY,  CONSUMER_SECRET))       \n",
    "    tweet= twitter.search.tweets(q=q,lang='en', result_type='recent',count=200)\n",
    "    T_DF=make_twitter_DF(tweet)\n",
    "    \n",
    "    #long search function, more than 100\n",
    "    #T_DF=long_search(twitter,q,300)\n",
    "    \n",
    "    T_DF['emjText']=[[(emcode, len(re.findall(emcode,T_DF['text'][ii]))) for emcode in emj_codes\\\n",
    "                      if (len(re.findall(emcode,T_DF['text'][ii])) > 0)] for ii in range(len(T_DF))]\n",
    "    T_DF['emjSum']=[sum([item[1] for item in T_DF['emjText'][ii]]) for ii in range(len(T_DF))]\n",
    "    T_DF['emjTypes']=[len(T_DF['emjText'][ii]) for ii in range(len(T_DF))]\n",
    "    T_DF['searchWordSum']=[len(re.findall(q,T_DF['text'][ii].lower())) for ii in range(len(T_DF))]\n",
    "    return T_DF\n",
    "\n",
    "def Analyze_Freq(T_DF,emj_per_tweet=1,rep_emj_per_tweet=1, emj_types_per_tweet=1, nword=0):\n",
    "    DFcut=T_DF[(T_DF['emjSum']>=emj_per_tweet) & (T_DF['searchWordSum']>=nword) \\\n",
    "               & (T_DF['emjTypes']>=emj_types_per_tweet)] \n",
    "    \n",
    "    S=dict()\n",
    "    for key, value in sum(DFcut['emjText'],[]):\n",
    "        if value>=rep_emj_per_tweet:\n",
    "            try:\n",
    "                S[key] +=value\n",
    "            except KeyError:\n",
    "                S[key]=value\n",
    "        \n",
    "    return pd.DataFrame([(key,S[key]) for key in S],columns=('emoji','freq'))\n",
    "\n",
    "def count_words(text):\n",
    "    S = collections.defaultdict(lambda:0)\n",
    "    for word in text.split():\n",
    "        S[word.lower()]+=1\n",
    "    return max(S, key=S.get), S[max(S, key=S.get)]"
   ]
  },
  {
   "cell_type": "markdown",
   "metadata": {},
   "source": [
    "<h1> Code to stream twitter and filter on emoji </h1>"
   ]
  },
  {
   "cell_type": "code",
   "execution_count": 17,
   "metadata": {
    "collapsed": false
   },
   "outputs": [],
   "source": [
    "def tweet_stream():\n",
    "    twitter_stream = TwitterStream(domain='stream.twitter.com', auth=OAuth( OAUTH_TOKEN, OAUTH_TOKEN_SECRET, CONSUMER_KEY,  CONSUMER_SECRET))\n",
    "    iterator = twitter_stream.statuses.sample() #track='dance', language=\"en\"\n",
    "    return iterator"
   ]
  },
  {
   "cell_type": "code",
   "execution_count": 9,
   "metadata": {
    "collapsed": true
   },
   "outputs": [],
   "source": [
    "columns = ['created_at', 'text', 'retweet_count', 'favorite_count', 'lang','geo', 'coordinates', \\\n",
    "           'emjText', 'emjCount','emjTypes','mostFreqEmoji','mostFreqEmojiCount','mostFreqWord','mostFreqWordCount']\n",
    "df= pd.DataFrame(columns=columns)"
   ]
  },
  {
   "cell_type": "code",
   "execution_count": 10,
   "metadata": {
    "collapsed": false
   },
   "outputs": [],
   "source": [
    "#if ('hangup' in tweet.keys()): ... connect again\n",
    "\n",
    "def mine_for_emojis(iterator=tweet_stream()):\n",
    "    tweet_count = 100\n",
    "    for tweet in iterator:\n",
    "        if ('text' in tweet.keys()):\n",
    "\n",
    "            emjText=[(emcode, len(re.findall(emcode,tweet['text']))) for emcode in emj_codes\\\n",
    "                              if (len(re.findall(emcode,tweet['text'])) > 0)]\n",
    "\n",
    "            if len(emjText) >0:\n",
    "                tweet_count -= 1\n",
    "\n",
    "                emjCount=sum([item[1] for item in emjText])\n",
    "                emjTypes = len(emjText)\n",
    "                a=np.array(emjText)\n",
    "                mostFreqEmoji = a[np.argsort(a[:, 1])][-1][0]\n",
    "                mostFreqEmojiCount = int(a[np.argsort(a[:, 1])][-1][1])\n",
    "                mostFreqWord, mostFreqWordCount = count_words(tweet['text'])\n",
    "\n",
    "                df.loc[len(df)] = [tweet['created_at'], tweet['text'], tweet['retweet_count'], tweet['favorite_count'], \\\n",
    "                                   tweet['lang'],tweet['geo'], tweet['coordinates'], \\\n",
    "                                   emjText, emjCount,emjTypes,mostFreqEmoji, mostFreqEmojiCount, mostFreqWord, mostFreqWordCount]\n",
    "\n",
    "                print(tweet['text'])\n",
    "\n",
    "            if tweet_count <= 0:\n",
    "                break\n",
    "        else:\n",
    "            print('hungup')\n",
    "            time.sleep(30)\n",
    "            mine_for_emojis()\n"
   ]
  },
  {
   "cell_type": "code",
   "execution_count": 37,
   "metadata": {
    "collapsed": false
   },
   "outputs": [
    {
     "name": "stdout",
     "output_type": "stream",
     "text": [
      "{u'favorited': False, u'contributors': None, u'truncated': False, u'text': u'RT @elbidondebranco: Jugando asi San Lorenzo no solo no merece pasar de ronda, merece descender.', u'is_quote_status': False, u'in_reply_to_status_id': None, u'user': {u'follow_request_sent': None, u'profile_use_background_image': True, u'default_profile_image': False, u'id': 2774331967, u'verified': False, u'profile_image_url_https': u'https://pbs.twimg.com/profile_images/686960308456390656/WHHfkEVd_normal.jpg', u'profile_sidebar_fill_color': u'000000', u'profile_text_color': u'000000', u'followers_count': 3437, u'profile_sidebar_border_color': u'000000', u'id_str': u'2774331967', u'profile_background_color': u'000000', u'listed_count': 10, u'profile_background_image_url_https': u'https://pbs.twimg.com/profile_background_images/618530923831648257/Q5LUlydG.jpg', u'utc_offset': -10800, u'statuses_count': 15104, u'description': u'Fuerza de choque del movimiento Fantinista Argentino Revolucionario.\\nDel humo venimos y hacia el Lord vamos.\\nHUMO O MUERTE!', u'friends_count': 986, u'location': None, u'profile_link_color': u'3B94D9', u'profile_image_url': u'http://pbs.twimg.com/profile_images/686960308456390656/WHHfkEVd_normal.jpg', u'following': None, u'geo_enabled': True, u'profile_banner_url': u'https://pbs.twimg.com/profile_banners/2774331967/1432593025', u'profile_background_image_url': u'http://pbs.twimg.com/profile_background_images/618530923831648257/Q5LUlydG.jpg', u'name': u'F . A . R', u'lang': u'es', u'profile_background_tile': True, u'favourites_count': 8949, u'screen_name': u'FantinistasARG', u'notifications': None, u'url': u'http://facebook.com/groups/guerrerosdefantino', u'created_at': u'Wed Aug 27 19:24:27 +0000 2014', u'contributors_enabled': False, u'time_zone': u'Buenos Aires', u'protected': False, u'default_profile': False, u'is_translator': False}, u'filter_level': u'low', u'geo': None, u'id': 720054505203757057, u'favorite_count': 0, u'lang': u'es', u'retweeted_status': {u'contributors': None, u'truncated': False, u'text': u'Jugando asi San Lorenzo no solo no merece pasar de ronda, merece descender.', u'is_quote_status': False, u'in_reply_to_status_id': None, u'id': 720054358969348096, u'favorite_count': 1, u'source': u'<a href=\"http://twitter.com\" rel=\"nofollow\">Twitter Web Client</a>', u'retweeted': False, u'coordinates': None, u'entities': {u'user_mentions': [], u'symbols': [], u'hashtags': [], u'urls': []}, u'in_reply_to_screen_name': None, u'id_str': u'720054358969348096', u'retweet_count': 1, u'in_reply_to_user_id': None, u'favorited': False, u'user': {u'follow_request_sent': None, u'profile_use_background_image': True, u'default_profile_image': False, u'id': 3308743257, u'verified': False, u'profile_image_url_https': u'https://pbs.twimg.com/profile_images/667745056669966336/HPabRY_k_normal.jpg', u'profile_sidebar_fill_color': u'000000', u'profile_text_color': u'000000', u'followers_count': 2232, u'profile_sidebar_border_color': u'000000', u'id_str': u'3308743257', u'profile_background_color': u'4A913C', u'listed_count': 10, u'profile_background_image_url_https': u'https://pbs.twimg.com/profile_background_images/635443310199484416/WxOwcvDR.png', u'utc_offset': -25200, u'statuses_count': 3698, u'description': u'La vida: Esa experiencia l\\xedquida que sucede dentro de El Bid\\xf3n de Branco', u'friends_count': 188, u'location': None, u'profile_link_color': u'4A913C', u'profile_image_url': u'http://pbs.twimg.com/profile_images/667745056669966336/HPabRY_k_normal.jpg', u'following': None, u'geo_enabled': False, u'profile_banner_url': u'https://pbs.twimg.com/profile_banners/3308743257/1448055394', u'profile_background_image_url': u'http://pbs.twimg.com/profile_background_images/635443310199484416/WxOwcvDR.png', u'name': u'El Bid\\xf3n de Branco', u'lang': u'es', u'profile_background_tile': True, u'favourites_count': 2010, u'screen_name': u'elbidondebranco', u'notifications': None, u'url': u'https://www.facebook.com/elbidondebranco', u'created_at': u'Fri Jun 05 00:33:09 +0000 2015', u'contributors_enabled': False, u'time_zone': u'Pacific Time (US & Canada)', u'protected': False, u'default_profile': False, u'is_translator': False}, u'geo': None, u'in_reply_to_user_id_str': None, u'lang': u'es', u'created_at': u'Wed Apr 13 01:01:51 +0000 2016', u'filter_level': u'low', u'in_reply_to_status_id_str': None, u'place': None}, u'entities': {u'user_mentions': [{u'id': 3308743257, u'indices': [3, 19], u'id_str': u'3308743257', u'screen_name': u'elbidondebranco', u'name': u'El Bid\\xf3n de Branco'}], u'symbols': [], u'hashtags': [], u'urls': []}, u'in_reply_to_user_id_str': None, u'retweeted': False, u'coordinates': None, u'timestamp_ms': u'1460509346663', u'source': u'<a href=\"http://twitter.com\" rel=\"nofollow\">Twitter Web Client</a>', u'in_reply_to_status_id_str': None, u'in_reply_to_screen_name': None, u'id_str': u'720054505203757057', u'place': None, u'retweet_count': 0, u'created_at': u'Wed Apr 13 01:02:26 +0000 2016', u'in_reply_to_user_id': None}\n",
      "{u'favorited': False, u'contributors': None, u'truncated': False, u'text': u\"Hey, #NewYork!  #Bernie's your man...he's the only candidate interested in real, progressive, positive change.  #Bernie2016 !!! #NYPrimary\", u'is_quote_status': False, u'in_reply_to_status_id': None, u'user': {u'follow_request_sent': None, u'profile_use_background_image': True, u'default_profile_image': False, u'id': 15639786, u'verified': False, u'profile_image_url_https': u'https://pbs.twimg.com/profile_images/2908859154/2fb357bd2d7c879d55b7285f3105c22d_normal.png', u'profile_sidebar_fill_color': u'FFF7CC', u'profile_text_color': u'0C1153', u'followers_count': 3631, u'profile_sidebar_border_color': u'F2E195', u'id_str': u'15639786', u'profile_background_color': u'BADFCD', u'listed_count': 278, u'profile_background_image_url_https': u'https://pbs.twimg.com/profile_background_images/77284320/Raindropsw1444h1385Seamless.jpg', u'utc_offset': -21600, u'statuses_count': 69019, u'description': u'photographer/atheist/Obamaist/pro-choice/pro complete separation of church & state/anti-idiot/will block anyone who wastes my time/German speaker /lwdgrfx.com', u'friends_count': 4134, u'location': u'Jackson,MS', u'profile_link_color': u'0E164A', u'profile_image_url': u'http://pbs.twimg.com/profile_images/2908859154/2fb357bd2d7c879d55b7285f3105c22d_normal.png', u'following': None, u'geo_enabled': True, u'profile_banner_url': u'https://pbs.twimg.com/profile_banners/15639786/1398311327', u'profile_background_image_url': u'http://pbs.twimg.com/profile_background_images/77284320/Raindropsw1444h1385Seamless.jpg', u'name': u'Lucian Dixon', u'lang': u'en', u'profile_background_tile': True, u'favourites_count': 67, u'screen_name': u'lwdgrfx', u'notifications': None, u'url': u'http://thepoliticalcarnival.net', u'created_at': u'Tue Jul 29 00:36:09 +0000 2008', u'contributors_enabled': False, u'time_zone': u'Central America', u'protected': False, u'default_profile': False, u'is_translator': False}, u'filter_level': u'low', u'geo': None, u'id': 720054505211977728, u'favorite_count': 0, u'lang': u'en', u'entities': {u'user_mentions': [], u'symbols': [], u'hashtags': [{u'indices': [5, 13], u'text': u'NewYork'}, {u'indices': [16, 23], u'text': u'Bernie'}, {u'indices': [112, 123], u'text': u'Bernie2016'}, {u'indices': [128, 138], u'text': u'NYPrimary'}], u'urls': []}, u'in_reply_to_user_id_str': None, u'retweeted': False, u'coordinates': None, u'timestamp_ms': u'1460509346665', u'source': u'<a href=\"http://twitter.com\" rel=\"nofollow\">Twitter Web Client</a>', u'in_reply_to_status_id_str': None, u'in_reply_to_screen_name': None, u'id_str': u'720054505211977728', u'place': None, u'retweet_count': 0, u'created_at': u'Wed Apr 13 01:02:26 +0000 2016', u'in_reply_to_user_id': None}\n",
      "{u'favorited': False, u'contributors': None, u'truncated': False, u'text': u'Well deserved lovely\\U0001f618 https://t.co/ubbUbUjOPM', u'possibly_sensitive': False, u'is_quote_status': True, u'in_reply_to_status_id': None, u'user': {u'follow_request_sent': None, u'profile_use_background_image': True, u'default_profile_image': False, u'id': 3061414609, u'verified': False, u'profile_image_url_https': u'https://pbs.twimg.com/profile_images/719962355963076608/ihSeigcE_normal.jpg', u'profile_sidebar_fill_color': u'DDEEF6', u'profile_text_color': u'333333', u'followers_count': 1070, u'profile_sidebar_border_color': u'C0DEED', u'id_str': u'3061414609', u'profile_background_color': u'C0DEED', u'listed_count': 7, u'profile_background_image_url_https': u'https://abs.twimg.com/images/themes/theme1/bg.png', u'utc_offset': None, u'statuses_count': 14186, u'description': u'Snapchat : lastsaiga', u'friends_count': 728, u'location': u'Otara, Auckland City', u'profile_link_color': u'0084B4', u'profile_image_url': u'http://pbs.twimg.com/profile_images/719962355963076608/ihSeigcE_normal.jpg', u'following': None, u'geo_enabled': True, u'profile_banner_url': u'https://pbs.twimg.com/profile_banners/3061414609/1460489834', u'profile_background_image_url': u'http://abs.twimg.com/images/themes/theme1/bg.png', u'name': u'emz_west', u'lang': u'en', u'profile_background_tile': False, u'favourites_count': 3574, u'screen_name': u'emz_west', u'notifications': None, u'url': u'https://vanishedtruth.wordpress.com', u'created_at': u'Wed Mar 04 13:07:32 +0000 2015', u'contributors_enabled': False, u'time_zone': None, u'protected': False, u'default_profile': True, u'is_translator': False}, u'filter_level': u'low', u'quoted_status_id_str': u'720052011421421568', u'geo': None, u'id': 720054505211973633, u'favorite_count': 0, u'lang': u'en', u'source': u'<a href=\"http://twitter.com/download/iphone\" rel=\"nofollow\">Twitter for iPhone</a>', u'in_reply_to_user_id_str': None, u'quoted_status_id': 720052011421421568, u'retweeted': False, u'coordinates': None, u'timestamp_ms': u'1460509346665', u'quoted_status': {u'contributors': None, u'truncated': False, u'text': u'Yes! Promoted to a better role at work. Major increase to my salary. Gahhhh #Happy #GodIsSoGood', u'is_quote_status': False, u'in_reply_to_status_id': None, u'id': 720052011421421568, u'favorite_count': 0, u'source': u'<a href=\"http://twitter.com/download/iphone\" rel=\"nofollow\">Twitter for iPhone</a>', u'retweeted': False, u'coordinates': None, u'entities': {u'user_mentions': [], u'symbols': [], u'hashtags': [{u'indices': [76, 82], u'text': u'Happy'}, {u'indices': [83, 95], u'text': u'GodIsSoGood'}], u'urls': []}, u'in_reply_to_screen_name': None, u'id_str': u'720052011421421568', u'retweet_count': 0, u'in_reply_to_user_id': None, u'favorited': False, u'user': {u'follow_request_sent': None, u'profile_use_background_image': True, u'default_profile_image': False, u'id': 707744738317721600, u'verified': False, u'profile_image_url_https': u'https://pbs.twimg.com/profile_images/707745020615393281/EEWmLp0h_normal.jpg', u'profile_sidebar_fill_color': u'DDEEF6', u'profile_text_color': u'333333', u'followers_count': 112, u'profile_sidebar_border_color': u'C0DEED', u'id_str': u'707744738317721600', u'profile_background_color': u'F5F8FA', u'listed_count': 0, u'profile_background_image_url_https': u'', u'utc_offset': None, u'statuses_count': 150, u'description': u\"I'm too swift on my toes to get caught up with you hoes\", u'friends_count': 139, u'location': None, u'profile_link_color': u'2B7BB9', u'profile_image_url': u'http://pbs.twimg.com/profile_images/707745020615393281/EEWmLp0h_normal.jpg', u'following': None, u'geo_enabled': False, u'profile_banner_url': u'https://pbs.twimg.com/profile_banners/707744738317721600/1458114958', u'profile_background_image_url': u'', u'name': u'Nora Koloi', u'lang': u'en', u'profile_background_tile': False, u'favourites_count': 139, u'screen_name': u'Mrs_Koloi', u'notifications': None, u'url': None, u'created_at': u'Thu Mar 10 01:47:49 +0000 2016', u'contributors_enabled': False, u'time_zone': None, u'protected': False, u'default_profile': True, u'is_translator': False}, u'geo': None, u'in_reply_to_user_id_str': None, u'lang': u'en', u'created_at': u'Wed Apr 13 00:52:32 +0000 2016', u'filter_level': u'low', u'in_reply_to_status_id_str': None, u'place': None}, u'entities': {u'user_mentions': [], u'symbols': [], u'hashtags': [], u'urls': [{u'url': u'https://t.co/ubbUbUjOPM', u'indices': [22, 45], u'expanded_url': u'https://twitter.com/mrs_koloi/status/720052011421421568', u'display_url': u'twitter.com/mrs_koloi/stat\\u2026'}]}, u'in_reply_to_status_id_str': None, u'in_reply_to_screen_name': None, u'id_str': u'720054505211973633', u'place': None, u'retweet_count': 0, u'created_at': u'Wed Apr 13 01:02:26 +0000 2016', u'in_reply_to_user_id': None}\n",
      "{u'favorited': False, u'contributors': None, u'truncated': False, u'text': u'wow I fucking hate life', u'is_quote_status': False, u'in_reply_to_status_id': None, u'user': {u'follow_request_sent': None, u'profile_use_background_image': True, u'default_profile_image': False, u'id': 1258070762, u'verified': False, u'profile_image_url_https': u'https://pbs.twimg.com/profile_images/715260643025285120/DjzwJk50_normal.jpg', u'profile_sidebar_fill_color': u'DDEEF6', u'profile_text_color': u'333333', u'followers_count': 3757, u'profile_sidebar_border_color': u'C0DEED', u'id_str': u'1258070762', u'profile_background_color': u'C0DEED', u'listed_count': 15, u'profile_background_image_url_https': u'https://abs.twimg.com/images/themes/theme1/bg.png', u'utc_offset': -39600, u'statuses_count': 61961, u'description': u'Nancy is the real fatty', u'friends_count': 2281, u'location': u'1/6', u'profile_link_color': u'0084B4', u'profile_image_url': u'http://pbs.twimg.com/profile_images/715260643025285120/DjzwJk50_normal.jpg', u'following': None, u'geo_enabled': True, u'profile_banner_url': u'https://pbs.twimg.com/profile_banners/1258070762/1459366401', u'profile_background_image_url': u'http://abs.twimg.com/images/themes/theme1/bg.png', u'name': u'Kaycee |-/', u'lang': u'en', u'profile_background_tile': False, u'favourites_count': 37581, u'screen_name': u'ClexasRegui', u'notifications': None, u'url': u'https://twitter.com/clexasregui/status/611592004674420736', u'created_at': u'Sun Mar 10 22:12:28 +0000 2013', u'contributors_enabled': False, u'time_zone': u'Midway Island', u'protected': False, u'default_profile': True, u'is_translator': False}, u'filter_level': u'low', u'geo': None, u'id': 720054505212100608, u'favorite_count': 0, u'lang': u'en', u'entities': {u'user_mentions': [], u'symbols': [], u'hashtags': [], u'urls': []}, u'in_reply_to_user_id_str': None, u'retweeted': False, u'coordinates': None, u'timestamp_ms': u'1460509346665', u'source': u'<a href=\"http://twitter.com/download/iphone\" rel=\"nofollow\">Twitter for iPhone</a>', u'in_reply_to_status_id_str': None, u'in_reply_to_screen_name': None, u'id_str': u'720054505212100608', u'place': None, u'retweet_count': 0, u'created_at': u'Wed Apr 13 01:02:26 +0000 2016', u'in_reply_to_user_id': None}\n",
      "{u'favorited': False, u'contributors': None, u'truncated': False, u'text': u'eu, tu, nos bota nela', u'is_quote_status': False, u'in_reply_to_status_id': None, u'user': {u'follow_request_sent': None, u'profile_use_background_image': True, u'default_profile_image': False, u'id': 248705195, u'verified': False, u'profile_image_url_https': u'https://pbs.twimg.com/profile_images/719364040196272129/ttk_WqFX_normal.jpg', u'profile_sidebar_fill_color': u'EFEFEF', u'profile_text_color': u'333333', u'followers_count': 981, u'profile_sidebar_border_color': u'FFFFFF', u'id_str': u'248705195', u'profile_background_color': u'FFFFFF', u'listed_count': 0, u'profile_background_image_url_https': u'https://pbs.twimg.com/profile_background_images/461312727705583616/WoTVIAWZ.jpeg', u'utc_offset': -10800, u'statuses_count': 28878, u'description': u'+5522 - \\u2022 snap-insta/igor_rangel10', u'friends_count': 463, u'location': u'Cabo Frio, Rio de Janeiro', u'profile_link_color': u'90F0BE', u'profile_image_url': u'http://pbs.twimg.com/profile_images/719364040196272129/ttk_WqFX_normal.jpg', u'following': None, u'geo_enabled': True, u'profile_banner_url': u'https://pbs.twimg.com/profile_banners/248705195/1460001819', u'profile_background_image_url': u'http://pbs.twimg.com/profile_background_images/461312727705583616/WoTVIAWZ.jpeg', u'name': u'Igor', u'lang': u'pt', u'profile_background_tile': True, u'favourites_count': 11054, u'screen_name': u'Igor_Bastoos', u'notifications': None, u'url': None, u'created_at': u'Mon Feb 07 15:14:29 +0000 2011', u'contributors_enabled': False, u'time_zone': u'Brasilia', u'protected': False, u'default_profile': False, u'is_translator': False}, u'filter_level': u'low', u'geo': None, u'id': 720054505216327685, u'favorite_count': 0, u'lang': u'pt', u'entities': {u'user_mentions': [], u'symbols': [], u'hashtags': [], u'urls': []}, u'in_reply_to_user_id_str': None, u'retweeted': False, u'coordinates': None, u'timestamp_ms': u'1460509346666', u'source': u'<a href=\"http://twitter.com/download/iphone\" rel=\"nofollow\">Twitter for iPhone</a>', u'in_reply_to_status_id_str': None, u'in_reply_to_screen_name': None, u'id_str': u'720054505216327685', u'place': None, u'retweet_count': 0, u'created_at': u'Wed Apr 13 01:02:26 +0000 2016', u'in_reply_to_user_id': None}\n",
      "{u'favorited': False, u'contributors': None, u'truncated': False, u'text': u'RT @HeartOfItAll: No problem! Had to get our DJ right!  https://t.co/AmqemzwS4M', u'possibly_sensitive': False, u'is_quote_status': True, u'in_reply_to_status_id': None, u'user': {u'follow_request_sent': None, u'profile_use_background_image': True, u'default_profile_image': False, u'id': 194131759, u'verified': False, u'profile_image_url_https': u'https://pbs.twimg.com/profile_images/693909551159119872/NUHaeD5M_normal.jpg', u'profile_sidebar_fill_color': u'DDEEF6', u'profile_text_color': u'333333', u'followers_count': 625, u'profile_sidebar_border_color': u'FFFFFF', u'id_str': u'194131759', u'profile_background_color': u'131516', u'listed_count': 12, u'profile_background_image_url_https': u'https://pbs.twimg.com/profile_background_images/456138425498746880/j5W11svV.jpeg', u'utc_offset': -25200, u'statuses_count': 24881, u'description': u'#QPE  #OBE  \\n#OBLOCK OHIO Biggest Block Party Originator #TheWrave #AVeryRareShop  Official DJ #BeOfficial #QuePasaEnt\\nBooking: djcravecase@gmail.com', u'friends_count': 417, u'location': u' From 0HI0 ', u'profile_link_color': u'064F4F', u'profile_image_url': u'http://pbs.twimg.com/profile_images/693909551159119872/NUHaeD5M_normal.jpg', u'following': None, u'geo_enabled': True, u'profile_banner_url': u'https://pbs.twimg.com/profile_banners/194131759/1429437651', u'profile_background_image_url': u'http://pbs.twimg.com/profile_background_images/456138425498746880/j5W11svV.jpeg', u'name': u'#SoundMAN', u'lang': u'en', u'profile_background_tile': True, u'favourites_count': 8510, u'screen_name': u'djCaSe_', u'notifications': None, u'url': None, u'created_at': u'Thu Sep 23 14:17:29 +0000 2010', u'contributors_enabled': False, u'time_zone': u'Pacific Time (US & Canada)', u'protected': False, u'default_profile': False, u'is_translator': False}, u'filter_level': u'low', u'geo': None, u'id': 720054505212088320, u'favorite_count': 0, u'lang': u'en', u'retweeted_status': {u'contributors': None, u'truncated': False, u'text': u'No problem! Had to get our DJ right!  https://t.co/AmqemzwS4M', u'is_quote_status': True, u'in_reply_to_status_id': None, u'id': 720053411941584896, u'favorite_count': 1, u'entities': {u'user_mentions': [], u'symbols': [], u'hashtags': [], u'urls': [{u'url': u'https://t.co/AmqemzwS4M', u'indices': [38, 61], u'expanded_url': u'https://twitter.com/djcase_/status/720041530019442688', u'display_url': u'twitter.com/djcase_/status\\u2026'}]}, u'quoted_status_id': 720041530019442688, u'retweeted': False, u'coordinates': None, u'quoted_status': {u'contributors': None, u'truncated': False, u'text': u'New Dr.Martens \\nSponsored by #HeartOfItAll \\nThank You #HeartOfItAll for the #dope shoes.. Highly Appreciated \\U0001f499\\u2764 \\U0001f603 \\U0001f64f https://t.co/yi9MkNhyyf', u'is_quote_status': False, u'in_reply_to_status_id': None, u'id': 720041530019442688, u'favorite_count': 0, u'source': u'<a href=\"http://twitter.com/download/android\" rel=\"nofollow\">Twitter for Android</a>', u'retweeted': False, u'coordinates': None, u'entities': {u'user_mentions': [], u'symbols': [], u'hashtags': [{u'indices': [29, 42], u'text': u'HeartOfItAll'}, {u'indices': [54, 67], u'text': u'HeartOfItAll'}, {u'indices': [76, 81], u'text': u'dope'}], u'urls': [], u'media': [{u'expanded_url': u'http://twitter.com/djCaSe_/status/720041530019442688/photo/1', u'display_url': u'pic.twitter.com/yi9MkNhyyf', u'url': u'https://t.co/yi9MkNhyyf', u'media_url_https': u'https://pbs.twimg.com/media/Cf4Z89YW4AE8eoF.jpg', u'id_str': u'720041525485428737', u'sizes': {u'large': {u'h': 853, u'resize': u'fit', u'w': 480}, u'small': {u'h': 604, u'resize': u'fit', u'w': 340}, u'medium': {u'h': 853, u'resize': u'fit', u'w': 480}, u'thumb': {u'h': 150, u'resize': u'crop', u'w': 150}}, u'indices': [116, 139], u'type': u'photo', u'id': 720041525485428737, u'media_url': u'http://pbs.twimg.com/media/Cf4Z89YW4AE8eoF.jpg'}]}, u'in_reply_to_screen_name': None, u'id_str': u'720041530019442688', u'retweet_count': 0, u'in_reply_to_user_id': None, u'favorited': False, u'user': {u'follow_request_sent': None, u'profile_use_background_image': True, u'default_profile_image': False, u'id': 194131759, u'verified': False, u'profile_image_url_https': u'https://pbs.twimg.com/profile_images/693909551159119872/NUHaeD5M_normal.jpg', u'profile_sidebar_fill_color': u'DDEEF6', u'profile_text_color': u'333333', u'followers_count': 625, u'profile_sidebar_border_color': u'FFFFFF', u'id_str': u'194131759', u'profile_background_color': u'131516', u'listed_count': 12, u'profile_background_image_url_https': u'https://pbs.twimg.com/profile_background_images/456138425498746880/j5W11svV.jpeg', u'utc_offset': -25200, u'statuses_count': 24880, u'description': u'#QPE  #OBE  \\n#OBLOCK OHIO Biggest Block Party Originator #TheWrave #AVeryRareShop  Official DJ #BeOfficial #QuePasaEnt\\nBooking: djcravecase@gmail.com', u'friends_count': 417, u'location': u' From 0HI0 ', u'profile_link_color': u'064F4F', u'profile_image_url': u'http://pbs.twimg.com/profile_images/693909551159119872/NUHaeD5M_normal.jpg', u'following': None, u'geo_enabled': True, u'profile_banner_url': u'https://pbs.twimg.com/profile_banners/194131759/1429437651', u'profile_background_image_url': u'http://pbs.twimg.com/profile_background_images/456138425498746880/j5W11svV.jpeg', u'name': u'#SoundMAN', u'lang': u'en', u'profile_background_tile': True, u'favourites_count': 8510, u'screen_name': u'djCaSe_', u'notifications': None, u'url': None, u'created_at': u'Thu Sep 23 14:17:29 +0000 2010', u'contributors_enabled': False, u'time_zone': u'Pacific Time (US & Canada)', u'protected': False, u'default_profile': False, u'is_translator': False}, u'geo': None, u'in_reply_to_user_id_str': None, u'possibly_sensitive': False, u'lang': u'en', u'created_at': u'Wed Apr 13 00:10:53 +0000 2016', u'filter_level': u'low', u'in_reply_to_status_id_str': None, u'place': None, u'extended_entities': {u'media': [{u'expanded_url': u'http://twitter.com/djCaSe_/status/720041530019442688/photo/1', u'display_url': u'pic.twitter.com/yi9MkNhyyf', u'url': u'https://t.co/yi9MkNhyyf', u'media_url_https': u'https://pbs.twimg.com/media/Cf4Z89YW4AE8eoF.jpg', u'id_str': u'720041525485428737', u'sizes': {u'large': {u'h': 853, u'resize': u'fit', u'w': 480}, u'small': {u'h': 604, u'resize': u'fit', u'w': 340}, u'medium': {u'h': 853, u'resize': u'fit', u'w': 480}, u'thumb': {u'h': 150, u'resize': u'crop', u'w': 150}}, u'indices': [116, 139], u'type': u'photo', u'id': 720041525485428737, u'media_url': u'http://pbs.twimg.com/media/Cf4Z89YW4AE8eoF.jpg'}]}}, u'source': u'<a href=\"http://twitter.com/download/iphone\" rel=\"nofollow\">Twitter for iPhone</a>', u'in_reply_to_screen_name': None, u'id_str': u'720053411941584896', u'retweet_count': 4, u'in_reply_to_user_id': None, u'favorited': False, u'user': {u'follow_request_sent': None, u'profile_use_background_image': True, u'default_profile_image': False, u'id': 2933713491, u'verified': False, u'profile_image_url_https': u'https://pbs.twimg.com/profile_images/558670902561607681/Q8yDzjoY_normal.jpeg', u'profile_sidebar_fill_color': u'DDEEF6', u'profile_text_color': u'333333', u'followers_count': 538, u'profile_sidebar_border_color': u'C0DEED', u'id_str': u'2933713491', u'profile_background_color': u'C0DEED', u'listed_count': 4, u'profile_background_image_url_https': u'https://abs.twimg.com/images/themes/theme1/bg.png', u'utc_offset': None, u'statuses_count': 3190, u'description': u'Non-Profit Org dedicated to education, promotion, development and support of aspiring fashion talent throughout the state of Ohio. #SpreadLoveOhio', u'friends_count': 2, u'location': u'Columbus, OH', u'profile_link_color': u'0084B4', u'profile_image_url': u'http://pbs.twimg.com/profile_images/558670902561607681/Q8yDzjoY_normal.jpeg', u'following': None, u'geo_enabled': True, u'profile_banner_url': u'https://pbs.twimg.com/profile_banners/2933713491/1419720960', u'profile_background_image_url': u'http://abs.twimg.com/images/themes/theme1/bg.png', u'name': u'Heart of it All', u'lang': u'en', u'profile_background_tile': False, u'favourites_count': 294, u'screen_name': u'HeartOfItAll', u'notifications': None, u'url': u'http://youtu.be/RjkzmVDPbbU', u'created_at': u'Sat Dec 20 15:20:25 +0000 2014', u'contributors_enabled': False, u'time_zone': None, u'protected': False, u'default_profile': True, u'is_translator': False}, u'geo': None, u'in_reply_to_user_id_str': None, u'possibly_sensitive': False, u'lang': u'en', u'created_at': u'Wed Apr 13 00:58:06 +0000 2016', u'quoted_status_id_str': u'720041530019442688', u'filter_level': u'low', u'in_reply_to_status_id_str': None, u'place': None}, u'entities': {u'user_mentions': [{u'id': 2933713491, u'indices': [3, 16], u'id_str': u'2933713491', u'screen_name': u'HeartOfItAll', u'name': u'Heart of it All'}], u'symbols': [], u'hashtags': [], u'urls': [{u'url': u'https://t.co/AmqemzwS4M', u'indices': [56, 79], u'expanded_url': u'https://twitter.com/djcase_/status/720041530019442688', u'display_url': u'twitter.com/djcase_/status\\u2026'}]}, u'in_reply_to_user_id_str': None, u'retweeted': False, u'coordinates': None, u'timestamp_ms': u'1460509346665', u'source': u'<a href=\"http://twitter.com/download/android\" rel=\"nofollow\">Twitter for Android</a>', u'in_reply_to_status_id_str': None, u'in_reply_to_screen_name': None, u'id_str': u'720054505212088320', u'place': None, u'retweet_count': 0, u'created_at': u'Wed Apr 13 01:02:26 +0000 2016', u'in_reply_to_user_id': None}\n",
      "{u'favorited': False, u'contributors': None, u'truncated': False, u'text': u'RT @girlposts: basically https://t.co/z9PkA0tAcy', u'possibly_sensitive': False, u'is_quote_status': False, u'in_reply_to_status_id': None, u'user': {u'follow_request_sent': None, u'profile_use_background_image': True, u'default_profile_image': False, u'id': 2751812733, u'verified': False, u'profile_image_url_https': u'https://pbs.twimg.com/profile_images/719256520211501057/xVRaHbm4_normal.jpg', u'profile_sidebar_fill_color': u'000000', u'profile_text_color': u'000000', u'followers_count': 174, u'profile_sidebar_border_color': u'000000', u'id_str': u'2751812733', u'profile_background_color': u'000000', u'listed_count': 1, u'profile_background_image_url_https': u'https://pbs.twimg.com/profile_background_images/632300469965209600/owT8yW06.jpg', u'utc_offset': -10800, u'statuses_count': 9595, u'description': u'Lo que a otros le da tristeza, a mi me divierte', u'friends_count': 69, u'location': u'Argentina.', u'profile_link_color': u'DD2E44', u'profile_image_url': u'http://pbs.twimg.com/profile_images/719256520211501057/xVRaHbm4_normal.jpg', u'following': None, u'geo_enabled': True, u'profile_banner_url': u'https://pbs.twimg.com/profile_banners/2751812733/1460316728', u'profile_background_image_url': u'http://pbs.twimg.com/profile_background_images/632300469965209600/owT8yW06.jpg', u'name': u'Brisa', u'lang': u'es', u'profile_background_tile': False, u'favourites_count': 812, u'screen_name': u'thoughtslibrary', u'notifications': None, u'url': None, u'created_at': u'Tue Aug 26 16:56:33 +0000 2014', u'contributors_enabled': False, u'time_zone': u'Atlantic Time (Canada)', u'protected': False, u'default_profile': False, u'is_translator': False}, u'filter_level': u'low', u'geo': None, u'id': 720054505186926592, u'favorite_count': 0, u'lang': u'en', u'retweeted_status': {u'contributors': None, u'truncated': False, u'text': u'basically https://t.co/z9PkA0tAcy', u'is_quote_status': False, u'in_reply_to_status_id': None, u'id': 720053148048629763, u'favorite_count': 1454, u'source': u'<a href=\"http://bufferapp.com\" rel=\"nofollow\">Buffer</a>', u'retweeted': False, u'coordinates': None, u'entities': {u'user_mentions': [], u'symbols': [], u'hashtags': [], u'urls': [], u'media': [{u'expanded_url': u'http://twitter.com/girlposts/status/720053148048629763/photo/1', u'display_url': u'pic.twitter.com/z9PkA0tAcy', u'url': u'https://t.co/z9PkA0tAcy', u'media_url_https': u'https://pbs.twimg.com/media/Cf4khcfW4AAQUBw.jpg', u'id_str': u'720053147427856384', u'sizes': {u'small': {u'h': 430, u'resize': u'fit', u'w': 340}, u'large': {u'h': 1024, u'resize': u'fit', u'w': 809}, u'medium': {u'h': 759, u'resize': u'fit', u'w': 600}, u'thumb': {u'h': 150, u'resize': u'crop', u'w': 150}}, u'indices': [10, 33], u'type': u'photo', u'id': 720053147427856384, u'media_url': u'http://pbs.twimg.com/media/Cf4khcfW4AAQUBw.jpg'}]}, u'in_reply_to_screen_name': None, u'id_str': u'720053148048629763', u'retweet_count': 746, u'in_reply_to_user_id': None, u'favorited': False, u'user': {u'follow_request_sent': None, u'profile_use_background_image': True, u'default_profile_image': False, u'id': 132774626, u'verified': False, u'profile_image_url_https': u'https://pbs.twimg.com/profile_images/565673032404844544/8lbXzRSn_normal.png', u'profile_sidebar_fill_color': u'DDEEF6', u'profile_text_color': u'333333', u'followers_count': 6024458, u'profile_sidebar_border_color': u'FFFFFF', u'id_str': u'132774626', u'profile_background_color': u'FFFFFF', u'listed_count': 10071, u'profile_background_image_url_https': u'https://pbs.twimg.com/profile_background_images/378800000170694213/oBOPesu1.png', u'utc_offset': -14400, u'statuses_count': 59841, u'description': u\"I'm a Victoria's Secret model, but it's such a secret not even Victoria knows. I report, critique and comment on trends.\", u'friends_count': 62499, u'location': u'Hi@GirlPosts.net [email me]', u'profile_link_color': u'FF33CC', u'profile_image_url': u'http://pbs.twimg.com/profile_images/565673032404844544/8lbXzRSn_normal.png', u'following': None, u'geo_enabled': True, u'profile_banner_url': u'https://pbs.twimg.com/profile_banners/132774626/1441579113', u'profile_background_image_url': u'http://pbs.twimg.com/profile_background_images/378800000170694213/oBOPesu1.png', u'name': u'Common White Girl', u'lang': u'en', u'profile_background_tile': False, u'favourites_count': 56769, u'screen_name': u'girlposts', u'notifications': None, u'url': u'http://Instagram.com/Beautiful', u'created_at': u'Wed Apr 14 04:20:26 +0000 2010', u'contributors_enabled': False, u'time_zone': u'Georgetown', u'protected': False, u'default_profile': False, u'is_translator': False}, u'geo': None, u'in_reply_to_user_id_str': None, u'possibly_sensitive': False, u'lang': u'en', u'created_at': u'Wed Apr 13 00:57:03 +0000 2016', u'filter_level': u'low', u'in_reply_to_status_id_str': None, u'place': None, u'extended_entities': {u'media': [{u'expanded_url': u'http://twitter.com/girlposts/status/720053148048629763/photo/1', u'display_url': u'pic.twitter.com/z9PkA0tAcy', u'url': u'https://t.co/z9PkA0tAcy', u'media_url_https': u'https://pbs.twimg.com/media/Cf4khcfW4AAQUBw.jpg', u'id_str': u'720053147427856384', u'sizes': {u'small': {u'h': 430, u'resize': u'fit', u'w': 340}, u'large': {u'h': 1024, u'resize': u'fit', u'w': 809}, u'medium': {u'h': 759, u'resize': u'fit', u'w': 600}, u'thumb': {u'h': 150, u'resize': u'crop', u'w': 150}}, u'indices': [10, 33], u'type': u'photo', u'id': 720053147427856384, u'media_url': u'http://pbs.twimg.com/media/Cf4khcfW4AAQUBw.jpg'}, {u'expanded_url': u'http://twitter.com/girlposts/status/720053148048629763/photo/1', u'display_url': u'pic.twitter.com/z9PkA0tAcy', u'url': u'https://t.co/z9PkA0tAcy', u'media_url_https': u'https://pbs.twimg.com/media/Cf4khNlWEAExZro.jpg', u'id_str': u'720053143426437121', u'sizes': {u'small': {u'h': 387, u'resize': u'fit', u'w': 340}, u'large': {u'h': 1024, u'resize': u'fit', u'w': 899}, u'medium': {u'h': 683, u'resize': u'fit', u'w': 600}, u'thumb': {u'h': 150, u'resize': u'crop', u'w': 150}}, u'indices': [10, 33], u'type': u'photo', u'id': 720053143426437121, u'media_url': u'http://pbs.twimg.com/media/Cf4khNlWEAExZro.jpg'}, {u'expanded_url': u'http://twitter.com/girlposts/status/720053148048629763/photo/1', u'display_url': u'pic.twitter.com/z9PkA0tAcy', u'url': u'https://t.co/z9PkA0tAcy', u'media_url_https': u'https://pbs.twimg.com/media/Cf4khWYVIAAsNpG.jpg', u'id_str': u'720053145787768832', u'sizes': {u'large': {u'h': 1024, u'resize': u'fit', u'w': 700}, u'small': {u'h': 497, u'resize': u'fit', u'w': 340}, u'medium': {u'h': 878, u'resize': u'fit', u'w': 600}, u'thumb': {u'h': 150, u'resize': u'crop', u'w': 150}}, u'indices': [10, 33], u'type': u'photo', u'id': 720053145787768832, u'media_url': u'http://pbs.twimg.com/media/Cf4khWYVIAAsNpG.jpg'}]}}, u'entities': {u'user_mentions': [{u'id': 132774626, u'indices': [3, 13], u'id_str': u'132774626', u'screen_name': u'girlposts', u'name': u'Common White Girl'}], u'symbols': [], u'hashtags': [], u'urls': [], u'media': [{u'source_user_id': 132774626, u'source_status_id_str': u'720053148048629763', u'expanded_url': u'http://twitter.com/girlposts/status/720053148048629763/photo/1', u'display_url': u'pic.twitter.com/z9PkA0tAcy', u'url': u'https://t.co/z9PkA0tAcy', u'media_url_https': u'https://pbs.twimg.com/media/Cf4khcfW4AAQUBw.jpg', u'source_user_id_str': u'132774626', u'source_status_id': 720053148048629763, u'id_str': u'720053147427856384', u'sizes': {u'small': {u'h': 430, u'resize': u'fit', u'w': 340}, u'large': {u'h': 1024, u'resize': u'fit', u'w': 809}, u'medium': {u'h': 759, u'resize': u'fit', u'w': 600}, u'thumb': {u'h': 150, u'resize': u'crop', u'w': 150}}, u'indices': [25, 48], u'type': u'photo', u'id': 720053147427856384, u'media_url': u'http://pbs.twimg.com/media/Cf4khcfW4AAQUBw.jpg'}]}, u'in_reply_to_user_id_str': None, u'retweeted': False, u'coordinates': None, u'timestamp_ms': u'1460509346659', u'source': u'<a href=\"http://twitter.com/download/android\" rel=\"nofollow\">Twitter for Android</a>', u'in_reply_to_status_id_str': None, u'in_reply_to_screen_name': None, u'id_str': u'720054505186926592', u'extended_entities': {u'media': [{u'source_user_id': 132774626, u'source_status_id_str': u'720053148048629763', u'expanded_url': u'http://twitter.com/girlposts/status/720053148048629763/photo/1', u'display_url': u'pic.twitter.com/z9PkA0tAcy', u'url': u'https://t.co/z9PkA0tAcy', u'media_url_https': u'https://pbs.twimg.com/media/Cf4khcfW4AAQUBw.jpg', u'source_user_id_str': u'132774626', u'source_status_id': 720053148048629763, u'id_str': u'720053147427856384', u'sizes': {u'small': {u'h': 430, u'resize': u'fit', u'w': 340}, u'large': {u'h': 1024, u'resize': u'fit', u'w': 809}, u'medium': {u'h': 759, u'resize': u'fit', u'w': 600}, u'thumb': {u'h': 150, u'resize': u'crop', u'w': 150}}, u'indices': [25, 48], u'type': u'photo', u'id': 720053147427856384, u'media_url': u'http://pbs.twimg.com/media/Cf4khcfW4AAQUBw.jpg'}, {u'source_user_id': 132774626, u'source_status_id_str': u'720053148048629763', u'expanded_url': u'http://twitter.com/girlposts/status/720053148048629763/photo/1', u'display_url': u'pic.twitter.com/z9PkA0tAcy', u'url': u'https://t.co/z9PkA0tAcy', u'media_url_https': u'https://pbs.twimg.com/media/Cf4khNlWEAExZro.jpg', u'source_user_id_str': u'132774626', u'source_status_id': 720053148048629763, u'id_str': u'720053143426437121', u'sizes': {u'small': {u'h': 387, u'resize': u'fit', u'w': 340}, u'large': {u'h': 1024, u'resize': u'fit', u'w': 899}, u'medium': {u'h': 683, u'resize': u'fit', u'w': 600}, u'thumb': {u'h': 150, u'resize': u'crop', u'w': 150}}, u'indices': [25, 48], u'type': u'photo', u'id': 720053143426437121, u'media_url': u'http://pbs.twimg.com/media/Cf4khNlWEAExZro.jpg'}, {u'source_user_id': 132774626, u'source_status_id_str': u'720053148048629763', u'expanded_url': u'http://twitter.com/girlposts/status/720053148048629763/photo/1', u'display_url': u'pic.twitter.com/z9PkA0tAcy', u'url': u'https://t.co/z9PkA0tAcy', u'media_url_https': u'https://pbs.twimg.com/media/Cf4khWYVIAAsNpG.jpg', u'source_user_id_str': u'132774626', u'source_status_id': 720053148048629763, u'id_str': u'720053145787768832', u'sizes': {u'large': {u'h': 1024, u'resize': u'fit', u'w': 700}, u'small': {u'h': 497, u'resize': u'fit', u'w': 340}, u'medium': {u'h': 878, u'resize': u'fit', u'w': 600}, u'thumb': {u'h': 150, u'resize': u'crop', u'w': 150}}, u'indices': [25, 48], u'type': u'photo', u'id': 720053145787768832, u'media_url': u'http://pbs.twimg.com/media/Cf4khWYVIAAsNpG.jpg'}]}, u'place': None, u'retweet_count': 0, u'created_at': u'Wed Apr 13 01:02:26 +0000 2016', u'in_reply_to_user_id': None}\n",
      "{u'favorited': False, u'contributors': None, u'truncated': False, u'text': u':(  https://t.co/cA6GOwU3kE', u'possibly_sensitive': False, u'is_quote_status': True, u'in_reply_to_status_id': None, u'user': {u'follow_request_sent': None, u'profile_use_background_image': True, u'default_profile_image': False, u'id': 874694882, u'verified': False, u'profile_image_url_https': u'https://pbs.twimg.com/profile_images/706832994514784258/7qXDqPjC_normal.jpg', u'profile_sidebar_fill_color': u'000000', u'profile_text_color': u'000000', u'followers_count': 926, u'profile_sidebar_border_color': u'000000', u'id_str': u'874694882', u'profile_background_color': u'709397', u'listed_count': 3, u'profile_background_image_url_https': u'https://pbs.twimg.com/profile_background_images/662480176077410304/hC0Gi7C6.jpg', u'utc_offset': -25200, u'statuses_count': 51565, u'description': u'Matthais .C | Bahamas \\u2800 \\u2800 \\u2800 \\u2800 \\u2800 \\u2800 \\u2800 \\u2800\\u2800 \\u2800 \\u2800 \\u2800 \\u2800\\u2800 \\u2800 \\u2800 \\u2800 \\u2800 \\u2800 \\u2800 \\u2800 \\u2800 \\u2800 \\u2800 \\u2800 \\u2800\\u2800', u'friends_count': 470, u'location': u'\\u91d1\\u9322\\u548c\\u8caa\\u5a6a', u'profile_link_color': u'000000', u'profile_image_url': u'http://pbs.twimg.com/profile_images/706832994514784258/7qXDqPjC_normal.jpg', u'following': None, u'geo_enabled': True, u'profile_banner_url': u'https://pbs.twimg.com/profile_banners/874694882/1460435853', u'profile_background_image_url': u'http://pbs.twimg.com/profile_background_images/662480176077410304/hC0Gi7C6.jpg', u'name': u'\\u672b M\\u0394TTYMCFLY\\u672b', u'lang': u'en', u'profile_background_tile': True, u'favourites_count': 10277, u'screen_name': u'GOYARDCLEARE', u'notifications': None, u'url': u'http://mattwest23.tumblr.com', u'created_at': u'Fri Oct 12 01:31:01 +0000 2012', u'contributors_enabled': False, u'time_zone': u'Pacific Time (US & Canada)', u'protected': False, u'default_profile': False, u'is_translator': False}, u'filter_level': u'low', u'quoted_status_id_str': u'720054034095304704', u'geo': None, u'id': 720054505178587136, u'favorite_count': 0, u'lang': u'und', u'source': u'<a href=\"http://twitter.com/download/iphone\" rel=\"nofollow\">Twitter for iPhone</a>', u'in_reply_to_user_id_str': None, u'quoted_status_id': 720054034095304704, u'retweeted': False, u'coordinates': None, u'timestamp_ms': u'1460509346657', u'quoted_status': {u'contributors': None, u'truncated': False, u'text': u'Nigga set his grave on fire \\U0001f628', u'is_quote_status': False, u'in_reply_to_status_id': None, u'id': 720054034095304704, u'favorite_count': 0, u'source': u'<a href=\"http://twitter.com/download/iphone\" rel=\"nofollow\">Twitter for iPhone</a>', u'retweeted': False, u'coordinates': None, u'entities': {u'user_mentions': [], u'symbols': [], u'hashtags': [], u'urls': []}, u'in_reply_to_screen_name': None, u'id_str': u'720054034095304704', u'retweet_count': 0, u'in_reply_to_user_id': None, u'favorited': False, u'user': {u'follow_request_sent': None, u'profile_use_background_image': True, u'default_profile_image': False, u'id': 614472766, u'verified': False, u'profile_image_url_https': u'https://pbs.twimg.com/profile_images/719661870257467392/TI0p-PYZ_normal.jpg', u'profile_sidebar_fill_color': u'EFEFEF', u'profile_text_color': u'333333', u'followers_count': 696, u'profile_sidebar_border_color': u'FFFFFF', u'id_str': u'614472766', u'profile_background_color': u'080808', u'listed_count': 1, u'profile_background_image_url_https': u'https://pbs.twimg.com/profile_background_images/528686916204388352/ZMaz0_Sk.jpeg', u'utc_offset': -14400, u'statuses_count': 40416, u'description': u'1KP\\u26fd\\ufe0f 1KOG', u'friends_count': 514, u'location': u\"hoopin'\", u'profile_link_color': u'0C7DF5', u'profile_image_url': u'http://pbs.twimg.com/profile_images/719661870257467392/TI0p-PYZ_normal.jpg', u'following': None, u'geo_enabled': True, u'profile_banner_url': u'https://pbs.twimg.com/profile_banners/614472766/1459536452', u'profile_background_image_url': u'http://pbs.twimg.com/profile_background_images/528686916204388352/ZMaz0_Sk.jpeg', u'name': u'ea$ymoney jr', u'lang': u'en', u'profile_background_tile': True, u'favourites_count': 8222, u'screen_name': u'AsapxLin', u'notifications': None, u'url': u'http://uknowbigsean.com/', u'created_at': u'Thu Jun 21 18:17:32 +0000 2012', u'contributors_enabled': False, u'time_zone': u'Eastern Time (US & Canada)', u'protected': False, u'default_profile': False, u'is_translator': False}, u'geo': None, u'in_reply_to_user_id_str': None, u'lang': u'en', u'created_at': u'Wed Apr 13 01:00:34 +0000 2016', u'filter_level': u'low', u'in_reply_to_status_id_str': None, u'place': None}, u'entities': {u'user_mentions': [], u'symbols': [], u'hashtags': [], u'urls': [{u'url': u'https://t.co/cA6GOwU3kE', u'indices': [4, 27], u'expanded_url': u'https://twitter.com/asapxlin/status/720054034095304704', u'display_url': u'twitter.com/asapxlin/statu\\u2026'}]}, u'in_reply_to_status_id_str': None, u'in_reply_to_screen_name': None, u'id_str': u'720054505178587136', u'place': None, u'retweet_count': 0, u'created_at': u'Wed Apr 13 01:02:26 +0000 2016', u'in_reply_to_user_id': None}\n",
      "{u'favorited': False, u'contributors': None, u'truncated': False, u'text': u'@murilloncio ta no celular que se foi era o unico lugar q tava logado e eu perdi a senha ha seculos daquele tt', u'is_quote_status': False, u'in_reply_to_status_id': 720053588257542148, u'user': {u'follow_request_sent': None, u'profile_use_background_image': True, u'default_profile_image': False, u'id': 1873270352, u'verified': False, u'profile_image_url_https': u'https://pbs.twimg.com/profile_images/719691093915381760/nyLOAM-k_normal.jpg', u'profile_sidebar_fill_color': u'DDEEF6', u'profile_text_color': u'333333', u'followers_count': 272, u'profile_sidebar_border_color': u'000000', u'id_str': u'1873270352', u'profile_background_color': u'FAFAFA', u'listed_count': 0, u'profile_background_image_url_https': u'https://pbs.twimg.com/profile_background_images/378800000138915236/xfdhZfi3.jpeg', u'utc_offset': None, u'statuses_count': 2492, u'description': u'to the gypsy that remains', u'friends_count': 114, u'location': u'Brasil', u'profile_link_color': u'ABB8C2', u'profile_image_url': u'http://pbs.twimg.com/profile_images/719691093915381760/nyLOAM-k_normal.jpg', u'following': None, u'geo_enabled': True, u'profile_banner_url': u'https://pbs.twimg.com/profile_banners/1873270352/1460421606', u'profile_background_image_url': u'http://pbs.twimg.com/profile_background_images/378800000138915236/xfdhZfi3.jpeg', u'name': u'Isabelle Guimar\\xe3es', u'lang': u'pt', u'profile_background_tile': True, u'favourites_count': 444, u'screen_name': u'belleguimaraees', u'notifications': None, u'url': u'http://instagram.com/belleguimaraess', u'created_at': u'Mon Sep 16 22:43:39 +0000 2013', u'contributors_enabled': False, u'time_zone': None, u'protected': False, u'default_profile': False, u'is_translator': False}, u'filter_level': u'low', u'geo': None, u'id': 720054505199550464, u'favorite_count': 0, u'lang': u'pt', u'entities': {u'user_mentions': [{u'id': 1511855941, u'indices': [0, 12], u'id_str': u'1511855941', u'screen_name': u'murilloncio', u'name': u'Himeros'}], u'symbols': [], u'hashtags': [], u'urls': []}, u'in_reply_to_user_id_str': u'1511855941', u'retweeted': False, u'coordinates': None, u'timestamp_ms': u'1460509346662', u'source': u'<a href=\"http://twitter.com\" rel=\"nofollow\">Twitter Web Client</a>', u'in_reply_to_status_id_str': u'720053588257542148', u'in_reply_to_screen_name': u'murilloncio', u'id_str': u'720054505199550464', u'place': None, u'retweet_count': 0, u'created_at': u'Wed Apr 13 01:02:26 +0000 2016', u'in_reply_to_user_id': 1511855941}\n",
      "{u'favorited': False, u'contributors': None, u'truncated': False, u'text': u'RT @BCase43: I LOVE THESE https://t.co/RnSi6AvGIx', u'possibly_sensitive': False, u'is_quote_status': True, u'in_reply_to_status_id': None, u'user': {u'follow_request_sent': None, u'profile_use_background_image': True, u'default_profile_image': False, u'id': 731582563, u'verified': False, u'profile_image_url_https': u'https://pbs.twimg.com/profile_images/718116349592084480/C8M-sEyA_normal.jpg', u'profile_sidebar_fill_color': u'DDEEF6', u'profile_text_color': u'333333', u'followers_count': 492, u'profile_sidebar_border_color': u'C0DEED', u'id_str': u'731582563', u'profile_background_color': u'C0DEED', u'listed_count': 1, u'profile_background_image_url_https': u'https://abs.twimg.com/images/themes/theme1/bg.png', u'utc_offset': -14400, u'statuses_count': 10839, u'description': u'evidently I have turned into a lean house', u'friends_count': 384, u'location': None, u'profile_link_color': u'0084B4', u'profile_image_url': u'http://pbs.twimg.com/profile_images/718116349592084480/C8M-sEyA_normal.jpg', u'following': None, u'geo_enabled': True, u'profile_banner_url': u'https://pbs.twimg.com/profile_banners/731582563/1450182383', u'profile_background_image_url': u'http://abs.twimg.com/images/themes/theme1/bg.png', u'name': u'Zach Ritz', u'lang': u'en', u'profile_background_tile': False, u'favourites_count': 8636, u'screen_name': u'Zach_Ritz14', u'notifications': None, u'url': None, u'created_at': u'Wed Aug 01 22:20:54 +0000 2012', u'contributors_enabled': False, u'time_zone': u'Eastern Time (US & Canada)', u'protected': False, u'default_profile': True, u'is_translator': False}, u'filter_level': u'low', u'geo': None, u'id': 720054505178578944, u'favorite_count': 0, u'lang': u'en', u'retweeted_status': {u'contributors': None, u'truncated': False, u'text': u'I LOVE THESE https://t.co/RnSi6AvGIx', u'is_quote_status': True, u'in_reply_to_status_id': None, u'id': 720050071975419905, u'favorite_count': 0, u'entities': {u'user_mentions': [], u'symbols': [], u'hashtags': [], u'urls': [{u'url': u'https://t.co/RnSi6AvGIx', u'indices': [13, 36], u'expanded_url': u'https://twitter.com/WhatHeLooksLike/status/701211484802707456', u'display_url': u'twitter.com/WhatHeLooksLik\\u2026'}]}, u'quoted_status_id': 701211484802707456, u'retweeted': False, u'coordinates': None, u'quoted_status': {u'contributors': None, u'truncated': False, u'text': u'https://t.co/QyinJDu6jp', u'is_quote_status': False, u'in_reply_to_status_id': None, u'id': 701211484802707456, u'favorite_count': 0, u'source': u'<a href=\"http://twitter.com/download/iphone\" rel=\"nofollow\">Twitter for iPhone</a>', u'retweeted': False, u'coordinates': None, u'entities': {u'user_mentions': [], u'symbols': [], u'hashtags': [], u'urls': [], u'media': [{u'expanded_url': u'http://twitter.com/WhatHeLooksLike/status/701211484802707456/photo/1', u'display_url': u'pic.twitter.com/QyinJDu6jp', u'url': u'https://t.co/QyinJDu6jp', u'media_url_https': u'https://pbs.twimg.com/media/Cbs0IAIW8AACOO8.jpg', u'id_str': u'701211479064899584', u'sizes': {u'large': {u'h': 994, u'resize': u'fit', u'w': 749}, u'small': {u'h': 680, u'resize': u'fit', u'w': 512}, u'medium': {u'h': 994, u'resize': u'fit', u'w': 749}, u'thumb': {u'h': 150, u'resize': u'crop', u'w': 150}}, u'indices': [0, 23], u'type': u'photo', u'id': 701211479064899584, u'media_url': u'http://pbs.twimg.com/media/Cbs0IAIW8AACOO8.jpg'}]}, u'in_reply_to_screen_name': None, u'id_str': u'701211484802707456', u'retweet_count': 0, u'in_reply_to_user_id': None, u'favorited': False, u'user': {u'follow_request_sent': None, u'profile_use_background_image': True, u'default_profile_image': False, u'id': 4034704943, u'verified': False, u'profile_image_url_https': u'https://pbs.twimg.com/profile_images/658060556239245312/Azja-jWD_normal.jpg', u'profile_sidebar_fill_color': u'DDEEF6', u'profile_text_color': u'333333', u'followers_count': 73946, u'profile_sidebar_border_color': u'C0DEED', u'id_str': u'4034704943', u'profile_background_color': u'C0DEED', u'listed_count': 192, u'profile_background_image_url_https': u'https://abs.twimg.com/images/themes/theme1/bg.png', u'utc_offset': -25200, u'statuses_count': 177, u'description': u'The account dedicated to the Looks Like game from the Dan @LebatardShow with @Stugotz790. Content is from listeners of the show!', u'friends_count': 53, u'location': u'Fan Account', u'profile_link_color': u'0084B4', u'profile_image_url': u'http://pbs.twimg.com/profile_images/658060556239245312/Azja-jWD_normal.jpg', u'following': None, u'geo_enabled': True, u'profile_banner_url': u'https://pbs.twimg.com/profile_banners/4034704943/1457724019', u'profile_background_image_url': u'http://abs.twimg.com/images/themes/theme1/bg.png', u'name': u'What He Looks Like', u'lang': u'en', u'profile_background_tile': False, u'favourites_count': 12, u'screen_name': u'WhatHeLooksLike', u'notifications': None, u'url': None, u'created_at': u'Sat Oct 24 22:42:44 +0000 2015', u'contributors_enabled': False, u'time_zone': u'Pacific Time (US & Canada)', u'protected': False, u'default_profile': True, u'is_translator': False}, u'geo': None, u'in_reply_to_user_id_str': None, u'possibly_sensitive': False, u'lang': u'und', u'created_at': u'Sun Feb 21 01:07:00 +0000 2016', u'filter_level': u'low', u'in_reply_to_status_id_str': None, u'place': None, u'extended_entities': {u'media': [{u'expanded_url': u'http://twitter.com/WhatHeLooksLike/status/701211484802707456/photo/1', u'display_url': u'pic.twitter.com/QyinJDu6jp', u'url': u'https://t.co/QyinJDu6jp', u'media_url_https': u'https://pbs.twimg.com/media/Cbs0IAIW8AACOO8.jpg', u'id_str': u'701211479064899584', u'sizes': {u'large': {u'h': 994, u'resize': u'fit', u'w': 749}, u'small': {u'h': 680, u'resize': u'fit', u'w': 512}, u'medium': {u'h': 994, u'resize': u'fit', u'w': 749}, u'thumb': {u'h': 150, u'resize': u'crop', u'w': 150}}, u'indices': [0, 23], u'type': u'photo', u'id': 701211479064899584, u'media_url': u'http://pbs.twimg.com/media/Cbs0IAIW8AACOO8.jpg'}]}}, u'source': u'<a href=\"http://twitter.com/download/android\" rel=\"nofollow\">Twitter for Android</a>', u'in_reply_to_screen_name': None, u'id_str': u'720050071975419905', u'retweet_count': 1, u'in_reply_to_user_id': None, u'favorited': False, u'user': {u'follow_request_sent': None, u'profile_use_background_image': True, u'default_profile_image': False, u'id': 453632187, u'verified': False, u'profile_image_url_https': u'https://pbs.twimg.com/profile_images/554137051705401344/8iyhPyC6_normal.jpeg', u'profile_sidebar_fill_color': u'DDEEF6', u'profile_text_color': u'333333', u'followers_count': 296, u'profile_sidebar_border_color': u'C0DEED', u'id_str': u'453632187', u'profile_background_color': u'EB7317', u'listed_count': 21, u'profile_background_image_url_https': u'https://pbs.twimg.com/profile_background_images/600142954641035265/YO4M2fg5.jpg', u'utc_offset': -10800, u'statuses_count': 11517, u'description': u'#PatsNation | #KnicksTape | #CuseNation', u'friends_count': 275, u'location': None, u'profile_link_color': u'1809ED', u'profile_image_url': u'http://pbs.twimg.com/profile_images/554137051705401344/8iyhPyC6_normal.jpeg', u'following': None, u'geo_enabled': True, u'profile_banner_url': u'https://pbs.twimg.com/profile_banners/453632187/1454822983', u'profile_background_image_url': u'http://pbs.twimg.com/profile_background_images/600142954641035265/YO4M2fg5.jpg', u'name': u'Brandon Case', u'lang': u'en', u'profile_background_tile': False, u'favourites_count': 16129, u'screen_name': u'BCase43', u'notifications': None, u'url': None, u'created_at': u'Tue Jan 03 03:52:38 +0000 2012', u'contributors_enabled': False, u'time_zone': u'Atlantic Time (Canada)', u'protected': False, u'default_profile': False, u'is_translator': False}, u'geo': None, u'in_reply_to_user_id_str': None, u'possibly_sensitive': False, u'lang': u'en', u'created_at': u'Wed Apr 13 00:44:49 +0000 2016', u'quoted_status_id_str': u'701211484802707456', u'filter_level': u'low', u'in_reply_to_status_id_str': None, u'place': None}, u'entities': {u'user_mentions': [{u'id': 453632187, u'indices': [3, 11], u'id_str': u'453632187', u'screen_name': u'BCase43', u'name': u'Brandon Case'}], u'symbols': [], u'hashtags': [], u'urls': [{u'url': u'https://t.co/RnSi6AvGIx', u'indices': [26, 49], u'expanded_url': u'https://twitter.com/WhatHeLooksLike/status/701211484802707456', u'display_url': u'twitter.com/WhatHeLooksLik\\u2026'}]}, u'in_reply_to_user_id_str': None, u'retweeted': False, u'coordinates': None, u'timestamp_ms': u'1460509346657', u'source': u'<a href=\"http://twitter.com/download/iphone\" rel=\"nofollow\">Twitter for iPhone</a>', u'in_reply_to_status_id_str': None, u'in_reply_to_screen_name': None, u'id_str': u'720054505178578944', u'place': None, u'retweet_count': 0, u'created_at': u'Wed Apr 13 01:02:26 +0000 2016', u'in_reply_to_user_id': None}\n",
      "{u'favorited': False, u'contributors': None, u'truncated': False, u'text': u'RT @gustavotegami: @boluxoo mc donalds', u'is_quote_status': False, u'in_reply_to_status_id': None, u'user': {u'follow_request_sent': None, u'profile_use_background_image': True, u'default_profile_image': False, u'id': 253249308, u'verified': False, u'profile_image_url_https': u'https://pbs.twimg.com/profile_images/714692952233213953/90VIKtrw_normal.jpg', u'profile_sidebar_fill_color': u'DDEEF6', u'profile_text_color': u'333333', u'followers_count': 1299, u'profile_sidebar_border_color': u'000000', u'id_str': u'253249308', u'profile_background_color': u'050505', u'listed_count': 0, u'profile_background_image_url_https': u'https://pbs.twimg.com/profile_background_images/448189703808749568/XZ86IqYh.jpeg', u'utc_offset': -10800, u'statuses_count': 89756, u'description': u'01/04!', u'friends_count': 671, u'location': u'Canal 2, Santos.', u'profile_link_color': u'47CC5B', u'profile_image_url': u'http://pbs.twimg.com/profile_images/714692952233213953/90VIKtrw_normal.jpg', u'following': None, u'geo_enabled': True, u'profile_banner_url': u'https://pbs.twimg.com/profile_banners/253249308/1460390349', u'profile_background_image_url': u'http://pbs.twimg.com/profile_background_images/448189703808749568/XZ86IqYh.jpeg', u'name': u'r\\xea', u'lang': u'pt', u'profile_background_tile': True, u'favourites_count': 4607, u'screen_name': u'boluxoo', u'notifications': None, u'url': None, u'created_at': u'Wed Feb 16 21:26:54 +0000 2011', u'contributors_enabled': False, u'time_zone': u'Santiago', u'protected': False, u'default_profile': False, u'is_translator': False}, u'filter_level': u'low', u'geo': None, u'id': 720054505199562752, u'favorite_count': 0, u'lang': u'en', u'retweeted_status': {u'contributors': None, u'truncated': False, u'text': u'@boluxoo mc donalds', u'is_quote_status': False, u'in_reply_to_status_id': 720054366766514179, u'id': 720054483359830016, u'favorite_count': 0, u'source': u'<a href=\"http://twitter.com\" rel=\"nofollow\">Twitter Web Client</a>', u'retweeted': False, u'coordinates': None, u'entities': {u'user_mentions': [{u'id': 253249308, u'indices': [0, 8], u'id_str': u'253249308', u'screen_name': u'boluxoo', u'name': u'r\\xea'}], u'symbols': [], u'hashtags': [], u'urls': []}, u'in_reply_to_screen_name': u'boluxoo', u'id_str': u'720054483359830016', u'retweet_count': 1, u'in_reply_to_user_id': 253249308, u'favorited': False, u'user': {u'follow_request_sent': None, u'profile_use_background_image': True, u'default_profile_image': False, u'id': 2161911326, u'verified': False, u'profile_image_url_https': u'https://pbs.twimg.com/profile_images/717031242059874304/W5j_sGmH_normal.jpg', u'profile_sidebar_fill_color': u'DDEEF6', u'profile_text_color': u'333333', u'followers_count': 457, u'profile_sidebar_border_color': u'FFFFFF', u'id_str': u'2161911326', u'profile_background_color': u'C0DEED', u'listed_count': 1, u'profile_background_image_url_https': u'https://pbs.twimg.com/profile_background_images/673623193702277121/TbkKo6PR.jpg', u'utc_offset': -7200, u'statuses_count': 39598, u'description': u'tristeza aqui nunca vai plantar raiz!!', u'friends_count': 300, u'location': u'santos, sp', u'profile_link_color': u'ABB8C2', u'profile_image_url': u'http://pbs.twimg.com/profile_images/717031242059874304/W5j_sGmH_normal.jpg', u'following': None, u'geo_enabled': True, u'profile_banner_url': u'https://pbs.twimg.com/profile_banners/2161911326/1457909481', u'profile_background_image_url': u'http://pbs.twimg.com/profile_background_images/673623193702277121/TbkKo6PR.jpg', u'name': u'gustavo', u'lang': u'pt', u'profile_background_tile': True, u'favourites_count': 12738, u'screen_name': u'gustavotegami', u'notifications': None, u'url': None, u'created_at': u'Tue Oct 29 01:10:16 +0000 2013', u'contributors_enabled': False, u'time_zone': u'Mid-Atlantic', u'protected': False, u'default_profile': False, u'is_translator': False}, u'geo': None, u'in_reply_to_user_id_str': u'253249308', u'lang': u'en', u'created_at': u'Wed Apr 13 01:02:21 +0000 2016', u'filter_level': u'low', u'in_reply_to_status_id_str': u'720054366766514179', u'place': {u'full_name': u'Santos, Brasil', u'url': u'https://api.twitter.com/1.1/geo/id/c83a3bc35870a7a1.json', u'country': u'Brasil', u'place_type': u'city', u'bounding_box': {u'type': u'Polygon', u'coordinates': [[[-46.403227, -23.99197], [-46.403227, -23.73467], [-46.176966, -23.73467], [-46.176966, -23.99197]]]}, u'country_code': u'BR', u'attributes': {}, u'id': u'c83a3bc35870a7a1', u'name': u'Santos'}}, u'entities': {u'user_mentions': [{u'id': 2161911326, u'indices': [3, 17], u'id_str': u'2161911326', u'screen_name': u'gustavotegami', u'name': u'gustavo'}, {u'id': 253249308, u'indices': [19, 27], u'id_str': u'253249308', u'screen_name': u'boluxoo', u'name': u'r\\xea'}], u'symbols': [], u'hashtags': [], u'urls': []}, u'in_reply_to_user_id_str': None, u'retweeted': False, u'coordinates': None, u'timestamp_ms': u'1460509346662', u'source': u'<a href=\"http://twitter.com/download/iphone\" rel=\"nofollow\">Twitter for iPhone</a>', u'in_reply_to_status_id_str': None, u'in_reply_to_screen_name': None, u'id_str': u'720054505199562752', u'place': None, u'retweet_count': 0, u'created_at': u'Wed Apr 13 01:02:26 +0000 2016', u'in_reply_to_user_id': None}\n",
      "{u'favorited': False, u'contributors': None, u'truncated': False, u'text': u'Siempre pasa algo que nunca imaginaste  https://t.co/EplG4QZYDB', u'possibly_sensitive': False, u'is_quote_status': True, u'in_reply_to_status_id': None, u'user': {u'follow_request_sent': None, u'profile_use_background_image': True, u'default_profile_image': False, u'id': 1458375103, u'verified': False, u'profile_image_url_https': u'https://pbs.twimg.com/profile_images/569190259708411904/sPzu6yYH_normal.jpeg', u'profile_sidebar_fill_color': u'DDEEF6', u'profile_text_color': u'333333', u'followers_count': 174, u'profile_sidebar_border_color': u'C0DEED', u'id_str': u'1458375103', u'profile_background_color': u'C0DEED', u'listed_count': 0, u'profile_background_image_url_https': u'https://abs.twimg.com/images/themes/theme1/bg.png', u'utc_offset': None, u'statuses_count': 6310, u'description': u'La gente podra decir lo que sea pero lo que cuenta es lo que yo piense de mi misma :) 100%puertorriquena', u'friends_count': 328, u'location': None, u'profile_link_color': u'0084B4', u'profile_image_url': u'http://pbs.twimg.com/profile_images/569190259708411904/sPzu6yYH_normal.jpeg', u'following': None, u'geo_enabled': True, u'profile_banner_url': u'https://pbs.twimg.com/profile_banners/1458375103/1389815407', u'profile_background_image_url': u'http://abs.twimg.com/images/themes/theme1/bg.png', u'name': u'Marielis Ramos', u'lang': u'es', u'profile_background_tile': False, u'favourites_count': 224, u'screen_name': u'IbelMarielis', u'notifications': None, u'url': None, u'created_at': u'Sun May 26 00:20:57 +0000 2013', u'contributors_enabled': False, u'time_zone': None, u'protected': False, u'default_profile': True, u'is_translator': False}, u'filter_level': u'low', u'quoted_status_id_str': u'720012403270758402', u'geo': None, u'id': 720054505212133376, u'favorite_count': 0, u'lang': u'es', u'source': u'<a href=\"http://twitter.com/download/iphone\" rel=\"nofollow\">Twitter for iPhone</a>', u'in_reply_to_user_id_str': None, u'quoted_status_id': 720012403270758402, u'retweeted': False, u'coordinates': None, u'timestamp_ms': u'1460509346665', u'quoted_status': {u'contributors': None, u'truncated': False, u'text': u'Nunca digas nunca, la vida da muchas vueltas inesperadas.\\U0001f494', u'is_quote_status': False, u'in_reply_to_status_id': None, u'id': 720012403270758402, u'favorite_count': 0, u'source': u'<a href=\"https://about.twitter.com/products/tweetdeck\" rel=\"nofollow\">TweetDeck</a>', u'retweeted': False, u'coordinates': None, u'entities': {u'user_mentions': [], u'symbols': [], u'hashtags': [], u'urls': []}, u'in_reply_to_screen_name': None, u'id_str': u'720012403270758402', u'retweet_count': 0, u'in_reply_to_user_id': None, u'favorited': False, u'user': {u'follow_request_sent': None, u'profile_use_background_image': True, u'default_profile_image': False, u'id': 603464127, u'verified': False, u'profile_image_url_https': u'https://pbs.twimg.com/profile_images/416635414871822339/VDRp426D_normal.jpeg', u'profile_sidebar_fill_color': u'DDFFCC', u'profile_text_color': u'333333', u'followers_count': 135777, u'profile_sidebar_border_color': u'BDDCAD', u'id_str': u'603464127', u'profile_background_color': u'9AE4E8', u'listed_count': 204, u'profile_background_image_url_https': u'https://abs.twimg.com/images/themes/theme16/bg.gif', u'utc_offset': -18000, u'statuses_count': 2120, u'description': u'Con el tiempo la vida te ense\\xf1a a ignorar lo que parecia imposible de superar. Publicidad: pensador@owo.us', u'friends_count': 77834, u'location': u'Mexico', u'profile_link_color': u'0084B4', u'profile_image_url': u'http://pbs.twimg.com/profile_images/416635414871822339/VDRp426D_normal.jpeg', u'following': None, u'geo_enabled': False, u'profile_banner_url': u'https://pbs.twimg.com/profile_banners/603464127/1406948987', u'profile_background_image_url': u'http://abs.twimg.com/images/themes/theme16/bg.gif', u'name': u'Pensador Poetico\\u2122', u'lang': u'es', u'profile_background_tile': False, u'favourites_count': 4334, u'screen_name': u'pensadorpoetico', u'notifications': None, u'url': None, u'created_at': u'Sat Jun 09 06:58:12 +0000 2012', u'contributors_enabled': False, u'time_zone': u'Central Time (US & Canada)', u'protected': False, u'default_profile': False, u'is_translator': False}, u'geo': None, u'in_reply_to_user_id_str': None, u'lang': u'es', u'created_at': u'Tue Apr 12 22:15:08 +0000 2016', u'filter_level': u'low', u'in_reply_to_status_id_str': None, u'place': None}, u'entities': {u'user_mentions': [], u'symbols': [], u'hashtags': [], u'urls': [{u'url': u'https://t.co/EplG4QZYDB', u'indices': [40, 63], u'expanded_url': u'https://twitter.com/pensadorpoetico/status/720012403270758402', u'display_url': u'twitter.com/pensadorpoetic\\u2026'}]}, u'in_reply_to_status_id_str': None, u'in_reply_to_screen_name': None, u'id_str': u'720054505212133376', u'place': None, u'retweet_count': 0, u'created_at': u'Wed Apr 13 01:02:26 +0000 2016', u'in_reply_to_user_id': None}\n",
      "{u'favorited': False, u'contributors': None, u'truncated': False, u'text': u'Saben que es lo peor de todo? Que ma\\xf1ana tengo escrito\\U0001f62d', u'is_quote_status': False, u'in_reply_to_status_id': None, u'user': {u'follow_request_sent': None, u'profile_use_background_image': True, u'default_profile_image': False, u'id': 344411896, u'verified': False, u'profile_image_url_https': u'https://pbs.twimg.com/profile_images/697619062294233088/SR_JffD9_normal.jpg', u'profile_sidebar_fill_color': u'DDEEF6', u'profile_text_color': u'333333', u'followers_count': 1082, u'profile_sidebar_border_color': u'FFFFFF', u'id_str': u'344411896', u'profile_background_color': u'FFCC4D', u'listed_count': 4, u'profile_background_image_url_https': u'https://pbs.twimg.com/profile_background_images/511526784307712001/DESGKstv.jpeg', u'utc_offset': -10800, u'statuses_count': 45325, u'description': u'\\u03c0\\u03c0\\u03c0', u'friends_count': 552, u'location': u'Montevideo, Uruguay', u'profile_link_color': u'FFCC4D', u'profile_image_url': u'http://pbs.twimg.com/profile_images/697619062294233088/SR_JffD9_normal.jpg', u'following': None, u'geo_enabled': True, u'profile_banner_url': u'https://pbs.twimg.com/profile_banners/344411896/1459304458', u'profile_background_image_url': u'http://pbs.twimg.com/profile_background_images/511526784307712001/DESGKstv.jpeg', u'name': u'Ayrton Sena\\u2122', u'lang': u'es', u'profile_background_tile': True, u'favourites_count': 3720, u'screen_name': u'IvanAyrtonSena', u'notifications': None, u'url': None, u'created_at': u'Fri Jul 29 01:14:08 +0000 2011', u'contributors_enabled': False, u'time_zone': u'Brasilia', u'protected': False, u'default_profile': False, u'is_translator': False}, u'filter_level': u'low', u'geo': None, u'id': 720054505203703808, u'favorite_count': 0, u'lang': u'es', u'entities': {u'user_mentions': [], u'symbols': [], u'hashtags': [], u'urls': []}, u'in_reply_to_user_id_str': None, u'retweeted': False, u'coordinates': None, u'timestamp_ms': u'1460509346663', u'source': u'<a href=\"http://twitter.com/download/android\" rel=\"nofollow\">Twitter for Android</a>', u'in_reply_to_status_id_str': None, u'in_reply_to_screen_name': None, u'id_str': u'720054505203703808', u'place': None, u'retweet_count': 0, u'created_at': u'Wed Apr 13 01:02:26 +0000 2016', u'in_reply_to_user_id': None}\n"
     ]
    },
    {
     "ename": "KeyError",
     "evalue": "'user'",
     "output_type": "error",
     "traceback": [
      "\u001b[0;31m---------------------------------------------------------------------------\u001b[0m",
      "\u001b[0;31mKeyError\u001b[0m                                  Traceback (most recent call last)",
      "\u001b[0;32m<ipython-input-37-525789c42607>\u001b[0m in \u001b[0;36m<module>\u001b[0;34m()\u001b[0m\n\u001b[1;32m      3\u001b[0m \u001b[0miterator\u001b[0m \u001b[0;34m=\u001b[0m \u001b[0mtwitter_stream\u001b[0m\u001b[0;34m.\u001b[0m\u001b[0mstatuses\u001b[0m\u001b[0;34m.\u001b[0m\u001b[0msample\u001b[0m\u001b[0;34m(\u001b[0m\u001b[0;34m)\u001b[0m \u001b[0;31m#track='dance', language=\"en\"\u001b[0m\u001b[0;34m\u001b[0m\u001b[0m\n\u001b[1;32m      4\u001b[0m \u001b[0;32mfor\u001b[0m \u001b[0mtweet\u001b[0m \u001b[0;32min\u001b[0m \u001b[0miterator\u001b[0m\u001b[0;34m:\u001b[0m\u001b[0;34m\u001b[0m\u001b[0m\n\u001b[0;32m----> 5\u001b[0;31m     \u001b[0;32mif\u001b[0m \u001b[0;34m(\u001b[0m\u001b[0mtweet\u001b[0m\u001b[0;34m[\u001b[0m\u001b[0;34m'user'\u001b[0m\u001b[0;34m]\u001b[0m\u001b[0;34m[\u001b[0m\u001b[0;34m'geo_enabled'\u001b[0m\u001b[0;34m]\u001b[0m\u001b[0;34m)\u001b[0m\u001b[0;34m:\u001b[0m\u001b[0;34m\u001b[0m\u001b[0m\n\u001b[0m\u001b[1;32m      6\u001b[0m         \u001b[0;32mprint\u001b[0m \u001b[0mtweet\u001b[0m\u001b[0;34m\u001b[0m\u001b[0m\n\u001b[1;32m      7\u001b[0m         \u001b[0mgood_tweets\u001b[0m\u001b[0;34m.\u001b[0m\u001b[0mappend\u001b[0m\u001b[0;34m(\u001b[0m\u001b[0mtweet\u001b[0m\u001b[0;34m)\u001b[0m\u001b[0;34m\u001b[0m\u001b[0m\n",
      "\u001b[0;31mKeyError\u001b[0m: 'user'"
     ]
    }
   ],
   "source": [
    "good_tweets=[]\n",
    "twitter_stream = TwitterStream(domain='stream.twitter.com', auth=OAuth( OAUTH_TOKEN, OAUTH_TOKEN_SECRET, CONSUMER_KEY,  CONSUMER_SECRET))\n",
    "iterator = twitter_stream.statuses.sample() #track='dance', language=\"en\"\n",
    "for tweet in iterator:\n",
    "    if (tweet['user']['geo_enabled']):\n",
    "        print tweet\n",
    "        good_tweets.append(tweet)"
   ]
  },
  {
   "cell_type": "code",
   "execution_count": 38,
   "metadata": {
    "collapsed": false
   },
   "outputs": [
    {
     "ename": "KeyError",
     "evalue": "'user'",
     "output_type": "error",
     "traceback": [
      "\u001b[0;31m---------------------------------------------------------------------------\u001b[0m",
      "\u001b[0;31mKeyError\u001b[0m                                  Traceback (most recent call last)",
      "\u001b[0;32m<ipython-input-38-d2eeab67a25d>\u001b[0m in \u001b[0;36m<module>\u001b[0;34m()\u001b[0m\n\u001b[0;32m----> 1\u001b[0;31m \u001b[0mtweet\u001b[0m\u001b[0;34m[\u001b[0m\u001b[0;34m'user'\u001b[0m\u001b[0;34m]\u001b[0m\u001b[0;34m[\u001b[0m\u001b[0;34m'screen_name'\u001b[0m\u001b[0;34m]\u001b[0m\u001b[0;34m\u001b[0m\u001b[0m\n\u001b[0m\u001b[1;32m      2\u001b[0m \u001b[0mtweet\u001b[0m\u001b[0;34m[\u001b[0m\u001b[0;34m'user'\u001b[0m\u001b[0;34m]\u001b[0m\u001b[0;34m[\u001b[0m\u001b[0;34m'geo_enabled'\u001b[0m\u001b[0;34m]\u001b[0m\u001b[0;34m\u001b[0m\u001b[0m\n",
      "\u001b[0;31mKeyError\u001b[0m: 'user'"
     ]
    }
   ],
   "source": [
    "tweet['user']['screen_name']\n",
    "tweet['user']['geo_enabled']"
   ]
  },
  {
   "cell_type": "code",
   "execution_count": 42,
   "metadata": {
    "collapsed": false
   },
   "outputs": [
    {
     "data": {
      "text/plain": [
       "u'RT @elbidondebranco: Jugando asi San Lorenzo no solo no merece pasar de ronda, merece descender.'"
      ]
     },
     "execution_count": 42,
     "metadata": {},
     "output_type": "execute_result"
    }
   ],
   "source": [
    "good_tweets[0]['text']"
   ]
  },
  {
   "cell_type": "code",
   "execution_count": 12,
   "metadata": {
    "collapsed": false
   },
   "outputs": [
    {
     "name": "stdout",
     "output_type": "stream",
     "text": [
      "hungup\n"
     ]
    },
    {
     "ename": "KeyboardInterrupt",
     "evalue": "",
     "output_type": "error",
     "traceback": [
      "\u001b[0;31m---------------------------------------------------------------------------\u001b[0m",
      "\u001b[0;31mKeyboardInterrupt\u001b[0m                         Traceback (most recent call last)",
      "\u001b[0;32m<ipython-input-12-4ad97475c569>\u001b[0m in \u001b[0;36m<module>\u001b[0;34m()\u001b[0m\n\u001b[0;32m----> 1\u001b[0;31m \u001b[0mmine_for_emojis\u001b[0m\u001b[0;34m(\u001b[0m\u001b[0;34m)\u001b[0m\u001b[0;34m\u001b[0m\u001b[0m\n\u001b[0m",
      "\u001b[0;32m<ipython-input-10-24e2c2a5b145>\u001b[0m in \u001b[0;36mmine_for_emojis\u001b[0;34m(iterator)\u001b[0m\n\u001b[1;32m     26\u001b[0m         \u001b[0;32melse\u001b[0m\u001b[0;34m:\u001b[0m\u001b[0;34m\u001b[0m\u001b[0m\n\u001b[1;32m     27\u001b[0m             \u001b[0;32mprint\u001b[0m\u001b[0;34m(\u001b[0m\u001b[0;34m'hungup'\u001b[0m\u001b[0;34m)\u001b[0m\u001b[0;34m\u001b[0m\u001b[0m\n\u001b[0;32m---> 28\u001b[0;31m             \u001b[0mtime\u001b[0m\u001b[0;34m.\u001b[0m\u001b[0msleep\u001b[0m\u001b[0;34m(\u001b[0m\u001b[0;36m30\u001b[0m\u001b[0;34m)\u001b[0m\u001b[0;34m\u001b[0m\u001b[0m\n\u001b[0m\u001b[1;32m     29\u001b[0m             \u001b[0mmine_for_emojis\u001b[0m\u001b[0;34m(\u001b[0m\u001b[0;34m)\u001b[0m\u001b[0;34m\u001b[0m\u001b[0m\n",
      "\u001b[0;31mKeyboardInterrupt\u001b[0m: "
     ]
    }
   ],
   "source": [
    "mine_for_emojis()"
   ]
  },
  {
   "cell_type": "code",
   "execution_count": 43,
   "metadata": {
    "collapsed": false,
    "scrolled": true
   },
   "outputs": [
    {
     "data": {
      "text/plain": [
       "Series([], Name: text, dtype: object)"
      ]
     },
     "execution_count": 43,
     "metadata": {},
     "output_type": "execute_result"
    }
   ],
   "source": [
    "#Good cut for unique emojis\n",
    "\n",
    "df['text'][(df['emjTypes']==df['emjCount']) & (df['emjCount']>=3) ]"
   ]
  },
  {
   "cell_type": "markdown",
   "metadata": {},
   "source": [
    "<h1> Write to mongo DB </h1>"
   ]
  },
  {
   "cell_type": "code",
   "execution_count": 294,
   "metadata": {
    "collapsed": true
   },
   "outputs": [],
   "source": [
    "import datetime\n",
    "from pymongo import MongoClient\n",
    "\n",
    "client = MongoClient()\n",
    "db = client.emoji_db\n",
    "collection = db.emoji_tweets\n"
   ]
  },
  {
   "cell_type": "code",
   "execution_count": 295,
   "metadata": {
    "collapsed": false
   },
   "outputs": [],
   "source": [
    "entry = {\"date\": datetime.datetime.utcnow(),\\\n",
    "         \"created_at\": tweet['created_at'],\\\n",
    "         \"text\": tweet['text'],\\\n",
    "         \"retweet_count\": tweet['retweet_count'],\\\n",
    "         \"favorite_count\": tweet['favorite_count'], \\\n",
    "         \"lang\": tweet['lang'],\\\n",
    "         \"goe\": tweet['geo'],\\\n",
    "         \"coordinates\": tweet['coordinates'], \\\n",
    "         \"emjText\": emjText, \"emjCount\": emjCount, \"emjTypes\": emjTypes, \"mostFreqEmoji\": mostFreqEmoji,\\\n",
    "         \"mostFreqEmojiCount\": mostFreqEmojiCount, \"mostFreqWord\": mostFreqWord,\\\n",
    "         \"mostFreqWordCount\": mostFreqWordCount}"
   ]
  },
  {
   "cell_type": "code",
   "execution_count": 296,
   "metadata": {
    "collapsed": false
   },
   "outputs": [
    {
     "data": {
      "text/plain": [
       "ObjectId('56edad8dc2182c74ba76ce17')"
      ]
     },
     "execution_count": 296,
     "metadata": {},
     "output_type": "execute_result"
    }
   ],
   "source": [
    "collection.insert_one(entry).inserted_id"
   ]
  },
  {
   "cell_type": "markdown",
   "metadata": {},
   "source": [
    "<h1> Tweepy </h1>"
   ]
  },
  {
   "cell_type": "code",
   "execution_count": 575,
   "metadata": {
    "collapsed": false
   },
   "outputs": [],
   "source": [
    "from __future__ import division\n",
    "import json\n",
    "import tweepy\n",
    "from tweepy.streaming import StreamListener\n",
    "#from twitter import Twitter, OAuth, TwitterHTTPError, TwitterStream, auth\n",
    "import pandas as pd\n",
    "import re, collections\n",
    "import numpy as np\n",
    "CONSUMER_KEY = 'JJNPMPuZubIrFIqDNARJRDPDb'\n",
    "CONSUMER_SECRET = 'd6MlAqrJFcdyJac9aCQpBHPbwGs5eJB8zkTn5wA3tqBLHZgw0b'\n",
    "OAUTH_TOKEN = '3229899732-piSMFy32Vi0VSyXJX8R9y2qrkr0piesoHXBdI3v'\n",
    "OAUTH_TOKEN_SECRET = 'Jq9oTRMUjHRgA7NkJLLHIEyjtCRhYiFHdWkpBw28IBtHG'\n",
    "\n",
    "import os\n",
    "base_dir=os.path.expanduser('~')\n",
    "\n",
    "import datetime\n",
    "import time\n",
    "from pymongo import MongoClient\n",
    "#setup mongo DB\n",
    "client = MongoClient()\n",
    "db = client.emoji_db\n",
    "collection = db.emoji_tweets\n",
    "emoji_usage = db.emoji_usage\n",
    "\n",
    "#read emoji codes:\n",
    "emoji_key = pd.read_excel(base_dir+'/emojify/data/emoji_list.xlsx', encoding='utf-8', index_col=0, skiprows=1)\n",
    "emj_codes_skin=[code for code,name in zip(emoji_key['Unicode'],emoji_key['Name']) if ('FITZPATRICK' in name)]\n",
    "emj_codes=[code for code in emoji_key['Unicode'] if code!=\"Browser\" \\\n",
    "           if (code not in emj_codes_skin) if sum([c==\"*\" for c in code])==0]\n",
    "#remove common face emojis\n",
    "noise_index=range(69)\n",
    "emj_codes_noise=[code for index,code in zip(emoji_key.index,emoji_key['Unicode']) if index in noise_index]\n",
    "\n",
    "def get_keys(tweet):\n",
    "    max_index=0\n",
    "    max_count=len(tweet['statuses'][max_index].keys())\n",
    "    \n",
    "    for ii in range(len(tweet['statuses'])):\n",
    "        if max_count < len(tweet['statuses'][ii].keys()):\n",
    "            max_index=ii\n",
    "            \n",
    "    return tweet['statuses'][max_index].keys()\n",
    "\n",
    "def print_tweets_w_emj(T_DF,num=0):\n",
    "    for item in T_DF['text'][T_DF['emjSum']>=num]:\n",
    "        print(item)\n",
    "        \n",
    "def make_twitter_DF(tweet): #create PD dataframe\n",
    "    columns=get_keys(tweet)\n",
    "    for ii in range(len(tweet['statuses'])): \n",
    "        diff= list(set(columns)-set(tweet['statuses'][ii].keys()))\n",
    "        for val in diff:\n",
    "            tweet['statuses'][ii][val]=\"\"\n",
    "    return pd.DataFrame([tweet['statuses'][ii] for ii in range(len(tweet['statuses']))], columns=get_keys(tweet)) \n",
    "\n",
    "def Search_Word(q):\n",
    "    # Initiate the connection to Twitter REST API\n",
    "    twitter = Twitter(auth=OAuth( OAUTH_TOKEN, OAUTH_TOKEN_SECRET, CONSUMER_KEY,  CONSUMER_SECRET))       \n",
    "    tweet= twitter.search.tweets(q=q,lang='en', result_type='recent',count=200)\n",
    "    T_DF=make_twitter_DF(tweet)\n",
    "    \n",
    "    #long search function, more than 100\n",
    "    #T_DF=long_search(twitter,q,300)\n",
    "    \n",
    "    T_DF['emjText']=[[(emcode, len(re.findall(emcode,T_DF['text'][ii]))) for emcode in emj_codes\\\n",
    "                      if (len(re.findall(emcode,T_DF['text'][ii])) > 0)] for ii in range(len(T_DF))]\n",
    "    T_DF['emjSum']=[sum([item[1] for item in T_DF['emjText'][ii]]) for ii in range(len(T_DF))]\n",
    "    T_DF['emjTypes']=[len(T_DF['emjText'][ii]) for ii in range(len(T_DF))]\n",
    "    T_DF['searchWordSum']=[len(re.findall(q,T_DF['text'][ii].lower())) for ii in range(len(T_DF))]\n",
    "    return T_DF\n",
    "\n",
    "def Analyze_Freq(T_DF,emj_per_tweet=1,rep_emj_per_tweet=1, emj_types_per_tweet=1, nword=0):\n",
    "    DFcut=T_DF[(T_DF['emjSum']>=emj_per_tweet) & (T_DF['searchWordSum']>=nword) \\\n",
    "               & (T_DF['emjTypes']>=emj_types_per_tweet)] \n",
    "    \n",
    "    S=dict()\n",
    "    for key, value in sum(DFcut['emjText'],[]):\n",
    "        if value>=rep_emj_per_tweet:\n",
    "            try:\n",
    "                S[key] +=value\n",
    "            except KeyError:\n",
    "                S[key]=value\n",
    "        \n",
    "    return pd.DataFrame([(key,S[key]) for key in S],columns=('emoji','freq'))\n",
    "\n",
    "def count_words(text):\n",
    "    S = collections.defaultdict(lambda:0)\n",
    "    for word in text.split():\n",
    "        S[word.lower()]+=1\n",
    "    return max(S, key=S.get), S[max(S, key=S.get)]\n",
    "\n",
    "def emoji_split(text):\n",
    "    '''add a space after the emoji, and remove double spaces'''\n",
    "    for emcode in emj_codes:\n",
    "        if (len(re.findall(emcode,text))) > 0:\n",
    "            text=text.replace(emcode,emcode+' ')\n",
    "    for skin in emj_codes_skin:\n",
    "        text=text.replace(' '+skin,skin+' ') #put the skin codes back into place but add a space afterwards\n",
    "    return ' '.join(text.split())\n",
    "\n",
    "def NextWord(text,emj):\n",
    "    try:\n",
    "        last_index=len(text)-(text[::-1].index(emj[::-1]))-2\n",
    "    except ValueError:\n",
    "        last_index=len(text)\n",
    "    return ''.join(text[last_index+2:].split()[:1])\n",
    "\n",
    "    \n",
    "class StdOutListener(StreamListener):\n",
    "    \"\"\" A listener handles tweets that are received from the stream.\n",
    "    This is a basic listener that just prints received tweets to stdout.\n",
    "    \"\"\"\n",
    "    def on_status(self, status):\n",
    "        mine_for_emojis(status)\n",
    "        return True\n",
    "\n",
    "    def on_error(self, status):\n",
    "        print(status)\n",
    "\n",
    "def write_emoji_usage(tweet,has_emoji):\n",
    "    entry = {\"date\": datetime.datetime.utcnow(),\\\n",
    "             \"created_at\": tweet.created_at,\\\n",
    "             \"retweet_count\": tweet.retweet_count,\\\n",
    "             \"favorite_count\": tweet.favorite_count,\\\n",
    "             \"lang\": tweet.lang,\\\n",
    "             \"goe\": tweet.geo,\\\n",
    "             \"coordinates\": tweet.coordinates,\\\n",
    "             \"time_zone\": tweet.user.time_zone,\\\n",
    "             \"name\":tweet.user.name, \"user_name\":tweet.user.screen_name,\\\n",
    "             \"has_emoji\":has_emoji}\n",
    "    emoji_usage.insert_one(entry).inserted_id\n",
    " \n",
    "        \n",
    "def mine_for_emojis(tweet):\n",
    "    \n",
    "    has_emoji=False\n",
    "    emjText=[(emcode, len(re.findall(emcode,tweet.text))) for emcode in emj_codes\\\n",
    "                      if (len(re.findall(emcode,tweet.text)) > 0)]\n",
    "    \n",
    "    if len(emjText) >0:\n",
    "        has_emoji=True\n",
    "        emjCount=sum([item[1] for item in emjText])\n",
    "        emjTypes = len(emjText)\n",
    "        a=np.array(emjText)\n",
    "        mostFreqEmoji = a[np.argsort(a[:, 1])][-1][0]\n",
    "        mostFreqEmojiCount = int(a[np.argsort(a[:, 1])][-1][1])\n",
    "        mostFreqWord, mostFreqWordCount = count_words(tweet.text)\n",
    "        newlineCount= tweet.text.count('\\n')\n",
    "        surrounding_text = [(emcode, tweet.text[:tweet.text.index(emcode)].split()[-1:],\\\n",
    "                tweet.text[tweet.text.index(emcode)+2:].split()[:1],\\\n",
    "                tweet.text[:tweet.text.index(emcode)].split()[-5:],\\\n",
    "                tweet.text[tweet.text.index(emcode)+2:].split()[:5]) for emcode in emj_codes\\\n",
    "                  if (len(re.findall(emcode,tweet.text)) > 0)]\n",
    "        \n",
    "        prev_word = ''.join(tweet.text[:tweet.text.index(mostFreqEmoji)].split()[-1:])\n",
    "        #finding the next word is more tricky :)\n",
    "        try:\n",
    "            last_index=len(tweet.text)-(tweet.text[::-1].index(mostFreqEmoji[::-1]))-2\n",
    "        except ValueError:\n",
    "            last_index=len(tweet.text)\n",
    "        next_word = ''.join(tweet.text[last_index+2:].split()[:1])\n",
    "        \n",
    "        #skin tone information\n",
    "        emjText_skin=[(emcode, len(re.findall(emcode,tweet.text))) for emcode in emj_codes_skin\\\n",
    "                      if (len(re.findall(emcode,tweet.text)) > 0)]\n",
    "        skinCount=sum([item[1] for item in emjText_skin])\n",
    "        skinTypes = len(emjText_skin)\n",
    "        if skinTypes==0:\n",
    "            mostFreqSkin, mostFreqSkinCount= 0,0\n",
    "        else:\n",
    "            b=np.array(emjText_skin)\n",
    "            mostFreqSkin = b[np.argsort(b[:, 1])][-1][0]\n",
    "            mostFreqSkinCount = int(b[np.argsort(b[:, 1])][-1][1])\n",
    " \n",
    "        entry = {\"date\": datetime.datetime.utcnow(),\\\n",
    "            \"created_at\": tweet.created_at,\\\n",
    "        \"text\": tweet.text,\\\n",
    "        \"retweet_count\": tweet.retweet_count,\\\n",
    "     \"favorite_count\": tweet.favorite_count,\\\n",
    "     \"lang\": tweet.lang,\\\n",
    "     \"geo\": tweet.geo,\"time_zone\": tweet.user.time_zone,\\\n",
    "     \"coordinates\": tweet.coordinates, \"name\":tweet.user.name, \"user_name\":tweet.user.screen_name,\\\n",
    "     \"emjText\": emjText, \"emjCount\": emjCount, \"emjTypes\": emjTypes, \"mostFreqEmoji\": mostFreqEmoji,\\\n",
    "     \"mostFreqEmojiCount\": mostFreqEmojiCount, \"prev_word\": prev_word, \"next_word\": next_word,\\\n",
    "     \"mostFreqWord\": mostFreqWord, \"mostFreqWordCount\": mostFreqWordCount,\\\n",
    "     \"surrounding_text\": surrounding_text,\\\n",
    "     \"emjText_skin\": emjText_skin, \"skinCount\": skinCount, \"skinTypes\": skinTypes, \"mostFreqSkin\": mostFreqSkin,\\\n",
    "     \"mostFreqSkinCount\": mostFreqSkinCount, \"newlineCount\":newlineCount}\n",
    "\n",
    "        collection.insert_one(entry).inserted_id\n",
    "        print(tweet.text)\n",
    "        \n",
    "    write_emoji_usage(tweet,has_emoji)\n",
    "    \n",
    "    "
   ]
  },
  {
   "cell_type": "code",
   "execution_count": 576,
   "metadata": {
    "collapsed": false,
    "scrolled": true
   },
   "outputs": [
    {
     "name": "stdout",
     "output_type": "stream",
     "text": [
      "พี่แจบอมอาจจะจำไม่ได้ว่าเคยพูดอะไรไว้เพราะทุกอย่างที่พี่แจบอมทำ.....ใจมันสั่งมา💕 #พี่แจบอมไม่ชอบจับมือผู้ชาย https://t.co/tjn5FiiH5l\n",
      "RT @yumu_34: 🌟お知らせ🌟\n",
      "\n",
      "5月18日▶︎渋谷O-nest\n",
      "\n",
      "アンダービースティー\n",
      "2周年記念公演が決定しました✨\n",
      "リアル2周年の日です！！\n",
      "\n",
      "詳細は分かり次第お知らせします🙇🏻\n",
      "\n",
      "この日はとっても大切な日。\n",
      "今から予定を空けていただけたら\n",
      "嬉しいです😭✨\n",
      "よろし…\n",
      "RT @ALDUBHashtagSQ: #ALDUB47thBOEAwards -2nd Spot PHL (NW), Rank 11 Worldwide Trends\n",
      "\n",
      "👉 631K Tweets as of 11:45PM MLA TIME\n",
      "\n",
      "@ALDub_RTeam ht…\n",
      "RT @Korseries: มีการเปิดเผยว่า พัคโบกอม เป็นคนออกแบบโลโก้สินค้าOfficial งานแฟนมีตติ้งของซงจุงกิ😆💕 #SongJoongKiFanMeetingInSeoul https://t.c…\n",
      "الله.. أُريد بش أن يدوم هذا التصالح مع نفسي,ورضاي,وأكتفائي ولا مُبالاتي. فاللهم أدمه💛.\n",
      "RT @nkkivillafuerte: Natuto na🙈😂💙 #KATHNIELAt47thGMMSFAwards https://t.co/jdj235qY9m\n"
     ]
    },
    {
     "ename": "KeyboardInterrupt",
     "evalue": "",
     "output_type": "error",
     "traceback": [
      "\u001b[0;31m---------------------------------------------------------------------------\u001b[0m",
      "\u001b[0;31mKeyboardInterrupt\u001b[0m                         Traceback (most recent call last)",
      "\u001b[0;32m<ipython-input-576-cce249486cdb>\u001b[0m in \u001b[0;36m<module>\u001b[0;34m()\u001b[0m\n\u001b[1;32m      5\u001b[0m \u001b[0mapi\u001b[0m \u001b[0;34m=\u001b[0m \u001b[0mtweepy\u001b[0m\u001b[0;34m.\u001b[0m\u001b[0mAPI\u001b[0m\u001b[0;34m(\u001b[0m\u001b[0mauth\u001b[0m\u001b[0;34m)\u001b[0m\u001b[0;34m\u001b[0m\u001b[0m\n\u001b[1;32m      6\u001b[0m \u001b[0mmyStream\u001b[0m \u001b[0;34m=\u001b[0m \u001b[0mtweepy\u001b[0m\u001b[0;34m.\u001b[0m\u001b[0mStream\u001b[0m\u001b[0;34m(\u001b[0m\u001b[0mauth\u001b[0m \u001b[0;34m=\u001b[0m \u001b[0mapi\u001b[0m\u001b[0;34m.\u001b[0m\u001b[0mauth\u001b[0m\u001b[0;34m,\u001b[0m \u001b[0mlistener\u001b[0m\u001b[0;34m=\u001b[0m\u001b[0ml\u001b[0m\u001b[0;34m)\u001b[0m\u001b[0;34m\u001b[0m\u001b[0m\n\u001b[0;32m----> 7\u001b[0;31m \u001b[0mmyStream\u001b[0m\u001b[0;34m.\u001b[0m\u001b[0msample\u001b[0m\u001b[0;34m(\u001b[0m\u001b[0;34m)\u001b[0m\u001b[0;34m\u001b[0m\u001b[0m\n\u001b[0m",
      "\u001b[0;32m/Users/attiladobi/anaconda/lib/python2.7/site-packages/tweepy/streaming.pyc\u001b[0m in \u001b[0;36msample\u001b[0;34m(self, async, languages)\u001b[0m\n\u001b[1;32m    425\u001b[0m         \u001b[0;32mif\u001b[0m \u001b[0mlanguages\u001b[0m\u001b[0;34m:\u001b[0m\u001b[0;34m\u001b[0m\u001b[0m\n\u001b[1;32m    426\u001b[0m             \u001b[0mself\u001b[0m\u001b[0;34m.\u001b[0m\u001b[0msession\u001b[0m\u001b[0;34m.\u001b[0m\u001b[0mparams\u001b[0m\u001b[0;34m[\u001b[0m\u001b[0;34m'language'\u001b[0m\u001b[0;34m]\u001b[0m \u001b[0;34m=\u001b[0m \u001b[0;34m','\u001b[0m\u001b[0;34m.\u001b[0m\u001b[0mjoin\u001b[0m\u001b[0;34m(\u001b[0m\u001b[0mmap\u001b[0m\u001b[0;34m(\u001b[0m\u001b[0mstr\u001b[0m\u001b[0;34m,\u001b[0m \u001b[0mlanguages\u001b[0m\u001b[0;34m)\u001b[0m\u001b[0;34m)\u001b[0m\u001b[0;34m\u001b[0m\u001b[0m\n\u001b[0;32m--> 427\u001b[0;31m         \u001b[0mself\u001b[0m\u001b[0;34m.\u001b[0m\u001b[0m_start\u001b[0m\u001b[0;34m(\u001b[0m\u001b[0masync\u001b[0m\u001b[0;34m)\u001b[0m\u001b[0;34m\u001b[0m\u001b[0m\n\u001b[0m\u001b[1;32m    428\u001b[0m \u001b[0;34m\u001b[0m\u001b[0m\n\u001b[1;32m    429\u001b[0m     def filter(self, follow=None, track=None, async=False, locations=None,\n",
      "\u001b[0;32m/Users/attiladobi/anaconda/lib/python2.7/site-packages/tweepy/streaming.pyc\u001b[0m in \u001b[0;36m_start\u001b[0;34m(self, async)\u001b[0m\n\u001b[1;32m    367\u001b[0m             \u001b[0mself\u001b[0m\u001b[0;34m.\u001b[0m\u001b[0m_thread\u001b[0m\u001b[0;34m.\u001b[0m\u001b[0mstart\u001b[0m\u001b[0;34m(\u001b[0m\u001b[0;34m)\u001b[0m\u001b[0;34m\u001b[0m\u001b[0m\n\u001b[1;32m    368\u001b[0m         \u001b[0;32melse\u001b[0m\u001b[0;34m:\u001b[0m\u001b[0;34m\u001b[0m\u001b[0m\n\u001b[0;32m--> 369\u001b[0;31m             \u001b[0mself\u001b[0m\u001b[0;34m.\u001b[0m\u001b[0m_run\u001b[0m\u001b[0;34m(\u001b[0m\u001b[0;34m)\u001b[0m\u001b[0;34m\u001b[0m\u001b[0m\n\u001b[0m\u001b[1;32m    370\u001b[0m \u001b[0;34m\u001b[0m\u001b[0m\n\u001b[1;32m    371\u001b[0m     \u001b[0;32mdef\u001b[0m \u001b[0mon_closed\u001b[0m\u001b[0;34m(\u001b[0m\u001b[0mself\u001b[0m\u001b[0;34m,\u001b[0m \u001b[0mresp\u001b[0m\u001b[0;34m)\u001b[0m\u001b[0;34m:\u001b[0m\u001b[0;34m\u001b[0m\u001b[0m\n",
      "\u001b[0;32m/Users/attiladobi/anaconda/lib/python2.7/site-packages/tweepy/streaming.pyc\u001b[0m in \u001b[0;36m_run\u001b[0;34m(self)\u001b[0m\n\u001b[1;32m    263\u001b[0m                     \u001b[0mself\u001b[0m\u001b[0;34m.\u001b[0m\u001b[0msnooze_time\u001b[0m \u001b[0;34m=\u001b[0m \u001b[0mself\u001b[0m\u001b[0;34m.\u001b[0m\u001b[0msnooze_time_step\u001b[0m\u001b[0;34m\u001b[0m\u001b[0m\n\u001b[1;32m    264\u001b[0m                     \u001b[0mself\u001b[0m\u001b[0;34m.\u001b[0m\u001b[0mlistener\u001b[0m\u001b[0;34m.\u001b[0m\u001b[0mon_connect\u001b[0m\u001b[0;34m(\u001b[0m\u001b[0;34m)\u001b[0m\u001b[0;34m\u001b[0m\u001b[0m\n\u001b[0;32m--> 265\u001b[0;31m                     \u001b[0mself\u001b[0m\u001b[0;34m.\u001b[0m\u001b[0m_read_loop\u001b[0m\u001b[0;34m(\u001b[0m\u001b[0mresp\u001b[0m\u001b[0;34m)\u001b[0m\u001b[0;34m\u001b[0m\u001b[0m\n\u001b[0m\u001b[1;32m    266\u001b[0m             \u001b[0;32mexcept\u001b[0m \u001b[0;34m(\u001b[0m\u001b[0mTimeout\u001b[0m\u001b[0;34m,\u001b[0m \u001b[0mssl\u001b[0m\u001b[0;34m.\u001b[0m\u001b[0mSSLError\u001b[0m\u001b[0;34m)\u001b[0m \u001b[0;32mas\u001b[0m \u001b[0mexc\u001b[0m\u001b[0;34m:\u001b[0m\u001b[0;34m\u001b[0m\u001b[0m\n\u001b[1;32m    267\u001b[0m                 \u001b[0;31m# This is still necessary, as a SSLError can actually be\u001b[0m\u001b[0;34m\u001b[0m\u001b[0;34m\u001b[0m\u001b[0m\n",
      "\u001b[0;32m/Users/attiladobi/anaconda/lib/python2.7/site-packages/tweepy/streaming.pyc\u001b[0m in \u001b[0;36m_read_loop\u001b[0;34m(self, resp)\u001b[0m\n\u001b[1;32m    330\u001b[0m             \u001b[0mnext_status_obj\u001b[0m \u001b[0;34m=\u001b[0m \u001b[0mbuf\u001b[0m\u001b[0;34m.\u001b[0m\u001b[0mread_len\u001b[0m\u001b[0;34m(\u001b[0m\u001b[0mlength\u001b[0m\u001b[0;34m)\u001b[0m\u001b[0;34m\u001b[0m\u001b[0m\n\u001b[1;32m    331\u001b[0m             \u001b[0;32mif\u001b[0m \u001b[0mself\u001b[0m\u001b[0;34m.\u001b[0m\u001b[0mrunning\u001b[0m\u001b[0;34m:\u001b[0m\u001b[0;34m\u001b[0m\u001b[0m\n\u001b[0;32m--> 332\u001b[0;31m                 \u001b[0mself\u001b[0m\u001b[0;34m.\u001b[0m\u001b[0m_data\u001b[0m\u001b[0;34m(\u001b[0m\u001b[0mnext_status_obj\u001b[0m\u001b[0;34m)\u001b[0m\u001b[0;34m\u001b[0m\u001b[0m\n\u001b[0m\u001b[1;32m    333\u001b[0m \u001b[0;34m\u001b[0m\u001b[0m\n\u001b[1;32m    334\u001b[0m             \u001b[0;31m# # Note: keep-alive newlines might be inserted before each length value.\u001b[0m\u001b[0;34m\u001b[0m\u001b[0;34m\u001b[0m\u001b[0m\n",
      "\u001b[0;32m/Users/attiladobi/anaconda/lib/python2.7/site-packages/tweepy/streaming.pyc\u001b[0m in \u001b[0;36m_data\u001b[0;34m(self, data)\u001b[0m\n\u001b[1;32m    303\u001b[0m \u001b[0;34m\u001b[0m\u001b[0m\n\u001b[1;32m    304\u001b[0m     \u001b[0;32mdef\u001b[0m \u001b[0m_data\u001b[0m\u001b[0;34m(\u001b[0m\u001b[0mself\u001b[0m\u001b[0;34m,\u001b[0m \u001b[0mdata\u001b[0m\u001b[0;34m)\u001b[0m\u001b[0;34m:\u001b[0m\u001b[0;34m\u001b[0m\u001b[0m\n\u001b[0;32m--> 305\u001b[0;31m         \u001b[0;32mif\u001b[0m \u001b[0mself\u001b[0m\u001b[0;34m.\u001b[0m\u001b[0mlistener\u001b[0m\u001b[0;34m.\u001b[0m\u001b[0mon_data\u001b[0m\u001b[0;34m(\u001b[0m\u001b[0mdata\u001b[0m\u001b[0;34m)\u001b[0m \u001b[0;32mis\u001b[0m \u001b[0mFalse\u001b[0m\u001b[0;34m:\u001b[0m\u001b[0;34m\u001b[0m\u001b[0m\n\u001b[0m\u001b[1;32m    306\u001b[0m             \u001b[0mself\u001b[0m\u001b[0;34m.\u001b[0m\u001b[0mrunning\u001b[0m \u001b[0;34m=\u001b[0m \u001b[0mFalse\u001b[0m\u001b[0;34m\u001b[0m\u001b[0m\n\u001b[1;32m    307\u001b[0m \u001b[0;34m\u001b[0m\u001b[0m\n",
      "\u001b[0;32m/Users/attiladobi/anaconda/lib/python2.7/site-packages/tweepy/streaming.pyc\u001b[0m in \u001b[0;36mon_data\u001b[0;34m(self, raw_data)\u001b[0m\n\u001b[1;32m     52\u001b[0m         \u001b[0;32mif\u001b[0m \u001b[0;34m'in_reply_to_status_id'\u001b[0m \u001b[0;32min\u001b[0m \u001b[0mdata\u001b[0m\u001b[0;34m:\u001b[0m\u001b[0;34m\u001b[0m\u001b[0m\n\u001b[1;32m     53\u001b[0m             \u001b[0mstatus\u001b[0m \u001b[0;34m=\u001b[0m \u001b[0mStatus\u001b[0m\u001b[0;34m.\u001b[0m\u001b[0mparse\u001b[0m\u001b[0;34m(\u001b[0m\u001b[0mself\u001b[0m\u001b[0;34m.\u001b[0m\u001b[0mapi\u001b[0m\u001b[0;34m,\u001b[0m \u001b[0mdata\u001b[0m\u001b[0;34m)\u001b[0m\u001b[0;34m\u001b[0m\u001b[0m\n\u001b[0;32m---> 54\u001b[0;31m             \u001b[0;32mif\u001b[0m \u001b[0mself\u001b[0m\u001b[0;34m.\u001b[0m\u001b[0mon_status\u001b[0m\u001b[0;34m(\u001b[0m\u001b[0mstatus\u001b[0m\u001b[0;34m)\u001b[0m \u001b[0;32mis\u001b[0m \u001b[0mFalse\u001b[0m\u001b[0;34m:\u001b[0m\u001b[0;34m\u001b[0m\u001b[0m\n\u001b[0m\u001b[1;32m     55\u001b[0m                 \u001b[0;32mreturn\u001b[0m \u001b[0mFalse\u001b[0m\u001b[0;34m\u001b[0m\u001b[0m\n\u001b[1;32m     56\u001b[0m         \u001b[0;32melif\u001b[0m \u001b[0;34m'delete'\u001b[0m \u001b[0;32min\u001b[0m \u001b[0mdata\u001b[0m\u001b[0;34m:\u001b[0m\u001b[0;34m\u001b[0m\u001b[0m\n",
      "\u001b[0;32m<ipython-input-575-7ff04ec79100>\u001b[0m in \u001b[0;36mon_status\u001b[0;34m(self, status)\u001b[0m\n\u001b[1;32m    110\u001b[0m     \"\"\"\n\u001b[1;32m    111\u001b[0m     \u001b[0;32mdef\u001b[0m \u001b[0mon_status\u001b[0m\u001b[0;34m(\u001b[0m\u001b[0mself\u001b[0m\u001b[0;34m,\u001b[0m \u001b[0mstatus\u001b[0m\u001b[0;34m)\u001b[0m\u001b[0;34m:\u001b[0m\u001b[0;34m\u001b[0m\u001b[0m\n\u001b[0;32m--> 112\u001b[0;31m         \u001b[0mmine_for_emojis\u001b[0m\u001b[0;34m(\u001b[0m\u001b[0mstatus\u001b[0m\u001b[0;34m)\u001b[0m\u001b[0;34m\u001b[0m\u001b[0m\n\u001b[0m\u001b[1;32m    113\u001b[0m         \u001b[0;32mreturn\u001b[0m \u001b[0mTrue\u001b[0m\u001b[0;34m\u001b[0m\u001b[0m\n\u001b[1;32m    114\u001b[0m \u001b[0;34m\u001b[0m\u001b[0m\n",
      "\u001b[0;32m<ipython-input-575-7ff04ec79100>\u001b[0m in \u001b[0;36mmine_for_emojis\u001b[0;34m(tweet)\u001b[0m\n\u001b[1;32m    124\u001b[0m \u001b[0;34m\u001b[0m\u001b[0m\n\u001b[1;32m    125\u001b[0m     \u001b[0mhas_emoji\u001b[0m\u001b[0;34m=\u001b[0m\u001b[0mFalse\u001b[0m\u001b[0;34m\u001b[0m\u001b[0m\n\u001b[0;32m--> 126\u001b[0;31m     \u001b[0memjText\u001b[0m\u001b[0;34m=\u001b[0m\u001b[0;34m[\u001b[0m\u001b[0;34m(\u001b[0m\u001b[0memcode\u001b[0m\u001b[0;34m,\u001b[0m \u001b[0mlen\u001b[0m\u001b[0;34m(\u001b[0m\u001b[0mre\u001b[0m\u001b[0;34m.\u001b[0m\u001b[0mfindall\u001b[0m\u001b[0;34m(\u001b[0m\u001b[0memcode\u001b[0m\u001b[0;34m,\u001b[0m\u001b[0mtweet\u001b[0m\u001b[0;34m.\u001b[0m\u001b[0mtext\u001b[0m\u001b[0;34m)\u001b[0m\u001b[0;34m)\u001b[0m\u001b[0;34m)\u001b[0m \u001b[0;32mfor\u001b[0m \u001b[0memcode\u001b[0m \u001b[0;32min\u001b[0m \u001b[0memj_codes\u001b[0m                      \u001b[0;32mif\u001b[0m \u001b[0;34m(\u001b[0m\u001b[0mlen\u001b[0m\u001b[0;34m(\u001b[0m\u001b[0mre\u001b[0m\u001b[0;34m.\u001b[0m\u001b[0mfindall\u001b[0m\u001b[0;34m(\u001b[0m\u001b[0memcode\u001b[0m\u001b[0;34m,\u001b[0m\u001b[0mtweet\u001b[0m\u001b[0;34m.\u001b[0m\u001b[0mtext\u001b[0m\u001b[0;34m)\u001b[0m\u001b[0;34m)\u001b[0m \u001b[0;34m>\u001b[0m \u001b[0;36m0\u001b[0m\u001b[0;34m)\u001b[0m\u001b[0;34m]\u001b[0m\u001b[0;34m\u001b[0m\u001b[0m\n\u001b[0m\u001b[1;32m    127\u001b[0m \u001b[0;34m\u001b[0m\u001b[0m\n\u001b[1;32m    128\u001b[0m     \u001b[0;32mif\u001b[0m \u001b[0mlen\u001b[0m\u001b[0;34m(\u001b[0m\u001b[0memjText\u001b[0m\u001b[0;34m)\u001b[0m \u001b[0;34m>\u001b[0m\u001b[0;36m0\u001b[0m\u001b[0;34m:\u001b[0m\u001b[0;34m\u001b[0m\u001b[0m\n",
      "\u001b[0;32m/Users/attiladobi/anaconda/lib/python2.7/re.pyc\u001b[0m in \u001b[0;36mfindall\u001b[0;34m(pattern, string, flags)\u001b[0m\n\u001b[1;32m    179\u001b[0m \u001b[0;34m\u001b[0m\u001b[0m\n\u001b[1;32m    180\u001b[0m     Empty matches are included in the result.\"\"\"\n\u001b[0;32m--> 181\u001b[0;31m     \u001b[0;32mreturn\u001b[0m \u001b[0m_compile\u001b[0m\u001b[0;34m(\u001b[0m\u001b[0mpattern\u001b[0m\u001b[0;34m,\u001b[0m \u001b[0mflags\u001b[0m\u001b[0;34m)\u001b[0m\u001b[0;34m.\u001b[0m\u001b[0mfindall\u001b[0m\u001b[0;34m(\u001b[0m\u001b[0mstring\u001b[0m\u001b[0;34m)\u001b[0m\u001b[0;34m\u001b[0m\u001b[0m\n\u001b[0m\u001b[1;32m    182\u001b[0m \u001b[0;34m\u001b[0m\u001b[0m\n\u001b[1;32m    183\u001b[0m \u001b[0;32mif\u001b[0m \u001b[0msys\u001b[0m\u001b[0;34m.\u001b[0m\u001b[0mhexversion\u001b[0m \u001b[0;34m>=\u001b[0m \u001b[0;36m0x02020000\u001b[0m\u001b[0;34m:\u001b[0m\u001b[0;34m\u001b[0m\u001b[0m\n",
      "\u001b[0;32m/Users/attiladobi/anaconda/lib/python2.7/re.pyc\u001b[0m in \u001b[0;36m_compile\u001b[0;34m(*key)\u001b[0m\n\u001b[1;32m    247\u001b[0m         \u001b[0;32mraise\u001b[0m \u001b[0mTypeError\u001b[0m\u001b[0;34m,\u001b[0m \u001b[0;34m\"first argument must be string or compiled pattern\"\u001b[0m\u001b[0;34m\u001b[0m\u001b[0m\n\u001b[1;32m    248\u001b[0m     \u001b[0;32mtry\u001b[0m\u001b[0;34m:\u001b[0m\u001b[0;34m\u001b[0m\u001b[0m\n\u001b[0;32m--> 249\u001b[0;31m         \u001b[0mp\u001b[0m \u001b[0;34m=\u001b[0m \u001b[0msre_compile\u001b[0m\u001b[0;34m.\u001b[0m\u001b[0mcompile\u001b[0m\u001b[0;34m(\u001b[0m\u001b[0mpattern\u001b[0m\u001b[0;34m,\u001b[0m \u001b[0mflags\u001b[0m\u001b[0;34m)\u001b[0m\u001b[0;34m\u001b[0m\u001b[0m\n\u001b[0m\u001b[1;32m    250\u001b[0m     \u001b[0;32mexcept\u001b[0m \u001b[0merror\u001b[0m\u001b[0;34m,\u001b[0m \u001b[0mv\u001b[0m\u001b[0;34m:\u001b[0m\u001b[0;34m\u001b[0m\u001b[0m\n\u001b[1;32m    251\u001b[0m         \u001b[0;32mraise\u001b[0m \u001b[0merror\u001b[0m\u001b[0;34m,\u001b[0m \u001b[0mv\u001b[0m \u001b[0;31m# invalid expression\u001b[0m\u001b[0;34m\u001b[0m\u001b[0m\n",
      "\u001b[0;32m/Users/attiladobi/anaconda/lib/python2.7/sre_compile.pyc\u001b[0m in \u001b[0;36mcompile\u001b[0;34m(p, flags)\u001b[0m\n\u001b[1;32m    574\u001b[0m         \u001b[0mpattern\u001b[0m \u001b[0;34m=\u001b[0m \u001b[0mNone\u001b[0m\u001b[0;34m\u001b[0m\u001b[0m\n\u001b[1;32m    575\u001b[0m \u001b[0;34m\u001b[0m\u001b[0m\n\u001b[0;32m--> 576\u001b[0;31m     \u001b[0mcode\u001b[0m \u001b[0;34m=\u001b[0m \u001b[0m_code\u001b[0m\u001b[0;34m(\u001b[0m\u001b[0mp\u001b[0m\u001b[0;34m,\u001b[0m \u001b[0mflags\u001b[0m\u001b[0;34m)\u001b[0m\u001b[0;34m\u001b[0m\u001b[0m\n\u001b[0m\u001b[1;32m    577\u001b[0m \u001b[0;34m\u001b[0m\u001b[0m\n\u001b[1;32m    578\u001b[0m     \u001b[0;31m# print code\u001b[0m\u001b[0;34m\u001b[0m\u001b[0;34m\u001b[0m\u001b[0m\n",
      "\u001b[0;32m/Users/attiladobi/anaconda/lib/python2.7/sre_compile.pyc\u001b[0m in \u001b[0;36m_code\u001b[0;34m(p, flags)\u001b[0m\n\u001b[1;32m    556\u001b[0m \u001b[0;34m\u001b[0m\u001b[0m\n\u001b[1;32m    557\u001b[0m     \u001b[0;31m# compile info block\u001b[0m\u001b[0;34m\u001b[0m\u001b[0;34m\u001b[0m\u001b[0m\n\u001b[0;32m--> 558\u001b[0;31m     \u001b[0m_compile_info\u001b[0m\u001b[0;34m(\u001b[0m\u001b[0mcode\u001b[0m\u001b[0;34m,\u001b[0m \u001b[0mp\u001b[0m\u001b[0;34m,\u001b[0m \u001b[0mflags\u001b[0m\u001b[0;34m)\u001b[0m\u001b[0;34m\u001b[0m\u001b[0m\n\u001b[0m\u001b[1;32m    559\u001b[0m \u001b[0;34m\u001b[0m\u001b[0m\n\u001b[1;32m    560\u001b[0m     \u001b[0;31m# compile the pattern\u001b[0m\u001b[0;34m\u001b[0m\u001b[0;34m\u001b[0m\u001b[0m\n",
      "\u001b[0;32m/Users/attiladobi/anaconda/lib/python2.7/sre_compile.pyc\u001b[0m in \u001b[0;36m_compile_info\u001b[0;34m(code, pattern, flags)\u001b[0m\n\u001b[1;32m    448\u001b[0m         \u001b[0;32mfor\u001b[0m \u001b[0mop\u001b[0m\u001b[0;34m,\u001b[0m \u001b[0mav\u001b[0m \u001b[0;32min\u001b[0m \u001b[0mpattern\u001b[0m\u001b[0;34m.\u001b[0m\u001b[0mdata\u001b[0m\u001b[0;34m:\u001b[0m\u001b[0;34m\u001b[0m\u001b[0m\n\u001b[1;32m    449\u001b[0m             \u001b[0;32mif\u001b[0m \u001b[0mop\u001b[0m \u001b[0;32mis\u001b[0m \u001b[0mLITERAL\u001b[0m\u001b[0;34m:\u001b[0m\u001b[0;34m\u001b[0m\u001b[0m\n\u001b[0;32m--> 450\u001b[0;31m                 \u001b[0;32mif\u001b[0m \u001b[0mlen\u001b[0m\u001b[0;34m(\u001b[0m\u001b[0mprefix\u001b[0m\u001b[0;34m)\u001b[0m \u001b[0;34m==\u001b[0m \u001b[0mprefix_skip\u001b[0m\u001b[0;34m:\u001b[0m\u001b[0;34m\u001b[0m\u001b[0m\n\u001b[0m\u001b[1;32m    451\u001b[0m                     \u001b[0mprefix_skip\u001b[0m \u001b[0;34m=\u001b[0m \u001b[0mprefix_skip\u001b[0m \u001b[0;34m+\u001b[0m \u001b[0;36m1\u001b[0m\u001b[0;34m\u001b[0m\u001b[0m\n\u001b[1;32m    452\u001b[0m                 \u001b[0mprefixappend\u001b[0m\u001b[0;34m(\u001b[0m\u001b[0mav\u001b[0m\u001b[0;34m)\u001b[0m\u001b[0;34m\u001b[0m\u001b[0m\n",
      "\u001b[0;31mKeyboardInterrupt\u001b[0m: "
     ]
    }
   ],
   "source": [
    "#run the streamer\n",
    "l=StdOutListener()\n",
    "auth = tweepy.OAuthHandler(CONSUMER_KEY, CONSUMER_SECRET)\n",
    "auth.set_access_token(OAUTH_TOKEN, OAUTH_TOKEN_SECRET)\n",
    "api = tweepy.API(auth)\n",
    "myStream = tweepy.Stream(auth = api.auth, listener=l)\n",
    "myStream.sample()"
   ]
  },
  {
   "cell_type": "markdown",
   "metadata": {
    "collapsed": true
   },
   "source": [
    "<h1> Calculate emoji usage </h1>"
   ]
  },
  {
   "cell_type": "code",
   "execution_count": 44,
   "metadata": {
    "collapsed": false
   },
   "outputs": [
    {
     "data": {
      "text/plain": [
       "0.18618408845326842"
      ]
     },
     "execution_count": 44,
     "metadata": {},
     "output_type": "execute_result"
    }
   ],
   "source": [
    "emoji_usage.find({\"has_emoji\":True}).count() / emoji_usage.find({\"has_emoji\":False}).count()"
   ]
  },
  {
   "cell_type": "markdown",
   "metadata": {},
   "source": [
    "<h1> test findig -1, +1, -5, +5 words around each emoji </h1>"
   ]
  },
  {
   "cell_type": "code",
   "execution_count": 520,
   "metadata": {
    "collapsed": false
   },
   "outputs": [
    {
     "name": "stdout",
     "output_type": "stream",
     "text": [
      "💃🏽 💃🏽 a 😍 love my girl 🐶 😍 🐶 so much 🐶 😍 🐶 hello 🐶 😍 🐶 🐶 😍 🐶 💃🏽\n"
     ]
    }
   ],
   "source": [
    "original_text=u'💃🏽💃🏽 a 😍love my girl 🐶😍🐶so much 🐶😍🐶hello 🐶😍🐶🐶😍🐶💃🏽'\n",
    "text=emoji_split(original_text)\n",
    "print(text)"
   ]
  },
  {
   "cell_type": "code",
   "execution_count": 168,
   "metadata": {
    "collapsed": false
   },
   "outputs": [
    {
     "data": {
      "text/plain": [
       "array([u'1', u'3', u'3', u'8'], \n",
       "      dtype='<U16')"
      ]
     },
     "execution_count": 168,
     "metadata": {},
     "output_type": "execute_result"
    }
   ],
   "source": [
    "#build array of emoji strings\n",
    "emj_str = np.array([(emj_str, int(len(emj_str)/2)) for emj_str in ''.join([word if word in emj_codes else 'T' for word in text.split()]).rsplit('T') if emj_str != ''])\n",
    "#analyze emoji strings:\n",
    "d=collections.defaultdict(lambda:0)\n",
    "for key in emj_str[:,0]:\n",
    "    d[key]+=1\n",
    "a=np.array([d.values(),d.keys(),[int(len(key)/2) for key in d.keys()]])\n",
    "sort_index=a.argsort(axis=1)\n",
    "emjstr=a[[1,sort_index[0]]][::-1]\n",
    "emjstrCount=a[[0,sort_index[0]]][::-1]\n",
    "emjstrLen=a[[2,sort_index[0]]][::-1]"
   ]
  },
  {
   "cell_type": "code",
   "execution_count": 110,
   "metadata": {
    "collapsed": false
   },
   "outputs": [],
   "source": [
    "surrounding_text = [(emcode, text[:text.index(emcode)].split()[-1:],\\\n",
    "                    text[text.index(emcode)+2:].split()[:1],\\\n",
    "                    text[:text.index(emcode)].split()[-5:],\\\n",
    "                    text[text.index(emcode)+2:].split()[:5]) for emcode in emj_codes\\\n",
    "                      if (len(re.findall(emcode,text)) > 0)]"
   ]
  },
  {
   "cell_type": "code",
   "execution_count": 111,
   "metadata": {
    "collapsed": false
   },
   "outputs": [
    {
     "data": {
      "text/plain": [
       "[(u'\\U0001f60d', [], [u'love'], [], [u'love', u'my', u'girl', u'so', u'much']),\n",
       " (u'\\U0001f483',\n",
       "  [u'\\U0001f436'],\n",
       "  [u'\\U0001f3fd'],\n",
       "  [u'\\U0001f60d', u'\\U0001f436', u'\\U0001f436', u'\\U0001f60d', u'\\U0001f436'],\n",
       "  [u'\\U0001f3fd']),\n",
       " (u'\\U0001f483\\U0001f3fd',\n",
       "  [u'\\U0001f436'],\n",
       "  [u'\\U0001f3fd'],\n",
       "  [u'\\U0001f60d', u'\\U0001f436', u'\\U0001f436', u'\\U0001f60d', u'\\U0001f436'],\n",
       "  [u'\\U0001f3fd']),\n",
       " (u'\\U0001f436',\n",
       "  [u'much'],\n",
       "  [u'\\U0001f60d'],\n",
       "  [u'love', u'my', u'girl', u'so', u'much'],\n",
       "  [u'\\U0001f60d', u'\\U0001f436', u'hello', u'\\U0001f436', u'\\U0001f60d'])]"
      ]
     },
     "execution_count": 111,
     "metadata": {},
     "output_type": "execute_result"
    }
   ],
   "source": [
    "surrounding_text"
   ]
  },
  {
   "cell_type": "code",
   "execution_count": 441,
   "metadata": {
    "collapsed": false
   },
   "outputs": [],
   "source": [
    "#add a space after the emoji, and remove double spaces\n",
    "def emoji_split(text):\n",
    "    for emcode in emj_codes:\n",
    "        if (len(re.findall(emcode,text))) > 0:\n",
    "            text=text.replace(emcode,emcode+' ')\n",
    "    for skin in emj_codes_skin:\n",
    "        text=text.replace(' '+skin,skin+' ') #put the skin codes back into place but add a space afterwards\n",
    "    return ' '.join(text.split())"
   ]
  },
  {
   "cell_type": "code",
   "execution_count": 48,
   "metadata": {
    "collapsed": false
   },
   "outputs": [
    {
     "data": {
      "text/plain": [
       "u'much'"
      ]
     },
     "execution_count": 48,
     "metadata": {},
     "output_type": "execute_result"
    }
   ],
   "source": [
    "prev_word = ''.join(text[:text.index(u'🐶')].split()[-1:])\n",
    "prev_word"
   ]
  },
  {
   "cell_type": "code",
   "execution_count": 448,
   "metadata": {
    "collapsed": false
   },
   "outputs": [
    {
     "data": {
      "text/plain": [
       "u'love'"
      ]
     },
     "execution_count": 448,
     "metadata": {},
     "output_type": "execute_result"
    }
   ],
   "source": [
    "last_index=len(text)-(text[::-1].index(u'😍'[::-1]))-2\n",
    "next_word = ''.join(text[last_index+2:].split()[:1])\n",
    "next_word"
   ]
  },
  {
   "cell_type": "code",
   "execution_count": 285,
   "metadata": {
    "collapsed": false
   },
   "outputs": [],
   "source": [
    "text=u'Baila como Juana la Cubana 💃🏽 YoYo'\n",
    "text=emoji_split(text)"
   ]
  },
  {
   "cell_type": "code",
   "execution_count": 445,
   "metadata": {
    "collapsed": false
   },
   "outputs": [
    {
     "data": {
      "text/plain": [
       "u'\\U0001f483\\U0001f3fd \\U0001f483\\U0001f3fd a \\U0001f60d love my girl \\U0001f436 \\U0001f60d \\U0001f436 so much \\U0001f436 \\U0001f60d \\U0001f436 hello \\U0001f436 \\U0001f60d \\U0001f436 \\U0001f436 \\U0001f60d \\U0001f436 \\U0001f483\\U0001f3fd'"
      ]
     },
     "execution_count": 445,
     "metadata": {},
     "output_type": "execute_result"
    }
   ],
   "source": [
    "original_text=u'💃🏽💃🏽 a 😍love my girl 🐶😍🐶so much 🐶😍🐶hello 🐶😍🐶🐶😍🐶💃🏽'\n",
    "text=emoji_split(original_text)\n",
    "text"
   ]
  },
  {
   "cell_type": "code",
   "execution_count": 541,
   "metadata": {
    "collapsed": false
   },
   "outputs": [
    {
     "data": {
      "text/plain": [
       "array([[u'\\U0001f60d', u'5'],\n",
       "       [u'\\U0001f483', u'3'],\n",
       "       [u'\\U0001f483\\U0001f3fd', u'3'],\n",
       "       [u'\\U0001f436', u'8']], \n",
       "      dtype='<U4')"
      ]
     },
     "execution_count": 541,
     "metadata": {},
     "output_type": "execute_result"
    }
   ],
   "source": [
    "emjText=np.array([(emcode, len(re.findall(emcode,text))) for emcode in emj_codes\\\n",
    "                      if (len(re.findall(emcode,text)) > 0)])\n",
    "emjText"
   ]
  },
  {
   "cell_type": "code",
   "execution_count": 542,
   "metadata": {
    "collapsed": false
   },
   "outputs": [],
   "source": [
    "#create arrays to save in SQL. Sorted by frequency\n",
    "emojiLabel=emjText[np.argsort(emjText[:, 1])[::-1]][:,0] \n",
    "emojiCount=np.int32(emjText[np.argsort(emjText[:, 1])[::-1]][:,1])\n",
    "emojiTypes=len(emojiCount)\n",
    "emojiCountSum=sum(emojiCount)"
   ]
  },
  {
   "cell_type": "code",
   "execution_count": 448,
   "metadata": {
    "collapsed": false
   },
   "outputs": [],
   "source": [
    "def surroundingText(text,emojiLabel):\n",
    "    return np.array([(emcode, ''.join(text[:text.index(emcode)].split()[-1:]),\\\n",
    "                    NextWord(text,emcode),\\\n",
    "                    ' '.join(text[:text.index(emcode)].split()[-7:]),\\\n",
    "                    ' '.join(text[text.index(emcode)+2:].split()[:7])) for emcode in emojiLabel\\\n",
    "                      if (len(re.findall(emcode,text)) > 0)])"
   ]
  },
  {
   "cell_type": "code",
   "execution_count": 449,
   "metadata": {
    "collapsed": false
   },
   "outputs": [],
   "source": [
    "surrounding_text=surroundingText(text,emojiLabel) #sorted by frequency\n",
    "prev_word=surrounding_text[:,1]\n",
    "next_word=surrounding_text[:,2]\n",
    "prev_sentence=surrounding_text[:,3]\n",
    "next_sentence=surrounding_text[:,4]"
   ]
  },
  {
   "cell_type": "code",
   "execution_count": 566,
   "metadata": {
    "collapsed": false
   },
   "outputs": [],
   "source": [
    "text='yoyo 🐶 man'"
   ]
  },
  {
   "cell_type": "code",
   "execution_count": 567,
   "metadata": {
    "collapsed": false
   },
   "outputs": [
    {
     "data": {
      "text/plain": [
       "array([], dtype=float64)"
      ]
     },
     "execution_count": 567,
     "metadata": {},
     "output_type": "execute_result"
    }
   ],
   "source": [
    "emj_str"
   ]
  },
  {
   "cell_type": "code",
   "execution_count": 568,
   "metadata": {
    "collapsed": false
   },
   "outputs": [
    {
     "name": "stderr",
     "output_type": "stream",
     "text": [
      "/Users/attiladobi/anaconda/lib/python2.7/site-packages/ipykernel/__main__.py:2: UnicodeWarning: Unicode equal comparison failed to convert both arguments to Unicode - interpreting them as being unequal\n",
      "  from ipykernel import kernelapp as app\n"
     ]
    },
    {
     "ename": "IndexError",
     "evalue": "too many indices for array",
     "output_type": "error",
     "traceback": [
      "\u001b[0;31m---------------------------------------------------------------------------\u001b[0m",
      "\u001b[0;31mIndexError\u001b[0m                                Traceback (most recent call last)",
      "\u001b[0;32m<ipython-input-568-6228265e4fe3>\u001b[0m in \u001b[0;36m<module>\u001b[0;34m()\u001b[0m\n\u001b[1;32m      3\u001b[0m \u001b[0;31m#analyze emoji strings:\u001b[0m\u001b[0;34m\u001b[0m\u001b[0;34m\u001b[0m\u001b[0m\n\u001b[1;32m      4\u001b[0m \u001b[0md\u001b[0m\u001b[0;34m=\u001b[0m\u001b[0mcollections\u001b[0m\u001b[0;34m.\u001b[0m\u001b[0mdefaultdict\u001b[0m\u001b[0;34m(\u001b[0m\u001b[0;32mlambda\u001b[0m\u001b[0;34m:\u001b[0m\u001b[0;36m0\u001b[0m\u001b[0;34m)\u001b[0m\u001b[0;34m\u001b[0m\u001b[0m\n\u001b[0;32m----> 5\u001b[0;31m \u001b[0;32mfor\u001b[0m \u001b[0mkey\u001b[0m \u001b[0;32min\u001b[0m \u001b[0memj_str\u001b[0m\u001b[0;34m[\u001b[0m\u001b[0;34m:\u001b[0m\u001b[0;34m,\u001b[0m\u001b[0;36m0\u001b[0m\u001b[0;34m]\u001b[0m\u001b[0;34m:\u001b[0m\u001b[0;34m\u001b[0m\u001b[0m\n\u001b[0m\u001b[1;32m      6\u001b[0m     \u001b[0md\u001b[0m\u001b[0;34m[\u001b[0m\u001b[0mkey\u001b[0m\u001b[0;34m]\u001b[0m\u001b[0;34m+=\u001b[0m\u001b[0;36m1\u001b[0m\u001b[0;34m\u001b[0m\u001b[0m\n\u001b[1;32m      7\u001b[0m \u001b[0ma\u001b[0m\u001b[0;34m=\u001b[0m\u001b[0mnp\u001b[0m\u001b[0;34m.\u001b[0m\u001b[0marray\u001b[0m\u001b[0;34m(\u001b[0m\u001b[0;34m[\u001b[0m\u001b[0md\u001b[0m\u001b[0;34m.\u001b[0m\u001b[0mvalues\u001b[0m\u001b[0;34m(\u001b[0m\u001b[0;34m)\u001b[0m\u001b[0;34m,\u001b[0m\u001b[0md\u001b[0m\u001b[0;34m.\u001b[0m\u001b[0mkeys\u001b[0m\u001b[0;34m(\u001b[0m\u001b[0;34m)\u001b[0m\u001b[0;34m,\u001b[0m\u001b[0;34m[\u001b[0m\u001b[0mint\u001b[0m\u001b[0;34m(\u001b[0m\u001b[0mlen\u001b[0m\u001b[0;34m(\u001b[0m\u001b[0mkey\u001b[0m\u001b[0;34m)\u001b[0m\u001b[0;34m/\u001b[0m\u001b[0;36m2\u001b[0m\u001b[0;34m)\u001b[0m \u001b[0;32mfor\u001b[0m \u001b[0mkey\u001b[0m \u001b[0;32min\u001b[0m \u001b[0md\u001b[0m\u001b[0;34m.\u001b[0m\u001b[0mkeys\u001b[0m\u001b[0;34m(\u001b[0m\u001b[0;34m)\u001b[0m\u001b[0;34m]\u001b[0m\u001b[0;34m]\u001b[0m\u001b[0;34m)\u001b[0m\u001b[0;34m\u001b[0m\u001b[0m\n",
      "\u001b[0;31mIndexError\u001b[0m: too many indices for array"
     ]
    }
   ],
   "source": [
    "#build array of emoji strings\n",
    "emj_str = np.array([(emj_str, int(len(emj_str)/2)) for emj_str in ''.join([word if word in emj_codes else 'T' for word in text.split()]).rsplit('T') if emj_str != ''])\n",
    "#analyze emoji strings:\n",
    "d=collections.defaultdict(lambda:0)\n",
    "for key in emj_str[:,0]:\n",
    "    d[key]+=1\n",
    "a=np.array([d.values(),d.keys(),[int(len(key)/2) for key in d.keys()]])\n",
    "#remove single emojis and double if skin code is included:\n",
    "skin_cut=~np.bool8(((np.int32(a[2,:]))==2) & (np.array([sum([len(re.findall(emcode,val)) for emcode in emj_codes_skin]) for val in a[1,:]])))\n",
    "multi_cut=(np.int32(a[2,:])>1) & skin_cut\n",
    "a=a[:,multi_cut]\n",
    "sort_index=a.argsort(axis=1)\n",
    "emojistrLabel=a[[1,sort_index[0]]][::-1]\n",
    "emojistrCount=np.int32(a[[0,sort_index[0]]][::-1])\n",
    "emojistrLen=np.int32(a[[2,sort_index[0]]][::-1])\n",
    "emojistrTypes=len(emojistrCount)\n",
    "#add emjStr CountSum\n",
    "surrounding_str_text=surroundingText(original_text,emojistrLabel) #sorted by frequency\n",
    "str_prev_word=surrounding_str_text[:,1]\n",
    "str_next_word=surrounding_str_text[:,2]\n",
    "str_prev_sentence=surrounding_str_text[:,3]\n",
    "str_next_sentence=surrounding_str_text[:,4]"
   ]
  },
  {
   "cell_type": "code",
   "execution_count": 529,
   "metadata": {
    "collapsed": false
   },
   "outputs": [
    {
     "data": {
      "text/plain": [
       "array([2, 1, 1], dtype=int32)"
      ]
     },
     "execution_count": 529,
     "metadata": {},
     "output_type": "execute_result"
    }
   ],
   "source": [
    "emojistrCount"
   ]
  },
  {
   "cell_type": "code",
   "execution_count": 572,
   "metadata": {
    "collapsed": false
   },
   "outputs": [],
   "source": [
    "original_text='yoyo 🐶 man'"
   ]
  },
  {
   "cell_type": "code",
   "execution_count": 573,
   "metadata": {
    "collapsed": false
   },
   "outputs": [],
   "source": [
    "#find emoji str patterns\n",
    "pattern=np.array([(emcode, len(re.findall(emcode,original_text))) for emcode in emojistrLabel])\n",
    "emojiPatternLabel=pattern[np.argsort(pattern[:, 1])[::-1]][:,0] \n",
    "emojiPatternCount=np.int32(pattern[np.argsort(pattern[:, 1])[::-1]][:,1])\n",
    "emojiPatternLen=np.int32([np.int32(len(val)/2) for val in emojiPatternLabel])\n",
    "emojiPatternTypes=len(emojiPatternCount)"
   ]
  },
  {
   "cell_type": "code",
   "execution_count": 574,
   "metadata": {
    "collapsed": false
   },
   "outputs": [
    {
     "data": {
      "text/plain": [
       "array([[u'\\U0001f436\\U0001f60d\\U0001f436', u'0'],\n",
       "       [ u'\\U0001f436\\U0001f60d\\U0001f436\\U0001f436\\U0001f60d\\U0001f436\\U0001f483\\U0001f3fd',\n",
       "        u'0'],\n",
       "       [u'\\U0001f483\\U0001f3fd\\U0001f483\\U0001f3fd', u'0']], \n",
       "      dtype='<U16')"
      ]
     },
     "execution_count": 574,
     "metadata": {},
     "output_type": "execute_result"
    }
   ],
   "source": [
    "pattern"
   ]
  },
  {
   "cell_type": "code",
   "execution_count": 532,
   "metadata": {
    "collapsed": false
   },
   "outputs": [
    {
     "name": "stdout",
     "output_type": "stream",
     "text": [
      "🐶😍🐶\n",
      "💃🏽💃🏽\n",
      "🐶😍🐶🐶😍🐶💃🏽\n"
     ]
    }
   ],
   "source": [
    "for val in emojiPatternLabel:\n",
    "    print val"
   ]
  },
  {
   "cell_type": "code",
   "execution_count": 557,
   "metadata": {
    "collapsed": true
   },
   "outputs": [],
   "source": [
    "#now for emoji skin\n",
    "text='yoyo 🐶😍🐶 man'"
   ]
  },
  {
   "cell_type": "code",
   "execution_count": 560,
   "metadata": {
    "collapsed": false
   },
   "outputs": [
    {
     "data": {
      "text/plain": [
       "0"
      ]
     },
     "execution_count": 560,
     "metadata": {},
     "output_type": "execute_result"
    }
   ],
   "source": [
    "len(emjText_skin)"
   ]
  },
  {
   "cell_type": "code",
   "execution_count": 558,
   "metadata": {
    "collapsed": false
   },
   "outputs": [
    {
     "ename": "IndexError",
     "evalue": "too many indices for array",
     "output_type": "error",
     "traceback": [
      "\u001b[0;31m---------------------------------------------------------------------------\u001b[0m",
      "\u001b[0;31mIndexError\u001b[0m                                Traceback (most recent call last)",
      "\u001b[0;32m<ipython-input-558-5e4938f15199>\u001b[0m in \u001b[0;36m<module>\u001b[0;34m()\u001b[0m\n\u001b[1;32m      1\u001b[0m \u001b[0memjText_skin\u001b[0m\u001b[0;34m=\u001b[0m\u001b[0mnp\u001b[0m\u001b[0;34m.\u001b[0m\u001b[0marray\u001b[0m\u001b[0;34m(\u001b[0m\u001b[0;34m[\u001b[0m\u001b[0;34m(\u001b[0m\u001b[0memcode\u001b[0m\u001b[0;34m,\u001b[0m \u001b[0mlen\u001b[0m\u001b[0;34m(\u001b[0m\u001b[0mre\u001b[0m\u001b[0;34m.\u001b[0m\u001b[0mfindall\u001b[0m\u001b[0;34m(\u001b[0m\u001b[0memcode\u001b[0m\u001b[0;34m,\u001b[0m\u001b[0mtext\u001b[0m\u001b[0;34m)\u001b[0m\u001b[0;34m)\u001b[0m\u001b[0;34m)\u001b[0m \u001b[0;32mfor\u001b[0m \u001b[0memcode\u001b[0m \u001b[0;32min\u001b[0m \u001b[0memj_codes_skin\u001b[0m                      \u001b[0;32mif\u001b[0m \u001b[0;34m(\u001b[0m\u001b[0mlen\u001b[0m\u001b[0;34m(\u001b[0m\u001b[0mre\u001b[0m\u001b[0;34m.\u001b[0m\u001b[0mfindall\u001b[0m\u001b[0;34m(\u001b[0m\u001b[0memcode\u001b[0m\u001b[0;34m,\u001b[0m\u001b[0mtext\u001b[0m\u001b[0;34m)\u001b[0m\u001b[0;34m)\u001b[0m \u001b[0;34m>\u001b[0m \u001b[0;36m0\u001b[0m\u001b[0;34m)\u001b[0m\u001b[0;34m]\u001b[0m\u001b[0;34m)\u001b[0m\u001b[0;34m\u001b[0m\u001b[0m\n\u001b[1;32m      2\u001b[0m \u001b[0;31m#create arrays to save in SQL. Sorted by frequency\u001b[0m\u001b[0;34m\u001b[0m\u001b[0;34m\u001b[0m\u001b[0m\n\u001b[0;32m----> 3\u001b[0;31m \u001b[0memojiSkinLabel\u001b[0m\u001b[0;34m=\u001b[0m\u001b[0memjText_skin\u001b[0m\u001b[0;34m[\u001b[0m\u001b[0mnp\u001b[0m\u001b[0;34m.\u001b[0m\u001b[0margsort\u001b[0m\u001b[0;34m(\u001b[0m\u001b[0memjText_skin\u001b[0m\u001b[0;34m[\u001b[0m\u001b[0;34m:\u001b[0m\u001b[0;34m,\u001b[0m \u001b[0;36m1\u001b[0m\u001b[0;34m]\u001b[0m\u001b[0;34m)\u001b[0m\u001b[0;34m[\u001b[0m\u001b[0;34m:\u001b[0m\u001b[0;34m:\u001b[0m\u001b[0;34m-\u001b[0m\u001b[0;36m1\u001b[0m\u001b[0;34m]\u001b[0m\u001b[0;34m]\u001b[0m\u001b[0;34m[\u001b[0m\u001b[0;34m:\u001b[0m\u001b[0;34m,\u001b[0m\u001b[0;36m0\u001b[0m\u001b[0;34m]\u001b[0m\u001b[0;34m\u001b[0m\u001b[0m\n\u001b[0m\u001b[1;32m      4\u001b[0m \u001b[0memojiSkinCount\u001b[0m\u001b[0;34m=\u001b[0m\u001b[0mnp\u001b[0m\u001b[0;34m.\u001b[0m\u001b[0mint32\u001b[0m\u001b[0;34m(\u001b[0m\u001b[0memjText_skin\u001b[0m\u001b[0;34m[\u001b[0m\u001b[0mnp\u001b[0m\u001b[0;34m.\u001b[0m\u001b[0margsort\u001b[0m\u001b[0;34m(\u001b[0m\u001b[0memjText_skin\u001b[0m\u001b[0;34m[\u001b[0m\u001b[0;34m:\u001b[0m\u001b[0;34m,\u001b[0m \u001b[0;36m1\u001b[0m\u001b[0;34m]\u001b[0m\u001b[0;34m)\u001b[0m\u001b[0;34m[\u001b[0m\u001b[0;34m:\u001b[0m\u001b[0;34m:\u001b[0m\u001b[0;34m-\u001b[0m\u001b[0;36m1\u001b[0m\u001b[0;34m]\u001b[0m\u001b[0;34m]\u001b[0m\u001b[0;34m[\u001b[0m\u001b[0;34m:\u001b[0m\u001b[0;34m,\u001b[0m\u001b[0;36m1\u001b[0m\u001b[0;34m]\u001b[0m\u001b[0;34m)\u001b[0m\u001b[0;34m\u001b[0m\u001b[0m\n\u001b[1;32m      5\u001b[0m \u001b[0memojiSkinCountSum\u001b[0m\u001b[0;34m=\u001b[0m\u001b[0msum\u001b[0m\u001b[0;34m(\u001b[0m\u001b[0memojiSkinCount\u001b[0m\u001b[0;34m)\u001b[0m\u001b[0;34m\u001b[0m\u001b[0m\n",
      "\u001b[0;31mIndexError\u001b[0m: too many indices for array"
     ]
    }
   ],
   "source": [
    "emjText_skin=np.array([(emcode, len(re.findall(emcode,text))) for emcode in emj_codes_skin\\\n",
    "                      if (len(re.findall(emcode,text)) > 0)])\n",
    "#create arrays to save in SQL. Sorted by frequency\n",
    "emojiSkinLabel=emjText_skin[np.argsort(emjText_skin[:, 1])[::-1]][:,0] \n",
    "emojiSkinCount=np.int32(emjText_skin[np.argsort(emjText_skin[:, 1])[::-1]][:,1])\n",
    "emojiSkinCountSum=sum(emojiSkinCount)\n",
    "emojiSkinTypes=len(emojiSkinCount)"
   ]
  },
  {
   "cell_type": "code",
   "execution_count": 556,
   "metadata": {
    "collapsed": false
   },
   "outputs": [
    {
     "data": {
      "text/plain": [
       "array([[u'\\U0001f3fd', u'3']], \n",
       "      dtype='<U2')"
      ]
     },
     "execution_count": 556,
     "metadata": {},
     "output_type": "execute_result"
    }
   ],
   "source": [
    "emjText_skin"
   ]
  },
  {
   "cell_type": "code",
   "execution_count": 137,
   "metadata": {
    "collapsed": false
   },
   "outputs": [
    {
     "data": {
      "text/plain": [
       "u'\\U0001f483\\U0001f3fd'"
      ]
     },
     "execution_count": 137,
     "metadata": {},
     "output_type": "execute_result"
    }
   ],
   "source": [
    "a=np.array(emjText)\n",
    "mostFreqEmoji = a[np.argsort(a[:, 1])][-1][0]\n",
    "mostFreqEmoji"
   ]
  },
  {
   "cell_type": "code",
   "execution_count": 138,
   "metadata": {
    "collapsed": false
   },
   "outputs": [
    {
     "data": {
      "text/plain": [
       "u'Cubana'"
      ]
     },
     "execution_count": 138,
     "metadata": {},
     "output_type": "execute_result"
    }
   ],
   "source": [
    "prev_word = ''.join(text[:text.index(mostFreqEmoji)].split()[-1:])\n",
    "prev_word"
   ]
  },
  {
   "cell_type": "code",
   "execution_count": 139,
   "metadata": {
    "collapsed": false
   },
   "outputs": [
    {
     "data": {
      "text/plain": [
       "u'YoYo'"
      ]
     },
     "execution_count": 139,
     "metadata": {},
     "output_type": "execute_result"
    }
   ],
   "source": [
    "#Next Word\n",
    "#if len(mostFreqEmoji)>2:\n",
    "#    mostFreqEmoji=mostFreqEmoji[:2]\n",
    "try:\n",
    "    last_index=len(text)-(text[::-1].index(mostFreqEmoji[::-1]))-2\n",
    "except ValueError:\n",
    "    last_index=len(text)\n",
    "next_word = ''.join(text[last_index+2:].split()[:1])\n",
    "next_word"
   ]
  },
  {
   "cell_type": "code",
   "execution_count": 277,
   "metadata": {
    "collapsed": false
   },
   "outputs": [
    {
     "data": {
      "text/plain": [
       "[(u'\\U0001f3fd', 1)]"
      ]
     },
     "execution_count": 277,
     "metadata": {},
     "output_type": "execute_result"
    }
   ],
   "source": [
    "#text='hello'\n",
    "emjText_skin=np.array([(emcode, len(re.findall(emcode,text))) for emcode in emj_codes_skin\\\n",
    "                      if (len(re.findall(emcode,text)) > 0)])\n",
    "emjText_skin"
   ]
  },
  {
   "cell_type": "code",
   "execution_count": 489,
   "metadata": {
    "collapsed": true
   },
   "outputs": [],
   "source": [
    "skinCount=sum([item[1] for item in emjText_skin])"
   ]
  },
  {
   "cell_type": "code",
   "execution_count": 509,
   "metadata": {
    "collapsed": false
   },
   "outputs": [
    {
     "data": {
      "text/plain": [
       "3"
      ]
     },
     "execution_count": 509,
     "metadata": {},
     "output_type": "execute_result"
    }
   ],
   "source": [
    "text.count ('\\n')"
   ]
  },
  {
   "cell_type": "code",
   "execution_count": null,
   "metadata": {
    "collapsed": true
   },
   "outputs": [],
   "source": []
  },
  {
   "cell_type": "code",
   "execution_count": null,
   "metadata": {
    "collapsed": true
   },
   "outputs": [],
   "source": []
  }
 ],
 "metadata": {
  "kernelspec": {
   "display_name": "Python 2",
   "language": "python",
   "name": "python2"
  },
  "language_info": {
   "codemirror_mode": {
    "name": "ipython",
    "version": 2
   },
   "file_extension": ".py",
   "mimetype": "text/x-python",
   "name": "python",
   "nbconvert_exporter": "python",
   "pygments_lexer": "ipython2",
   "version": "2.7.11"
  }
 },
 "nbformat": 4,
 "nbformat_minor": 0
}
