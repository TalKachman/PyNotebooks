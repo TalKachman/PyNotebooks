{
 "cells": [
  {
   "cell_type": "markdown",
   "metadata": {},
   "source": [
    "<h1> Emoji Mining With SQL DB </h1>"
   ]
  },
  {
   "cell_type": "code",
   "execution_count": 142,
   "metadata": {
    "collapsed": true
   },
   "outputs": [],
   "source": [
    "from __future__ import division\n",
    "import json\n",
    "import tweepy\n",
    "from tweepy.streaming import StreamListener\n",
    "import pandas as pd\n",
    "import re, collections\n",
    "import numpy as np\n",
    "import os\n",
    "base_dir=os.path.expanduser('~')\n",
    "import datetime\n",
    "import time\n",
    "import psycopg2\n",
    "CONSUMER_KEY = 'JJNPMPuZubIrFIqDNARJRDPDb'\n",
    "CONSUMER_SECRET = 'd6MlAqrJFcdyJac9aCQpBHPbwGs5eJB8zkTn5wA3tqBLHZgw0b'\n",
    "OAUTH_TOKEN = '3229899732-piSMFy32Vi0VSyXJX8R9y2qrkr0piesoHXBdI3v'\n",
    "OAUTH_TOKEN_SECRET = 'Jq9oTRMUjHRgA7NkJLLHIEyjtCRhYiFHdWkpBw28IBtHG'"
   ]
  },
  {
   "cell_type": "code",
   "execution_count": 141,
   "metadata": {
    "collapsed": true
   },
   "outputs": [],
   "source": [
    "import json"
   ]
  },
  {
   "cell_type": "code",
   "execution_count": null,
   "metadata": {
    "collapsed": true
   },
   "outputs": [],
   "source": [
    "Place(_api=<tweepy.api.API object at 0x109c5dd90>, country_code=u'AU', url=u'https://api.twitter.com/1.1/geo/id/01e4b0c84959d430.json', country=u'Australia', place_type=u'city', bounding_box=BoundingBox(_api=<tweepy.api.API object at 0x109c5dd90>, type=u'Polygon', coordinates=[[[148.995922, -35.48026], [148.995922, -35.147699], [149.263643, -35.147699], [149.263643, -35.48026]]]), full_name=u'Canberra, Australian Capital Territory', attributes={}, id=u'01e4b0c84959d430', name=u'Canberra')"
   ]
  },
  {
   "cell_type": "code",
   "execution_count": 137,
   "metadata": {
    "collapsed": false
   },
   "outputs": [],
   "source": [
    "#connect\n",
    "conn = psycopg2.connect(\"dbname=emoji_db user=postgres password=darkmatter\")\n",
    "#on AWS: conn = psycopg2.connect(\"host=localhost port=5432 dbname=emoji_db user=postgres password=darkmatter\")\n",
    "\n",
    "#connect to AWS\n",
    "#conn = psycopg2.connect(\"host=52.38.112.55 port=5432 dbname=emoji_db user=postgres password=darkmatter\")\n",
    "cur = conn.cursor()"
   ]
  },
  {
   "cell_type": "code",
   "execution_count": 6,
   "metadata": {
    "collapsed": false
   },
   "outputs": [
    {
     "data": {
      "text/plain": [
       "0"
      ]
     },
     "execution_count": 6,
     "metadata": {},
     "output_type": "execute_result"
    }
   ],
   "source": [
    "cur.execute(\"SELECT date from emoji_tweet order by date DESC limit 1;\")\n",
    "last_date=cur.fetchone()\n",
    "a=cur.execute(\"SELECT * from tweet_dump a join has_emoji b on a.id=b.tweet_id WHERE (a.date > %s and a.text != '' and b.has_emoji=True);\",last_date)\n",
    "a=cur.fetchall()\n",
    "len(a)"
   ]
  },
  {
   "cell_type": "code",
   "execution_count": 122,
   "metadata": {
    "collapsed": false
   },
   "outputs": [
    {
     "data": {
      "text/plain": [
       "0"
      ]
     },
     "execution_count": 122,
     "metadata": {},
     "output_type": "execute_result"
    }
   ],
   "source": [
    "cur.execute(\"SELECT tweet_id from emoji_tweet order by tweet_id DESC limit 1;\")\n",
    "last_id=cur.fetchone()\n",
    "cur.execute(\"SELECT * from tweet_dump a left join has_emoji b on a.id=b.tweet_id WHERE ((a.id > %s) and a.text != '' and b.has_emoji=True) ;\",last_id)\n",
    "a=cur.fetchall()\n",
    "len(a)"
   ]
  },
  {
   "cell_type": "code",
   "execution_count": 6,
   "metadata": {
    "collapsed": false
   },
   "outputs": [],
   "source": [
    "cur.execute(\"CREATE TABLE emoji_tweet (id serial PRIMARY KEY,\\\n",
    "    tweet_id integer,\\\n",
    "    date timestamp,\\\n",
    "    created_at timestamp,\\\n",
    "    text text,\\\n",
    "    retweet_count integer,\\\n",
    "    favorite_count integer,\\\n",
    "    lang varchar(5),\\\n",
    "    geo json,\\\n",
    "    coordinates json,\\\n",
    "    time_zone varchar(40),\\\n",
    "    name varchar(40),\\\n",
    "    user_name varchar(40),\\\n",
    "    emojiLabel text[],\\\n",
    "    emojiLabelFaceFilter bool[],\\\n",
    "    emojiCount integer[],\\\n",
    "    emojiCountSum integer,\\\n",
    "    emojiTypes integer,\\\n",
    "    prev_word text[],\\\n",
    "    next_word text[],\\\n",
    "    prev_sentence text[],\\\n",
    "    next_sentence text[],\\\n",
    "    mostFreqWord text,\\\n",
    "    mostFreqWordCount integer,\\\n",
    "    newlineCount integer,\\\n",
    "    emojiSkinLabel text[],\\\n",
    "    emojiSkinCount integer[],\\\n",
    "    emojiSkinCountSum integer,\\\n",
    "    emojiSkinTypes integer,\\\n",
    "    emojistrLabel text[],\\\n",
    "    emojistrCount integer[],\\\n",
    "    emojistrLen integer[],\\\n",
    "    emojistrTypes integer,\\\n",
    "    emojistr_prev_word text[],\\\n",
    "    emojistr_next_word text[],\\\n",
    "    emojistr_prev_sentence text[],\\\n",
    "    emojistr_next_sentence text[],\\\n",
    "    emojiPatternLabel text[],\\\n",
    "    emojiPatternCount integer[],\\\n",
    "    emojiPatternLen integer[],\\\n",
    "    emojiPatternTypes integer\\\n",
    "    );\")\n",
    "conn.commit() #submit change to db"
   ]
  },
  {
   "cell_type": "code",
   "execution_count": 9,
   "metadata": {
    "collapsed": false
   },
   "outputs": [],
   "source": [
    "cur.execute(\"CREATE TABLE tweet_dump (id serial PRIMARY KEY,\\\n",
    "    date timestamp,\\\n",
    "    created_at timestamp,\\\n",
    "    text text,\\\n",
    "    retweet_count integer,\\\n",
    "    favorite_count integer,\\\n",
    "    lang varchar(5),\\\n",
    "    geo json,\\\n",
    "    coordinates json,\\\n",
    "    time_zone varchar(40),\\\n",
    "    name varchar(40),\\\n",
    "    user_name varchar(40)\\\n",
    "    );\")\n",
    "conn.commit() #submit change to db"
   ]
  },
  {
   "cell_type": "code",
   "execution_count": 10,
   "metadata": {
    "collapsed": true
   },
   "outputs": [],
   "source": [
    "cur.execute(\"CREATE TABLE has_emoji (id serial PRIMARY KEY,\\\n",
    "    tweet_id integer,\\\n",
    "    has_emoji bool\\\n",
    "    );\")\n",
    "conn.commit() #submit change to db"
   ]
  },
  {
   "cell_type": "code",
   "execution_count": 139,
   "metadata": {
    "collapsed": false
   },
   "outputs": [],
   "source": [
    "#create index result DB\n",
    "#word,face_filter,pattern_type,user_lang,xdata,ydata\n",
    "\n",
    "cur.execute(\"CREATE TABLE emoji_search (id serial PRIMARY KEY,\\\n",
    "    date timestamp,\\\n",
    "    searchTerm text,\\\n",
    "    emojiLabel text[],\\\n",
    "    emojiCount integer[],\\\n",
    "    FreqFilter text,\\\n",
    "    FaceFilter text,\\\n",
    "    PatternType text,\\\n",
    "    Lang text,\\\n",
    "    dateRange timestamp[]\\\n",
    "    );\")\n",
    "conn.commit() #submit change to db"
   ]
  },
  {
   "cell_type": "code",
   "execution_count": 140,
   "metadata": {
    "collapsed": true
   },
   "outputs": [],
   "source": [
    "#create index result DB\n",
    "#word,user_lang,xdata,ydata\n",
    "\n",
    "cur.execute(\"CREATE TABLE emoji_skin_search (id serial PRIMARY KEY,\\\n",
    "    date timestamp,\\\n",
    "    searchTerm text,\\\n",
    "    emojiLabel text[],\\\n",
    "    emojiCount integer[],\\\n",
    "    Lang text,\\\n",
    "    dateRange timestamp[]\\\n",
    "    );\")\n",
    "conn.commit() #submit change to db"
   ]
  },
  {
   "cell_type": "code",
   "execution_count": null,
   "metadata": {
    "collapsed": true
   },
   "outputs": [],
   "source": [
    "#Map\n",
    "cur.execute(\"CREATE TABLE emoji_map (id serial PRIMARY KEY,\\\n",
    "    date timestamp,\\\n",
    "    searchTerm text,\\\n",
    "    timezones text[],\\\n",
    "    topemojiLabel text[],\\\n",
    "    topemojiCount integer[],\\\n",
    "    FreqFilter text,\\\n",
    "    FaceFilter text,\\\n",
    "    PatternType text,\\\n",
    "    Lang text,\\\n",
    "    dateRange timestamp[]\\\n",
    "    );\")\n",
    "conn.commit() #submit change to db"
   ]
  },
  {
   "cell_type": "code",
   "execution_count": 640,
   "metadata": {
    "collapsed": false
   },
   "outputs": [],
   "source": [
    "cur.execute(\"SELECT text from emoji_tweet WHERE text LIKE '%🍆%';\")\n",
    "result=cur.fetchall()"
   ]
  },
  {
   "cell_type": "code",
   "execution_count": 641,
   "metadata": {
    "collapsed": false,
    "scrolled": true
   },
   "outputs": [
    {
     "data": {
      "text/plain": [
       "[u'RT @NikoOrzuza: Basta de esperar cosas que no van a pasar \\U0001f645\\u270b',\n",
       " u\"Voto por 'Te dar\\xe9 mi coraz\\xf3n' de @AbrahamMateoMus Es una balada preciosa! \\U0001f60d\\U0001f495 Merece ser N1 \\u270b #N1CanalFiesta12 ejsjsnd\",\n",
       " u'Buenas noches!.. \\U0001f319\\U0001f60a\\U0001f60d\\U0001f48b\\u270b',\n",
       " u'@Y_M_kis317 5\\u6b73\\u3088\\uff1f\\uff08\\u7206\\u7b11\\uff09\\n\\n\\u307e\\u3060\\u304b\\u308f\\u3044\\u3044\\u9854\\u3057\\u3068\\u3063\\u305f\\u3088 \\u270b\\U0001f3fb',\n",
       " u\"\\u0648\\u0639\\u062f \\u061b \\u270b\\n\\u0645\\u0627 \\u0623\\u0639\\u0627\\u062a\\u0628\\u0643 ..\\n\\u0628\\u062e\\u0641\\u064a \\u0628\\u0640 \\u0635\\u062f\\u0631\\u064a \\u0636\\u064a\\u0642\\u062a\\u064a \\u060c\\n\\u0648\\u0623\\u062c\\u0627\\u0645\\u0644\\u0643 \\u060c\\n\\n\\u0628\\u0645\\u0634\\u064a \\u0645\\u0639\\u0643 \\u0645\\u062b\\u0644 \\u0627\\u0644\\u063a\\u0631\\u064a\\u0628\\n\\u0628\\u0640 \\u0623\\u062d\\u0646 \\u0644\\u0643 \\u061f\\n\\u0648\\u0623\\u0634\\u062a\\u0627\\u0642 \\u0644\\u0643 \\u061b\\n\\u0644\\u0643\\u0646 \\u0648\\u0639\\u062f \\u0645\\u0627 \\u0623\\u0639\\u0644\\u0645\\u0643 ') !\",\n",
       " u'RT @TuitterDeBoca: Bien arriba las manos de los que extra\\xf1an a Boca \\u270b\\u270b https://t.co/16OKX7WveM',\n",
       " u'RT @AlgunaCornuda: Necesito un abrazo muuuuy fuerte y con mucho amor \\U0001f60d\\u270b\\U0001f498\\U0001f618\\U0001f63b\\U0001f4af\\U0001f497\\U0001f49a \\u2764 \\U0001f497\\U0001f48b\\U0001f498\\U0001f49e\\U0001f496\\U0001f495\\U0001f493',\n",
       " u'@taisukelove20 \\u306a\\u3089\\u3001\\u30d6\\u30b9\\u3067 \\u270b',\n",
       " u'\\u270b\\U0001f3fc un poco \\U0001f60d\\U0001f60d\\U0001f60d https://t.co/DZWKc6gQRh',\n",
       " u'\\xbfQui\\xe9n extra\\xf1a a boca? \\u270b\\u270b\\u270b']"
      ]
     },
     "execution_count": 641,
     "metadata": {},
     "output_type": "execute_result"
    }
   ],
   "source": [
    "[_u(text[0]) for text in result]"
   ]
  },
  {
   "cell_type": "markdown",
   "metadata": {},
   "source": [
    "<h1> Tweepy to postgreSQL</h1>"
   ]
  },
  {
   "cell_type": "code",
   "execution_count": null,
   "metadata": {
    "collapsed": true
   },
   "outputs": [],
   "source": [
    "#emj_codes have the skin codes removed. not counted"
   ]
  },
  {
   "cell_type": "code",
   "execution_count": 168,
   "metadata": {
    "collapsed": false
   },
   "outputs": [
    {
     "data": {
      "text/plain": [
       "[u'Code', u'Unicode', u'Name', u'Annotations', u'Action']"
      ]
     },
     "execution_count": 168,
     "metadata": {},
     "output_type": "execute_result"
    }
   ],
   "source": [
    "[key for key in emoji_key]"
   ]
  },
  {
   "cell_type": "code",
   "execution_count": 676,
   "metadata": {
    "collapsed": false
   },
   "outputs": [],
   "source": [
    "##include one like u'\\u270d', second line\n",
    "can_have_skin=[key[0:2] for key in emj_codes if re.findall(emj_codes_skin[0],key) != []]\n",
    "can_have_skin += [key[0:1] for key in emj_codes if len(key[0:2].encode(\"utf-8\"))==6 and re.findall(emj_codes_skin[0],key) != []]"
   ]
  },
  {
   "cell_type": "code",
   "execution_count": 678,
   "metadata": {
    "collapsed": false
   },
   "outputs": [
    {
     "data": {
      "text/plain": [
       "u'\\U0001f590'"
      ]
     },
     "execution_count": 678,
     "metadata": {},
     "output_type": "execute_result"
    }
   ],
   "source": [
    "#use this as the label\n",
    "u'🖐'"
   ]
  },
  {
   "cell_type": "code",
   "execution_count": 677,
   "metadata": {
    "collapsed": false,
    "scrolled": true
   },
   "outputs": [
    {
     "data": {
      "text/plain": [
       "[u'\\U0001f466',\n",
       " u'\\U0001f467',\n",
       " u'\\U0001f468',\n",
       " u'\\U0001f469',\n",
       " u'\\U0001f474',\n",
       " u'\\U0001f475',\n",
       " u'\\U0001f476',\n",
       " u'\\U0001f471',\n",
       " u'\\U0001f46e',\n",
       " u'\\U0001f472',\n",
       " u'\\U0001f473',\n",
       " u'\\U0001f477',\n",
       " u'\\U0001f478',\n",
       " u'\\U0001f482',\n",
       " u'\\U0001f575',\n",
       " u'\\U0001f385',\n",
       " u'\\U0001f47c',\n",
       " u'\\U0001f486',\n",
       " u'\\U0001f487',\n",
       " u'\\U0001f470',\n",
       " u'\\U0001f64d',\n",
       " u'\\U0001f64e',\n",
       " u'\\U0001f645',\n",
       " u'\\U0001f646',\n",
       " u'\\U0001f481',\n",
       " u'\\U0001f64b',\n",
       " u'\\U0001f647',\n",
       " u'\\U0001f64c',\n",
       " u'\\U0001f64f',\n",
       " u'\\U0001f6b6',\n",
       " u'\\U0001f3c3',\n",
       " u'\\U0001f483',\n",
       " u'\\U0001f4aa',\n",
       " u'\\U0001f448',\n",
       " u'\\U0001f449',\n",
       " u'\\u261d\\ufe0f',\n",
       " u'\\U0001f446',\n",
       " u'\\U0001f595',\n",
       " u'\\U0001f447',\n",
       " u'\\u270c\\ufe0f',\n",
       " u'\\U0001f596',\n",
       " u'\\U0001f918',\n",
       " u'\\U0001f590',\n",
       " u'\\u270b\\ud83c',\n",
       " u'\\U0001f44c',\n",
       " u'\\U0001f44d',\n",
       " u'\\U0001f44e',\n",
       " u'\\u270a\\ud83c',\n",
       " u'\\U0001f44a',\n",
       " u'\\U0001f44b',\n",
       " u'\\U0001f44f',\n",
       " u'\\U0001f450',\n",
       " u'\\u270d\\ud83c',\n",
       " u'\\U0001f485',\n",
       " u'\\U0001f442',\n",
       " u'\\U0001f443',\n",
       " u'\\U0001f6a3',\n",
       " u'\\U0001f6c0',\n",
       " u'\\U0001f3c4',\n",
       " u'\\U0001f3ca',\n",
       " u'\\u26f9\\ud83c',\n",
       " u'\\U0001f3cb',\n",
       " u'\\U0001f6b4',\n",
       " u'\\U0001f6b5',\n",
       " u'\\u261d',\n",
       " u'\\u270c',\n",
       " u'\\u270b',\n",
       " u'\\u270a',\n",
       " u'\\u270d',\n",
       " u'\\u26f9']"
      ]
     },
     "execution_count": 677,
     "metadata": {},
     "output_type": "execute_result"
    }
   ],
   "source": [
    "can_have_skin"
   ]
  },
  {
   "cell_type": "code",
   "execution_count": 298,
   "metadata": {
    "collapsed": false
   },
   "outputs": [],
   "source": [
    "#read emoji codes:\n",
    "emoji_key = pd.read_excel(base_dir+'/emojify/data/emoji_list.xlsx', encoding='utf-8', index_col=0, skiprows=1)\n",
    "emj_codes_skin=[code for code,name in zip(emoji_key['Unicode'],emoji_key['Name']) if ('FITZPATRICK' in name)]\n",
    "emj_codes=[code for code in emoji_key['Unicode'] if code!=\"Browser\" \\\n",
    "           if (code not in emj_codes_skin) if sum([c==\"*\" for c in code])==0]\n",
    "##yellow, potential for skin tone\n",
    "can_have_skin=[key[0:2] for key in emj_codes if re.findall(emj_codes_skin[0],key) != []]\n",
    "can_have_skin += [key[0:1] for key in emj_codes if len(key[0:2].encode(\"utf-8\"))==6 and re.findall(emj_codes_skin[0],key) != []]\n",
    "#remove common face emojis\n",
    "face_index=range(69)\n",
    "emj_codes_face=[code for index,code in zip(emoji_key.index,emoji_key['Unicode']) if index in face_index]\n",
    "\n",
    "_u = lambda t: t.decode('UTF-8', 'replace') if isinstance(t, str) else t\n",
    "\n",
    "def get_keys(tweet):\n",
    "    max_index=0\n",
    "    max_count=len(tweet['statuses'][max_index].keys())\n",
    "    \n",
    "    for ii in range(len(tweet['statuses'])):\n",
    "        if max_count < len(tweet['statuses'][ii].keys()):\n",
    "            max_index=ii\n",
    "            \n",
    "    return tweet['statuses'][max_index].keys()\n",
    "\n",
    "def print_tweets_w_emj(T_DF,num=0):\n",
    "    for item in T_DF['text'][T_DF['emjSum']>=num]:\n",
    "        print(item)\n",
    "        \n",
    "def make_twitter_DF(tweet): #create PD dataframe\n",
    "    columns=get_keys(tweet)\n",
    "    for ii in range(len(tweet['statuses'])): \n",
    "        diff= list(set(columns)-set(tweet['statuses'][ii].keys()))\n",
    "        for val in diff:\n",
    "            tweet['statuses'][ii][val]=\"\"\n",
    "    return pd.DataFrame([tweet['statuses'][ii] for ii in range(len(tweet['statuses']))], columns=get_keys(tweet)) \n",
    "\n",
    "def Search_Word(q):\n",
    "    # Initiate the connection to Twitter REST API\n",
    "    twitter = Twitter(auth=OAuth( OAUTH_TOKEN, OAUTH_TOKEN_SECRET, CONSUMER_KEY,  CONSUMER_SECRET))       \n",
    "    tweet= twitter.search.tweets(q=q,lang='en', result_type='recent',count=200)\n",
    "    T_DF=make_twitter_DF(tweet)\n",
    "    \n",
    "    #long search function, more than 100\n",
    "    #T_DF=long_search(twitter,q,300)\n",
    "    \n",
    "    T_DF['emjText']=[[(emcode, len(re.findall(emcode,T_DF['text'][ii]))) for emcode in emj_codes\\\n",
    "                      if (len(re.findall(emcode,T_DF['text'][ii])) > 0)] for ii in range(len(T_DF))]\n",
    "    T_DF['emjSum']=[sum([item[1] for item in T_DF['emjText'][ii]]) for ii in range(len(T_DF))]\n",
    "    T_DF['emjTypes']=[len(T_DF['emjText'][ii]) for ii in range(len(T_DF))]\n",
    "    T_DF['searchWordSum']=[len(re.findall(q,T_DF['text'][ii].lower())) for ii in range(len(T_DF))]\n",
    "    return T_DF\n",
    "\n",
    "def Analyze_Freq(T_DF,emj_per_tweet=1,rep_emj_per_tweet=1, emj_types_per_tweet=1, nword=0):\n",
    "    DFcut=T_DF[(T_DF['emjSum']>=emj_per_tweet) & (T_DF['searchWordSum']>=nword) \\\n",
    "               & (T_DF['emjTypes']>=emj_types_per_tweet)] \n",
    "    \n",
    "    S=dict()\n",
    "    for key, value in sum(DFcut['emjText'],[]):\n",
    "        if value>=rep_emj_per_tweet:\n",
    "            try:\n",
    "                S[key] +=value\n",
    "            except KeyError:\n",
    "                S[key]=value\n",
    "        \n",
    "    return pd.DataFrame([(key,S[key]) for key in S],columns=('emoji','freq'))\n",
    "\n",
    "def count_words(text):\n",
    "    S = collections.defaultdict(lambda:0)\n",
    "    for word in text.split():\n",
    "        S[word.lower()]+=1\n",
    "    return max(S, key=S.get), S[max(S, key=S.get)]\n",
    "\n",
    "def emoji_split_all(text):\n",
    "    '''add a space before and after the emoji, then remove double spaces. Keep \\n'''\n",
    "    lines=[]\n",
    "    for line in text.split('\\n'):\n",
    "        for emcode in emj_codes:\n",
    "            if (len(re.findall(emcode,line))) > 0:\n",
    "                line=line.replace(emcode,' '+emcode+' ')\n",
    "        for skin in emj_codes_skin:\n",
    "            line=_u(line)\n",
    "            line=line.replace(' '+skin,skin+' ') #put the skin codes back into place but add a space afterwards\n",
    "        lines.append(' '.join(line.split()))\n",
    "    return '\\n'.join(lines)\n",
    "\n",
    "def emoji_split(text):\n",
    "    '''add a space before and after the emoji. Do not add space between consecutive emojis unless seperated by a space.\n",
    "    Remove double spaces. Keep \\n'''\n",
    "    lines=[]\n",
    "    for line in text.split('\\n'):\n",
    "        line=_u(line)\n",
    "        for emcode in emj_codes:\n",
    "            if (len(re.findall(emcode,line))) > 0:\n",
    "                line=line.replace(emcode,'^'+emcode+'^')\n",
    "        for skin in emj_codes_skin:\n",
    "            line=_u(line)\n",
    "            line=line.replace('^'+skin,skin+'^') #put the skin codes back into place but add a space afterwards\n",
    "        line=line.replace('^^','')\n",
    "        line=line.replace('^',' ')\n",
    "        lines.append(' '.join(line.split()))\n",
    "    return '\\n'.join(lines)\n",
    "\n",
    "def emoji_split_line(line):\n",
    "    '''Add a space before and after the emoji then remove double spaces, while keeping original spaces between emojis'''\n",
    "    line=line.replace(' ','^')\n",
    "    for emcode in emj_codes:\n",
    "        if (len(re.findall(emcode,line))) > 0:\n",
    "            line=line.replace(emcode,' '+emcode+' ')\n",
    "    for skin in emj_codes_skin:\n",
    "        line=_u(line)\n",
    "        line=line.replace(' '+skin,skin+' ') #put the skin codes back into place but add a space afterwards\n",
    "    return ' '.join(line.split())\n",
    "\n",
    "def NextWord(text,emj):\n",
    "    try:\n",
    "        last_index=len(text)-(text[::-1].index(emj[::-1]))-2\n",
    "    except ValueError:\n",
    "        last_index=len(text)\n",
    "    return ''.join(text[last_index+2:].split()[:1])\n",
    "\n",
    "def surroundingText(text,emojiLabel):\n",
    "    #work with text after running the split_all function, seach leabels with surrunding space for index\n",
    "    #We search with ' emcode ' then for the index do ' emcode '.strip() to remove white space\n",
    "    emojiLabel=[' '+label+' ' for label in emojiLabel] #add space\n",
    "    return np.array([(emcode.strip(), ''.join(text[:text.index(emcode)].split()[-1:]),\\\n",
    "                    NextWord(text,emcode),\\\n",
    "                    ' '.join(text[:text.index(emcode)].split()[-7:]),\\\n",
    "                    ' '.join(text[text.index(emcode)+len(emcode):].split()[:7])) for emcode in emojiLabel\\\n",
    "                      if (re.findall(emcode,text) !=[]) ])\n",
    "    \n",
    "####################################################################################\n",
    "def write_emoji_usage(tweet,has_emoji):\n",
    "    entry = {\"date\": datetime.datetime.utcnow(),\\\n",
    "             \"created_at\": tweet.created_at,\\\n",
    "             \"retweet_count\": tweet.retweet_count,\\\n",
    "             \"favorite_count\": tweet.favorite_count,\\\n",
    "             \"lang\": tweet.lang,\\\n",
    "             \"geo\": tweet.geo,\\\n",
    "             \"coordinates\": tweet.coordinates,\\\n",
    "             \"time_zone\": tweet.user.time_zone,\\\n",
    "             \"name\":tweet.user.name, \"user_name\":tweet.user.screen_name,\\\n",
    "             \"has_emoji\":has_emoji}\n",
    "    emoji_usage.insert_one(entry).inserted_id\n",
    "\n",
    "def checkNone(val):\n",
    "    return val if val else ''\n",
    "def checkNoneJSON(val):\n",
    "    return json.dumps(val) if val else '{}'\n",
    "\n",
    "def getMongoTweet(tweet):\n",
    "    #tweet data:\n",
    "    tweet_id = 0\n",
    "    date=tweet['date']\n",
    "    created_at=tweet['created_at']\n",
    "    original_text=tweet['text']\n",
    "    retweet_count=tweet['retweet_count']\n",
    "    favorite_count=tweet['favorite_count']\n",
    "    lang=tweet['lang']\n",
    "    geo=checkNoneJSON(tweet['goe'])\n",
    "    coordinates=checkNoneJSON(tweet['coordinates'])\n",
    "    try:\n",
    "        time_zone=tweet['time_zone']\n",
    "    except KeyError:\n",
    "        time_zone=''\n",
    "    try:\n",
    "        name=tweet['name']\n",
    "    except KeyError:\n",
    "        name=''\n",
    "    try:\n",
    "        user_name=tweet['user_name']\n",
    "    except KeyError:\n",
    "        user_name=''\n",
    "    \n",
    "    return tweet_id,date,created_at,original_text,retweet_count,favorite_count,lang,geo,coordinates,\\\n",
    "    time_zone,name,user_name\n",
    "    \n",
    "#class MineEmojis:    \n",
    "def analyze_tweet_emojis(SQL_return,Mongo=False):\n",
    "    #tweet data:\n",
    "    has_emoji=False\n",
    "    \n",
    "    if Mongo:\n",
    "        tweet_id,date,created_at,original_text,retweet_count,favorite_count,lang,geo,coordinates,\\\n",
    "        time_zone,name,user_name=getMongoTweet(SQL_return)\n",
    "    else:\n",
    "        tweet_id = SQL_return[0]\n",
    "        date=SQL_return[1]\n",
    "        created_at=SQL_return[2]\n",
    "        original_text=SQL_return[3]\n",
    "        retweet_count=SQL_return[4]\n",
    "        favorite_count=SQL_return[5]\n",
    "        lang=SQL_return[6]\n",
    "        geo=checkNoneJSON(SQL_return[7])\n",
    "        coordinates=checkNoneJSON(SQL_return[8])\n",
    "        time_zone=SQL_return[9]\n",
    "        name=SQL_return[10]\n",
    "        user_name=SQL_return[11]\n",
    "    \n",
    "    text=emoji_split(original_text)\n",
    "    emjText=np.array([(emcode, len(re.findall(emcode,text))) for emcode in emj_codes\\\n",
    "                      if (len(re.findall(emcode,text)) > 0)])\n",
    "\n",
    "    if len(emjText) >0:\n",
    "        print(text)\n",
    "        has_emoji=True\n",
    "        mostFreqWord, mostFreqWordCount = count_words(text)\n",
    "        newlineCount= text.count('\\n')\n",
    "        #create arrays to save in SQL. Sorted by frequency\n",
    "        emojiLabel=emjText[np.argsort(emjText[:, 1])[::-1]][:,0]\n",
    "        emojiLabelFaceFilter= np.in1d(emojiLabel,emj_codes_face,invert=True)\n",
    "        emojiCount=np.array(emjText[np.argsort(emjText[:, 1])[::-1]][:,1], dtype=int)\n",
    "        emojiTypes=len(emojiCount)\n",
    "        emojiCountSum=sum(emojiCount)\n",
    "        surrounding_text=surroundingText(text,emojiLabel) #sorted by frequency\n",
    "        prev_word=surrounding_text[:,1]\n",
    "        next_word=surrounding_text[:,2]\n",
    "        prev_sentence=surrounding_text[:,3]\n",
    "        next_sentence=surrounding_text[:,4]\n",
    "\n",
    "        #build array of emoji strings\n",
    "        emj_str = np.array([(emj_str, int(len(emj_str)/2)) for emj_str in sum([''.join([word if word in emj_codes+[' '] \\\n",
    "        else 'T' for word in emoji_split_line(line).split()]).rsplit('T') for line in text.split('\\n')],[]) if emj_str != ''])\n",
    "        \n",
    "        #analyze emoji strings, cut away length 1 emojis and call new array a:\n",
    "        if len(emj_str)==0:\n",
    "            emojistrLabel,emojistrCount,emojistrLen,emojistrTypes,emojistr_prev_word,emojistr_next_word,\\\n",
    "            emojistr_prev_sentence,emojistr_next_sentence,emojiPatternLabel,emojiPatternCount,emojiPatternLen,emojiPatternTypes=\\\n",
    "            [],[],[],0,[],[],[],[],[],[],[],0\n",
    "        else: #try to find strings, but first filter length 1 and those with length 2(with skin codes)\n",
    "            d=collections.defaultdict(lambda:0)\n",
    "            for key in emj_str[:,0]:\n",
    "                d[key]+=1\n",
    "            a=np.array([d.values(),d.keys(),[int(len(key)/2) for key in d.keys()]])\n",
    "            #remove single emojis and double if skin code is included:\n",
    "            skin_cut=~np.bool8(((np.int32(a[2,:]))==2) & (np.array([sum([len(re.findall(emcode,val)) for emcode in emj_codes_skin]) for val in a[1,:]])))\n",
    "            multi_cut=(np.int32(a[2,:])>1) & skin_cut\n",
    "            a=a[:,multi_cut]\n",
    "\n",
    "            if len(a[0])==0:\n",
    "                emojistrLabel,emojistrCount,emojistrLen,emojistrTypes,emojistr_prev_word,emojistr_next_word,\\\n",
    "                emojistr_prev_sentence,emojistr_next_sentence,emojiPatternLabel,emojiPatternCount,emojiPatternLen,\\\n",
    "                emojiPatternTypes=\\\n",
    "                [],[],[],0,[],[],[],[],[],[],[],0\n",
    "\n",
    "            else:\n",
    "                sort_index=a.argsort(axis=1)\n",
    "                emojistrLabel=a[[1,sort_index[0]]][::-1]\n",
    "                emojistrCount=np.array(a[[0,sort_index[0]]][::-1],dtype=int)\n",
    "                emojistrLen=np.array(a[[2,sort_index[0]]][::-1],dtype=int)\n",
    "                emojistrTypes=len(emojistrCount)\n",
    "                #add emjStr CountSum\n",
    "                surrounding_str_text=surroundingText(text,emojistrLabel) #sorted by frequency\n",
    "                emojistr_prev_word=surrounding_str_text[:,1]\n",
    "                emojistr_next_word=surrounding_str_text[:,2]\n",
    "                emojistr_prev_sentence=surrounding_str_text[:,3]\n",
    "                emojistr_next_sentence=surrounding_str_text[:,4]\n",
    "                #find emoji str patterns\n",
    "                pattern=np.array([(emcode, len(re.findall(emcode,text))) for emcode in emojistrLabel])\n",
    "                emojiPatternLabel=pattern[np.argsort(pattern[:, 1])[::-1]][:,0] \n",
    "                emojiPatternCount=np.array(pattern[np.argsort(pattern[:, 1])[::-1]][:,1],dtype=int)\n",
    "                emojiPatternLen=np.array([np.int32(len(val)/2) for val in emojiPatternLabel],dtype=int)\n",
    "                emojiPatternTypes=len(emojiPatternCount)\n",
    "\n",
    "        #skin tone information\n",
    "        emjText_skin=np.array([(emcode, len(re.findall(emcode,text))) for emcode in emj_codes_skin\\\n",
    "                      if (len(re.findall(emcode,text)) > 0)])\n",
    "        if len(emjText_skin)==0:\n",
    "            emojiSkinLabel, emojiSkinCount,emojiSkinCountSum,emojiSkinTypes= [],[],0,0\n",
    "        else:\n",
    "            #create arrays to save in SQL. Sorted by frequency\n",
    "            emojiSkinLabel=emjText_skin[np.argsort(emjText_skin[:, 1])[::-1]][:,0] \n",
    "            emojiSkinCount=np.array(emjText_skin[np.argsort(emjText_skin[:, 1])[::-1]][:,1],dtype=int)\n",
    "            emojiSkinCountSum=sum(emojiSkinCount)\n",
    "            emojiSkinTypes=len(emojiSkinCount)\n",
    "        \n",
    "        insertIntoSQL(tweet_id, date,created_at,text,retweet_count,favorite_count,lang,geo,coordinates,time_zone,name,user_name,\\\n",
    "    emojiLabel,emojiLabelFaceFilter,emojiCount,emojiCountSum,emojiTypes,prev_word,next_word,prev_sentence,next_sentence,mostFreqWord,\\\n",
    "    mostFreqWordCount,newlineCount,emojiSkinLabel,emojiSkinCount,emojiSkinCountSum,emojiSkinTypes,emojistrLabel,\\\n",
    "    emojistrCount,emojistrLen,emojistrTypes,emojistr_prev_word,emojistr_next_word,emojistr_prev_sentence,\\\n",
    "    emojistr_next_sentence,emojiPatternLabel,emojiPatternCount,emojiPatternLen,emojiPatternTypes)\n",
    "    \n",
    "    if not Mongo:\n",
    "        has_emoji_SQL(tweet_id, has_emoji)\n",
    "    \n",
    "#class MineEmojis:    \n",
    "def mine_tweets(tweet):\n",
    "    print(tweet.text)\n",
    "    has_emoji=True\n",
    "    #tweet data:\n",
    "    date= datetime.datetime.utcnow()\n",
    "    created_at = tweet.created_at\n",
    "    text = tweet.text\n",
    "    retweet_count = tweet.retweet_count\n",
    "    favorite_count = tweet.favorite_count\n",
    "    lang=checkNone(tweet.lang)\n",
    "    geo = checkNoneJSON(tweet.geo)\n",
    "    time_zone = checkNone(tweet.user.time_zone)\n",
    "    coordinates = checkNoneJSON(tweet.coordinates)\n",
    "    name = checkNone(tweet.user.name)\n",
    "    user_name = checkNone(tweet.user.screen_name)\n",
    "    dumpIntoSQL(date,created_at,text,retweet_count,favorite_count,lang,geo,coordinates,time_zone,name,user_name)\n",
    "\n",
    "def dumpIntoSQL(date,created_at,text,retweet_count,favorite_count,lang,geo,coordinates,time_zone,name,user_name):\n",
    "    cur.execute(\"INSERT INTO tweet_dump (\\\n",
    "    date,\\\n",
    "    created_at,\\\n",
    "    text,\\\n",
    "    retweet_count,\\\n",
    "    favorite_count,\\\n",
    "    lang,\\\n",
    "    geo,\\\n",
    "    coordinates,\\\n",
    "    time_zone,\\\n",
    "    name,\\\n",
    "    user_name\\\n",
    "    )\\\n",
    "    VALUES (\\\n",
    "    %s,%s,%s,%s,%s,%s,%s,%s,%s,%s,%s\\\n",
    "    )\",(\\\n",
    "    date,\\\n",
    "    created_at,\\\n",
    "    text,\\\n",
    "    retweet_count,\\\n",
    "    favorite_count,\\\n",
    "    lang,\\\n",
    "    geo,\\\n",
    "    coordinates,\\\n",
    "    time_zone,\\\n",
    "    name,\\\n",
    "    user_name\\\n",
    "    ))\n",
    "    conn.commit() #submit change to db\n",
    "\n",
    "def has_emoji_SQL(tweet_id, has_emoji):\n",
    "    cur.execute(\"INSERT INTO has_emoji (\\\n",
    "    tweet_id,\\\n",
    "    has_emoji\\\n",
    "    )\\\n",
    "    VALUES (\\\n",
    "    %s,%s\\\n",
    "    )\",(\\\n",
    "    tweet_id,\\\n",
    "    has_emoji\\\n",
    "    ))\n",
    "    conn.commit() #submit change to db\n",
    "    \n",
    "def insertIntoSQL(tweet_id, date,created_at,text,retweet_count,favorite_count,lang,geo,coordinates,time_zone,name,user_name,\\\n",
    "    emojiLabel,emojiLabelFaceFilter,emojiCount,emojiCountSum,emojiTypes,prev_word,next_word,prev_sentence,next_sentence,mostFreqWord,\\\n",
    "    mostFreqWordCount,newlineCount,emojiSkinLabel,emojiSkinCount,emojiSkinCountSum,emojiSkinTypes,emojistrLabel,\\\n",
    "    emojistrCount,emojistrLen,emojistrTypes,emojistr_prev_word,emojistr_next_word,emojistr_prev_sentence,\\\n",
    "    emojistr_next_sentence,emojiPatternLabel,emojiPatternCount,emojiPatternLen,emojiPatternTypes):\n",
    "    cur.execute(\"INSERT INTO emoji_tweet (\\\n",
    "    tweet_id,\\\n",
    "    date,\\\n",
    "    created_at,\\\n",
    "    text,\\\n",
    "    retweet_count,\\\n",
    "    favorite_count,\\\n",
    "    lang,\\\n",
    "    geo,\\\n",
    "    coordinates,\\\n",
    "    time_zone,\\\n",
    "    name,\\\n",
    "    user_name,\\\n",
    "    emojiLabel,\\\n",
    "    emojiLabelFaceFilter,\\\n",
    "    emojiCount,\\\n",
    "    emojiCountSum,\\\n",
    "    emojiTypes,\\\n",
    "    prev_word,\\\n",
    "    next_word,\\\n",
    "    prev_sentence,\\\n",
    "    next_sentence,\\\n",
    "    mostFreqWord,\\\n",
    "    mostFreqWordCount,\\\n",
    "    newlineCount,\\\n",
    "    emojiSkinLabel,\\\n",
    "    emojiSkinCount,\\\n",
    "    emojiSkinCountSum,\\\n",
    "    emojiSkinTypes,\\\n",
    "    emojistrLabel,\\\n",
    "    emojistrCount,\\\n",
    "    emojistrLen,\\\n",
    "    emojistrTypes,\\\n",
    "    emojistr_prev_word,\\\n",
    "    emojistr_next_word,\\\n",
    "    emojistr_prev_sentence,\\\n",
    "    emojistr_next_sentence,\\\n",
    "    emojiPatternLabel,\\\n",
    "    emojiPatternCount,\\\n",
    "    emojiPatternLen,\\\n",
    "    emojiPatternTypes\\\n",
    "    )\\\n",
    "    VALUES (\\\n",
    "    %s,%s,%s,%s,%s,%s,%s,%s,%s,%s,%s,%s,%s,%s,%s,%s,%s,%s,%s,%s,%s,%s,%s,%s,%s,%s,%s,%s,%s,%s,%s,%s,%s,%s,%s,%s,%s,%s,%s,%s\\\n",
    "    )\",(\\\n",
    "    tweet_id,\\\n",
    "    date,\\\n",
    "    created_at,\\\n",
    "    text,\\\n",
    "    retweet_count,\\\n",
    "    favorite_count,\\\n",
    "    lang,\\\n",
    "    geo,\\\n",
    "    coordinates,\\\n",
    "    time_zone,\\\n",
    "    name,\\\n",
    "    user_name,\\\n",
    "    list(emojiLabel),\\\n",
    "    list(emojiLabelFaceFilter),\\\n",
    "    list(emojiCount),\\\n",
    "    emojiCountSum,\\\n",
    "    emojiTypes,\\\n",
    "    list(prev_word),\\\n",
    "    list(next_word),\\\n",
    "    list(prev_sentence),\\\n",
    "    list(next_sentence),\\\n",
    "    mostFreqWord,\\\n",
    "    mostFreqWordCount,\\\n",
    "    newlineCount,\\\n",
    "    list(emojiSkinLabel),\\\n",
    "    list(emojiSkinCount),\\\n",
    "    emojiSkinCountSum,\\\n",
    "    emojiSkinTypes,\\\n",
    "    list(emojistrLabel),\\\n",
    "    list(emojistrCount),\\\n",
    "    list(emojistrLen),\\\n",
    "    emojistrTypes,\\\n",
    "    list(emojistr_prev_word),\\\n",
    "    list(emojistr_next_word),\\\n",
    "    list(emojistr_prev_sentence),\\\n",
    "    list(emojistr_next_sentence),\\\n",
    "    list(emojiPatternLabel),\\\n",
    "    list(emojiPatternCount),\\\n",
    "    list(emojiPatternLen),\\\n",
    "    emojiPatternTypes\\\n",
    "    ))\n",
    "    conn.commit() #submit change to db\n",
    "        \n",
    "class StdOutListener(StreamListener):\n",
    "    \"\"\" A listener handles tweets that are received from the stream.\n",
    "    This is a basic listener that just prints received tweets to stdout.\n",
    "    \"\"\"\n",
    "    #Mine=MineEmojis()\n",
    "    def on_status(self, status):\n",
    "        mine_tweets(status)\n",
    "        return True\n",
    "    def on_error(self, status):\n",
    "        print(status)"
   ]
  },
  {
   "cell_type": "code",
   "execution_count": null,
   "metadata": {
    "collapsed": false,
    "scrolled": true
   },
   "outputs": [
    {
     "name": "stdout",
     "output_type": "stream",
     "text": [
      "😂😂😂\n",
      "RT @67ertg1: #토토\n",
      "#토토\n",
      "\n",
      "사-설-토-토-추-천\n",
      "\n",
      "🐽🅾🐽  https://t.co/4HZ4pKAS6S  🐽🅾🐽\n",
      "\n",
      "네-💫\n",
      "임-💫\n",
      "드-💫\n",
      "사-💫\n",
      "다-💫\n",
      "리-💫\n",
      "\n",
      "💐💐크로스,축배팅,단폴더 배팅 가능💐💐\n",
      "RT @thehill: Susan Sarandon: I've faced \"so much shaming\" for supporting Sanders https://t.co/Y3gcfrSt7T https://t.co/bCPx2hE1uJ\n",
      "RT @MrKrabsBIurMeme: When you reach in your pocket and don't feel your phone. https://t.co/1kPuUWc06H\n",
      "RT @brklnbound: de verdad que a veces me siento más idiota que el tío que tradujo el nombre de Homer al español como Homero\n",
      "RT @myamarissa_: I want you.\n",
      "I've tried too ignore it everytime u phone, but i never come close X\n",
      "تفاعل الناس و دفاعهم عن حقوق بعض شيء يبعث على التفاءل 🙏🏼 #ازالة_قرية_عمق_جنوب_مكه\n",
      "RT @ProfesorMorboso: https://t.co/DhkxA9J9Qx\n",
      "Good morning Asia !\n",
      "RT @JoeyGraceffa: ⚡️ GLOW IN THE DARK HAIR DIY! ⚡ ️https://t.co/xtX86K31sI RT/LIKE FOR A SURPRISE! ⚡️ https://t.co/tR5uCvrHsF\n",
      "RT @salahabdallah8: أقسم بالله أننى أشجع الأهلى أمام أي فريق غير مصرى وكأننى أهلاوي صميم..أهلاوي إبن أهلاويه..مش زي فيلم الزمهلاويه 🌹❤️🌹 ht…\n",
      "El dolor de cabeza me esta matando fuera de joda.\n",
      "RT @OutletSantander: El modelo más vendido de Adidas en lo que va de año!! \n",
      "\n",
      "No esperes y pide las tuyas \n",
      "\n",
      "Por sólo 50€\n",
      "\n",
      "FOTOS ORIGINALES h…\n",
      "@fuck_ayyteam \n",
      "not sure, i know there was a pic tho\n",
      "I can't let the hurt go 🙄\n",
      "RT @RTarabic: #إنفوجرافيك: أثرى أثرياء العرب\n",
      "#اسأل_أكثر\n",
      "https://t.co/zriaBhWQ2I https://t.co/i27GznHkye\n",
      "Я не хочу тебя терять, но я понимаю что уже потеряла...\n",
      "high sex over everything!! https://t.co/FIEBeYwO7i\n",
      "Support great music! @SplitSingleband needs pizza to help record his new album!! @jonwurster is hungry!! https://t.co/wTZRcyyQvJ\n",
      "RT @Lamya83111: سبحان الله وبحمده،،سبحان الله العظيم https://t.co/1DHkOOWqe2\n",
      "@almatheeb13 ماشاءالله الله يوفق المهندس رياض وقبله فهد عيس وافراس مناور والله يكثر من امثالهم وتحياتي لكم جميعا بن عمكم  حمدان عوض مروي\n",
      "RT @twitter: Today, we're updating trends on mobile. You can now find trends in the search page. Learn more: https://t.co/QWBgWXhWzg\n",
      "Feliz cumple chiquita hermosa, sabes que te quiero muchísimo y podes contar conmigo siempre que me necesites💘👑🎉🎊 https://t.co/onhaVKwdIt\n",
      "Joining gym is a kind of phobia to many ... - #fitness #health #diet #weightloss #fatloss https://t.co/rp6yePKqnF https://t.co/Q1gVeLXI1L\n",
      "Get Weather Updates from theweatherchannel 16:55:23\n",
      "RT @BohoOutfitters: Places I'd rather be… https://t.co/UmbKd2kdae\n",
      "RT @yuigyd5r: 【あの子と付き合うことができたらなぁ】\n",
      "\n",
      "と思い、ある掲示板を徘徊してたら\n",
      "\n",
      "催眠術の掛け方があった…\n",
      "\n",
      "→https://t.co/pgKvRiQybj\n",
      "\n",
      "不安に思いながらも\n",
      "催眠方法のデータを落とした僕は… https://t.co/AC4CKa…\n",
      "Get Weather Updates from theweatherchannel 16:55:28\n",
      "RT @globalcompact: World leaders will attend the #ParisAgreement signature ceremony on 22 April, #EarthDay: https://t.co/sqa9xbT9TH https:/…\n",
      "RT @AccurateText: When I'm quiet: \n",
      "\n",
      "1) tired \n",
      "\n",
      "2) don't have anything to talk about \n",
      "\n",
      "3) over-thinking \n",
      "\n",
      "4) upset \n",
      "\n",
      "5) falling apart \n",
      "\n",
      "6) a…\n",
      "RT @MelissaaKildred: @Official1DPR @NiallOfficial #NiallComeToPuertoRico\n",
      "'Breaking Bad' biggies are getting closer on 'Better Call Saul' https://t.co/Jycih55XFU\n",
      "@queenlilz69 😈😈\n",
      "RT @AdamGaoua: @AvecRetailleau @LhommeZer Didier Morville c'est arabe ?\n",
      "سبحان الله وبحمده سبحان الله العظيم .\n",
      "Bump\n",
      "RT @Alexdu937: Kelvin 92 https://t.co/pMZMaEmO9J\n",
      "RT @ofcgeek: These actors don’t hold back. #BATB #NetflixSaveBatb ls add to orig prgrms. @netflix\n",
      "RT @Jekyll_HYDE_App: Raise your hand if you carry a gallon around. https://t.co/rXdvtx9tRf https://t.co/iwyFLDPCIC\n",
      "RT @stiIesk: Bata na sua cara antes que eu bata\n",
      "1st @AvonValleyRun speed session in ages! 10 x 2 mins sets. Legs definitely still fatigued post @Brutaleventsuk &amp; @WestburyWheeler epic ride\n",
      "RT @nikofex: Tío yo te quería https://t.co/dYu3FXT6eS\n",
      "@Lodingu فيه مجال تصممون لي خريطة مفاهيم في ظرف يوم ؟\n",
      "Daría lo que sea para volver a verles y que me dijeran un último consejo\n",
      "RT @aarbeloa17: Creo que cuando pensamos en el @RMBaloncesto a todos los madridistas nos invade la misma sensación: orgullo. ¡Sois muy gran…\n",
      "دعاء الرفع من الركوع:ربنا ولك الحمد حمداً كثيراً طيباً مباركاً فيه https://t.co/4a0jDAffZm\n",
      "Le pagelle del Pescara - Lapadula trascinatore, difesa insuperabile https://t.co/f22SVTQJUC #calciomercato #calcio #seriea\n",
      "قناة 24 الرياضية :الصرامي: لو دفع جزء من الرواتب في نادي النصر على الاقل ستتغير النفسيات https://t.co/4j0eKLBrk4 #كورة_روتانا #كورة\n",
      "@kuehles_Blondes Auch Kuttner-Fan? Du wirst mir immer sympathischer. 😉\n",
      "@lisvao_ @GabrielcomSnow não, so nas terças\n",
      "@aboraad1900 نعم\n",
      "Our Fall Fashion shoot in the May issue... and the behind-the-scenes article about it! Thank you Southold... https://t.co/9tukjUbKo7\n",
      "و طيفك كل ما تهيألي، احس الليل يضحك لي.\n",
      "RT @anitaGoo_: MEE MUEROOO! JAJJAJA @claudia_saz https://t.co/ECN6HrG14O\n",
      "RT @Hebamagdi_: فقدت القدرة والله ع الكلام وتعبت\n",
      "@CoutinhoFlair *enters epic slide mode*\n",
      "КМ\n",
      "https://t.co/DNPdsFcX9W\n",
      "so so proud of my pink ladies💅🏻👄👭👭💕💕\n",
      "Fermin es el puto mejor #LQSA\n",
      "RT @Glamour_Elite: Incredible Joy Van Velsen (@PlayboyPlus) 😍\n",
      "\n",
      "@MySexyGirlsPics @Boogie_1969 @Dream_Babes @Realy_hot @davloc77 @_GFU https:…\n",
      "RT @OceanGrownTREEZ: Yo room the living room.? https://t.co/tVQmYS7xjx\n",
      "@MithzanMax To help make your timeline a little less salty... Have a corn dog.  https://t.co/AOg59zlkiq\n",
      "Medical advice from a tube? What do you think of @amazon's Alexa giving parents tips on sick kids? https://t.co/oRDyr4lPr6\n",
      "Me ne basterebbe uno di desiderio..a https://t.co/CPCjRTWtMk\n",
      "RT @PassionFootClub: J-M Aulas a annoncé aux étudiants de HEC Paris que Clément Grenier sera placé sur la liste des transferts cet été ! ht…\n",
      "RT @luxeblood: Pull Kenzo https://t.co/qV9x2vBwfa https://t.co/gJu7DNxgH2\n",
      "戻った。寝る。(布団に戻る)\n",
      "RT @Caty_Smily: No me arrepiento de nada, pero me hubiera gustado haber tomado mejores decisiones en algun momento de mi vida.\n",
      "RT @FashionweekNYC: BREAKING: Creative Directors Francisco Costa and Italo Zucchelli are both leaving Calvin Klein https://t.co/K08etiKSiO\n",
      "RT @RealVIXX: 나는 로빅이다. #빅스 요원들의 #다이너마이트 뮤직비디오 조회수 달성 시 별빛요원들을 위한 특별한 공약 이벤트가 진행된다. [이상, RT작전 실행하라!] https://t.co/CytNmJspHp https://t.co/F3…\n",
      "@bIueberri bring me one plox\n",
      "RT @LForestermjb: #사설사다리\n",
      "#스포츠토토사이트추천\n",
      "\n",
      "💫네-임-드-사-다-리🌲\n",
      "👩먹튀없음(명품놀이터)♠\n",
      "👨클릭 https://t.co/6X6Spwisey 추천인코드:luck👷\n",
      "\n",
      "🌹👩JOIN NOW🔒👂\n",
      "🇶\n",
      "♣\n",
      "망롣닝랖뚜 https://t…\n",
      "RT @itsBlairWaIdorf: Someone made an eyeshadow palette inspired by guys https://t.co/s1J13avoDz\n",
      "RT @t__srx: Toi mdr https://t.co/PYpNyS36ik\n",
      "Council Unanimously Passes Made In DC Legislation: \n",
      "\n",
      " D.C. manufacturers can receive a \"Made in D... https://t.co/9HB2wbXxth\n",
      "RT @AbrahamMAwards: #PRÓXIMAMENTE cambiaremos el user de esta cuenta para poder compartir más información sobre Abraham Mateo 😉 ¡No dejes d…\n",
      "RT @zelajesus: https://t.co/UOrFrLp3O1\n",
      "RT @loversviciconte: Mica fue a ver que le paso a bian \n",
      "#NiKokuVenceEsteAmorMica\n",
      "!\n",
      "ON THE MOVE: Superdelegates flock to Clinton, even where Sanders wins https://t.co/1GcqzTShQq\n",
      "RT @SaudiNews50: #الملك _عبدالله_بن_عبدالعزيز مخاطباً شعبه بعد صدور الميزانية.\n",
      "اللهم اغفر له واجزِه عنّا خير الجزاء\n",
      "@Abdullaah_king\n",
      "- https…\n",
      "E* \n",
      "Merda de corretor pqp\n",
      "La berenjena al escabeche es para mi lo que él helado para ustedes cuando estan deprimidos\n",
      "RT @Nomefodido: Carioca Falando: Tu tá perdendo a linha\n",
      "No words. Worst season of football I've seen from Charlton\n",
      "RT @euidiotices: melhor casal https://t.co/zCMPZszPwy\n",
      "RT @M_o_H_2020: ١- الإسلام دين يوافق الفطرة والعقل والعلم بأدِّلْتِه وبراهينه\n",
      "التي لاتخلو منها أصوله وفروعه، ولاتزيده الأيام إلا رسوخا\n",
      "#ليظ…\n",
      "RTS 28: The resistance training workout at home DVD &amp; guidebook for mature adults. https://t.co/vFSxCiehKt\n",
      "@waleedalfarraj \n",
      "\n",
      "ياوليد الفراج محتاجين دعمك بالهشتاق طلبناك لاتردنا\n",
      "\n",
      "@M_Naif_Alsaud⁩ ⁦@fayez_malki⁩  ⁧#الترسيم_يا_ملك_الحزم\n",
      "Quiero mimos.. 🙄😢\n",
      "RT @enbuyukorg: Gigi Datome'den insanlık dışı blok! \n",
      "\n",
      "\"Sen gelme\" dedi. https://t.co/pTYHHOPmov\n",
      "Situación sentimental : bueno ... Aún me ladra el perro\n",
      "RT @hnyn_f: - علىّ تِلكَ الرُّفُوفْ العَتيقَه كِتابٌ مُهمَلّ بِـ عِنوَانْ وَ هَلّ بعدّ الحَنينْ لِقاءَ ؟.،♪♡̷̷̷̷̷̷̷ https://t.co/s1KmvdKNsW\n",
      "#Descarga #Olvidate de @DolarMusic ft @noisesix https://t.co/h0ExoJ2j9D https://t.co/n8ytDKldCX | via @DjNeoPromo RT:24\n",
      "Atención, que mi padre ha dicho que podría ir a ver Rogue One en Londres.\n",
      "Li Çiyayê Kurdan şer derket (Rûdaw) https://t.co/U35K97vpa7\n",
      "Elisa throws the most shade out of everyone I know😂😒 https://t.co/Wc17ChicOH\n",
      "RT @nurserycrimes: friend: i just think she's too good for him\n",
      "me: all women are too good for men but go on\n",
      "Fenerbahcenin yolu #FinalFour #BizimYolumuz başarı diyorsan bir tık kadar yakınız https://t.co/EAdawzR7uM https://t.co/AKPqxpSqfo\n",
      "Şapka da çıkartın, önünde de eğilin, ayakta da durun, selam da verin... https://t.co/8Z91apQzXL\n",
      "#bffs https://t.co/hh4ZmZCMxh\n",
      "10 продуктов, о которых придётся забыть ради плоского животика\n",
      "RT @FakingItupdate: 15 Minutes until we trend #SpookingIt ! Get ready! https://t.co/uHiwymNQE5\n",
      "平日６時台の時刻表です。2/3　20俣野　21飯車　28藤沢　28汲立　30金高　33弥生　34ドリ　36汲団　37俣野　38汲立　38大船\n",
      "RT @DixFM: ¿De cuál artista te gustaría escuchar un especial en @DixFM? #TuArtistaEsDix https://t.co/D8O4A3aeFL #NosUneLaMúsica\n",
      "RT @jackiemopsy: わたしたちは　な　ん　き　ん　に　かんして　なにもいってないのに　電撃ショック受けたみたいに　わざわざ　まず最初に言及してる。その慌てぶり、むしろ興味をそそられる。https://t.co/GbqZTGQGpR\n",
      "RT @lily_gault: #DemocracySpring #DemocracyAwakening has been so powerful watching from afar So very grateful to all involved  https://t.co…\n",
      "10 продуктов, о которых придётся забыть ради плоского животика\n",
      "RT @MindsConsole: So true... https://t.co/SvQoBiIYBl\n",
      "RT @arefontaref: ممشى المساعديه \n",
      "\n",
      "مشوارن طيب 😜😋برفقه الردحاوي والحكيم https://t.co/7mTPHHWOtP\n",
      "@kevinklinkmuler me 😏\n",
      "RT @aduepassidaluke: Io:Domani dormirò tutto il giorno \n",
      "\n",
      "Mamma:Ahah\n",
      "Gatto: Ahaha \n",
      "Ashton: Ahaha \n",
      "Mondo: DEVI STUDIARE\n",
      "@kilqrave - PARABÉNSSSS 💜\n",
      "Rihanna [PREVIEW] https://t.co/Pv6LiWdHJb #Rihanna\n",
      "RT @chwal84: Ils abusent un peu #TPMP. C'est juste une baffe et ils veulent ne pas faire d'émission demain --'\n",
      "@ManLikeRaheeem oh really, good. Have a feeling Liverpool is winning Europa\n",
      "RT @PrensaMCM: “Después de esta larga travesía en busca de la República Liberal Democrática, valores siguen vigentes“: #MCM #Contigo, por @…\n",
      "Yo Lo compró\n",
      "RT @rudu888: é uma menina síria a pensar que a camera é uma arma, isto toca a qualquer um... https://t.co/b0LrNU3lSJ\n",
      "@maly_hermes يحتاج اني انتحر\n",
      "RT @helenagm0910: @rodolferasfans @nata39gilpozo @rociosanse9 Vuelve el @MdT_TVE!! Próximo lunes 25 en TVE a las 22.15! https://t.co/bVHP0m…\n",
      "RT @mbw1913: うどん https://t.co/u7J9eK9ADj\n",
      "RT @RealEGDaily: #JimmyNeutron #TommyPickles @RealEGDaily, @DebiDerryberry https://t.co/KIkYgHQIxF\n",
      "RT @DeMotivo: \"Si tiene que ser, será.\"\n",
      "RT @fenerinmacivar: Haykır! Haykır ulaşşın sesin doruklara... https://t.co/KYWQimt4pg\n",
      "#AHORA [ROMPECABEZAS] Quieren que la suba del boleto de trasporte pase por el Concejo, Hablamos con @MercedesNqn  por AM1400 Y FM 101.9\n",
      "RT @teenagertexts: how cool is it that the same God that created mountains &amp; oceans &amp; galaxies &amp; puppies looked at u &amp; thought the world ne…\n",
      "@SaantiVergara e vo no agites 👊🏼\n",
      "RT @LuisLacallePou: Firmando y presentando la denuncia sobre ANCAP.Gran trabajo de @adelgado404 , @SenadorSaravia y todo el equipo. https:/…\n",
      "Reunion \n",
      "@DreamTeamVDJs \n",
      "@alexmatos https://t.co/XsngrNemZK\n",
      "RT @DeClerckLouise: Nu kom je op een moment in het leven waar je beseft wie je echte vrienden zijn en wie niet\n",
      "RT @StrangeAddictss: \"This is so much better than damn Daniel\" 😂 https://t.co/6NDbvXK2GH\n",
      "RT @CuteEmergency: a craft I can get behind https://t.co/E35rutN7iP\n",
      "Chicos mi mamá recién se levanta, tranquila la siesta que se clavo la bestia 😂\n",
      "J'suis archi vénère, elle va passer une bonne rentrer j'le sent.....\n",
      "@furlerlang10 como que se te borro la cuenta y no te diste cuenta? Jajaja  Amo ese gif 😂\n",
      "RT @9Khaled5: #شعيب_يسيء_للسعودية : الشعب السعودي يجلد ولا يبالي ههههههههههههههههههههههههههههههههههههههههههههههههههههههههه https://t.co/HoY…\n",
      "RT @SchoolIdolMemes: https://t.co/dt7AV2Xgdn\n",
      "#знакомства Domovenok, 24, Владимир, ищу: Парня  от 22  до 29: Цель знакомства: Романтически... https://t.co/FCLSSFQ5ud #Владимир\n",
      "Girls Vans Shoes, Size 11 Youth - Bid Now! Only $15.49 https://t.co/KkeDuTjYYL https://t.co/B1Z8zIM6vu\n",
      "Elizabeth Banks is unrecognizable in her latest villainous movie role https://t.co/wryWUVCO2L https://t.co/D1ro01aJ7M\n",
      "#CDF | #FCLPSG\n",
      "\n",
      "TERMINÉ ! Qualification (pas si facile que ça) pour le PSG en finale de la Coupe de France ! https://t.co/YpTQpj9eoL\n",
      "https://t.co/NKIR9UEaAS hatsunemania:\n",
      "\n",
      "Project diva 2nd Hatsune Miku, Vocaloid, 初音ミク, mm_popular, Miku, Hatsune https://t.co/EUXUIDEVE2\n",
      "RT @Juhmil: you jerk off in the shower and this crawls out your drain 9 months later wyd? https://t.co/1o6O65F1Cy\n",
      "RT @Juhmil: you jerk off in the shower and this crawls out your drain 9 months later wyd? https://t.co/1o6O65F1Cy\n",
      "RT @AstroIogySigns: the signs right after a breakup https://t.co/AR6yX69Kx8\n",
      "録しゃべくりせぶん見ました。大泉さんのあっぷっぷ顔に笑いすぎて涙( ; ∀ ; )いつものかわいさはどこへ？すき！\n",
      "RT @Juhmil: you jerk off in the shower and this crawls out your drain 9 months later wyd? https://t.co/1o6O65F1Cy\n",
      "RT @Juhmil: you jerk off in the shower and this crawls out your drain 9 months later wyd? https://t.co/1o6O65F1Cy\n",
      "RT @Juhmil: you jerk off in the shower and this crawls out your drain 9 months later wyd? https://t.co/1o6O65F1Cy\n",
      "RT @yamakamu: ヤマカム : 『ハンター×ハンター』No.350王子、祝ハンター復活！すこぶる続きが気になる件 https://t.co/PCMn8xJmFs https://t.co/dTD0LFBWKv\n",
      "RT @rickyrozay: mood: get money\n",
      "RT @Juhmil: you jerk off in the shower and this crawls out your drain 9 months later wyd? https://t.co/1o6O65F1Cy\n",
      "RT @shxrlocked: Sebastian Stan, Anthony Mackie and Chris Evans https://t.co/jTV891mBM2\n",
      "@StaarSaad @SuhilaBnLachhab الف تحية لك و لكل اهل العراق #الجزائر #فانز سهيلة\n",
      "RT @Juhmil: you jerk off in the shower and this crawls out your drain 9 months later wyd? https://t.co/1o6O65F1Cy\n",
      "RT @NHLBlackhawks: More details about the #TurtleWaxHatTrick: https://t.co/gdZ4gwrNDH\n",
      "❤❤💪💪 https://t.co/bYxSB1FUld\n",
      "RT @Juhmil: you jerk off in the shower and this crawls out your drain 9 months later wyd? https://t.co/1o6O65F1Cy\n",
      "RT @Juhmil: you jerk off in the shower and this crawls out your drain 9 months later wyd? https://t.co/1o6O65F1Cy\n",
      "망롣닝랖뚜\n",
      "RT @jancarlobg: Bueeeeeenos días alegriaaaaaa💥 buenos días señor Sol 🌅\n",
      "RT @Juhmil: you jerk off in the shower and this crawls out your drain 9 months later wyd? https://t.co/1o6O65F1Cy\n",
      "@Enzoknol t mas super om je op tv te zien! 😂😙❤❤\n",
      "I miss having my nose pierced\n",
      "RT @LMarcelinho010: To sentindo o cheiro do salgado do Jorge daqui de triagem.\n",
      "To toda dolorida mds\n",
      "RT @pinkpuff_32: All I listen to is Montana before games. He gets me so hype 🔥🔥🔥\n",
      "RT @badpostkaya: https://t.co/FSQOtFoLf3\n",
      "RT @Clea_Vdl: Aberrant ! Arbitrage honteux ! 😡😡😡 #FCLPSG\n",
      "RT @somaiaaltaify: ولد الشيخ اسقط حيادية الامم المتحدة وجعل منها كحصان طروادة ليس إلا ..  @OSESGY #UNScumInYemen https://t.co/Pt0rCHL8yA\n",
      "حسبي الله لا إله إلا هو عليه توكلت وهو رب العرش العظيم https://t.co/wNLiPhaBxb\n",
      "RT @DiazdeVivar9: @andresferraro @2015nemesis @ABCCardinal @abcdigital NO ME DIGAS !!!! QUE LO TRAIGAN INMEDIATAMENTE ANTES QUE LO SUICIDEN…\n",
      "RT @0smanlisporFK: Fenerbahçe Basketbol Takımı, Kral'ın takımı Real Madrid'i şamar oğlanına çeviriyor. Alâ!\n",
      "cette journée fut forte en émotions :/\n",
      "RT @diegoescosteguy: A delação do homem de confiança de Delcídio: Lula envolvido na trama da organização criminosa. https://t.co/7jdL85Owzh\n",
      "RT @ZaidJilani: My voter suppression is good, your voter suppression is bad https://t.co/Oa5e3ytxnf\n",
      "#أذكار_الصباح_و_المساء - بسم الله الذي لا يضرُّ مع اسمه شيء في الأرض ولا في السماء وهو السميع العليم ( ثلاث مرات) https://t.co/nMULa3yqaI\n",
      "My bitch at immigration right now man I hope they let her come thru 🎶🎶🎶\n",
      "RT @sweera2_: ودي تجيني نعيد الحب من اول 💜.\n",
      "RT @alothman1144: في كل ظرف وتحت أي واقع تستطيع أن تكون سعيدآ طالما لديك اليقين بالسعادة وتمتلك الثقة بذاتك ،، https://t.co/oKMYpx5MRm\n",
      "RT @RafaScribe: Cierra puertas que ya no llevan a ninguna parte.\n",
      "@iserzeniste @mesveret_ at hırhızları yakışıklıdır ;)\n",
      "RT @SergioCarrion: Brevedad por qué. https://t.co/fEAeP0QoIP\n",
      "@gehrig38 is scum through and through\n",
      "RT @alnimr_alwardy: هههههههههههههههههههه 😂❤ https://t.co/3e7jdNLLDk\n",
      "I just wanna take a nap.\n",
      "RT @Juhmil: you jerk off in the shower and this crawls out your drain 9 months later wyd? https://t.co/1o6O65F1Cy\n",
      "RT @FTrickMore: Retweet para ganhar seguidores, siga quem retweetou e siga de volta quem te seguiu 🌈\n",
      "ESATTO, SENNÒ POI NOI VAMPIRI COME FSMO?? https://t.co/i7CIgqU1l9\n",
      "@PolygonSandwich heh.  Then 4k 360° is the equivalent to SD. Better get used to render 8k stereo 😈\n",
      "@Mariam_Kelekun  https://t.co/812G5V3GSW\n",
      "suppose you will shut down the white rose?\n",
      "love you @katyperry \n",
      "but you are a pretender\n",
      "not me\n",
      "not the angel team\n",
      "#Anonymous \n",
      "#revolution\n",
      "RT @Barbi_Twins: Does anyone know this person &amp; this alledge #animalabuse she's claiming to have done that killed a #cat for... https://t.c…\n",
      "Cómo se encontró y qué había en el último bote salvavidas del Titanic https://t.co/KjeLTfraV5\n",
      "New training video aims to educate first responders on Autism https://t.co/YqAyNZlVQW\n",
      "SUPER RECOMENDO TA\n",
      "https://t.co/Kjy9fSTQxR\n",
      "#BatmanvSuperman passa Os Dez Mandamentos e tem a maior bilheteria do ano no Brasil https://t.co/ax3iNSZabb via @omelete\n",
      "RT @Marga_Val: #LaHoraChachi104 https://t.co/HqOtVozd1Z\n",
      "ونغفل عن السبب الأعظم للعبادة والذكر…. ” لترضى “..\n",
      "تعاملنا مع الله مربوط بالنفع الدنيوي في الغالب…\n",
      "”\n",
      "فيلم سكس دق كس قحبة سعودية سعودية فاجرة  رابط الفيلم https://t.co/S9wN4UHtvk https://t.co/GoynuR1n9x\n",
      "Abi bu hafta sonu ligin kaderi beli olurmu sizce  #sporarti\n",
      "みんなおはよう♪はー疲れたし(笑)\n",
      "後3時間(&gt;_&lt;)頑張る!!\n",
      "今日も朝からこれを見て頑張っていこうね♪\n",
      "#松井珠理奈 \n",
      "#朝じゅりたん\n",
      "\n",
      "仕事戻ります♪ https://t.co/efoYmxG4SC\n",
      "RT @ay_say1: الجنون بـ الهلال؟ \" حكمه \" \n",
      "والحديث عن الهلال؟ \" شعور \"\n",
      "والتفكير بـ الهلال ؟ \" متعه \"\n",
      "\n",
      "عججل ععلينا يا هِــلال 😴💙💙 https://t.co…\n",
      "@mine_712621 \n",
      "みねぼん\n",
      "RT @TheGrefgYT: SE PUTO VIENE\n",
      "@2seko1 ありがとうございます！！\n",
      "RT @lizquenPAUdalab: \"Wala pang hindi nalulusutan 'tong poging raketero ng Tondo!\" 👊🏻\n",
      "\n",
      "#DolceAmoreKapit https://t.co/RKGJxS1szu\n",
      "Clutch visual part 2! Download song link in my bio shot by @frostyprodgfx https://t.co/eXQIkHnnam\n",
      "RT @CitaAlguemx: ⇨Cita a ultima pessoa que fizeste chamada //\n",
      "@rachel_o2o9 お疲れ様でした。見ましたよ。\n",
      "RT @57Veronica2: Please @netflix help us to keep the dream alive and give Beauty and the Beast a new home #BATB #NetflixSaveBatB https://t.…\n",
      "@MrAnimeButler27 @blood_and_lust @PowerSuitSamus @icequeenlittle @Purple_PsychoGR @Esdeath_Icy @FluffyCloudzz @TiTifnaf vampire?\n",
      "RT @YaBoyWeeknd: Do you ever feel like every single person you care about cares about someone else more?\n",
      "Tf is wrong with you two? @TheNotoriousMMA @NateDiaz209\n",
      "RT @JuanCruzVedia: No me habla ni tu vieja 😐\n",
      "RT @ProjetoDMeFT: Directioners\n",
      "Retweet para ganhar seguidores, siga quem retweetou e siga de volta quem te seguiu\n",
      "Trato de crear un difícil proyecto que invada tus sentidos.\n",
      "RT @EresChiste: En matemáticas es el único lugar donde veo cosas tan ridículas como: Pepe tenía 133 chocolates, se comió 115 ¿Qué tiene? -D…\n",
      "RT @Vamoatuitear: Cuando tu ex intenta darte celos con otra persona https://t.co/FcAu028dI3\n",
      "Mates, bien sola😃\n",
      "RT @meshaluk: في حرب تموز وقف مع حزباله وبشار ضد السعودية وفي حرب صعدة كانت عاصمته مرتعاً للحوثيين فضلا عن دعمه لصفويي البحرين وكرامة وطن ف…\n",
      "اللهم اني اسالك زيادةً في الدين وبركةً في العمر وصحةً في الجسد وسعةً في الرزق وتوبة قبل الموت https://t.co/7jhFJ8FXGu\n",
      "First off, fxxk the b*t*h and the click you claim ..👌🏻 https://t.co/TFix4VmfVF\n",
      "Seek help  https://t.co/49n4K7fFRV\n",
      "I liked a @YouTube video from @vintagebeeflp https://t.co/K9yli4A7Ev ARK: Survival Evolved - EP04 - Nice Tames! (Pooping Evolved)\n",
      "Fitch Affirms Lomita, CA's Water Revenue COPs at 'A'; Outlook Stable\n",
      "https://t.co/Onhv892uj0\n",
      "@OscarG_1978 argumentan con q se desfavorece a lxs niñxs cuyas familias no participan 🙄\n",
      "RT @_cristiano_1907: Elini çek de gölgesinde serinleyelim. https://t.co/2NWqLz8iBN\n",
      "RT @SomosChavezBOL: SERVICIO PÚBLICO | Vía @Hidrobolivar_ https://t.co/MI7klH6t40\n",
      "#ffc claim decent point at @Official_ITFC - and this is how it happened https://t.co/KGKOmIzFFZ\n",
      "RT @avucic: Одлични митинзи данас у #Raska и #NoviPazar #SrbijaPobedjuje https://t.co/ENfvFdsiRj\n",
      "Moi je passe mon temps à pister les Twitter des gens mdr 👀\n",
      "eu não to mt bem não\n",
      "Muitas vezes  https://t.co/2hCGGNVAWP\n",
      "@rippersalvatxre https://t.co/Mh8NbgMd1N\n",
      "https://t.co/Yzw0RSJb3x Marriage problems \n",
      " #pussyeating #SEX #Hentai #porntube https://t.co/D8vRkXjMaW\n",
      "HBD P-Nasty @ParkDaddy24 https://t.co/llOx5B4XNi\n",
      "uh loco ya son las seis y este juego no termina mas #NiKokuVenceEsteAmorMica\n",
      "I have a #Shopkins party table that is #DIY-free! Grab your supplies from #OrientalTrading… https://t.co/GTBvNfDhld https://t.co/55jS1UfaM0\n",
      "I wish I didn't spend all that money on food... Damn it lol\n",
      "RT @lolNRG: .@NRGgbm check out this awesome highlight reel https://t.co/EyBAjChl4F thanks @Matpovver !\n",
      "RT @gIamorama: @TR0PICALJ0HNS0N I LOVE YOU SO MUCH YOURS IS SO PRETTY AS WELL BFF\n",
      "颯馬誕生日おめでとう\n",
      "わいと誕生日同じやね今知った\n",
      "그렇다구 앎 어셈 잘 읽는것두 아님,,,\n",
      "@SwaggXBL lmao you got the nuke and a min later @FrizzeyesJr tweets that he choked onna relentless on Spire hahahah\n",
      "Oye @CristianPazzi tenemos que votar por nuestro presidente\n",
      "ريحة العطرّ توصّل شعُور أكثر من الحكيّ،ريحة العطرّ بسّ.\n",
      "RT @AsambleaDF: #CapitalSemilla impulsará desarrollo de pequeños y medianos empresarios: @ElenaSegura_: https://t.co/LcktFCsn4g https://t.c…\n",
      "Comi açai 💕\n",
      "RT @PierreMenes: Moreira comme toujours au sommet de la nullité\n",
      "RT @sefakalyaGFB: Final Four'a yükselen Fenerbahçe Erkek Basketbol takımımızı kutlarım. Başarıların ligde ve diğer branşlardada devam etmes…\n",
      "RT @franjeado: Ahora leemos a varios periodistas hablando que \"lo de Olimpia es una joda\", cuando nadie del club confirmó nada, haganse car…\n",
      "RT @printsdoface: igualzinho https://t.co/xoORXW7VTI\n",
      "If you contributing to none of my bills you can kindly stfu 😊\n",
      "دعاء دخول المسجد:أعوذ بالله العظيم وبوجهه الكريم وسلطانه القديم من الشيطان الرجيم https://t.co/YcWi0bkeht\n",
      "RT @Hideo_Ogura: 「人権屋」が嫌いな人のために、人権屋の介入を許さない地位（いわゆる奴隷）に自主的に就く制度を憲法改正で創設すればいいのか。\n",
      "RT @startios: «Il y a des personnes qui ne cessent jamais de s'aimer. Simplement parce que ce qui les lie est plus fort que ce qui les divi…\n",
      "RT @valen_suarizta: @Gonzalez_Mai8 degame en pas\n",
      "#GraciasMarianColombo\n",
      "RT @Beavis_Rays: Here's to our last full practice before Worlds!!! @Apple_Rays1 🍎 @Peach_Rays 🍑 #LeaveNoDoubt 💙💚🌎🏆💍 https://t.co/BsRTuwlBvc\n",
      "RT @pakiteysis: Obradovic benim hayatıma da bi el at.\n",
      "RT @FT: Opinion: Every university degree is not of equal value. It's time to let students know that. https://t.co/SkuA7yTxRH https://t.co/Z…\n",
      "RT @sweetcornsunset: @Johnconnor1977 @fraser_eddie you mean lackluster larry ?\n",
      "@hot11008 مايجيك ❤️\n",
      "RT @SiendoBonitas: Queda prohibido. http://t.co/Z4hQzVoflT\n",
      "RT @FlywireEng: Microservicio, definición gráfica. https://t.co/4YlCxhaAyI\n",
      "@glopezlecube no van a moverse de sus objetivos ni un milimetro\n",
      "Amiga tenemos cada escracho uno mas uno menoss\n",
      "RT @TheNotoriousMMA: I have decided to retire young.\n",
      "Thanks for the cheese. \n",
      "Catch ya's later.\n",
      "RT @khattak_tahoor: @aanyaawan \n",
      "\n",
      "استغفراللہ، استغفراللہ،  استغفراللہ۔۔۔۔۔۔۔۔۔۔\n",
      "RT @TheMahiraKahn: نیشنل ایکشن پلان بھی کرپشن کی نظر ہو گیا۔ لیکن چلو، میٹرو تو بن گئی۔\n",
      "پٹواری لوجک۔  \n",
      "#EndCorruptionToSavePak\n",
      "https://t.co/5fYqEtV2Ir\n",
      "RT @PoliticsSense: The European Union has become the enemy of economic liberty and self-determination https://t.co/07fjlWV74m\n",
      "Alguien que venga a tomar mates conmigo al negó???\n",
      "RT @BAINOA76: Esto ya parece una mala película d horror donde el monstruo nunca muere, parece que quieren asustar al pueblo #Cuba https://t…\n",
      "#MulherescomDilma https://t.co/OoB06W58Nq\n",
      "RT @lolNRG: .@NRGgbm check out this awesome highlight reel https://t.co/EyBAjChl4F thanks @Matpovver !\n",
      "RT @betobon: @PauloFrancis_ sempre me lembro deste tweet para estes assuntos https://t.co/KE4k2CWBnO\n",
      "ooo fol shqip futja anglishtes hahahahha  https://t.co/gK6J3fNZup\n",
      "RT @DirtRoadVoices: “Here I go again, fallin' for you even though I know you're only playin' with my heart.\" #BlakeShelton\n",
      "Protecting yourself from sins (Eng Sub) *NEW* https://t.co/D4MV3jlu6K via @YouTube\n",
      "soooooo I'm locked out of D2l 🤔🙄\n",
      "@pewdiemari apreciem a beleza do meu baby\n",
      "ربي إغفر لي https://t.co/BOt5pJixaA\n",
      "I wonder what bitch accused me of stealing her headphones 🤔\n",
      ".@DarrenSarll: \"We're not celebrating that we have staved off relegation but it's a bit of pressure off &amp; we can look more long term now.\"\n",
      "NWT GYMBOREE ARTIC ADVENTURE Boys 12 18 Months Green &amp; Brown Striped Rugby Shirt https://t.co/qgNkWx5t8S https://t.co/CP0S5iIaMM\n",
      "起きた    おはようー\n",
      "@_angelgs Nembre luego se asustan\n",
      "RT @alonazi_sho: ﴿ هُوَ عَلَيَّ هَيِّنٌ ﴾ \n",
      " لا تستعظم شيئاً تدعو به ربك..!\n",
      ".#الوتر 🍁\n",
      "망롣닝랖뚜\n",
      "RT @madhyuk: 너무 가슴이 아프다. 이런 분을 그냥 방치하면 안된다.  https://t.co/XHr02kGnbM\n",
      "RT @RobertaCutrona: @M5S_Camera #8000esiliatifaseb migliaia di docenti rovinati dalla buona scuola\n",
      "RT @Rachybobbins: Daughter of SAS legend issues amnesty call for heroes https://t.co/fjeSCNlKLm via @UKChange\n",
      "@Utopos69 sauf que DLF veut une Autre Europe dans cette config. l'article 48 implique que ca ne peut pas se faire. DLF ment par omission\n",
      "RT @GnocchiGene: Donadoni:\"Abbiamo giocato alla pari, puniti da 6 episodi\". #NapoliBologna\n",
      "RT @pandabounce_: Aquí, con la guitarra de @wauottt https://t.co/3vPlbFBbGq\n",
      "RT @consult_guion: Llévate bien con tu pareja: aparte de tu representante, puede que sea la única persona en el mundo que quiera leer las v…\n",
      "الصامتون أقوياء\n",
      " فهم يحملون بقلوبهم كل الدروس\n",
      " ولا ينطقون\n",
      "RT @inoyabulovelove: 涼介の誕生日までに509RT目指します❤️\n",
      "今回も成功させたいのでご協力お願いします😂\n",
      "#山田涼介の誕生日までに509RT目指す \n",
      "#とびっ子さんRT \n",
      "#RTしたとびっ子さん全員フォロー https://t.co/0ArPP7rnBL\n",
      "RT @GoalsClothes: Kylie Jenner 😻😏💦 https://t.co/RXdz15LilJ\n",
      "Jesus is enough.\n",
      "RT @cityt0city: my ultimate goal is for my kids to be like \"wow dad really loves mom\"\n",
      "RT @kgygg866hgh: انا والرفيق اللي ينومس نعيش اخوان\n",
      "وعن لازمه مالي عذر لو كثر همي\n",
      "\n",
      "عساني ليا منه بدا لابن عمي شان\n",
      "يجملني الله واتجمل ف ابن ع…\n",
      "Sorry, but Apple's updated MacBook is a huge disappointment: \n",
      "Before the trolls slide into the comment section... https://t.co/0v1QJO8nk0\n",
      "i really want sushi rn..... and or spaghetti... sushetti\n",
      "RT @ComedyPosts: my face 24/7 https://t.co/ijiqSombZW\n",
      "RT @OMGitsAliA: EPIC GIVEAWAY- Retweet this tweet to win ALL THIS! Good luck everyone! 😍🙌🏻 #BO3Eclipse https://t.co/3ixm3PACBk\n",
      "ادلع ياگايدهم خليهم يشوفونگ علمهم اصول اللعب عطهم درس بفنونگ  # الاهلي  الف مبررووگ الفوز ويارب ينصركم يوم الاحد شدو الهمه # قروب_سنمضي_معا.\n",
      "RT @alcoolizadas: Tá feliz? Fica quietinho.\n",
      "RT @AlexFernandezRo: @LydiaMartiinez @trivinho98 no que te gano\n",
      "@Aktn__ これは見逃して”　露出とゆー次元を超越したお人です\n",
      "@FatoSUBLAIM muchas gracias. Dont be sad. You are a great team.\n",
      "RT @fuatavni_f: 16. Binali'nin paralel hükümeti Maltepe toplantısında bu yetkiyi Davutoğlu'ndan alıp tekrar MKYK’ya devretmek için düğmeye…\n",
      "@Mateo_Reiris @FloLaskaridis voyyy\n",
      "@AxFxDev make the guis smaller, it is a bit cluttered.\n",
      "(فكان عاقبتهما أنهما في النار خالدين فيها وذلك جزاء الظالمين) [الحشر:17] https://t.co/GxmlHbdPOX\n",
      "Принцип роботи безкоштовних поліклінік: 1.\"Ти здоровий. Прийдеш коли потрібно буде різати.\" 2.\"Чому ти прийшов так пізно? Вже треба різати.\"\n",
      "foi lá no baile, que ela dançou, e como sempre todo mundo olhou\n",
      "RT @ijoojx: كن في الحياة كلاعب وليس كحكم ، لأن الأول يبحث عن هدف ، والآخر يبحث عن خطأ ، ما اتابع الكورة عبث🌚💦.\n",
      "Lupa - Sad And Lonely\n",
      "RT @alfaifawi_a: تصريح يُعرَض لأول مرة للّواء الأمريكي \"البرت ستبلبين\" يكشف أسرار ١١ سبتمبر، ويعرّي دولة النجاسة والخساسة أمريكا.\n",
      "\n",
      "https://…\n",
      "RT @eacstasy: vous avez déjà regardé quelqu'un qui vous a blessé et vous vous dites genre merde putain j'aurais pu te donner le monde entier\n",
      "Nihil novi, to jak optyka Zeissa w aparatach Sony, czy Schneider Kreuznach w Samsungach. https://t.co/lZbZ2WKfV3\n",
      "RT @End_of_Europe: Syrian migrant, 17, 'joined friends in brutal three-hour gang rape' https://t.co/3g6Jz7KXff\n",
      "RT @BatataReal: sensação térmica: preciso de amigos com piscina\n",
      "Still drama free yay\n",
      "They aint gay unless they go down on each other and there's a witness\n",
      "@OMGitsAliA look at all those goodies I would like that so much amazing 😀\n",
      "quiero muchos perritos en mi vida jeje.\n",
      "RT @blondewilde: LUCAS.\n",
      "Gostei de um vídeo @YouTube de @mateiformiga https://t.co/BwYjo7lfdE FANTASMA NO MOTEL - TROTES ANIMADOS #1\n",
      "Gostei de um vídeo @YouTube de @portugapc https://t.co/Py2eodwL8J OPERANDO O BRAÇO ! ‹ PORTUGAPC ›\n",
      "RT @shardulogy: These 2 r the nicest star kids I have shot with. @iTIGERSHROFF @ShraddhaKapoor stay that way. All the best 4 #baaghi https:…\n",
      "@NouvelleStar @JoeyStarr donc il la frapper vu qu'il le connaissait pas mare !! Virė le !!!!!\n",
      "اللهم صلي وسلم على نبينا محمد\n",
      "\n",
      "اللهم صلي وسلم على نبينا محمد \n",
      "\n",
      "اللهم صلي وسلم على نبينا محمد \n",
      "\n",
      "💓\n",
      "RT @HabibBuzzDay: 😉😉✨ https://t.co/0R1jAZv3Kv\n",
      "@worod_14143 كملي أسمعك\n",
      "RT @FRlENDSreaction: Ross! 😂😂 https://t.co/kNKnoP6cZ9\n",
      "\"I have found the paradox, that if you love until it hurts, there can be no more hurt, only more love.\" #MotherTeresa\n",
      "We'd be battling for survival if we didn't have Archer in goal this season 😂😂\n",
      "@Tanamon_21 I swear 😂\n",
      "RT @crismartin__: El que no quiso cuando pudo, no podrá cuando quiera\n",
      "home of the smithies\n",
      "RT @LeChatJaponais: Je suis un Uchiha, vous pouvez ne pas comprendre ma souffrance et de ma haine agrou agrou je vais détruire ce monde. ht…\n",
      "@iMoneyTU アニラいたから高く売れましたので･･･\n",
      "RT @elenafreygdr: cora che non mi resiste https://t.co/YDklXklwvM\n",
      "RT @Cyrilhanouna: Par solidarité avec @gillesverdez , on nous a menti sur les excuses. Je vous informe qu'il n'y aura pas de #TPMP demain.…\n",
      "RT @Alexdessinateur: Le prochain défi d'Alain #Finkielkraut : se rendre dans la loge de @JoeyStarr et lui rouler une pelle\n",
      "https://t.co/ApyqaPf6qI\n",
      "RT @Ckethnelle: Queremos a la Actriz Ana Lorena Sanchez en la nueva novela de @elgueromex \n",
      "#AnaLorenaEnLaChucara https://t.co/XF9o6cEugX\n",
      "@StephaniePurrez 😘\n",
      "@xi73_ @ihdlanei7 اجتماعياتي؟ههههههههههههههههههههههههههههههههههههههههههههههههههههههههههههههه😭.\n",
      "Look at the socks I bought today @busted @mattjwillis @JamesBourne #pigscanfly https://t.co/n0nz7PZ7Mr\n",
      "@susieeekim We love helping you reach your goals! CC: @Flywheel @NikeRunning\n",
      "This is deep. Food for thought.  https://t.co/j3KJ8alCeO\n",
      "RT @FenerSoul: DİLİMDE ŞARKILARIN GÜNDÜZ GECE DELİ GİBİ AŞIĞIZ FENERBAHÇE https://t.co/lZlEfmn2VW\n",
      "https://t.co/UwWZ2D30ZR\n",
      "Escargophone trouvé !\n",
      "Des géants se battent pour l'honneur !\n",
      "https://t.co/3sd3uQcfxk #TreCru https://t.co/5k89w8Rwfr\n",
      "\"İdama Mahkum Olmuş Bir Gencin Gözünden Yeni Türkiye\" Adlı Programımıza Tüm Gençler Davetlidir. https://t.co/7m03gnOhBb\n",
      "@Michael5SOS @Ashton5SOS @Luke5SOS @Calum5SOS @5SOS https://t.co/KyK04yJfYX\n",
      "RANKED: These are the best 13-inch laptops you can buy #Tech #TedMinri https://t.co/h37xU1UAa3\n",
      "Trust gone! 😂😂😂😂😂😂😂🔥🔥🔥🔥 https://t.co/jWDhFz0Zfj\n",
      "RT @valdez_mailen: Tengo que parar de dormir tanto así\n",
      "RT @EcemSoydan_: 00322 588 96 47 👈 Aşık olmak istiyorum arayın buluşalım 💋🔥 \n",
      "Rt yapanları görüyorum, dm atıcam onlara 💋 💋 https://t.co/3PCA…\n",
      "Ravenous Feast album \"Listen To Me\" available at #Amazon &gt; https://t.co/ahI41ebgpo #Rock #Hard #Metal #Música #Music\n",
      "Mn\n",
      "RT @Dynakim: #네임드사다리놀이터\n",
      "#네임드사다리사이트\n",
      "\n",
      "네-임-드-사-다-리\n",
      "\n",
      "👌🆗👌 https://t.co/O45iP8x6UI 👌🆗👌\n",
      "\n",
      "↗ BET to WIN ↖\n",
      "\n",
      "🇰🇷규첫10%+매충🇰🇷\n",
      "🇰🇷매일게릴라사달2배이벤🇰🇷\n",
      "RT @Libroantiguo: #OnThisDay in 1939, The Grapes of Wrath, by American author John Steinbeck is first published by the Viking Press. https:…\n",
      "https://t.co/33lq5V75vy\n",
      "RT: @FIVECDS-The #WordPress files you should be backing up. https://t.co/JHoUs65juW Find us at https://t.co/Kr6Sxxd5TH #waptug 12631\n",
      "RT @BAJItweet: Lessons In How To Build A World-Changing Online Community From @Blklivesmatter https://t.co/5b0o6lkGU7 @FastCompany @opalayo\n",
      "아 대미친..... 2시간자고깨다니....\n",
      "두드러기 도진거니 8ㅅ8...\n",
      "새벽에 샤워하고 약바르구 ㅜㅜㅜㅜ 에효....\n",
      "RT @PialovesLM: @LittleMix,\n",
      "\n",
      "Love Me Or Leave Me should have been added to the #GetWeirdTour setlist ! \n",
      "\n",
      "Sincerely, \n",
      "\n",
      "Mixers xx\n",
      "RT @hamadGR: عجزت اكُتبك .. انت اكبر من هالكلام 💜\n",
      "A la final mi horóscopo tenía razón\n",
      "RT @__kayceeee: ur words don't mean shit to me anymore because you prove everything w your actions\n",
      "On valide les deux tickets du jour!!\n",
      "RT @gulpinar2434: #taşeronsoruyor verilen sözden neden vazgeçildi\n",
      "RT @Nomefodido: Magic: ❤\n",
      "RT @unlvsammies: With current technology, Alzheimer's is irreversible. @UNLVAGD https://t.co/Xl4twoOBsX\n",
      "RT @abdulmohsnAH: يا من اطمئن قلبه!\n",
      "وابتهجت نفسه! وهو يقترف المعاصي آمنا من العقوبة\n",
      "هل تدبرت هذه👇🏻\n",
      "لسنا وحدنا حين نعصيه!\n",
      "معنا من يكتب! http…\n",
      "Shut Up https://t.co/7icoaz0WOh\n",
      "RT @MrKaiz: Charles Villeneuve sur Vincent Labrune : instant poésie. https://t.co/2YFqZTCZ3h\n",
      "@H9S \n",
      "ما اذكر زين لكن الي كنت اعرفه ان فيه شخص خائن دل الامريكان على مكان صدام\n",
      "@hakimsensei faut pas mourir con donc j'irais checker ça merci pour l'info 😉\n",
      "Tomoz = Wednesday,Traveling to Newcastle to do two cases, via Durham and Doncaster for conferences. Then back home! Nothing tiring abt tomoz\n",
      "Senado debate o instala não instala a tal Comissão do Impeachment. Fala agora o Sen Aécio @AecioNeves ...a ver\n",
      "Aburrida, donde ???? 🙇🙇 https://t.co/smcz3ClN0u\n",
      "i wanna play in a hearthstone tournament i think id be better in tourny then on latter\n",
      "(لا يسأم الإنسان من دعاء الخير وإن مسه الشر فيئوس قنوط) [فصلت:49] https://t.co/v7z4yaQflV\n",
      "It's very different when you see your own country moving backwards. @OPFORPio @ChrisStigall @TheJoeyFay @Richzeoli @PearlJam @Boston\n",
      "RT @ManUtd: U21s: Great scenes at Spurs as the lads celebrate winning the title in front of our travelling fans. #mufc https://t.co/abtwOd1…\n",
      "RT @EthanDolan: YAY I LOVE YOU AND YOUR MOM  https://t.co/I3sTTbUbS0\n",
      "@starzdances so naruto\n",
      "@VexxyMC why 😑\n",
      "Vídeo Oficial ➡ https://t.co/5mcMC57h1w #CancionesDeAmor #LosClaxons\n",
      "\n",
      "https://t.co/rElOSzt9eU\n",
      "@Lesufi Been constantly trying to register for 5 hours now - cannot even register as a parent yet, nevermind learner! #gdeadmissions #suck\n",
      "Wet Pussy Live: https://t.co/grFpZtHCGt #livesex #liveoncam #boobs #sex #porn https://t.co/oaoyhaBhZP\n",
      "¡FELIZ CUMPLEAÑOS SAMUS!\n",
      "- https://t.co/3UAu1ClGTE\n",
      "RT @HadiAlabdallah: الطفل الشهيد \" محمد زاهر الحلبي \" أحد شهداء \n",
      "مجزرة سوق الخضار في #معرة_النعمان بريف #ادلب 💔 https://t.co/5VhmMpE8CA\n",
      "RT @WalkerBragman: The spectacle that modern \"news\" has become. All about branding, sound bites and no nuance. #DemDebate https://t.co/WN8R…\n",
      "RT @COol_1ne: *no reply to my text* me:  https://t.co/NYfHJq6BSf\n",
      "RT @DakaLiveShow: ¿Qué quieren ver hoy? Voten :D\n",
      "Después de todo estás rompiendo nuestros lazos y dejas en pedazos este corazón 🎵 🎤\n",
      "今年の映画版のために復習しよう！ 名探偵コナン〜黒ずくめの男達編〜を毎日更新！！ https://t.co/aDkGTsBpHT\n",
      "RT @shane_barker: August Doorbell Cam &amp; Smart Keypad Review @AugustSmartLock https://t.co/3FJUsvRR7n via @CHRISVOSS\n",
      "LIVE on #Periscope: girls only no guys  https://t.co/2aTelhBdwe\n",
      "இது தான் நாய் பிரியாணியோ #வாடா_விஜய்நாயே\n",
      "@Al3almi07A @Awal_Retweet ناصر ينتهي عقده نهاية الموسم كيف مقايضة\n",
      "هلال: كنت أرى قبل تدريبات انعاش العقل حفظ الصفحة في دقائق مستحيلhttps://t.co/fyDE8QlXsU\n",
      "\n",
      "#مافي_كويتيه_حلوه\n",
      "@kanderira \n",
      "おはよー(⊃ωｰ`).｡oOｱﾜｱﾜ\n",
      "¡¡¡Merino quédate Merino quédate Merino quédate!!! Un poco de EXIGENCIA de una puta vez. Temporada de pena. ¡¡¡A planificar desde YA!!!\n",
      "RT @Rossmac212: This gorilla needs more lessons on how to ride a bike😂  https://t.co/eBY1K0fiPm\n",
      "(ولقد أخذناهم بالعذاب فما استكانوا لربهم وما يتضرعون) [المؤمنون:76] https://t.co/RIpPtL30s7\n",
      "RT @30SECONDFlGHTS: He flinched about a dozen times 😂😂 https://t.co/yhJ20lGJ2z\n",
      "@usirokake 俺はPvP中心の遊び方になって半年以上経ちますけど、それはゲームが面白いというのは勿論ですが一緒に遊んでくれる人達の存在も大きくて。その人達がいなかったら早々に飽きてたかもしれません。\n",
      "ゲーム自体苦痛ならとっくにやめてるんじゃないですか。要は比重の問題かなと\n",
      "@Projectcontas @NETFLIXVICIOUS 18\n",
      "“ben her gece gizli gizli ağlamazsam uyuyamam.” - (via romantikparis) https://t.co/IkW6pMFO8r\n",
      "Guess who's going to Kos in 3 weeks.... 🙈 https://t.co/nCZs3SM6iY\n",
      "Napıyosunuz, afiyette misiniz? Bi sigara içimlik sohbet eyleyeceğim sizinle.\n",
      "WHY ARE SO MANH PEOPLE FOLLOWING ME ALL OF A SUDDEN\n",
      "De boda en boda #PekínExpress3\n",
      "@Michele16944596 koee\n",
      "RT @LesPaul_: Baba, oğul ve kutsal ruh. https://t.co/ZnJVDOskYh\n",
      "RT @NateDiaz209: I guess my work here is done I'm retiring too✌🏼️👊🏼\n",
      "RT @Feneristcom: YOLUN SONU BERLİN!\n",
      "\n",
      "Fenerbahçe 3-0 Real Madrid\n",
      "\n",
      " #FinalFour #RoadToBerlin https://t.co/SfaSE4xbzA\n",
      "@2chips_ we gone we had hella bars yesterday\n",
      "RT @RelatableQuote: Disney channel is releasing its 100th movie and to celebrate they are hosting a 4 day marathon of classics https://t.co…\n",
      "RT @AliMaadelat: When you think you're really smart but actually your mom drank bleach while pregnant with you. https://t.co/cPcyQvBPWj\n",
      "Meu final de semana vai ser gostosinnnnnn, sem kozada\n",
      "NGInews: Gas Buyers Bracing For New Challenges in Evolving Market https://t.co/P3vMC47Fjr\n",
      "-@lasthope_1\n",
      "@WRadioColombia# saenzencolombia#mujeresw@ carocruzosorio y colorín colorado este cuento aún no se ha acabado\n",
      "@barcejalon @jsanchezparra si amiga, ya lo vi gracias.\n",
      "@emadhamdyr لا ياعم الجري نص الجدعنه وانت هاتضرب  😅😅😅😂😂😂😂😂🏃🏃 https://t.co/M4kbU84IxP\n",
      "@olgabratkopf Therathiel Chatlog ❤️ https://t.co/BWGRSD3uVN\n",
      "I posted a new photo to Facebook https://t.co/87m0jloX35\n",
      "RT @KarleneSixkill1: 천사 🈲\n",
      "\n",
      "[https://t.co/YWJHyMTusz]\n",
      "\n",
      "🈲\n",
      " #치맛속 #걸그룹합성 #몽정애2기막힌상상 #고추 #야싸 #랜덤채팅녀 #핫밤 #19금만화 #야담넷 #해운대출장 밑이예뻐요 #청주채팅 https://t…\n",
      "RT @Stephanie_1DJB1: @holyqueenperrie ojala nos note! 😭\n",
      "\n",
      "#NiallComeToPuertoRico 🇵🇷\n",
      "RT @Heskizo_: No es no fallar nunca, es no fallar a quien no te falla.\n",
      "@JeffJeffie @333books @kembrew I am reading it currently. https://t.co/eAKiw2hTuq\n",
      "RT @PiscesAreUs: #Pisces are the most loving and giving of the signs, but their ability to select an inappropriate partner is legendary #pi…\n",
      "@alfaozan @tasneem_1977 إلا غاب ورحل معهما ...القلب\n",
      "@zakarzyla dm atarmisin bebeğim\n",
      "RT @FabianaFefas: A veva é muito engraçada!!😂👌💕\n",
      "I need to start writing down all of the recipes that I cook.\n",
      "RT @cienciaenbarra: En @Sci_Granada acabamos de pie sobre la mesa recitando el discurso de Sartorius borracho en Solaris. ¡Gracias! https:/…\n",
      "You owe it to yourself - Make your break #Calypso #SAT https://t.co/8MaSNGVD6n\n",
      "RT @AtarrabiEHbildu: Asamblea informativa de esta tarde en #Buralta. #aztungaL https://t.co/TFqotU4hDc\n",
      "@quemacontece @MunikBarbosa linda e maravilhosa, toda sorte e sucesso do mundo pra ela.\n",
      "RT @homeshopbuzz: #cellular #deals https://t.co/EsczIUahPs OEM Apple Lightning Cable &amp; A1385 5W Cube charger &amp; Earpods for iPhone 6 … https…\n",
      "Video: Video Shows Just How Distracte... https://t.co/9gb8tgPaEy via https://t.co/A9tL5rf2HF\n",
      "@Harry_Styles enjoy the rest of your day and take care. all my love always x\n",
      "RT @shathart: #قروب_شباب_الوطن #لبيه_لامر_حكومتنا #ازاله_قريه_عمق_مكه يدبيد للتطوير والتغيير وازالة الاحياء العشوايية نعم للتنظيم🌹 https://…\n",
      "I'm at Yıldız Aspava in Çankaya, Ankara https://t.co/sEq1KGwZLA\n",
      "@martasofia24 dm amor\n",
      "RT @hotlinelauren: WHERE CAN I DOWNLOD https://t.co/Z7LrT0A2MT\n",
      "RT @Pagina12_Online: El Frente Ciudadano se construye con la participación de todos los políticos que rechazamos el avance neoliberal https…\n",
      "RT @fatesyfly: โบมีชนะ ต้องเป็นคนตีดาฮเย แต่ดูนางสิ แกต้องต้องหยิบค้อนสิโบมี สติ!! /ตัดภาพมาที่นัมจูกำลังขำ\n",
      "#BESTie #apinkเป็นวงตลก http://…\n",
      "@HOUY3 @DidiFromHolland @RealStefanieW @CelinaDer 😂😘\n",
      "https://t.co/MGIkB5Qf3z\n",
      "@JavierLpezPr (indirecta)  https://t.co/Cn8x79p2JV\n",
      "https://t.co/6DsBjXk3Jk\n",
      "5:55\n",
      "check too! https://t.co/XZX8DTknoF (2/2)\n",
      "RT @mintqwiz: ไอ้เหี้ยโง่ทั้งเรื่องเลย ฉลาดอยู่คนเดียวคืออีนี่แหละ #เพื่อนรักเพื่อนร้าย https://t.co/kKpd8LzUii\n",
      "I'm under your spell\n",
      "RT @bik88622: #안전메이저놀이터사이트\n",
      "#사다리단톡\n",
      "\n",
      "👾🎺🗻\n",
      "🌙🌈💍\n",
      "\n",
      "THP\n",
      "ZCX\n",
      "\n",
      "🔑 이동:https://t.co/xbF2iOp08L 🔑 \n",
      "\n",
      "UWX\n",
      "GKU\n",
      "Hoy en el centro vi ese jeans y quede 👉😻\n",
      "Lmao Winnie the Pooh wears a polo crop top\n",
      "RT @Charlottegshore: It's that time little radgies 👉🏼 @MTVUK NOW.......\n",
      "RT @ShawnAccess: So @JamesTWmusic is on stage right now and is crushing it! 🙆🏻 #ShawnWorldTourCopenhagen https://t.co/YdiGn1NDks\n",
      "@abdomahmoud3211 Abdo Mahmoud Visit and get free iPhone 6S here https://t.co/1ejQ4ukLel #freeiphone #iphone6s #iphonegiveaway\n",
      "RT @FBBasketbol: Takımımız tarihi başarıyı kutluyor! #Fenerbahçe\n",
      "https://t.co/8fxUVtTnGj\n",
      "Motive olamiyorum!\n",
      "Respect 0 askip jsuis un pigeon\n",
      "@Railgun_kun Cuidado!si estornudas se te saldra el cerebro ( ´◕ ▽ ◕` )\n",
      "@LukeMorgan96 YOUR DEFENCE IS TERRIFIED 🔥🔥\n",
      "حق المسلم على المسلم ..  https://t.co/9HumCAaEhP https://t.co/OaitJGPWOk\n",
      "RT @OgbeniDipo: I have been very angry in the last few days because those one expected much from have disappointed. Hypocrites have no cons…\n",
      "RT @luanmardony: drx que em bh todo mundo fraga todo mundo kk ate as pessoa mais aleatoria pqp\n",
      "RT @TweetPhilic: “أهل الصحراء وحدهم يعرفون القمر ، التائهون وحدهم يعرفون الله..”\n",
      "Bazen abartınca kendime eğlence çıkıyo gülüyorum gülüyoruz hee he 💙\n",
      "RT @girlposts: Find someone that looks at you like this baby looks at his stuffed lion https://t.co/ZLAHQyzhVT\n",
      "@Calu0_0W @cassandre1990 \n",
      "Et moi toucher ta prise électrique.\n",
      "(pour essayer 2trouver une piste concernant la disparition de ta ps4 biensure)\n",
      "@franjinhajones ele é o próprio que corta o meio de comunicação pra pedir ajuda\n",
      ".@ArlettSlzR  https://t.co/XDyghOTibP\n",
      "RT @sanjayagrawal75: @ITwingDSS @Gurmeetramrahim \n",
      "Due to #InspirationalMSG\n",
      "लोगो के दुःख मुशीबत को हमेशा दूर करने की कोशिश करते है\n",
      "RT @keepbianca: tu ídolo tiene los mismos campeonatos q paio, menos hablar de paio y más lógica  https://t.co/tMfaHZsFp6\n",
      "@WaltDied even if we do Richard is right in a large way, premier league is greatest barometer of a teams capability, and we have dropped off\n",
      "RT @Sportia: #Independiente Cristian Rodriguez no fue al entrenamiento porque fue papá https://t.co/8Arttjt4yg\n",
      "@KateBeckett_ That's really cool! What awesome set of wheels do you own? Or do you have multiple motorcycles?\n",
      "أن يصبح أحدهم رفيق دعواتك ..ذلك أعظم الحب\n",
      "@re0nev you health freaks are cringing rn\n",
      "RT @OrbiTalEcrypto: Need players for csgo team DM me for more information. @HyperRTs @Relay_RTs @GamerRetweeters @Retweet_Lobby @ShoutGamers\n",
      "Uh me canso mi abuela 😤😤😤😤\n",
      "Vcs não foram a Waywood, por isso... https://t.co/1toAAAaVdO\n",
      "@Dejiaannmarrie hey! That's me\n",
      "RT @Cout_ma: Presidente da Anatel https://t.co/uGQ1niS6fy\n",
      "@eugenbus @zloy_odessit Новпіздовец ))) Чо лишнехромосомний різницю між ПТРК і танком невсасуєш?\n",
      "#NSVOTE PATRICK\n",
      "@xnick8570 We see you have great taste in TV shows! We have to know though, if you could only pick one of those shows, which would it be?\n",
      "Recruits might wanna check this out 😎😎😎😎 https://t.co/6KDGWlg1d9\n",
      "Innovations in Interdisciplinary Teaching: American Council on Education Oryx P https://t.co/dBpuvWHoW7 https://t.co/SXeqVu9OBc\n",
      "@korarotana ولا تنسى يا تركي مين كان في مدرجات سيدني والفرق الاجنبيه\n",
      "@jacksfilms https://t.co/adoVAN8e3A\n",
      "@KAbalkel اذا سويت لاحد رتويت يطلع عندنا بهالطريقة https://t.co/YPXeQHdKyT\n",
      "Newcastle vs ManCity Berakhir Tanpa Pemenang: Posisi ManCity rawan tergusur. https://t.co/1YoGgz3w58\n",
      "@tsubamekaigun11 おはよう、提督。\n",
      "よく眠れたかい？\n",
      "この季節の朝は丁度良いね。朗らかで暖かい朝だ。\n",
      "とても心地よいよ。\n",
      "でもだからって、布団で二度寝は厳禁だよ。\n",
      "RT @PMOIRAN: #ايران دهمین روز اعتصاب‌غذای امیر امیرقلی و دومین روز اعتصاب‌غذای سعید پورحیدر https://t.co/2vw95waaQZ #Iran https://t.co/un2q…\n",
      "全然寝れなかった、、、今日は出張最終日だ\n",
      "RT @mejiasandrea12: ustedes piden y yo cumplo. \n",
      "100 RT y subo otra sin la mano\n",
      "https://t.co/BJhnDNdbSb https://t.co/RDkhMZoQHa\n",
      "سُبحان الله فيه ناس سناباتهم مثلهم ماتنبلع(؛!\n",
      "Ya no doy de despistada ..\n",
      "RT @abby_mooneyy: @Kirstin585 I love you too💜💜💜\n",
      "Submission regarding #Soviet posted in /r/videos : https://t.co/bEOWBhZvRE #reddit\n",
      "RT @Layborelli: Penso mil fitas, vou enlouquecer\n",
      "RT @Original_Neesha: @Sharon__Tawiah aaaaaye sweety\n",
      "RT @ppreeya_: ทำไมกูถึงต้องมาเกรงใจคนอื่นในห้องของตัวเองนะ\n",
      "RT @TCIAuto: Trans cooler &amp; electric fan make a happy transmission in this @StreetRodLife article https://t.co/7RQIluWXrw #TCI https://t.co…\n",
      "RT @acidp4nic: Beyoncé - 7-11 https://t.co/hk87ZsawfL\n",
      "RT @AdamGaoua: @AvecRetailleau @LhommeZer Didier Morville c'est arabe ?\n",
      "@christielester If they advance to the next round they would play the winner of Kings/Sharks\n",
      "あなたの性格は「おもしろさを追求する皮肉屋」 https://t.co/h3yGWqtCnX #嫌いを選んで性格診断 #診断クレイジー @curazycomより\n",
      "RT @bik88622: #안전메이저놀이터사이트\n",
      "#사다리단톡\n",
      "\n",
      "👾🎺🗻\n",
      "🌙🌈💍\n",
      "\n",
      "THP\n",
      "ZCX\n",
      "\n",
      "🔑 이동:https://t.co/xbF2iOp08L 🔑 \n",
      "\n",
      "UWX\n",
      "GKU\n",
      "Enter to win a free Galaxy S7 Edge! https://t.co/Fvl2iPddkd https://t.co/Kn9KWLosyf\n",
      "RT @Waleadeur: Gilles Verdez est mort des suites de sa gifle.... Un ange parti trop tôt... https://t.co/m3fBL4iiJM\n",
      "@uradaradara でもパイナポーやからなぁ.....パイナポー....ステジャン！？\n",
      "@Ma7mod_ElSapagh\n",
      "RT @seungwxns: why do ur stylists hate wendy? she sings their praises and bakes them pies and yet @SMTOWNGLOBAL\n",
      "RT @ElyMiauu: A Pepe seguro q le pides la hora en España y ni te mira,pero va exigiendo a gente que las pasa putas q le sirvan por la cara.…\n",
      "RT @MirrreyStar: Dejémoslo en manos del destino, tal vez nos encontremos una noche en algún puente de París, en una plaza de Roma, en un ba…\n",
      "RT @relatojovens: Tanta gente passa pela gente, mas tão pouca gente realmente fica.\n",
      "Una de las tantas razones\n",
      "RT @lovahiphop: mexerem-me no cabelo ou estarem a  passar-me a mão nas costas é a melhor cena do mundo p eu adormecer, adoro mm\n",
      "ماعندي استعداد أداري خاطر احد أنا يالله أقنع نفسي إن الحياة حلوه .\n",
      "RT @520Promotion: SHOW LOVE AND CHECK OUT @jaymizzle85 \"Feel Me\" https://t.co/CrIu8wkxof #520PROMO #RT\n",
      "RT @TheNotoriousMMA: I have decided to retire young.\n",
      "Thanks for the cheese. \n",
      "Catch ya's later.\n",
      "Morto cm farofa !\n",
      "RT @Strip4QUATRO_: you the reason why my man Lamar Odom almost died...nobody gives af bout you https://t.co/vOwbhRwgI5\n",
      "RT @euidiotices: ai vc cria coragem e envia aquela mensagem só q dai a pessoa visualiza e nao responde https://t.co/vr9fYfN83g\n",
      "@ZodiacoHoy capricornio\n",
      "@Carpe_xDiem ouvrent* 🙄\n",
      "ربنا هب لنا من ازواجنا وذريتنا قرة اعين واجعلنا للمتقين اماما https://t.co/YRLH0fHni9\n",
      "RT @antoniodevicen2: @TorpedoNaranja @yosoynaranjito_ Parafreseando a Perez Reverte , un pueblo que vota a gente como Colau o Carmena merec…\n",
      "26.60Cts. NATURAL BRONZE SPIDER WEB NEON TURQUOISE PEAR SHAPE GEMSTONE 2265 https://t.co/UjfUWe5JAt https://t.co/tWJhaxyaLI\n",
      "RT @FemaleTexts: lets take a moment to appreciate Cara Delevingne 😍 https://t.co/oIAzGSsA2H\n",
      "https://t.co/Vu7T5cKFab\n",
      "RT @NakitaDemichiel: 🎧\n",
      "\n",
      "[https://t.co/STaJMue5ZJ]\n",
      "\n",
      "🎧\n",
      " #야시시 지오피아채팅 #베트맨토토 #단도 #야돔 #야밤 피키캐스트 #성인 #성인자료 야시시닷컴 청주역키스방 #얼짱 #소라넷 #bj노출 https://t.…\n",
      "RT @new_reign_: @lagiellia  preciate it slime\n",
      "(((((((((((((((((((((((((((((((((((((((((((((((((((((((((((((((((((((((((((((((((((((((((((((((((((((((((((((((((((((((((((((((((((((((((((ん\n",
      "@8787Sakiko ありがとうね、ほんと😂\n",
      "RT @ZOUISAlNTDEAD: zouis aint dead and i love snapchat filters https://t.co/SxUusI4BO5\n",
      "RT @TheDreamCIoset: all I want for my birthday https://t.co/vdTabS6Pcs\n",
      "RT @AquariusAboy: ㅋㅋㅋㅋㅋㅋㅋㅋㅋㅋㅋㅋㅋㅋ 정제666666666😂😂 https://t.co/1vH94dEDqT\n",
      "Salma Hayek regaña a Trump por confundir el 11-S con 7-Eleven:  https://t.co/PZH5W8CTPS\n",
      "RT @NunkMasKs: REITERO\n",
      "Según ABC de Paraguay, Chueco fue detenido.\n",
      "\n",
      "@gracielaocana https://t.co/58pP1bZX7w\n",
      "Lets support kimxi #TSOUWithoutYou\n",
      "Estúpida sou eu\n",
      "RT @ReemSuriana: الحرية لأسرى الجولان السوري \n",
      "لكم المجد يا أبطال \n",
      "\n",
      "#الجولان_سوري_للابد https://t.co/sBHZZRGYgq\n",
      "RT @sotocarol7: Fora bromas! Era o que me faltaba para acabar o día..😥 as veces creo que vivo demasiado as series jajaja @leticia_gz6\n",
      "@wanewname lool Vous arrivez à comprendre ce que vous regardez ? Car c'set eux qui ont ramené la bouffe au passage ;)\n",
      "@htmlalexisss thank u babie\n",
      "RT @CultureSexe: Qui ne tweet pas, observe.\n",
      "RT @micaelayelen223: 😍 Mañana = Sol🌞 😍 https://t.co/nEeUf6zHYn\n",
      "@LouiseW34909000 that would be lovely, see you then! 😊\n",
      "@Maclatu 500%\n",
      "Sevmediği insanlarla içki içen insan samimiyeti var bide.\n",
      "Piden investigar a empresarios y exfuncionarios kirchneristas\n",
      "#EspecialLlibres #Top20d200\n",
      "#14 - \"Los detectives salvajes\": Roberto BOLAÑO. \n",
      "Novel·la criminal / metaliterària.\n",
      "@cakeartist7 my poor heart kiki is so beautiful\n",
      "@LouCoquine bonne journée à demain soir\n",
      "RT @_DoctorJohn_: Que chova tudo esta noite, quero dormir em paz e ter um dia em condições amanhã\n",
      "I will be looking like a little boy the rest of this week\n",
      "Don't have the time you need on Twitter to find what you are looking for? Use @RoundTeam to search &amp; share for you. https://t.co/KftBPANwW6\n",
      "Cool any fish  https://t.co/QRBYMYmyqf\n",
      "劇場版プリキュアMH戦闘シーン (13:06) #sm17590761 https://t.co/rFyEIxG64x\n",
      "\n",
      "初代プリキュア族だけどほんと初代は肉弾戦と気合ばかりで素晴らしいもはや聖闘士プリキュア\n",
      "Massive push @ECB_cricket 4 games 2 b played under \"Get the game on\" there are BUCS games off tomoz. WHY? \n",
      "No future in not playing 👎\n",
      "Victoire merci @PSG_inside\n",
      "@MejsmSbn @alisf551 \n",
      "الله يبارك فيك\n",
      "@CaandeChavez ajjajaja poshita déjala entrar mala.\n",
      "ตารางงานเฮียโน่ ไปๆ ไปหาเฮียกันด้วยน้าาาา https://t.co/YcyV3eXL3Z\n",
      "Ariat Men's Sierra Saddle - Aged Bark - 15 D https://t.co/aepzjyI64p https://t.co/T11JyDrd1P\n",
      "👅 https://t.co/XfKnpqXezH\n",
      "Apple 13.3\" MacBook Air Laptop MJVE2LL/A Core i5 4G RAM 128GB SSD NEW Sealed https://t.co/ZLAHlrmk2j #MacBook #App… https://t.co/3RPVulmDF4\n",
      "RT @nurserycrimes: friend: i just think she's too good for him\n",
      "me: all women are too good for men but go on\n",
      "Elohenu Olam\n",
      "\n",
      "Meaning: \n",
      "Our Everlasting God.\n",
      "RT @talihaz3: تعلم من سيدة القلم كيف بتكتب #بكل_رواق\n",
      "@Red_Moonzy what game???!!!\n",
      "RT @Phitchaon_rain: ชอบที่แสตมป์พูดว่า \"ทำตามหัวใจเถอะครับ อะไรที่ชอบก็คือใช่นั่นแหละ\"\n",
      "RT @_she3er: ليت حتى حنيني مع غيابه رحـل .!\n",
      "@mgylnqiqqewsdmug そっすねー\n",
      "RT @jdtentrena: En las primeras etapas d entrenamiento emplear el mínimo estímulo eficaz es más recomendable para progresar y no estancarse…\n",
      "@huraedopoteto_F ありがとっ！\n",
      "@59redprincelove いえいえ😳💗💭フォロバありがとうございます💫✨はい！是非⭐️💗\n",
      "RT @rociiosanche: @juanjoG96_ @lazarocordoba8 ojalá no os metáis más conmigo y mi yegua😒😒😒\n",
      "@GRAHAMNOTAUBREY char🔥\n",
      "RT @arabporn6: بتصوير مخفى بيزنق بنت فى ركن خلفي⛔\n",
      "https://t.co/B6Z58TXkKr👉مشاهدة\n",
      "https://t.co/CbspylkWBU👉تحميل\n",
      "#فلام_سكس #محارم #كس https:/…\n",
      "RT @It_Aint__ME: @No_Cut_Card It was so wild...that was their EXACT argument. Not that he didnt do it. not that he is sorry. None of that s…\n",
      "RT @kevinsacon: Coloca al racismo en su lugar. https://t.co/g5jRP8eFYX\n",
      "RT @ONU_es: La ONU apoya los trabajos de asistencia a los damnificados en Ecuador https://t.co/kXOE8WihNP https://t.co/an8xIv9Rbq\n",
      "RT @TheOfflcePics: 🐌 https://t.co/VSQ7KmRrHc\n",
      "【めざましテレビ】今日のめざましジャンケン予想1回目（５:５８頃）　まず最初はチョキが出そう！　ここは「グー」（青ボタン）でどうでしょう？\n",
      "RT @KessaiB: La chaine D8: Pétition pour le renvoi de Joey Star de la NOUVELLE STAR ! - Signez la pétition! https://t.co/UyqJnHKkTu via @Ch…\n",
      "RT @azcsports: It didn't take long for people to react to #Suns' hiring Earl Watson as permanent coach. The reaction was mixed: https://t.c…\n",
      "RT @nacholanc: Bueno pues mañana me lo descargo @TXIFUes @EfectoMotor_ @martin95gm @papapitufo74 @garcijarvar @hellarghon\n",
      "RT @HoraciodelaVega: Una clave del éxito es la confianza en sí mismo. Una clave importante para la confianza es la preparación\n",
      "RT @theCanesmith: Hate Tuesdays? Turn it into a happy Chewsday &amp; #win award-winning sweets. RT and follow to enter this #competition https:…\n",
      "@Cashinbis trying to reach Dr. Brandon for a story ASAP. Please DM me!\n",
      "RT @joaqiinsantucho: #ArreglaElChiqueroPimentero\n",
      "RT @fuatavni_f: 17. Atamaları artık Binali,  Berat ve Soylu'nun hükmettiği ve 50 kişiden 48'inin İsrafsaray'ın adamı olduğu MYKY yapacak.\n",
      "@mhmoodmohamed1 😂\n",
      "@HaGaR370 بس في مباحث😂😂😂😂🙌🔫\n",
      "https://t.co/jRMNyaCN2R\n",
      "For ASUS laptop motherboard K52JR REV:2.0 notebook PC  mainboard https://t.co/R5xa4FVyZb https://t.co/xi8Y0QvOiv\n",
      "RT @carolineeforero: pa mi como que snapchat nos engaño😂\n",
      "RT @VioVillalobos: @XlenWoods @prosperous05 @rayadictotx @Lopez98577 @yasmanig @alatorrevera @soft_chivas dicen que a un putito del montege…\n",
      "I'm giving game &amp; learning as I go\n",
      "I DO WHAT DF I WANT , CAUSE IM POPPING 😜. Any other questions ?👀\n",
      "モンストでマルチしない？ 「少女は緑の惑星の夢を見る（極）」 https://t.co/ZMgRrweJpR  #モンスト募集 https://t.co/F4vc73meu1\n",
      "Valentina Quintero: ¡Revoquemos a este gobierno inmediatamente!: La comunicadora aseguró que el régimen de Nic... https://t.co/f995tjFwjA\n",
      "RT @OMGitsAliA: EPIC GIVEAWAY- Retweet this tweet to win ALL THIS! Good luck everyone! 😍🙌🏻 #BO3Eclipse https://t.co/3ixm3PACBk\n",
      "I entered for a chance to win a Walt Disney World® Resort vacation from Undercover Tourist! https://t.co/b3JNWAMvjP\n",
      "25歳の交際相手が　52・・・\n",
      "https://t.co/znSpP1Sd8h\n",
      "RT @milagrxsm: la música está de luto: se separó tan bionica\n",
      "RT @Alejandracokiee: Mira para arriba y agradece☝🏼️\n",
      "RT @BlakeGray: I wanna write a song🤔\n",
      "RT @_CFJ_: #NYPrimary\n",
      "#Flashback Letterman DESTROYS Trump on \"Made in China\" HYPOCRISY\n",
      "https://t.co/L4BYEnaIKR\n",
      "#CruzCrew\n",
      "@MsAvaArmstrong @m…\n",
      "One final down, 2 more to go 😅\n",
      "RT @oldpicsarchive: A movie assistant holding an umbrella over the actor’s head during the filming of Caligula, https://t.co/trehdit3BV htt…\n",
      "I've harvested 160 of food!  https://t.co/RgBDFhoRSW #android, #androidgames, #gameinsight\n",
      "@mcndschein seterah aja gimana?\n",
      "RT @friega_again: Falta para militares que se les dote de mascarillas ... ya en Canoa\n",
      "RT @__JawanFDU: Red velvet taste like ass😷\n",
      "RT @amazinvids: A Heart-Wrenching Commercial Empowers The Single \"Leftover Women\" Of China \n",
      "\n",
      "https://t.co/G6UYERmwvs\n",
      "Terapeuta em Sete Lagoas, tratamento da Depressao , Panico, Ansiedade https://t.co/kqMAdp52H7 Psicologia  OLINDA1401030\n",
      "RT @JudgeMoroz: This is an opportunity of a lifetime...\n",
      "\n",
      "To be part of a Movement to take back our country &amp; #MakeAmericaGreatAgain! https:…\n",
      "RT @plomoparejo: El único motor del gobierno de Maduro que siempre ha funcionado y que nunca se ha paralizado es el de la corrupción.\n",
      "ゴーゴーゴーストー\n",
      "@kantor57 @massimozampini sulla pagina Face ci sono i loro tifosi che vogliono la testa di tutti!domani titolo 'campionato riaperto' ahahhah\n",
      "@decetre Aldrig. Det är apkasst\n",
      "RT @clelia_crlt: Moi mon teint est déjà fait euh mddr vous voyez la grosse trace orange sur son front? mytho cte meuf #danaemakeup https://…\n",
      "RT @Lea_Hmy: JoeyStarr c un gd malade du debut jusqu'a la fin\n",
      "RT @Ebonyteach: \"We were not made eternally to weep.\"\n",
      "Corrida. \n",
      "https://t.co/A4B60CiXOe\n",
      "BRN PLS SEND CLIPS IN THE NEW SKYPE CHAT POR FAVOR @DewGlocked\n",
      "↓❊ \n",
      "\n",
      "-\n",
      "\n",
      " طبعاً هذا الشخص اللي تركته بعد ما كنت مهتم بيه، راح يحس بالشيء اللي كنت تسوي اله، راح يفقد إهتمامك... https://t.co/JJWTHJFiG0\n",
      "كلما كان الشخص يقرأ أكثر، كلما أصبح يفهم مشاعر الآخرين بسهولة أكثر\n",
      "@maxxxhahol Само то...)))\n",
      "RT @DumbestPosts: People on Twitter really don't give af 😭 https://t.co/9bqe3TmNpU\n",
      "RT @tiphhaaine: @mmelaaniie ❤❤❤❤❤❤❤❤❤❤❤❤❤❤❤❤❤❤❤❤❤❤❤❤❤❤❤❤❤❤❤❤❤\n",
      "河北〝政法王〞落马 背后拉锯战指向谁？（视频） https://t.co/vCJCbRApeW三退https://t.co/e69ylFdvcJ 认识法轮功https://t.co/z265jYUeks 活摘器官https://t.co/3kFXzxLiCp\n",
      "RT @Zackitoooo: Slide in the dm   https://t.co/lUI8wtkxGK\n",
      "Miembros de @ahorapodemos  que dimiten por la violencia orgánica del partido.... alguien se sorprende?\n",
      "https://t.co/U6udpjtd4J\n",
      "@SenMikeLee your family should be compelled to drink Flint Michigan leaded water until you release the funds to support to help Flint MI\n",
      "RT @HipHopiLL: 22 years ago today, Nas released \"Illmatic\" https://t.co/1ffdyAN92v\n",
      "@sam31halaby \n",
      "هههههههه اسم الله بتعرف تشتغل ع نفسها ورزقتها\n",
      "اللهم اهدنى  من عندك الهدايه  https://t.co/yibG1jbvey\n",
      "RT @LegionDefenders: OHT: #ALDUBLoveOnCue\n",
      "\n",
      "RETWEET | REQUOTE | REPOST\n",
      "\n",
      "SPREAD LOVE PEACE UNITY HARMONY\n",
      "\n",
      "FOLLOW: @LegionOfALDUB https://t.co…\n",
      "Disney Princess Pool Party https://t.co/sICRsn4g0G https://t.co/RWuHtCDGzS\n",
      "映像電伝虫を発見！！\n",
      "世界政府の船から海賊船まで何でも作る“ガレーラカンパニー”の凄腕大工たちを激写しました!!\n",
      "https://t.co/lP7qwpuBgD　#トレクル https://t.co/iJGIbq8xxQ\n",
      "Ｏ(≧∇≦)Ｏ イエイ！！ https://t.co/VDT0EWfJFz\n",
      "ASEMEDU juramenta junta directiva e inaugura oficina en campus #UNASA\n",
      "https://t.co/MMeiH1JHxi #FB https://t.co/L2OPYLnDJw\n",
      "Apple iPhone 5s - 16GB - Gold (Factory Unlocked) Smartphone **See Description** - Bid Now!… https://t.co/IJUEWAM4U6 https://t.co/H1XwphhYVE\n",
      "RT @Paradiselostsw: Así de intensos comenzamos este dia chicos, disfruten de este martes, besos a todos los que ya están trabajando 💋💋💋 htt…\n",
      "RT @OfficialGRAD360: The https://t.co/md7yklxOwg Summer #Giveaway\n",
      "#win an #AmazonEcho\n",
      "Enter:(1) Be a Follower (2) Retweet\n",
      "#freebie https://…\n",
      ".@mikem0ntgomery new season should be great\n",
      "@edxlarry I got your boobs fam\n",
      "📷  https://t.co/598sGrslck\n",
      "Allez Paris 🔵🔴\n",
      "RT @JESSE_B14: Get your shit together, until then erase me.\n",
      "#crtxla16  \"Librarians are protectors of children's will to learn and imagination\" - Lin Oliver\n",
      "Do you know who are awesome? My 4 new followers in the last day! Growing with https://t.co/e1ykiGgXny\n",
      "RT @UTCbookblog: Check out Suz’s pick for this week’s highlight - NEVER SWEETER by @Charlotte_Stein! #giveaway https://t.co/EVt0ZNbkIj\n",
      "RT @Amaka_Ekwo: Defend your people &amp; land against Islamisation #GrazingCommissionBill to empower Terrorist Fulani Herdsmen\n",
      "#Biafra https://…\n",
      "RT @jedrlee: When your mom finds your Fleshlight https://t.co/BQRvc9hi4W\n",
      "Tbt Memphis #america #usa #citylights #skyline #thepeabody #rooftop @ The Peabody Memphis https://t.co/YubsJYYlQY\n",
      "RT @lonelynight_1: \"\"SŐYLE\"\" \n",
      "•• \n",
      "Sőyle...! \n",
      "\n",
      "Topraga kavuşmak mı ? \n",
      "Sana kavuşmayı dűşűnmek mi zor ? •• \n",
      "~M.Alper https://t.co/UIzr6AY0NZ\n",
      "RT @Real_Liam_Payne: @37NOUIS lmao ... UP! UP! Aha\n",
      "RT @FlipsideWalker: Familia Dereemurr. Padres de Yanderes. https://t.co/WKxpptg46W\n",
      "RT @WeddingsGoals: this is the cutest thing I've seen in a while 😍 https://t.co/6NKWhj6Bhu\n",
      "RT @LaCASA_SA: La #MisiónAlimentación se despliega en gran marcha por la paz, independencia y la soberania #LaPatriaNoSeRinde https://t.co/…\n",
      "RT @VignaTricampeon: como no la van a nombrar si es la tricampeona, la participante mas importante de combate! es obvio..\n",
      "\n",
      "#NoExisteReempla…\n",
      "@KorPanda ㅋ ㅋ ㅋ ㅋ ㅋ ㅋ ㅋ ㅋㅋ오빠는 응원해줘...그것이 전부!\n",
      "@m0shzz هههههههههههههههههههههههههههههههههههههههه مره شكرا\n",
      "RT @robertomedez97: You all crying over kobe's last game while I'm crying over Vicente Fernandez last concert💔😭😭 https://t.co/Di7zW4Zqah\n",
      "RT @AbetoH_: Pour vous le plus grand mystère de twitter c'est:\n",
      "RT @Heskizo_: No es no fallar nunca, es no fallar a quien no te falla.\n",
      "RT @BBCSport: Charlton have been relegated to League One after a 0-0 draw with Bolton tonight https://t.co/5U0URarWnY https://t.co/Co4z4Q7m…\n",
      "“علاقه الحب من طرف واحد احساس مزعج انا اعاني منها مع النوم”\n",
      "RT @___D_I_V_A___: Marriage is Prison 😂\n",
      "Live ur Dreams make ur Dreams to Reality 😂 https://t.co/uTY8VmfpCP\n",
      "@mariobautista_ cada dia me enamoro más de vos Mario, por favor NUNCA cambies ♥♥♥♥\n",
      "@DeolaBee hey,long time no blog post.\n",
      "Bir şeylerin yoluna girmesi için, her şeyin raydan çıkması gerekir bazen. Ts Eliot\n",
      "اللهم اني استغفرك من كل ذنب اذنبته https://t.co/AFtOaHDpJO\n",
      "Feel good to go back to the gym\n",
      "The thing about insomnia is that it forces you to think... about yourself, your life. Your victories, or lack thereof. It's punishment.\n",
      "RT @lonelynight_1: \"\"SŐYLE\"\" \n",
      "•• \n",
      "Sőyle...! \n",
      "\n",
      "Topraga kavuşmak mı ? \n",
      "Sana kavuşmayı dűşűnmek mi zor ? •• \n",
      "~M.Alper https://t.co/UIzr6AY0NZ\n",
      "https://t.co/lVZicB01me Realizarán XIV jornada Aire Limpio, Vida Sana en SFM -  https://t.co/X2FGspMC3Y\n",
      "*insert sheep sounds* @Harry_Styles is my favourite sheep, of course *beeeeeeh* https://t.co/mjHUWt9Cz6\n",
      "51 recien y no se que se creen JAJAJAJAJAJA . Locos todos.\n",
      "RT @cfoxcavan: Always a great event @cavanmuseum  #edchatie https://t.co/idgm3cNQKe\n",
      "Amig@ que siempre se esta riendo? — @victoriacecilla12 🐬🐬🐬 https://t.co/jr9DMn9MlP\n",
      "RT @nextto16: https://t.co/4YeOsudIQx\n",
      "Теперь китов спасаем😂  https://t.co/hjlilVDjii\n",
      "دعاء دخول المسجد:أعوذ بالله العظيم وبوجهه الكريم وسلطانه القديم من الشيطان الرجيم https://t.co/Ca9QsyiYkK\n",
      "На сколько тебя хватит, когда однажды он будет вынужден уехать от тебя далеко ?\n",
      "RT @smyra87_: @diyalogsurvivor  hep derdim kerimoğluna oy atmayalım ama abi bu pis 5linin gitmesi için kesinlikle SEMİH SMSE CİKMAZSA oylar…\n",
      "RT @xkarlazambranox: A Francia 😂💓 https://t.co/zeRUZ3fOGZ\n",
      "A walkway can create a magical view in your backyard. \n",
      "https://t.co/2n5VBZW7lZ https://t.co/SGiSJbL70n\n",
      "RT @Yahoo_weather: 【きょう3時までに熊本・大分で発生の地震】\n",
      "震度7　1回\n",
      "震度6強　3回\n",
      "震度6弱　3回\n",
      "震度5強　3回\n",
      "震度5弱　7回\n",
      "震度4　　72回\n",
      "震度4以上の地震が89回発生しています。\n",
      "@mmtclk_\n",
      "RT @valerieunion: I'm literally the happiest and most stressed girl in the world. \n",
      "Does that make sense?\n",
      "RT @30secondrock: Shinedown - \"Simple Man\" (2003) https://t.co/HNBUNzB2Xq\n",
      "الناس اللي بتحب تفهمك غلط دي لابد التخلص منها بسرعة.. 😏\n",
      "ちゃんとお仏壇にお供えするおせち https://t.co/fbDey8M4im\n",
      "RT @TheMattEspinosa: chill or be chilled\n",
      "@Paradoxal_Boy I MAY BE SHORT BUT I'M NOT A KID PUTAIN D'ÉCLAIR\n",
      "RT @TheMattEspinosa: chill or be chilled\n",
      "Pardon? Pourquoi je découvre encore des trucs comme ça 😍🤗🙀 https://t.co/kVDz5QwJpy\n",
      "RT @ProcPNE: We'll do the dingles Friday. Believeeeee\n",
      "Vocês já perceberem que não coloco minha posição política, mas gosto da zueira e diversão que cada vez menos o... https://t.co/xxCUZFfTp3\n",
      "RT @WorldStarFunny: He had to be off them grandpa pills  https://t.co/pLlgMx8rVp\n",
      "RT @CultureDirect: Votre pouce a la même longueur que votre nez.\n",
      "1ère STD2A https://t.co/T6zIJmySlN\n",
      "(قل أرأيتم إن أصبح ماؤكم غورا فمن يأتيكم بماء معين) [الملك:30] https://t.co/S33P8F42sh\n",
      "RT @OCriador: Vocês votaram para livrar Barrabás e crucificar Jesus. Mais de 2 mil anos se passaram e vocês continuam escolhendo os ladrões.\n",
      "@dudaago VC ACHA QUE EU NAO TO VENDO KKKKKKKKKKKKKKKKKKKKKKKKKKKKKKKKKK\n",
      "RT @mjr4dr1: @salvameoficial @princepelayo @fabricatele si a Lydia le gusta el morado largo y es su estilo, para que escogen el otro, impre…\n",
      "@xDarkAlpha &lt; antes de entrar en la cabaña. Derek y Lucy eran sus mejores amigos dentro de la manada, y en los que más confiaba. Los había &gt;\n",
      "@adamdcfc5 yes we r. Wembley here we come\n",
      "RT @humdaora: \"ainnn eu n tenho twitter pq n sei o q postar\" mas meuza migo ninguém aqui sabe nem o q ta fazendo nesse planeta......\n",
      "RT @marcellamamii: Hi cutie 😍 https://t.co/QJh8MGnYgh\n",
      "RT @ahmed__farag__: مش عارف اقولكم ايه والله انتو احله ناس قبلتها في حياااتي ربنا يخليكم ليا ومنتحرمش منكم ابدااااا 😍😍😍😍😍😍😍😍😍😍😍😍😍😍😍😍😍😍😍😍😍 #…\n",
      "@Batataunicornio Amiga tô ferrada\n",
      "July 7😈 https://t.co/BMZ8x8weDc\n",
      "【PV確認用】ぴぴぱぷぅ！ / Hiro/小山あかり【maimai動画(中)】 https://t.co/mQeZrxJyZ6\n",
      "RT @GerryDuggan: If your candidate loses, remember: it will not be the end of the world...because we already poisoned bees to death, and th…\n",
      "RT @ribago: #ATuHermanaLaLlaman\n",
      "La sin paraguas...\n",
      "Siempre anda moja'\n",
      "\n",
      "#ClanDelWebeo\n",
      "@vargassarado bonito isso ein\n",
      "@Jourdynalexis \"Point Blank\"\n",
      "\n",
      "Listen to Beau'Rel = point blank produce by DjScrew by Beau'Rel #np on #SoundCloud\n",
      "https://t.co/5dlG2X1603\n",
      "@exodroga @BAPangell obgggggg amore\n",
      "سكس عنيف واقوى اثاره..https://t.co/SReqDUUOgw  https://t.co/tZckSXklEw eer\n",
      "خلفي\n",
      "مربربه\n",
      "hot\n",
      "TKMM\n",
      "RT @demarkesports: Ömer Onan: \"Şimdi Efes maçı oynayacağız. Taraftarlara sesleniyorum: O maçı karnaval havasına çevirelim. Bu çocuklar sayg…\n",
      "Right now, that's the best we can do anyway! There is a purpose... https://t.co/Kxf2DS7W7P\n",
      "Poulan/Poulan Pro Chainsaw Gas Cap 530047192 577858501 https://t.co/0guSm3PwKe https://t.co/C32gqd1ziq\n",
      "Revitalisasi Kawasan Wisata Sunda Kelapa Rusak Cagar Budaya\n",
      "https://t.co/Sw8wgC4vxj https://t.co/etBrUExlqQ\n",
      "RT @Latinos4Bernie: NYers! | Get to your polling locations bef 9pm so that #WhichHillary Feels the Bern today!\n",
      "👉https://t.co/oOxVNiOhs0 htt…\n",
      "RT @amyabrilxo: all these white guys are falling for these black girls and they just look so good together 😭😍\n",
      "@Dinaahussein @elissakh وانا كمان انه معقول ما بحسو بمتعة النتيجة مافي احلى من النجاح\n",
      "RT @mayraying: Me gusta la gente que mira de frente, incluso si es para mandarte a chingar a tu madre.\n",
      "#양평연예인출장마사지 010=2154=4006 \n",
      "#백석출장\n",
      "#용신동출장안마\n",
      "#노원출장마사지\n",
      "#신이문안마\n",
      "#상록구마사지\n",
      "#상도러시아출장안마\n",
      "#소사백마출장\n",
      "#출장안마\n",
      "#출장마사지\n",
      "#안마\n",
      "#마사지\n",
      " https://t.co/N8afs9bdHs\n",
      "RT @TheMattEspinosa: chill or be chilled\n",
      "RT @GraysonDolan: YES https://t.co/YzOvBPZscV\n",
      "RT @austin97082: #사설토토추천사이트\n",
      "#사설토토추천사이트\n",
      "\n",
      "안전사설토토사이트추천\n",
      "안-전-사-설-토-토-사-이-트-추-천\n",
      "\n",
      "✖🍋\n",
      "🍇✖\n",
      "✖🍎\n",
      "\n",
      "🍋✖\n",
      "✖🍇\n",
      "🍎✖\n",
      "\n",
      "클릭▶https://t.co/CqiFWGVIyJ https://t.co/CxTa…\n",
      "RT @abdulmajeed54: وطن : وأمي تهيجن وسط اذني تقول\n",
      "أرض الوطن امك الاولى وانا الثانية ..!\n",
      "💛 https://t.co/fziQBCoPoq\n",
      "ひとまず起きれた。今日もいい天気になりそうだ。\n",
      "@DebRigden Glad your retweet, thank you Deb\n",
      "RT @milliondolas: El bus lo paro @AndreaPExpress, que yo inglés, 0 al cociente jajaja\" grande @VanessaPExpress y grandes mis pulpeiras, a t…\n",
      "RT @jaygonzalez34: Really want @tblackwell844 to come see me 😭#NOW\n",
      "INTERCABLE NO TENGO TV. POR CABLE NI INTERNET EN EL HOTEL CAMORUCO DE VALENCIA, AV. BOLIVAR, YA QUE ESO ESTA AFECTANDO A MIS CLIENTES Y A MI\n",
      "🏃🏽💨 https://t.co/BNuAxd28fu\n",
      "(لا يسأم الإنسان من دعاء الخير وإن مسه الشر فيئوس قنوط) [فصلت:49] https://t.co/YKvrHoQZcz\n",
      "@MassRoots sc making me wanting to cry and shit 😢😩😭\n",
      "RT @kikasilva20: Perfume d gajo e uma perdição\n",
      "RT @K_Messias_: Man, I'll watch this regardless but just hope it's good movie #WhenTheBoughBreaks https://t.co/JDypJuSyUp\n",
      "@saaki419 うるせー！\n",
      "さきは白すぎ笑笑\n",
      "RT @zelune: acho muito engraçado esse presidente da anatel dizendo que \"gastamos muita internet\" como algo ruim.\n",
      "isso é sinônimo de avanço,…\n",
      "RT @OMGitsAliA: EPIC GIVEAWAY- Retweet this tweet to win ALL THIS! Good luck everyone! 😍🙌🏻 #BO3Eclipse https://t.co/3ixm3PACBk\n",
      "RT @GiorgioJackson: Si tienen dudas sobre votación de \"agenda corta antidelincuencia\", sugiero seguir cuenta @SeguridadNSerio\n",
      "4 more days of this bs\n",
      "RT @laurenofthesea: #WhenIWas a young boy... my father... took me into the city\n",
      "باسم مرسى خليفة عمرو زكى فى التثبيت\n",
      "RT @HabeshaVibe: IVORY COAST 👸🏽 https://t.co/fOVcrBcLRb\n",
      "RT @SaudiNews50: فيديو ..\n",
      "\n",
      "جانب من الأمطار الغزيرة التي شهدتها محافظة الطائف .\n",
      "\n",
      "#الطائف #الأمطار #السيول\n",
      "\n",
      "- https://t.co/BXYUy5gFM2\n",
      "RT @Kookstudio75: Gerookte Tante Door suprême, ceviche van champignons en citroenmayonaise @BigGreenEgg_NL @koppertcress #TanteDoor https:/…\n",
      "RT @marina_saniram: #NATO declare today: \"Russia is on the threshold of NATO\". \n",
      "\n",
      "Russia is the aggressor\n",
      "\n",
      "REALLY ? https://t.co/JR7hDfWCLT\n",
      "RT @gaizkaranguren: Iruñeko Buztintxuri eskolako irakasle honen txio segida honek irakurketa eta hausnarketa sakona merezi du.\n",
      "https://t.co…\n",
      "RT @FBBasketbol: Sevinç #Fenerbahçe\n",
      "https://t.co/MsJ4t1E1lO\n",
      "RT @carolrosenberg: Pentagon invites media to see slice of Afghan prisoner's May 3 parole hearing. https://t.co/ssB5KEzsJF #ForeverWar http…\n",
      "RT @PaulTheEsquire: It's a great feeling when nosey people ask you questions about someone else's life and you can genuinely say \"I don't k…\n",
      "RT @SalehAlmoghamsy: صحيفة المواطن؛\n",
      "شاهد بالفيديو.. \n",
      "“المغامسي” يشارك في ملتقى مغردون بـ”بريق الكلمات”\n",
      " https://t.co/Y68Yoj0q6s\n",
      "ليت الزمـان يغفى لا صار وجهك قبالـي .\n",
      "@stefdavidson2 yeah !!😊🙄\n",
      "@TheMattEspinosa chilling is better\n",
      "RT @Jamoosi: كل الحب و الاحترام لي اي شاب ما بدخن سجائر، ما بشرب شيشة، ما بسف تمباك و ما بشرب الحرام\n",
      "خليك نضيف، جسمك ما سبت زبالة عشان تدخل…\n",
      "RT @THExD0GFATHER: 💢ＲＥＴＷＥＥＴ\n",
      "\n",
      "💢ＩＦ\n",
      "\n",
      "💢ＹＯＵ\n",
      "\n",
      "💢ＦＯＬＬＯＷＢＡＣＫ\n",
      "\n",
      "💢#ＭＧＷＶ\n",
      "\n",
      "⇩ＴＨＥＹ⇩💯⇩ＤＯ⇩\n",
      "\n",
      "@JoseMonsterXD\n",
      "@MO_Shynee\n",
      "@danimar2311\n",
      "@jussizzz\n",
      "@yukihirayama53\n",
      "@madeintyo https://t.co/qZNC3q4Pm6\n",
      "@GaryBarlow 🎂❣🎂🎈🎂❣🎂🎈🎂❣🎂🎈🎂❣🎂🎈🎂❣🎂🎈🎂❣🎈🎂❣🎈🎂❣🎈🎈🎈🎂❣🎈🎂❣🎈❣#getgarytoclaires40th #getgarytoclaires40th #getgarytoclaires40th https://t.co/QkXDLvGRjy\n",
      "En lo de Ari😍😍😍😍🎉🎉🎉🎉🎉🎉\n",
      "40-летняя гимнастка из Узбекистана отобралась на Олимпиаду\n",
      "GO NUTS! SURPRISE FREE SHIPPING BEFORE MOTHERS DAY! Use code below. https://t.co/gHa2U8mvux\n",
      "RT @ElJuanpaZurita: Agsgdjfkflkg están listos para el video de YouTube de hoy? Estoy muy muy nervioso 🙈 https://t.co/7TkptezTCe\n",
      "I have to go for now. @Louis_Tomlinson I hope you know that I love you and wish for you to be happy and smiling :)\n",
      "@KOSDFF E.T would be the most popular E sport game ever\n",
      "to muito feliz porra\n",
      "RT @Majed_mutairi15: اللهم أحسن عاقبتنا في الأمور كلها وأجرنا من خزي الدنيا وعذاب الأخرة\n",
      "RT @TheMattEspinosa: chill or be chilled\n",
      "RT @kihyyh: I LOVE https://t.co/aIgVhz9z2N\n",
      "Info Bagus Nih  @ristutia Akhirnya TERUNGKAP! Metode belajar bahasa inggris super cepat! Info&gt;&gt; https://t.co/an8WLAoqiE\n",
      "@Mega_Glowen ni caso jo\n",
      "RT @BatataReal: the inês game https://t.co/7SrMrUjU3s\n",
      "RT @i2ufo: Sabeu qui no es medicava? La gent de l'edat de pedra que vivia fins als 30 anys.\n",
      "RT @MiguelAngTorres: @ejrl @TornadoElZorro y sentado.!! Valga decir. Si se para se cansa\n",
      "RT @YoungEricv: That face you make when you noticed a bitch staring at ya boyfriend to hard like she wanna get smacked 😂🤔 https://t.co/pT5P…\n",
      "💛💭💛💭💛\n",
      "عن حُزنك ؟\n",
      "هناك صلاه .\n",
      "\n",
      "عن ضيقتك المفاجئة ؟\n",
      "هناك قرآن .\n",
      "\n",
      "عن أمنياتك المستقبليه ؟\n",
      "هناك دعاء .\n",
      "\n",
      "عن النعيم الأبدي ؟\n",
      "هناك جنّه .\n",
      "\n",
      "💛💭💛💭💛\n",
      "RT @NiallOfficial: Hello lovely people . . How are we all today? 😍😊😎\n",
      "RT @H4RRYPOTR0: me pasa que leo una fanfic de larry y me meto tanto en la historia que hasta cuando pasan partes tristes me duele hasta el…\n",
      "I love my best friends 💗\n",
      "RT @vanguardngrnews: Obama heads to Saudi Arabia, Britain, Germany https://t.co/rquW82O7vC @vanguardngr.com\n",
      "Fashion trends are hilarious. Everyone's too much of a sheep to do there own thing and experiment with new ideas.\n",
      "RT @ahorapuedes2010: Triunfando por los mundos del Face @retrasco by @GrilleraLa https://t.co/mMBijNtvLN\n",
      "RT @gencfborg: BEKLE BİZİ BERLİN! https://t.co/iFUZgQjK94\n",
      "Talvez o exemplo que Diego Souza deu nos rivais (tanto do #Vasco quanto do Santa) possam pesar numa decisão de Grafite preferir ficar.\n",
      "@Toshi_Utaton gruppe was schreiben? Ich hab grade keinen Zugriff darauf, bis wer was schreibt xD\n",
      "@KingOG__ thats about it. and im talking about mainstream wise. everyone else is more concerned about the beat than the lyrics\n",
      "RT @mariarsanntos: Ir ao Tomorrowland é grande sonho fds\n",
      "RT @laurxnf: there are a million important things to do but none as important as be here next to you💫. https://t.co/wKklFs8I1i\n",
      "RT @ImLost73: La persona più bella che io abbia mai conosciuto era l'idea che mi ero fatta di te.\n",
      "Quand j'habitais en suisse dans mon petit village et mon petit confirt il y avait un sdf ds le village et encore le mec avait un appart\n",
      "RT @Squawka: Manchester City have only lost 1 of the last 22 games in which Sergio Agüero has scored in. Lucky charm. https://t.co/17ku2NoD…\n",
      "RT @sanchezcastejon: Según El Pais, Bob Esponja es el Lider de la TDT. No puedo estar mas de acuerdo, si no, que lo pregunten a nuestros hi…\n",
      "#المملكه_والفولورز_وهواك\n",
      "و ربنا اللى ما هيعمل فولو لعلقو لما يبانلو صاحب😂😂😂😂 https://t.co/pgEt5Ol4FW\n",
      "RT @russwillwood: ...Route 66 by Luis Beltran ...#surrealart ...#visionaryart ...#contemporaryart ...https://t.co/uMK3Qwu3fe https://t.co/V…\n",
      "Hippiosa\n",
      "遅刻サイテー！　←けっこう遅刻してるやつ\n",
      "▽▲▽▲▽ i6p\n",
      "RT @VicBergerIV: RT if you miss Jeb! @JebBush https://t.co/Ay6teoz1v4\n",
      "RT @LForestermjb: #사설사다리\n",
      "#스포츠토토사이트추천\n",
      "\n",
      "💫네-임-드-사-다-리🌲\n",
      "👩먹튀없음(명품놀이터)♠\n",
      "👨클릭 https://t.co/6X6Spwisey 추천인코드:luck👷\n",
      "\n",
      "🌹👩JOIN NOW🔒👂\n",
      "🇶\n",
      "♣\n",
      "망롣닝랖뚜 https://t…\n",
      "RT @StefanKaroli: dope\"@XtiandelaFTrain: Last gain tweet 😊\n",
      "\n",
      "Follow everyone that retweet this to gain 100 🆕 follows tonight ✌\n",
      "\n",
      "#GainWithXti…\n",
      "RT @SHR_Rehman: She Was 2 Talented \n",
      "If U Give her Pencil and Blank Paper She Will Give you Back A Masterpiece @fatimaaijaz1 \n",
      "Pray For Her S…\n",
      "RT @deadpoooI: Boys in Red Jackets 🔥👌 https://t.co/uUB80sOnxq\n",
      "AH POI OGGI HO GIOCATO A SDR2 NON POTETE CAPIRE LA FELICITÀ NEL VEDERE KOMAEDAAA\n",
      "I'm the realest nigga in the flick game you the broke at nigga on the Internet\n",
      "RT @vlwflwbiel: Quando minha amiga tá no estress por falta de rola e vem me xingar https://t.co/FXzGsB27QW\n",
      "RT @SoAmIWrong: LAS ABUELAS SON LAS MEJORES.💝👼\n",
      "RT @AsierAlkiza6: Nunca es tarde para saber lo que uno realmente desea en la vida!!!!\n",
      "RT @tugrul_gkhgnl: REİSSSSSSSSSS;\n",
      "Aldığın para,yediğin içtiğin ANANIN AKSÜTÜ KADAR HELAAAALLLLLLLLLLL\n",
      "WE LOWE YOU REEİİSSSSSSSSSSSSSSS http…\n",
      "RT @mariobautista_: No hay nada más bonito que ver a gente sonriendo por la vida 😍🙌🏻\n",
      "RT @TheMattEspinosa: chill or be chilled\n",
      "All imma see tomorrow is niggas smoking all down my snapchat 😂😂😂\n",
      "https://t.co/I7jZgQxsCV via @youtube rofl\n",
      "Kalben - Haydi Söyle https://t.co/p5VnQzkkRP\n",
      "RT @Grown1DARG: Fizzy le dio like a esta foto en IG 😂 https://t.co/JPkwXI2EUx\n",
      "RT @queridoantonio: Dar cera https://t.co/26x539XBTn\n",
      "RT @sanada_yukimaru: 一日も早く平穏な日々が戻りますように！\n",
      "#くまモン頑張れ絵 https://t.co/uorg2v7sR3\n",
      "RT @TheNotoriousMMA: I have decided to retire young.\n",
      "Thanks for the cheese. \n",
      "Catch ya's later.\n",
      "RT @marinarolinskay: Луганськ, 1904 р. https://t.co/AzwMgtjdEI\n",
      "لو تمر ريشة حمامه تهاوشت معهاا 😭😂.\n",
      "RT @AVCShahidLatif: Pakistan is a Country with great potential, ruling elite instead of turning it into opportunity prefered corruption #En…\n",
      "@kirchsmile eu conheço alksjdl\n",
      "@BiLover666 @johnbell1984 mmmm she's absolutely gorgeous\n",
      "RT @Dr_alqarnee: لا تنس قبل نومك أن تقول:\n",
      "سبحان الله \"٣٣\"،\n",
      "والحمد لله \"٣٣\"،\n",
      "والله أكبر \"٣٤\"\n",
      "RT @theistumblr: Belki de en ufak şeye bile anlam yüklemememiz gerek.\n",
      "Todo me gusDIGO.\n",
      "La sangre es bonita, si. https://t.co/oKWhGiqqAk\n",
      "themagic https://t.co/BQnoSXH34f\n",
      "六四学运领袖撰文曝中共前外长钱其琛无耻(图文) https://t.co/TxtbDgw7xt三退https://t.co/e69ylFdvcJ 认识法轮功https://t.co/z265jYUeks 活摘器官https://t.co/3kFXzxLiCp\n",
      "RT @cinergiablog: https://t.co/6oG0tRtZEa\n",
      "@beasideslife @toxicallymatty @SEBTSB ** eErAm0ozh HAzhTA kueE TeE diizhTeE vueElTA **~ xD\n",
      "RT @DudaVR03: @rhayagarf Desde sempre\n",
      "RT @jcorderique: Gracias por todo el cariño Sechura-Piura!!! Nos vemos en un rato en @FutbolAmericaFA https://t.co/CGMdTDk5w5\n",
      "RT @CristiPedroche: Unos pierden los nervios,otros el bolso...pero quién ganará la inmunidad???Muy atentos!!!😱😱😱 #PekínExpress3\n",
      "@polyy_p hace 10 min pase por ahí te odio\n",
      "Vamos la... #naosefaznada https://t.co/Fm5vFkGP6E\n",
      "I'm so glad that their relationship is finally out and I'm also so glad that Nash found someone he loves this much. https://t.co/5n5LyH4nrz\n",
      "Liceo. https://t.co/zqqzBZhlTY\n",
      "Cabotaje en el muelle de Caicara del Orinoco, control de 16mil lts de gasoil #19AIndependenciaPorSiempre https://t.co/PJotYtAdOC\n",
      "RT @vivaciousStar2: ╦══►╮╭💚╮\n",
      "║║●•°•●💗\n",
      "║╠╣💕╭💙╮\n",
      "║║ \n",
      "╩╩\n",
      "❖@Mikeneize \n",
      "❖@cristiana_carpe \n",
      "❖@Arab_Arabism \n",
      "❖@DAKOTA_ROUSS \n",
      "❖@MGWV1OO  \n",
      "\n",
      "#TEAM1DIA…\n",
      "RT @TWICEjokbal: [TRANS] Park Haeyoung talked alot about Produce101 during her interview! These are a few of the questions asked #박해영 https…\n",
      "@JenTheBoss it's not fun\n",
      "RT @Traimont: i want to kiss and bite u\n",
      "só queria esquecer @ e seguir minha vida em frente e feliz!!!!\n",
      "RT @mbeltramPT: #dryneedling Level 2. #hand is feeling better!  Great #learning @IAMTedu @KesslerPT https://t.co/s2TTW8fCah\n",
      "RT @KardashianReact: my parents treated me like a princess my whole life you think I'm expecting less from a man? lol\n",
      "RT @TheMattEspinosa: chill or be chilled\n",
      "RT @Child_Wellbeing: The Full-Fat Paradox: Dairy Fat Linked To Lower Diabetes Risk https://t.co/JQQTXkbN3n @NPRFood https://t.co/s4an5Ode0P\n",
      "RT @therettes: #coma\n",
      "@Albericoyes Albe per favore mi segui?É il mio sogno.Ti prego😭💕 ×192\n",
      "RT @Chal_Fut: Jisko apne dil mai ibadat-gah nahi milti usko kisi bhi ibadat-gah mai apna dil haazir nahi milta! \n",
      "\n",
      "#JummahMubarak 💕\n",
      "O kadar kişi varken beni mi sevicek.Nerde görülmüş iki kişinin birbirini sevdiği...\n",
      "RT @LubaTV: se a felicidade da outra pessoa te incomoda, você tem um sério problema\n",
      "RT @3ZF_WTR: @g9edy \n",
      "لا أقدر أسمعك ولا أجي عند دارك\n",
      "اتعبني غرورك  وكرهت فيك كبرك\n",
      "#معزوفة_أوتاري\n",
      "RT @TheMattEspinosa: chill or be chilled\n",
      "RT @SAKASHIRA2: マホロア描きました！\n",
      "「蒼き魔術師」\n",
      "なんか強そうなのが描きたかった。 https://t.co/KJwnDXVuVN\n",
      "RT @wishdomwishdom: I am a lonely soul looking for a soul to steal\n",
      "lol @ myself\n",
      "RT @al_sha3eb: بعد التواصل مع ادارة قناةالمنار وبسبب تداول الهاشتاغ قبل موعده\n",
      "تقرر اطلاق هاشتاغ سيعلن عنه الساعة8:00\n",
      "عبر حساب الشعب مصدرالس…\n",
      "RT @INeedja_Kadeeja: He wants the guts RT @_Ctorress:\n",
      "I told my buddy I was hungry and I got sent a full course meal😭 https://t.co/2pWB4PKa…\n",
      "RT @rappersaid: Nooooo 😂😂😂😂 https://t.co/sMHeuiKYvi\n",
      "RT @ialjabaly: ياقل الزين وياكثر اللي يبونه🎶🌸\n",
      "@FahadAlkubaisi \n",
      "#مقتطفات_سنابشاتية #برشلونة \n",
      "Snap : ialjabaly https://t.co/k8clEYiHf4\n",
      "@Rausted wanna?\n",
      "I liked a @YouTube video from @wranglerstar https://t.co/OmIASmhnzQ Why Do Women Take So Long To Get Ready?\n",
      "My mom bought me tickets to meet  @EthanDolan @GraysonDolan and I'm crying! I love my mom and them so much. I can't wait! #DolanTwinsOnTour\n",
      "RT @marinho_quesia: @FrancaStefhani @DDedinho @JesusLudd  a cara do crime essa garota 👌😂😂\n",
      "RT @OmarBenzema: أنا بعرف أمعلشنى https://t.co/C6QIOKcu8u\n",
      "RT @lisapease: Massive turnout in NY, it appears. Fingers crossed ..!\n",
      "RT @nuevathaimy784: Musica para mis oidos... https://t.co/HT754Km0mL\n",
      "RT @LSDVlBES: lets take a trip here 🌀 https://t.co/DMauKqCAty\n",
      "@wdwamy @LivingInDisney what is your home resort?\n",
      "RT @stupidworlx: 💫SQUAD SERIES💫\n",
      "\n",
      "RT si tu regardes des séries pour être dans un squad\n",
      "@fireproofjack love U\n",
      "RT @AurelieHoranson: FLO! TU M'A MIS LES LARMES AU YEUX AVEC TON TEXTE POUR OLI! C'EST VRAIMENT MAGNIFIQUE!! OOWWW! @bigfloetoli\n",
      "RT @daianeGS12: @gabyspanic 😘 https://t.co/phYZTBOyb3\n",
      "ninguno https://t.co/9k3xEU1Nau\n",
      "RT @dometabacchi: Manos y corazones de voluntarios son el mayor mensaje de esperanza. El trabajo no se detiene y las necesidades tampoco. #…\n",
      "RT You heard it brother....! Cheers.. https://t.co/MxxZiggegn\n",
      "RT @julienco_: *Ri Ra Ropf - nen imaginärer Gute-Nacht-Kuss auf deinen Kopf*\n",
      "\n",
      "😘\n",
      "Dabadabadá te quiero y un dabadabadá tu noo \n",
      "Dabadabadá me muero y un dabadabadá de amor...(8)\n",
      "RT @PicWalkingDead: #TWDFamily🏹🗡🔫 https://t.co/crUPXQcHBH\n",
      "Yoh!! https://t.co/xovTCjfcWQ\n",
      "I liked a @YouTube video from @Tymethe1nfamous https://t.co/N2ONnQJFAk Underwater Swimsuit Try-On Haul!\n",
      "RT @t831411246: الهلال يُتهم الاتحاد السعودي.  ليش الاهلي ما يلعب مع فريق إيراني. ليش الهلال يلعب مع إيراني.\n",
      " فيها رشوة😂😂😂 https://t.co/e4P…\n",
      "@Whatchamajass #RT #NewMusic \" @YungDiDaPrince \"Broke\" Prod #CashMoneyAp   https://t.co/hySwIN6nZd Mixtape: https://t.co/amAxWaEjDo\n",
      "@ramblesamble oh ps here's my updated books I own but haven't read to see if my christmas present is on there! :] https://t.co/tdJsmKa3Do\n",
      "RT @ehaztnugal: Poliziak Burlatan nahi ez duen murala Euskal Herriko hainbat herritara hedatzen ari da. Egin zurean ere! #aztnugaL https://…\n",
      "https://t.co/XgnMH7QuwC #handjob #jerkoff #jackoff #wank #blowjob https://t.co/6JoohnffJh\n",
      "RT @pitchfork: Listen to @Grimezsz cover \"Ave Maria,\" perform \"Flesh Without Blood\" and \"REALiTi\" on @BBCR1 https://t.co/dZm2MAI5TH https:/…\n",
      "Tebrikler FENERBAHÇEM #FinalFour https://t.co/kY24T5Ethe\n",
      "MICHAEL KORS Brown MK Signature PVC Hamilton E/W Shoulder Tote Bag - Buy It Now! Only $139… https://t.co/QTJSMAXpUk https://t.co/kuZsfcmByA\n",
      "RT @LubaTV: se a felicidade da outra pessoa te incomoda, você tem um sério problema\n",
      "RT @ishqholic01234: The Pain In His Neck Became Unbearable, So He Pops THIS 10-Year-Old Pimple...........https://t.co/tFxSrVBOmh\n",
      "@clanliana_bot な、何ですかその顔！私の自信作ですよ！\n",
      "@eded810_bot Σ∞(ﾉｼ=*｀Д´*)ﾉｼ ｼﾞﾀﾊﾞﾀ ＜ふぎゃーっ！\n",
      "RT @INeededAnswers: CAILLOU Part1\n",
      "https://t.co/S2izI5ma81\n",
      "@10TORU09 \n",
      "とおるくんおはよう☺️☀️\n",
      "とおるくんいつも起きるの早いね！（笑）普段何時に起きてるの？？\n",
      "RT @OnMYONN_: you see who your real friends is when you down &amp; need somebody .\n",
      "I just keep cracking my phone 😒\n",
      "While Bernie is still thinking on how to break the banks, Hillary is creating rules to regulate their risky behavior w/o taking their jobs.\n",
      "Sigo sin entender que hacen Jonan y la chica en el programa #PekinExpress3\n",
      "RT @ishqholic01234: The Pain In His Neck Became Unbearable, So He Pops THIS 10-Year-Old Pimple...........https://t.co/tFxSrVBOmh\n",
      "RT @OMGitsAliA: EPIC GIVEAWAY- Retweet this tweet to win ALL THIS! Good luck everyone! 😍🙌🏻 #BO3Eclipse https://t.co/3ixm3PACBk\n",
      "@kaitimashburn_ take me with you :((\n",
      "#Apple Watch what happens when you put an iPhone in a bowl of expanding foam. Read more: https://t.co/AOpKHV3bEO $AAPL\n",
      "#Apple Watch what happens when you put an iPhone in a bowl of expanding foam. Read more: https://t.co/AHcDPTFj6O $AAPL\n",
      "RT @JuniorMetra: Ya Need To Respect La Jefa @Somaya_Reece GRIND #PuroSinCorte\n",
      "RT @yokoono: Everyone in the world can be an artist. We are all artists. Some of us notice it, and some of us don't.\n",
      "RT @MOJOHy90AkVDuwr: @salm__889 @jhshhsjs62 @frtyewuo @parkjojo13 @Harbi2015Judy امبيييييييه يسلموووواااا الله يقدرني أفيد ويستفيد مني القر…\n",
      "RT @brazilfinance: @camanpour @ggreenwald DEAR GOD CNN YOU PEOPLE DON'T FACT CHECK STUFF???\n",
      "Las canciones viejas de Drake son las mejores.\n",
      "RT @Blooklyn1986: https://t.co/jbh57CfnLY\n",
      "#Apple MacBook Air Gets A Nice Hardware Upgrade That Will Compel You To Purchase One. Read more: https://t.co/oczXkFmr4K $AAPL\n",
      "RT @gomezjcg130: #ATuHermanaLaLllaman la cerveza cristal única grande y nuestra\n",
      "#Devuelvanelcarnet\n",
      "I gotta marry a girl who got that voice @MacMiller\n",
      "RT @ayaaattia: \"أنت الذي جئت مختلفا، أنت صديق وحبيب وحياه💙\n",
      "KE DECEPCION CON ESTOS\n",
      "@Parkscope it would be even better if you could pick your funny name before the ride. E.T. did it first and better!\n",
      "أنا العاشق السيء الحظ .\n",
      "Philomene c vraiment la plus folle de France marre de elle\n",
      "@cavcakli74 @serkema @MihracUral2 nusayriler rearkarnasyon a inanıyorlarmıydı acaba 😄 belkide ot olarak geri dönmüştur😄\n",
      "@kacie_shumaker send this to tal https://t.co/1TNhVMlVRb\n",
      "RT @Kotcha301: @realDonaldTrump @DanScavino ur so incredible. Thank you for everything you're doing to expose the corruption! 😘\n",
      "RT @TheMattEspinosa: chill or be chilled\n",
      "RT @Rociio_Yael: me encanta la lluvia pero que llueva todos los dias ya me fastidia\n",
      "Este horóscopo es la voz en mi cabeza que no quiero tener https://t.co/k72x6DTnx4\n",
      "@ZulasTehHusky Hello dog! how do you do\n",
      "RT @Sandritapm32: @VolveriascntuEX #OrianaTeQueremos 👏😍💕\n",
      "RT @Pelirroja1604: Esto es bonito: @martybs27 \n",
      "\n",
      "[19/4 22:54] Bebé ♡: Loveyou anitaaa 💖\n",
      "[19/4 22:54] Pelirroja😊: Loviuuu mi amooooree\n",
      "Sipping on Savannah and reminiscing #TheGoodLife #FromArushaToBrighton\n",
      "@vinapoleao hahahahahahaha 😜\n",
      "Helping the next generation #choicespregnancycenter https://t.co/Wt9ZMuBW8N\n",
      "ぼかぁねぇ何が言いたいのかってぇとぉ、ボリューム満点で最後まで食い切れないほどの量があの一つ一つのシナリオには詰まってるって事が言いたいんですよ様するに。\n",
      "RT @allicatttx: U LOUD TOO FAM @mrmichaelpersad\n",
      "Es mio😪\n",
      "@BTS_twt 진짜 대단해요ㅠㅠㅠㅠ 역시 랩몬♡ 앞으로 멋진음악 좋은 노래 기대할게요!!\n",
      "https://t.co/hNCh2y0QhC\n",
      "قاعده اقول شي والله انه من ورا قلبي 😂💔\n",
      "RT @jiutea: this doesnt even match but i stole his look 💫💫 #armyselcaday https://t.co/ny9f4Sz12k\n",
      "RT @TheGirICode: when it's that time of the semester to get ur shiz together, but u have 0 motivation and just over life https://t.co/k2fcZ…\n",
      "ΣΠΑΡΑΚΤΙΚΗ έκκληση: «Βοηθήστε με, δε θέλω να πεθάνω!» https://t.co/ArMIY7jyBh\n",
      "A1::=  للزواج سعودية 38 سنة مطلقة و موظفة و معي اولاد اقبل التعدد\n",
      "https://t.co/BaokKFUNHI\n",
      "RT @gokhanozbek: 3- Gerçekler er yada geç ortaya çıkacak... https://t.co/7nr0uxcjO2\n",
      "RT @YahBoyKobe: when ur turnt getting ur turnter friend home https://t.co/77ZQDTZDMR\n",
      "RT @baxarlene59: @netflix pls. consider #BatB as ur original programming they worth it! #NetflixSaveBatB https://t.co/dHlFL4YS3Z\n",
      "https://t.co/ksFm4upIa6\n",
      "RT @25urika25: おいしく漬けられている野菜単独で動くんで長谷部のお口にでも突っ込んであげてください＞＜ https://t.co/koQhg5UjXf\n",
      "ADVICE. Hazard Reduction. Bombala (-37.114 149.004) at 17 Apr 2016 09:54 https://t.co/eZ1btQ7mTC #NSWRFS #HazardReduction #NSWFires\n",
      "RT @2010MisterChip: NCU 1-1 MCI (FT) - Agüero es el SEGUNDO jugador que menos partidos ha necesitado (147) para marcar 100 goles en TODA la…\n",
      "اللهم إني أعوذ بك من الهم والحزن والعجز والكسل والبخل والجبن وضلع الدين وغلبة الرجال https://t.co/23W0pTJdV9\n",
      "RT @rtOPIHxosnwv6PH: التفاؤل يبلغـنا الفضا دون ريش ،\n",
      "زيد من نسبة الأفراح ، قلل عتب !\n",
      ".\n",
      "ندري إنّا نموت ورغم ذلك نعيش ،\n",
      "وندري إنّا نفارق رغم…\n",
      "RT @cbandeirasx_: Secar o cabelo é das coisas que mais me custa fazer\n",
      "https://t.co/Y5EbCJEDGD\n",
      "يعني لو واحد بس\n",
      "RT @RickKing16: Virtual Desktop for #VR is a glimpse at a future without monitors https://t.co/fb4r17Zbht https://t.co/MPmSHTla8w\n",
      "RT @rorrinho_vic: ♪ Quieren mas parches, pero no un cambio estructural. \n",
      "Quieren que marche, pero sin tocar su propiedad. \n",
      "Quieren... https…\n",
      "RT @VibeSenpai: double text me when im not replying so i know you're actually feeling me\n",
      "RT @DolarToday: ¿Que fue lo mas grande que nos dió la revolución bolivariana? https://t.co/y3wodicwrE\n",
      "RT @essa_ysseen: أنّى سَبِيلُ الغيّ منْكِ، وَقدْ نضَا\n",
      "مِنْ صِبْغِ رَيْعَانِ الشّبيبَةِ ما نضا\n",
      "\n",
      "#البحتري\n",
      "#شجن_الناي_النابض\n",
      "@adab_syria\n",
      "Tしてね #フォロー返し\n",
      "Jajaja jajaja hay jajaja me duele la panza de la risa https://t.co/ueDXfJifq3\n",
      "RT @aikatsu_anime: 【アイカツ！TOWミニ情報】\n",
      "さらに引き続き、原画集のチラ見せ❤️「ヘモグロビンZ、飲まなきゃ血を吸うわよ。」\n",
      "飲まなくてもスーパー元気になれるイラストですね⭐︎（ライツM）#アイカツ #aikatsu https://t.co/AUZ3i…\n",
      "RT @skele_tan: the refusal to acknowledge webcomics as part of \"the industry\" proper is an anachronism and unhealthy for everyone involved\n",
      "RT @MADRIZETA: No sabéis apreciar nada, ni un puto detalle.\n",
      "RT @prosapolitica: Neste momento estamos com um país ABSOLUTAMENTE SEM COMANDO e Renan querendo cozinhar o galo. #AssimNaoDa https://t.co/p…\n",
      "RT @ChristineTB: \"@MoveBooks: Hello #TLA16! @ChristineTB, The Lost Tribes, signing Wednesday 2-3pm @ #1423, &amp; interview w/@JrLibraryGuild a…\n",
      "RT @ArifAlvi: If a gladiator spider can do it, why cant we... NAB the thieves who have stolen money from Pakistan\n",
      "https://t.co/xaaod69WYb\n",
      "RT @Zayla_5sos: I'm busy saving everybody else, when I can't even save myself\n",
      "RT @vbmia1: Even some good girls got super head in em\n",
      "One Click, No Ads - iPhone App https://t.co/WKurCqDDCB\n",
      "RT @yohanink: - yohan pq tu sort jamais ?\n",
      "- https://t.co/O2qMrmCJKx\n",
      "RT @Magicoutinho: @KaliiJenner I have problem with both can't stand why people even smoke it can be injurious to both them and people aroun…\n",
      "@RawannKarraam كس امك\n",
      "Ahora pasamos con los deportes y el tiempo\n",
      "@walkerdeead obgg 💕\n",
      "Maquiavelico - Canserbero\n",
      "There's AskDeliveryMan??\n",
      "RT @ccxms_: votá→→ https://t.co/QtxWimO20s 1 vez por día hasta el 22/04 y dale RT así + gente me ayuda (es solo un segundo, xfa) https://t.…\n",
      "@RabinovichSlava Немцова убили, Каспаров в эмиграции... зато имбицил Навальньій \"оппозиционерствует\"... Тупая марионетка.\n",
      "https://t.co/YL2rTOeDfS\n",
      "Buona notte https://t.co/hlNwVoUW4j\n",
      "Grak lu, pape roger\n",
      "RT @musicnewsfake: Yesterday people spotted a wild ostrich walking around the #AMAs https://t.co/5JNQII8NBv\n",
      "Ariana autentiquinha ❤👄💅💮💋 https://t.co/rWhPFB8LY6\n",
      "RT @Socialist_Times: Google: New Yorkers are Thirsty for Information About Bernie Sanders https://t.co/aUow7FT0X5\n",
      "\n",
      "#PrimaryDay #NYPrimary h…\n",
      "Que se roben todo el dinero que quieran, pero no jueguen con la vida de niños inocentes @JuanManSantos\n",
      "RT @sport24_tv: الجفن: لماذا تم التوقيع مع \"مارفيك\" لمدة سنة واحدة و ليس 3 سنوات\n",
      "#الحصاد_الرياضي\n",
      "#الهلال #الاتحاد\n",
      "#النصر #الاهلي #الشباب\n",
      "I really unironically want to see the Naruto stage play.\n",
      "\n",
      "Why won't they put this on DVD like the Sailor Moon musicals...\n",
      "@hellokeimk5 なみとの地元玖珠なんや(´ｰ∀ｰ`)wwｗ\n",
      "RT @Malierbil_: Bravo Fenerbahçem! Final four'dayız\n",
      "RT @chikiloo: Press Release!!!  DSS And Nigerian Army: The Existential Dangers Of Security Outfits That Serve Ethnic Interests  https://t.c…\n",
      "RT @UloomAlmtar: 🔴 عاجل\n",
      "\n",
      " إنقاذ ٧ اشخاص من قبل العامل الافغاني سردار بعد سقوط كبري وادي فحوه بحرة الشرع بمحافظة الكامل شمال مكة . https://t…\n",
      "Scheiss arturo vidal. Blöder unfairer sack\n",
      "Jasa Website || Catastrophic 123-reg VPS cockup deletes Ross County FC website - The Register: The RegisterCat...  https://t.co/NqAk7VL0f3\n",
      "@KodiCommunity @jonathanmullett and after clearing cache come out of kodi and go back in bud\n",
      "@nullle سیگار میکشی کلا؟\n",
      "【19금】성인만남모바일채팅어플 링크 ⇒ https://t.co/tvlleWzhzm\n",
      "\n",
      "#두소 #해수욕장비키니사진 #밤업소 #사랑과전쟁어플아이폰 #헌팅후기 #야동한국 #동양여인들 #앤메이트대체어플 #섹파여친 #라이브캠 #유부남여친 #울산중년번개팅\n",
      "قدِّم الحب للجميع، قدِّم الثقة للقليل، ولا تضر أحداً. \n",
      "\n",
      "الشيخ :-ويليام_شكسبير\"\n",
      "Irritated AF\n",
      "@RPolicial @hramosallup de verdad que dan pena ...\n",
      "RT @LovableNotebook: If she's important to you, show her.\n",
      "I think we'd have fun...\n",
      "https://t.co/BdjbxATMZC\n",
      "لا سمك لا.. كلوا أجنحة يا ايمي😜 https://t.co/XaSTowNbAM\n",
      "@TheMattEspinosa goodnight 💖\n",
      "RT @osmankaymk: https://t.co/Quzp7E9imB\n",
      "@JosHeymans die regeling is niet bepaald democratisch.  Afschaffen dat wachtgeld.\n",
      "@emg6306 PTDRRRRRR JS8 MORTE 😂😂😂😂😂😂💘\n",
      "@jc_castrillon @Euroleague Mucho mas interesante la pantalla plana de Vesely menudo peazo televisor.\n",
      "Amazing Marvel and DC Superhero Mashup Art https://t.co/fsKXdcGAK3 https://t.co/YhyzPJJJRh\n",
      "RT @LilSboyMook: Ass grabbing 👐 Neck kissing 😍 Lip biting 😏 Hickeys 😛 Pussy rubbing &amp; more is what you got to deal with when you with me\n",
      "@GFEJemma feet up plenty of rest 😘😘\n",
      "@kudina9853 воу, аххах, я б поорала, ночет хз как аахах\n",
      "RT @girlposts: I LAUGHED WAY TOO HARD 😂😭 https://t.co/LK3mLRoCqr\n",
      "@celina_tha sus"
     ]
    }
   ],
   "source": [
    "#run the streamer\n",
    "l=StdOutListener()\n",
    "auth = tweepy.OAuthHandler(CONSUMER_KEY, CONSUMER_SECRET)\n",
    "auth.set_access_token(OAUTH_TOKEN, OAUTH_TOKEN_SECRET)\n",
    "api = tweepy.API(auth, wait_on_rate_limit=True,wait_on_rate_limit_notify=True)\n",
    "myStream = tweepy.Stream(auth = api.auth, listener=l)\n",
    "myStream.sample()"
   ]
  },
  {
   "cell_type": "code",
   "execution_count": 33,
   "metadata": {
    "collapsed": false
   },
   "outputs": [],
   "source": [
    "cur.execute(\"SELECT id from emoji_tweet order by id DESC limit 1;\")\n",
    "last_analyzed_id=cur.fetchone()"
   ]
  },
  {
   "cell_type": "code",
   "execution_count": 65,
   "metadata": {
    "collapsed": true
   },
   "outputs": [
    {
     "name": "stdout",
     "output_type": "stream",
     "text": [
      "💛💭💛💭💛\n",
      "عن حُزنك ؟\n",
      "هناك صلاه .\n",
      "\n",
      "عن ضيقتك المفاجئة ؟\n",
      "هناك قرآن .\n",
      "\n",
      "عن أمنياتك المستقبليه ؟\n",
      "هناك دعاء .\n",
      "\n",
      "عن النعيم الأبدي ؟\n",
      "هناك جنّه .\n",
      "\n",
      "💛💭💛💭💛\n",
      "RT @NiallOfficial: Hello lovely people . . How are we all today? 😍😊😎\n",
      "I love my best friends 💗\n",
      "RT @laurxnf: there are a million important things to do but none as important as be here next to you 💫 . https://t.co/wKklFs8I1i\n",
      "#المملكه_والفولورز_وهواك\n",
      "و ربنا اللى ما هيعمل فولو لعلقو لما يبانلو صاحب 😂😂😂😂 https://t.co/pgEt5Ol4FW\n",
      "RT @LForestermjb: #사설사다리\n",
      "#스포츠토토사이트추천\n",
      "\n",
      "💫 네-임-드-사-다-리 🌲\n",
      "👩 먹튀없음(명품놀이터)♠\n",
      "👨 클릭 https://t.co/6X6Spwisey 추천인코드:luck 👷\n",
      "\n",
      "🌹👩 JOIN NOW 🔒👂\n",
      "🇶\n",
      "♣\n",
      "망롣닝랖뚜 https://t…\n",
      "RT @StefanKaroli: dope\"@XtiandelaFTrain: Last gain tweet 😊\n",
      "\n",
      "Follow everyone that retweet this to gain 100 🆕 follows tonight ✌\n",
      "\n",
      "#GainWithXti…\n",
      "RT @deadpoooI: Boys in Red Jackets 🔥👌 https://t.co/uUB80sOnxq\n",
      "RT @SoAmIWrong: LAS ABUELAS SON LAS MEJORES. 💝👼\n",
      "RT @mariobautista_: No hay nada más bonito que ver a gente sonriendo por la vida 😍🙌🏻\n",
      "All imma see tomorrow is niggas smoking all down my snapchat 😂😂😂\n",
      "RT @Grown1DARG: Fizzy le dio like a esta foto en IG 😂 https://t.co/JPkwXI2EUx\n",
      "لو تمر ريشة حمامه تهاوشت معهاا 😭😂 .\n",
      "RT @CristiPedroche: Unos pierden los nervios,otros el bolso...pero quién ganará la inmunidad???Muy atentos!!! 😱😱😱 #PekínExpress3\n",
      "RT @vivaciousStar2: ╦══►╮╭ 💚 ╮\n",
      "║║●•°•● 💗\n",
      "║╠╣ 💕 ╭ 💙 ╮\n",
      "║║\n",
      "╩╩\n",
      "❖@Mikeneize\n",
      "❖@cristiana_carpe\n",
      "❖@Arab_Arabism\n",
      "❖@DAKOTA_ROUSS\n",
      "❖@MGWV1OO\n",
      "\n",
      "#TEAM1DIA…\n",
      "@Albericoyes Albe per favore mi segui?É il mio sogno.Ti prego 😭💕 ×192\n",
      "RT @Chal_Fut: Jisko apne dil mai ibadat-gah nahi milti usko kisi bhi ibadat-gah mai apna dil haazir nahi milta!\n",
      "\n",
      "#JummahMubarak 💕\n",
      "RT @INeedja_Kadeeja: He wants the guts RT @_Ctorress:\n",
      "I told my buddy I was hungry and I got sent a full course meal 😭 https://t.co/2pWB4PKa…\n",
      "RT @rappersaid: Nooooo 😂😂😂😂 https://t.co/sMHeuiKYvi\n",
      "RT @ialjabaly: ياقل الزين وياكثر اللي يبونه 🎶🌸\n",
      "@FahadAlkubaisi\n",
      "#مقتطفات_سنابشاتية #برشلونة\n",
      "Snap : ialjabaly https://t.co/k8clEYiHf4\n",
      "RT @marinho_quesia: @FrancaStefhani @DDedinho @JesusLudd a cara do crime essa garota 👌😂😂\n",
      "RT @LSDVlBES: lets take a trip here 🌀 https://t.co/DMauKqCAty\n",
      "RT @stupidworlx: 💫 SQUAD SERIES 💫\n",
      "\n",
      "RT si tu regardes des séries pour être dans un squad\n",
      "RT @daianeGS12: @gabyspanic 😘 https://t.co/phYZTBOyb3\n",
      "RT @julienco_: *Ri Ra Ropf - nen imaginärer Gute-Nacht-Kuss auf deinen Kopf*\n",
      "\n",
      "😘\n",
      "RT @PicWalkingDead: #TWDFamily 🏹🗡🔫 https://t.co/crUPXQcHBH\n",
      "RT @t831411246: الهلال يُتهم الاتحاد السعودي. ليش الاهلي ما يلعب مع فريق إيراني. ليش الهلال يلعب مع إيراني.\n",
      "فيها رشوة 😂😂😂 https://t.co/e4P…\n",
      "@10TORU09\n",
      "とおるくんおはよう ☺️☀️\n",
      "とおるくんいつも起きるの早いね！（笑）普段何時に起きてるの？？\n",
      "I just keep cracking my phone 😒\n",
      "RT @OMGitsAliA: EPIC GIVEAWAY- Retweet this tweet to win ALL THIS! Good luck everyone! 😍🙌🏻 #BO3Eclipse https://t.co/3ixm3PACBk\n",
      "RT @ayaaattia: \"أنت الذي جئت مختلفا، أنت صديق وحبيب وحياه 💙\n",
      "@cavcakli74 @serkema @MihracUral2 nusayriler rearkarnasyon a inanıyorlarmıydı acaba 😄 belkide ot olarak geri dönmüştur 😄\n",
      "RT @Kotcha301: @realDonaldTrump @DanScavino ur so incredible. Thank you for everything you're doing to expose the corruption! 😘\n",
      "RT @Sandritapm32: @VolveriascntuEX #OrianaTeQueremos 👏😍💕\n",
      "RT @Pelirroja1604: Esto es bonito: @martybs27\n",
      "\n",
      "[19/4 22:54] Bebé ♡: Loveyou anitaaa 💖\n",
      "[19/4 22:54] Pelirroja 😊 : Loviuuu mi amooooree\n",
      "@vinapoleao hahahahahahaha 😜\n",
      "Es mio 😪\n",
      "قاعده اقول شي والله انه من ورا قلبي 😂💔\n",
      "RT @jiutea: this doesnt even match but i stole his look 💫💫 #armyselcaday https://t.co/ny9f4Sz12k\n",
      "RT @aikatsu_anime: 【アイカツ！TOWミニ情報】\n",
      "さらに引き続き、原画集のチラ見せ ❤️ 「ヘモグロビンZ、飲まなきゃ血を吸うわよ。」\n",
      "飲まなくてもスーパー元気になれるイラストですね⭐︎（ライツM）#アイカツ #aikatsu https://t.co/AUZ3i…\n",
      "@walkerdeead obgg 💕\n",
      "Ariana autentiquinha ❤ 👄💅💮💋 https://t.co/rWhPFB8LY6\n",
      "RT @UloomAlmtar: 🔴 عاجل\n",
      "\n",
      "إنقاذ ٧ اشخاص من قبل العامل الافغاني سردار بعد سقوط كبري وادي فحوه بحرة الشرع بمحافظة الكامل شمال مكة . https://t…\n",
      "لا سمك لا.. كلوا أجنحة يا ايمي 😜 https://t.co/XaSTowNbAM\n",
      "@TheMattEspinosa goodnight 💖\n",
      "@emg6306 PTDRRRRRR JS8 MORTE 😂😂😂😂😂😂💘\n",
      "RT @LilSboyMook: Ass grabbing 👐 Neck kissing 😍 Lip biting 😏 Hickeys 😛 Pussy rubbing &amp; more is what you got to deal with when you with me\n",
      "@GFEJemma feet up plenty of rest 😘😘\n",
      "RT @girlposts: I LAUGHED WAY TOO HARD 😂😭 https://t.co/LK3mLRoCqr\n",
      "RT @love_dream777: 5/1 素直になる日 😌\n",
      "5/2 自分を見直す日 🤔\n",
      "5/3 絶叫する日 😱💥\n",
      "5/4 はちゃける日 😙\n",
      "5/5 告白する日 🗣💗\n",
      "5/6 大切な人を大切にする日 ❣ ️\n",
      "5/7 勇気を出す日 💪\n",
      "\n",
      "もうすぐだね 👉 RT\n",
      "danimansutti's photo https://t.co/0owT0x48hO 😂😂😂😂\n",
      "@Gaston_varelaa @guillelprimo falta de respeto? La verdad no ofende querido 😹😹\n",
      "RT @alohazul: Sábado tenho casamento 😻😍\n",
      "RT @TVDandTOlover: They love eachother\n",
      "They need to be together again 🌹💕\n",
      "#TheVampireDiaries #TVD #ElenaGilbert #DamonSalvatore #Selena http…\n",
      "@jeffery_199 tkkkkk❤ 😂😂\n",
      "@_eidah\n",
      "أشكركِ على جميل اطرائك .. هذا من لطفك ..\n",
      "جزاكِ الله خيراً أستاذة عايدة. 🌹\n",
      "RT @fj4848: #مبدئياً\n",
      "كنا نقول :\n",
      "عطني من وقتك شوي ،،\n",
      "واترك الباقي عليّ ☺️✋🏼\n",
      "صرنا نقول :\n",
      "عطني من وقته شوي ،،\n",
      "مافيها شي !! 💔\n",
      "RT @TiniStoessel: #Repost @RCorbinMurray with repostapp.\n",
      "・・・\n",
      "Making new friends in London 🐷\n",
      "\n",
      "🐽🙈🐽 https://t.co/9ZHq7oEma3\n",
      "RT @GraysonDolan: OMG ur so cute ☺️❤️ love you https://t.co/oJnisfCEXL\n",
      "Paris en Finale 👌🏼\n",
      "RT @ervenrossetti: Amici, nemici,\n",
      "Buonanotte,\n",
      "\n",
      "Pensiero ai nostri MARO'\n",
      "SARÀ CHIARO??? ✋🇮🇹 https://t.co/YFupjZrr6d\n",
      "não entendi essa palhaçada de ensino médio não poder voltar vestido de índio da escola 😒\n",
      "RT @LutfyyyM: Okay this is funny 😂😂😂😂 https://t.co/CCZSkV20qr\n",
      "RT @ana7oss7oss: كلاكيت تاني مره النهارده بقاااا 😍😍 https://t.co/JojXWCk1Od\n",
      "I don't trust no nigga because no nigga showed me I could trust them 💯\n",
      "RT @bedgood31381: 사-설-토-토-추-천-사-이-트\n",
      "\n",
      "▶https://t.co/qCS80yK8XQ 🎾 ⚽⚽\n",
      "\n",
      "🇰🇷 NO.1 🇰🇷\n",
      "\n",
      "🎣 먹튀없는메이저 🎣\n",
      "\n",
      "#안전놀이터\n",
      "#안전놀이터\n",
      "\n",
      "🌸 사다리이벤트진행중 🌸 https://t.co/JNzILGHhE2\n",
      "RT @OMGitsAliA: EPIC GIVEAWAY- Retweet this tweet to win ALL THIS! Good luck everyone! 😍🙌🏻 #BO3Eclipse https://t.co/3ixm3PACBk\n",
      "RT @borjakq8: أنثي #الثور : 😍💃🏻\n",
      "\n",
      "وفيه الي ابعد الحدود رومنسية تعطي بقدر ما تأخذ اجتماعية واذا ارادت ان ترتبط تصبح انسانه اخري وطيبة القلب ل…\n",
      "RT @JennaSativa: Enjoying this gorgeous day 💙 Getting oiled up by the pool 💦 Shooting customs today 📲 #TuesdayTreat #JennaSativa https://t.…\n",
      "RT @BestTraiIers: THIS IS GOING TO HAVE ME IN TEARS. 😂😂 #CentralIntelligence https://t.co/oisAvcCYgQ\n",
      "I really don't wanna move back 😞😞😞😞😞\n",
      "RT @ClariMyMelody: @Clarimiidola_ @clarialonso_\n",
      "We*, we promise. 😌\n",
      "But he's, you'll love it off 😍\n",
      "RT @vvv_virginia5: @X0wIzqNS6MqCRWo\n",
      "حساب 👑🖕🏻\n",
      "يستحق\n",
      "المتابعة 🌹🌹\n",
      "والدعم\n",
      "ذووق 💐💐\n",
      "رائع 👑\n",
      "لا تقصرو اخواتي 🌹🌹 https://t.co/JUOxO08x07\n",
      "Vontade nenhuma de ir pro colégio 😕\n",
      "RT @ainamasuet: Comm m'agradaria cantaar bé 😱🔝\n",
      "RT @anaifmonteiro: 4 😍😍 https://t.co/Vh2CVqKabZ\n",
      "RT @shojy2112: مدري اش دخلني بس لمن اشوف اولاد المغرب سوا احس بفخر كانهم اولاد بلادي م عليكم هذا تاثير بنت الخضر 😂❤️ #HananeElKhader\n",
      "👀👅 https://t.co/bsIwzMjUE6\n",
      "@yt_ktr97 前半もめっちゃ見たい！京都の回もあるのか〜 😳 探さないと！！1個みたらどんどん出てくるからほんと永遠ループよね(笑)サマステは絶対当てたい！！いいねすとんずらぶとぅーん 💓🙏 全公演行きたいけど私も選ぶとしたらこの２つ！そっかゆーちゃん就活生じゃんか〜 😂😂\n",
      "RT @menorzinhomc2: @moyra_costa suave rs 😏😏\n",
      "@_inconnitoo ma petite parisienne et sa cité champy mdrrr,je l'aimeeeee ❤️\n",
      "@klamilleee @KlausIsHerLast @Klarolinefucked @KlaroEternityy @klarolinesmoon @DirtyWasilewski Jen you hurt her feelings 💀💀\n",
      "RT @beevo_2: كل الانتظار لـ الايام اللي م اعرف خميسها من أحدها 💗\n",
      "RT @jasmenaz: قتلتني يوم قالت * قوس معاق * 😂\n",
      "ياربااااه خاني التعبير مادري شقول 💔 https://t.co/giVfIvDRug\n",
      "صدقة جاريه للمرحوم / امان الله المكاوي\n",
      "\n",
      "📖 . ﺍﻟﻘﺮآن كامل\n",
      "الشيخ ماهر المعيقلي المصحف كامل\n",
      "http://t.co/lNGX0bh4evn\n",
      "I can't sell stuff when I'm sick 😓\n",
      "@nikkileary_ I want to come 🙄\n",
      "RT @YRN_Rodd: just don't waist my time 🚮\n",
      "RT @celinahot081: Wanna fuck her? 😍\n",
      "https://t.co/I472gFQ7Jl https://t.co/znqdlAA1Pg\n",
      "🙃😂 https://t.co/NdeUz6xYOq\n",
      "-Hey ines comment sappel le petit d'un cheval ?\n",
      "-bah un poney\n",
      "-.....\n",
      "Ptn quelle est conne 😂😂\n",
      "@sab_se_pyari han bs pucho hi mat itni acchi ati ha 😅😂\n",
      "RT @llxioo6789: #بكل_رواق خليك بعيد عن الـ beer 🍺🍺\n",
      "ケータイをサクサクにするアルバムアプリPOOLが便利すぎてやばい！写真が保存し放題だから空いた容量でアプリや音楽入られて満足！\n",
      "\n",
      "🎁 期間限定！ 🎁\n",
      "下のリンクからダウンロードすると「長い動画も保存し放題」に！\n",
      "https://t.co/1gOS35FKtr\n",
      "RT @BestOfShepherds: such a cute view 👿 https://t.co/zMxXwvvHSr\n",
      "RT @robertopampa9: Higuain può ancora battere tutti i record dei goal , ma senza la squalifica ne avrebbe fatti circa 46 goal ⚽️😄🔝🇦🇷👍\n",
      "RT @FilipeRet: Conheçam a paradisesportsoficial só lazer! Caio, Bruninho, Vivi prosperidadeeeee 🙌🙌🙌🙏 @ Rio de… https://t.co/mmhS3rQqV5\n",
      "RT @RapperReact: No 😂😂😂😂 https://t.co/4usi3TXu8l\n",
      "RT @MejoresTwits: THUG LIFE 😂😂 https://t.co/28MakFS7pD\n",
      "RT @NateDiaz209: I guess my work here is done I'm retiring too✌🏼️ 👊🏼\n",
      "RT @FootballVines: That Touch.. How? 🔥👀 https://t.co/1VUOTvoXNa\n",
      "RT @Cargobayy: 👙 Spring Sales 👙\n",
      "\n",
      "Bikinis are ON SALE for $35 or LESS! Limited Time ONLY!\n",
      "\n",
      "Shop: https://t.co/CnHcM9KWVv https://t.co/Wkjbf…\n",
      "@Remasfares @ShougAA6 لاززم اتابعه صراحه 😂😂😂\n",
      "RT @NotiMundoPe: VÍDEO: Mira lo que sucede al tronarse los dedos! Visto con rayos X.\n",
      "Ver 👉 https://t.co/L4jmMaLnWh https://t.co/ZfbcJtIdUi\n",
      "Hot chocolate and marshmellows. ☕️\n",
      "RT @cordova_fabiola: @AnaAnamenasaiz @sanijo92 @Marcetorres019 @karmen0713 @cisneazul13 😘😘😘😘😘😘\n",
      "💞💞\n",
      "Qnd estás super feliz por amanhã teres tarde livre e depois lembras-te que tens explicação e ainda tens que estudar para o teste de pt 😢💔\n",
      "RT @_sayLiz_: @Sharon__Tawiah my sister ask again. 😂😂😂\n",
      "\"@QueenNolz: God has plan for everyone... your time is coming just keep in mind❤ stayblessed 💋 \"\n",
      "RT @TheRealLiont: Hellooo, um 15 Uhr gibts meine Roomtour auf https://t.co/jtnzLgtC0T ! 😊🎉 https://t.co/YJllwW5IKx\n",
      "RT @_QueenNigger: Cant lose her 😢😢😢 http://t.co/BqObXfQxUH\n",
      "Group 1 na ako. I cant! 😔 sana hindi pa final yun. Haha char.\n",
      "RT @gabiiib: @deysesaless parabéns deyy!! ❤️\n",
      "@korarotana بالفيديو| طفل يقاتل الشرطة !\n",
      "👇 👇 👇 👇 👇 👇\n",
      "[. https://t.co/C8KGs7H3Pw .]\n",
      "[. https://t.co/C8KGs7H3Pw .]\n",
      "\n",
      "e8e\n",
      "Esta llovizna nomas hace que uno corra a meter la ropa para nada 😜\n",
      "@njah_7 هههههههههههههههههههههه لا بس انتبهي ترا بعلم امك عليك 😂👌\n",
      "RT @aymanabu_gosh: @RaghoodaSa11 @danasgh شكراً لشعورك ووقوفك الى جانبنا 🙄\n",
      "ICI C'EST PARISSSS 🇫🇷\n",
      "slow replies are the worst thing ever 😤\n",
      "RT @NateDiaz209: I guess my work here is done I'm retiring too✌🏼️ 👊🏼\n",
      "RT @alaura2015: (¬_¬) ┣ 🔘 ┗ ┗ 🔘 ￦ ⤵\n",
      "Recomiendo seguir [º_º]\n",
      "\n",
      "●@dominiqueBCN\n",
      "●@SONIECITAROA\n",
      "●@AfterEight13\n",
      "●@eReferenceDesk\n",
      "●@oficialLHC…\n",
      "RT @Chal_Fut: Koi jorra pakhiyaan da\n",
      "\n",
      "Hik dholla ap sohna\n",
      "Dujja zaalim akhiaan da 😍\n",
      "Ultimately, your priorities &amp; actions because of those will define you &amp; your future. 💡\n",
      "#choosewisely\n"
     ]
    },
    {
     "ename": "KeyboardInterrupt",
     "evalue": "",
     "output_type": "error",
     "traceback": [
      "\u001b[0;31m---------------------------------------------------------------------------\u001b[0m",
      "\u001b[0;31mKeyboardInterrupt\u001b[0m                         Traceback (most recent call last)",
      "\u001b[0;32m<ipython-input-65-2d6d5e6226fa>\u001b[0m in \u001b[0;36m<module>\u001b[0;34m()\u001b[0m\n\u001b[1;32m     10\u001b[0m     \u001b[0mcur\u001b[0m\u001b[0;34m.\u001b[0m\u001b[0mexecute\u001b[0m\u001b[0;34m(\u001b[0m\u001b[0;34m\"SELECT * from emoji_tweet_dump where id = {:d};\"\u001b[0m\u001b[0;34m.\u001b[0m\u001b[0mformat\u001b[0m\u001b[0;34m(\u001b[0m\u001b[0mID\u001b[0m\u001b[0;34m+\u001b[0m\u001b[0;36m1\u001b[0m\u001b[0;34m)\u001b[0m\u001b[0;34m)\u001b[0m\u001b[0;34m\u001b[0m\u001b[0m\n\u001b[1;32m     11\u001b[0m     \u001b[0mSQL_result\u001b[0m\u001b[0;34m=\u001b[0m\u001b[0mcur\u001b[0m\u001b[0;34m.\u001b[0m\u001b[0mfetchone\u001b[0m\u001b[0;34m(\u001b[0m\u001b[0;34m)\u001b[0m\u001b[0;34m\u001b[0m\u001b[0m\n\u001b[0;32m---> 12\u001b[0;31m     \u001b[0manalyze_tweet_emojis\u001b[0m\u001b[0;34m(\u001b[0m\u001b[0mSQL_result\u001b[0m\u001b[0;34m)\u001b[0m\u001b[0;34m\u001b[0m\u001b[0m\n\u001b[0m",
      "\u001b[0;32m<ipython-input-64-966b630fa1bd>\u001b[0m in \u001b[0;36manalyze_tweet_emojis\u001b[0;34m(SQL_return)\u001b[0m\n\u001b[1;32m    144\u001b[0m \u001b[0;34m\u001b[0m\u001b[0m\n\u001b[1;32m    145\u001b[0m     \u001b[0mtext\u001b[0m\u001b[0;34m=\u001b[0m\u001b[0memoji_split\u001b[0m\u001b[0;34m(\u001b[0m\u001b[0moriginal_text\u001b[0m\u001b[0;34m)\u001b[0m\u001b[0;34m\u001b[0m\u001b[0m\n\u001b[0;32m--> 146\u001b[0;31m     \u001b[0memjText\u001b[0m\u001b[0;34m=\u001b[0m\u001b[0mnp\u001b[0m\u001b[0;34m.\u001b[0m\u001b[0marray\u001b[0m\u001b[0;34m(\u001b[0m\u001b[0;34m[\u001b[0m\u001b[0;34m(\u001b[0m\u001b[0memcode\u001b[0m\u001b[0;34m,\u001b[0m \u001b[0mlen\u001b[0m\u001b[0;34m(\u001b[0m\u001b[0mre\u001b[0m\u001b[0;34m.\u001b[0m\u001b[0mfindall\u001b[0m\u001b[0;34m(\u001b[0m\u001b[0memcode\u001b[0m\u001b[0;34m,\u001b[0m\u001b[0mtext\u001b[0m\u001b[0;34m)\u001b[0m\u001b[0;34m)\u001b[0m\u001b[0;34m)\u001b[0m \u001b[0;32mfor\u001b[0m \u001b[0memcode\u001b[0m \u001b[0;32min\u001b[0m \u001b[0memj_codes\u001b[0m                      \u001b[0;32mif\u001b[0m \u001b[0;34m(\u001b[0m\u001b[0mlen\u001b[0m\u001b[0;34m(\u001b[0m\u001b[0mre\u001b[0m\u001b[0;34m.\u001b[0m\u001b[0mfindall\u001b[0m\u001b[0;34m(\u001b[0m\u001b[0memcode\u001b[0m\u001b[0;34m,\u001b[0m\u001b[0mtext\u001b[0m\u001b[0;34m)\u001b[0m\u001b[0;34m)\u001b[0m \u001b[0;34m>\u001b[0m \u001b[0;36m0\u001b[0m\u001b[0;34m)\u001b[0m\u001b[0;34m]\u001b[0m\u001b[0;34m)\u001b[0m\u001b[0;34m\u001b[0m\u001b[0m\n\u001b[0m\u001b[1;32m    147\u001b[0m \u001b[0;34m\u001b[0m\u001b[0m\n\u001b[1;32m    148\u001b[0m     \u001b[0;32mif\u001b[0m \u001b[0mlen\u001b[0m\u001b[0;34m(\u001b[0m\u001b[0memjText\u001b[0m\u001b[0;34m)\u001b[0m \u001b[0;34m>\u001b[0m\u001b[0;36m0\u001b[0m\u001b[0;34m:\u001b[0m\u001b[0;34m\u001b[0m\u001b[0m\n",
      "\u001b[0;32m/Users/attiladobi/anaconda/lib/python2.7/re.pyc\u001b[0m in \u001b[0;36mfindall\u001b[0;34m(pattern, string, flags)\u001b[0m\n\u001b[1;32m    179\u001b[0m \u001b[0;34m\u001b[0m\u001b[0m\n\u001b[1;32m    180\u001b[0m     Empty matches are included in the result.\"\"\"\n\u001b[0;32m--> 181\u001b[0;31m     \u001b[0;32mreturn\u001b[0m \u001b[0m_compile\u001b[0m\u001b[0;34m(\u001b[0m\u001b[0mpattern\u001b[0m\u001b[0;34m,\u001b[0m \u001b[0mflags\u001b[0m\u001b[0;34m)\u001b[0m\u001b[0;34m.\u001b[0m\u001b[0mfindall\u001b[0m\u001b[0;34m(\u001b[0m\u001b[0mstring\u001b[0m\u001b[0;34m)\u001b[0m\u001b[0;34m\u001b[0m\u001b[0m\n\u001b[0m\u001b[1;32m    182\u001b[0m \u001b[0;34m\u001b[0m\u001b[0m\n\u001b[1;32m    183\u001b[0m \u001b[0;32mif\u001b[0m \u001b[0msys\u001b[0m\u001b[0;34m.\u001b[0m\u001b[0mhexversion\u001b[0m \u001b[0;34m>=\u001b[0m \u001b[0;36m0x02020000\u001b[0m\u001b[0;34m:\u001b[0m\u001b[0;34m\u001b[0m\u001b[0m\n",
      "\u001b[0;32m/Users/attiladobi/anaconda/lib/python2.7/re.pyc\u001b[0m in \u001b[0;36m_compile\u001b[0;34m(*key)\u001b[0m\n\u001b[1;32m    247\u001b[0m         \u001b[0;32mraise\u001b[0m \u001b[0mTypeError\u001b[0m\u001b[0;34m,\u001b[0m \u001b[0;34m\"first argument must be string or compiled pattern\"\u001b[0m\u001b[0;34m\u001b[0m\u001b[0m\n\u001b[1;32m    248\u001b[0m     \u001b[0;32mtry\u001b[0m\u001b[0;34m:\u001b[0m\u001b[0;34m\u001b[0m\u001b[0m\n\u001b[0;32m--> 249\u001b[0;31m         \u001b[0mp\u001b[0m \u001b[0;34m=\u001b[0m \u001b[0msre_compile\u001b[0m\u001b[0;34m.\u001b[0m\u001b[0mcompile\u001b[0m\u001b[0;34m(\u001b[0m\u001b[0mpattern\u001b[0m\u001b[0;34m,\u001b[0m \u001b[0mflags\u001b[0m\u001b[0;34m)\u001b[0m\u001b[0;34m\u001b[0m\u001b[0m\n\u001b[0m\u001b[1;32m    250\u001b[0m     \u001b[0;32mexcept\u001b[0m \u001b[0merror\u001b[0m\u001b[0;34m,\u001b[0m \u001b[0mv\u001b[0m\u001b[0;34m:\u001b[0m\u001b[0;34m\u001b[0m\u001b[0m\n\u001b[1;32m    251\u001b[0m         \u001b[0;32mraise\u001b[0m \u001b[0merror\u001b[0m\u001b[0;34m,\u001b[0m \u001b[0mv\u001b[0m \u001b[0;31m# invalid expression\u001b[0m\u001b[0;34m\u001b[0m\u001b[0m\n",
      "\u001b[0;32m/Users/attiladobi/anaconda/lib/python2.7/sre_compile.pyc\u001b[0m in \u001b[0;36mcompile\u001b[0;34m(p, flags)\u001b[0m\n\u001b[1;32m    574\u001b[0m         \u001b[0mpattern\u001b[0m \u001b[0;34m=\u001b[0m \u001b[0mNone\u001b[0m\u001b[0;34m\u001b[0m\u001b[0m\n\u001b[1;32m    575\u001b[0m \u001b[0;34m\u001b[0m\u001b[0m\n\u001b[0;32m--> 576\u001b[0;31m     \u001b[0mcode\u001b[0m \u001b[0;34m=\u001b[0m \u001b[0m_code\u001b[0m\u001b[0;34m(\u001b[0m\u001b[0mp\u001b[0m\u001b[0;34m,\u001b[0m \u001b[0mflags\u001b[0m\u001b[0;34m)\u001b[0m\u001b[0;34m\u001b[0m\u001b[0m\n\u001b[0m\u001b[1;32m    577\u001b[0m \u001b[0;34m\u001b[0m\u001b[0m\n\u001b[1;32m    578\u001b[0m     \u001b[0;31m# print code\u001b[0m\u001b[0;34m\u001b[0m\u001b[0;34m\u001b[0m\u001b[0m\n",
      "\u001b[0;32m/Users/attiladobi/anaconda/lib/python2.7/sre_compile.pyc\u001b[0m in \u001b[0;36m_code\u001b[0;34m(p, flags)\u001b[0m\n\u001b[1;32m    556\u001b[0m \u001b[0;34m\u001b[0m\u001b[0m\n\u001b[1;32m    557\u001b[0m     \u001b[0;31m# compile info block\u001b[0m\u001b[0;34m\u001b[0m\u001b[0;34m\u001b[0m\u001b[0m\n\u001b[0;32m--> 558\u001b[0;31m     \u001b[0m_compile_info\u001b[0m\u001b[0;34m(\u001b[0m\u001b[0mcode\u001b[0m\u001b[0;34m,\u001b[0m \u001b[0mp\u001b[0m\u001b[0;34m,\u001b[0m \u001b[0mflags\u001b[0m\u001b[0;34m)\u001b[0m\u001b[0;34m\u001b[0m\u001b[0m\n\u001b[0m\u001b[1;32m    559\u001b[0m \u001b[0;34m\u001b[0m\u001b[0m\n\u001b[1;32m    560\u001b[0m     \u001b[0;31m# compile the pattern\u001b[0m\u001b[0;34m\u001b[0m\u001b[0;34m\u001b[0m\u001b[0m\n",
      "\u001b[0;32m/Users/attiladobi/anaconda/lib/python2.7/sre_compile.pyc\u001b[0m in \u001b[0;36m_compile_info\u001b[0;34m(code, pattern, flags)\u001b[0m\n\u001b[1;32m    530\u001b[0m         \u001b[0;32mfor\u001b[0m \u001b[0mi\u001b[0m \u001b[0;32min\u001b[0m \u001b[0mxrange\u001b[0m\u001b[0;34m(\u001b[0m\u001b[0mlen\u001b[0m\u001b[0;34m(\u001b[0m\u001b[0mprefix\u001b[0m\u001b[0;34m)\u001b[0m\u001b[0;34m)\u001b[0m\u001b[0;34m:\u001b[0m\u001b[0;34m\u001b[0m\u001b[0m\n\u001b[1;32m    531\u001b[0m             \u001b[0mtable\u001b[0m\u001b[0;34m[\u001b[0m\u001b[0mi\u001b[0m\u001b[0;34m+\u001b[0m\u001b[0;36m1\u001b[0m\u001b[0;34m]\u001b[0m \u001b[0;34m=\u001b[0m \u001b[0mtable\u001b[0m\u001b[0;34m[\u001b[0m\u001b[0mi\u001b[0m\u001b[0;34m]\u001b[0m\u001b[0;34m+\u001b[0m\u001b[0;36m1\u001b[0m\u001b[0;34m\u001b[0m\u001b[0m\n\u001b[0;32m--> 532\u001b[0;31m             \u001b[0;32mwhile\u001b[0m \u001b[0mtable\u001b[0m\u001b[0;34m[\u001b[0m\u001b[0mi\u001b[0m\u001b[0;34m+\u001b[0m\u001b[0;36m1\u001b[0m\u001b[0;34m]\u001b[0m \u001b[0;34m>\u001b[0m \u001b[0;36m0\u001b[0m \u001b[0;32mand\u001b[0m \u001b[0mprefix\u001b[0m\u001b[0;34m[\u001b[0m\u001b[0mi\u001b[0m\u001b[0;34m]\u001b[0m \u001b[0;34m!=\u001b[0m \u001b[0mprefix\u001b[0m\u001b[0;34m[\u001b[0m\u001b[0mtable\u001b[0m\u001b[0;34m[\u001b[0m\u001b[0mi\u001b[0m\u001b[0;34m+\u001b[0m\u001b[0;36m1\u001b[0m\u001b[0;34m]\u001b[0m\u001b[0;34m-\u001b[0m\u001b[0;36m1\u001b[0m\u001b[0;34m]\u001b[0m\u001b[0;34m:\u001b[0m\u001b[0;34m\u001b[0m\u001b[0m\n\u001b[0m\u001b[1;32m    533\u001b[0m                 \u001b[0mtable\u001b[0m\u001b[0;34m[\u001b[0m\u001b[0mi\u001b[0m\u001b[0;34m+\u001b[0m\u001b[0;36m1\u001b[0m\u001b[0;34m]\u001b[0m \u001b[0;34m=\u001b[0m \u001b[0mtable\u001b[0m\u001b[0;34m[\u001b[0m\u001b[0mtable\u001b[0m\u001b[0;34m[\u001b[0m\u001b[0mi\u001b[0m\u001b[0;34m+\u001b[0m\u001b[0;36m1\u001b[0m\u001b[0;34m]\u001b[0m\u001b[0;34m-\u001b[0m\u001b[0;36m1\u001b[0m\u001b[0;34m]\u001b[0m\u001b[0;34m+\u001b[0m\u001b[0;36m1\u001b[0m\u001b[0;34m\u001b[0m\u001b[0m\n\u001b[1;32m    534\u001b[0m         \u001b[0mcode\u001b[0m\u001b[0;34m.\u001b[0m\u001b[0mextend\u001b[0m\u001b[0;34m(\u001b[0m\u001b[0mtable\u001b[0m\u001b[0;34m[\u001b[0m\u001b[0;36m1\u001b[0m\u001b[0;34m:\u001b[0m\u001b[0;34m]\u001b[0m\u001b[0;34m)\u001b[0m \u001b[0;31m# don't store first entry\u001b[0m\u001b[0;34m\u001b[0m\u001b[0m\n",
      "\u001b[0;31mKeyboardInterrupt\u001b[0m: "
     ]
    }
   ],
   "source": [
    "#analyze the emojis\n",
    "#find the last id analyzed in the emoji_tweet table\n",
    "cur.execute(\"SELECT tweet_id from emoji_tweet order by tweet_id DESC limit 1;\")\n",
    "try:\n",
    "    last_analyzed_id=cur.fetchone()[0]\n",
    "except TypeError:\n",
    "    last_analyzed_id=0\n",
    "    \n",
    "for ID in range(last_analyzed_id,100000000):\n",
    "    cur.execute(\"SELECT * from tweet_dump where id = {:d};\".format(ID+1))\n",
    "    SQL_result=cur.fetchone()\n",
    "    analyze_tweet_emojis(SQL_result)\n",
    "    \n",
    "    "
   ]
  },
  {
   "cell_type": "code",
   "execution_count": 62,
   "metadata": {
    "collapsed": false
   },
   "outputs": [],
   "source": [
    "_u = lambda t: t.decode('UTF-8', 'replace') if isinstance(t, str) else t"
   ]
  },
  {
   "cell_type": "code",
   "execution_count": 73,
   "metadata": {
    "collapsed": false
   },
   "outputs": [
    {
     "data": {
      "text/plain": [
       "'\\xf0\\x9f\\x8d\\x9f'"
      ]
     },
     "execution_count": 73,
     "metadata": {},
     "output_type": "execute_result"
    }
   ],
   "source": [
    "word=_u(word)\n",
    "word.encode('utf-8')"
   ]
  },
  {
   "cell_type": "code",
   "execution_count": 70,
   "metadata": {
    "collapsed": false
   },
   "outputs": [],
   "source": [
    "word=\"🍟\"\n",
    "word=word.lower()\n",
    "word=word.replace(\"'\",\"''\")\n",
    "cur.execute(\"SELECT T.Label,SUM(T.Freq) as TFreq From (SELECT unnest(emojiLabel) as Label, unnest(emojiCount) as Freq FROM emoji_tweet WHERE (LOWER(text) LIKE '%🍟%')) as T group by T.Label order by TFreq DESC limit 15;\".format(word))"
   ]
  },
  {
   "cell_type": "markdown",
   "metadata": {},
   "source": [
    "<h1> Search SQL DB </h1>"
   ]
  },
  {
   "cell_type": "code",
   "execution_count": 49,
   "metadata": {
    "collapsed": false
   },
   "outputs": [],
   "source": [
    "cur.execute(\"SELECT emojiLabel,emojiCount FROM emoji_tweet where LOWER(text) LIKE '%🍟%';\")\n",
    "result=cur.fetchall()\n",
    "#for vals in cur.fetchall():\n",
    "#    for val in vals:\n",
    "#        print(val)"
   ]
  },
  {
   "cell_type": "code",
   "execution_count": 66,
   "metadata": {
    "collapsed": false
   },
   "outputs": [
    {
     "data": {
      "text/plain": [
       "datetime.timedelta(0, 3, 811913)"
      ]
     },
     "execution_count": 66,
     "metadata": {},
     "output_type": "execute_result"
    }
   ],
   "source": [
    "start=datetime.datetime.utcnow()\n",
    "cur.execute(\"SELECT emojiLabel,emojiCount FROM emoji_tweet where LOWER(text) LIKE '% %';\")\n",
    "result=cur.fetchall()\n",
    "\n",
    "S=collections.defaultdict(lambda:0)\n",
    "for tup in result:\n",
    "    for key,val in zip(tup[0],tup[1]):\n",
    "        S[key]+=val\n",
    "datetime.datetime.utcnow()-start"
   ]
  },
  {
   "cell_type": "code",
   "execution_count": 24,
   "metadata": {
    "collapsed": false
   },
   "outputs": [
    {
     "data": {
      "text/plain": [
       "[('\\xf0\\x9f\\x87\\xba\\xf0\\x9f\\x87\\xb8', 591L),\n",
       " ('\\xf0\\x9f\\x92\\x80', 200L),\n",
       " ('\\xf0\\x9f\\x9a\\xa8', 146L),\n",
       " ('\\xf0\\x9f\\x94\\xb4', 115L),\n",
       " ('\\xe2\\x80\\xbc\\xef\\xb8\\x8f', 113L),\n",
       " ('\\xf0\\x9f\\x9a\\x82', 100L),\n",
       " ('\\xf0\\x9f\\x96\\x95', 100L),\n",
       " ('\\xf0\\x9f\\x94\\xa5', 94L),\n",
       " ('\\xf0\\x9f\\x96\\x95\\xf0\\x9f\\x8f\\xbd', 91L),\n",
       " ('\\xe2\\x9c\\x94\\xef\\xb8\\x8f', 80L),\n",
       " ('\\xf0\\x9f\\x8c\\x80', 56L),\n",
       " ('\\xf0\\x9f\\x99\\x8f', 54L),\n",
       " ('\\xf0\\x9f\\x91\\x8d', 52L),\n",
       " ('\\xf0\\x9f\\x94\\xb9', 48L),\n",
       " ('\\xf0\\x9f\\x94\\xb5', 45L)]"
      ]
     },
     "execution_count": 24,
     "metadata": {},
     "output_type": "execute_result"
    }
   ],
   "source": [
    "cur.execute(\"SELECT T.Label,SUM(T.Freq) as TFreq From (SELECT unnest(emojiLabel) as Label, unnest(emojiCount) as Freq, unnest(emojiLabelFaceFilter) as FF FROM emoji_tweet WHERE (LOWER(text) LIKE '%{:s}%')) as T WHERE(T.FF is True) group by T.Label order by TFreq DESC limit 15;\".format(\"Trump\".lower()))\n",
    "result=cur.fetchall()\n",
    "result"
   ]
  },
  {
   "cell_type": "code",
   "execution_count": 30,
   "metadata": {
    "collapsed": false
   },
   "outputs": [
    {
     "data": {
      "text/plain": [
       "[591L,\n",
       " 200L,\n",
       " 146L,\n",
       " 115L,\n",
       " 113L,\n",
       " 100L,\n",
       " 100L,\n",
       " 94L,\n",
       " 91L,\n",
       " 80L,\n",
       " 56L,\n",
       " 54L,\n",
       " 52L,\n",
       " 48L,\n",
       " 45L]"
      ]
     },
     "execution_count": 30,
     "metadata": {},
     "output_type": "execute_result"
    }
   ],
   "source": [
    "xdata=[val[0] for val in result]\n",
    "ydata=[val[1] for val in result]"
   ]
  },
  {
   "cell_type": "code",
   "execution_count": 44,
   "metadata": {
    "collapsed": true
   },
   "outputs": [],
   "source": [
    "cur.execute(\"SELECT text from emoji_tweet WHERE (emojiCountSum > 30) order by random() limit 40;\")"
   ]
  },
  {
   "cell_type": "code",
   "execution_count": 45,
   "metadata": {
    "collapsed": false
   },
   "outputs": [],
   "source": [
    "result=[text[0] for text in cur.fetchall()]"
   ]
  },
  {
   "cell_type": "markdown",
   "metadata": {},
   "source": [
    "<h1> Do the same in postgrSQL in 1/2 the time </h1>"
   ]
  },
  {
   "cell_type": "code",
   "execution_count": null,
   "metadata": {
    "collapsed": true
   },
   "outputs": [],
   "source": [
    "#most freq emoji, count all:\n",
    "\"SELECT T.Label,SUM(T.Freq) as TFreq From (SELECT unnest(emojiLabel) as Label, unnest(emojiCount) as Freq FROM emoji_tweet WHERE (LOWER(text) LIKE '% %')) as T group by T.Label order by TFreq DESC limit 15;\"\n",
    "#with the face filter:\n",
    "\"SELECT T.Label,SUM(T.Freq) as TFreq From (SELECT unnest(emojiLabel) as Label, unnest(emojiCount) as Freq, unnest(emojiLabelFaceFilter) as FF FROM emoji_tweet WHERE (LOWER(text) LIKE '% %')) as T WHERE(T.FF is True) group by T.Label order by TFreq DESC limit 15;\"\n",
    "\n",
    "#select emoji str\n",
    "\"SELECT T.Label,SUM(T.Freq) as TFreq From (SELECT unnest(emojistrLabel) as Label, unnest(emojistrCount) as Freq FROM emoji_tweet WHERE (LOWER(text) LIKE '% %')) as T group by T.Label order by TFreq DESC limit 15;\"\n",
    "#with FaceFilter on emojiLabel:\n",
    "\"SELECT T.Label,SUM(T.Freq) as TFreq From (SELECT unnest(emojistrLabel) as Label, unnest(emojistrCount) as Freq, unnest(emojiLabelFaceFilter) as FF FROM emoji_tweet WHERE (LOWER(text) LIKE '% %')) as T WHERE(FF is True) group by T.Label order by TFreq DESC limit 15;\"\n",
    "#cut all tweets with a face: #the cut happens after groupy so it's not quite accurate\n",
    "\"SELECT T.Label,SUM(T.Freq) as TFreq,bool_and(T.FF) as prodFF From (SELECT unnest(emojistrLabel) as Label, unnest(emojistrCount) as Freq, unnest(emojiLabelFaceFilter) as FF FROM emoji_tweet WHERE (LOWER(text) LIKE '% %')) as T group by T.Label  HAVING(bool_and(FF) is True) order by TFreq DESC limit 15;\"\n",
    "#cut all tweets with face... should be faster, using: NOT (emojiLabelFaceFilter @> ARRAY[False])\n",
    "\"SELECT T.Label,SUM(T.Freq) as TFreq From (SELECT unnest(emojistrLabel) as Label, unnest(emojistrCount) as Freq FROM emoji_tweet WHERE (emojistrTypes>0 AND LOWER(text) LIKE '% %' and NOT(emojiLabelFaceFilter @> ARRAY[False]))) as T group by T.Label order by TFreq DESC limit 15;\"\n",
    "\n",
    "\n",
    "#select emojiPattern\n",
    "\"SELECT T.Label,SUM(T.Freq) as TFreq From (SELECT unnest(emojiPatternLabel) as Label, unnest(emojiPatternCount) as Freq FROM emoji_tweet WHERE (LOWER(text) LIKE '% %')) as T group by T.Label order by TFreq DESC limit 15;\"\n",
    "\n",
    "#Select ALL\n",
    "\"SELECT T.Label,SUM(T.Freq) as TFreq From (SELECT unnest(array_cat(emojiLabel,array_cat(emojistrLabel,emojiPatternLabel))) as Label, unnest(array_cat(emojiCount,array_cat(emojistrCount,emojiPatternCount))) as Freq FROM emoji_tweet WHERE (LOWER(text) LIKE '%dog%')) as T group by T.Label order by TFreq DESC limit 15;\""
   ]
  },
  {
   "cell_type": "markdown",
   "metadata": {},
   "source": [
    "<h1> Search for most freqent emojiLabel or emoji string Label per tweet</h1>"
   ]
  },
  {
   "cell_type": "code",
   "execution_count": null,
   "metadata": {
    "collapsed": true
   },
   "outputs": [],
   "source": [
    "#emojiLabel\n",
    "\"SELECT emojistrLabel[1],SUM(emojiStrCount[1]) as Freq FROM emoji_tweet where LOWER(text) LIKE '% %' group by emojistrLabel[1] order by Freq DESC limit 15;\"\n",
    "#select emojiLabel with face filter\n",
    "\"SELECT emojiLabel[1],SUM(emojiCount[1]) as Freq FROM emoji_tweet a where( LOWER(text) LIKE '% %' and a.emojiLabelFaceFilter[1] is true) group by emojiLabel[1] order by Freq DESC limit 15;\"\n",
    "\n",
    "#emojiStrLabel\n",
    "\"SELECT emojistrLabel[1] as label,SUM(emojiStrCount[1]) as Freq FROM emoji_tweet WHERE(emojiStrTypes>0 AND LOWER(text) LIKE '%trump%') group by label order by Freq DESC limit 15;\"\n",
    "#with face filter (on emojiLabel) ... might not be complete\n",
    "\"SELECT emojistrLabel[1],SUM(emojistrCount[1]) as Freq FROM emoji_tweet a WHERE(emojiStrCount[1]>0 AND LOWER(text) LIKE '% %' and a.emojiLabelFaceFilter[1] is true) group by emojistrLabel[1] order by Freq DESC limit 15;\"\n",
    "\n",
    "#emojiPattern:\n",
    "\"SELECT emojiPatternLabel[1],SUM(emojiPatternCount[1]) as Freq FROM emoji_tweet a where( LOWER(text) LIKE '% %') group by emojiPatternLabel[1] order by Freq DESC limit 15;\"\n",
    "#with face filter\n",
    "\"SELECT emojiPatternLabel[1],SUM(emojiPatternCount[1]) as Freq FROM emoji_tweet a where( LOWER(text) LIKE '% %' and a.emojiLabelFaceFilter[1] is true) group by emojiPatternLabel[1] order by Freq DESC limit 15;\""
   ]
  },
  {
   "cell_type": "code",
   "execution_count": null,
   "metadata": {
    "collapsed": true
   },
   "outputs": [],
   "source": [
    "🏼🏻🏾🏽🏿"
   ]
  },
  {
   "cell_type": "markdown",
   "metadata": {},
   "source": [
    "<h1> Search for skin tone info </h1>"
   ]
  },
  {
   "cell_type": "code",
   "execution_count": null,
   "metadata": {
    "collapsed": true
   },
   "outputs": [],
   "source": [
    "\"SELECT T.Label,SUM(T.Freq) as TFreq From (SELECT unnest(emojiSkinLabel) as Label, unnest(emojiSkinCount) as Freq FROM emoji_tweet WHERE (emojiSkinCountSum>0 AND LOWER(text) LIKE '%beach%')) as T group by T.Label order by TFreq DESC;\""
   ]
  },
  {
   "cell_type": "markdown",
   "metadata": {
    "collapsed": true
   },
   "source": [
    "<h1> Search surounding text. Search in surrounding sentence </h1>"
   ]
  },
  {
   "cell_type": "code",
   "execution_count": null,
   "metadata": {
    "collapsed": true
   },
   "outputs": [],
   "source": [
    "\"SELECT label,SUM(C) as Freq  from (SELECT unnest(emojiLabel) as label, unnest(emojiCount) as C, unnest(prev_sentence) as prev, unnest(next_sentence) as next FROM emoji_tweet) ST WHERE (LOWER(prev) LIKE '%turtle%' OR LOWER(next) LIKE '%turle%') group by label order by Freq DESC limit 10;\"\n",
    "#use emojiLabel[1] for most freqent search"
   ]
  },
  {
   "cell_type": "code",
   "execution_count": 88,
   "metadata": {
    "collapsed": false
   },
   "outputs": [],
   "source": [
    "cur.execute(\"SELECT T.Label,SUM(T.Freq) as TFreq From (SELECT unnest(ARRAY[emojiLabel[1],emojistrLabel[1],emojiPatternLabel[1]]) as Label, unnest(ARRAY[emojiCount[1],emojistrCount[1],emojiPatternCount[1]]) as Freq FROM emoji_tweet WHERE (LOWER(text) LIKE '%hey%')) as T group by T.Label order by TFreq DESC limit 15;\")"
   ]
  },
  {
   "cell_type": "code",
   "execution_count": 89,
   "metadata": {
    "collapsed": false
   },
   "outputs": [
    {
     "data": {
      "text/plain": [
       "[(None, None),\n",
       " ('\\xf0\\x9f\\x98\\x82', 2480L),\n",
       " ('\\xf0\\x9f\\x98\\xad', 737L),\n",
       " ('\\xf0\\x9f\\x98\\x8a', 576L),\n",
       " ('\\xf0\\x9f\\x92\\x80', 411L),\n",
       " ('\\xf0\\x9f\\x98\\x82\\xf0\\x9f\\x98\\x82', 402L),\n",
       " ('\\xf0\\x9f\\x98\\x8d', 393L),\n",
       " ('\\xf0\\x9f\\x99\\x84', 393L),\n",
       " ('\\xf0\\x9f\\x98\\x82\\xf0\\x9f\\x98\\x82\\xf0\\x9f\\x98\\x82', 337L),\n",
       " ('\\xf0\\x9f\\x92\\xaf', 273L),\n",
       " ('\\xe2\\x9d\\xa4\\xef\\xb8\\x8f', 268L),\n",
       " ('\\xe2\\x9c\\xa8', 249L),\n",
       " ('\\xf0\\x9f\\x92\\x95', 222L),\n",
       " ('\\xf0\\x9f\\xa4\\x94', 220L),\n",
       " ('\\xf0\\x9f\\x98\\xa9', 217L)]"
      ]
     },
     "execution_count": 89,
     "metadata": {},
     "output_type": "execute_result"
    }
   ],
   "source": [
    "aa=cur.fetchall()\n",
    "aa"
   ]
  },
  {
   "cell_type": "code",
   "execution_count": 107,
   "metadata": {
    "collapsed": false
   },
   "outputs": [],
   "source": [
    "cur.execute(\"SELECT tweet_id from has_emoji WHERE MOD(tweet_id,2)=%s order by tweet_id DESC limit 1;\",[0])"
   ]
  },
  {
   "cell_type": "code",
   "execution_count": 108,
   "metadata": {
    "collapsed": false
   },
   "outputs": [
    {
     "data": {
      "text/plain": [
       "(3660932,)"
      ]
     },
     "execution_count": 108,
     "metadata": {},
     "output_type": "execute_result"
    }
   ],
   "source": [
    "cur.fetchone()"
   ]
  },
  {
   "cell_type": "code",
   "execution_count": 607,
   "metadata": {
    "collapsed": false
   },
   "outputs": [
    {
     "data": {
      "text/plain": [
       "('Beyond grateful \\xf0\\x9f\\x98\\xa9',)"
      ]
     },
     "execution_count": 607,
     "metadata": {},
     "output_type": "execute_result"
    }
   ],
   "source": [
    "cur.execute(\"SELECT text FROM emoji_tweet;\")\n",
    "cur.fetchone()"
   ]
  },
  {
   "cell_type": "code",
   "execution_count": 750,
   "metadata": {
    "collapsed": false,
    "scrolled": true
   },
   "outputs": [],
   "source": [
    "original_text=u'@augusto_rossi1 👋 😂😂😂 😂😂kk 🇺🇸 kkk😍 k 🖐🖐 🖐 😍paliaço ✋🏾✋🇺🇸💫 m \\n @augusto_rossi1 😂😂😂 😂😂kkkkk😍 k😍paliaço ✋🏾🇺🇸💫'"
   ]
  },
  {
   "cell_type": "code",
   "execution_count": 497,
   "metadata": {
    "collapsed": true
   },
   "outputs": [],
   "source": [
    "original_text=u'😂😂😂 😍😍😍😍😍😍'"
   ]
  },
  {
   "cell_type": "code",
   "execution_count": 80,
   "metadata": {
    "collapsed": true
   },
   "outputs": [],
   "source": [
    "original_text='trickfollowfas: Retweet para ganhar seguidores, siga quem retweetou e siga de volta quem te seguiu\\\n",
    "@JustinMarkell I can only imagine. https://t.co/aQ6ziG7tGp trickfollowfas: Retweet para ganhar seguidores, siga quem retweetou e siga de volta quem te seguiu\\\n",
    "@JustinMarkell I can only imagine. https://t.co/aQ6ziG7tGp'"
   ]
  },
  {
   "cell_type": "code",
   "execution_count": 503,
   "metadata": {
    "collapsed": false
   },
   "outputs": [
    {
     "name": "stdout",
     "output_type": "stream",
     "text": [
      "@augusto_rossi1 😂😂😂 😂😂 kkkkk 😍 k 😍 paliaço ✋🏾✋🇺🇸💫 m\n",
      "@augusto_rossi1 😂😂😂 😂😂 kkkkk 😍 k 😍 paliaço ✋🏾🇺🇸💫\n"
     ]
    }
   ],
   "source": [
    "print(emoji_split(original_text))"
   ]
  },
  {
   "cell_type": "code",
   "execution_count": 51,
   "metadata": {
    "collapsed": false
   },
   "outputs": [
    {
     "data": {
      "text/plain": [
       "datetime.timedelta(0, 0, 93720)"
      ]
     },
     "execution_count": 51,
     "metadata": {},
     "output_type": "execute_result"
    }
   ],
   "source": [
    "start=datetime.datetime.utcnow()\n",
    "text=emoji_split(original_text)\n",
    "#emjText=np.array([(emcode, len(re.findall(emcode,text))) for emcode in emj_codes])\n",
    "datetime.datetime.utcnow()-start\n",
    "\n"
   ]
  },
  {
   "cell_type": "code",
   "execution_count": 278,
   "metadata": {
    "collapsed": false
   },
   "outputs": [
    {
     "data": {
      "text/plain": [
       "[u' \\u270b ',\n",
       " u' \\u270b\\U0001f3fe ',\n",
       " u' \\U0001f1fa\\U0001f1f8 ',\n",
       " u' \\U0001f4ab ',\n",
       " u' \\U0001f602 ',\n",
       " u' \\U0001f60d ']"
      ]
     },
     "execution_count": 278,
     "metadata": {},
     "output_type": "execute_result"
    }
   ],
   "source": [
    "[' '+label+' ' for label in emojiLabel]"
   ]
  },
  {
   "cell_type": "code",
   "execution_count": 275,
   "metadata": {
    "collapsed": false
   },
   "outputs": [
    {
     "data": {
      "text/plain": [
       "u' \\u270b \\U0001f1fa\\U0001f1f8 \\U0001f4ab m @augusto_rossi1 \\U0001f602 \\U0001f602 \\U0001f602 \\U0001f602 \\U0001f602 kkkkk \\U0001f60d k \\U0001f60d palia\\xe7o \\u270b\\U0001f3fe \\U0001f1fa\\U0001f1f8 \\U0001f4ab'"
      ]
     },
     "execution_count": 275,
     "metadata": {},
     "output_type": "execute_result"
    }
   ],
   "source": [
    "text[text.index(u' \\u270b '):]"
   ]
  },
  {
   "cell_type": "code",
   "execution_count": 91,
   "metadata": {
    "collapsed": false
   },
   "outputs": [
    {
     "data": {
      "text/plain": [
       "datetime.timedelta(0, 0, 81217)"
      ]
     },
     "execution_count": 91,
     "metadata": {},
     "output_type": "execute_result"
    }
   ],
   "source": [
    "#function to quickly scan for has emoji\n",
    "start=datetime.datetime.utcnow()\n",
    "has_emoji=False\n",
    "for emcode in emj_codes:\n",
    "    if (len(re.findall(emcode,original_text))) > 0:\n",
    "        has_emoji=True\n",
    "        break\n",
    "datetime.datetime.utcnow()-start"
   ]
  },
  {
   "cell_type": "code",
   "execution_count": 235,
   "metadata": {
    "collapsed": false,
    "scrolled": true
   },
   "outputs": [
    {
     "name": "stdout",
     "output_type": "stream",
     "text": [
      "@augusto_rossi1 😂😂😂 😂😂kkkkk😍 k😍paliaço ✋🏾✋🇺🇸💫 m @augusto_rossi1 😂😂😂 😂😂kkkkk😍 k😍paliaço ✋🏾🇺🇸💫\n"
     ]
    }
   ],
   "source": [
    "print(original_text)"
   ]
  },
  {
   "cell_type": "code",
   "execution_count": 684,
   "metadata": {
    "collapsed": false
   },
   "outputs": [
    {
     "data": {
      "text/plain": [
       "datetime.timedelta(0, 0, 191877)"
      ]
     },
     "execution_count": 684,
     "metadata": {},
     "output_type": "execute_result"
    }
   ],
   "source": [
    "start=datetime.datetime.utcnow()\n",
    "\n",
    "has_emoji=False\n",
    "text=emoji_split_all(original_text)\n",
    "emojiLabel=np.intersect1d(text.split(),emj_codes,assume_unique=False)\n",
    "datetime.datetime.utcnow()-start"
   ]
  },
  {
   "cell_type": "code",
   "execution_count": 685,
   "metadata": {
    "collapsed": false
   },
   "outputs": [
    {
     "name": "stdout",
     "output_type": "stream",
     "text": [
      "✋\n",
      "✋🏾\n",
      "🇺🇸\n",
      "💫\n",
      "😂\n",
      "😍\n"
     ]
    }
   ],
   "source": [
    "for val in emojiLabel:\n",
    "    print val"
   ]
  },
  {
   "cell_type": "code",
   "execution_count": 447,
   "metadata": {
    "collapsed": false
   },
   "outputs": [
    {
     "data": {
      "text/plain": [
       "[]"
      ]
     },
     "execution_count": 447,
     "metadata": {},
     "output_type": "execute_result"
    }
   ],
   "source": [
    "a=u'😂'\n",
    "len(a.split())\n",
    "re.findall(\"[a-z]\",a) "
   ]
  },
  {
   "cell_type": "code",
   "execution_count": 257,
   "metadata": {
    "collapsed": false
   },
   "outputs": [
    {
     "data": {
      "text/plain": [
       "4"
      ]
     },
     "execution_count": 257,
     "metadata": {},
     "output_type": "execute_result"
    }
   ],
   "source": [
    "text.split().count(emcode)# count occurences in the set"
   ]
  },
  {
   "cell_type": "code",
   "execution_count": 751,
   "metadata": {
    "collapsed": false
   },
   "outputs": [
    {
     "data": {
      "text/plain": [
       "datetime.timedelta(0, 0, 184228)"
      ]
     },
     "execution_count": 751,
     "metadata": {},
     "output_type": "execute_result"
    }
   ],
   "source": [
    "start=datetime.datetime.utcnow()\n",
    "text=emoji_split_all(original_text) #split text, then find labels\n",
    "emojiLabel=np.intersect1d(text.split(),emj_codes,assume_unique=False)\n",
    "emjText=np.array([(emcode, text.split().count(emcode)) for emcode in emojiLabel\\\n",
    "        if text.split().count(emcode)>0])\n",
    "datetime.datetime.utcnow()-start"
   ]
  },
  {
   "cell_type": "code",
   "execution_count": 417,
   "metadata": {
    "collapsed": false
   },
   "outputs": [
    {
     "data": {
      "text/plain": [
       "datetime.timedelta(0, 0, 122423)"
      ]
     },
     "execution_count": 417,
     "metadata": {},
     "output_type": "execute_result"
    }
   ],
   "source": [
    "#function used currently (now replaced) this double counts emojis that can have skin tones\n",
    "start=datetime.datetime.utcnow()\n",
    "text=emoji_split(original_text)\n",
    "emjText=np.array([(emcode, len(re.findall(emcode,text))) for emcode in emj_codes\\\n",
    "        if re.findall(emcode,text)!=[]])\n",
    "datetime.datetime.utcnow()-start"
   ]
  },
  {
   "cell_type": "code",
   "execution_count": 756,
   "metadata": {
    "collapsed": false
   },
   "outputs": [
    {
     "name": "stdout",
     "output_type": "stream",
     "text": [
      "@augusto_rossi1 👋 😂😂😂 😂😂kk 🇺🇸 kkk😍 k 🖐🖐 🖐 😍paliaço ✋🏾✋🇺🇸💫 m \n",
      " @augusto_rossi1 😂😂😂 😂😂kkkkk😍 k😍paliaço ✋🏾🇺🇸💫\n"
     ]
    }
   ],
   "source": [
    "print(original_text)"
   ]
  },
  {
   "cell_type": "code",
   "execution_count": 300,
   "metadata": {
    "collapsed": false
   },
   "outputs": [
    {
     "data": {
      "text/plain": [
       "array([u'\\U0001f60d', u'kkkkk', u'palia\\xe7o',\n",
       "       u'@augusto_rossi1 \\U0001f602 \\U0001f602 \\U0001f602 \\U0001f602 \\U0001f602 kkkkk',\n",
       "       u'k \\U0001f60d palia\\xe7o \\u270b\\U0001f3fe \\u270b \\U0001f1fa\\U0001f1f8 \\U0001f4ab'], \n",
       "      dtype='<U36')"
      ]
     },
     "execution_count": 300,
     "metadata": {},
     "output_type": "execute_result"
    }
   ],
   "source": [
    "surroundingText(text,emojiLabel)[-1]"
   ]
  },
  {
   "cell_type": "code",
   "execution_count": 471,
   "metadata": {
    "collapsed": false
   },
   "outputs": [
    {
     "data": {
      "text/plain": [
       "array([0, 1, 2, 3, 5, 4])"
      ]
     },
     "execution_count": 471,
     "metadata": {},
     "output_type": "execute_result"
    }
   ],
   "source": [
    "np.argsort(emjText[:,1].astype(int))"
   ]
  },
  {
   "cell_type": "code",
   "execution_count": 472,
   "metadata": {
    "collapsed": false
   },
   "outputs": [
    {
     "data": {
      "text/plain": [
       "array([u'\\U0001f602', u'\\U0001f60d', u'\\U0001f4ab',\n",
       "       u'\\U0001f1fa\\U0001f1f8', u'\\u270b\\U0001f3fe', u'\\u270b'], \n",
       "      dtype='<U4')"
      ]
     },
     "execution_count": 472,
     "metadata": {},
     "output_type": "execute_result"
    }
   ],
   "source": [
    "emjText[np.argsort(emjText[:, 1].astype(int))[::-1]][:,0] #sort by freqency"
   ]
  },
  {
   "cell_type": "code",
   "execution_count": 508,
   "metadata": {
    "collapsed": false
   },
   "outputs": [
    {
     "data": {
      "text/plain": [
       "array([u'\\U0001f602', u'\\U0001f60d', u'\\U0001f4ab',\n",
       "       u'\\U0001f1fa\\U0001f1f8', u'\\u270b\\U0001f3fe', u'\\u270b'], \n",
       "      dtype='<U4')"
      ]
     },
     "execution_count": 508,
     "metadata": {},
     "output_type": "execute_result"
    }
   ],
   "source": [
    "emojiLabel=emjText[np.argsort(emjText[:, 1].astype(int))[::-1]][:,0]\n",
    "emojiLabel"
   ]
  },
  {
   "cell_type": "code",
   "execution_count": 753,
   "metadata": {
    "collapsed": false
   },
   "outputs": [],
   "source": [
    "#emoji skin\n",
    "emjText_skin=[(emcode, len(re.findall(emcode,text))) for emcode in emj_codes_skin\\\n",
    "                       if (re.findall(emcode,text) !=[])]\n",
    "emjText_skinYellow=np.array([(emcode, text.split().count(emcode)) for emcode in can_have_skin\\\n",
    "        if text.split().count(emcode)>0])\n",
    "#note: findall will look for the skin codes in the double unicode singlets. text.split().count will explicitly look for emojois that could have had a skin tone but didn't\n",
    "#emjText_skin=np.vstack((emjText_skin,np.array([u'🖐',sum(emjText_skinYellow[:,1].astype(int))])))"
   ]
  },
  {
   "cell_type": "code",
   "execution_count": 754,
   "metadata": {
    "collapsed": false
   },
   "outputs": [],
   "source": [
    "#add the count with yellow skin tones\n",
    "emjText_skin.append((u'\\U0001f590',sum(emjText_skinYellow[:,1].astype(int))))"
   ]
  },
  {
   "cell_type": "code",
   "execution_count": 755,
   "metadata": {
    "collapsed": false
   },
   "outputs": [
    {
     "data": {
      "text/plain": [
       "[(u'\\U0001f3fe', 2), (u'\\U0001f590', 5)]"
      ]
     },
     "execution_count": 755,
     "metadata": {},
     "output_type": "execute_result"
    }
   ],
   "source": [
    "emjText_skin"
   ]
  },
  {
   "cell_type": "code",
   "execution_count": 713,
   "metadata": {
    "collapsed": false
   },
   "outputs": [
    {
     "data": {
      "text/plain": [
       "datetime.timedelta(0, 0, 236742)"
      ]
     },
     "execution_count": 713,
     "metadata": {},
     "output_type": "execute_result"
    }
   ],
   "source": [
    "#function used currently for str\n",
    "start=datetime.datetime.utcnow()\n",
    "text=emoji_split(original_text)\n",
    "emj_str = np.array([(emj_str, int(len(emj_str)/2)) for emj_str in sum([''.join([word if word in emj_codes+[' '] \\\n",
    "        else 'T' for word in emoji_split_line(line).split()]).rsplit('T') for line in text.split('\\n')],[]) if emj_str != ''])\n",
    "datetime.datetime.utcnow()-start  "
   ]
  },
  {
   "cell_type": "code",
   "execution_count": 495,
   "metadata": {
    "collapsed": false
   },
   "outputs": [
    {
     "data": {
      "text/plain": [
       "array([[u'\\U0001f602\\U0001f602\\U0001f602', u'3'],\n",
       "       [u'\\U0001f602\\U0001f602', u'2'],\n",
       "       [u'\\U0001f60d', u'1'],\n",
       "       [u'\\U0001f60d', u'1'],\n",
       "       [u'\\u270b\\U0001f3fe\\u270b\\U0001f1fa\\U0001f1f8\\U0001f4ab', u'5'],\n",
       "       [u'\\U0001f602\\U0001f602\\U0001f602', u'3'],\n",
       "       [u'\\U0001f602\\U0001f602', u'2'],\n",
       "       [u'\\U0001f60d', u'1'],\n",
       "       [u'\\U0001f60d', u'1'],\n",
       "       [u'\\u270b\\U0001f3fe\\U0001f1fa\\U0001f1f8\\U0001f4ab', u'4']], \n",
       "      dtype='<U10')"
      ]
     },
     "execution_count": 495,
     "metadata": {},
     "output_type": "execute_result"
    }
   ],
   "source": [
    "emj_str #len does not equal 1. And if 2, not in emcodes"
   ]
  },
  {
   "cell_type": "code",
   "execution_count": 723,
   "metadata": {
    "collapsed": false
   },
   "outputs": [
    {
     "data": {
      "text/plain": [
       "datetime.timedelta(0, 0, 144353)"
      ]
     },
     "execution_count": 723,
     "metadata": {},
     "output_type": "execute_result"
    }
   ],
   "source": [
    "#original_text='nope'\n",
    "start=datetime.datetime.utcnow()\n",
    "text=emoji_split(original_text)\n",
    "emj_str = np.array([(emj_str, int(len(emj_str)/2)) for emj_str in sum([''.join([word if word in emojiLabel.tolist()+[' '] \\\n",
    "        else 'T' for word in emoji_split_line(line).split()]).rsplit('T') for line in text.split('\\n')],[]) if emj_str != ''])\n",
    "datetime.datetime.utcnow()-start\n",
    "\n"
   ]
  },
  {
   "cell_type": "code",
   "execution_count": 726,
   "metadata": {
    "collapsed": false
   },
   "outputs": [
    {
     "data": {
      "text/plain": [
       "array([], dtype=float64)"
      ]
     },
     "execution_count": 726,
     "metadata": {},
     "output_type": "execute_result"
    }
   ],
   "source": [
    "emj_str"
   ]
  },
  {
   "cell_type": "code",
   "execution_count": 724,
   "metadata": {
    "collapsed": false
   },
   "outputs": [],
   "source": [
    "for val in emj_str:\n",
    "    print val[0]"
   ]
  },
  {
   "cell_type": "code",
   "execution_count": 725,
   "metadata": {
    "collapsed": false
   },
   "outputs": [
    {
     "ename": "IndexError",
     "evalue": "too many indices for array",
     "output_type": "error",
     "traceback": [
      "\u001b[0;31m---------------------------------------------------------------------------\u001b[0m",
      "\u001b[0;31mIndexError\u001b[0m                                Traceback (most recent call last)",
      "\u001b[0;32m<ipython-input-725-7f38cda3ce58>\u001b[0m in \u001b[0;36m<module>\u001b[0;34m()\u001b[0m\n\u001b[1;32m      1\u001b[0m \u001b[0md\u001b[0m\u001b[0;34m=\u001b[0m\u001b[0mcollections\u001b[0m\u001b[0;34m.\u001b[0m\u001b[0mdefaultdict\u001b[0m\u001b[0;34m(\u001b[0m\u001b[0;32mlambda\u001b[0m\u001b[0;34m:\u001b[0m\u001b[0;36m0\u001b[0m\u001b[0;34m)\u001b[0m\u001b[0;34m\u001b[0m\u001b[0m\n\u001b[0;32m----> 2\u001b[0;31m \u001b[0;32mfor\u001b[0m \u001b[0mkey\u001b[0m \u001b[0;32min\u001b[0m \u001b[0memj_str\u001b[0m\u001b[0;34m[\u001b[0m\u001b[0;34m:\u001b[0m\u001b[0;34m,\u001b[0m\u001b[0;36m0\u001b[0m\u001b[0;34m]\u001b[0m\u001b[0;34m:\u001b[0m\u001b[0;34m\u001b[0m\u001b[0m\n\u001b[0m\u001b[1;32m      3\u001b[0m     \u001b[0;32mif\u001b[0m \u001b[0mkey\u001b[0m \u001b[0;32mnot\u001b[0m \u001b[0;32min\u001b[0m \u001b[0memj_codes\u001b[0m\u001b[0;34m:\u001b[0m\u001b[0;31m#do not include length 2 emoji codes, flags, skins, etc.\u001b[0m\u001b[0;34m\u001b[0m\u001b[0m\n\u001b[1;32m      4\u001b[0m         \u001b[0md\u001b[0m\u001b[0;34m[\u001b[0m\u001b[0mkey\u001b[0m\u001b[0;34m]\u001b[0m\u001b[0;34m+=\u001b[0m\u001b[0;36m1\u001b[0m\u001b[0;34m\u001b[0m\u001b[0m\n\u001b[1;32m      5\u001b[0m \u001b[0ma\u001b[0m\u001b[0;34m=\u001b[0m\u001b[0mnp\u001b[0m\u001b[0;34m.\u001b[0m\u001b[0marray\u001b[0m\u001b[0;34m(\u001b[0m\u001b[0;34m[\u001b[0m\u001b[0md\u001b[0m\u001b[0;34m.\u001b[0m\u001b[0mvalues\u001b[0m\u001b[0;34m(\u001b[0m\u001b[0;34m)\u001b[0m\u001b[0;34m,\u001b[0m\u001b[0md\u001b[0m\u001b[0;34m.\u001b[0m\u001b[0mkeys\u001b[0m\u001b[0;34m(\u001b[0m\u001b[0;34m)\u001b[0m\u001b[0;34m,\u001b[0m\u001b[0;34m[\u001b[0m\u001b[0mint\u001b[0m\u001b[0;34m(\u001b[0m\u001b[0mlen\u001b[0m\u001b[0;34m(\u001b[0m\u001b[0mkey\u001b[0m\u001b[0;34m)\u001b[0m\u001b[0;34m/\u001b[0m\u001b[0;36m2\u001b[0m\u001b[0;34m)\u001b[0m \u001b[0;32mfor\u001b[0m \u001b[0mkey\u001b[0m \u001b[0;32min\u001b[0m \u001b[0md\u001b[0m\u001b[0;34m.\u001b[0m\u001b[0mkeys\u001b[0m\u001b[0;34m(\u001b[0m\u001b[0;34m)\u001b[0m\u001b[0;34m]\u001b[0m\u001b[0;34m]\u001b[0m\u001b[0;34m)\u001b[0m\u001b[0;34m\u001b[0m\u001b[0m\n",
      "\u001b[0;31mIndexError\u001b[0m: too many indices for array"
     ]
    }
   ],
   "source": [
    "d=collections.defaultdict(lambda:0)\n",
    "for key in emj_str[:,0]:\n",
    "    if key not in emj_codes:#do not include length 2 emoji codes, flags, skins, etc.\n",
    "        d[key]+=1\n",
    "a=np.array([d.values(),d.keys(),[int(len(key)/2) for key in d.keys()]])\n",
    "for val in a[1]:\n",
    "    print val"
   ]
  },
  {
   "cell_type": "code",
   "execution_count": 28,
   "metadata": {
    "collapsed": false
   },
   "outputs": [
    {
     "data": {
      "text/plain": [
       "0.069101"
      ]
     },
     "execution_count": 28,
     "metadata": {},
     "output_type": "execute_result"
    }
   ],
   "source": [
    "start=datetime.datetime.utcnow()\n",
    "\n",
    "has_emoji=False\n",
    "text=emoji_split_all(original_text)\n",
    "emojiLabel=np.intersect1d(text.split(),emj_codes,assume_unique=False)\n",
    "\n",
    "if len(emojiLabel) >0:\n",
    "    has_emoji=True\n",
    "    ###\n",
    "    text=emoji_split(original_text)\n",
    "    emjText=np.array([(emcode, len(re.findall(emcode,text))) for emcode in emojiLabel])\n",
    "    ####\n",
    "    mostFreqWord, mostFreqWordCount = count_words(text)\n",
    "    newlineCount= text.count('\\n')\n",
    "    #create arrays to save in SQL. Sorted by frequency\n",
    "    emojiLabel=emjText[np.argsort(emjText[:, 1])[::-1]][:,0]\n",
    "    emojiLabelFaceFilter= np.in1d(emojiLabel,emj_codes_face,invert=True)\n",
    "    emojiCount=np.array(emjText[np.argsort(emjText[:, 1])[::-1]][:,1],dtype=int)\n",
    "    emojiTypes=len(emojiCount)\n",
    "    emojiCountSum=sum(emojiCount)\n",
    "    surrounding_text=surroundingText(text,emojiLabel) #sorted by frequency\n",
    "    prev_word=surrounding_text[:,1]\n",
    "    next_word=surrounding_text[:,2]\n",
    "    prev_sentence=surrounding_text[:,3]\n",
    "    next_sentence=surrounding_text[:,4]\n",
    "\n",
    "    #build array of emoji strings. Look for all strings of emojis. Seperate at non-emoji char, space and \\n\n",
    "    emj_str = np.array([(emj_str, int(len(emj_str)/2)) for emj_str in sum([''.join([word if word in emojiLabel.tolist()+[' '] \\\n",
    "        else 'T' for word in emoji_split_line(line).split()]).rsplit('T') for line in text.split('\\n')],[]) if emj_str != ''])\n",
    "    #analyze emoji strings, cut away length 1 emojis and call new array a:\n",
    "    if len(emj_str)==0:\n",
    "        emojistrLabel,emojistrCount,emojistrLen,emojistrTypes,emojistr_prev_word,emojistr_next_word,\\\n",
    "        emojistr_prev_sentence,emojistr_next_sentence,emojiPatternLabel,emojiPatternCount,emojiPatternLen,\\\n",
    "        emojiPatternTypes=\\\n",
    "        [],[],[],0,[],[],[],[],[],[],[],0\n",
    "    else: #try to find strings, but first filter length 1 and those with length 2(with skin codes)\n",
    "        d=collections.defaultdict(lambda:0)\n",
    "        for key in emj_str[:,0]:\n",
    "            d[key]+=1\n",
    "        a=np.array([d.values(),d.keys(),[int(len(key)/2) for key in d.keys()]])\n",
    "        #remove single emojis and double if skin code is included:\n",
    "        skin_cut=~np.bool8(((np.int32(a[2,:]))==2) & (np.array([sum([len(re.findall(emcode,val)) for emcode in emj_codes_skin]) for val in a[1,:]])))\n",
    "        multi_cut=(np.int32(a[2,:])>1) & skin_cut\n",
    "        a=a[:,multi_cut]\n",
    "\n",
    "        if len(a[0])==0:\n",
    "            emojistrLabel,emojistrCount,emojistrLen,emojistrTypes,emojistr_prev_word,emojistr_next_word,\\\n",
    "            emojistr_prev_sentence,emojistr_next_sentence,emojiPatternLabel,emojiPatternCount,emojiPatternLen,\\\n",
    "            emojiPatternTypes=\\\n",
    "            [],[],[],0,[],[],[],[],[],[],[],0\n",
    "\n",
    "        else:\n",
    "            sort_index=a.argsort(axis=1)\n",
    "            emojistrLabel=a[[1,sort_index[0]]][::-1]\n",
    "            emojistrCount=np.array(a[[0,sort_index[0]]][::-1],dtype=int)\n",
    "            emojistrLen=np.array(a[[2,sort_index[0]]][::-1],dtype=int)\n",
    "            emojistrTypes=len(emojistrCount)\n",
    "            #add emjStr CountSum\n",
    "            surrounding_str_text=surroundingText(text,emojistrLabel) #sorted by frequency\n",
    "            emojistr_prev_word=surrounding_str_text[:,1]\n",
    "            emojistr_next_word=surrounding_str_text[:,2]\n",
    "            emojistr_prev_sentence=surrounding_str_text[:,3]\n",
    "            emojistr_next_sentence=surrounding_str_text[:,4]\n",
    "            #find emoji str patterns\n",
    "            pattern=np.array([(emcode, len(re.findall(emcode,text))) for emcode in emojistrLabel])\n",
    "            emojiPatternLabel=pattern[np.argsort(pattern[:, 1])[::-1]][:,0] \n",
    "            emojiPatternCount=np.array(pattern[np.argsort(pattern[:, 1])[::-1]][:,1],dtype=int)\n",
    "            emojiPatternLen=np.array([np.int32(len(val)/2) for val in emojiPatternLabel],dtype=int)\n",
    "            emojiPatternTypes=len(emojiPatternCount)\n",
    "\n",
    "    #skin tone information\n",
    "    emjText_skin=np.array([(emcode, len(re.findall(emcode,text))) for emcode in emj_codes_skin\\\n",
    "                  if (len(re.findall(emcode,text)) > 0)])\n",
    "    if len(emjText_skin)==0:\n",
    "        emojiSkinLabel, emojiSkinCount,emojiSkinCountSum,emojiSkinTypes= [],[],0,0\n",
    "    else:\n",
    "        #create arrays to save in SQL. Sorted by frequency\n",
    "        emojiSkinLabel=emjText_skin[np.argsort(emjText_skin[:, 1])[::-1]][:,0] \n",
    "        emojiSkinCount=np.array(emjText_skin[np.argsort(emjText_skin[:, 1])[::-1]][:,1],dtype=int)\n",
    "        emojiSkinCountSum=sum(emojiSkinCount)\n",
    "        emojiSkinTypes=len(emojiSkinCount)\n",
    "        \n",
    "DT=datetime.datetime.utcnow()-start\n",
    "DT.microseconds/1e6"
   ]
  },
  {
   "cell_type": "code",
   "execution_count": 289,
   "metadata": {
    "collapsed": false
   },
   "outputs": [
    {
     "name": "stdout",
     "output_type": "stream",
     "text": [
      "😍\n",
      "💫\n",
      "🇺🇸\n",
      "✋🏾\n",
      "😂\n"
     ]
    }
   ],
   "source": [
    "for val in emojiLabel:\n",
    "    print val"
   ]
  },
  {
   "cell_type": "code",
   "execution_count": 77,
   "metadata": {
    "collapsed": false
   },
   "outputs": [
    {
     "data": {
      "text/plain": [
       "[False, True, True, True, True, False]"
      ]
     },
     "execution_count": 77,
     "metadata": {},
     "output_type": "execute_result"
    }
   ],
   "source": [
    "a=np.in1d(emojiLabel,emj_codes_face,invert=True).tolist()"
   ]
  },
  {
   "cell_type": "code",
   "execution_count": null,
   "metadata": {
    "collapsed": true
   },
   "outputs": [],
   "source": [
    "if val[0] not in (self.emj_codes_face +"
   ]
  },
  {
   "cell_type": "code",
   "execution_count": 868,
   "metadata": {
    "collapsed": false
   },
   "outputs": [],
   "source": [
    "def checkNone(val):\n",
    "    return val if val else ''\n",
    "def checkNoneJSON(val):\n",
    "    return val if val else '{}'\n",
    "\n",
    "#tweet data:\n",
    "date= datetime.datetime.utcnow()\n",
    "created_at = datetime.datetime.utcnow()\n",
    "#text = 'hey'\n",
    "#keep split text?\n",
    "retweet_count = 1\n",
    "favorite_count = 2\n",
    "lang=checkNone('eng')\n",
    "geo = checkNoneJSON(None)\n",
    "time_zone = checkNone('NewYork')\n",
    "coordinates = checkNoneJSON(None)\n",
    "name = 'Attila'\n",
    "user_name = 'AttilaDaHun'\n",
    "\n",
    "insertIntoSQL(date,created_at,text,retweet_count,favorite_count,lang,geo,coordinates,time_zone,name,user_name,\\\n",
    "emojiLabel,emojiCount,emojiCountSum,emojiTypes,prev_word,next_word,prev_sentence,next_sentence,mostFreqWord,\\\n",
    "mostFreqWordCount,newlineCount,emojiSkinLabel,emojiSkinCount,emojiSkinCountSum,emojiSkinTypes,emojistrLabel,\\\n",
    "emojistrCount,emojistrLen,emojistrTypes,emojistr_prev_word,emojistr_next_word,emojistr_prev_sentence,\\\n",
    "emojistr_next_sentence,emojiPatternLabel,emojiPatternCount,emojiPatternLen,emojiPatternTypes)\n",
    "\n",
    "#TestinsertIntoSQL(date,created_at,text,retweet_count,favorite_count,lang,geo,coordinates,time_zone,name,user_name,\\\n",
    "#emojiLabel,emojiCount)"
   ]
  },
  {
   "cell_type": "code",
   "execution_count": 779,
   "metadata": {
    "collapsed": false
   },
   "outputs": [
    {
     "data": {
      "text/plain": [
       "['']"
      ]
     },
     "execution_count": 779,
     "metadata": {},
     "output_type": "execute_result"
    }
   ],
   "source": [
    "next_sentence"
   ]
  },
  {
   "cell_type": "code",
   "execution_count": 776,
   "metadata": {
    "collapsed": false
   },
   "outputs": [
    {
     "data": {
      "text/plain": [
       "'\\xed\\xbf\\x87\\xed\\xb0\\x80'"
      ]
     },
     "execution_count": 776,
     "metadata": {},
     "output_type": "execute_result"
    }
   ],
   "source": [
    "u'\\udfc7\\udc00'.encode('utf-8')"
   ]
  },
  {
   "cell_type": "code",
   "execution_count": 259,
   "metadata": {
    "collapsed": false
   },
   "outputs": [
    {
     "name": "stdout",
     "output_type": "stream",
     "text": [
      "(1, datetime.datetime(2016, 4, 18, 3, 18, 37, 843870), datetime.datetime(2016, 4, 18, 3, 18, 37), 'Beyond grateful \\xf0\\x9f\\x98\\xa9', 0, 0, 'en', {}, {}, '', 'kionna.', 'vance_kionna', ['\\xf0\\x9f\\x98\\xa9'], [1], 1, 1, ['grateful'], [''], ['Beyond grateful'], [''], 'beyond', 1, 0, [], [], 0, 0, [], [], [], 0, [], [], [], [], [], [], [], 0)\n",
      "(2, datetime.datetime(2016, 4, 18, 3, 18, 38, 424079), datetime.datetime(2016, 4, 18, 3, 18, 37), 'RT @madisonc0510: @meganmarie24_ omg Megan I love you\\xf0\\x9f\\x98\\x82\\xf0\\x9f\\x92\\x97 but that all you seriously', 0, 0, 'en', {}, {}, '', 'megs \\xe2\\x98\\x80\\xef\\xb8\\x8f', 'meganmarie24_', ['\\xf0\\x9f\\x92\\x97', '\\xf0\\x9f\\x98\\x82'], [1, 1], 2, 2, ['you\\xf0\\x9f\\x98\\x82', 'you'], ['but', '\\xf0\\x9f\\x92\\x97'], ['@madisonc0510: @meganmarie24_ omg Megan I love you\\xf0\\x9f\\x98\\x82', '@madisonc0510: @meganmarie24_ omg Megan I love you'], ['but that all you seriously', '\\xf0\\x9f\\x92\\x97 but that all you seriously'], 'rt', 1, 0, [], [], 0, 0, [], [], [], 0, [], [], [], [], [], [], [], 0)\n",
      "(3, datetime.datetime(2016, 4, 18, 3, 18, 39, 621055), datetime.datetime(2016, 4, 18, 3, 18, 37), 'Goodmorning! \\xe2\\x98\\xba\\xef\\xb8\\x8f\\xe2\\x9c\\x8c\\xf0\\x9f\\x8f\\xbb\\xef\\xb8\\x8f', 0, 0, 'en', {}, {}, 'Baghdad', 'Kylie.\\xe2\\x9d\\x83', 'Alyriveraa_', ['\\xe2\\x98\\xba\\xef\\xb8\\x8f'], [1], 1, 1, ['Goodmorning!'], ['\\xe2\\x9c\\x8c\\xf0\\x9f\\x8f\\xbb\\xef\\xb8\\x8f'], ['Goodmorning!'], ['\\xe2\\x9c\\x8c\\xf0\\x9f\\x8f\\xbb\\xef\\xb8\\x8f'], 'goodmorning!', 1, 0, ['\\xf0\\x9f\\x8f\\xbb'], [1], 1, 1, [], [], [], 0, [], [], [], [], [], [], [], 0)\n",
      "(4, datetime.datetime(2016, 4, 18, 3, 18, 40, 116814), datetime.datetime(2016, 4, 18, 3, 18, 37), 'Los Simpsons \\xf0\\x9f\\x91\\x8c', 0, 0, 'es', {}, {}, 'Brasilia', 'Barri', 'JoacoBarri', ['\\xf0\\x9f\\x91\\x8c'], [1], 1, 1, ['Simpsons'], [''], ['Los Simpsons'], [''], 'simpsons', 1, 0, [], [], 0, 0, [], [], [], 0, [], [], [], [], [], [], [], 0)\n",
      "(5, datetime.datetime(2016, 4, 18, 3, 18, 40, 643686), datetime.datetime(2016, 4, 18, 3, 18, 37), 'RT @ParadisePict: Cabo San Lucas\\xf0\\x9f\\x8c\\xb4\\xf0\\x9f\\x8c\\xb4 https://t.co/NPPvRXNsGB', 0, 0, 'es', {}, {}, '', 'Alex', 'alexmattingly67', ['\\xf0\\x9f\\x8c\\xb4'], [2], 2, 1, ['Lucas'], ['https://t.co/NPPvRXNsGB'], ['RT @ParadisePict: Cabo San Lucas'], ['\\xf0\\x9f\\x8c\\xb4 https://t.co/NPPvRXNsGB'], 'rt', 1, 0, [], [], 0, 0, [], [], [], 0, [], [], [], [], [], [], [], 0)\n",
      "(6, datetime.datetime(2016, 4, 18, 3, 18, 41, 407035), datetime.datetime(2016, 4, 18, 3, 18, 38), 'Que trauma tan grande traigo hoy con esa canci\\xc3\\xb3n \\xf0\\x9f\\x99\\x87', 0, 0, 'es', {}, {}, 'Central Time (US & Canada)', 'A n d y', 'EstMonstrue', ['\\xf0\\x9f\\x99\\x87'], [1], 1, 1, ['canci\\xc3\\xb3n'], [''], ['tan grande traigo hoy con esa canci\\xc3\\xb3n'], [''], 'canci\\xc3\\xb3n', 1, 0, [], [], 0, 0, [], [], [], 0, [], [], [], [], [], [], [], 0)\n",
      "(7, datetime.datetime(2016, 4, 18, 3, 18, 42, 913407), datetime.datetime(2016, 4, 18, 3, 18, 38), 'RT @J__Durbin: @ameer_abdelkrim @Carli99Carli @brookee_jonees Ameer get money \\xf0\\x9f\\x98\\xb4 stop playin with my mans \\xf0\\x9f\\x94\\xab', 0, 0, 'en', {}, {}, '', \"L'Donte Harris\", 'ameer_abdelkrim', ['\\xf0\\x9f\\x94\\xab', '\\xf0\\x9f\\x98\\xb4'], [1, 1], 2, 2, ['mans', 'money'], ['', 'stop'], ['money \\xf0\\x9f\\x98\\xb4 stop playin with my mans', '@J__Durbin: @ameer_abdelkrim @Carli99Carli @brookee_jonees Ameer get money'], ['', 'stop playin with my mans \\xf0\\x9f\\x94\\xab'], 'rt', 1, 0, [], [], 0, 0, [], [], [], 0, [], [], [], [], [], [], [], 0)\n",
      "(8, datetime.datetime(2016, 4, 18, 3, 18, 43, 112051), datetime.datetime(2016, 4, 18, 3, 18, 38), 'Diklat 28++ \\xf0\\x9f\\x98\\x82\\xf0\\x9f\\x98\\x82\\xf0\\x9f\\x92\\x95\\xf0\\x9f\\x92\\x95 https://t.co/jTN28UopOp', 0, 0, 'in', {}, {}, 'Bangkok', 'Gloryenta Putri', 'gloryetaa', ['\\xf0\\x9f\\x92\\x95', '\\xf0\\x9f\\x98\\x82'], [2, 2], 4, 2, ['\\xf0\\x9f\\x98\\x82', '28++'], ['https://t.co/jTN28UopOp', '\\xf0\\x9f\\x92\\x95'], ['Diklat 28++ \\xf0\\x9f\\x98\\x82 \\xf0\\x9f\\x98\\x82', 'Diklat 28++'], ['\\xf0\\x9f\\x92\\x95 https://t.co/jTN28UopOp', '\\xf0\\x9f\\x98\\x82 \\xf0\\x9f\\x92\\x95 \\xf0\\x9f\\x92\\x95 https://t.co/jTN28UopOp'], '\\xf0\\x9f\\x92\\x95', 2, 0, [], [], 0, 0, ['\\xf0\\x9f\\x98\\x82\\xf0\\x9f\\x98\\x82\\xf0\\x9f\\x92\\x95\\xf0\\x9f\\x92\\x95'], [1], [4], 1, ['28++'], ['https://t.co/jTN28UopOp'], ['Diklat 28++'], ['\\xf0\\x9f\\x98\\x82\\xf0\\x9f\\x92\\x95\\xf0\\x9f\\x92\\x95 https://t.co/jTN28UopOp'], ['\\xf0\\x9f\\x98\\x82\\xf0\\x9f\\x98\\x82\\xf0\\x9f\\x92\\x95\\xf0\\x9f\\x92\\x95'], [1], [4], 1)\n",
      "(9, datetime.datetime(2016, 4, 18, 3, 18, 44, 237114), datetime.datetime(2016, 4, 18, 3, 18, 38), 'RT @SexologoVirtual: Cu\\xc3\\xa1ntas son las comunas sin agua??? Les dejo el pron\\xc3\\xb3stico para ma\\xc3\\xb1ana. #lluviasantiago \\xf0\\x9f\\x98\\xb7\\xf0\\x9f\\x98\\xb7\\xf0\\x9f\\x98\\xb7\\xf0\\x9f\\x98\\xb7\\xf0\\x9f\\x98\\xb7\\xf0\\x9f\\x98\\xb7\\xf0\\x9f\\x98\\xb7\\xf0\\x9f\\x98\\xb7\\xf0\\x9f\\x98\\xb7\\xf0\\x9f\\x92\\xa9\\xf0\\x9f\\x92\\xa9\\xf0\\x9f\\x92\\xa9\\xf0\\x9f\\x92\\xa9 https://t.co/7wx\\xe2\\x80\\xa6', 0, 0, 'es', {}, {}, 'Atlantic Time (Canada)', 'Cata Ib\\xc3\\xa1\\xc3\\xb1ez Reyes-', 'RadioCata', ['\\xf0\\x9f\\x98\\xb7', '\\xf0\\x9f\\x92\\xa9'], [9, 4], 13, 2, ['#lluviasantiago', '\\xf0\\x9f\\x98\\xb7'], ['\\xf0\\x9f\\x92\\xa9', 'https://t.co/7wx\\xe2\\x80\\xa6'], ['Les dejo el pron\\xc3\\xb3stico para ma\\xc3\\xb1ana. #lluviasantiago', '\\xf0\\x9f\\x98\\xb7 \\xf0\\x9f\\x98\\xb7 \\xf0\\x9f\\x98\\xb7 \\xf0\\x9f\\x98\\xb7 \\xf0\\x9f\\x98\\xb7 \\xf0\\x9f\\x98\\xb7 \\xf0\\x9f\\x98\\xb7'], ['\\xf0\\x9f\\x98\\xb7 \\xf0\\x9f\\x98\\xb7 \\xf0\\x9f\\x98\\xb7 \\xf0\\x9f\\x98\\xb7 \\xf0\\x9f\\x98\\xb7 \\xf0\\x9f\\x98\\xb7 \\xf0\\x9f\\x98\\xb7', '\\xf0\\x9f\\x92\\xa9 \\xf0\\x9f\\x92\\xa9 \\xf0\\x9f\\x92\\xa9 https://t.co/7wx\\xe2\\x80\\xa6'], '\\xf0\\x9f\\x98\\xb7', 9, 0, [], [], 0, 0, ['\\xf0\\x9f\\x98\\xb7\\xf0\\x9f\\x98\\xb7\\xf0\\x9f\\x98\\xb7\\xf0\\x9f\\x98\\xb7\\xf0\\x9f\\x98\\xb7\\xf0\\x9f\\x98\\xb7\\xf0\\x9f\\x98\\xb7\\xf0\\x9f\\x98\\xb7\\xf0\\x9f\\x98\\xb7\\xf0\\x9f\\x92\\xa9\\xf0\\x9f\\x92\\xa9\\xf0\\x9f\\x92\\xa9\\xf0\\x9f\\x92\\xa9'], [1], [13], 1, ['#lluviasantiago'], ['https://t.co/7wx\\xe2\\x80\\xa6'], ['Les dejo el pron\\xc3\\xb3stico para ma\\xc3\\xb1ana. #lluviasantiago'], ['\\xf0\\x9f\\x98\\xb7\\xf0\\x9f\\x98\\xb7\\xf0\\x9f\\x98\\xb7\\xf0\\x9f\\x98\\xb7\\xf0\\x9f\\x98\\xb7\\xf0\\x9f\\x98\\xb7\\xf0\\x9f\\x98\\xb7\\xf0\\x9f\\x98\\xb7\\xf0\\x9f\\x92\\xa9\\xf0\\x9f\\x92\\xa9\\xf0\\x9f\\x92\\xa9\\xf0\\x9f\\x92\\xa9 https://t.co/7wx\\xe2\\x80\\xa6'], ['\\xf0\\x9f\\x98\\xb7\\xf0\\x9f\\x98\\xb7\\xf0\\x9f\\x98\\xb7\\xf0\\x9f\\x98\\xb7\\xf0\\x9f\\x98\\xb7\\xf0\\x9f\\x98\\xb7\\xf0\\x9f\\x98\\xb7\\xf0\\x9f\\x98\\xb7\\xf0\\x9f\\x98\\xb7\\xf0\\x9f\\x92\\xa9\\xf0\\x9f\\x92\\xa9\\xf0\\x9f\\x92\\xa9\\xf0\\x9f\\x92\\xa9'], [1], [13], 1)\n",
      "(10, datetime.datetime(2016, 4, 18, 3, 20, 37, 636220), datetime.datetime(2016, 4, 18, 3, 20, 37, 636260), 'RT @SexologoVirtual: Cu\\xc3\\xa1ntas son las comunas sin agua??? Les dejo el pron\\xc3\\xb3stico para ma\\xc3\\xb1ana. #lluviasantiago \\xf0\\x9f\\x98\\xb7 \\xf0\\x9f\\x98\\xb7 \\xf0\\x9f\\x98\\xb7 \\xf0\\x9f\\x98\\xb7 \\xf0\\x9f\\x98\\xb7 \\xf0\\x9f\\x98\\xb7 \\xf0\\x9f\\x98\\xb7 \\xf0\\x9f\\x98\\xb7 \\xf0\\x9f\\x98\\xb7 \\xf0\\x9f\\x92\\xa9 \\xf0\\x9f\\x92\\xa9 \\xf0\\x9f\\x92\\xa9 \\xf0\\x9f\\x92\\xa9 https://t.co/7wx\\xe2\\x80\\xa6', 1, 2, 'eng', {}, {}, 'NewYork', 'Attila', 'AttilaDaHun', ['\\xf0\\x9f\\x98\\xb7', '\\xf0\\x9f\\x92\\xa9'], [9, 4], 13, 2, ['#lluviasantiago', '\\xf0\\x9f\\x98\\xb7'], ['\\xf0\\x9f\\x92\\xa9', 'https://t.co/7wx\\xe2\\x80\\xa6'], ['Les dejo el pron\\xc3\\xb3stico para ma\\xc3\\xb1ana. #lluviasantiago', '\\xf0\\x9f\\x98\\xb7 \\xf0\\x9f\\x98\\xb7 \\xf0\\x9f\\x98\\xb7 \\xf0\\x9f\\x98\\xb7 \\xf0\\x9f\\x98\\xb7 \\xf0\\x9f\\x98\\xb7 \\xf0\\x9f\\x98\\xb7'], ['\\xf0\\x9f\\x98\\xb7 \\xf0\\x9f\\x98\\xb7 \\xf0\\x9f\\x98\\xb7 \\xf0\\x9f\\x98\\xb7 \\xf0\\x9f\\x98\\xb7 \\xf0\\x9f\\x98\\xb7 \\xf0\\x9f\\x98\\xb7', '\\xf0\\x9f\\x92\\xa9 \\xf0\\x9f\\x92\\xa9 \\xf0\\x9f\\x92\\xa9 https://t.co/7wx\\xe2\\x80\\xa6'], '\\xf0\\x9f\\x98\\xb7', 9, 0, [], [], 0, 0, ['\\xf0\\x9f\\x98\\xb7\\xf0\\x9f\\x98\\xb7\\xf0\\x9f\\x98\\xb7\\xf0\\x9f\\x98\\xb7\\xf0\\x9f\\x98\\xb7\\xf0\\x9f\\x98\\xb7\\xf0\\x9f\\x98\\xb7\\xf0\\x9f\\x98\\xb7\\xf0\\x9f\\x98\\xb7\\xf0\\x9f\\x92\\xa9\\xf0\\x9f\\x92\\xa9\\xf0\\x9f\\x92\\xa9\\xf0\\x9f\\x92\\xa9'], [1], [13], 1, ['#lluviasantiago'], ['https://t.co/7wx\\xe2\\x80\\xa6'], ['Les dejo el pron\\xc3\\xb3stico para ma\\xc3\\xb1ana. #lluviasantiago'], ['\\xf0\\x9f\\x98\\xb7\\xf0\\x9f\\x98\\xb7\\xf0\\x9f\\x98\\xb7\\xf0\\x9f\\x98\\xb7\\xf0\\x9f\\x98\\xb7\\xf0\\x9f\\x98\\xb7\\xf0\\x9f\\x98\\xb7\\xf0\\x9f\\x98\\xb7\\xf0\\x9f\\x92\\xa9\\xf0\\x9f\\x92\\xa9\\xf0\\x9f\\x92\\xa9\\xf0\\x9f\\x92\\xa9 https://t.co/7wx\\xe2\\x80\\xa6'], ['\\xf0\\x9f\\x98\\xb7\\xf0\\x9f\\x98\\xb7\\xf0\\x9f\\x98\\xb7\\xf0\\x9f\\x98\\xb7\\xf0\\x9f\\x98\\xb7\\xf0\\x9f\\x98\\xb7\\xf0\\x9f\\x98\\xb7\\xf0\\x9f\\x98\\xb7\\xf0\\x9f\\x98\\xb7\\xf0\\x9f\\x92\\xa9\\xf0\\x9f\\x92\\xa9\\xf0\\x9f\\x92\\xa9\\xf0\\x9f\\x92\\xa9'], [1], [13], 1)\n",
      "(11, datetime.datetime(2016, 4, 18, 3, 21, 5, 131206), datetime.datetime(2016, 4, 18, 3, 21, 4), 'RT @Isalute_beauty: When someone leaves you for the same person they told you not to worry bout\\xf0\\x9f\\xa4\\x94 https://t.co/NQ3dtNLLdJ', 0, 0, 'en', {}, {}, '', '\\xe2\\x99\\x89May 13th\\xe2\\x99\\x89', 'KingBlaahh', ['\\xf0\\x9f\\xa4\\x94'], [1], 1, 1, ['bout'], ['https://t.co/NQ3dtNLLdJ'], ['they told you not to worry bout'], ['https://t.co/NQ3dtNLLdJ'], 'you', 2, 0, [], [], 0, 0, [], [], [], 0, [], [], [], [], [], [], [], 0)\n",
      "(12, datetime.datetime(2016, 4, 18, 3, 21, 5, 430712), datetime.datetime(2016, 4, 18, 3, 21, 4), 'RT @Isalute_beauty: When someone leaves you for the same person they told you not to worry bout\\xf0\\x9f\\xa4\\x94 https://t.co/NQ3dtNLLdJ', 0, 0, 'en', {}, {}, 'Central Time (US & Canada)', '\\xd0\\x9a\\xce\\xb9\\xd0\\xb8qq\\xe2\\x9c\\xa8', 'KinqqArrogant', ['\\xf0\\x9f\\xa4\\x94'], [1], 1, 1, ['bout'], ['https://t.co/NQ3dtNLLdJ'], ['they told you not to worry bout'], ['https://t.co/NQ3dtNLLdJ'], 'you', 2, 0, [], [], 0, 0, [], [], [], 0, [], [], [], [], [], [], [], 0)\n",
      "(13, datetime.datetime(2016, 4, 18, 3, 21, 6, 355006), datetime.datetime(2016, 4, 18, 3, 21, 5), \"RT @BeyondBetter_: He'll be right back.\\xf0\\x9f\\x98\\x9c\\xf0\\x9f\\x98\\x82 it never fails l  https://t.co/2Peaxvakx5\", 0, 0, 'en', {}, {}, '', 'pimpcess\\xe2\\x9c\\xa8', 'amaiyahh', ['\\xf0\\x9f\\x98\\x9c', '\\xf0\\x9f\\x98\\x82'], [1, 1], 2, 2, ['back.', 'back.\\xf0\\x9f\\x98\\x9c'], ['\\xf0\\x9f\\x98\\x82', 'it'], [\"RT @BeyondBetter_: He'll be right back.\", \"RT @BeyondBetter_: He'll be right back.\\xf0\\x9f\\x98\\x9c\"], ['\\xf0\\x9f\\x98\\x82 it never fails l https://t.co/2Peaxvakx5', 'it never fails l https://t.co/2Peaxvakx5'], 'rt', 1, 0, [], [], 0, 0, [], [], [], 0, [], [], [], [], [], [], [], 0)\n",
      "(14, datetime.datetime(2016, 4, 18, 3, 21, 6, 964709), datetime.datetime(2016, 4, 18, 3, 21, 5), '@yuka_coralreef \\xe3\\x81\\x8a\\xe7\\x96\\xb2\\xe3\\x82\\x8c\\xe3\\x81\\xa7\\xe3\\x81\\x99\\xf0\\x9f\\x98\\x83\\xf0\\x9f\\x92\\x95\\xe9\\xa2\\xa8\\xe3\\x81\\xaf\\xe5\\xa4\\xa7\\xe4\\xb8\\x88\\xe5\\xa4\\xab\\xef\\xbc\\x9f\\xe3\\x81\\x9d\\xe3\\x81\\xa3\\xe3\\x81\\xa1\\xe3\\x81\\xaf\\xe3\\x81\\xbe\\xe3\\x81\\xa0\\xe4\\xbb\\x8a\\xe6\\x97\\xa5\\xe3\\x82\\x82\\xe8\\x8d\\x92\\xe3\\x82\\x8c\\xe3\\x82\\x8b\\xe3\\x81\\xae\\xe3\\x81\\x8b\\xe3\\x81\\xaa(^^;\\xe4\\xbb\\x8a\\xe6\\x97\\xa5\\xe3\\x81\\xaf\\xe7\\x84\\xa1\\xe7\\x90\\x86\\xe3\\x81\\x97\\xe3\\x81\\xaa\\xe3\\x81\\x84\\xe3\\x81\\xa7\\xe3\\x80\\x81\\xe3\\x82\\x86\\xe3\\x81\\xa3\\xe3\\x81\\x8f\\xe3\\x82\\x8a\\xe9\\x81\\x8e\\xe3\\x81\\x94\\xe3\\x81\\x97\\xe3\\x81\\xa6\\xe3\\x81\\xad\\xf0\\x9f\\x98\\x83\\xf0\\x9f\\x92\\x95\\xe6\\xba\\x80\\xe9\\x96\\x8b\\xe3\\x81\\xae\\xe7\\x9f\\xb3\\xe5\\x89\\xb2\\xe6\\xa1\\x9c\\xe3\\x81\\xae\\xe5\\x86\\x99\\xe7\\x9c\\x9f\\xe3\\x80\\x81\\xe6\\x92\\xae\\xe3\\x82\\x8c\\xe3\\x82\\x8b\\xe3\\x81\\xa8\\xe8\\x89\\xaf\\xe3\\x81\\x84\\xe3\\x81\\xaa\\xf0\\x9f\\x8e\\xb5', 0, 0, 'ja', {}, {}, 'Irkutsk', '\\xe3\\x82\\x86\\xe3\\x82\\x8a', 'sakakibara_yuri', ['\\xf0\\x9f\\x92\\x95', '\\xf0\\x9f\\x98\\x83', '\\xf0\\x9f\\x8e\\xb5'], [2, 2, 1], 5, 3, ['\\xe3\\x81\\x8a\\xe7\\x96\\xb2\\xe3\\x82\\x8c\\xe3\\x81\\xa7\\xe3\\x81\\x99\\xf0\\x9f\\x98\\x83', '\\xe3\\x81\\x8a\\xe7\\x96\\xb2\\xe3\\x82\\x8c\\xe3\\x81\\xa7\\xe3\\x81\\x99', '\\xe6\\xba\\x80\\xe9\\x96\\x8b\\xe3\\x81\\xae\\xe7\\x9f\\xb3\\xe5\\x89\\xb2\\xe6\\xa1\\x9c\\xe3\\x81\\xae\\xe5\\x86\\x99\\xe7\\x9c\\x9f\\xe3\\x80\\x81\\xe6\\x92\\xae\\xe3\\x82\\x8c\\xe3\\x82\\x8b\\xe3\\x81\\xa8\\xe8\\x89\\xaf\\xe3\\x81\\x84\\xe3\\x81\\xaa'], ['\\xe6\\xba\\x80\\xe9\\x96\\x8b\\xe3\\x81\\xae\\xe7\\x9f\\xb3\\xe5\\x89\\xb2\\xe6\\xa1\\x9c\\xe3\\x81\\xae\\xe5\\x86\\x99\\xe7\\x9c\\x9f\\xe3\\x80\\x81\\xe6\\x92\\xae\\xe3\\x82\\x8c\\xe3\\x82\\x8b\\xe3\\x81\\xa8\\xe8\\x89\\xaf\\xe3\\x81\\x84\\xe3\\x81\\xaa\\xf0\\x9f\\x8e\\xb5', '\\xf0\\x9f\\x92\\x95', ''], ['@yuka_coralreef \\xe3\\x81\\x8a\\xe7\\x96\\xb2\\xe3\\x82\\x8c\\xe3\\x81\\xa7\\xe3\\x81\\x99\\xf0\\x9f\\x98\\x83', '@yuka_coralreef \\xe3\\x81\\x8a\\xe7\\x96\\xb2\\xe3\\x82\\x8c\\xe3\\x81\\xa7\\xe3\\x81\\x99', '@yuka_coralreef \\xe3\\x81\\x8a\\xe7\\x96\\xb2\\xe3\\x82\\x8c\\xe3\\x81\\xa7\\xe3\\x81\\x99\\xf0\\x9f\\x98\\x83 \\xf0\\x9f\\x92\\x95 \\xe9\\xa2\\xa8\\xe3\\x81\\xaf\\xe5\\xa4\\xa7\\xe4\\xb8\\x88\\xe5\\xa4\\xab\\xef\\xbc\\x9f\\xe3\\x81\\x9d\\xe3\\x81\\xa3\\xe3\\x81\\xa1\\xe3\\x81\\xaf\\xe3\\x81\\xbe\\xe3\\x81\\xa0\\xe4\\xbb\\x8a\\xe6\\x97\\xa5\\xe3\\x82\\x82\\xe8\\x8d\\x92\\xe3\\x82\\x8c\\xe3\\x82\\x8b\\xe3\\x81\\xae\\xe3\\x81\\x8b\\xe3\\x81\\xaa(^^;\\xe4\\xbb\\x8a\\xe6\\x97\\xa5\\xe3\\x81\\xaf\\xe7\\x84\\xa1\\xe7\\x90\\x86\\xe3\\x81\\x97\\xe3\\x81\\xaa\\xe3\\x81\\x84\\xe3\\x81\\xa7\\xe3\\x80\\x81\\xe3\\x82\\x86\\xe3\\x81\\xa3\\xe3\\x81\\x8f\\xe3\\x82\\x8a\\xe9\\x81\\x8e\\xe3\\x81\\x94\\xe3\\x81\\x97\\xe3\\x81\\xa6\\xe3\\x81\\xad\\xf0\\x9f\\x98\\x83 \\xf0\\x9f\\x92\\x95 \\xe6\\xba\\x80\\xe9\\x96\\x8b\\xe3\\x81\\xae\\xe7\\x9f\\xb3\\xe5\\x89\\xb2\\xe6\\xa1\\x9c\\xe3\\x81\\xae\\xe5\\x86\\x99\\xe7\\x9c\\x9f\\xe3\\x80\\x81\\xe6\\x92\\xae\\xe3\\x82\\x8c\\xe3\\x82\\x8b\\xe3\\x81\\xa8\\xe8\\x89\\xaf\\xe3\\x81\\x84\\xe3\\x81\\xaa'], ['\\xe9\\xa2\\xa8\\xe3\\x81\\xaf\\xe5\\xa4\\xa7\\xe4\\xb8\\x88\\xe5\\xa4\\xab\\xef\\xbc\\x9f\\xe3\\x81\\x9d\\xe3\\x81\\xa3\\xe3\\x81\\xa1\\xe3\\x81\\xaf\\xe3\\x81\\xbe\\xe3\\x81\\xa0\\xe4\\xbb\\x8a\\xe6\\x97\\xa5\\xe3\\x82\\x82\\xe8\\x8d\\x92\\xe3\\x82\\x8c\\xe3\\x82\\x8b\\xe3\\x81\\xae\\xe3\\x81\\x8b\\xe3\\x81\\xaa(^^;\\xe4\\xbb\\x8a\\xe6\\x97\\xa5\\xe3\\x81\\xaf\\xe7\\x84\\xa1\\xe7\\x90\\x86\\xe3\\x81\\x97\\xe3\\x81\\xaa\\xe3\\x81\\x84\\xe3\\x81\\xa7\\xe3\\x80\\x81\\xe3\\x82\\x86\\xe3\\x81\\xa3\\xe3\\x81\\x8f\\xe3\\x82\\x8a\\xe9\\x81\\x8e\\xe3\\x81\\x94\\xe3\\x81\\x97\\xe3\\x81\\xa6\\xe3\\x81\\xad\\xf0\\x9f\\x98\\x83 \\xf0\\x9f\\x92\\x95 \\xe6\\xba\\x80\\xe9\\x96\\x8b\\xe3\\x81\\xae\\xe7\\x9f\\xb3\\xe5\\x89\\xb2\\xe6\\xa1\\x9c\\xe3\\x81\\xae\\xe5\\x86\\x99\\xe7\\x9c\\x9f\\xe3\\x80\\x81\\xe6\\x92\\xae\\xe3\\x82\\x8c\\xe3\\x82\\x8b\\xe3\\x81\\xa8\\xe8\\x89\\xaf\\xe3\\x81\\x84\\xe3\\x81\\xaa\\xf0\\x9f\\x8e\\xb5', '\\xf0\\x9f\\x92\\x95 \\xe9\\xa2\\xa8\\xe3\\x81\\xaf\\xe5\\xa4\\xa7\\xe4\\xb8\\x88\\xe5\\xa4\\xab\\xef\\xbc\\x9f\\xe3\\x81\\x9d\\xe3\\x81\\xa3\\xe3\\x81\\xa1\\xe3\\x81\\xaf\\xe3\\x81\\xbe\\xe3\\x81\\xa0\\xe4\\xbb\\x8a\\xe6\\x97\\xa5\\xe3\\x82\\x82\\xe8\\x8d\\x92\\xe3\\x82\\x8c\\xe3\\x82\\x8b\\xe3\\x81\\xae\\xe3\\x81\\x8b\\xe3\\x81\\xaa(^^;\\xe4\\xbb\\x8a\\xe6\\x97\\xa5\\xe3\\x81\\xaf\\xe7\\x84\\xa1\\xe7\\x90\\x86\\xe3\\x81\\x97\\xe3\\x81\\xaa\\xe3\\x81\\x84\\xe3\\x81\\xa7\\xe3\\x80\\x81\\xe3\\x82\\x86\\xe3\\x81\\xa3\\xe3\\x81\\x8f\\xe3\\x82\\x8a\\xe9\\x81\\x8e\\xe3\\x81\\x94\\xe3\\x81\\x97\\xe3\\x81\\xa6\\xe3\\x81\\xad\\xf0\\x9f\\x98\\x83 \\xf0\\x9f\\x92\\x95 \\xe6\\xba\\x80\\xe9\\x96\\x8b\\xe3\\x81\\xae\\xe7\\x9f\\xb3\\xe5\\x89\\xb2\\xe6\\xa1\\x9c\\xe3\\x81\\xae\\xe5\\x86\\x99\\xe7\\x9c\\x9f\\xe3\\x80\\x81\\xe6\\x92\\xae\\xe3\\x82\\x8c\\xe3\\x82\\x8b\\xe3\\x81\\xa8\\xe8\\x89\\xaf\\xe3\\x81\\x84\\xe3\\x81\\xaa\\xf0\\x9f\\x8e\\xb5', ''], '\\xf0\\x9f\\x92\\x95', 2, 0, [], [], 0, 0, [], [], [], 0, [], [], [], [], [], [], [], 0)\n",
      "(15, datetime.datetime(2016, 4, 18, 3, 21, 7, 278132), datetime.datetime(2016, 4, 18, 3, 21, 5), 'RT @ViraI: \"My dad thinks he\\'s funny\" \\xf0\\x9f\\x92\\x80\\xf0\\x9f\\x98\\x82 https://t.co/9YuhX9JguT', 0, 0, 'en', {}, {}, '', 'Danny', 'Noblethread12', ['\\xf0\\x9f\\x92\\x80', '\\xf0\\x9f\\x98\\x82'], [1, 1], 2, 2, ['funny\"', '\\xf0\\x9f\\x92\\x80'], ['\\xf0\\x9f\\x98\\x82', 'https://t.co/9YuhX9JguT'], ['RT @ViraI: \"My dad thinks he\\'s funny\"', '@ViraI: \"My dad thinks he\\'s funny\" \\xf0\\x9f\\x92\\x80'], ['\\xf0\\x9f\\x98\\x82 https://t.co/9YuhX9JguT', 'https://t.co/9YuhX9JguT'], 'rt', 1, 0, [], [], 0, 0, ['\\xf0\\x9f\\x92\\x80\\xf0\\x9f\\x98\\x82'], [1], [2], 1, ['funny\"'], ['https://t.co/9YuhX9JguT'], ['RT @ViraI: \"My dad thinks he\\'s funny\"'], ['\\xf0\\x9f\\x98\\x82 https://t.co/9YuhX9JguT'], ['\\xf0\\x9f\\x92\\x80\\xf0\\x9f\\x98\\x82'], [1], [2], 1)\n",
      "(16, datetime.datetime(2016, 4, 18, 3, 21, 7, 491981), datetime.datetime(2016, 4, 18, 3, 21, 5), 'RT @_infamous_king: I chocked on a sock because I was drunk \\xf0\\x9f\\x98\\xb9\\xf0\\x9f\\x98\\xb9 https://t.co/ZAoma8v65R', 0, 0, 'en', {}, {}, '', 'PDS', 'breedd_slayys', ['\\xf0\\x9f\\x98\\xb9'], [2], 2, 1, ['drunk'], ['https://t.co/ZAoma8v65R'], ['on a sock because I was drunk'], ['\\xf0\\x9f\\x98\\xb9 https://t.co/ZAoma8v65R'], 'i', 2, 0, [], [], 0, 0, ['\\xf0\\x9f\\x98\\xb9\\xf0\\x9f\\x98\\xb9'], [1], [2], 1, ['drunk'], ['https://t.co/ZAoma8v65R'], ['on a sock because I was drunk'], ['\\xf0\\x9f\\x98\\xb9 https://t.co/ZAoma8v65R'], ['\\xf0\\x9f\\x98\\xb9\\xf0\\x9f\\x98\\xb9'], [1], [2], 1)\n",
      "(17, datetime.datetime(2016, 4, 18, 3, 21, 8, 194786), datetime.datetime(2016, 4, 18, 3, 21, 5), 'RT @alhajrimeshal: \\xd9\\x84\\xd8\\xa7 \\xd9\\x86\\xd8\\xb4\\xd8\\xb9\\xd8\\xb1 \\xd9\\x81\\xd9\\x8a \\xd8\\xb6\\xd9\\x8a\\xd9\\x82 \\xd8\\xa7\\xd9\\x84\\xd9\\x85\\xd9\\x83\\xd8\\xa7\\xd9\\x86\\xd8\\x8c \\xd9\\x81 \\xd8\\xb5\\xd8\\xaf\\xd9\\x88\\xd8\\xb1\\xd9\\x86\\xd8\\xa7 \\xd9\\x81\\xd9\\x8a \\xd8\\xa7\\xd9\\x84\\xd8\\xb5\\xd9\\x84\\xd8\\xa7\\xd8\\xa9 \\xd8\\xaa\\xd8\\xaa\\xd8\\xb3\\xd8\\xb9\\xf0\\x9f\\x92\\x9b', 0, 0, 'ar', {}, {}, '', '\\xe2\\x95\\xae \\xd9\\x85\\xd9\\x80\\xda\\x9c\\xd8\\xb7\\xd9\\xbe \\xd9\\xb1\\xda\\xb5\\xd9\\x80\\xd8\\xad\\xd9\\x80\\xd9\\xb1\\xda\\x91\\xd9\\x87 \\xe2\\x95\\xad', 'txi4u', ['\\xf0\\x9f\\x92\\x9b'], [1], 1, 1, ['\\xd8\\xaa\\xd8\\xaa\\xd8\\xb3\\xd8\\xb9'], [''], ['\\xd8\\xb6\\xd9\\x8a\\xd9\\x82 \\xd8\\xa7\\xd9\\x84\\xd9\\x85\\xd9\\x83\\xd8\\xa7\\xd9\\x86\\xd8\\x8c \\xd9\\x81 \\xd8\\xb5\\xd8\\xaf\\xd9\\x88\\xd8\\xb1\\xd9\\x86\\xd8\\xa7 \\xd9\\x81\\xd9\\x8a \\xd8\\xa7\\xd9\\x84\\xd8\\xb5\\xd9\\x84\\xd8\\xa7\\xd8\\xa9 \\xd8\\xaa\\xd8\\xaa\\xd8\\xb3\\xd8\\xb9'], [''], '\\xd9\\x81\\xd9\\x8a', 2, 0, [], [], 0, 0, [], [], [], 0, [], [], [], [], [], [], [], 0)\n",
      "(18, datetime.datetime(2016, 4, 18, 3, 21, 8, 993143), datetime.datetime(2016, 4, 18, 3, 21, 5), '@1975brynne \\xf0\\x9f\\x98\\xbe\\xf0\\x9f\\x98\\xbe\\xf0\\x9f\\x98\\xbe', 0, 0, 'und', {}, {}, '', 'angel', 'cIearjoseph', ['\\xf0\\x9f\\x98\\xbe'], [3], 3, 1, ['@1975brynne'], [''], ['@1975brynne'], ['\\xf0\\x9f\\x98\\xbe \\xf0\\x9f\\x98\\xbe'], '\\xf0\\x9f\\x98\\xbe', 3, 0, [], [], 0, 0, ['\\xf0\\x9f\\x98\\xbe\\xf0\\x9f\\x98\\xbe\\xf0\\x9f\\x98\\xbe'], [1], [3], 1, ['@1975brynne'], [''], ['@1975brynne'], ['\\xf0\\x9f\\x98\\xbe\\xf0\\x9f\\x98\\xbe'], ['\\xf0\\x9f\\x98\\xbe\\xf0\\x9f\\x98\\xbe\\xf0\\x9f\\x98\\xbe'], [1], [3], 1)\n",
      "(19, datetime.datetime(2016, 4, 18, 3, 21, 9, 510035), datetime.datetime(2016, 4, 18, 3, 21, 5), \"I'm not ready for this this week to begin. Can we just rewind the weekend pls \\xf0\\x9f\\x98\\xa9\", 0, 0, 'en', {}, {}, 'Central Time (US & Canada)', \"Jamie O'Daniel\", 'jayy_odaniel20', ['\\xf0\\x9f\\x98\\xa9'], [1], 1, 1, ['pls'], [''], ['Can we just rewind the weekend pls'], [''], 'this', 2, 0, [], [], 0, 0, [], [], [], 0, [], [], [], [], [], [], [], 0)\n",
      "(48, datetime.datetime(2016, 4, 18, 3, 21, 25, 31120), datetime.datetime(2016, 4, 18, 3, 21, 9), 'Something gotta give dude like i cant be goin back &amp; forth with a old delusional person \\xf0\\x9f\\x98\\x92', 0, 0, 'en', {}, {}, '', '\\xe2\\x9c\\xa8Shayna Shante \\xe2\\x9c\\xa8', 'shawtii_redd25', ['\\xf0\\x9f\\x98\\x92'], [1], 1, 1, ['person'], [''], ['&amp; forth with a old delusional person'], [''], 'a', 1, 0, [], [], 0, 0, [], [], [], 0, [], [], [], [], [], [], [], 0)\n",
      "(20, datetime.datetime(2016, 4, 18, 3, 21, 10, 350), datetime.datetime(2016, 4, 18, 3, 21, 6), 'RT @Beale8698King: #\\xec\\x82\\xac\\xec\\x84\\xa4\\xed\\x86\\xa0\\xed\\x86\\xa0\\xec\\x82\\xac\\xec\\x9d\\xb4\\xed\\x8a\\xb8\\xec\\xb6\\x94\\xec\\xb2\\x9c\\n#\\xec\\x82\\xac\\xec\\x84\\xa4\\xed\\x86\\xa0\\xed\\x86\\xa0\\xec\\x82\\xac\\xec\\x9d\\xb4\\xed\\x8a\\xb8\\xec\\xb6\\x94\\xec\\xb2\\x9c\\n\\xec\\x95\\x88-\\xec\\xa0\\x84-\\xec\\x82\\xac-\\xec\\x84\\xa4-\\xed\\x86\\xa0-\\xed\\x86\\xa0-\\xec\\x82\\xac-\\xec\\x9d\\xb4-\\xed\\x8a\\xb8\\n\\n\\xe2\\x99\\x92\\n\\xe2\\x99\\x89\\n\\xe2\\x99\\x8a\\n\\n\\xf0\\x9f\\x94\\xbb\\xf0\\x9f\\x94\\xba\\xf0\\x9f\\x94\\xbb\\n\\xec\\xa0\\x91\\xec\\x86\\x8d\\xe2\\x9e\\xa1https://t.co/7FDK3tfEMG\\n\\xf0\\x9f\\x94\\xba\\xf0\\x9f\\x94\\xbb\\xf0\\x9f\\x94\\xba\\n\\n\\xe2\\x99\\x92\\n\\xe2\\x99\\x89\\n\\xe2\\x99\\x8a\\n\\nfmwc https://t.co/9KAh5jWf2E', 0, 0, 'ko', {}, {}, '', 'IDALIA', 'gordon21561', ['\\xf0\\x9f\\x94\\xbb', '\\xf0\\x9f\\x94\\xba'], [3, 3], 6, 2, ['\\xe2\\x99\\x8a', '\\xf0\\x9f\\x94\\xbb'], ['\\xf0\\x9f\\x94\\xba', '\\xe2\\x99\\x92'], ['@Beale8698King: #\\xec\\x82\\xac\\xec\\x84\\xa4\\xed\\x86\\xa0\\xed\\x86\\xa0\\xec\\x82\\xac\\xec\\x9d\\xb4\\xed\\x8a\\xb8\\xec\\xb6\\x94\\xec\\xb2\\x9c #\\xec\\x82\\xac\\xec\\x84\\xa4\\xed\\x86\\xa0\\xed\\x86\\xa0\\xec\\x82\\xac\\xec\\x9d\\xb4\\xed\\x8a\\xb8\\xec\\xb6\\x94\\xec\\xb2\\x9c \\xec\\x95\\x88-\\xec\\xa0\\x84-\\xec\\x82\\xac-\\xec\\x84\\xa4-\\xed\\x86\\xa0-\\xed\\x86\\xa0-\\xec\\x82\\xac-\\xec\\x9d\\xb4-\\xed\\x8a\\xb8 \\xe2\\x99\\x92 \\xe2\\x99\\x89 \\xe2\\x99\\x8a', '#\\xec\\x82\\xac\\xec\\x84\\xa4\\xed\\x86\\xa0\\xed\\x86\\xa0\\xec\\x82\\xac\\xec\\x9d\\xb4\\xed\\x8a\\xb8\\xec\\xb6\\x94\\xec\\xb2\\x9c #\\xec\\x82\\xac\\xec\\x84\\xa4\\xed\\x86\\xa0\\xed\\x86\\xa0\\xec\\x82\\xac\\xec\\x9d\\xb4\\xed\\x8a\\xb8\\xec\\xb6\\x94\\xec\\xb2\\x9c \\xec\\x95\\x88-\\xec\\xa0\\x84-\\xec\\x82\\xac-\\xec\\x84\\xa4-\\xed\\x86\\xa0-\\xed\\x86\\xa0-\\xec\\x82\\xac-\\xec\\x9d\\xb4-\\xed\\x8a\\xb8 \\xe2\\x99\\x92 \\xe2\\x99\\x89 \\xe2\\x99\\x8a \\xf0\\x9f\\x94\\xbb'], ['\\xf0\\x9f\\x94\\xba \\xf0\\x9f\\x94\\xbb \\xec\\xa0\\x91\\xec\\x86\\x8d\\xe2\\x9e\\xa1https://t.co/7FDK3tfEMG \\xf0\\x9f\\x94\\xba \\xf0\\x9f\\x94\\xbb \\xf0\\x9f\\x94\\xba \\xe2\\x99\\x92', '\\xf0\\x9f\\x94\\xbb \\xec\\xa0\\x91\\xec\\x86\\x8d\\xe2\\x9e\\xa1https://t.co/7FDK3tfEMG \\xf0\\x9f\\x94\\xba \\xf0\\x9f\\x94\\xbb \\xf0\\x9f\\x94\\xba \\xe2\\x99\\x92 \\xe2\\x99\\x89'], '\\xf0\\x9f\\x94\\xba', 3, 0, [], [], 0, 0, ['\\xf0\\x9f\\x94\\xbb\\xf0\\x9f\\x94\\xba\\xf0\\x9f\\x94\\xbb', '\\xf0\\x9f\\x94\\xba\\xf0\\x9f\\x94\\xbb\\xf0\\x9f\\x94\\xba'], [1, 1], [3, 3], 2, ['\\xe2\\x99\\x8a', '\\xec\\xa0\\x91\\xec\\x86\\x8d\\xe2\\x9e\\xa1https://t.co/7FDK3tfEMG'], ['\\xec\\xa0\\x91\\xec\\x86\\x8d\\xe2\\x9e\\xa1https://t.co/7FDK3tfEMG', '\\xe2\\x99\\x92'], ['@Beale8698King: #\\xec\\x82\\xac\\xec\\x84\\xa4\\xed\\x86\\xa0\\xed\\x86\\xa0\\xec\\x82\\xac\\xec\\x9d\\xb4\\xed\\x8a\\xb8\\xec\\xb6\\x94\\xec\\xb2\\x9c #\\xec\\x82\\xac\\xec\\x84\\xa4\\xed\\x86\\xa0\\xed\\x86\\xa0\\xec\\x82\\xac\\xec\\x9d\\xb4\\xed\\x8a\\xb8\\xec\\xb6\\x94\\xec\\xb2\\x9c \\xec\\x95\\x88-\\xec\\xa0\\x84-\\xec\\x82\\xac-\\xec\\x84\\xa4-\\xed\\x86\\xa0-\\xed\\x86\\xa0-\\xec\\x82\\xac-\\xec\\x9d\\xb4-\\xed\\x8a\\xb8 \\xe2\\x99\\x92 \\xe2\\x99\\x89 \\xe2\\x99\\x8a', '#\\xec\\x82\\xac\\xec\\x84\\xa4\\xed\\x86\\xa0\\xed\\x86\\xa0\\xec\\x82\\xac\\xec\\x9d\\xb4\\xed\\x8a\\xb8\\xec\\xb6\\x94\\xec\\xb2\\x9c \\xec\\x95\\x88-\\xec\\xa0\\x84-\\xec\\x82\\xac-\\xec\\x84\\xa4-\\xed\\x86\\xa0-\\xed\\x86\\xa0-\\xec\\x82\\xac-\\xec\\x9d\\xb4-\\xed\\x8a\\xb8 \\xe2\\x99\\x92 \\xe2\\x99\\x89 \\xe2\\x99\\x8a \\xf0\\x9f\\x94\\xbb\\xf0\\x9f\\x94\\xba\\xf0\\x9f\\x94\\xbb \\xec\\xa0\\x91\\xec\\x86\\x8d\\xe2\\x9e\\xa1https://t.co/7FDK3tfEMG'], ['\\xf0\\x9f\\x94\\xba\\xf0\\x9f\\x94\\xbb \\xec\\xa0\\x91\\xec\\x86\\x8d\\xe2\\x9e\\xa1https://t.co/7FDK3tfEMG \\xf0\\x9f\\x94\\xba\\xf0\\x9f\\x94\\xbb\\xf0\\x9f\\x94\\xba \\xe2\\x99\\x92 \\xe2\\x99\\x89 \\xe2\\x99\\x8a fmwc', '\\xf0\\x9f\\x94\\xbb\\xf0\\x9f\\x94\\xba \\xe2\\x99\\x92 \\xe2\\x99\\x89 \\xe2\\x99\\x8a fmwc https://t.co/9KAh5jWf2E'], ['\\xf0\\x9f\\x94\\xba\\xf0\\x9f\\x94\\xbb\\xf0\\x9f\\x94\\xba', '\\xf0\\x9f\\x94\\xbb\\xf0\\x9f\\x94\\xba\\xf0\\x9f\\x94\\xbb'], [1, 1], [3, 3], 2)\n",
      "(21, datetime.datetime(2016, 4, 18, 3, 21, 10, 415100), datetime.datetime(2016, 4, 18, 3, 21, 6), 'RT @ProyectoMagcon: Dicen que se abrazaron porque ser\\xc3\\xa1 su \\xc3\\xbaltimo show \\xf0\\x9f\\x98\\xad\\xf0\\x9f\\x98\\xad\\xf0\\x9f\\x98\\xad\\xf0\\x9f\\x98\\xad\\xf0\\x9f\\x98\\xad\\xf0\\x9f\\x98\\xad\\xf0\\x9f\\x98\\xad https://t.co/hXWUWKuZo2', 0, 0, 'es', {}, {}, 'Mexico City', 'Ame\\xe2\\x9d\\xa4', 'ame_baematthew', ['\\xf0\\x9f\\x98\\xad'], [7], 7, 1, ['show'], ['https://t.co/hXWUWKuZo2'], ['se abrazaron porque ser\\xc3\\xa1 su \\xc3\\xbaltimo show'], ['\\xf0\\x9f\\x98\\xad \\xf0\\x9f\\x98\\xad \\xf0\\x9f\\x98\\xad \\xf0\\x9f\\x98\\xad \\xf0\\x9f\\x98\\xad \\xf0\\x9f\\x98\\xad https://t.co/hXWUWKuZo2'], '\\xf0\\x9f\\x98\\xad', 7, 0, [], [], 0, 0, ['\\xf0\\x9f\\x98\\xad\\xf0\\x9f\\x98\\xad\\xf0\\x9f\\x98\\xad\\xf0\\x9f\\x98\\xad\\xf0\\x9f\\x98\\xad\\xf0\\x9f\\x98\\xad\\xf0\\x9f\\x98\\xad'], [1], [7], 1, ['show'], ['https://t.co/hXWUWKuZo2'], ['se abrazaron porque ser\\xc3\\xa1 su \\xc3\\xbaltimo show'], ['\\xf0\\x9f\\x98\\xad\\xf0\\x9f\\x98\\xad\\xf0\\x9f\\x98\\xad\\xf0\\x9f\\x98\\xad\\xf0\\x9f\\x98\\xad\\xf0\\x9f\\x98\\xad https://t.co/hXWUWKuZo2'], ['\\xf0\\x9f\\x98\\xad\\xf0\\x9f\\x98\\xad\\xf0\\x9f\\x98\\xad\\xf0\\x9f\\x98\\xad\\xf0\\x9f\\x98\\xad\\xf0\\x9f\\x98\\xad\\xf0\\x9f\\x98\\xad'], [1], [7], 1)\n",
      "(22, datetime.datetime(2016, 4, 18, 3, 21, 10, 616998), datetime.datetime(2016, 4, 18, 3, 21, 6), 'RT @WORLDSTAR: Waka Flocka gets confused for Richard Sherman \\xf0\\x9f\\x92\\x80 https://t.co/A7EnQD393g', 0, 0, 'en', {}, {}, '', 'Earvin Zu\\xc3\\xb1iga', 'Earvin99', ['\\xf0\\x9f\\x92\\x80'], [1], 1, 1, ['Sherman'], ['https://t.co/A7EnQD393g'], ['Waka Flocka gets confused for Richard Sherman'], ['https://t.co/A7EnQD393g'], 'rt', 1, 0, [], [], 0, 0, [], [], [], 0, [], [], [], [], [], [], [], 0)\n",
      "(23, datetime.datetime(2016, 4, 18, 3, 21, 10, 913080), datetime.datetime(2016, 4, 18, 3, 21, 6), 'Este chistesito nos va a salir caro -mi mama cada vez que la cago\\xf0\\x9f\\x99\\x84', 0, 0, 'es', {}, {}, 'Central Time (US & Canada)', 'Mirella Vela', 'Mirellavel7', ['\\xf0\\x9f\\x99\\x84'], [1], 1, 1, ['cago'], [''], ['-mi mama cada vez que la cago'], [''], 'a', 1, 0, [], [], 0, 0, [], [], [], 0, [], [], [], [], [], [], [], 0)\n",
      "(24, datetime.datetime(2016, 4, 18, 3, 21, 11, 20862), datetime.datetime(2016, 4, 18, 3, 21, 6), '@jussjazzy_ thanks \\xe2\\x98\\xba\\xef\\xb8\\x8f', 0, 0, 'en', {}, {}, 'Eastern Time (US & Canada)', 'Jai', '_JaiJai__', ['\\xe2\\x98\\xba\\xef\\xb8\\x8f'], [1], 1, 1, ['thanks'], [''], ['@jussjazzy_ thanks'], [''], '@jussjazzy_', 1, 0, [], [], 0, 0, [], [], [], 0, [], [], [], [], [], [], [], 0)\n",
      "(25, datetime.datetime(2016, 4, 18, 3, 21, 11, 607213), datetime.datetime(2016, 4, 18, 3, 21, 6), 'RT @MATIKNC1990: \\xe0\\xb8\\xaa\\xe0\\xb8\\xb2\\xe0\\xb8\\xa2\\xe0\\xb8\\x95\\xe0\\xb8\\xb2\\xe0\\xb8\\x97\\xe0\\xb8\\xb5\\xe0\\xb9\\x88\\xe0\\xb8\\xa1\\xe0\\xb8\\xad\\xe0\\xb8\\x87\\xe0\\xb8\\x99\\xe0\\xb9\\x89\\xe0\\xb8\\xad\\xe0\\xb8\\x87 \\xe0\\xb8\\x97\\xe0\\xb8\\xb3\\xe0\\xb9\\x84\\xe0\\xb8\\xa1\\xe0\\xb8\\x96\\xe0\\xb8\\xb6\\xe0\\xb8\\x87\\xe0\\xb8\\x94\\xe0\\xb8\\xb9\\xe0\\xb8\\xa5\\xe0\\xb8\\xb0\\xe0\\xb8\\xa1\\xe0\\xb8\\xb8\\xe0\\xb8\\x99\\xe0\\xb8\\x82\\xe0\\xb8\\x99\\xe0\\xb8\\xb2\\xe0\\xb8\\x94\\xe0\\xb8\\x99\\xe0\\xb8\\xb1\\xe0\\xb9\\x89\\xe0\\xb8\\x99\\xe0\\xb8\\x99\\xe0\\xb8\\xb0\\xf0\\x9f\\x98\\x8a\\xf0\\x9f\\x98\\x8a\\xf0\\x9f\\x98\\x8a\\xe0\\xb8\\xa1\\xe0\\xb8\\xb5\\xe0\\xb9\\x81\\xe0\\xb8\\xad\\xe0\\xb8\\x9a\\xe0\\xb8\\xa2\\xe0\\xb8\\xb4\\xe0\\xb9\\x89\\xe0\\xb8\\xa1\\xe0\\xb8\\xad\\xe0\\xb8\\xb5\\xe0\\xb9\\x8a\\xe0\\xb8\\x81\\n\\n#\\xe0\\xb8\\x84\\xe0\\xb8\\xa2\\xe0\\xb8\\xad\\xe0\\xb8\\x87\\xe0\\xb8\\x8b\\xe0\\xb8\\xb9\\xe0\\xb8\\x9c\\xe0\\xb8\\xb9\\xe0\\xb9\\x89\\xe0\\xb9\\x84\\xe0\\xb8\\xa1\\xe0\\xb9\\x88\\xe0\\xb8\\xa3\\xe0\\xb8\\xb9\\xe0\\xb9\\x89\\xe0\\xb8\\xa7\\xe0\\xb9\\x88\\xe0\\xb8\\xb2\\xe0\\xb8\\x95\\xe0\\xb8\\xb1\\xe0\\xb8\\xa7\\xe0\\xb9\\x80\\xe0\\xb8\\xad\\xe0\\xb8\\x87\\xe0\\xb8\\x99\\xe0\\xb9\\x88\\xe0\\xb8\\xb2\\xe0\\xb8\\xa3\\xe0\\xb8\\xb1\\xe0\\xb8\\x81 \\n#\\xe0\\xb9\\x84\\xe0\\xb8\\x84\\xe0\\xb9\\x82\\xe0\\xb8\\x94\\xe0\\xb9\\x89 #kaido #kadi #\\xe0\\xb8\\x84\\xe0\\xb8\\xb2\\xe0\\xb8\\x94\\xe0\\xb8\\xb4 https\\xe2\\x80\\xa6', 0, 0, 'th', {}, {}, '', 'M', 'Nanticha_mn', ['\\xf0\\x9f\\x98\\x8a'], [3], 3, 1, ['\\xe0\\xb8\\x97\\xe0\\xb8\\xb3\\xe0\\xb9\\x84\\xe0\\xb8\\xa1\\xe0\\xb8\\x96\\xe0\\xb8\\xb6\\xe0\\xb8\\x87\\xe0\\xb8\\x94\\xe0\\xb8\\xb9\\xe0\\xb8\\xa5\\xe0\\xb8\\xb0\\xe0\\xb8\\xa1\\xe0\\xb8\\xb8\\xe0\\xb8\\x99\\xe0\\xb8\\x82\\xe0\\xb8\\x99\\xe0\\xb8\\xb2\\xe0\\xb8\\x94\\xe0\\xb8\\x99\\xe0\\xb8\\xb1\\xe0\\xb9\\x89\\xe0\\xb8\\x99\\xe0\\xb8\\x99\\xe0\\xb8\\xb0'], ['\\xe0\\xb8\\xa1\\xe0\\xb8\\xb5\\xe0\\xb9\\x81\\xe0\\xb8\\xad\\xe0\\xb8\\x9a\\xe0\\xb8\\xa2\\xe0\\xb8\\xb4\\xe0\\xb9\\x89\\xe0\\xb8\\xa1\\xe0\\xb8\\xad\\xe0\\xb8\\xb5\\xe0\\xb9\\x8a\\xe0\\xb8\\x81'], ['RT @MATIKNC1990: \\xe0\\xb8\\xaa\\xe0\\xb8\\xb2\\xe0\\xb8\\xa2\\xe0\\xb8\\x95\\xe0\\xb8\\xb2\\xe0\\xb8\\x97\\xe0\\xb8\\xb5\\xe0\\xb9\\x88\\xe0\\xb8\\xa1\\xe0\\xb8\\xad\\xe0\\xb8\\x87\\xe0\\xb8\\x99\\xe0\\xb9\\x89\\xe0\\xb8\\xad\\xe0\\xb8\\x87 \\xe0\\xb8\\x97\\xe0\\xb8\\xb3\\xe0\\xb9\\x84\\xe0\\xb8\\xa1\\xe0\\xb8\\x96\\xe0\\xb8\\xb6\\xe0\\xb8\\x87\\xe0\\xb8\\x94\\xe0\\xb8\\xb9\\xe0\\xb8\\xa5\\xe0\\xb8\\xb0\\xe0\\xb8\\xa1\\xe0\\xb8\\xb8\\xe0\\xb8\\x99\\xe0\\xb8\\x82\\xe0\\xb8\\x99\\xe0\\xb8\\xb2\\xe0\\xb8\\x94\\xe0\\xb8\\x99\\xe0\\xb8\\xb1\\xe0\\xb9\\x89\\xe0\\xb8\\x99\\xe0\\xb8\\x99\\xe0\\xb8\\xb0'], ['\\xf0\\x9f\\x98\\x8a \\xf0\\x9f\\x98\\x8a \\xe0\\xb8\\xa1\\xe0\\xb8\\xb5\\xe0\\xb9\\x81\\xe0\\xb8\\xad\\xe0\\xb8\\x9a\\xe0\\xb8\\xa2\\xe0\\xb8\\xb4\\xe0\\xb9\\x89\\xe0\\xb8\\xa1\\xe0\\xb8\\xad\\xe0\\xb8\\xb5\\xe0\\xb9\\x8a\\xe0\\xb8\\x81 #\\xe0\\xb8\\x84\\xe0\\xb8\\xa2\\xe0\\xb8\\xad\\xe0\\xb8\\x87\\xe0\\xb8\\x8b\\xe0\\xb8\\xb9\\xe0\\xb8\\x9c\\xe0\\xb8\\xb9\\xe0\\xb9\\x89\\xe0\\xb9\\x84\\xe0\\xb8\\xa1\\xe0\\xb9\\x88\\xe0\\xb8\\xa3\\xe0\\xb8\\xb9\\xe0\\xb9\\x89\\xe0\\xb8\\xa7\\xe0\\xb9\\x88\\xe0\\xb8\\xb2\\xe0\\xb8\\x95\\xe0\\xb8\\xb1\\xe0\\xb8\\xa7\\xe0\\xb9\\x80\\xe0\\xb8\\xad\\xe0\\xb8\\x87\\xe0\\xb8\\x99\\xe0\\xb9\\x88\\xe0\\xb8\\xb2\\xe0\\xb8\\xa3\\xe0\\xb8\\xb1\\xe0\\xb8\\x81 #\\xe0\\xb9\\x84\\xe0\\xb8\\x84\\xe0\\xb9\\x82\\xe0\\xb8\\x94\\xe0\\xb9\\x89 #kaido #kadi'], '\\xf0\\x9f\\x98\\x8a', 2, 0, [], [], 0, 0, ['\\xf0\\x9f\\x98\\x8a\\xf0\\x9f\\x98\\x8a'], [1], [2], 1, ['\\xe0\\xb8\\x97\\xe0\\xb8\\xb3\\xe0\\xb9\\x84\\xe0\\xb8\\xa1\\xe0\\xb8\\x96\\xe0\\xb8\\xb6\\xe0\\xb8\\x87\\xe0\\xb8\\x94\\xe0\\xb8\\xb9\\xe0\\xb8\\xa5\\xe0\\xb8\\xb0\\xe0\\xb8\\xa1\\xe0\\xb8\\xb8\\xe0\\xb8\\x99\\xe0\\xb8\\x82\\xe0\\xb8\\x99\\xe0\\xb8\\xb2\\xe0\\xb8\\x94\\xe0\\xb8\\x99\\xe0\\xb8\\xb1\\xe0\\xb9\\x89\\xe0\\xb8\\x99\\xe0\\xb8\\x99\\xe0\\xb8\\xb0'], ['\\xe0\\xb8\\xa1\\xe0\\xb8\\xb5\\xe0\\xb9\\x81\\xe0\\xb8\\xad\\xe0\\xb8\\x9a\\xe0\\xb8\\xa2\\xe0\\xb8\\xb4\\xe0\\xb9\\x89\\xe0\\xb8\\xa1\\xe0\\xb8\\xad\\xe0\\xb8\\xb5\\xe0\\xb9\\x8a\\xe0\\xb8\\x81'], ['RT @MATIKNC1990: \\xe0\\xb8\\xaa\\xe0\\xb8\\xb2\\xe0\\xb8\\xa2\\xe0\\xb8\\x95\\xe0\\xb8\\xb2\\xe0\\xb8\\x97\\xe0\\xb8\\xb5\\xe0\\xb9\\x88\\xe0\\xb8\\xa1\\xe0\\xb8\\xad\\xe0\\xb8\\x87\\xe0\\xb8\\x99\\xe0\\xb9\\x89\\xe0\\xb8\\xad\\xe0\\xb8\\x87 \\xe0\\xb8\\x97\\xe0\\xb8\\xb3\\xe0\\xb9\\x84\\xe0\\xb8\\xa1\\xe0\\xb8\\x96\\xe0\\xb8\\xb6\\xe0\\xb8\\x87\\xe0\\xb8\\x94\\xe0\\xb8\\xb9\\xe0\\xb8\\xa5\\xe0\\xb8\\xb0\\xe0\\xb8\\xa1\\xe0\\xb8\\xb8\\xe0\\xb8\\x99\\xe0\\xb8\\x82\\xe0\\xb8\\x99\\xe0\\xb8\\xb2\\xe0\\xb8\\x94\\xe0\\xb8\\x99\\xe0\\xb8\\xb1\\xe0\\xb9\\x89\\xe0\\xb8\\x99\\xe0\\xb8\\x99\\xe0\\xb8\\xb0'], ['\\xf0\\x9f\\x98\\x8a\\xf0\\x9f\\x98\\x8a\\xe0\\xb8\\xa1\\xe0\\xb8\\xb5\\xe0\\xb9\\x81\\xe0\\xb8\\xad\\xe0\\xb8\\x9a\\xe0\\xb8\\xa2\\xe0\\xb8\\xb4\\xe0\\xb9\\x89\\xe0\\xb8\\xa1\\xe0\\xb8\\xad\\xe0\\xb8\\xb5\\xe0\\xb9\\x8a\\xe0\\xb8\\x81 #\\xe0\\xb8\\x84\\xe0\\xb8\\xa2\\xe0\\xb8\\xad\\xe0\\xb8\\x87\\xe0\\xb8\\x8b\\xe0\\xb8\\xb9\\xe0\\xb8\\x9c\\xe0\\xb8\\xb9\\xe0\\xb9\\x89\\xe0\\xb9\\x84\\xe0\\xb8\\xa1\\xe0\\xb9\\x88\\xe0\\xb8\\xa3\\xe0\\xb8\\xb9\\xe0\\xb9\\x89\\xe0\\xb8\\xa7\\xe0\\xb9\\x88\\xe0\\xb8\\xb2\\xe0\\xb8\\x95\\xe0\\xb8\\xb1\\xe0\\xb8\\xa7\\xe0\\xb9\\x80\\xe0\\xb8\\xad\\xe0\\xb8\\x87\\xe0\\xb8\\x99\\xe0\\xb9\\x88\\xe0\\xb8\\xb2\\xe0\\xb8\\xa3\\xe0\\xb8\\xb1\\xe0\\xb8\\x81 #\\xe0\\xb9\\x84\\xe0\\xb8\\x84\\xe0\\xb9\\x82\\xe0\\xb8\\x94\\xe0\\xb9\\x89 #kaido #kadi #\\xe0\\xb8\\x84\\xe0\\xb8\\xb2\\xe0\\xb8\\x94\\xe0\\xb8\\xb4 https\\xe2\\x80\\xa6'], ['\\xf0\\x9f\\x98\\x8a\\xf0\\x9f\\x98\\x8a'], [1], [2], 1)\n",
      "(26, datetime.datetime(2016, 4, 18, 3, 21, 12, 211436), datetime.datetime(2016, 4, 18, 3, 21, 6), '18 sos re buena onda\\xf0\\x9f\\x91\\x8c y cuando quieras vpi \\xf0\\x9f\\x91\\x89\\xf0\\x9f\\x9a\\xb2', 0, 0, 'es', {}, {}, '', 'F E D E R I C O', 'FefoMartin98', ['\\xf0\\x9f\\x9a\\xb2', '\\xf0\\x9f\\x91\\x8c', '\\xf0\\x9f\\x91\\x89'], [1, 1, 1], 3, 3, ['\\xf0\\x9f\\x91\\x89', 'onda', 'vpi'], ['', 'y', '\\xf0\\x9f\\x9a\\xb2'], ['buena onda\\xf0\\x9f\\x91\\x8c y cuando quieras vpi \\xf0\\x9f\\x91\\x89', '18 sos re buena onda', 're buena onda\\xf0\\x9f\\x91\\x8c y cuando quieras vpi'], ['', 'y cuando quieras vpi \\xf0\\x9f\\x91\\x89 \\xf0\\x9f\\x9a\\xb2', '\\xf0\\x9f\\x9a\\xb2'], 'onda\\xf0\\x9f\\x91\\x8c', 1, 0, [], [], 0, 0, ['\\xf0\\x9f\\x91\\x89\\xf0\\x9f\\x9a\\xb2'], [1], [2], 1, ['vpi'], [''], ['re buena onda\\xf0\\x9f\\x91\\x8c y cuando quieras vpi'], ['\\xf0\\x9f\\x9a\\xb2'], ['\\xf0\\x9f\\x91\\x89\\xf0\\x9f\\x9a\\xb2'], [1], [2], 1)\n",
      "(27, datetime.datetime(2016, 4, 18, 3, 21, 13, 627907), datetime.datetime(2016, 4, 18, 3, 21, 6), 'M\\xc3\\xbasica \\xe2\\x9e\\x95 d\\xc3\\xada lluvioso igual perfecto.', 0, 0, 'es', {}, {}, '', 'Nicolas_Martin*-', 'NicoMartin007', ['\\xe2\\x9e\\x95'], [1], 1, 1, ['M\\xc3\\xbasica'], ['d\\xc3\\xada'], ['M\\xc3\\xbasica'], ['d\\xc3\\xada lluvioso igual perfecto.'], 'd\\xc3\\xada', 1, 0, [], [], 0, 0, [], [], [], 0, [], [], [], [], [], [], [], 0)\n",
      "(28, datetime.datetime(2016, 4, 18, 3, 21, 15, 285329), datetime.datetime(2016, 4, 18, 3, 21, 7), '@_Fraydoe good night \\xe2\\x9d\\xa4\\xef\\xb8\\x8f\\xf0\\x9f\\x91\\x89\\xf0\\x9f\\x8f\\xbc\\xf0\\x9f\\x91\\x8c\\xf0\\x9f\\x8f\\xbc\\xf0\\x9f\\x91\\x89\\xf0\\x9f\\x8f\\xbc\\xf0\\x9f\\x91\\x8c\\xf0\\x9f\\x8f\\xbc', 0, 0, 'en', {}, {}, '', 'Angela lol', 'angelamiranda48', ['\\xf0\\x9f\\x91\\x8c\\xf0\\x9f\\x8f\\xbc', '\\xf0\\x9f\\x91\\x8c', '\\xf0\\x9f\\x91\\x89\\xf0\\x9f\\x8f\\xbc', '\\xf0\\x9f\\x91\\x89', '\\xe2\\x9d\\xa4\\xef\\xb8\\x8f'], [2, 2, 2, 2, 1], 9, 5, ['\\xf0\\x9f\\x91\\x89\\xf0\\x9f\\x8f\\xbc', '\\xf0\\x9f\\x91\\x89\\xf0\\x9f\\x8f\\xbc', '\\xe2\\x9d\\xa4\\xef\\xb8\\x8f', '\\xe2\\x9d\\xa4\\xef\\xb8\\x8f', 'night'], ['', '\\xf0\\x9f\\x8f\\xbc', '\\xf0\\x9f\\x91\\x8c\\xf0\\x9f\\x8f\\xbc', '\\xf0\\x9f\\x8f\\xbc', '\\xf0\\x9f\\x91\\x89\\xf0\\x9f\\x8f\\xbc'], ['@_Fraydoe good night \\xe2\\x9d\\xa4\\xef\\xb8\\x8f \\xf0\\x9f\\x91\\x89\\xf0\\x9f\\x8f\\xbc', '@_Fraydoe good night \\xe2\\x9d\\xa4\\xef\\xb8\\x8f \\xf0\\x9f\\x91\\x89\\xf0\\x9f\\x8f\\xbc', '@_Fraydoe good night \\xe2\\x9d\\xa4\\xef\\xb8\\x8f', '@_Fraydoe good night \\xe2\\x9d\\xa4\\xef\\xb8\\x8f', '@_Fraydoe good night'], ['\\xf0\\x9f\\x8f\\xbc \\xf0\\x9f\\x91\\x89\\xf0\\x9f\\x8f\\xbc \\xf0\\x9f\\x91\\x8c\\xf0\\x9f\\x8f\\xbc', '\\xf0\\x9f\\x8f\\xbc \\xf0\\x9f\\x91\\x89\\xf0\\x9f\\x8f\\xbc \\xf0\\x9f\\x91\\x8c\\xf0\\x9f\\x8f\\xbc', '\\xf0\\x9f\\x8f\\xbc \\xf0\\x9f\\x91\\x8c\\xf0\\x9f\\x8f\\xbc \\xf0\\x9f\\x91\\x89\\xf0\\x9f\\x8f\\xbc \\xf0\\x9f\\x91\\x8c\\xf0\\x9f\\x8f\\xbc', '\\xf0\\x9f\\x8f\\xbc \\xf0\\x9f\\x91\\x8c\\xf0\\x9f\\x8f\\xbc \\xf0\\x9f\\x91\\x89\\xf0\\x9f\\x8f\\xbc \\xf0\\x9f\\x91\\x8c\\xf0\\x9f\\x8f\\xbc', '\\xf0\\x9f\\x91\\x89\\xf0\\x9f\\x8f\\xbc \\xf0\\x9f\\x91\\x8c\\xf0\\x9f\\x8f\\xbc \\xf0\\x9f\\x91\\x89\\xf0\\x9f\\x8f\\xbc \\xf0\\x9f\\x91\\x8c\\xf0\\x9f\\x8f\\xbc'], '\\xf0\\x9f\\x91\\x89\\xf0\\x9f\\x8f\\xbc', 2, 0, ['\\xf0\\x9f\\x8f\\xbc'], [4], 4, 1, ['\\xe2\\x9d\\xa4\\xef\\xb8\\x8f\\xf0\\x9f\\x91\\x89\\xf0\\x9f\\x8f\\xbc\\xf0\\x9f\\x91\\x8c\\xf0\\x9f\\x8f\\xbc\\xf0\\x9f\\x91\\x89\\xf0\\x9f\\x8f\\xbc\\xf0\\x9f\\x91\\x8c\\xf0\\x9f\\x8f\\xbc'], [1], [9], 1, ['night'], [''], ['@_Fraydoe good night'], ['\\xf0\\x9f\\x91\\x89\\xf0\\x9f\\x8f\\xbc\\xf0\\x9f\\x91\\x8c\\xf0\\x9f\\x8f\\xbc\\xf0\\x9f\\x91\\x89\\xf0\\x9f\\x8f\\xbc\\xf0\\x9f\\x91\\x8c\\xf0\\x9f\\x8f\\xbc'], ['\\xe2\\x9d\\xa4\\xef\\xb8\\x8f\\xf0\\x9f\\x91\\x89\\xf0\\x9f\\x8f\\xbc\\xf0\\x9f\\x91\\x8c\\xf0\\x9f\\x8f\\xbc\\xf0\\x9f\\x91\\x89\\xf0\\x9f\\x8f\\xbc\\xf0\\x9f\\x91\\x8c\\xf0\\x9f\\x8f\\xbc'], [1], [9], 1)\n",
      "(29, datetime.datetime(2016, 4, 18, 3, 21, 15, 491021), datetime.datetime(2016, 4, 18, 3, 21, 7), 'RT @hshsANM: Free\\xe3\\x81\\xae\\xe8\\x81\\x96\\xe5\\x9c\\xb0\\xe5\\x9b\\x9e\\xe3\\x82\\x8c\\xe3\\x82\\x8b\\xe3\\x81\\xa0\\xe3\\x81\\x91\\xe5\\x9b\\x9e\\xe3\\x81\\xa3\\xe3\\x81\\xa6\\xe3\\x81\\x8f\\xe3\\x82\\x8b\\xf0\\x9f\\x98\\x86\\xe2\\x9d\\xa4\\xef\\xb8\\x8f https://t.co/P4GiaXx3hd', 0, 0, 'ja', {}, {}, 'Irkutsk', '\\xe3\\x82\\x8a\\xe3\\x81\\x8b\\xe3\\x81\\xbc\\xe3\\x83\\xbc@20\\xe6\\x97\\xa5KAT-TUN\\xe4\\xba\\xac\\xe3\\x82\\xbb\\xe3\\x83\\xa9', 'obakir_ktc_jnkm', ['\\xe2\\x9d\\xa4\\xef\\xb8\\x8f', '\\xf0\\x9f\\x98\\x86'], [1, 1], 2, 2, ['Free\\xe3\\x81\\xae\\xe8\\x81\\x96\\xe5\\x9c\\xb0\\xe5\\x9b\\x9e\\xe3\\x82\\x8c\\xe3\\x82\\x8b\\xe3\\x81\\xa0\\xe3\\x81\\x91\\xe5\\x9b\\x9e\\xe3\\x81\\xa3\\xe3\\x81\\xa6\\xe3\\x81\\x8f\\xe3\\x82\\x8b\\xf0\\x9f\\x98\\x86', 'Free\\xe3\\x81\\xae\\xe8\\x81\\x96\\xe5\\x9c\\xb0\\xe5\\x9b\\x9e\\xe3\\x82\\x8c\\xe3\\x82\\x8b\\xe3\\x81\\xa0\\xe3\\x81\\x91\\xe5\\x9b\\x9e\\xe3\\x81\\xa3\\xe3\\x81\\xa6\\xe3\\x81\\x8f\\xe3\\x82\\x8b'], ['https://t.co/P4GiaXx3hd', '\\xe2\\x9d\\xa4\\xef\\xb8\\x8f'], ['RT @hshsANM: Free\\xe3\\x81\\xae\\xe8\\x81\\x96\\xe5\\x9c\\xb0\\xe5\\x9b\\x9e\\xe3\\x82\\x8c\\xe3\\x82\\x8b\\xe3\\x81\\xa0\\xe3\\x81\\x91\\xe5\\x9b\\x9e\\xe3\\x81\\xa3\\xe3\\x81\\xa6\\xe3\\x81\\x8f\\xe3\\x82\\x8b\\xf0\\x9f\\x98\\x86', 'RT @hshsANM: Free\\xe3\\x81\\xae\\xe8\\x81\\x96\\xe5\\x9c\\xb0\\xe5\\x9b\\x9e\\xe3\\x82\\x8c\\xe3\\x82\\x8b\\xe3\\x81\\xa0\\xe3\\x81\\x91\\xe5\\x9b\\x9e\\xe3\\x81\\xa3\\xe3\\x81\\xa6\\xe3\\x81\\x8f\\xe3\\x82\\x8b'], ['https://t.co/P4GiaXx3hd', '\\xe2\\x9d\\xa4\\xef\\xb8\\x8f https://t.co/P4GiaXx3hd'], 'rt', 1, 0, [], [], 0, 0, [], [], [], 0, [], [], [], [], [], [], [], 0)\n",
      "(30, datetime.datetime(2016, 4, 18, 3, 21, 16, 320235), datetime.datetime(2016, 4, 18, 3, 21, 7), '#JonSecada\\nx11\\xf0\\x9f\\x92\\xaa\\xf0\\x9f\\x8f\\xbb', 0, 0, 'und', {}, {}, '', 'Evelyn duran', 'evelyduran1', ['\\xf0\\x9f\\x92\\xaa\\xf0\\x9f\\x8f\\xbb', '\\xf0\\x9f\\x92\\xaa'], [1, 1], 2, 2, ['x11', 'x11'], ['', '\\xf0\\x9f\\x8f\\xbb'], ['#JonSecada x11', '#JonSecada x11'], ['\\xf0\\x9f\\x8f\\xbb', '\\xf0\\x9f\\x8f\\xbb'], 'x11\\xf0\\x9f\\x92\\xaa\\xf0\\x9f\\x8f\\xbb', 1, 0, ['\\xf0\\x9f\\x8f\\xbb'], [1], 1, 1, [], [], [], 0, [], [], [], [], [], [], [], 0)\n",
      "(31, datetime.datetime(2016, 4, 18, 3, 21, 16, 641974), datetime.datetime(2016, 4, 18, 3, 21, 7), 'RT @chocoloveAc: #preguntalealmoreno o queee? Jaja qui\\xc3\\xa9n anda despiertoooo?\\xe2\\x9d\\xa4\\xef\\xb8\\x8f', 0, 0, 'es', {}, {}, '', '\\xe2\\x9c\\xa8Liliana\\xe2\\x9c\\xa8', 'Lily_TreviV', ['\\xe2\\x9d\\xa4\\xef\\xb8\\x8f'], [1], 1, 1, ['despiertoooo?'], [''], ['#preguntalealmoreno o queee? Jaja qui\\xc3\\xa9n anda despiertoooo?'], [''], 'rt', 1, 0, [], [], 0, 0, [], [], [], 0, [], [], [], [], [], [], [], 0)\n",
      "(32, datetime.datetime(2016, 4, 18, 3, 21, 17, 241147), datetime.datetime(2016, 4, 18, 3, 21, 7), '@mima326 \\xe8\\x89\\xaf\\xe3\\x81\\x8b\\xe3\\x81\\xa3\\xe3\\x81\\x9f\\xe3\\x81\\x98\\xe3\\x82\\x83\\xe3\\x82\\x93\\xe2\\x9c\\xa8\\xe3\\x81\\x8a\\xe3\\x82\\x81\\xe3\\x81\\xa7\\xe3\\x81\\xa8\\xe3\\x81\\x89\\xe3\\x8a\\x97\\xef\\xb8\\x8f', 0, 0, 'ja', {}, {}, 'Tokyo', '\\xe3\\x81\\x99\\xe3\\x82\\x93', 'asupoyon', ['\\xe3\\x8a\\x97\\xef\\xb8\\x8f', '\\xe2\\x9c\\xa8'], [1, 1], 2, 2, ['\\xe3\\x81\\x8a\\xe3\\x82\\x81\\xe3\\x81\\xa7\\xe3\\x81\\xa8\\xe3\\x81\\x89', '\\xe8\\x89\\xaf\\xe3\\x81\\x8b\\xe3\\x81\\xa3\\xe3\\x81\\x9f\\xe3\\x81\\x98\\xe3\\x82\\x83\\xe3\\x82\\x93'], ['', '\\xe3\\x81\\x8a\\xe3\\x82\\x81\\xe3\\x81\\xa7\\xe3\\x81\\xa8\\xe3\\x81\\x89\\xe3\\x8a\\x97\\xef\\xb8\\x8f'], ['@mima326 \\xe8\\x89\\xaf\\xe3\\x81\\x8b\\xe3\\x81\\xa3\\xe3\\x81\\x9f\\xe3\\x81\\x98\\xe3\\x82\\x83\\xe3\\x82\\x93\\xe2\\x9c\\xa8 \\xe3\\x81\\x8a\\xe3\\x82\\x81\\xe3\\x81\\xa7\\xe3\\x81\\xa8\\xe3\\x81\\x89', '@mima326 \\xe8\\x89\\xaf\\xe3\\x81\\x8b\\xe3\\x81\\xa3\\xe3\\x81\\x9f\\xe3\\x81\\x98\\xe3\\x82\\x83\\xe3\\x82\\x93'], ['', '\\xe3\\x81\\x8a\\xe3\\x82\\x81\\xe3\\x81\\xa7\\xe3\\x81\\xa8\\xe3\\x81\\x89\\xe3\\x8a\\x97\\xef\\xb8\\x8f'], '\\xe8\\x89\\xaf\\xe3\\x81\\x8b\\xe3\\x81\\xa3\\xe3\\x81\\x9f\\xe3\\x81\\x98\\xe3\\x82\\x83\\xe3\\x82\\x93\\xe2\\x9c\\xa8', 1, 0, [], [], 0, 0, [], [], [], 0, [], [], [], [], [], [], [], 0)\n",
      "(33, datetime.datetime(2016, 4, 18, 3, 21, 17, 722882), datetime.datetime(2016, 4, 18, 3, 21, 7), '\\xf0\\x9f\\x8e\\x82\\xf0\\x9f\\x8e\\x81\\xf0\\x9f\\x8e\\x89\\xf0\\x9f\\x8e\\x89\\xf0\\x9f\\x8e\\x89', 0, 0, 'und', {}, {}, '', '\\xc3\\x82m\\xc4\\xabr de Bl\\xc3\\xbame.', 'DonovanAmir', ['\\xf0\\x9f\\x8e\\x89', '\\xf0\\x9f\\x8e\\x81', '\\xf0\\x9f\\x8e\\x82'], [3, 1, 1], 5, 3, ['\\xf0\\x9f\\x8e\\x81', '\\xf0\\x9f\\x8e\\x82', ''], ['', '\\xf0\\x9f\\x8e\\x89', '\\xf0\\x9f\\x8e\\x81'], ['\\xf0\\x9f\\x8e\\x82 \\xf0\\x9f\\x8e\\x81', '\\xf0\\x9f\\x8e\\x82', ''], ['\\xf0\\x9f\\x8e\\x89 \\xf0\\x9f\\x8e\\x89', '\\xf0\\x9f\\x8e\\x89 \\xf0\\x9f\\x8e\\x89 \\xf0\\x9f\\x8e\\x89', '\\xf0\\x9f\\x8e\\x81 \\xf0\\x9f\\x8e\\x89 \\xf0\\x9f\\x8e\\x89 \\xf0\\x9f\\x8e\\x89'], '\\xf0\\x9f\\x8e\\x89', 3, 0, [], [], 0, 0, ['\\xf0\\x9f\\x8e\\x82\\xf0\\x9f\\x8e\\x81\\xf0\\x9f\\x8e\\x89\\xf0\\x9f\\x8e\\x89\\xf0\\x9f\\x8e\\x89'], [1], [5], 1, [''], [''], [''], ['\\xf0\\x9f\\x8e\\x81\\xf0\\x9f\\x8e\\x89\\xf0\\x9f\\x8e\\x89\\xf0\\x9f\\x8e\\x89'], ['\\xf0\\x9f\\x8e\\x82\\xf0\\x9f\\x8e\\x81\\xf0\\x9f\\x8e\\x89\\xf0\\x9f\\x8e\\x89\\xf0\\x9f\\x8e\\x89'], [1], [5], 1)\n",
      "(34, datetime.datetime(2016, 4, 18, 3, 21, 18, 903998), datetime.datetime(2016, 4, 18, 3, 21, 7), \"@DylanTheFishy *Purposely has basd night because I'm a rebel and never do what I'm told* \\xf0\\x9f\\x98\\x9c\\xf0\\x9f\\x98\\x8e\\xf0\\x9f\\x98\\xb9\\xe2\\x9c\\x8c\", 0, 0, 'en', {}, {}, 'Pacific Time (US & Canada)', 'Daniel Purdy', 'Danni_Gurlll', ['\\xf0\\x9f\\x98\\xb9', '\\xf0\\x9f\\x98\\x9c', '\\xf0\\x9f\\x98\\x8e'], [1, 1, 1], 3, 3, ['\\xf0\\x9f\\x98\\x8e', 'told*', '\\xf0\\x9f\\x98\\x9c'], ['\\xe2\\x9c\\x8c', '\\xf0\\x9f\\x98\\x8e', '\\xf0\\x9f\\x98\\xb9'], [\"never do what I'm told* \\xf0\\x9f\\x98\\x9c \\xf0\\x9f\\x98\\x8e\", \"rebel and never do what I'm told*\", \"and never do what I'm told* \\xf0\\x9f\\x98\\x9c\"], ['\\xe2\\x9c\\x8c', '\\xf0\\x9f\\x98\\x8e \\xf0\\x9f\\x98\\xb9 \\xe2\\x9c\\x8c', '\\xf0\\x9f\\x98\\xb9 \\xe2\\x9c\\x8c'], \"i'm\", 2, 0, [], [], 0, 0, ['\\xf0\\x9f\\x98\\x9c\\xf0\\x9f\\x98\\x8e\\xf0\\x9f\\x98\\xb9'], [1], [3], 1, ['told*'], ['\\xe2\\x9c\\x8c'], [\"rebel and never do what I'm told*\"], ['\\xf0\\x9f\\x98\\x8e\\xf0\\x9f\\x98\\xb9\\xe2\\x9c\\x8c'], ['\\xf0\\x9f\\x98\\x9c\\xf0\\x9f\\x98\\x8e\\xf0\\x9f\\x98\\xb9'], [1], [3], 1)\n",
      "(35, datetime.datetime(2016, 4, 18, 3, 21, 19, 227444), datetime.datetime(2016, 4, 18, 3, 21, 7), 'Boy I adore you \\xf0\\x9f\\x92\\x98', 0, 0, 'en', {}, {}, 'Pacific Time (US & Canada)', 'April 7th', 'cambriekane', ['\\xf0\\x9f\\x92\\x98'], [1], 1, 1, ['you'], [''], ['Boy I adore you'], [''], 'i', 1, 0, [], [], 0, 0, [], [], [], 0, [], [], [], [], [], [], [], 0)\n",
      "(36, datetime.datetime(2016, 4, 18, 3, 21, 19, 745478), datetime.datetime(2016, 4, 18, 3, 21, 8), '\\xf0\\x9f\\x92\\x87\\xf0\\x9f\\x8f\\xbb cut cut day', 0, 0, 'en', {}, {}, 'Kuala Lumpur', 'Nal Alyaa', 'nalyaaa', ['\\xf0\\x9f\\x92\\x87\\xf0\\x9f\\x8f\\xbb', '\\xf0\\x9f\\x92\\x87'], [1, 1], 2, 2, ['', ''], ['cut', '\\xf0\\x9f\\x8f\\xbb'], ['', ''], ['\\xf0\\x9f\\x8f\\xbb cut cut day', '\\xf0\\x9f\\x8f\\xbb cut cut day'], 'cut', 2, 0, ['\\xf0\\x9f\\x8f\\xbb'], [1], 1, 1, [], [], [], 0, [], [], [], [], [], [], [], 0)\n",
      "(37, datetime.datetime(2016, 4, 18, 3, 21, 20, 43657), datetime.datetime(2016, 4, 18, 3, 21, 8), '\\xf0\\x9f\\x98\\xaa', 0, 0, 'und', {}, {}, 'Singapore', 'jasmine', 'jasmineteo_', ['\\xf0\\x9f\\x98\\xaa'], [1], 1, 1, [''], [''], [''], [''], '\\xf0\\x9f\\x98\\xaa', 1, 0, [], [], 0, 0, [], [], [], 0, [], [], [], [], [], [], [], 0)\n",
      "(58, datetime.datetime(2016, 4, 18, 3, 21, 27, 364236), datetime.datetime(2016, 4, 18, 3, 21, 9), 'I was packing the gb... And all the weed fell in the water \\xf0\\x9f\\x98\\x9e', 0, 0, 'en', {}, {}, 'Eastern Time (US & Canada)', 'Mitch', 'heaven_cent43', ['\\xf0\\x9f\\x98\\x9e'], [1], 1, 1, ['water'], [''], ['all the weed fell in the water'], [''], 'the', 3, 0, [], [], 0, 0, [], [], [], 0, [], [], [], [], [], [], [], 0)\n",
      "(38, datetime.datetime(2016, 4, 18, 3, 21, 20, 259384), datetime.datetime(2016, 4, 18, 3, 21, 8), '@tweeezzy__  \\xf0\\x9f\\x99\\x88\\xe2\\x9d\\xa4\\xef\\xb8\\x8f', 0, 0, 'und', {}, {}, '', 'Donell Abram', 'AbramDonell', ['\\xe2\\x9d\\xa4\\xef\\xb8\\x8f', '\\xf0\\x9f\\x99\\x88'], [1, 1], 2, 2, ['\\xf0\\x9f\\x99\\x88', '@tweeezzy__'], ['', '\\xe2\\x9d\\xa4\\xef\\xb8\\x8f'], ['@tweeezzy__ \\xf0\\x9f\\x99\\x88', '@tweeezzy__'], ['', '\\xe2\\x9d\\xa4\\xef\\xb8\\x8f'], '\\xe2\\x9d\\xa4\\xef\\xb8\\x8f', 1, 0, [], [], 0, 0, ['\\xf0\\x9f\\x99\\x88\\xe2\\x9d\\xa4\\xef\\xb8\\x8f'], [1], [2], 1, ['@tweeezzy__'], [''], ['@tweeezzy__'], ['\\xe2\\x9d\\xa4\\xef\\xb8\\x8f'], ['\\xf0\\x9f\\x99\\x88\\xe2\\x9d\\xa4\\xef\\xb8\\x8f'], [1], [2], 1)\n",
      "(39, datetime.datetime(2016, 4, 18, 3, 21, 20, 467801), datetime.datetime(2016, 4, 18, 3, 21, 8), '\\xf0\\x9f\\x8e\\xa7 \\xe2\\x99\\xab Focus by Ariana Grande \\xe2\\x80\\x94 https://t.co/bakqYVwLKr', 0, 0, 'en', {}, {}, 'Jakarta', 'Enti Ruwahita', 'entiruwahita', ['\\xf0\\x9f\\x8e\\xa7'], [1], 1, 1, [''], ['\\xe2\\x99\\xab'], [''], ['\\xe2\\x99\\xab Focus by Ariana Grande \\xe2\\x80\\x94 https://t.co/bakqYVwLKr'], 'https://t.co/bakqyvwlkr', 1, 0, [], [], 0, 0, [], [], [], 0, [], [], [], [], [], [], [], 0)\n",
      "(40, datetime.datetime(2016, 4, 18, 3, 21, 21, 76170), datetime.datetime(2016, 4, 18, 3, 21, 8), \"RT @__lakenya: I've been so emotional lately \\xf0\\x9f\\x98\\x82\", 0, 0, 'en', {}, {}, 'Pacific Time (US & Canada)', 'KIRK\\xe2\\x9c\\xa8', '_RealMrsHendrix', ['\\xf0\\x9f\\x98\\x82'], [1], 1, 1, ['lately'], [''], [\"RT @__lakenya: I've been so emotional lately\"], [''], 'rt', 1, 0, [], [], 0, 0, [], [], [], 0, [], [], [], [], [], [], [], 0)\n",
      "(41, datetime.datetime(2016, 4, 18, 3, 21, 21, 504081), datetime.datetime(2016, 4, 18, 3, 21, 8), '@AquilBurnett @pittstate Thanks bro appreciate it\\xf0\\x9f\\x91\\x8c\\xf0\\x9f\\x8f\\xbe', 0, 0, 'en', {}, {}, '', 'Lil Uzi Reg', 'RJPair', ['\\xf0\\x9f\\x91\\x8c\\xf0\\x9f\\x8f\\xbe', '\\xf0\\x9f\\x91\\x8c'], [1, 1], 2, 2, ['it', 'it'], ['', '\\xf0\\x9f\\x8f\\xbe'], ['@AquilBurnett @pittstate Thanks bro appreciate it', '@AquilBurnett @pittstate Thanks bro appreciate it'], ['\\xf0\\x9f\\x8f\\xbe', '\\xf0\\x9f\\x8f\\xbe'], 'it\\xf0\\x9f\\x91\\x8c\\xf0\\x9f\\x8f\\xbe', 1, 0, ['\\xf0\\x9f\\x8f\\xbe'], [1], 1, 1, [], [], [], 0, [], [], [], [], [], [], [], 0)\n",
      "(42, datetime.datetime(2016, 4, 18, 3, 21, 22, 248651), datetime.datetime(2016, 4, 18, 3, 21, 8), 'RT @Barraaaa_: Qu\\xc3\\xa9 lindo tener el enchufe al lado de la cama \\xf0\\x9f\\x94\\x8c\\xf0\\x9f\\x94\\x8b\\xe2\\x9d\\xa4\\xef\\xb8\\x8f', 0, 0, 'es', {}, {}, 'Pacific Time (US & Canada)', 'DeMiNovioJoel\\xe2\\x99\\xa5', 'FiliWey_TEAMO', ['\\xf0\\x9f\\x94\\x8c', '\\xf0\\x9f\\x94\\x8b', '\\xe2\\x9d\\xa4\\xef\\xb8\\x8f'], [1, 1, 1], 3, 3, ['cama', '\\xf0\\x9f\\x94\\x8c', '\\xf0\\x9f\\x94\\x8b'], ['\\xf0\\x9f\\x94\\x8b', '\\xe2\\x9d\\xa4\\xef\\xb8\\x8f', ''], ['el enchufe al lado de la cama', 'enchufe al lado de la cama \\xf0\\x9f\\x94\\x8c', 'al lado de la cama \\xf0\\x9f\\x94\\x8c \\xf0\\x9f\\x94\\x8b'], ['\\xf0\\x9f\\x94\\x8b \\xe2\\x9d\\xa4\\xef\\xb8\\x8f', '\\xe2\\x9d\\xa4\\xef\\xb8\\x8f', ''], 'rt', 1, 0, [], [], 0, 0, ['\\xf0\\x9f\\x94\\x8c\\xf0\\x9f\\x94\\x8b\\xe2\\x9d\\xa4\\xef\\xb8\\x8f'], [1], [3], 1, ['cama'], [''], ['el enchufe al lado de la cama'], ['\\xf0\\x9f\\x94\\x8b\\xe2\\x9d\\xa4\\xef\\xb8\\x8f'], ['\\xf0\\x9f\\x94\\x8c\\xf0\\x9f\\x94\\x8b\\xe2\\x9d\\xa4\\xef\\xb8\\x8f'], [1], [3], 1)\n",
      "(43, datetime.datetime(2016, 4, 18, 3, 21, 22, 362760), datetime.datetime(2016, 4, 18, 3, 21, 8), '-14 \\xe2\\x9d\\xa4\\xef\\xb8\\x8f\\xe2\\x9d\\xa4\\xef\\xb8\\x8f@pinowh', 0, 0, 'und', {}, {}, '', 'Eshraq', '2Eshraq', ['\\xe2\\x9d\\xa4\\xef\\xb8\\x8f'], [2], 2, 1, ['-14'], ['@pinowh'], ['-14'], ['\\xe2\\x9d\\xa4\\xef\\xb8\\x8f @pinowh'], '\\xe2\\x9d\\xa4\\xef\\xb8\\x8f', 2, 0, [], [], 0, 0, ['\\xe2\\x9d\\xa4\\xef\\xb8\\x8f\\xe2\\x9d\\xa4\\xef\\xb8\\x8f'], [1], [2], 1, ['-14'], ['@pinowh'], ['-14'], ['\\xe2\\x9d\\xa4\\xef\\xb8\\x8f@pinowh'], ['\\xe2\\x9d\\xa4\\xef\\xb8\\x8f\\xe2\\x9d\\xa4\\xef\\xb8\\x8f'], [1], [2], 1)\n",
      "(44, datetime.datetime(2016, 4, 18, 3, 21, 22, 608811), datetime.datetime(2016, 4, 18, 3, 21, 8), 'RT @Funnyworlds0: I love flannels. \\xf0\\x9f\\x98\\x8d\\xf0\\x9f\\x8d\\x83\\xe2\\x9d\\xa4 \\nhttps://t.co/kBrchb3s57', 0, 0, 'en', {}, {}, 'Asia/Calcutta', 'CAMILA STEWART', 'camilastewarts', ['\\xf0\\x9f\\x8d\\x83', '\\xf0\\x9f\\x98\\x8d'], [1, 1], 2, 2, ['\\xf0\\x9f\\x98\\x8d', 'flannels.'], ['\\xe2\\x9d\\xa4', '\\xf0\\x9f\\x8d\\x83'], ['RT @Funnyworlds0: I love flannels. \\xf0\\x9f\\x98\\x8d', 'RT @Funnyworlds0: I love flannels.'], ['\\xe2\\x9d\\xa4 https://t.co/kBrchb3s57', '\\xf0\\x9f\\x8d\\x83 \\xe2\\x9d\\xa4 https://t.co/kBrchb3s57'], 'rt', 1, 0, [], [], 0, 0, ['\\xf0\\x9f\\x98\\x8d\\xf0\\x9f\\x8d\\x83'], [1], [2], 1, ['flannels.'], ['\\xe2\\x9d\\xa4'], ['RT @Funnyworlds0: I love flannels.'], ['\\xf0\\x9f\\x8d\\x83\\xe2\\x9d\\xa4 https://t.co/kBrchb3s57'], ['\\xf0\\x9f\\x98\\x8d\\xf0\\x9f\\x8d\\x83'], [1], [2], 1)\n",
      "(45, datetime.datetime(2016, 4, 18, 3, 21, 22, 787338), datetime.datetime(2016, 4, 18, 3, 21, 8), 'RT @9812_ksa: \\xef\\xbb\\xbb \\xd8\\xaa\\xd8\\xa4\\xd8\\xb0\\xd9\\x8a \\xd9\\x82\\xd9\\x84\\xd8\\xa8 \\xd9\\x84\\xd9\\x85 \\xd8\\xaa\\xd8\\xb1\\xd9\\x89 \\xd9\\x85\\xd9\\x86\\xd9\\x87 \\xd8\\x8c \\xd8\\xa5\\xd9\\x84\\xd8\\xa7 \\xd9\\x83\\xd9\\x84 \\xd8\\xac\\xd9\\x85\\xd9\\x8a\\xd9\\x84 \\xf0\\x9f\\x92\\x90\"\".\"', 0, 0, 'ar', {}, {}, '', '\\xd8\\xb3\\xd9\\x85\\xd8\\xb1 \\xd8\\xb9\\xd9\\x84\\xd9\\x8a .. ', 'smoorh_16', ['\\xf0\\x9f\\x92\\x90'], [1], 1, 1, ['\\xd8\\xac\\xd9\\x85\\xd9\\x8a\\xd9\\x84'], ['\"\".\"'], ['\\xd9\\x84\\xd9\\x85 \\xd8\\xaa\\xd8\\xb1\\xd9\\x89 \\xd9\\x85\\xd9\\x86\\xd9\\x87 \\xd8\\x8c \\xd8\\xa5\\xd9\\x84\\xd8\\xa7 \\xd9\\x83\\xd9\\x84 \\xd8\\xac\\xd9\\x85\\xd9\\x8a\\xd9\\x84'], ['\"\".\"'], 'rt', 1, 0, [], [], 0, 0, [], [], [], 0, [], [], [], [], [], [], [], 0)\n",
      "(46, datetime.datetime(2016, 4, 18, 3, 21, 23, 697661), datetime.datetime(2016, 4, 18, 3, 21, 8), '\\xef\\xb4\\xbf \\xd9\\x88\\xd8\\xb4\\xd9\\x90\\xd9\\x81\\xd8\\xa7\\xd8\\xa1\\xd9\\x8c \\xd9\\x84\\xd9\\x85\\xd8\\xa7 \\xd9\\x81\\xd9\\x8a \\xd8\\xa7\\xd9\\x84\\xd8\\xb5\\xd9\\x8f\\xd9\\x91\\xd8\\xaf\\xd9\\x8f\\xd9\\x88\\xd8\\xb1 \\xef\\xb4\\xbe\\n\\xd8\\xa7\\xd9\\x84\\xd9\\x82\\xd8\\xb1\\xd8\\xa2\\xd9\\x86 \\xd8\\xb4\\xd9\\x81\\xd8\\xa7\\xd8\\xa1 \\xd9\\x84\\xd9\\x85\\xd8\\xb1\\xd8\\xb6\\xd9\\x83 \\xd9\\x84\\xd8\\xad\\xd8\\xb2\\xd9\\x86\\xd9\\x83 \\n \\xd9\\x84\\xd9\\x83\\xd9\\x84 \\xd9\\x85\\xd8\\xa7 \\xd8\\xa3\\xd8\\xaa\\xd8\\xb9\\xd8\\xa8\\xd9\\x83 \\n\\xd8\\xa7\\xd9\\x82\\xd8\\xb1\\xd8\\xa3\\xd9\\x87 \\xd9\\x88\\xd8\\xaa\\xd8\\xaf\\xd8\\xa8\\xd8\\xb1\\xd9\\x87 \\xd9\\x81\\xd9\\x8a \\xd9\\x85\\xd8\\xb9\\xd8\\xa7\\xd9\\x86\\xd9\\x8a\\xd9\\x87 \\n\\xd9\\x88\\xd8\\xb9\\xd8\\xb4 \\xd9\\x85\\xd8\\xb9\\xd9\\x87 \\xd8\\xa8\\xd9\\x82\\xd9\\x84\\xd8\\xa8\\xd9\\x83  #\\xd8\\xa7\\xd9\\x83\\xd8\\xab\\xd8\\xb1_\\xd8\\xb4\\xd9\\x8a_\\xd9\\x85\\xd8\\xad\\xd8\\xaa\\xd8\\xa7\\xd8\\xac\\xd9\\x87_\\xd9\\x87\\xd8\\xa7\\xd9\\x84\\xd9\\x88\\xd9\\x82\\xd8\\xaa \\xd8\\xa7\\xd9\\x84\\xd9\\x82\\xd8\\xb1\\xd8\\xa2\\xd9\\x86 \\xf0\\x9f\\x92\\x95', 0, 0, 'ar', {}, {}, '', '\\xd8\\xac\\xd9\\x86\\xd8\\xa9 \\xd9\\x88\\xd8\\xad\\xd9\\x88\\xd8\\xb1', 'najlann2', ['\\xf0\\x9f\\x92\\x95'], [1], 1, 1, ['\\xd8\\xa7\\xd9\\x84\\xd9\\x82\\xd8\\xb1\\xd8\\xa2\\xd9\\x86'], [''], ['\\xd9\\x81\\xd9\\x8a \\xd9\\x85\\xd8\\xb9\\xd8\\xa7\\xd9\\x86\\xd9\\x8a\\xd9\\x87 \\xd9\\x88\\xd8\\xb9\\xd8\\xb4 \\xd9\\x85\\xd8\\xb9\\xd9\\x87 \\xd8\\xa8\\xd9\\x82\\xd9\\x84\\xd8\\xa8\\xd9\\x83 #\\xd8\\xa7\\xd9\\x83\\xd8\\xab\\xd8\\xb1_\\xd8\\xb4\\xd9\\x8a_\\xd9\\x85\\xd8\\xad\\xd8\\xaa\\xd8\\xa7\\xd8\\xac\\xd9\\x87_\\xd9\\x87\\xd8\\xa7\\xd9\\x84\\xd9\\x88\\xd9\\x82\\xd8\\xaa \\xd8\\xa7\\xd9\\x84\\xd9\\x82\\xd8\\xb1\\xd8\\xa2\\xd9\\x86'], [''], '\\xd9\\x81\\xd9\\x8a', 2, 0, [], [], 0, 0, [], [], [], 0, [], [], [], [], [], [], [], 0)\n",
      "(47, datetime.datetime(2016, 4, 18, 3, 21, 24, 919186), datetime.datetime(2016, 4, 18, 3, 21, 9), 'RT @Funnyworlds0: I love flannels. \\xf0\\x9f\\x98\\x8d\\xf0\\x9f\\x8d\\x83\\xe2\\x9d\\xa4 \\nhttps://t.co/kBrchb3s57', 0, 0, 'en', {}, {}, 'Pacific Time (US & Canada)', 'girlstyler000', 'stylerj000', ['\\xf0\\x9f\\x8d\\x83', '\\xf0\\x9f\\x98\\x8d'], [1, 1], 2, 2, ['\\xf0\\x9f\\x98\\x8d', 'flannels.'], ['\\xe2\\x9d\\xa4', '\\xf0\\x9f\\x8d\\x83'], ['RT @Funnyworlds0: I love flannels. \\xf0\\x9f\\x98\\x8d', 'RT @Funnyworlds0: I love flannels.'], ['\\xe2\\x9d\\xa4 https://t.co/kBrchb3s57', '\\xf0\\x9f\\x8d\\x83 \\xe2\\x9d\\xa4 https://t.co/kBrchb3s57'], 'rt', 1, 0, [], [], 0, 0, ['\\xf0\\x9f\\x98\\x8d\\xf0\\x9f\\x8d\\x83'], [1], [2], 1, ['flannels.'], ['\\xe2\\x9d\\xa4'], ['RT @Funnyworlds0: I love flannels.'], ['\\xf0\\x9f\\x8d\\x83\\xe2\\x9d\\xa4 https://t.co/kBrchb3s57'], ['\\xf0\\x9f\\x98\\x8d\\xf0\\x9f\\x8d\\x83'], [1], [2], 1)\n",
      "(104, datetime.datetime(2016, 4, 18, 3, 21, 59, 859063), datetime.datetime(2016, 4, 18, 3, 21, 16), 'Estaba en favorito. \\xf0\\x9f\\x98\\xb4', 0, 0, 'es', {}, {}, 'Eastern Time (US & Canada)', 'Ror\\xcf\\x83.-', 'RossyAngelis', ['\\xf0\\x9f\\x98\\xb4'], [1], 1, 1, ['favorito.'], [''], ['Estaba en favorito.'], [''], '\\xf0\\x9f\\x98\\xb4', 1, 0, [], [], 0, 0, [], [], [], 0, [], [], [], [], [], [], [], 0)\n",
      "(49, datetime.datetime(2016, 4, 18, 3, 21, 25, 549815), datetime.datetime(2016, 4, 18, 3, 21, 9), 'RT @BeatPerMinuteSH: \\xf0\\x9f\\x92\\x95\\xf0\\x9f\\x98\\xa2#\\xec\\x84\\xb8\\xed\\x9b\\x88 #SEHUN https://t.co/FbEtXYbK5i', 0, 0, 'und', {}, {}, '', '\\xe0\\xb9\\x80 \\xe0\\xb8\\x8b \\xe0\\xb8\\xa2\\xe0\\xb9\\x8c .', 'Punchi_Pt', ['\\xf0\\x9f\\x92\\x95', '\\xf0\\x9f\\x98\\xa2'], [1, 1], 2, 2, ['@BeatPerMinuteSH:', '\\xf0\\x9f\\x92\\x95'], ['\\xf0\\x9f\\x98\\xa2', '#\\xec\\x84\\xb8\\xed\\x9b\\x88'], ['RT @BeatPerMinuteSH:', 'RT @BeatPerMinuteSH: \\xf0\\x9f\\x92\\x95'], ['\\xf0\\x9f\\x98\\xa2 #\\xec\\x84\\xb8\\xed\\x9b\\x88 #SEHUN https://t.co/FbEtXYbK5i', '#\\xec\\x84\\xb8\\xed\\x9b\\x88 #SEHUN https://t.co/FbEtXYbK5i'], 'rt', 1, 0, [], [], 0, 0, ['\\xf0\\x9f\\x92\\x95\\xf0\\x9f\\x98\\xa2'], [1], [2], 1, ['@BeatPerMinuteSH:'], ['#\\xec\\x84\\xb8\\xed\\x9b\\x88'], ['RT @BeatPerMinuteSH:'], ['\\xf0\\x9f\\x98\\xa2#\\xec\\x84\\xb8\\xed\\x9b\\x88 #SEHUN https://t.co/FbEtXYbK5i'], ['\\xf0\\x9f\\x92\\x95\\xf0\\x9f\\x98\\xa2'], [1], [2], 1)\n",
      "(50, datetime.datetime(2016, 4, 18, 3, 21, 25, 765585), datetime.datetime(2016, 4, 18, 3, 21, 9), 'RT @Funnyworlds0: I love flannels. \\xf0\\x9f\\x98\\x8d\\xf0\\x9f\\x8d\\x83\\xe2\\x9d\\xa4 \\nhttps://t.co/kBrchb3s57', 0, 0, 'en', {}, {}, 'Pacific Time (US & Canada)', 'dashing sonu', 'Sonukr1996', ['\\xf0\\x9f\\x8d\\x83', '\\xf0\\x9f\\x98\\x8d'], [1, 1], 2, 2, ['\\xf0\\x9f\\x98\\x8d', 'flannels.'], ['\\xe2\\x9d\\xa4', '\\xf0\\x9f\\x8d\\x83'], ['RT @Funnyworlds0: I love flannels. \\xf0\\x9f\\x98\\x8d', 'RT @Funnyworlds0: I love flannels.'], ['\\xe2\\x9d\\xa4 https://t.co/kBrchb3s57', '\\xf0\\x9f\\x8d\\x83 \\xe2\\x9d\\xa4 https://t.co/kBrchb3s57'], 'rt', 1, 0, [], [], 0, 0, ['\\xf0\\x9f\\x98\\x8d\\xf0\\x9f\\x8d\\x83'], [1], [2], 1, ['flannels.'], ['\\xe2\\x9d\\xa4'], ['RT @Funnyworlds0: I love flannels.'], ['\\xf0\\x9f\\x8d\\x83\\xe2\\x9d\\xa4 https://t.co/kBrchb3s57'], ['\\xf0\\x9f\\x98\\x8d\\xf0\\x9f\\x8d\\x83'], [1], [2], 1)\n",
      "(51, datetime.datetime(2016, 4, 18, 3, 21, 25, 879276), datetime.datetime(2016, 4, 18, 3, 21, 9), 'RT @Funnyworlds0: I love flannels. \\xf0\\x9f\\x98\\x8d\\xf0\\x9f\\x8d\\x83\\xe2\\x9d\\xa4 \\nhttps://t.co/kBrchb3s57', 0, 0, 'en', {}, {}, '', 'Sex Fact', 'sexsfact', ['\\xf0\\x9f\\x8d\\x83', '\\xf0\\x9f\\x98\\x8d'], [1, 1], 2, 2, ['\\xf0\\x9f\\x98\\x8d', 'flannels.'], ['\\xe2\\x9d\\xa4', '\\xf0\\x9f\\x8d\\x83'], ['RT @Funnyworlds0: I love flannels. \\xf0\\x9f\\x98\\x8d', 'RT @Funnyworlds0: I love flannels.'], ['\\xe2\\x9d\\xa4 https://t.co/kBrchb3s57', '\\xf0\\x9f\\x8d\\x83 \\xe2\\x9d\\xa4 https://t.co/kBrchb3s57'], 'rt', 1, 0, [], [], 0, 0, ['\\xf0\\x9f\\x98\\x8d\\xf0\\x9f\\x8d\\x83'], [1], [2], 1, ['flannels.'], ['\\xe2\\x9d\\xa4'], ['RT @Funnyworlds0: I love flannels.'], ['\\xf0\\x9f\\x8d\\x83\\xe2\\x9d\\xa4 https://t.co/kBrchb3s57'], ['\\xf0\\x9f\\x98\\x8d\\xf0\\x9f\\x8d\\x83'], [1], [2], 1)\n",
      "(52, datetime.datetime(2016, 4, 18, 3, 21, 25, 996067), datetime.datetime(2016, 4, 18, 3, 21, 9), \"I'm about to take the most overwhelming test of my life tomorrow at 8 am like happy Monday send prayers \\xf0\\x9f\\x98\\xad\", 0, 0, 'en', {}, {}, 'Atlantic Time (Canada)', 'Al', 'Ali_Verba', ['\\xf0\\x9f\\x98\\xad'], [1], 1, 1, ['prayers'], [''], ['8 am like happy Monday send prayers'], [''], 'happy', 1, 0, [], [], 0, 0, [], [], [], 0, [], [], [], [], [], [], [], 0)\n",
      "(53, datetime.datetime(2016, 4, 18, 3, 21, 26, 107298), datetime.datetime(2016, 4, 18, 3, 21, 9), 'I wanna lose 20 pounds but all in my stomach area aka One of the most difficult areas to freakin shed weight from \\xf0\\x9f\\x98\\x92\\xf0\\x9f\\x98\\x92', 0, 0, 'en', {}, {}, 'Central Time (US & Canada)', 'Maris.', 'MVillasenorita', ['\\xf0\\x9f\\x98\\x92'], [2], 2, 1, ['from'], [''], ['difficult areas to freakin shed weight from'], ['\\xf0\\x9f\\x98\\x92'], '\\xf0\\x9f\\x98\\x92', 2, 0, [], [], 0, 0, ['\\xf0\\x9f\\x98\\x92\\xf0\\x9f\\x98\\x92'], [1], [2], 1, ['from'], [''], ['difficult areas to freakin shed weight from'], ['\\xf0\\x9f\\x98\\x92'], ['\\xf0\\x9f\\x98\\x92\\xf0\\x9f\\x98\\x92'], [1], [2], 1)\n",
      "(54, datetime.datetime(2016, 4, 18, 3, 21, 26, 422369), datetime.datetime(2016, 4, 18, 3, 21, 9), '\\xf0\\x9f\\x98\\xad\\xf0\\x9f\\x98\\xad\\xf0\\x9f\\x98\\xadwahhhhh me three!\\xf0\\x9f\\x98\\x8d\\xf0\\x9f\\x98\\x8d\\xf0\\x9f\\x98\\x8d\\xf0\\x9f\\x98\\x8d https://t.co/bDNSLy6LAv', 0, 0, 'en', {}, {}, '', 'BLUEMING\\xe2\\xad\\x90ta', 'ta_yooong', ['\\xf0\\x9f\\x98\\x8d', '\\xf0\\x9f\\x98\\xad'], [4, 3], 7, 2, ['three!', ''], ['https://t.co/bDNSLy6LAv', 'wahhhhh'], ['\\xf0\\x9f\\x98\\xad \\xf0\\x9f\\x98\\xad \\xf0\\x9f\\x98\\xad wahhhhh me three!', ''], ['\\xf0\\x9f\\x98\\x8d \\xf0\\x9f\\x98\\x8d \\xf0\\x9f\\x98\\x8d https://t.co/bDNSLy6LAv', '\\xf0\\x9f\\x98\\xad \\xf0\\x9f\\x98\\xad wahhhhh me three!\\xf0\\x9f\\x98\\x8d \\xf0\\x9f\\x98\\x8d \\xf0\\x9f\\x98\\x8d'], '\\xf0\\x9f\\x98\\x8d', 3, 0, [], [], 0, 0, ['\\xf0\\x9f\\x98\\x8d\\xf0\\x9f\\x98\\x8d\\xf0\\x9f\\x98\\x8d', '\\xf0\\x9f\\x98\\xad\\xf0\\x9f\\x98\\xad\\xf0\\x9f\\x98\\xad'], [1, 1], [3, 3], 2, ['three!', ''], ['https://t.co/bDNSLy6LAv', 'wahhhhh'], ['\\xf0\\x9f\\x98\\xad\\xf0\\x9f\\x98\\xad\\xf0\\x9f\\x98\\xadwahhhhh me three!', ''], ['\\xf0\\x9f\\x98\\x8d\\xf0\\x9f\\x98\\x8d\\xf0\\x9f\\x98\\x8d https://t.co/bDNSLy6LAv', '\\xf0\\x9f\\x98\\xad\\xf0\\x9f\\x98\\xadwahhhhh me three!\\xf0\\x9f\\x98\\x8d\\xf0\\x9f\\x98\\x8d\\xf0\\x9f\\x98\\x8d\\xf0\\x9f\\x98\\x8d https://t.co/bDNSLy6LAv'], ['\\xf0\\x9f\\x98\\xad\\xf0\\x9f\\x98\\xad\\xf0\\x9f\\x98\\xad', '\\xf0\\x9f\\x98\\x8d\\xf0\\x9f\\x98\\x8d\\xf0\\x9f\\x98\\x8d'], [1, 1], [3, 3], 2)\n",
      "(55, datetime.datetime(2016, 4, 18, 3, 21, 26, 928364), datetime.datetime(2016, 4, 18, 3, 21, 9), 'RT @namiefujii: @sharinghoul parab\\xc3\\xa9ns! tudo de bom hoje e sempre \\xf0\\x9f\\x8e\\x89\\xf0\\x9f\\x8e\\x8a', 0, 0, 'pt', {}, {}, '', '\\xe3\\x85\\xa4', 'sharinghoul', ['\\xf0\\x9f\\x8e\\x8a', '\\xf0\\x9f\\x8e\\x89'], [1, 1], 2, 2, ['\\xf0\\x9f\\x8e\\x89', 'sempre'], ['', '\\xf0\\x9f\\x8e\\x8a'], ['tudo de bom hoje e sempre \\xf0\\x9f\\x8e\\x89', 'parab\\xc3\\xa9ns! tudo de bom hoje e sempre'], ['', '\\xf0\\x9f\\x8e\\x8a'], 'rt', 1, 0, [], [], 0, 0, ['\\xf0\\x9f\\x8e\\x89\\xf0\\x9f\\x8e\\x8a'], [1], [2], 1, ['sempre'], [''], ['parab\\xc3\\xa9ns! tudo de bom hoje e sempre'], ['\\xf0\\x9f\\x8e\\x8a'], ['\\xf0\\x9f\\x8e\\x89\\xf0\\x9f\\x8e\\x8a'], [1], [2], 1)\n",
      "(56, datetime.datetime(2016, 4, 18, 3, 21, 27, 41650), datetime.datetime(2016, 4, 18, 3, 21, 9), \"RT @x__BonitaChica: born in charleston, grew up in charleston, got major love for charleston, BUT i can't stay in charleston \\xf0\\x9f\\x92\\xaf\\xf0\\x9f\\x91\\x8c\\xf0\\x9f\\x8f\\xbd.\", 0, 0, 'en', {}, {}, 'Pacific Time (US & Canada)', 'The Real Ari\\xe2\\x9a\\x93', 'AreReOnna', ['\\xf0\\x9f\\x92\\xaf', '\\xf0\\x9f\\x91\\x8c\\xf0\\x9f\\x8f\\xbd', '\\xf0\\x9f\\x91\\x8c'], [1, 1, 1], 3, 3, ['charleston', '\\xf0\\x9f\\x92\\xaf', '\\xf0\\x9f\\x92\\xaf'], ['\\xf0\\x9f\\x91\\x8c\\xf0\\x9f\\x8f\\xbd', '.', '\\xf0\\x9f\\x8f\\xbd'], [\"charleston, BUT i can't stay in charleston\", \"BUT i can't stay in charleston \\xf0\\x9f\\x92\\xaf\", \"BUT i can't stay in charleston \\xf0\\x9f\\x92\\xaf\"], ['\\xf0\\x9f\\x91\\x8c\\xf0\\x9f\\x8f\\xbd .', '\\xf0\\x9f\\x8f\\xbd .', '\\xf0\\x9f\\x8f\\xbd .'], 'in', 3, 0, ['\\xf0\\x9f\\x8f\\xbd'], [1], 1, 1, ['\\xf0\\x9f\\x92\\xaf\\xf0\\x9f\\x91\\x8c\\xf0\\x9f\\x8f\\xbd'], [1], [3], 1, ['charleston'], ['.'], [\"charleston, BUT i can't stay in charleston\"], ['\\xf0\\x9f\\x91\\x8c\\xf0\\x9f\\x8f\\xbd.'], ['\\xf0\\x9f\\x92\\xaf\\xf0\\x9f\\x91\\x8c\\xf0\\x9f\\x8f\\xbd'], [1], [3], 1)\n",
      "(57, datetime.datetime(2016, 4, 18, 3, 21, 27, 153059), datetime.datetime(2016, 4, 18, 3, 21, 9), '@chelseyhazelyyy love you chelseymama \\xf0\\x9f\\x92\\x98\\xf0\\x9f\\x92\\x98', 0, 0, 'en', {}, {}, '', 'jadie', 'jade_bustillos', ['\\xf0\\x9f\\x92\\x98'], [2], 2, 1, ['chelseymama'], [''], ['@chelseyhazelyyy love you chelseymama'], ['\\xf0\\x9f\\x92\\x98'], '\\xf0\\x9f\\x92\\x98', 2, 0, [], [], 0, 0, ['\\xf0\\x9f\\x92\\x98\\xf0\\x9f\\x92\\x98'], [1], [2], 1, ['chelseymama'], [''], ['@chelseyhazelyyy love you chelseymama'], ['\\xf0\\x9f\\x92\\x98'], ['\\xf0\\x9f\\x92\\x98\\xf0\\x9f\\x92\\x98'], [1], [2], 1)\n",
      "(59, datetime.datetime(2016, 4, 18, 3, 21, 27, 782616), datetime.datetime(2016, 4, 18, 3, 21, 9), '@_bradlyyyyy EXTENDED TRAILER MADE KAISDGSHHSJSJDJDNXBFBDEJS \\xf0\\x9f\\x8d\\x8b\\xf0\\x9f\\x8d\\x8b\\xf0\\x9f\\x8d\\x8b\\xf0\\x9f\\x8d\\x8b', 0, 0, 'tr', {}, {}, 'Pacific Time (US & Canada)', 'kylo jenner', 'tacody__', ['\\xf0\\x9f\\x8d\\x8b'], [4], 4, 1, ['KAISDGSHHSJSJDJDNXBFBDEJS'], [''], ['@_bradlyyyyy EXTENDED TRAILER MADE KAISDGSHHSJSJDJDNXBFBDEJS'], ['\\xf0\\x9f\\x8d\\x8b \\xf0\\x9f\\x8d\\x8b \\xf0\\x9f\\x8d\\x8b'], '\\xf0\\x9f\\x8d\\x8b', 4, 0, [], [], 0, 0, ['\\xf0\\x9f\\x8d\\x8b\\xf0\\x9f\\x8d\\x8b\\xf0\\x9f\\x8d\\x8b\\xf0\\x9f\\x8d\\x8b'], [1], [4], 1, ['KAISDGSHHSJSJDJDNXBFBDEJS'], [''], ['@_bradlyyyyy EXTENDED TRAILER MADE KAISDGSHHSJSJDJDNXBFBDEJS'], ['\\xf0\\x9f\\x8d\\x8b\\xf0\\x9f\\x8d\\x8b\\xf0\\x9f\\x8d\\x8b'], ['\\xf0\\x9f\\x8d\\x8b\\xf0\\x9f\\x8d\\x8b\\xf0\\x9f\\x8d\\x8b\\xf0\\x9f\\x8d\\x8b'], [1], [4], 1)\n",
      "(60, datetime.datetime(2016, 4, 18, 3, 21, 28, 565068), datetime.datetime(2016, 4, 18, 3, 21, 9), '@Taishi_104 @mun108 \\xe3\\x81\\x93\\xe3\\x81\\x93\\xe3\\x81\\x8c\\xe4\\xbf\\xba\\xe3\\x81\\xae\\xe9\\x83\\xa8\\xe5\\xb1\\x8b\\xf0\\x9f\\x92\\x95', 0, 0, 'ja', {}, {}, 'JST', '\\xe7\\x94\\xb0\\xe5\\x8f\\xa3 \\xe5\\x90\\x8f\\xe7\\xbf\\x8c', 'taguchi1119', ['\\xf0\\x9f\\x92\\x95'], [1], 1, 1, ['\\xe3\\x81\\x93\\xe3\\x81\\x93\\xe3\\x81\\x8c\\xe4\\xbf\\xba\\xe3\\x81\\xae\\xe9\\x83\\xa8\\xe5\\xb1\\x8b'], [''], ['@Taishi_104 @mun108 \\xe3\\x81\\x93\\xe3\\x81\\x93\\xe3\\x81\\x8c\\xe4\\xbf\\xba\\xe3\\x81\\xae\\xe9\\x83\\xa8\\xe5\\xb1\\x8b'], [''], '@taishi_104', 1, 0, [], [], 0, 0, [], [], [], 0, [], [], [], [], [], [], [], 0)\n",
      "(61, datetime.datetime(2016, 4, 18, 3, 21, 29, 507142), datetime.datetime(2016, 4, 18, 3, 21, 10), '@scramirez01 @Yudaangely @valeg_2 JAJA me disculpo, me pase con el te fr\\xc3\\xado!  Con un fresco leche mas que suficiente \\xf0\\x9f\\x98\\x87', 0, 0, 'es', {}, {}, '', 'Maria Isabel', 'Isa_mora01', ['\\xf0\\x9f\\x98\\x87'], [1], 1, 1, ['suficiente'], [''], ['Con un fresco leche mas que suficiente'], [''], 'me', 2, 0, [], [], 0, 0, [], [], [], 0, [], [], [], [], [], [], [], 0)\n",
      "(62, datetime.datetime(2016, 4, 18, 3, 21, 29, 759140), datetime.datetime(2016, 4, 18, 3, 21, 9), 'Happy birthday Al...thx for never hugging me back\\xf0\\x9f\\xa4\\x97\\xf0\\x9f\\x90\\xa2 https://t.co/N9QBHXF6es', 0, 0, 'en', {}, {}, '', 'Bridget', 'bcollins54', ['\\xf0\\x9f\\x90\\xa2', '\\xf0\\x9f\\xa4\\x97'], [1, 1], 2, 2, ['back\\xf0\\x9f\\xa4\\x97', 'back'], ['https://t.co/N9QBHXF6es', '\\xf0\\x9f\\x90\\xa2'], ['birthday Al...thx for never hugging me back\\xf0\\x9f\\xa4\\x97', 'birthday Al...thx for never hugging me back'], ['https://t.co/N9QBHXF6es', '\\xf0\\x9f\\x90\\xa2 https://t.co/N9QBHXF6es'], 'me', 1, 0, [], [], 0, 0, [], [], [], 0, [], [], [], [], [], [], [], 0)\n",
      "(63, datetime.datetime(2016, 4, 18, 3, 21, 30, 108080), datetime.datetime(2016, 4, 18, 3, 21, 10), '\\xf0\\x9f\\x92\\x99\\xec\\x95\\x88\\xeb\\x85\\x95\\xed\\x95\\x98\\xec\\x84\\xb8\\xec\\x9a\\x94^^ \\xf0\\x9f\\x90\\x9d 24\\xec\\x8b\\x9c\\xea\\xb0\\x84 \\xec\\x97\\xb4\\xeb\\xa6\\xb0\\xf0\\x9f\\x92\\x99\\n\\n\\xec\\x82\\xac-\\xec\\x84\\xa4-\\xed\\x86\\xa0-\\xed\\x86\\xa0\\n\\n#\\xec\\x82\\xac\\xec\\x84\\xa4\\xed\\x86\\xa0\\xed\\x86\\xa0\\n#\\xec\\x82\\xac\\xec\\x84\\xa4\\xed\\x86\\xa0\\xed\\x86\\xa0\\n\\n\\xf0\\x9f\\x92\\x9f\\xe2\\x9c\\xb4\\xf0\\x9f\\x92\\x9f https://t.co/DTeEZ58cpg \\xf0\\x9f\\x92\\x9f\\xe2\\x9c\\xb4\\xf0\\x9f\\x92\\x9f\\n\\n\\xf0\\x9f\\x90\\xa6\\xec\\xb2\\xab\\xec\\xb6\\xa910%+\\xeb\\xa7\\xa4\\xec\\xb6\\xa9\\xf0\\x9f\\x90\\xa6\\n\\n\\xf0\\x9f\\x93\\x80\\n\\xf0\\x9f\\x94\\xb7\\xf0\\x9f\\x94\\xb7\\n\\xf0\\x9f\\x8c\\xb5\\xf0\\x9f\\x8c\\xb5\\n\\xf0\\x9f\\x8d\\x81\\xf0\\x9f\\x8d\\x81\\xf0\\x9f\\x8d\\x81\\n\\xe2\\x9c\\x89\\xe2\\x9c\\x89\\xe2\\x9c\\x89\\xe2\\x9c\\x89\\n\\xf0\\x9f\\x87\\xb7\\xf0\\x9f\\x87\\xaa\\xf0\\x9f\\x87\\xb7\\xf0\\x9f\\x87\\xaa\\xf0\\x9f\\x87\\xb7\\xf0\\x9f\\x87\\xaa\\xf0\\x9f\\x87\\xb7\\xf0\\x9f\\x87\\xaa\\xf0\\x9f\\x87\\xb7\\xf0\\x9f\\x87\\xaa\\n\\n\\xef\\xbc\\xb3\\xef\\xbd\\x89\\xef\\xbc\\xa7\\xef\\xbc\\xae \\xf0\\x9f\\x93\\x9d\\xef\\xbd\\x95\\xef\\xbc\\xb0\\xf0\\x9f\\x93\\x9d \\xef\\xbd\\x8e\\xef\\xbc\\xaf\\xef\\xbf\\xa6', 0, 0, 'ko', {}, {}, '', '#\\xed\\x95\\xb4\\xec\\x99\\xb8\\xec\\xb6\\x95\\xea\\xb5\\xac\\xed\\x94\\x84\\xeb\\xa1\\x9c\\xed\\x86\\xa0', 'cjs9457', ['\\xf0\\x9f\\x92\\x9f', '\\xf0\\x9f\\x87\\xaa\\xf0\\x9f\\x87\\xb7', '\\xf0\\x9f\\x8d\\x81', '\\xf0\\x9f\\x94\\xb7', '\\xf0\\x9f\\x93\\x9d', '\\xf0\\x9f\\x8c\\xb5', '\\xf0\\x9f\\x90\\xa6', '\\xf0\\x9f\\x92\\x99', '\\xf0\\x9f\\x87\\xb7\\xf0\\x9f\\x87\\xaa', '\\xf0\\x9f\\x93\\x80', '\\xf0\\x9f\\x90\\x9d'], [4, 3, 3, 2, 2, 2, 2, 2, 1, 1, 1], 23, 11, ['#\\xec\\x82\\xac\\xec\\x84\\xa4\\xed\\x86\\xa0\\xed\\x86\\xa0', '\\xf0\\x9f\\x87\\xb7', '\\xf0\\x9f\\x8c\\xb5', '\\xf0\\x9f\\x93\\x80', '\\xef\\xbc\\xb3\\xef\\xbd\\x89\\xef\\xbc\\xa7\\xef\\xbc\\xae', '\\xf0\\x9f\\x94\\xb7', '\\xe2\\x9c\\xb4\\xf0\\x9f\\x92\\x9f', '', '\\xe2\\x9c\\x89\\xe2\\x9c\\x89\\xe2\\x9c\\x89\\xe2\\x9c\\x89', '\\xec\\xb2\\xab\\xec\\xb6\\xa910%+\\xeb\\xa7\\xa4\\xec\\xb6\\xa9\\xf0\\x9f\\x90\\xa6', '\\xec\\x95\\x88\\xeb\\x85\\x95\\xed\\x95\\x98\\xec\\x84\\xb8\\xec\\x9a\\x94^^'], ['\\xf0\\x9f\\x90\\xa6', '\\xf0\\x9f\\x87\\xaa', '\\xe2\\x9c\\x89\\xe2\\x9c\\x89\\xe2\\x9c\\x89\\xe2\\x9c\\x89', '\\xf0\\x9f\\x8c\\xb5', '\\xef\\xbd\\x8e\\xef\\xbc\\xaf\\xef\\xbf\\xa6', '\\xf0\\x9f\\x8d\\x81', '\\xf0\\x9f\\x93\\x80', '\\xec\\x82\\xac-\\xec\\x84\\xa4-\\xed\\x86\\xa0-\\xed\\x86\\xa0', '\\xf0\\x9f\\x87\\xb7', '\\xf0\\x9f\\x94\\xb7', '24\\xec\\x8b\\x9c\\xea\\xb0\\x84'], ['\\xec\\x95\\x88\\xeb\\x85\\x95\\xed\\x95\\x98\\xec\\x84\\xb8\\xec\\x9a\\x94^^ \\xf0\\x9f\\x90\\x9d 24\\xec\\x8b\\x9c\\xea\\xb0\\x84 \\xec\\x97\\xb4\\xeb\\xa6\\xb0\\xf0\\x9f\\x92\\x99 \\xec\\x82\\xac-\\xec\\x84\\xa4-\\xed\\x86\\xa0-\\xed\\x86\\xa0 #\\xec\\x82\\xac\\xec\\x84\\xa4\\xed\\x86\\xa0\\xed\\x86\\xa0 #\\xec\\x82\\xac\\xec\\x84\\xa4\\xed\\x86\\xa0\\xed\\x86\\xa0', '\\xf0\\x9f\\x8c\\xb5 \\xf0\\x9f\\x8d\\x81 \\xf0\\x9f\\x8d\\x81 \\xf0\\x9f\\x8d\\x81 \\xe2\\x9c\\x89\\xe2\\x9c\\x89\\xe2\\x9c\\x89\\xe2\\x9c\\x89 \\xf0\\x9f\\x87\\xb7\\xf0\\x9f\\x87\\xaa \\xf0\\x9f\\x87\\xb7', '\\xf0\\x9f\\x90\\xa6 \\xec\\xb2\\xab\\xec\\xb6\\xa910%+\\xeb\\xa7\\xa4\\xec\\xb6\\xa9\\xf0\\x9f\\x90\\xa6 \\xf0\\x9f\\x93\\x80 \\xf0\\x9f\\x94\\xb7 \\xf0\\x9f\\x94\\xb7 \\xf0\\x9f\\x8c\\xb5 \\xf0\\x9f\\x8c\\xb5', '\\xe2\\x9c\\xb4\\xf0\\x9f\\x92\\x9f https://t.co/DTeEZ58cpg \\xf0\\x9f\\x92\\x9f \\xe2\\x9c\\xb4\\xf0\\x9f\\x92\\x9f \\xf0\\x9f\\x90\\xa6 \\xec\\xb2\\xab\\xec\\xb6\\xa910%+\\xeb\\xa7\\xa4\\xec\\xb6\\xa9\\xf0\\x9f\\x90\\xa6 \\xf0\\x9f\\x93\\x80', '\\xf0\\x9f\\x87\\xb7\\xf0\\x9f\\x87\\xaa \\xf0\\x9f\\x87\\xb7 \\xf0\\x9f\\x87\\xaa\\xf0\\x9f\\x87\\xb7 \\xf0\\x9f\\x87\\xaa\\xf0\\x9f\\x87\\xb7 \\xf0\\x9f\\x87\\xaa\\xf0\\x9f\\x87\\xb7 \\xf0\\x9f\\x87\\xaa \\xef\\xbc\\xb3\\xef\\xbd\\x89\\xef\\xbc\\xa7\\xef\\xbc\\xae', '\\xf0\\x9f\\x92\\x9f \\xe2\\x9c\\xb4\\xf0\\x9f\\x92\\x9f \\xf0\\x9f\\x90\\xa6 \\xec\\xb2\\xab\\xec\\xb6\\xa910%+\\xeb\\xa7\\xa4\\xec\\xb6\\xa9\\xf0\\x9f\\x90\\xa6 \\xf0\\x9f\\x93\\x80 \\xf0\\x9f\\x94\\xb7 \\xf0\\x9f\\x94\\xb7', '#\\xec\\x82\\xac\\xec\\x84\\xa4\\xed\\x86\\xa0\\xed\\x86\\xa0 #\\xec\\x82\\xac\\xec\\x84\\xa4\\xed\\x86\\xa0\\xed\\x86\\xa0 \\xf0\\x9f\\x92\\x9f \\xe2\\x9c\\xb4\\xf0\\x9f\\x92\\x9f https://t.co/DTeEZ58cpg \\xf0\\x9f\\x92\\x9f \\xe2\\x9c\\xb4\\xf0\\x9f\\x92\\x9f', '', '\\xf0\\x9f\\x94\\xb7 \\xf0\\x9f\\x8c\\xb5 \\xf0\\x9f\\x8c\\xb5 \\xf0\\x9f\\x8d\\x81 \\xf0\\x9f\\x8d\\x81 \\xf0\\x9f\\x8d\\x81 \\xe2\\x9c\\x89\\xe2\\x9c\\x89\\xe2\\x9c\\x89\\xe2\\x9c\\x89', '\\xf0\\x9f\\x92\\x9f \\xe2\\x9c\\xb4\\xf0\\x9f\\x92\\x9f https://t.co/DTeEZ58cpg \\xf0\\x9f\\x92\\x9f \\xe2\\x9c\\xb4\\xf0\\x9f\\x92\\x9f \\xf0\\x9f\\x90\\xa6 \\xec\\xb2\\xab\\xec\\xb6\\xa910%+\\xeb\\xa7\\xa4\\xec\\xb6\\xa9\\xf0\\x9f\\x90\\xa6', '\\xf0\\x9f\\x92\\x99 \\xec\\x95\\x88\\xeb\\x85\\x95\\xed\\x95\\x98\\xec\\x84\\xb8\\xec\\x9a\\x94^^'], ['\\xe2\\x9c\\xb4\\xf0\\x9f\\x92\\x9f https://t.co/DTeEZ58cpg \\xf0\\x9f\\x92\\x9f \\xe2\\x9c\\xb4\\xf0\\x9f\\x92\\x9f \\xf0\\x9f\\x90\\xa6 \\xec\\xb2\\xab\\xec\\xb6\\xa910%+\\xeb\\xa7\\xa4\\xec\\xb6\\xa9\\xf0\\x9f\\x90\\xa6 \\xf0\\x9f\\x93\\x80', '\\xf0\\x9f\\x87\\xb7 \\xf0\\x9f\\x87\\xaa\\xf0\\x9f\\x87\\xb7 \\xf0\\x9f\\x87\\xaa\\xf0\\x9f\\x87\\xb7 \\xf0\\x9f\\x87\\xaa \\xef\\xbc\\xb3\\xef\\xbd\\x89\\xef\\xbc\\xa7\\xef\\xbc\\xae \\xf0\\x9f\\x93\\x9d \\xef\\xbd\\x95\\xef\\xbc\\xb0\\xf0\\x9f\\x93\\x9d', '\\xf0\\x9f\\x8d\\x81 \\xf0\\x9f\\x8d\\x81 \\xe2\\x9c\\x89\\xe2\\x9c\\x89\\xe2\\x9c\\x89\\xe2\\x9c\\x89 \\xf0\\x9f\\x87\\xb7\\xf0\\x9f\\x87\\xaa \\xf0\\x9f\\x87\\xb7 \\xf0\\x9f\\x87\\xaa\\xf0\\x9f\\x87\\xb7 \\xf0\\x9f\\x87\\xaa\\xf0\\x9f\\x87\\xb7', '\\xf0\\x9f\\x94\\xb7 \\xf0\\x9f\\x8c\\xb5 \\xf0\\x9f\\x8c\\xb5 \\xf0\\x9f\\x8d\\x81 \\xf0\\x9f\\x8d\\x81 \\xf0\\x9f\\x8d\\x81 \\xe2\\x9c\\x89\\xe2\\x9c\\x89\\xe2\\x9c\\x89\\xe2\\x9c\\x89', '\\xef\\xbd\\x95\\xef\\xbc\\xb0\\xf0\\x9f\\x93\\x9d \\xef\\xbd\\x8e\\xef\\xbc\\xaf\\xef\\xbf\\xa6', '\\xf0\\x9f\\x8c\\xb5 \\xf0\\x9f\\x8d\\x81 \\xf0\\x9f\\x8d\\x81 \\xf0\\x9f\\x8d\\x81 \\xe2\\x9c\\x89\\xe2\\x9c\\x89\\xe2\\x9c\\x89\\xe2\\x9c\\x89 \\xf0\\x9f\\x87\\xb7\\xf0\\x9f\\x87\\xaa \\xf0\\x9f\\x87\\xb7', '\\xec\\xb2\\xab\\xec\\xb6\\xa910%+\\xeb\\xa7\\xa4\\xec\\xb6\\xa9\\xf0\\x9f\\x90\\xa6 \\xf0\\x9f\\x93\\x80 \\xf0\\x9f\\x94\\xb7 \\xf0\\x9f\\x94\\xb7 \\xf0\\x9f\\x8c\\xb5 \\xf0\\x9f\\x8c\\xb5 \\xf0\\x9f\\x8d\\x81', '\\xec\\x95\\x88\\xeb\\x85\\x95\\xed\\x95\\x98\\xec\\x84\\xb8\\xec\\x9a\\x94^^ \\xf0\\x9f\\x90\\x9d 24\\xec\\x8b\\x9c\\xea\\xb0\\x84 \\xec\\x97\\xb4\\xeb\\xa6\\xb0\\xf0\\x9f\\x92\\x99 \\xec\\x82\\xac-\\xec\\x84\\xa4-\\xed\\x86\\xa0-\\xed\\x86\\xa0 #\\xec\\x82\\xac\\xec\\x84\\xa4\\xed\\x86\\xa0\\xed\\x86\\xa0 #\\xec\\x82\\xac\\xec\\x84\\xa4\\xed\\x86\\xa0\\xed\\x86\\xa0', '\\xf0\\x9f\\x87\\xaa \\xf0\\x9f\\x87\\xb7 \\xf0\\x9f\\x87\\xaa\\xf0\\x9f\\x87\\xb7 \\xf0\\x9f\\x87\\xaa\\xf0\\x9f\\x87\\xb7 \\xf0\\x9f\\x87\\xaa\\xf0\\x9f\\x87\\xb7 \\xf0\\x9f\\x87\\xaa \\xef\\xbc\\xb3\\xef\\xbd\\x89\\xef\\xbc\\xa7\\xef\\xbc\\xae', '\\xf0\\x9f\\x94\\xb7 \\xf0\\x9f\\x94\\xb7 \\xf0\\x9f\\x8c\\xb5 \\xf0\\x9f\\x8c\\xb5 \\xf0\\x9f\\x8d\\x81 \\xf0\\x9f\\x8d\\x81 \\xf0\\x9f\\x8d\\x81', '24\\xec\\x8b\\x9c\\xea\\xb0\\x84 \\xec\\x97\\xb4\\xeb\\xa6\\xb0\\xf0\\x9f\\x92\\x99 \\xec\\x82\\xac-\\xec\\x84\\xa4-\\xed\\x86\\xa0-\\xed\\x86\\xa0 #\\xec\\x82\\xac\\xec\\x84\\xa4\\xed\\x86\\xa0\\xed\\x86\\xa0 #\\xec\\x82\\xac\\xec\\x84\\xa4\\xed\\x86\\xa0\\xed\\x86\\xa0 \\xf0\\x9f\\x92\\x9f \\xe2\\x9c\\xb4\\xf0\\x9f\\x92\\x9f'], '\\xf0\\x9f\\x87\\xaa\\xf0\\x9f\\x87\\xb7', 3, 0, [], [], 0, 0, ['\\xf0\\x9f\\x93\\x80\\xf0\\x9f\\x94\\xb7\\xf0\\x9f\\x94\\xb7\\xf0\\x9f\\x8c\\xb5\\xf0\\x9f\\x8c\\xb5\\xf0\\x9f\\x8d\\x81\\xf0\\x9f\\x8d\\x81\\xf0\\x9f\\x8d\\x81', '\\xf0\\x9f\\x87\\xb7\\xf0\\x9f\\x87\\xaa', '\\xf0\\x9f\\x87\\xaa\\xf0\\x9f\\x87\\xb7\\xf0\\x9f\\x87\\xaa\\xf0\\x9f\\x87\\xb7\\xf0\\x9f\\x87\\xaa\\xf0\\x9f\\x87\\xb7'], [1, 1, 1], [8, 2, 6], 3, ['\\xe2\\x9c\\x89\\xe2\\x9c\\x89\\xe2\\x9c\\x89\\xe2\\x9c\\x89', '\\xf0\\x9f\\x87\\xb7'], ['\\xef\\xbc\\xb3\\xef\\xbd\\x89\\xef\\xbc\\xa7\\xef\\xbc\\xae', '\\xf0\\x9f\\x87\\xaa'], ['\\xf0\\x9f\\x92\\x9f\\xe2\\x9c\\xb4\\xf0\\x9f\\x92\\x9f \\xf0\\x9f\\x90\\xa6\\xec\\xb2\\xab\\xec\\xb6\\xa910%+\\xeb\\xa7\\xa4\\xec\\xb6\\xa9\\xf0\\x9f\\x90\\xa6 \\xf0\\x9f\\x93\\x80 \\xf0\\x9f\\x94\\xb7\\xf0\\x9f\\x94\\xb7 \\xf0\\x9f\\x8c\\xb5\\xf0\\x9f\\x8c\\xb5 \\xf0\\x9f\\x8d\\x81\\xf0\\x9f\\x8d\\x81\\xf0\\x9f\\x8d\\x81 \\xe2\\x9c\\x89\\xe2\\x9c\\x89\\xe2\\x9c\\x89\\xe2\\x9c\\x89', '\\xf0\\x9f\\x90\\xa6\\xec\\xb2\\xab\\xec\\xb6\\xa910%+\\xeb\\xa7\\xa4\\xec\\xb6\\xa9\\xf0\\x9f\\x90\\xa6 \\xf0\\x9f\\x93\\x80 \\xf0\\x9f\\x94\\xb7\\xf0\\x9f\\x94\\xb7 \\xf0\\x9f\\x8c\\xb5\\xf0\\x9f\\x8c\\xb5 \\xf0\\x9f\\x8d\\x81\\xf0\\x9f\\x8d\\x81\\xf0\\x9f\\x8d\\x81 \\xe2\\x9c\\x89\\xe2\\x9c\\x89\\xe2\\x9c\\x89\\xe2\\x9c\\x89 \\xf0\\x9f\\x87\\xb7'], ['\\xf0\\x9f\\x87\\xaa\\xf0\\x9f\\x87\\xb7\\xf0\\x9f\\x87\\xaa\\xf0\\x9f\\x87\\xb7\\xf0\\x9f\\x87\\xaa\\xf0\\x9f\\x87\\xb7\\xf0\\x9f\\x87\\xaa\\xf0\\x9f\\x87\\xb7\\xf0\\x9f\\x87\\xaa \\xef\\xbc\\xb3\\xef\\xbd\\x89\\xef\\xbc\\xa7\\xef\\xbc\\xae \\xf0\\x9f\\x93\\x9d\\xef\\xbd\\x95\\xef\\xbc\\xb0\\xf0\\x9f\\x93\\x9d \\xef\\xbd\\x8e\\xef\\xbc\\xaf\\xef\\xbf\\xa6', '\\xf0\\x9f\\x87\\xb7\\xf0\\x9f\\x87\\xaa\\xf0\\x9f\\x87\\xb7\\xf0\\x9f\\x87\\xaa\\xf0\\x9f\\x87\\xb7\\xf0\\x9f\\x87\\xaa\\xf0\\x9f\\x87\\xb7\\xf0\\x9f\\x87\\xaa \\xef\\xbc\\xb3\\xef\\xbd\\x89\\xef\\xbc\\xa7\\xef\\xbc\\xae \\xf0\\x9f\\x93\\x9d\\xef\\xbd\\x95\\xef\\xbc\\xb0\\xf0\\x9f\\x93\\x9d \\xef\\xbd\\x8e\\xef\\xbc\\xaf\\xef\\xbf\\xa6'], ['\\xf0\\x9f\\x87\\xb7\\xf0\\x9f\\x87\\xaa', '\\xf0\\x9f\\x87\\xaa\\xf0\\x9f\\x87\\xb7\\xf0\\x9f\\x87\\xaa\\xf0\\x9f\\x87\\xb7\\xf0\\x9f\\x87\\xaa\\xf0\\x9f\\x87\\xb7', '\\xf0\\x9f\\x93\\x80\\xf0\\x9f\\x94\\xb7\\xf0\\x9f\\x94\\xb7\\xf0\\x9f\\x8c\\xb5\\xf0\\x9f\\x8c\\xb5\\xf0\\x9f\\x8d\\x81\\xf0\\x9f\\x8d\\x81\\xf0\\x9f\\x8d\\x81'], [5, 1, 0], [2, 6, 8], 3)\n",
      "(64, datetime.datetime(2016, 4, 18, 3, 21, 30, 742166), datetime.datetime(2016, 4, 18, 3, 21, 10), 'RT @ProjectFTHelp: Retweet para ganhar seguidores, siga quem retweetou e siga de volta quem te seguir.\\xf0\\x9f\\x91\\x81\\xf0\\x9f\\xa4\\x93', 0, 0, 'pt', {}, {}, '', 'SEGUI DE VOLTA AE  \\xe2\\x99\\xa5', 'lindors3', ['\\xf0\\x9f\\x91\\x81', '\\xf0\\x9f\\xa4\\x93'], [1, 1], 2, 2, ['seguir.', 'seguir.\\xf0\\x9f\\x91\\x81'], ['\\xf0\\x9f\\xa4\\x93', ''], ['e siga de volta quem te seguir.', 'e siga de volta quem te seguir.\\xf0\\x9f\\x91\\x81'], ['\\xf0\\x9f\\xa4\\x93', ''], 'siga', 2, 0, [], [], 0, 0, [], [], [], 0, [], [], [], [], [], [], [], 0)\n",
      "(65, datetime.datetime(2016, 4, 18, 3, 21, 31, 147872), datetime.datetime(2016, 4, 18, 3, 21, 10), \"\\xf0\\x9f\\x99\\x88\\xf0\\x9f\\x99\\x88 - if you ain't the most PETTIEST person I ever met\\xf0\\x9f\\x98\\xad  but your beautiful &amp; one of my favorite cheerleaders \\xf0\\x9f\\x98\\x8d\\xf0\\x9f\\x98\\x98\\xf0\\x9f\\x92\\x95\", 0, 0, 'en', {}, {}, 'Eastern Time (US & Canada)', 'CC\\xe2\\x99\\xa0\\xef\\xb8\\x8f', '_SierraStone12', ['\\xf0\\x9f\\x99\\x88', '\\xf0\\x9f\\x92\\x95', '\\xf0\\x9f\\x98\\xad', '\\xf0\\x9f\\x98\\x98', '\\xf0\\x9f\\x98\\x8d'], [2, 1, 1, 1, 1], 6, 5, ['', '\\xf0\\x9f\\x98\\x98', 'met', '\\xf0\\x9f\\x98\\x8d', 'cheerleaders'], ['-', '', 'but', '\\xf0\\x9f\\x92\\x95', '\\xf0\\x9f\\x98\\x98'], ['', 'one of my favorite cheerleaders \\xf0\\x9f\\x98\\x8d \\xf0\\x9f\\x98\\x98', 'the most PETTIEST person I ever met', '&amp; one of my favorite cheerleaders \\xf0\\x9f\\x98\\x8d', 'beautiful &amp; one of my favorite cheerleaders'], [\"\\xf0\\x9f\\x99\\x88 - if you ain't the most\", '', 'but your beautiful &amp; one of my', '\\xf0\\x9f\\x92\\x95', '\\xf0\\x9f\\x98\\x98 \\xf0\\x9f\\x92\\x95'], '\\xf0\\x9f\\x99\\x88', 2, 0, [], [], 0, 0, ['\\xf0\\x9f\\x99\\x88\\xf0\\x9f\\x99\\x88', '\\xf0\\x9f\\x98\\x8d\\xf0\\x9f\\x98\\x98\\xf0\\x9f\\x92\\x95'], [1, 1], [2, 3], 2, ['', 'cheerleaders'], ['-', ''], ['', 'beautiful &amp; one of my favorite cheerleaders'], [\"\\xf0\\x9f\\x99\\x88 - if you ain't the most\", '\\xf0\\x9f\\x98\\x98\\xf0\\x9f\\x92\\x95'], ['\\xf0\\x9f\\x98\\x8d\\xf0\\x9f\\x98\\x98\\xf0\\x9f\\x92\\x95', '\\xf0\\x9f\\x99\\x88\\xf0\\x9f\\x99\\x88'], [1, 1], [3, 2], 2)\n",
      "(66, datetime.datetime(2016, 4, 18, 3, 21, 32, 162331), datetime.datetime(2016, 4, 18, 3, 21, 10), 'RT @Athlete__Tweet: Noooooo \\xf0\\x9f\\x98\\x82\\xf0\\x9f\\x98\\xad\\xf0\\x9f\\x98\\xad\\xf0\\x9f\\x98\\xad https://t.co/PNnzHwTeFU', 0, 0, 'und', {}, {}, 'Pacific Time (US & Canada)', 'B\\xc3\\xa6b\\xc2\\xa5 $m\\xc3\\xb8\\xc3\\xb8v\\xe2\\x82\\xac', 'LiLSmitH_24', ['\\xf0\\x9f\\x98\\xad', '\\xf0\\x9f\\x98\\x82'], [3, 1], 4, 2, ['\\xf0\\x9f\\x98\\x82', 'Noooooo'], ['https://t.co/PNnzHwTeFU', '\\xf0\\x9f\\x98\\xad'], ['RT @Athlete__Tweet: Noooooo \\xf0\\x9f\\x98\\x82', 'RT @Athlete__Tweet: Noooooo'], ['\\xf0\\x9f\\x98\\xad \\xf0\\x9f\\x98\\xad https://t.co/PNnzHwTeFU', '\\xf0\\x9f\\x98\\xad \\xf0\\x9f\\x98\\xad \\xf0\\x9f\\x98\\xad https://t.co/PNnzHwTeFU'], '\\xf0\\x9f\\x98\\xad', 3, 0, [], [], 0, 0, ['\\xf0\\x9f\\x98\\x82\\xf0\\x9f\\x98\\xad\\xf0\\x9f\\x98\\xad\\xf0\\x9f\\x98\\xad'], [1], [4], 1, ['Noooooo'], ['https://t.co/PNnzHwTeFU'], ['RT @Athlete__Tweet: Noooooo'], ['\\xf0\\x9f\\x98\\xad\\xf0\\x9f\\x98\\xad\\xf0\\x9f\\x98\\xad https://t.co/PNnzHwTeFU'], ['\\xf0\\x9f\\x98\\x82\\xf0\\x9f\\x98\\xad\\xf0\\x9f\\x98\\xad\\xf0\\x9f\\x98\\xad'], [1], [4], 1)\n",
      "(67, datetime.datetime(2016, 4, 18, 3, 21, 33, 199143), datetime.datetime(2016, 4, 18, 3, 21, 10), \"@JT2cupzz @MarioThuggin I do gotta admit it was pretty entertaining \\xf0\\x9f\\x98\\x82\\xf0\\x9f\\x91\\x8f\\xf0\\x9f\\x8f\\xbc y'all both crack me up.\", 0, 0, 'en', {}, {}, '', 'Alicia Branam', 'aliciab1090', ['\\xf0\\x9f\\x91\\x8f\\xf0\\x9f\\x8f\\xbc', '\\xf0\\x9f\\x91\\x8f', '\\xf0\\x9f\\x98\\x82'], [1, 1, 1], 3, 3, ['\\xf0\\x9f\\x98\\x82', '\\xf0\\x9f\\x98\\x82', 'entertaining'], [\"y'all\", '\\xf0\\x9f\\x8f\\xbc', '\\xf0\\x9f\\x91\\x8f\\xf0\\x9f\\x8f\\xbc'], ['gotta admit it was pretty entertaining \\xf0\\x9f\\x98\\x82', 'gotta admit it was pretty entertaining \\xf0\\x9f\\x98\\x82', 'do gotta admit it was pretty entertaining'], [\"\\xf0\\x9f\\x8f\\xbc y'all both crack me up.\", \"\\xf0\\x9f\\x8f\\xbc y'all both crack me up.\", \"\\xf0\\x9f\\x91\\x8f\\xf0\\x9f\\x8f\\xbc y'all both crack me up.\"], \"y'all\", 1, 0, ['\\xf0\\x9f\\x8f\\xbc'], [1], 1, 1, ['\\xf0\\x9f\\x98\\x82\\xf0\\x9f\\x91\\x8f\\xf0\\x9f\\x8f\\xbc'], [1], [3], 1, ['entertaining'], [\"y'all\"], ['do gotta admit it was pretty entertaining'], [\"\\xf0\\x9f\\x91\\x8f\\xf0\\x9f\\x8f\\xbc y'all both crack me up.\"], ['\\xf0\\x9f\\x98\\x82\\xf0\\x9f\\x91\\x8f\\xf0\\x9f\\x8f\\xbc'], [1], [3], 1)\n",
      "(68, datetime.datetime(2016, 4, 18, 3, 21, 34, 743984), datetime.datetime(2016, 4, 18, 3, 21, 11), 'RT @inyoureyes9: \\xe0\\xb9\\x80\\xe0\\xb8\\xa3\\xe0\\xb8\\xb2\\xe0\\xb9\\x80\\xe0\\xb8\\xa3\\xe0\\xb8\\xb5\\xe0\\xb8\\xa2\\xe0\\xb8\\x81\\xe0\\xb8\\xa3\\xe0\\xb8\\xb9\\xe0\\xb8\\x9b\\xe0\\xb8\\x99\\xe0\\xb8\\xb5\\xe0\\xb9\\x89\\xe0\\xb8\\xa7\\xe0\\xb9\\x88\\xe0\\xb8\\xb2....\\xe0\\xb8\\xa2\\xe0\\xb8\\xb4\\xe0\\xb9\\x89\\xe0\\xb8\\xa1\\xe0\\xb8\\x95\\xe0\\xb8\\xb52 \\xf0\\x9f\\x98\\x81 \\xe0\\xb8\\x82\\xe0\\xb8\\xad\\xe0\\xb8\\x9a\\xe0\\xb8\\x84\\xe0\\xb8\\xb8\\xe0\\xb8\\x93\\xe0\\xb9\\x80\\xe0\\xb8\\x88\\xe0\\xb9\\x89\\xe0\\xb8\\xb2\\xe0\\xb8\\x82\\xe0\\xb8\\xad\\xe0\\xb8\\x87\\xe0\\xb8\\xa3\\xe0\\xb8\\xb9\\xe0\\xb8\\x9b\\xe0\\xb8\\xa1\\xe0\\xb8\\xb2\\xe0\\xb8\\x81\\xe0\\xb9\\x86\\xe0\\xb8\\x97\\xe0\\xb8\\xb5\\xe0\\xb9\\x88\\xe0\\xb8\\x97\\xe0\\xb8\\xb3\\xe0\\xb9\\x83\\xe0\\xb8\\xab\\xe0\\xb9\\x89\\xe0\\xb8\\x84\\xe0\\xb8\\xb7\\xe0\\xb8\\x99\\xe0\\xb8\\x99\\xe0\\xb8\\xb1\\xe0\\xb9\\x89\\xe0\\xb8\\x99\\xe0\\xb9\\x80\\xe0\\xb8\\xa3\\xe0\\xb8\\xb2\\xe0\\xb8\\xab\\xe0\\xb8\\xa5\\xe0\\xb8\\xb1\\xe0\\xb8\\x9a\\xe0\\xb8\\x9d\\xe0\\xb8\\xb1\\xe0\\xb8\\x99\\xe0\\xb8\\x94\\xe0\\xb8\\xb5 \\xe0\\xb9\\x81\\xe0\\xb8\\xa1\\xe0\\xb9\\x89\\xe0\\xb8\\x88\\xe0\\xb8\\xb0\\xe0\\xb8\\x99\\xe0\\xb8\\xad\\xe0\\xb8\\x99\\xe0\\xb8\\x94\\xe0\\xb8\\xb6\\xe0\\xb8\\x81\\xe0\\xb8\\xa1\\xe0\\xb8\\xb2\\xe0\\xb8\\x81\\xe0\\xb9\\x86\\xe0\\xb8\\x81\\xe0\\xb9\\x87\\xe0\\xb8\\x95\\xe0\\xb8\\xb2\\xe0\\xb8\\xa1  #ViewInThailand https\\xe2\\x80\\xa6', 0, 0, 'th', {}, {}, '', 'Symptoms', 'MooKShWorld', ['\\xf0\\x9f\\x98\\x81'], [1], 1, 1, ['\\xe0\\xb9\\x80\\xe0\\xb8\\xa3\\xe0\\xb8\\xb2\\xe0\\xb9\\x80\\xe0\\xb8\\xa3\\xe0\\xb8\\xb5\\xe0\\xb8\\xa2\\xe0\\xb8\\x81\\xe0\\xb8\\xa3\\xe0\\xb8\\xb9\\xe0\\xb8\\x9b\\xe0\\xb8\\x99\\xe0\\xb8\\xb5\\xe0\\xb9\\x89\\xe0\\xb8\\xa7\\xe0\\xb9\\x88\\xe0\\xb8\\xb2....\\xe0\\xb8\\xa2\\xe0\\xb8\\xb4\\xe0\\xb9\\x89\\xe0\\xb8\\xa1\\xe0\\xb8\\x95\\xe0\\xb8\\xb52'], ['\\xe0\\xb8\\x82\\xe0\\xb8\\xad\\xe0\\xb8\\x9a\\xe0\\xb8\\x84\\xe0\\xb8\\xb8\\xe0\\xb8\\x93\\xe0\\xb9\\x80\\xe0\\xb8\\x88\\xe0\\xb9\\x89\\xe0\\xb8\\xb2\\xe0\\xb8\\x82\\xe0\\xb8\\xad\\xe0\\xb8\\x87\\xe0\\xb8\\xa3\\xe0\\xb8\\xb9\\xe0\\xb8\\x9b\\xe0\\xb8\\xa1\\xe0\\xb8\\xb2\\xe0\\xb8\\x81\\xe0\\xb9\\x86\\xe0\\xb8\\x97\\xe0\\xb8\\xb5\\xe0\\xb9\\x88\\xe0\\xb8\\x97\\xe0\\xb8\\xb3\\xe0\\xb9\\x83\\xe0\\xb8\\xab\\xe0\\xb9\\x89\\xe0\\xb8\\x84\\xe0\\xb8\\xb7\\xe0\\xb8\\x99\\xe0\\xb8\\x99\\xe0\\xb8\\xb1\\xe0\\xb9\\x89\\xe0\\xb8\\x99\\xe0\\xb9\\x80\\xe0\\xb8\\xa3\\xe0\\xb8\\xb2\\xe0\\xb8\\xab\\xe0\\xb8\\xa5\\xe0\\xb8\\xb1\\xe0\\xb8\\x9a\\xe0\\xb8\\x9d\\xe0\\xb8\\xb1\\xe0\\xb8\\x99\\xe0\\xb8\\x94\\xe0\\xb8\\xb5'], ['RT @inyoureyes9: \\xe0\\xb9\\x80\\xe0\\xb8\\xa3\\xe0\\xb8\\xb2\\xe0\\xb9\\x80\\xe0\\xb8\\xa3\\xe0\\xb8\\xb5\\xe0\\xb8\\xa2\\xe0\\xb8\\x81\\xe0\\xb8\\xa3\\xe0\\xb8\\xb9\\xe0\\xb8\\x9b\\xe0\\xb8\\x99\\xe0\\xb8\\xb5\\xe0\\xb9\\x89\\xe0\\xb8\\xa7\\xe0\\xb9\\x88\\xe0\\xb8\\xb2....\\xe0\\xb8\\xa2\\xe0\\xb8\\xb4\\xe0\\xb9\\x89\\xe0\\xb8\\xa1\\xe0\\xb8\\x95\\xe0\\xb8\\xb52'], ['\\xe0\\xb8\\x82\\xe0\\xb8\\xad\\xe0\\xb8\\x9a\\xe0\\xb8\\x84\\xe0\\xb8\\xb8\\xe0\\xb8\\x93\\xe0\\xb9\\x80\\xe0\\xb8\\x88\\xe0\\xb9\\x89\\xe0\\xb8\\xb2\\xe0\\xb8\\x82\\xe0\\xb8\\xad\\xe0\\xb8\\x87\\xe0\\xb8\\xa3\\xe0\\xb8\\xb9\\xe0\\xb8\\x9b\\xe0\\xb8\\xa1\\xe0\\xb8\\xb2\\xe0\\xb8\\x81\\xe0\\xb9\\x86\\xe0\\xb8\\x97\\xe0\\xb8\\xb5\\xe0\\xb9\\x88\\xe0\\xb8\\x97\\xe0\\xb8\\xb3\\xe0\\xb9\\x83\\xe0\\xb8\\xab\\xe0\\xb9\\x89\\xe0\\xb8\\x84\\xe0\\xb8\\xb7\\xe0\\xb8\\x99\\xe0\\xb8\\x99\\xe0\\xb8\\xb1\\xe0\\xb9\\x89\\xe0\\xb8\\x99\\xe0\\xb9\\x80\\xe0\\xb8\\xa3\\xe0\\xb8\\xb2\\xe0\\xb8\\xab\\xe0\\xb8\\xa5\\xe0\\xb8\\xb1\\xe0\\xb8\\x9a\\xe0\\xb8\\x9d\\xe0\\xb8\\xb1\\xe0\\xb8\\x99\\xe0\\xb8\\x94\\xe0\\xb8\\xb5 \\xe0\\xb9\\x81\\xe0\\xb8\\xa1\\xe0\\xb9\\x89\\xe0\\xb8\\x88\\xe0\\xb8\\xb0\\xe0\\xb8\\x99\\xe0\\xb8\\xad\\xe0\\xb8\\x99\\xe0\\xb8\\x94\\xe0\\xb8\\xb6\\xe0\\xb8\\x81\\xe0\\xb8\\xa1\\xe0\\xb8\\xb2\\xe0\\xb8\\x81\\xe0\\xb9\\x86\\xe0\\xb8\\x81\\xe0\\xb9\\x87\\xe0\\xb8\\x95\\xe0\\xb8\\xb2\\xe0\\xb8\\xa1 #ViewInThailand https\\xe2\\x80\\xa6'], 'rt', 1, 0, [], [], 0, 0, [], [], [], 0, [], [], [], [], [], [], [], 0)\n",
      "(69, datetime.datetime(2016, 4, 18, 3, 21, 34, 943392), datetime.datetime(2016, 4, 18, 3, 21, 10), '@LujaanMartu bastaaaa de esas fotos \\xf0\\x9f\\x98\\x90\\xf0\\x9f\\x98\\x90', 0, 0, 'es', {}, {}, '', 'Gonzaa', 'Gomez14Gmez', ['\\xf0\\x9f\\x98\\x90'], [2], 2, 1, ['fotos'], [''], ['@LujaanMartu bastaaaa de esas fotos'], ['\\xf0\\x9f\\x98\\x90'], '\\xf0\\x9f\\x98\\x90', 2, 0, [], [], 0, 0, ['\\xf0\\x9f\\x98\\x90\\xf0\\x9f\\x98\\x90'], [1], [2], 1, ['fotos'], [''], ['@LujaanMartu bastaaaa de esas fotos'], ['\\xf0\\x9f\\x98\\x90'], ['\\xf0\\x9f\\x98\\x90\\xf0\\x9f\\x98\\x90'], [1], [2], 1)\n",
      "(70, datetime.datetime(2016, 4, 18, 3, 21, 35, 93108), datetime.datetime(2016, 4, 18, 3, 21, 10), '@erick2saucy Forreal we bame to Barls Junior \\xf0\\x9f\\x98\\x8b', 0, 0, 'en', {}, {}, 'Pacific Time (US & Canada)', 'BrianVillalva', 'GoldieGloc', ['\\xf0\\x9f\\x98\\x8b'], [1], 1, 1, ['Junior'], [''], ['@erick2saucy Forreal we bame to Barls Junior'], [''], 'we', 1, 0, [], [], 0, 0, [], [], [], 0, [], [], [], [], [], [], [], 0)\n",
      "(71, datetime.datetime(2016, 4, 18, 3, 21, 35, 761347), datetime.datetime(2016, 4, 18, 3, 21, 10), 'RT @RealTouchingPic: This broke my heart \\xf0\\x9f\\x92\\x94\\xf0\\x9f\\x98\\xad https://t.co/PwioVUCRxN', 0, 0, 'en', {}, {}, '', 'Momred12', 'momred12', ['\\xf0\\x9f\\x92\\x94', '\\xf0\\x9f\\x98\\xad'], [1, 1], 2, 2, ['heart', '\\xf0\\x9f\\x92\\x94'], ['\\xf0\\x9f\\x98\\xad', 'https://t.co/PwioVUCRxN'], ['RT @RealTouchingPic: This broke my heart', 'RT @RealTouchingPic: This broke my heart \\xf0\\x9f\\x92\\x94'], ['\\xf0\\x9f\\x98\\xad https://t.co/PwioVUCRxN', 'https://t.co/PwioVUCRxN'], 'rt', 1, 0, [], [], 0, 0, ['\\xf0\\x9f\\x92\\x94\\xf0\\x9f\\x98\\xad'], [1], [2], 1, ['heart'], ['https://t.co/PwioVUCRxN'], ['RT @RealTouchingPic: This broke my heart'], ['\\xf0\\x9f\\x98\\xad https://t.co/PwioVUCRxN'], ['\\xf0\\x9f\\x92\\x94\\xf0\\x9f\\x98\\xad'], [1], [2], 1)\n",
      "(72, datetime.datetime(2016, 4, 18, 3, 21, 36, 992139), datetime.datetime(2016, 4, 18, 3, 21, 11), 'RT @Barraaaa_: Qu\\xc3\\xa9 lindo tener el enchufe al lado de la cama \\xf0\\x9f\\x94\\x8c\\xf0\\x9f\\x94\\x8b\\xe2\\x9d\\xa4\\xef\\xb8\\x8f', 0, 0, 'es', {}, {}, '', 'Laraa', 'Lararuting123', ['\\xf0\\x9f\\x94\\x8c', '\\xf0\\x9f\\x94\\x8b', '\\xe2\\x9d\\xa4\\xef\\xb8\\x8f'], [1, 1, 1], 3, 3, ['cama', '\\xf0\\x9f\\x94\\x8c', '\\xf0\\x9f\\x94\\x8b'], ['\\xf0\\x9f\\x94\\x8b', '\\xe2\\x9d\\xa4\\xef\\xb8\\x8f', ''], ['el enchufe al lado de la cama', 'enchufe al lado de la cama \\xf0\\x9f\\x94\\x8c', 'al lado de la cama \\xf0\\x9f\\x94\\x8c \\xf0\\x9f\\x94\\x8b'], ['\\xf0\\x9f\\x94\\x8b \\xe2\\x9d\\xa4\\xef\\xb8\\x8f', '\\xe2\\x9d\\xa4\\xef\\xb8\\x8f', ''], 'rt', 1, 0, [], [], 0, 0, ['\\xf0\\x9f\\x94\\x8c\\xf0\\x9f\\x94\\x8b\\xe2\\x9d\\xa4\\xef\\xb8\\x8f'], [1], [3], 1, ['cama'], [''], ['el enchufe al lado de la cama'], ['\\xf0\\x9f\\x94\\x8b\\xe2\\x9d\\xa4\\xef\\xb8\\x8f'], ['\\xf0\\x9f\\x94\\x8c\\xf0\\x9f\\x94\\x8b\\xe2\\x9d\\xa4\\xef\\xb8\\x8f'], [1], [3], 1)\n",
      "(73, datetime.datetime(2016, 4, 18, 3, 21, 37, 481074), datetime.datetime(2016, 4, 18, 3, 21, 11), 'Que me falt\\xc3\\xa9 todo en la vida; menos tu \\xf0\\x9f\\x98\\xad\\xe2\\x9d\\xa4\\xef\\xb8\\x8f @mariobautista_ https://t.co/00PJmmBQyb', 0, 0, 'es', {}, {}, '', '\\xe2\\x9c\\xbdG a l a .', 'villegas_gala', ['\\xe2\\x9d\\xa4\\xef\\xb8\\x8f', '\\xf0\\x9f\\x98\\xad'], [1, 1], 2, 2, ['\\xf0\\x9f\\x98\\xad', 'tu'], ['@mariobautista_', '\\xe2\\x9d\\xa4\\xef\\xb8\\x8f'], ['todo en la vida; menos tu \\xf0\\x9f\\x98\\xad', 'falt\\xc3\\xa9 todo en la vida; menos tu'], ['@mariobautista_ https://t.co/00PJmmBQyb', '\\xe2\\x9d\\xa4\\xef\\xb8\\x8f @mariobautista_ https://t.co/00PJmmBQyb'], 'me', 1, 0, [], [], 0, 0, ['\\xf0\\x9f\\x98\\xad\\xe2\\x9d\\xa4\\xef\\xb8\\x8f'], [1], [2], 1, ['tu'], ['@mariobautista_'], ['falt\\xc3\\xa9 todo en la vida; menos tu'], ['\\xe2\\x9d\\xa4\\xef\\xb8\\x8f @mariobautista_ https://t.co/00PJmmBQyb'], ['\\xf0\\x9f\\x98\\xad\\xe2\\x9d\\xa4\\xef\\xb8\\x8f'], [1], [2], 1)\n",
      "(74, datetime.datetime(2016, 4, 18, 3, 21, 39, 217471), datetime.datetime(2016, 4, 18, 3, 21, 11), 'Hermoso\\xe2\\x9d\\xa4\\xef\\xb8\\x8f https://t.co/0VBtlSnqzK', 0, 0, 'es', {}, {}, '', 'Maje Arroyo\\xe2\\x99\\xa1', 'maje_am', ['\\xe2\\x9d\\xa4\\xef\\xb8\\x8f'], [1], 1, 1, ['Hermoso'], ['https://t.co/0VBtlSnqzK'], ['Hermoso'], ['https://t.co/0VBtlSnqzK'], 'hermoso\\xe2\\x9d\\xa4\\xef\\xb8\\x8f', 1, 0, [], [], 0, 0, [], [], [], 0, [], [], [], [], [], [], [], 0)\n",
      "(102, datetime.datetime(2016, 4, 18, 3, 21, 58, 995941), datetime.datetime(2016, 4, 18, 3, 21, 15), '\\xe3\\x81\\xbe\\xe3\\x81\\xa3\\xe3\\x81\\xa6\\xe3\\x81\\xbe\\xe3\\x81\\xa3\\xe3\\x81\\xa6\\xf0\\x9f\\x98\\xad\\n\\xe3\\x81\\xaa\\xe3\\x81\\xab\\xe3\\x81\\x93\\xe3\\x81\\xae\\xe5\\x8f\\xaf\\xe6\\x84\\x9b\\xe3\\x81\\x84\\xe3\\x82\\xad\\xe3\\x83\\xa0\\xe5\\x85\\x84\\xe5\\xbc\\x9f\\xf0\\x9f\\x98\\xad\\xf0\\x9f\\x98\\xad https://t.co/rf6LSc4m43', 0, 0, 'ja', {}, {}, '', '\\xe3\\x82\\x8a\\xe3\\x81\\xbf\\xe3\\x82\\x93(\\xe3\\x81\\x9d\\xe3\\x81\\x8e)', 'rinaxiu246', ['\\xf0\\x9f\\x98\\xad'], [3], 3, 1, ['\\xe3\\x81\\xbe\\xe3\\x81\\xa3\\xe3\\x81\\xa6\\xe3\\x81\\xbe\\xe3\\x81\\xa3\\xe3\\x81\\xa6'], ['https://t.co/rf6LSc4m43'], ['\\xe3\\x81\\xbe\\xe3\\x81\\xa3\\xe3\\x81\\xa6\\xe3\\x81\\xbe\\xe3\\x81\\xa3\\xe3\\x81\\xa6'], ['\\xe3\\x81\\xaa\\xe3\\x81\\xab\\xe3\\x81\\x93\\xe3\\x81\\xae\\xe5\\x8f\\xaf\\xe6\\x84\\x9b\\xe3\\x81\\x84\\xe3\\x82\\xad\\xe3\\x83\\xa0\\xe5\\x85\\x84\\xe5\\xbc\\x9f\\xf0\\x9f\\x98\\xad \\xf0\\x9f\\x98\\xad https://t.co/rf6LSc4m43'], '\\xe3\\x81\\xbe\\xe3\\x81\\xa3\\xe3\\x81\\xa6\\xe3\\x81\\xbe\\xe3\\x81\\xa3\\xe3\\x81\\xa6\\xf0\\x9f\\x98\\xad', 1, 0, [], [], 0, 0, [], [], [], 0, [], [], [], [], [], [], [], 0)\n",
      "(75, datetime.datetime(2016, 4, 18, 3, 21, 39, 321443), datetime.datetime(2016, 4, 18, 3, 21, 12), 'RT @Luchansooqueen: \\xe0\\xb8\\x9c\\xe0\\xb8\\xb1\\xe0\\xb8\\xa7\\xe0\\xb8\\xa2\\xe0\\xb8\\xb1\\xe0\\xb8\\x87\\xe0\\xb9\\x84\\xe0\\xb8\\x87\\xe0\\xb8\\x81\\xe0\\xb9\\x87\\xe0\\xb8\\x84\\xe0\\xb8\\xb7\\xe0\\xb8\\xad\\xe0\\xb8\\x9c\\xe0\\xb8\\xb1\\xe0\\xb8\\xa7\\xe0\\xb8\\x84\\xe0\\xb9\\x88\\xe0\\xb8\\xb0 \\xe0\\xb8\\x87\\xe0\\xb8\\xb7\\xe0\\xb9\\x89\\xe0\\xb8\\xad\\xe0\\xb8\\xad\\xe0\\xb8\\xad\\xe0\\xb8\\xad\\xe0\\xb8\\xad\\xe0\\xb8\\xad\\xe2\\x98\\xba\\xef\\xb8\\x8f\\xe2\\x9d\\xa4\\xef\\xb8\\x8f #\\xe0\\xb8\\x9e\\xe0\\xb8\\xa2\\xe0\\xb8\\xad\\xe0\\xb8\\x99\\xe0\\xb9\\x81\\xe0\\xb8\\x9a\\xe0\\xb8\\x84\\xe0\\xb8\\xae\\xe0\\xb8\\xa2\\xe0\\xb8\\xad\\xe0\\xb8\\x99\\xe0\\xb8\\xaa\\xe0\\xb8\\xb2\\xe0\\xb8\\xa2\\xe0\\xb9\\x80\\xe0\\xb8\\xa5\\xe0\\xb8\\xb7\\xe0\\xb8\\xad\\xe0\\xb8\\x94\\xe0\\xb9\\x80\\xe0\\xb8\\xa1\\xe0\\xb8\\xb0\\xe0\\xb8\\x95\\xe0\\xb8\\xb1\\xe0\\xb9\\x89\\xe0\\xb8\\x87\\xe0\\xb9\\x81\\xe0\\xb8\\x95\\xe0\\xb9\\x88\\xe0\\xb8\\x81\\xe0\\xb8\\xb3\\xe0\\xb9\\x80\\xe0\\xb8\\x99\\xe0\\xb8\\xb4\\xe0\\xb8\\x94\\xe0\\xb9\\x81\\xe0\\xb8\\x95\\xe0\\xb9\\x88\\xe0\\xb9\\x80\\xe0\\xb8\\x81\\xe0\\xb8\\xb4\\xe0\\xb8\\x94\\xe0\\xb8\\xa1\\xe0\\xb8\\xb2\\xe0\\xb9\\x80\\xe0\\xb8\\x95\\xe0\\xb8\\xb5\\xe0\\xb9\\x89\\xe0\\xb8\\xa2 #\\xe0\\xb8\\xa5\\xe0\\xb8\\xb1\\xe0\\xb8\\x97\\xe0\\xb8\\x98\\xe0\\xb8\\xb4\\xe0\\xb8\\x9e\\xe0\\xb8\\xb5\\xe0\\xb9\\x88\\xe0\\xb9\\x81\\xe0\\xb8\\x9a\\xe0\\xb8\\x84\\xe0\\xb9\\x80\\xe0\\xb8\\xa1\\xe0\\xb8\\xb0 https://t.co/av6g8\\xe2\\x80\\xa6', 0, 0, 'th', {}, {}, '', '\\xe0\\xb8\\x96\\xe0\\xb8\\xb1\\xe0\\xb9\\x88\\xe0\\xb8\\xa7\\xe0\\xb9\\x81\\xe0\\xb8\\x97\\xe0\\xb9\\x81\\xe0\\xb8\\x96\\xe0\\xb8\\xa1\\xe0\\xb8\\x96\\xe0\\xb8\\xb8\\xe0\\xb8\\x87', 'ParkJoy_RVV', ['\\xe2\\x9d\\xa4\\xef\\xb8\\x8f', '\\xe2\\x98\\xba\\xef\\xb8\\x8f'], [1, 1], 2, 2, ['\\xe0\\xb8\\x87\\xe0\\xb8\\xb7\\xe0\\xb9\\x89\\xe0\\xb8\\xad\\xe0\\xb8\\xad\\xe0\\xb8\\xad\\xe0\\xb8\\xad\\xe0\\xb8\\xad\\xe0\\xb8\\xad\\xe2\\x98\\xba\\xef\\xb8\\x8f', '\\xe0\\xb8\\x87\\xe0\\xb8\\xb7\\xe0\\xb9\\x89\\xe0\\xb8\\xad\\xe0\\xb8\\xad\\xe0\\xb8\\xad\\xe0\\xb8\\xad\\xe0\\xb8\\xad\\xe0\\xb8\\xad'], ['#\\xe0\\xb8\\x9e\\xe0\\xb8\\xa2\\xe0\\xb8\\xad\\xe0\\xb8\\x99\\xe0\\xb9\\x81\\xe0\\xb8\\x9a\\xe0\\xb8\\x84\\xe0\\xb8\\xae\\xe0\\xb8\\xa2\\xe0\\xb8\\xad\\xe0\\xb8\\x99\\xe0\\xb8\\xaa\\xe0\\xb8\\xb2\\xe0\\xb8\\xa2\\xe0\\xb9\\x80\\xe0\\xb8\\xa5\\xe0\\xb8\\xb7\\xe0\\xb8\\xad\\xe0\\xb8\\x94\\xe0\\xb9\\x80\\xe0\\xb8\\xa1\\xe0\\xb8\\xb0\\xe0\\xb8\\x95\\xe0\\xb8\\xb1\\xe0\\xb9\\x89\\xe0\\xb8\\x87\\xe0\\xb9\\x81\\xe0\\xb8\\x95\\xe0\\xb9\\x88\\xe0\\xb8\\x81\\xe0\\xb8\\xb3\\xe0\\xb9\\x80\\xe0\\xb8\\x99\\xe0\\xb8\\xb4\\xe0\\xb8\\x94\\xe0\\xb9\\x81\\xe0\\xb8\\x95\\xe0\\xb9\\x88\\xe0\\xb9\\x80\\xe0\\xb8\\x81\\xe0\\xb8\\xb4\\xe0\\xb8\\x94\\xe0\\xb8\\xa1\\xe0\\xb8\\xb2\\xe0\\xb9\\x80\\xe0\\xb8\\x95\\xe0\\xb8\\xb5\\xe0\\xb9\\x89\\xe0\\xb8\\xa2', '\\xe2\\x9d\\xa4\\xef\\xb8\\x8f'], ['RT @Luchansooqueen: \\xe0\\xb8\\x9c\\xe0\\xb8\\xb1\\xe0\\xb8\\xa7\\xe0\\xb8\\xa2\\xe0\\xb8\\xb1\\xe0\\xb8\\x87\\xe0\\xb9\\x84\\xe0\\xb8\\x87\\xe0\\xb8\\x81\\xe0\\xb9\\x87\\xe0\\xb8\\x84\\xe0\\xb8\\xb7\\xe0\\xb8\\xad\\xe0\\xb8\\x9c\\xe0\\xb8\\xb1\\xe0\\xb8\\xa7\\xe0\\xb8\\x84\\xe0\\xb9\\x88\\xe0\\xb8\\xb0 \\xe0\\xb8\\x87\\xe0\\xb8\\xb7\\xe0\\xb9\\x89\\xe0\\xb8\\xad\\xe0\\xb8\\xad\\xe0\\xb8\\xad\\xe0\\xb8\\xad\\xe0\\xb8\\xad\\xe0\\xb8\\xad\\xe2\\x98\\xba\\xef\\xb8\\x8f', 'RT @Luchansooqueen: \\xe0\\xb8\\x9c\\xe0\\xb8\\xb1\\xe0\\xb8\\xa7\\xe0\\xb8\\xa2\\xe0\\xb8\\xb1\\xe0\\xb8\\x87\\xe0\\xb9\\x84\\xe0\\xb8\\x87\\xe0\\xb8\\x81\\xe0\\xb9\\x87\\xe0\\xb8\\x84\\xe0\\xb8\\xb7\\xe0\\xb8\\xad\\xe0\\xb8\\x9c\\xe0\\xb8\\xb1\\xe0\\xb8\\xa7\\xe0\\xb8\\x84\\xe0\\xb9\\x88\\xe0\\xb8\\xb0 \\xe0\\xb8\\x87\\xe0\\xb8\\xb7\\xe0\\xb9\\x89\\xe0\\xb8\\xad\\xe0\\xb8\\xad\\xe0\\xb8\\xad\\xe0\\xb8\\xad\\xe0\\xb8\\xad\\xe0\\xb8\\xad'], ['#\\xe0\\xb8\\x9e\\xe0\\xb8\\xa2\\xe0\\xb8\\xad\\xe0\\xb8\\x99\\xe0\\xb9\\x81\\xe0\\xb8\\x9a\\xe0\\xb8\\x84\\xe0\\xb8\\xae\\xe0\\xb8\\xa2\\xe0\\xb8\\xad\\xe0\\xb8\\x99\\xe0\\xb8\\xaa\\xe0\\xb8\\xb2\\xe0\\xb8\\xa2\\xe0\\xb9\\x80\\xe0\\xb8\\xa5\\xe0\\xb8\\xb7\\xe0\\xb8\\xad\\xe0\\xb8\\x94\\xe0\\xb9\\x80\\xe0\\xb8\\xa1\\xe0\\xb8\\xb0\\xe0\\xb8\\x95\\xe0\\xb8\\xb1\\xe0\\xb9\\x89\\xe0\\xb8\\x87\\xe0\\xb9\\x81\\xe0\\xb8\\x95\\xe0\\xb9\\x88\\xe0\\xb8\\x81\\xe0\\xb8\\xb3\\xe0\\xb9\\x80\\xe0\\xb8\\x99\\xe0\\xb8\\xb4\\xe0\\xb8\\x94\\xe0\\xb9\\x81\\xe0\\xb8\\x95\\xe0\\xb9\\x88\\xe0\\xb9\\x80\\xe0\\xb8\\x81\\xe0\\xb8\\xb4\\xe0\\xb8\\x94\\xe0\\xb8\\xa1\\xe0\\xb8\\xb2\\xe0\\xb9\\x80\\xe0\\xb8\\x95\\xe0\\xb8\\xb5\\xe0\\xb9\\x89\\xe0\\xb8\\xa2 #\\xe0\\xb8\\xa5\\xe0\\xb8\\xb1\\xe0\\xb8\\x97\\xe0\\xb8\\x98\\xe0\\xb8\\xb4\\xe0\\xb8\\x9e\\xe0\\xb8\\xb5\\xe0\\xb9\\x88\\xe0\\xb9\\x81\\xe0\\xb8\\x9a\\xe0\\xb8\\x84\\xe0\\xb9\\x80\\xe0\\xb8\\xa1\\xe0\\xb8\\xb0 https://t.co/av6g8\\xe2\\x80\\xa6', '\\xe2\\x9d\\xa4\\xef\\xb8\\x8f #\\xe0\\xb8\\x9e\\xe0\\xb8\\xa2\\xe0\\xb8\\xad\\xe0\\xb8\\x99\\xe0\\xb9\\x81\\xe0\\xb8\\x9a\\xe0\\xb8\\x84\\xe0\\xb8\\xae\\xe0\\xb8\\xa2\\xe0\\xb8\\xad\\xe0\\xb8\\x99\\xe0\\xb8\\xaa\\xe0\\xb8\\xb2\\xe0\\xb8\\xa2\\xe0\\xb9\\x80\\xe0\\xb8\\xa5\\xe0\\xb8\\xb7\\xe0\\xb8\\xad\\xe0\\xb8\\x94\\xe0\\xb9\\x80\\xe0\\xb8\\xa1\\xe0\\xb8\\xb0\\xe0\\xb8\\x95\\xe0\\xb8\\xb1\\xe0\\xb9\\x89\\xe0\\xb8\\x87\\xe0\\xb9\\x81\\xe0\\xb8\\x95\\xe0\\xb9\\x88\\xe0\\xb8\\x81\\xe0\\xb8\\xb3\\xe0\\xb9\\x80\\xe0\\xb8\\x99\\xe0\\xb8\\xb4\\xe0\\xb8\\x94\\xe0\\xb9\\x81\\xe0\\xb8\\x95\\xe0\\xb9\\x88\\xe0\\xb9\\x80\\xe0\\xb8\\x81\\xe0\\xb8\\xb4\\xe0\\xb8\\x94\\xe0\\xb8\\xa1\\xe0\\xb8\\xb2\\xe0\\xb9\\x80\\xe0\\xb8\\x95\\xe0\\xb8\\xb5\\xe0\\xb9\\x89\\xe0\\xb8\\xa2 #\\xe0\\xb8\\xa5\\xe0\\xb8\\xb1\\xe0\\xb8\\x97\\xe0\\xb8\\x98\\xe0\\xb8\\xb4\\xe0\\xb8\\x9e\\xe0\\xb8\\xb5\\xe0\\xb9\\x88\\xe0\\xb9\\x81\\xe0\\xb8\\x9a\\xe0\\xb8\\x84\\xe0\\xb9\\x80\\xe0\\xb8\\xa1\\xe0\\xb8\\xb0 https://t.co/av6g8\\xe2\\x80\\xa6'], 'rt', 1, 0, [], [], 0, 0, [], [], [], 0, [], [], [], [], [], [], [], 0)\n",
      "(76, datetime.datetime(2016, 4, 18, 3, 21, 41, 210603), datetime.datetime(2016, 4, 18, 3, 21, 12), 'Feliz cumple abuela donde quieras que estes te extra\\xc3\\xb1o miless\\xf0\\x9f\\x98\\x9e\\xf0\\x9f\\x98\\x92', 0, 0, 'es', {}, {}, 'Atlantic Time (Canada)', 'Luud', 'LuudCabraal', ['\\xf0\\x9f\\x98\\x9e', '\\xf0\\x9f\\x98\\x92'], [1, 1], 2, 2, ['miless', 'miless\\xf0\\x9f\\x98\\x9e'], ['\\xf0\\x9f\\x98\\x92', ''], ['donde quieras que estes te extra\\xc3\\xb1o miless', 'donde quieras que estes te extra\\xc3\\xb1o miless\\xf0\\x9f\\x98\\x9e'], ['\\xf0\\x9f\\x98\\x92', ''], '\\xf0\\x9f\\x98\\x92', 1, 0, [], [], 0, 0, [], [], [], 0, [], [], [], [], [], [], [], 0)\n",
      "(77, datetime.datetime(2016, 4, 18, 3, 21, 41, 319482), datetime.datetime(2016, 4, 18, 3, 21, 12), \"RT @dylandauzat: If I was your boyfriend I'd never let you go, I can take you places you ain't never been before hehe \\xf0\\x9f\\x98\\x98\\xf0\\x9f\\x92\\x96\", 0, 0, 'en', {}, {}, '', 'Angelica', 'Lorena9484', ['\\xf0\\x9f\\x92\\x96', '\\xf0\\x9f\\x98\\x98'], [1, 1], 2, 2, ['\\xf0\\x9f\\x98\\x98', 'hehe'], ['', '\\xf0\\x9f\\x92\\x96'], [\"you ain't never been before hehe \\xf0\\x9f\\x98\\x98\", \"places you ain't never been before hehe\"], ['', '\\xf0\\x9f\\x92\\x96'], 'you', 3, 0, [], [], 0, 0, ['\\xf0\\x9f\\x98\\x98\\xf0\\x9f\\x92\\x96'], [1], [2], 1, ['hehe'], [''], [\"places you ain't never been before hehe\"], ['\\xf0\\x9f\\x92\\x96'], ['\\xf0\\x9f\\x98\\x98\\xf0\\x9f\\x92\\x96'], [1], [2], 1)\n",
      "(78, datetime.datetime(2016, 4, 18, 3, 21, 41, 829732), datetime.datetime(2016, 4, 18, 3, 21, 12), 'RT @mangogutierrez: Previa al colegio \\xf0\\x9f\\x93\\x9a https://t.co/xWoKbGxdmn', 0, 0, 'es', {}, {}, 'Santiago', 'Cheslay', 'Bian_Sayago', ['\\xf0\\x9f\\x93\\x9a'], [1], 1, 1, ['colegio'], ['https://t.co/xWoKbGxdmn'], ['RT @mangogutierrez: Previa al colegio'], ['https://t.co/xWoKbGxdmn'], 'rt', 1, 0, [], [], 0, 0, [], [], [], 0, [], [], [], [], [], [], [], 0)\n",
      "(79, datetime.datetime(2016, 4, 18, 3, 21, 43, 750449), datetime.datetime(2016, 4, 18, 3, 21, 12), '@madhavi__ \\xe0\\xa4\\xb8\\xe0\\xa4\\xb9\\xe0\\xa5\\x80 \\xe0\\xa4\\xaa\\xe0\\xa4\\x95\\xe0\\xa4\\xa1\\xe0\\xa4\\xbc\\xe0\\xa5\\x87 \\xe0\\xa4\\xb9\\xe0\\xa5\\x88\\xe0\\xa4\\x82 \\xf0\\x9f\\x91\\x88\\xf0\\x9f\\x91\\x88\\xf0\\x9f\\x91\\x8d\\xf0\\x9f\\x91\\x8d\\xf0\\x9f\\x91\\x8d', 0, 0, 'hi', {}, {}, '', 'Raj007', 'rajgothwall', ['\\xf0\\x9f\\x91\\x8d', '\\xf0\\x9f\\x91\\x88'], [3, 2], 5, 2, ['\\xf0\\x9f\\x91\\x88', '\\xe0\\xa4\\xb9\\xe0\\xa5\\x88\\xe0\\xa4\\x82'], ['', '\\xf0\\x9f\\x91\\x8d'], ['@madhavi__ \\xe0\\xa4\\xb8\\xe0\\xa4\\xb9\\xe0\\xa5\\x80 \\xe0\\xa4\\xaa\\xe0\\xa4\\x95\\xe0\\xa4\\xa1\\xe0\\xa4\\xbc\\xe0\\xa5\\x87 \\xe0\\xa4\\xb9\\xe0\\xa5\\x88\\xe0\\xa4\\x82 \\xf0\\x9f\\x91\\x88 \\xf0\\x9f\\x91\\x88', '@madhavi__ \\xe0\\xa4\\xb8\\xe0\\xa4\\xb9\\xe0\\xa5\\x80 \\xe0\\xa4\\xaa\\xe0\\xa4\\x95\\xe0\\xa4\\xa1\\xe0\\xa4\\xbc\\xe0\\xa5\\x87 \\xe0\\xa4\\xb9\\xe0\\xa5\\x88\\xe0\\xa4\\x82'], ['\\xf0\\x9f\\x91\\x8d \\xf0\\x9f\\x91\\x8d', '\\xf0\\x9f\\x91\\x88 \\xf0\\x9f\\x91\\x8d \\xf0\\x9f\\x91\\x8d \\xf0\\x9f\\x91\\x8d'], '\\xf0\\x9f\\x91\\x8d', 3, 0, [], [], 0, 0, ['\\xf0\\x9f\\x91\\x88\\xf0\\x9f\\x91\\x88\\xf0\\x9f\\x91\\x8d\\xf0\\x9f\\x91\\x8d\\xf0\\x9f\\x91\\x8d'], [1], [5], 1, ['\\xe0\\xa4\\xb9\\xe0\\xa5\\x88\\xe0\\xa4\\x82'], [''], ['@madhavi__ \\xe0\\xa4\\xb8\\xe0\\xa4\\xb9\\xe0\\xa5\\x80 \\xe0\\xa4\\xaa\\xe0\\xa4\\x95\\xe0\\xa4\\xa1\\xe0\\xa4\\xbc\\xe0\\xa5\\x87 \\xe0\\xa4\\xb9\\xe0\\xa5\\x88\\xe0\\xa4\\x82'], ['\\xf0\\x9f\\x91\\x88\\xf0\\x9f\\x91\\x8d\\xf0\\x9f\\x91\\x8d\\xf0\\x9f\\x91\\x8d'], ['\\xf0\\x9f\\x91\\x88\\xf0\\x9f\\x91\\x88\\xf0\\x9f\\x91\\x8d\\xf0\\x9f\\x91\\x8d\\xf0\\x9f\\x91\\x8d'], [1], [5], 1)\n",
      "(80, datetime.datetime(2016, 4, 18, 3, 21, 44, 233993), datetime.datetime(2016, 4, 18, 3, 21, 13), 'RT @rafidah72: Atkins diet BUKAN diet seimbang\\nBoleh jadi bahaya pada diri kita\\nElakkan\\n\\nOlahan yg begitu baik \\xf0\\x9f\\x91\\x87\\n\\nhttps://t.co/seiaYXOFCj\\xe2\\x80\\xa6', 0, 0, 'in', {}, {}, 'Kuala Lumpur', '\\xd8\\xb2\\xe2\\x84\\xa2', 'LaniazSabran', ['\\xf0\\x9f\\x91\\x87'], [1], 1, 1, ['baik'], ['https://t.co/seiaYXOFCj\\xe2\\x80\\xa6'], ['diri kita Elakkan Olahan yg begitu baik'], ['https://t.co/seiaYXOFCj\\xe2\\x80\\xa6'], 'diet', 2, 0, [], [], 0, 0, [], [], [], 0, [], [], [], [], [], [], [], 0)\n",
      "(81, datetime.datetime(2016, 4, 18, 3, 21, 45, 529070), datetime.datetime(2016, 4, 18, 3, 21, 13), '@_GracedGod_ \\xf0\\x9f\\x98\\x82\\xf0\\x9f\\x98\\x82\\xf0\\x9f\\x98\\x82\\xf0\\x9f\\x98\\x82\\xf0\\x9f\\x98\\x82\\xe2\\x9d\\xa4\\xef\\xb8\\x8f', 0, 0, 'und', {}, {}, '', 'jordan newman', 'jordaannn21', ['\\xf0\\x9f\\x98\\x82', '\\xe2\\x9d\\xa4\\xef\\xb8\\x8f'], [5, 1], 6, 2, ['@_GracedGod_', '\\xf0\\x9f\\x98\\x82'], ['\\xe2\\x9d\\xa4\\xef\\xb8\\x8f', ''], ['@_GracedGod_', '@_GracedGod_ \\xf0\\x9f\\x98\\x82 \\xf0\\x9f\\x98\\x82 \\xf0\\x9f\\x98\\x82 \\xf0\\x9f\\x98\\x82 \\xf0\\x9f\\x98\\x82'], ['\\xf0\\x9f\\x98\\x82 \\xf0\\x9f\\x98\\x82 \\xf0\\x9f\\x98\\x82 \\xf0\\x9f\\x98\\x82 \\xe2\\x9d\\xa4\\xef\\xb8\\x8f', ''], '\\xf0\\x9f\\x98\\x82', 5, 0, [], [], 0, 0, ['\\xf0\\x9f\\x98\\x82\\xf0\\x9f\\x98\\x82\\xf0\\x9f\\x98\\x82\\xf0\\x9f\\x98\\x82\\xf0\\x9f\\x98\\x82\\xe2\\x9d\\xa4\\xef\\xb8\\x8f'], [1], [6], 1, ['@_GracedGod_'], [''], ['@_GracedGod_'], ['\\xf0\\x9f\\x98\\x82\\xf0\\x9f\\x98\\x82\\xf0\\x9f\\x98\\x82\\xf0\\x9f\\x98\\x82\\xe2\\x9d\\xa4\\xef\\xb8\\x8f'], ['\\xf0\\x9f\\x98\\x82\\xf0\\x9f\\x98\\x82\\xf0\\x9f\\x98\\x82\\xf0\\x9f\\x98\\x82\\xf0\\x9f\\x98\\x82\\xe2\\x9d\\xa4\\xef\\xb8\\x8f'], [1], [6], 1)\n",
      "(82, datetime.datetime(2016, 4, 18, 3, 21, 45, 833685), datetime.datetime(2016, 4, 18, 3, 21, 13), 'RT @OfficialJoelF: #MISSING: Melissa Siple, 14, has been missing since Friday (North Miami Beach area). Left behind a suicide note. RT\\xf0\\x9f\\x9a\\xa8 htt\\xe2\\x80\\xa6', 0, 0, 'en', {}, {}, 'Hawaii', 'The Real HBIC', '_Katieeee', ['\\xf0\\x9f\\x9a\\xa8'], [1], 1, 1, ['RT'], ['htt\\xe2\\x80\\xa6'], ['area). Left behind a suicide note. RT'], ['htt\\xe2\\x80\\xa6'], 'htt\\xe2\\x80\\xa6', 1, 0, [], [], 0, 0, [], [], [], 0, [], [], [], [], [], [], [], 0)\n",
      "(83, datetime.datetime(2016, 4, 18, 3, 21, 46, 123585), datetime.datetime(2016, 4, 18, 3, 21, 13), '@RodolfoCota_ Qu\\xc3\\xa9date \\xf0\\x9f\\x99\\x8c f\\xc3\\xadchalo @jorgevergara', 0, 0, 'es', {}, {}, 'Central Time (US & Canada)', 'Karina 8\\xe2\\x83\\xa3', 'Santos_Karina08', ['\\xf0\\x9f\\x99\\x8c'], [1], 1, 1, ['Qu\\xc3\\xa9date'], ['f\\xc3\\xadchalo'], ['@RodolfoCota_ Qu\\xc3\\xa9date'], ['f\\xc3\\xadchalo @jorgevergara'], 'qu\\xc3\\xa9date', 1, 0, [], [], 0, 0, [], [], [], 0, [], [], [], [], [], [], [], 0)\n",
      "(84, datetime.datetime(2016, 4, 18, 3, 21, 46, 809737), datetime.datetime(2016, 4, 18, 3, 21, 13), '@BrunoBelutti parab\\xc3\\xa9ns  papai!!!  Ele \\xc3\\xa9 um anjo mesmo \\xf0\\x9f\\x98\\x8d\\xf0\\x9f\\x98\\x8d muita sa\\xc3\\xbade ao pr\\xc3\\xadncipe e beijo na mam\\xc3\\xa3e do ano \\xf0\\x9f\\x98\\x98\\xf0\\x9f\\x98\\x98', 0, 0, 'pt', {}, {}, 'Greenland', 'Katia Yukari', 'katia_yukari', ['\\xf0\\x9f\\x98\\x98', '\\xf0\\x9f\\x98\\x8d'], [2, 2], 4, 2, ['ano', 'mesmo'], ['', 'muita'], ['pr\\xc3\\xadncipe e beijo na mam\\xc3\\xa3e do ano', 'parab\\xc3\\xa9ns papai!!! Ele \\xc3\\xa9 um anjo mesmo'], ['\\xf0\\x9f\\x98\\x98', '\\xf0\\x9f\\x98\\x8d muita sa\\xc3\\xbade ao pr\\xc3\\xadncipe e beijo'], '\\xf0\\x9f\\x98\\x98', 2, 0, [], [], 0, 0, ['\\xf0\\x9f\\x98\\x98\\xf0\\x9f\\x98\\x98', '\\xf0\\x9f\\x98\\x8d\\xf0\\x9f\\x98\\x8d'], [1, 1], [2, 2], 2, ['ano', 'mesmo'], ['', 'muita'], ['pr\\xc3\\xadncipe e beijo na mam\\xc3\\xa3e do ano', 'parab\\xc3\\xa9ns papai!!! Ele \\xc3\\xa9 um anjo mesmo'], ['\\xf0\\x9f\\x98\\x98', '\\xf0\\x9f\\x98\\x8d muita sa\\xc3\\xbade ao pr\\xc3\\xadncipe e beijo'], ['\\xf0\\x9f\\x98\\x8d\\xf0\\x9f\\x98\\x8d', '\\xf0\\x9f\\x98\\x98\\xf0\\x9f\\x98\\x98'], [1, 1], [2, 2], 2)\n",
      "(85, datetime.datetime(2016, 4, 18, 3, 21, 47, 858791), datetime.datetime(2016, 4, 18, 3, 21, 14), 'RT @UnShotVIP: Siempre estudio o hago la tarea el domingo en la noche. \\xf0\\x9f\\x98\\x82', 0, 0, 'es', {}, {}, 'Arizona', 'Julissa Alondra', 'JulissaCastroG', ['\\xf0\\x9f\\x98\\x82'], [1], 1, 1, ['noche.'], [''], ['la tarea el domingo en la noche.'], [''], 'la', 2, 0, [], [], 0, 0, [], [], [], 0, [], [], [], [], [], [], [], 0)\n",
      "(86, datetime.datetime(2016, 4, 18, 3, 21, 48, 85205), datetime.datetime(2016, 4, 18, 3, 21, 13), 'sneak peek \\xf0\\x9f\\x9a\\x97 https://t.co/uE7HUtWp3a', 0, 0, 'en', {}, {}, '', 'tristen \\xe2\\x9a\\x9c', 'whiteratchets', ['\\xf0\\x9f\\x9a\\x97'], [1], 1, 1, ['peek'], ['https://t.co/uE7HUtWp3a'], ['sneak peek'], ['https://t.co/uE7HUtWp3a'], 'peek', 1, 0, [], [], 0, 0, [], [], [], 0, [], [], [], [], [], [], [], 0)\n",
      "(87, datetime.datetime(2016, 4, 18, 3, 21, 48, 925156), datetime.datetime(2016, 4, 18, 3, 21, 13), 'Load the choppa let it rain on you \\xf0\\x9f\\x92\\xaf\\xf0\\x9f\\x92\\xaf\\xf0\\x9f\\x96\\x95\\xf0\\x9f\\x8f\\xbb  https://t.co/fHXC0kQ34g', 0, 0, 'en', {}, {}, '', 'Daniel Rubio', 'rubiobaseball10', ['\\xf0\\x9f\\x92\\xaf', '\\xf0\\x9f\\x96\\x95\\xf0\\x9f\\x8f\\xbb', '\\xf0\\x9f\\x96\\x95'], [2, 1, 1], 4, 3, ['you', '\\xf0\\x9f\\x92\\xaf', '\\xf0\\x9f\\x92\\xaf'], ['\\xf0\\x9f\\x96\\x95\\xf0\\x9f\\x8f\\xbb', 'https://t.co/fHXC0kQ34g', '\\xf0\\x9f\\x8f\\xbb'], ['the choppa let it rain on you', 'let it rain on you \\xf0\\x9f\\x92\\xaf \\xf0\\x9f\\x92\\xaf', 'let it rain on you \\xf0\\x9f\\x92\\xaf \\xf0\\x9f\\x92\\xaf'], ['\\xf0\\x9f\\x92\\xaf \\xf0\\x9f\\x96\\x95\\xf0\\x9f\\x8f\\xbb https://t.co/fHXC0kQ34g', '\\xf0\\x9f\\x8f\\xbb https://t.co/fHXC0kQ34g', '\\xf0\\x9f\\x8f\\xbb https://t.co/fHXC0kQ34g'], '\\xf0\\x9f\\x92\\xaf', 2, 0, ['\\xf0\\x9f\\x8f\\xbb'], [1], 1, 1, ['\\xf0\\x9f\\x92\\xaf\\xf0\\x9f\\x92\\xaf\\xf0\\x9f\\x96\\x95\\xf0\\x9f\\x8f\\xbb'], [1], [4], 1, ['you'], ['https://t.co/fHXC0kQ34g'], ['the choppa let it rain on you'], ['\\xf0\\x9f\\x92\\xaf\\xf0\\x9f\\x96\\x95\\xf0\\x9f\\x8f\\xbb https://t.co/fHXC0kQ34g'], ['\\xf0\\x9f\\x92\\xaf\\xf0\\x9f\\x92\\xaf\\xf0\\x9f\\x96\\x95\\xf0\\x9f\\x8f\\xbb'], [1], [4], 1)\n",
      "(88, datetime.datetime(2016, 4, 18, 3, 21, 49, 65746), datetime.datetime(2016, 4, 18, 3, 21, 14), 'RT @Ezequiel1901: @Ezequiel1901 @Sonnnnnnni que linda sonrisa ten\\xc3\\xa9s \\xf0\\x9f\\x98\\xb3', 0, 0, 'es', {}, {}, 'Buenos Aires', 'So    \\xe2\\x9d\\x81', 'Sonnnnnnni', ['\\xf0\\x9f\\x98\\xb3'], [1], 1, 1, ['ten\\xc3\\xa9s'], [''], ['@Ezequiel1901: @Ezequiel1901 @Sonnnnnnni que linda sonrisa ten\\xc3\\xa9s'], [''], 'rt', 1, 0, [], [], 0, 0, [], [], [], 0, [], [], [], [], [], [], [], 0)\n",
      "(89, datetime.datetime(2016, 4, 18, 3, 21, 49, 186941), datetime.datetime(2016, 4, 18, 3, 21, 14), 'RT @aalexsmiles_: I keep on watching this video\\xf0\\x9f\\x98\\x82 https://t.co/O5IPfxrvbt', 0, 0, 'en', {}, {}, '', '\\xe2\\x99\\xa1 sabrina \\xe2\\x99\\xa1', '_sabbrinna_', ['\\xf0\\x9f\\x98\\x82'], [1], 1, 1, ['video'], ['https://t.co/O5IPfxrvbt'], ['@aalexsmiles_: I keep on watching this video'], ['https://t.co/O5IPfxrvbt'], 'rt', 1, 0, [], [], 0, 0, [], [], [], 0, [], [], [], [], [], [], [], 0)\n",
      "(90, datetime.datetime(2016, 4, 18, 3, 21, 49, 716314), datetime.datetime(2016, 4, 18, 3, 21, 13), 'RT @smsg3196461: #\\xd8\\xa8\\xd8\\xb1\\xd8\\xb3\\xd8\\xaa\\xd9\\x8a\\xd8\\xac_20k_\\xd9\\x85\\xd8\\xaa\\xd8\\xa7\\xd8\\xa8\\xd8\\xb9 \\n\\xd8\\xa7\\xd9\\x84\\xd9\\x81 \\xd8\\xa7\\xd9\\x84\\xd9\\x81 \\xd9\\x85\\xd8\\xa8\\xd8\\xb1\\xd9\\x88\\xd9\\x88\\xd9\\x88\\xd9\\x83\\xf0\\x9f\\x8e\\x8a\\xf0\\x9f\\x8e\\x89\\xf0\\x9f\\x8e\\x8a\\n\\xd8\\xb4\\xd8\\xa7\\xd9\\x87\\xd8\\xaf\\xd9\\x8a\\xd9\\x86 \\xd9\\x84\\xd9\\x83 \\xd8\\xa8\\xd8\\xa7\\xd9\\x84\\xd8\\xae\\xd9\\x8a\\xd8\\xb1 \\xf0\\x9f\\x8c\\xb9\\xf0\\x9f\\x8c\\xb9\\xf0\\x9f\\x8c\\xb9\\n\\xd9\\x88\\xd9\\x81\\xd8\\xa7\\xd9\\x84\\xd9\\x83 \\xd8\\xa7\\xd9\\x84\\xd9\\x85\\xd9\\x84\\xd9\\x8a\\xd9\\x88\\xd9\\x86 \\xf0\\x9f\\x91\\x8f\\xf0\\x9f\\x91\\x8f\\xf0\\x9f\\x91\\x8f\\n#\\xd8\\xad\\xd8\\xb3\\xd8\\xa7\\xd8\\xa8_\\xd9\\x85\\xd9\\x85\\xd9\\x8a\\xd8\\xb2_\\xd9\\x88\\xd8\\xb0\\xd9\\x88\\xd9\\x82 \\xf0\\x9f\\x91\\x8d\\n\\xf0\\x9f\\x91\\x87\\xf0\\x9f\\x91\\x87\\xf0\\x9f\\x91\\x87\\n @al_8rm https://t.co/m\\xe2\\x80\\xa6', 0, 0, 'ar', {}, {}, '', '\\xd9\\x88\\xd9\\x87\\xd9\\x85', 'ggllll333', ['\\xf0\\x9f\\x8c\\xb9', '\\xf0\\x9f\\x91\\x8f', '\\xf0\\x9f\\x91\\x87', '\\xf0\\x9f\\x8e\\x8a', '\\xf0\\x9f\\x8e\\x89', '\\xf0\\x9f\\x91\\x8d'], [3, 3, 3, 2, 1, 1], 13, 6, ['\\xd8\\xa8\\xd8\\xa7\\xd9\\x84\\xd8\\xae\\xd9\\x8a\\xd8\\xb1', '\\xd8\\xa7\\xd9\\x84\\xd9\\x85\\xd9\\x84\\xd9\\x8a\\xd9\\x88\\xd9\\x86', '\\xf0\\x9f\\x91\\x8d', '\\xd9\\x85\\xd8\\xa8\\xd8\\xb1\\xd9\\x88\\xd9\\x88\\xd9\\x88\\xd9\\x83', '\\xd9\\x85\\xd8\\xa8\\xd8\\xb1\\xd9\\x88\\xd9\\x88\\xd9\\x88\\xd9\\x83\\xf0\\x9f\\x8e\\x8a', '#\\xd8\\xad\\xd8\\xb3\\xd8\\xa7\\xd8\\xa8_\\xd9\\x85\\xd9\\x85\\xd9\\x8a\\xd8\\xb2_\\xd9\\x88\\xd8\\xb0\\xd9\\x88\\xd9\\x82'], ['\\xd9\\x88\\xd9\\x81\\xd8\\xa7\\xd9\\x84\\xd9\\x83', '#\\xd8\\xad\\xd8\\xb3\\xd8\\xa7\\xd8\\xa8_\\xd9\\x85\\xd9\\x85\\xd9\\x8a\\xd8\\xb2_\\xd9\\x88\\xd8\\xb0\\xd9\\x88\\xd9\\x82', '@al_8rm', '\\xd8\\xb4\\xd8\\xa7\\xd9\\x87\\xd8\\xaf\\xd9\\x8a\\xd9\\x86', '\\xf0\\x9f\\x8e\\x8a', '\\xf0\\x9f\\x91\\x87'], ['\\xd8\\xa7\\xd9\\x84\\xd9\\x81 \\xd9\\x85\\xd8\\xa8\\xd8\\xb1\\xd9\\x88\\xd9\\x88\\xd9\\x88\\xd9\\x83\\xf0\\x9f\\x8e\\x8a \\xf0\\x9f\\x8e\\x89 \\xf0\\x9f\\x8e\\x8a \\xd8\\xb4\\xd8\\xa7\\xd9\\x87\\xd8\\xaf\\xd9\\x8a\\xd9\\x86 \\xd9\\x84\\xd9\\x83 \\xd8\\xa8\\xd8\\xa7\\xd9\\x84\\xd8\\xae\\xd9\\x8a\\xd8\\xb1', '\\xd9\\x84\\xd9\\x83 \\xd8\\xa8\\xd8\\xa7\\xd9\\x84\\xd8\\xae\\xd9\\x8a\\xd8\\xb1 \\xf0\\x9f\\x8c\\xb9 \\xf0\\x9f\\x8c\\xb9 \\xf0\\x9f\\x8c\\xb9 \\xd9\\x88\\xd9\\x81\\xd8\\xa7\\xd9\\x84\\xd9\\x83 \\xd8\\xa7\\xd9\\x84\\xd9\\x85\\xd9\\x84\\xd9\\x8a\\xd9\\x88\\xd9\\x86', '\\xd9\\x88\\xd9\\x81\\xd8\\xa7\\xd9\\x84\\xd9\\x83 \\xd8\\xa7\\xd9\\x84\\xd9\\x85\\xd9\\x84\\xd9\\x8a\\xd9\\x88\\xd9\\x86 \\xf0\\x9f\\x91\\x8f \\xf0\\x9f\\x91\\x8f \\xf0\\x9f\\x91\\x8f #\\xd8\\xad\\xd8\\xb3\\xd8\\xa7\\xd8\\xa8_\\xd9\\x85\\xd9\\x85\\xd9\\x8a\\xd8\\xb2_\\xd9\\x88\\xd8\\xb0\\xd9\\x88\\xd9\\x82 \\xf0\\x9f\\x91\\x8d', 'RT @smsg3196461: #\\xd8\\xa8\\xd8\\xb1\\xd8\\xb3\\xd8\\xaa\\xd9\\x8a\\xd8\\xac_20k_\\xd9\\x85\\xd8\\xaa\\xd8\\xa7\\xd8\\xa8\\xd8\\xb9 \\xd8\\xa7\\xd9\\x84\\xd9\\x81 \\xd8\\xa7\\xd9\\x84\\xd9\\x81 \\xd9\\x85\\xd8\\xa8\\xd8\\xb1\\xd9\\x88\\xd9\\x88\\xd9\\x88\\xd9\\x83', 'RT @smsg3196461: #\\xd8\\xa8\\xd8\\xb1\\xd8\\xb3\\xd8\\xaa\\xd9\\x8a\\xd8\\xac_20k_\\xd9\\x85\\xd8\\xaa\\xd8\\xa7\\xd8\\xa8\\xd8\\xb9 \\xd8\\xa7\\xd9\\x84\\xd9\\x81 \\xd8\\xa7\\xd9\\x84\\xd9\\x81 \\xd9\\x85\\xd8\\xa8\\xd8\\xb1\\xd9\\x88\\xd9\\x88\\xd9\\x88\\xd9\\x83\\xf0\\x9f\\x8e\\x8a', '\\xf0\\x9f\\x8c\\xb9 \\xd9\\x88\\xd9\\x81\\xd8\\xa7\\xd9\\x84\\xd9\\x83 \\xd8\\xa7\\xd9\\x84\\xd9\\x85\\xd9\\x84\\xd9\\x8a\\xd9\\x88\\xd9\\x86 \\xf0\\x9f\\x91\\x8f \\xf0\\x9f\\x91\\x8f \\xf0\\x9f\\x91\\x8f #\\xd8\\xad\\xd8\\xb3\\xd8\\xa7\\xd8\\xa8_\\xd9\\x85\\xd9\\x85\\xd9\\x8a\\xd8\\xb2_\\xd9\\x88\\xd8\\xb0\\xd9\\x88\\xd9\\x82'], ['\\xf0\\x9f\\x8c\\xb9 \\xf0\\x9f\\x8c\\xb9 \\xd9\\x88\\xd9\\x81\\xd8\\xa7\\xd9\\x84\\xd9\\x83 \\xd8\\xa7\\xd9\\x84\\xd9\\x85\\xd9\\x84\\xd9\\x8a\\xd9\\x88\\xd9\\x86 \\xf0\\x9f\\x91\\x8f \\xf0\\x9f\\x91\\x8f \\xf0\\x9f\\x91\\x8f', '\\xf0\\x9f\\x91\\x8f \\xf0\\x9f\\x91\\x8f #\\xd8\\xad\\xd8\\xb3\\xd8\\xa7\\xd8\\xa8_\\xd9\\x85\\xd9\\x85\\xd9\\x8a\\xd8\\xb2_\\xd9\\x88\\xd8\\xb0\\xd9\\x88\\xd9\\x82 \\xf0\\x9f\\x91\\x8d \\xf0\\x9f\\x91\\x87 \\xf0\\x9f\\x91\\x87 \\xf0\\x9f\\x91\\x87', '\\xf0\\x9f\\x91\\x87 \\xf0\\x9f\\x91\\x87 @al_8rm https://t.co/m\\xe2\\x80\\xa6', '\\xf0\\x9f\\x8e\\x89 \\xf0\\x9f\\x8e\\x8a \\xd8\\xb4\\xd8\\xa7\\xd9\\x87\\xd8\\xaf\\xd9\\x8a\\xd9\\x86 \\xd9\\x84\\xd9\\x83 \\xd8\\xa8\\xd8\\xa7\\xd9\\x84\\xd8\\xae\\xd9\\x8a\\xd8\\xb1 \\xf0\\x9f\\x8c\\xb9 \\xf0\\x9f\\x8c\\xb9', '\\xf0\\x9f\\x8e\\x8a \\xd8\\xb4\\xd8\\xa7\\xd9\\x87\\xd8\\xaf\\xd9\\x8a\\xd9\\x86 \\xd9\\x84\\xd9\\x83 \\xd8\\xa8\\xd8\\xa7\\xd9\\x84\\xd8\\xae\\xd9\\x8a\\xd8\\xb1 \\xf0\\x9f\\x8c\\xb9 \\xf0\\x9f\\x8c\\xb9 \\xf0\\x9f\\x8c\\xb9', '\\xf0\\x9f\\x91\\x87 \\xf0\\x9f\\x91\\x87 \\xf0\\x9f\\x91\\x87 @al_8rm https://t.co/m\\xe2\\x80\\xa6'], '\\xf0\\x9f\\x8c\\xb9', 3, 0, [], [], 0, 0, ['\\xf0\\x9f\\x8e\\x89\\xf0\\x9f\\x8e\\x8a', '\\xf0\\x9f\\x91\\x8f\\xf0\\x9f\\x91\\x8f\\xf0\\x9f\\x91\\x8f', '\\xf0\\x9f\\x91\\x8d\\xf0\\x9f\\x91\\x87\\xf0\\x9f\\x91\\x87\\xf0\\x9f\\x91\\x87', '\\xf0\\x9f\\x8c\\xb9\\xf0\\x9f\\x8c\\xb9\\xf0\\x9f\\x8c\\xb9'], [1, 1, 1, 1], [2, 3, 4, 3], 4, ['\\xd9\\x85\\xd8\\xa8\\xd8\\xb1\\xd9\\x88\\xd9\\x88\\xd9\\x88\\xd9\\x83\\xf0\\x9f\\x8e\\x8a', '\\xd8\\xa7\\xd9\\x84\\xd9\\x85\\xd9\\x84\\xd9\\x8a\\xd9\\x88\\xd9\\x86', '\\xd8\\xa8\\xd8\\xa7\\xd9\\x84\\xd8\\xae\\xd9\\x8a\\xd8\\xb1'], ['\\xd8\\xb4\\xd8\\xa7\\xd9\\x87\\xd8\\xaf\\xd9\\x8a\\xd9\\x86', '#\\xd8\\xad\\xd8\\xb3\\xd8\\xa7\\xd8\\xa8_\\xd9\\x85\\xd9\\x85\\xd9\\x8a\\xd8\\xb2_\\xd9\\x88\\xd8\\xb0\\xd9\\x88\\xd9\\x82', '\\xd9\\x88\\xd9\\x81\\xd8\\xa7\\xd9\\x84\\xd9\\x83'], ['RT @smsg3196461: #\\xd8\\xa8\\xd8\\xb1\\xd8\\xb3\\xd8\\xaa\\xd9\\x8a\\xd8\\xac_20k_\\xd9\\x85\\xd8\\xaa\\xd8\\xa7\\xd8\\xa8\\xd8\\xb9 \\xd8\\xa7\\xd9\\x84\\xd9\\x81 \\xd8\\xa7\\xd9\\x84\\xd9\\x81 \\xd9\\x85\\xd8\\xa8\\xd8\\xb1\\xd9\\x88\\xd9\\x88\\xd9\\x88\\xd9\\x83\\xf0\\x9f\\x8e\\x8a', '\\xd9\\x85\\xd8\\xa8\\xd8\\xb1\\xd9\\x88\\xd9\\x88\\xd9\\x88\\xd9\\x83\\xf0\\x9f\\x8e\\x8a\\xf0\\x9f\\x8e\\x89\\xf0\\x9f\\x8e\\x8a \\xd8\\xb4\\xd8\\xa7\\xd9\\x87\\xd8\\xaf\\xd9\\x8a\\xd9\\x86 \\xd9\\x84\\xd9\\x83 \\xd8\\xa8\\xd8\\xa7\\xd9\\x84\\xd8\\xae\\xd9\\x8a\\xd8\\xb1 \\xf0\\x9f\\x8c\\xb9\\xf0\\x9f\\x8c\\xb9\\xf0\\x9f\\x8c\\xb9 \\xd9\\x88\\xd9\\x81\\xd8\\xa7\\xd9\\x84\\xd9\\x83 \\xd8\\xa7\\xd9\\x84\\xd9\\x85\\xd9\\x84\\xd9\\x8a\\xd9\\x88\\xd9\\x86', '#\\xd8\\xa8\\xd8\\xb1\\xd8\\xb3\\xd8\\xaa\\xd9\\x8a\\xd8\\xac_20k_\\xd9\\x85\\xd8\\xaa\\xd8\\xa7\\xd8\\xa8\\xd8\\xb9 \\xd8\\xa7\\xd9\\x84\\xd9\\x81 \\xd8\\xa7\\xd9\\x84\\xd9\\x81 \\xd9\\x85\\xd8\\xa8\\xd8\\xb1\\xd9\\x88\\xd9\\x88\\xd9\\x88\\xd9\\x83\\xf0\\x9f\\x8e\\x8a\\xf0\\x9f\\x8e\\x89\\xf0\\x9f\\x8e\\x8a \\xd8\\xb4\\xd8\\xa7\\xd9\\x87\\xd8\\xaf\\xd9\\x8a\\xd9\\x86 \\xd9\\x84\\xd9\\x83 \\xd8\\xa8\\xd8\\xa7\\xd9\\x84\\xd8\\xae\\xd9\\x8a\\xd8\\xb1'], ['\\xf0\\x9f\\x8e\\x8a \\xd8\\xb4\\xd8\\xa7\\xd9\\x87\\xd8\\xaf\\xd9\\x8a\\xd9\\x86 \\xd9\\x84\\xd9\\x83 \\xd8\\xa8\\xd8\\xa7\\xd9\\x84\\xd8\\xae\\xd9\\x8a\\xd8\\xb1 \\xf0\\x9f\\x8c\\xb9\\xf0\\x9f\\x8c\\xb9\\xf0\\x9f\\x8c\\xb9 \\xd9\\x88\\xd9\\x81\\xd8\\xa7\\xd9\\x84\\xd9\\x83 \\xd8\\xa7\\xd9\\x84\\xd9\\x85\\xd9\\x84\\xd9\\x8a\\xd9\\x88\\xd9\\x86', '\\xf0\\x9f\\x91\\x8f\\xf0\\x9f\\x91\\x8f #\\xd8\\xad\\xd8\\xb3\\xd8\\xa7\\xd8\\xa8_\\xd9\\x85\\xd9\\x85\\xd9\\x8a\\xd8\\xb2_\\xd9\\x88\\xd8\\xb0\\xd9\\x88\\xd9\\x82 \\xf0\\x9f\\x91\\x8d \\xf0\\x9f\\x91\\x87\\xf0\\x9f\\x91\\x87\\xf0\\x9f\\x91\\x87 @al_8rm https://t.co/m\\xe2\\x80\\xa6', '\\xf0\\x9f\\x8c\\xb9\\xf0\\x9f\\x8c\\xb9 \\xd9\\x88\\xd9\\x81\\xd8\\xa7\\xd9\\x84\\xd9\\x83 \\xd8\\xa7\\xd9\\x84\\xd9\\x85\\xd9\\x84\\xd9\\x8a\\xd9\\x88\\xd9\\x86 \\xf0\\x9f\\x91\\x8f\\xf0\\x9f\\x91\\x8f\\xf0\\x9f\\x91\\x8f #\\xd8\\xad\\xd8\\xb3\\xd8\\xa7\\xd8\\xa8_\\xd9\\x85\\xd9\\x85\\xd9\\x8a\\xd8\\xb2_\\xd9\\x88\\xd8\\xb0\\xd9\\x88\\xd9\\x82 \\xf0\\x9f\\x91\\x8d \\xf0\\x9f\\x91\\x87\\xf0\\x9f\\x91\\x87\\xf0\\x9f\\x91\\x87'], ['\\xf0\\x9f\\x8c\\xb9\\xf0\\x9f\\x8c\\xb9\\xf0\\x9f\\x8c\\xb9', '\\xf0\\x9f\\x91\\x8f\\xf0\\x9f\\x91\\x8f\\xf0\\x9f\\x91\\x8f', '\\xf0\\x9f\\x8e\\x89\\xf0\\x9f\\x8e\\x8a', '\\xf0\\x9f\\x91\\x8d\\xf0\\x9f\\x91\\x87\\xf0\\x9f\\x91\\x87\\xf0\\x9f\\x91\\x87'], [1, 1, 1, 0], [3, 3, 2, 4], 4)\n",
      "(91, datetime.datetime(2016, 4, 18, 3, 21, 49, 962632), datetime.datetime(2016, 4, 18, 3, 21, 14), 'RT @antonio_lasanta: This week is gonna be interesting \\xf0\\x9f\\x99\\x82\\xf0\\x9f\\x99\\x82\\xf0\\x9f\\x99\\x82', 0, 0, 'en', {}, {}, 'Arizona', 'Lauren Bass', 'LaurenLove2016', ['\\xf0\\x9f\\x99\\x82'], [3], 3, 1, ['interesting'], [''], ['@antonio_lasanta: This week is gonna be interesting'], ['\\xf0\\x9f\\x99\\x82 \\xf0\\x9f\\x99\\x82'], '\\xf0\\x9f\\x99\\x82', 3, 0, [], [], 0, 0, ['\\xf0\\x9f\\x99\\x82\\xf0\\x9f\\x99\\x82\\xf0\\x9f\\x99\\x82'], [1], [3], 1, ['interesting'], [''], ['@antonio_lasanta: This week is gonna be interesting'], ['\\xf0\\x9f\\x99\\x82\\xf0\\x9f\\x99\\x82'], ['\\xf0\\x9f\\x99\\x82\\xf0\\x9f\\x99\\x82\\xf0\\x9f\\x99\\x82'], [1], [3], 1)\n",
      "(92, datetime.datetime(2016, 4, 18, 3, 21, 50, 235566), datetime.datetime(2016, 4, 18, 3, 21, 14), 'Play video \\xe2\\x96\\xb6 [ https://t.co/Nb61NOvVPt ] \\xf0\\x9f\\x92\\x97 https://t.co/2ln0LFfhIO', 0, 0, 'en', {}, {}, 'Santiago', 'Carrie', 'HornyGirI69', ['\\xf0\\x9f\\x92\\x97'], [1], 1, 1, [']'], ['https://t.co/2ln0LFfhIO'], ['Play video \\xe2\\x96\\xb6 [ https://t.co/Nb61NOvVPt ]'], ['https://t.co/2ln0LFfhIO'], 'play', 1, 0, [], [], 0, 0, [], [], [], 0, [], [], [], [], [], [], [], 0)\n",
      "(93, datetime.datetime(2016, 4, 18, 3, 21, 51, 79379), datetime.datetime(2016, 4, 18, 3, 21, 14), 'RT @fedipep_: \\xe0\\xb9\\x80\\xe0\\xb8\\xab\\xe0\\xb8\\xa1\\xe0\\xb8\\xb7\\xe0\\xb8\\xad\\xe0\\xb8\\x99\\xe0\\xb9\\x84\\xe0\\xb8\\x94\\xe0\\xb9\\x89\\xe0\\xb8\\xa2\\xe0\\xb8\\xb4\\xe0\\xb8\\x99\\xe0\\xb9\\x80\\xe0\\xb8\\xaa\\xe0\\xb8\\xb5\\xe0\\xb8\\xa2\\xe0\\xb8\\x87\\xe0\\xb9\\x80\\xe0\\xb8\\x9e\\xe0\\xb8\\xb7\\xe0\\xb9\\x88\\xe0\\xb8\\xad\\xe0\\xb8\\x99\\xe0\\xb8\\xad\\xe0\\xb9\\x88\\xe0\\xb8\\xb0 \"\\xe0\\xb8\\xab\\xe0\\xb8\\xb7\\xe0\\xb8\\xa1\\xe0\\xb8\\xa1 \\xe0\\xb9\\x80\\xe0\\xb8\\xaa\\xe0\\xb8\\xb5\\xe0\\xb8\\xa2\\xe0\\xb8\\x87\\xe0\\xb8\\x9b\\xe0\\xb8\\xb4\\xe0\\xb9\\x8a\\xe0\\xb8\\x87\\xe0\\xb8\\x9b\\xe0\\xb9\\x88\\xe0\\xb8\\xad\\xe0\\xb8\\x87\\xe0\\xb8\\xab\\xe0\\xb8\\x99\\xe0\\xb8\\xb4\\xe0\\xb9\\x88 \\xe0\\xb8\\xa1\\xe0\\xb8\\xb2\\xe0\\xb8\\x94\\xe0\\xb9\\x89\\xe0\\xb8\\xa7\\xe0\\xb8\\xa2\\xe0\\xb8\\xab\\xe0\\xb8\\xa3\\xe0\\xb8\\xad \\xe0\\xb8\\xad\\xe0\\xb8\\xa2\\xe0\\xb8\\xb9\\xe0\\xb9\\x88\\xe0\\xb9\\x84\\xe0\\xb8\\xab\\xe0\\xb8\\x99\\xe0\\xb8\\x99\\xe0\\xb8\\xb0\\xe0\\xb9\\x86 \\xe0\\xb9\\x82\\xe0\\xb8\\xad\\xe0\\xb9\\x8a\\xe0\\xb8\\xb0! \\xe0\\xb8\\x99\\xe0\\xb8\\xb1\\xe0\\xb9\\x88\\xe0\\xb8\\x99\\xe0\\xb9\\x84\\xe0\\xb8\\x87 \\xe0\\xb9\\x80\\xe0\\xb8\\xa5\\xe0\\xb8\\xb2\\xe0\\xb9\\x80\\xe0\\xb8\\xab\\xe0\\xb9\\x87\\xe0\\xb8\\x99\\xe0\\xb8\\x99\\xe0\\xb8\\xb2\\xe0\\xb8\\xa2\\xe0\\xb9\\x81\\xe0\\xb8\\xa5\\xe0\\xb9\\x89\\xe0\\xb8\\xa7\\xe0\\xb8\\xa7\\xe0\\xb8\\xa7 \\xf0\\x9f\\x98\\x82\\xf0\\x9f\\x98\\x82 #\\xe0\\xb8\\x84\\xe0\\xb8\\xa2\\xe0\\xb8\\xad\\xe0\\xb8\\xa1\\xe0\\xb8\\xa5\\xe0\\xb8\\xb9\\xe0\\xb8\\x81\\xe0\\xb9\\x80\\xe0\\xb8\\x97\\xe0\\xb8\\x9e https://\\xe2\\x80\\xa6', 0, 0, 'th', {}, {}, '', '\\xe0\\xb8\\xa3\\xe0\\xb8\\xb1\\xe0\\xb8\\x81\\xe0\\xb8\\x89\\xe0\\xb8\\xb1\\xe0\\xb8\\x99\\xe0\\xb9\\x80\\xe0\\xb8\\xa3\\xe0\\xb8\\xb5\\xe0\\xb8\\xa2\\xe0\\xb8\\x81\\xe0\\xb8\\xa7\\xe0\\xb9\\x88\\xe0\\xb8\\xb2\\xe0\\xb8\\x81\\xe0\\xb8\\xb1\\xe0\\xb8\\x8b\\xe2\\x99\\xa1', 'PHANPY7', ['\\xf0\\x9f\\x98\\x82'], [2], 2, 1, ['\\xe0\\xb9\\x80\\xe0\\xb8\\xa5\\xe0\\xb8\\xb2\\xe0\\xb9\\x80\\xe0\\xb8\\xab\\xe0\\xb9\\x87\\xe0\\xb8\\x99\\xe0\\xb8\\x99\\xe0\\xb8\\xb2\\xe0\\xb8\\xa2\\xe0\\xb9\\x81\\xe0\\xb8\\xa5\\xe0\\xb9\\x89\\xe0\\xb8\\xa7\\xe0\\xb8\\xa7\\xe0\\xb8\\xa7'], ['#\\xe0\\xb8\\x84\\xe0\\xb8\\xa2\\xe0\\xb8\\xad\\xe0\\xb8\\xa1\\xe0\\xb8\\xa5\\xe0\\xb8\\xb9\\xe0\\xb8\\x81\\xe0\\xb9\\x80\\xe0\\xb8\\x97\\xe0\\xb8\\x9e'], ['\"\\xe0\\xb8\\xab\\xe0\\xb8\\xb7\\xe0\\xb8\\xa1\\xe0\\xb8\\xa1 \\xe0\\xb9\\x80\\xe0\\xb8\\xaa\\xe0\\xb8\\xb5\\xe0\\xb8\\xa2\\xe0\\xb8\\x87\\xe0\\xb8\\x9b\\xe0\\xb8\\xb4\\xe0\\xb9\\x8a\\xe0\\xb8\\x87\\xe0\\xb8\\x9b\\xe0\\xb9\\x88\\xe0\\xb8\\xad\\xe0\\xb8\\x87\\xe0\\xb8\\xab\\xe0\\xb8\\x99\\xe0\\xb8\\xb4\\xe0\\xb9\\x88 \\xe0\\xb8\\xa1\\xe0\\xb8\\xb2\\xe0\\xb8\\x94\\xe0\\xb9\\x89\\xe0\\xb8\\xa7\\xe0\\xb8\\xa2\\xe0\\xb8\\xab\\xe0\\xb8\\xa3\\xe0\\xb8\\xad \\xe0\\xb8\\xad\\xe0\\xb8\\xa2\\xe0\\xb8\\xb9\\xe0\\xb9\\x88\\xe0\\xb9\\x84\\xe0\\xb8\\xab\\xe0\\xb8\\x99\\xe0\\xb8\\x99\\xe0\\xb8\\xb0\\xe0\\xb9\\x86 \\xe0\\xb9\\x82\\xe0\\xb8\\xad\\xe0\\xb9\\x8a\\xe0\\xb8\\xb0! \\xe0\\xb8\\x99\\xe0\\xb8\\xb1\\xe0\\xb9\\x88\\xe0\\xb8\\x99\\xe0\\xb9\\x84\\xe0\\xb8\\x87 \\xe0\\xb9\\x80\\xe0\\xb8\\xa5\\xe0\\xb8\\xb2\\xe0\\xb9\\x80\\xe0\\xb8\\xab\\xe0\\xb9\\x87\\xe0\\xb8\\x99\\xe0\\xb8\\x99\\xe0\\xb8\\xb2\\xe0\\xb8\\xa2\\xe0\\xb9\\x81\\xe0\\xb8\\xa5\\xe0\\xb9\\x89\\xe0\\xb8\\xa7\\xe0\\xb8\\xa7\\xe0\\xb8\\xa7'], ['\\xf0\\x9f\\x98\\x82 #\\xe0\\xb8\\x84\\xe0\\xb8\\xa2\\xe0\\xb8\\xad\\xe0\\xb8\\xa1\\xe0\\xb8\\xa5\\xe0\\xb8\\xb9\\xe0\\xb8\\x81\\xe0\\xb9\\x80\\xe0\\xb8\\x97\\xe0\\xb8\\x9e https://\\xe2\\x80\\xa6'], '\\xf0\\x9f\\x98\\x82', 2, 0, [], [], 0, 0, ['\\xf0\\x9f\\x98\\x82\\xf0\\x9f\\x98\\x82'], [1], [2], 1, ['\\xe0\\xb9\\x80\\xe0\\xb8\\xa5\\xe0\\xb8\\xb2\\xe0\\xb9\\x80\\xe0\\xb8\\xab\\xe0\\xb9\\x87\\xe0\\xb8\\x99\\xe0\\xb8\\x99\\xe0\\xb8\\xb2\\xe0\\xb8\\xa2\\xe0\\xb9\\x81\\xe0\\xb8\\xa5\\xe0\\xb9\\x89\\xe0\\xb8\\xa7\\xe0\\xb8\\xa7\\xe0\\xb8\\xa7'], ['#\\xe0\\xb8\\x84\\xe0\\xb8\\xa2\\xe0\\xb8\\xad\\xe0\\xb8\\xa1\\xe0\\xb8\\xa5\\xe0\\xb8\\xb9\\xe0\\xb8\\x81\\xe0\\xb9\\x80\\xe0\\xb8\\x97\\xe0\\xb8\\x9e'], ['\"\\xe0\\xb8\\xab\\xe0\\xb8\\xb7\\xe0\\xb8\\xa1\\xe0\\xb8\\xa1 \\xe0\\xb9\\x80\\xe0\\xb8\\xaa\\xe0\\xb8\\xb5\\xe0\\xb8\\xa2\\xe0\\xb8\\x87\\xe0\\xb8\\x9b\\xe0\\xb8\\xb4\\xe0\\xb9\\x8a\\xe0\\xb8\\x87\\xe0\\xb8\\x9b\\xe0\\xb9\\x88\\xe0\\xb8\\xad\\xe0\\xb8\\x87\\xe0\\xb8\\xab\\xe0\\xb8\\x99\\xe0\\xb8\\xb4\\xe0\\xb9\\x88 \\xe0\\xb8\\xa1\\xe0\\xb8\\xb2\\xe0\\xb8\\x94\\xe0\\xb9\\x89\\xe0\\xb8\\xa7\\xe0\\xb8\\xa2\\xe0\\xb8\\xab\\xe0\\xb8\\xa3\\xe0\\xb8\\xad \\xe0\\xb8\\xad\\xe0\\xb8\\xa2\\xe0\\xb8\\xb9\\xe0\\xb9\\x88\\xe0\\xb9\\x84\\xe0\\xb8\\xab\\xe0\\xb8\\x99\\xe0\\xb8\\x99\\xe0\\xb8\\xb0\\xe0\\xb9\\x86 \\xe0\\xb9\\x82\\xe0\\xb8\\xad\\xe0\\xb9\\x8a\\xe0\\xb8\\xb0! \\xe0\\xb8\\x99\\xe0\\xb8\\xb1\\xe0\\xb9\\x88\\xe0\\xb8\\x99\\xe0\\xb9\\x84\\xe0\\xb8\\x87 \\xe0\\xb9\\x80\\xe0\\xb8\\xa5\\xe0\\xb8\\xb2\\xe0\\xb9\\x80\\xe0\\xb8\\xab\\xe0\\xb9\\x87\\xe0\\xb8\\x99\\xe0\\xb8\\x99\\xe0\\xb8\\xb2\\xe0\\xb8\\xa2\\xe0\\xb9\\x81\\xe0\\xb8\\xa5\\xe0\\xb9\\x89\\xe0\\xb8\\xa7\\xe0\\xb8\\xa7\\xe0\\xb8\\xa7'], ['\\xf0\\x9f\\x98\\x82 #\\xe0\\xb8\\x84\\xe0\\xb8\\xa2\\xe0\\xb8\\xad\\xe0\\xb8\\xa1\\xe0\\xb8\\xa5\\xe0\\xb8\\xb9\\xe0\\xb8\\x81\\xe0\\xb9\\x80\\xe0\\xb8\\x97\\xe0\\xb8\\x9e https://\\xe2\\x80\\xa6'], ['\\xf0\\x9f\\x98\\x82\\xf0\\x9f\\x98\\x82'], [1], [2], 1)\n",
      "(94, datetime.datetime(2016, 4, 18, 3, 21, 53, 384411), datetime.datetime(2016, 4, 18, 3, 21, 15), \"RT @ItsFoodPics: Ice cream cone or sandwich. I can't choose \\xf0\\x9f\\x98\\xa5 https://t.co/EWG3QKwu8Z\", 0, 0, 'en', {}, {}, '', 'jordan smith', '86437777Smith', ['\\xf0\\x9f\\x98\\xa5'], [1], 1, 1, ['choose'], ['https://t.co/EWG3QKwu8Z'], [\"cream cone or sandwich. I can't choose\"], ['https://t.co/EWG3QKwu8Z'], 'rt', 1, 0, [], [], 0, 0, [], [], [], 0, [], [], [], [], [], [], [], 0)\n",
      "(95, datetime.datetime(2016, 4, 18, 3, 21, 53, 624010), datetime.datetime(2016, 4, 18, 3, 21, 15), '\\xf0\\x9f\\x92\\xad\\xf0\\x9f\\x92\\x9f\\xf0\\x9f\\x98\\x8d https://t.co/joy6Ktiaah', 0, 0, 'und', {}, {}, 'Santiago', 'Kriss de Rivarola \\xe2\\x9d\\xa4\\xef\\xb8\\x8f', 'kriss_LdeA', ['\\xf0\\x9f\\x92\\xad', '\\xf0\\x9f\\x92\\x9f', '\\xf0\\x9f\\x98\\x8d'], [1, 1, 1], 3, 3, ['', '\\xf0\\x9f\\x92\\xad', '\\xf0\\x9f\\x92\\x9f'], ['\\xf0\\x9f\\x92\\x9f', '\\xf0\\x9f\\x98\\x8d', 'https://t.co/joy6Ktiaah'], ['', '\\xf0\\x9f\\x92\\xad', '\\xf0\\x9f\\x92\\xad \\xf0\\x9f\\x92\\x9f'], ['\\xf0\\x9f\\x92\\x9f \\xf0\\x9f\\x98\\x8d https://t.co/joy6Ktiaah', '\\xf0\\x9f\\x98\\x8d https://t.co/joy6Ktiaah', 'https://t.co/joy6Ktiaah'], '\\xf0\\x9f\\x92\\xad', 1, 0, [], [], 0, 0, ['\\xf0\\x9f\\x92\\xad\\xf0\\x9f\\x92\\x9f\\xf0\\x9f\\x98\\x8d'], [1], [3], 1, [''], ['https://t.co/joy6Ktiaah'], [''], ['\\xf0\\x9f\\x92\\x9f\\xf0\\x9f\\x98\\x8d https://t.co/joy6Ktiaah'], ['\\xf0\\x9f\\x92\\xad\\xf0\\x9f\\x92\\x9f\\xf0\\x9f\\x98\\x8d'], [1], [3], 1)\n",
      "(96, datetime.datetime(2016, 4, 18, 3, 21, 53, 738860), datetime.datetime(2016, 4, 18, 3, 21, 15), 'RT @lonewolf_arroo: \"You look just like ziare \\xe2\\x9d\\x97\\xef\\xb8\\x8f\" {see full version on YouTube https://t.co/H2JSTOt1qs \\xf0\\x9f\\x91\\x88\\xf0\\x9f\\x91\\x88like... https://t.co/a3RyK1eFWl', 0, 0, 'en', {}, {}, '', 'Mike', 'spockglocks', ['\\xf0\\x9f\\x91\\x88', '\\xe2\\x9d\\x97\\xef\\xb8\\x8f'], [2, 1], 3, 2, ['https://t.co/H2JSTOt1qs', 'ziare'], ['like...', '\"'], ['\" {see full version on YouTube https://t.co/H2JSTOt1qs', 'RT @lonewolf_arroo: \"You look just like ziare'], ['\\xf0\\x9f\\x91\\x88 like... https://t.co/a3RyK1eFWl', '\" {see full version on YouTube https://t.co/H2JSTOt1qs'], '\\xf0\\x9f\\x91\\x88', 2, 0, [], [], 0, 0, ['\\xf0\\x9f\\x91\\x88\\xf0\\x9f\\x91\\x88'], [1], [2], 1, ['https://t.co/H2JSTOt1qs'], ['like...'], ['\\xe2\\x9d\\x97\\xef\\xb8\\x8f\" {see full version on YouTube https://t.co/H2JSTOt1qs'], ['\\xf0\\x9f\\x91\\x88like... https://t.co/a3RyK1eFWl'], ['\\xf0\\x9f\\x91\\x88\\xf0\\x9f\\x91\\x88'], [1], [2], 1)\n",
      "(97, datetime.datetime(2016, 4, 18, 3, 21, 57, 33648), datetime.datetime(2016, 4, 18, 3, 21, 16), 'A quarta \\xc3\\xa9 a Amanda e a Renata \\xe2\\x9d\\xa4\\xef\\xb8\\x8f', 0, 0, 'pt', {}, {}, '', 'Lovin #Inovados2017', 'dh_sabino', ['\\xe2\\x9d\\xa4\\xef\\xb8\\x8f'], [1], 1, 1, ['Renata'], [''], ['quarta \\xc3\\xa9 a Amanda e a Renata'], [''], 'a', 3, 0, [], [], 0, 0, [], [], [], 0, [], [], [], [], [], [], [], 0)\n",
      "(98, datetime.datetime(2016, 4, 18, 3, 21, 57, 632645), datetime.datetime(2016, 4, 18, 3, 21, 16), 'RT @OnlyBiirdsTweet: One thing I love is making love to the pussy \\xf0\\x9f\\x98\\x8b\\xf0\\x9f\\x98\\x8b', 0, 0, 'en', {}, {}, 'Eastern Time (US & Canada)', 'Booty Bandit', 'JoogsAndDrugs', ['\\xf0\\x9f\\x98\\x8b'], [2], 2, 1, ['pussy'], [''], ['love is making love to the pussy'], ['\\xf0\\x9f\\x98\\x8b'], 'love', 2, 0, [], [], 0, 0, ['\\xf0\\x9f\\x98\\x8b\\xf0\\x9f\\x98\\x8b'], [1], [2], 1, ['pussy'], [''], ['love is making love to the pussy'], ['\\xf0\\x9f\\x98\\x8b'], ['\\xf0\\x9f\\x98\\x8b\\xf0\\x9f\\x98\\x8b'], [1], [2], 1)\n",
      "(99, datetime.datetime(2016, 4, 18, 3, 21, 58, 182885), datetime.datetime(2016, 4, 18, 3, 21, 16), 'RT @MinitaTweetera: Re lindo ir a dormir con el y empezar la semana juntos. Re que no me pasa! \\xf0\\x9f\\x98\\xad', 0, 0, 'es', {}, {}, 'Brasilia', 'Rocio\\xe2\\x9c\\xa8', '_rociomedina_', ['\\xf0\\x9f\\x98\\xad'], [1], 1, 1, ['pasa!'], [''], ['semana juntos. Re que no me pasa!'], [''], 're', 2, 0, [], [], 0, 0, [], [], [], 0, [], [], [], [], [], [], [], 0)\n",
      "(100, datetime.datetime(2016, 4, 18, 3, 21, 58, 291944), datetime.datetime(2016, 4, 18, 3, 21, 15), 'RT @IvanaGiselaJB: Que feo es tener que alejarse de la persona que m\\xc3\\xa1s queres \\xf0\\x9f\\x98\\x9e', 0, 0, 'es', {}, {}, '', 'Aldana \\xe2\\x9c\\x8c', 'AldanaMicaela22', ['\\xf0\\x9f\\x98\\x9e'], [1], 1, 1, ['queres'], [''], ['alejarse de la persona que m\\xc3\\xa1s queres'], [''], 'que', 3, 0, [], [], 0, 0, [], [], [], 0, [], [], [], [], [], [], [], 0)\n",
      "(101, datetime.datetime(2016, 4, 18, 3, 21, 58, 512366), datetime.datetime(2016, 4, 18, 3, 21, 16), '\\xe2\\x9c\\xa8\\xe2\\x9d\\xa4\\xd8\\xa7\\xd8\\xaa\\xd8\\xa8\\xd8\\xb9 \\xd8\\xa7\\xd9\\x84\\xd8\\xae\\xd8\\xb7\\xd9\\x88\\xd8\\xa7\\xd8\\xaa  1  \\xd8\\xa7\\xd8\\xb6\\xd8\\xba\\xd8\\xb7 \\xd8\\xb9\\xd9\\x84\\xd9\\x8a \\xd8\\xa7\\xd9\\x84\\xd8\\xb1\\xd8\\xa7\\xd8\\xa8\\xd8\\xb7  2 \\xd8\\xa7\\xd8\\xb6\\xd8\\xba\\xd8\\xb7 \\xd8\\xb9\\xd9\\x84\\xd9\\x8a \\xd8\\xa7\\xd9\\x84\\xd8\\xa7\\xd8\\xb9\\xd9\\x84\\xd8\\xa7\\xd9\\x86 3 \\xd8\\xa7\\xd9\\x86\\xd8\\xaa\\xd8\\xb8\\xd8\\xb1 \\xd9\\x82\\xd9\\x84\\xd9\\x8a\\xd9\\x84\\xd8\\xa7 \\xd9\\x88\\xd8\\xb4\\xd8\\xa7\\xd9\\x87\\xd8\\xaf \\xd9\\x88\\xd8\\xad\\xd9\\x85\\xd9\\x84  https://t.co/7kXtqA7jzI   \\xe2\\x9d\\xa4 https://t.co/Oge1EgTgsB JUV', 0, 0, 'ar', {}, {}, '', '\\xd8\\xb3\\xd9\\x86\\xd8\\xa7\\xd8\\xa1 xxx', 'tn0zmi4m', ['\\xe2\\x9c\\xa8'], [1], 1, 1, [''], ['\\xe2\\x9d\\xa4\\xd8\\xa7\\xd8\\xaa\\xd8\\xa8\\xd8\\xb9'], [''], ['\\xe2\\x9d\\xa4\\xd8\\xa7\\xd8\\xaa\\xd8\\xa8\\xd8\\xb9 \\xd8\\xa7\\xd9\\x84\\xd8\\xae\\xd8\\xb7\\xd9\\x88\\xd8\\xa7\\xd8\\xaa 1 \\xd8\\xa7\\xd8\\xb6\\xd8\\xba\\xd8\\xb7 \\xd8\\xb9\\xd9\\x84\\xd9\\x8a \\xd8\\xa7\\xd9\\x84\\xd8\\xb1\\xd8\\xa7\\xd8\\xa8\\xd8\\xb7 2'], '\\xd8\\xb9\\xd9\\x84\\xd9\\x8a', 2, 0, [], [], 0, 0, [], [], [], 0, [], [], [], [], [], [], [], 0)\n",
      "(103, datetime.datetime(2016, 4, 18, 3, 21, 59, 417733), datetime.datetime(2016, 4, 18, 3, 21, 15), '@AlexCyriac @ZachDonpaul @_seanmarco rt Cyriac \\xf0\\x9f\\xa4\\x94', 0, 0, 'en', {}, {}, 'Eastern Time (US & Canada)', 'AD', 'BlessedJello', ['\\xf0\\x9f\\xa4\\x94'], [1], 1, 1, ['Cyriac'], [''], ['@AlexCyriac @ZachDonpaul @_seanmarco rt Cyriac'], [''], 'rt', 1, 0, [], [], 0, 0, [], [], [], 0, [], [], [], [], [], [], [], 0)\n",
      "(105, datetime.datetime(2016, 4, 18, 3, 22, 0, 724225), datetime.datetime(2016, 4, 18, 3, 21, 16), 'RT @barba_sarahi: Babies and puppies r the key to my heart \\xf0\\x9f\\x94\\x91\\xf0\\x9f\\x98\\xa2\\xe2\\x9d\\xa4\\xef\\xb8\\x8f', 0, 0, 'en', {}, {}, '', 'Kristine Jurado', 'Kilikina_j', ['\\xf0\\x9f\\x94\\x91', '\\xe2\\x9d\\xa4\\xef\\xb8\\x8f', '\\xf0\\x9f\\x98\\xa2'], [1, 1, 1], 3, 3, ['heart', '\\xf0\\x9f\\x98\\xa2', '\\xf0\\x9f\\x94\\x91'], ['\\xf0\\x9f\\x98\\xa2', '', '\\xe2\\x9d\\xa4\\xef\\xb8\\x8f'], ['puppies r the key to my heart', 'the key to my heart \\xf0\\x9f\\x94\\x91 \\xf0\\x9f\\x98\\xa2', 'r the key to my heart \\xf0\\x9f\\x94\\x91'], ['\\xf0\\x9f\\x98\\xa2 \\xe2\\x9d\\xa4\\xef\\xb8\\x8f', '', '\\xe2\\x9d\\xa4\\xef\\xb8\\x8f'], 'rt', 1, 0, [], [], 0, 0, ['\\xf0\\x9f\\x94\\x91\\xf0\\x9f\\x98\\xa2\\xe2\\x9d\\xa4\\xef\\xb8\\x8f'], [1], [3], 1, ['heart'], [''], ['puppies r the key to my heart'], ['\\xf0\\x9f\\x98\\xa2\\xe2\\x9d\\xa4\\xef\\xb8\\x8f'], ['\\xf0\\x9f\\x94\\x91\\xf0\\x9f\\x98\\xa2\\xe2\\x9d\\xa4\\xef\\xb8\\x8f'], [1], [3], 1)\n",
      "(106, datetime.datetime(2016, 4, 18, 3, 22, 0, 949678), datetime.datetime(2016, 4, 18, 3, 21, 17), 'running nose\\xf0\\x9f\\x98\\xad', 0, 0, 'en', {}, {}, 'Singapore', 'az1d', 'sh4fiq_', ['\\xf0\\x9f\\x98\\xad'], [1], 1, 1, ['nose'], [''], ['running nose'], [''], 'nose\\xf0\\x9f\\x98\\xad', 1, 0, [], [], 0, 0, [], [], [], 0, [], [], [], [], [], [], [], 0)\n",
      "(107, datetime.datetime(2016, 4, 18, 3, 22, 1, 172506), datetime.datetime(2016, 4, 18, 3, 21, 16), 'thanx \\xf0\\x9f\\x98\\x8c\\xf0\\x9f\\xa4\\x98\\xf0\\x9f\\x8f\\xbd\\xf0\\x9f\\x92\\x95 https://t.co/KttIUHNHKf', 0, 0, 'en', {}, {}, '', 'daddy long legs xx', 'EllaSchu', ['\\xf0\\x9f\\x92\\x95', '\\xf0\\x9f\\xa4\\x98\\xf0\\x9f\\x8f\\xbd', '\\xf0\\x9f\\xa4\\x98', '\\xf0\\x9f\\x98\\x8c'], [1, 1, 1, 1], 4, 4, ['\\xf0\\x9f\\xa4\\x98\\xf0\\x9f\\x8f\\xbd', '\\xf0\\x9f\\x98\\x8c', '\\xf0\\x9f\\x98\\x8c', 'thanx'], ['https://t.co/KttIUHNHKf', '\\xf0\\x9f\\x92\\x95', '\\xf0\\x9f\\x8f\\xbd', '\\xf0\\x9f\\xa4\\x98\\xf0\\x9f\\x8f\\xbd'], ['thanx \\xf0\\x9f\\x98\\x8c \\xf0\\x9f\\xa4\\x98\\xf0\\x9f\\x8f\\xbd', 'thanx \\xf0\\x9f\\x98\\x8c', 'thanx \\xf0\\x9f\\x98\\x8c', 'thanx'], ['https://t.co/KttIUHNHKf', '\\xf0\\x9f\\x8f\\xbd \\xf0\\x9f\\x92\\x95 https://t.co/KttIUHNHKf', '\\xf0\\x9f\\x8f\\xbd \\xf0\\x9f\\x92\\x95 https://t.co/KttIUHNHKf', '\\xf0\\x9f\\xa4\\x98\\xf0\\x9f\\x8f\\xbd \\xf0\\x9f\\x92\\x95 https://t.co/KttIUHNHKf'], '\\xf0\\x9f\\x92\\x95', 1, 0, ['\\xf0\\x9f\\x8f\\xbd'], [1], 1, 1, ['\\xf0\\x9f\\x98\\x8c\\xf0\\x9f\\xa4\\x98\\xf0\\x9f\\x8f\\xbd\\xf0\\x9f\\x92\\x95'], [1], [4], 1, ['thanx'], ['https://t.co/KttIUHNHKf'], ['thanx'], ['\\xf0\\x9f\\xa4\\x98\\xf0\\x9f\\x8f\\xbd\\xf0\\x9f\\x92\\x95 https://t.co/KttIUHNHKf'], ['\\xf0\\x9f\\x98\\x8c\\xf0\\x9f\\xa4\\x98\\xf0\\x9f\\x8f\\xbd\\xf0\\x9f\\x92\\x95'], [1], [4], 1)\n",
      "(108, datetime.datetime(2016, 4, 18, 3, 22, 1, 592586), datetime.datetime(2016, 4, 18, 3, 21, 15), '\\xd9\\x85\\xd9\\x80\\xd8\\xa7 \\xd8\\xa3\\xd8\\xac\\xd9\\x85\\xd9\\x80\\xd9\\x84 \\xd8\\xa3\\xd9\\x86 \\xd8\\xaa\\xd9\\x82\\xd9\\x88\\xd9\\x84 \\xd9\\x81\\xd9\\x8a \\xd9\\x87\\xd8\\xb0\\xd8\\xa7 \\xd8\\xa7\\xd9\\x84\\xd8\\xb5\\xd8\\xa8\\xd8\\xa7\\xd8\\xad:\\n \\n \\xd9\\x8a\\xd8\\xa7 \\xd8\\xae\\xd8\\xa7\\xd9\\x84\\xd9\\x82 \\xd8\\xa7\\xd9\\x84\\xd8\\xb1\\xd8\\xa7\\xd8\\xad\\xd8\\xa9\\n \\xd9\\x88\\xd9\\x83\\xd9\\x84\\xd8\\xaa\\xd9\\x83 \\xd8\\xa3\\xd9\\x85\\xd8\\xb1\\xd9\\x8a \\xd9\\x88\\xd8\\xa7\\xd8\\xb3\\xd8\\xaa\\xd9\\x88\\xd8\\xaf\\xd8\\xb9\\xd8\\xaa\\xd9\\x83 \\xd9\\x87\\xd9\\x85\\xd9\\x91\\xd9\\x8a \\n \\xd9\\x81\\xd8\\xa8\\xd8\\xb4\\xd8\\xb1\\xd9\\x86\\xd9\\x8a \\xd8\\xa8\\xd9\\x85\\xd8\\xa7\\xd9\\x8a\\xd9\\x81\\xd8\\xaa\\xd8\\xad \\xd9\\x85\\xd8\\xaf\\xd8\\xa7\\xd8\\xae\\xd9\\x84 \\xd8\\xa7\\xd9\\x84\\xd8\\xb3\\xd8\\xb9\\xd8\\xa7\\xd8\\xaf\\xd8\\xa9 \\xd9\\x81\\xd9\\x8a \\xd9\\x82\\xd9\\x84\\xd8\\xa8\\xd9\\x8a\\n\\n\\xe2\\x81\\xa7\\xd8\\xb5\\xd8\\xa8\\xd8\\xa7\\xd8\\xad \\xd8\\xa7\\xd9\\x84\\xd8\\xae\\xd9\\x8a\\xd8\\xb1\\xe2\\x81\\xa9 \\xf0\\x9f\\x8c\\xb9', 0, 0, 'ar', {}, {}, '', '\\xd8\\xb1\\xd8\\xac\\xd8\\xa7\\xd8\\xa1  \\xd8\\xa7\\xd9\\x84\\xd9\\x85\\xd8\\xa7\\xd8\\xb6\\xd9\\x8a', 'rajaa_ss', ['\\xf0\\x9f\\x8c\\xb9'], [1], 1, 1, ['\\xd8\\xa7\\xd9\\x84\\xd8\\xae\\xd9\\x8a\\xd8\\xb1\\xe2\\x81\\xa9'], [''], ['\\xd8\\xa8\\xd9\\x85\\xd8\\xa7\\xd9\\x8a\\xd9\\x81\\xd8\\xaa\\xd8\\xad \\xd9\\x85\\xd8\\xaf\\xd8\\xa7\\xd8\\xae\\xd9\\x84 \\xd8\\xa7\\xd9\\x84\\xd8\\xb3\\xd8\\xb9\\xd8\\xa7\\xd8\\xaf\\xd8\\xa9 \\xd9\\x81\\xd9\\x8a \\xd9\\x82\\xd9\\x84\\xd8\\xa8\\xd9\\x8a \\xe2\\x81\\xa7\\xd8\\xb5\\xd8\\xa8\\xd8\\xa7\\xd8\\xad \\xd8\\xa7\\xd9\\x84\\xd8\\xae\\xd9\\x8a\\xd8\\xb1\\xe2\\x81\\xa9'], [''], '\\xd9\\x81\\xd9\\x8a', 2, 0, [], [], 0, 0, [], [], [], 0, [], [], [], [], [], [], [], 0)\n",
      "(109, datetime.datetime(2016, 4, 18, 3, 22, 1, 721086), datetime.datetime(2016, 4, 18, 3, 21, 17), 'RT @SabinaLaia: Uy uy uy \\xc3\\x93scar y Paula!! Por finnnn weon...JODETE mona culia \\xf0\\x9f\\x96\\x95\\xf0\\x9f\\x8f\\xbc\\n#ElFantasmaDeOriana\\n#Volver\\xc3\\xadasConTuEx https://t.co/RGgyjPbW\\xe2\\x80\\xa6', 0, 0, 'es', {}, {}, 'Quito', ':Z', 'CourageKaiser', ['\\xf0\\x9f\\x96\\x95\\xf0\\x9f\\x8f\\xbc', '\\xf0\\x9f\\x96\\x95'], [1, 1], 2, 2, ['culia', 'culia'], ['#ElFantasmaDeOriana', '\\xf0\\x9f\\x8f\\xbc'], ['y Paula!! Por finnnn weon...JODETE mona culia', 'y Paula!! Por finnnn weon...JODETE mona culia'], ['\\xf0\\x9f\\x8f\\xbc #ElFantasmaDeOriana #Volver\\xc3\\xadasConTuEx https://t.co/RGgyjPbW\\xe2\\x80\\xa6', '\\xf0\\x9f\\x8f\\xbc #ElFantasmaDeOriana #Volver\\xc3\\xadasConTuEx https://t.co/RGgyjPbW\\xe2\\x80\\xa6'], 'uy', 3, 0, ['\\xf0\\x9f\\x8f\\xbc'], [1], 1, 1, [], [], [], 0, [], [], [], [], [], [], [], 0)\n",
      "(110, datetime.datetime(2016, 4, 18, 3, 22, 1, 836474), datetime.datetime(2016, 4, 18, 3, 21, 16), 'RT @Drrake: Low key \\xf0\\x9f\\x92\\xaf https://t.co/GWFeQ6d83C', 0, 0, 'en', {}, {}, 'Central Time (US & Canada)', '8\\xef\\xb8\\x8f\\xe2\\x83\\xa3 God', 'J_NextUp', ['\\xf0\\x9f\\x92\\xaf'], [1], 1, 1, ['key'], ['https://t.co/GWFeQ6d83C'], ['RT @Drrake: Low key'], ['https://t.co/GWFeQ6d83C'], 'rt', 1, 0, [], [], 0, 0, [], [], [], 0, [], [], [], [], [], [], [], 0)\n",
      "(111, datetime.datetime(2016, 4, 18, 3, 22, 2, 471256), datetime.datetime(2016, 4, 18, 3, 21, 18), '@_msr1 LITERAL MANO \\xf0\\x9f\\x98\\xad\\xf0\\x9f\\x98\\xad\\xf0\\x9f\\x98\\xadpero gracias a Dios no durmieron osea elianice na ma', 0, 0, 'es', {}, {}, '', 'N\\xc3\\xafn\\xc3\\xb8', 'Ninoomaary', ['\\xf0\\x9f\\x98\\xad'], [3], 3, 1, ['MANO'], ['pero'], ['@_msr1 LITERAL MANO'], ['\\xf0\\x9f\\x98\\xad \\xf0\\x9f\\x98\\xad pero gracias a Dios no'], '\\xf0\\x9f\\x98\\xad', 3, 0, [], [], 0, 0, ['\\xf0\\x9f\\x98\\xad\\xf0\\x9f\\x98\\xad\\xf0\\x9f\\x98\\xad'], [1], [3], 1, ['MANO'], ['pero'], ['@_msr1 LITERAL MANO'], ['\\xf0\\x9f\\x98\\xad\\xf0\\x9f\\x98\\xadpero gracias a Dios no durmieron osea'], ['\\xf0\\x9f\\x98\\xad\\xf0\\x9f\\x98\\xad\\xf0\\x9f\\x98\\xad'], [1], [3], 1)\n",
      "(112, datetime.datetime(2016, 4, 18, 3, 22, 2, 914038), datetime.datetime(2016, 4, 18, 3, 21, 16), 'OMG\\xf0\\x9f\\x98\\x8d https://t.co/HvD8hEOh7K', 0, 0, 'und', {}, {}, 'Eastern Time (US & Canada)', 'D I P S E T\\xe2\\x98\\xa6XVNGVNG', 'SMOOKY_SIC', ['\\xf0\\x9f\\x98\\x8d'], [1], 1, 1, ['OMG'], ['https://t.co/HvD8hEOh7K'], ['OMG'], ['https://t.co/HvD8hEOh7K'], 'omg\\xf0\\x9f\\x98\\x8d', 1, 0, [], [], 0, 0, [], [], [], 0, [], [], [], [], [], [], [], 0)\n",
      "(113, datetime.datetime(2016, 4, 18, 3, 23, 34, 351433), datetime.datetime(2016, 4, 18, 3, 23, 34, 351475), 'OMG\\xf0\\x9f\\x98\\x8d https://t.co/HvD8hEOh7K Prom dress \\xf0\\x9f\\x91\\x97 \\xe2\\x9c\\x94\\xef\\xb8\\x8f', 1, 2, 'eng', {}, {}, 'NewYork', 'Attila', 'AttilaDaHun', ['\\xe2\\x9c\\x94\\xef\\xb8\\x8f', '\\xf0\\x9f\\x91\\x97', '\\xf0\\x9f\\x98\\x8d'], [1, 1, 1], 3, 3, ['\\xf0\\x9f\\x91\\x97', 'dress', 'OMG'], ['', '\\xe2\\x9c\\x94\\xef\\xb8\\x8f', 'https://t.co/HvD8hEOh7K'], ['OMG\\xf0\\x9f\\x98\\x8d https://t.co/HvD8hEOh7K Prom dress \\xf0\\x9f\\x91\\x97', 'OMG\\xf0\\x9f\\x98\\x8d https://t.co/HvD8hEOh7K Prom dress', 'OMG'], ['', '\\xe2\\x9c\\x94\\xef\\xb8\\x8f', 'https://t.co/HvD8hEOh7K Prom dress \\xf0\\x9f\\x91\\x97 \\xe2\\x9c\\x94\\xef\\xb8\\x8f'], '\\xf0\\x9f\\x91\\x97', 1, 0, [], [], 0, 0, ['\\xf0\\x9f\\x91\\x97\\xe2\\x9c\\x94\\xef\\xb8\\x8f'], [1], [2], 1, ['dress'], [''], ['OMG\\xf0\\x9f\\x98\\x8d https://t.co/HvD8hEOh7K Prom dress'], ['\\xe2\\x9c\\x94\\xef\\xb8\\x8f'], ['\\xf0\\x9f\\x91\\x97\\xe2\\x9c\\x94\\xef\\xb8\\x8f'], [1], [2], 1)\n"
     ]
    }
   ],
   "source": [
    "cur.execute(\"SELECT * FROM emoji_tweet;\")\n",
    "for val in cur.fetchall():\n",
    "    print(val)"
   ]
  },
  {
   "cell_type": "code",
   "execution_count": 141,
   "metadata": {
    "collapsed": false
   },
   "outputs": [
    {
     "name": "stdout",
     "output_type": "stream",
     "text": [
      "1\n",
      "2016-04-18 00:57:22.948422\n",
      "2016-04-18 00:57:22.948464\n",
      "@alhamxdi كانت سوده ركزت لين جفت😂\n",
      "1\n",
      "2\n",
      "eng\n",
      "None\n",
      "None\n",
      "NewYork\n",
      "Attila\n",
      "AttilaDaHun\n",
      "['one', 'two']\n",
      "[1, 2]\n",
      "2\n",
      "2016-04-18 01:05:15.729238\n",
      "2016-04-18 01:05:15.729284\n",
      "@alhamxdi كانت سوده ركزت لين جفت😂\n",
      "1\n",
      "2\n",
      "eng\n",
      "None\n",
      "None\n",
      "NewYork\n",
      "Attila\n",
      "AttilaDaHun\n",
      "['\\xf0\\x9f\\x98\\x82']\n",
      "[1]\n",
      "3\n",
      "2016-04-18 02:09:19.744859\n",
      "2016-04-18 02:09:19.744905\n",
      "@alhamxdi كانت سوده ركزت لين جفت😂\n",
      "1\n",
      "2\n",
      "eng\n",
      "None\n",
      "None\n",
      "NewYork\n",
      "Attila\n",
      "AttilaDaHun\n",
      "['\\xf0\\x9f\\x98\\x82']\n",
      "[]\n"
     ]
    }
   ],
   "source": [
    "cur.execute(\"SELECT * FROM emoji_test;\")\n",
    "for vals in cur.fetchall():\n",
    "    for val in vals:\n",
    "        print(val)"
   ]
  },
  {
   "cell_type": "code",
   "execution_count": 138,
   "metadata": {
    "collapsed": false
   },
   "outputs": [
    {
     "data": {
      "text/plain": [
       "u'\\U0001f602'"
      ]
     },
     "execution_count": 138,
     "metadata": {},
     "output_type": "execute_result"
    }
   ],
   "source": [
    "_u = lambda t: t.decode('UTF-8', 'replace') if isinstance(t, str) else t\n",
    "_u('\\xf0\\x9f\\x98\\x82')"
   ]
  },
  {
   "cell_type": "code",
   "execution_count": 108,
   "metadata": {
    "collapsed": false
   },
   "outputs": [],
   "source": [
    "cur.execute(\"CREATE TABLE emoji_test (id serial PRIMARY KEY,\\\n",
    "    date timestamp,\\\n",
    "    created_at timestamp,\\\n",
    "    text text,\\\n",
    "    retweet_count integer,\\\n",
    "    favorite_count integer,\\\n",
    "    lang varchar(5),\\\n",
    "    geo json,\\\n",
    "    coordinates json,\\\n",
    "    time_zone varchar(40),\\\n",
    "    name varchar(40),\\\n",
    "    user_name varchar(40),\\\n",
    "    emojiLabel text[],\\\n",
    "    emojiCount integer[]\\\n",
    "    );\")"
   ]
  },
  {
   "cell_type": "code",
   "execution_count": 139,
   "metadata": {
    "collapsed": true
   },
   "outputs": [],
   "source": [
    "def TestinsertIntoSQL(date,created_at,text,retweet_count,favorite_count,lang,geo,coordinates,time_zone,name,user_name,\\\n",
    "    emojiLabel,emojiCount):\n",
    "    cur.execute(\"INSERT INTO emoji_test (\\\n",
    "    date,\\\n",
    "    created_at,\\\n",
    "    text,\\\n",
    "    retweet_count,\\\n",
    "    favorite_count,\\\n",
    "    lang,\\\n",
    "    geo,\\\n",
    "    coordinates,\\\n",
    "    time_zone,\\\n",
    "    name,\\\n",
    "    user_name,\\\n",
    "    emojiLabel,\\\n",
    "    emojiCount\\\n",
    "    )\\\n",
    "    VALUES (\\\n",
    "    %s,%s,%s,%s,%s,%s,%s,%s,%s,%s,%s,%s,%s\\\n",
    "    )\",(\\\n",
    "    date,\\\n",
    "    created_at,\\\n",
    "    text,\\\n",
    "    retweet_count,\\\n",
    "    favorite_count,\\\n",
    "    lang,\\\n",
    "    geo,\\\n",
    "    coordinates,\\\n",
    "    time_zone,\\\n",
    "    name,\\\n",
    "    user_name,\\\n",
    "    list(emojiLabel),\\\n",
    "    [list(emojiCount)]\n",
    "    ))"
   ]
  },
  {
   "cell_type": "code",
   "execution_count": 137,
   "metadata": {
    "collapsed": false
   },
   "outputs": [
    {
     "data": {
      "text/plain": [
       "[u'\\U0001f602']"
      ]
     },
     "execution_count": 137,
     "metadata": {},
     "output_type": "execute_result"
    }
   ],
   "source": [
    "list(emojiLabel)"
   ]
  },
  {
   "cell_type": "code",
   "execution_count": 121,
   "metadata": {
    "collapsed": false
   },
   "outputs": [
    {
     "ename": "TypeError",
     "evalue": "'numpy.dtype' object is not callable",
     "output_type": "error",
     "traceback": [
      "\u001b[0;31m---------------------------------------------------------------------------\u001b[0m",
      "\u001b[0;31mTypeError\u001b[0m                                 Traceback (most recent call last)",
      "\u001b[0;32m<ipython-input-121-7c01fead14ea>\u001b[0m in \u001b[0;36m<module>\u001b[0;34m()\u001b[0m\n\u001b[0;32m----> 1\u001b[0;31m \u001b[0mlist\u001b[0m\u001b[0;34m(\u001b[0m\u001b[0memojiCount\u001b[0m\u001b[0;34m.\u001b[0m\u001b[0mdtype\u001b[0m\u001b[0;34m(\u001b[0m\u001b[0mint\u001b[0m\u001b[0;34m)\u001b[0m\u001b[0;34m)\u001b[0m\u001b[0;34m\u001b[0m\u001b[0m\n\u001b[0m",
      "\u001b[0;31mTypeError\u001b[0m: 'numpy.dtype' object is not callable"
     ]
    }
   ],
   "source": [
    "list(emojiCount.dtype(int))"
   ]
  },
  {
   "cell_type": "code",
   "execution_count": null,
   "metadata": {
    "collapsed": true
   },
   "outputs": [],
   "source": []
  }
 ],
 "metadata": {
  "kernelspec": {
   "display_name": "Python 2",
   "language": "python",
   "name": "python2"
  },
  "language_info": {
   "codemirror_mode": {
    "name": "ipython",
    "version": 2
   },
   "file_extension": ".py",
   "mimetype": "text/x-python",
   "name": "python",
   "nbconvert_exporter": "python",
   "pygments_lexer": "ipython2",
   "version": "2.7.11"
  }
 },
 "nbformat": 4,
 "nbformat_minor": 0
}
