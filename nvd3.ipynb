{
 "cells": [
  {
   "cell_type": "code",
   "execution_count": 2,
   "metadata": {
    "collapsed": false
   },
   "outputs": [
    {
     "name": "stdout",
     "output_type": "stream",
     "text": [
      "loaded nvd3 IPython extension\n",
      "run nvd3.ipynb.initialize_javascript() to set up the notebook\n",
      "help(nvd3.ipynb.initialize_javascript) for options\n"
     ]
    }
   ],
   "source": [
    "import pandas as pd\n",
    "import scipy.io as sio\n",
    "import matplotlib.dates as md\n",
    "from nvd3 import multiBarChart\n",
    "#mdata=sio.loadmat('/Users/attiladobi/LUXCode/Scratch/AttilaDobi/data/Platinum/Platinum_CH3T_Aug.mat')\n"
   ]
  },
  {
   "cell_type": "code",
   "execution_count": 6,
   "metadata": {
    "collapsed": false
   },
   "outputs": [],
   "source": [
    "# convert luxstamp to date_num\n",
    "lux_epoch=md.datestr2num('Jan 1st 2011 at 00:00')\n",
    "luxstamp2day=mdata['luxstamp']/10**8/3600/24\n",
    "luxstamp_dnum=luxstamp2day+lux_epoch\n",
    "luxdatenum=md.num2date(luxstamp_dnum)\n",
    "#java_time=md.num2epoch(luxstamp_dnum*3600*24)[0]*1000"
   ]
  },
  {
   "cell_type": "code",
   "execution_count": 9,
   "metadata": {
    "collapsed": false
   },
   "outputs": [],
   "source": [
    "from nvd3 import lineWithFocusChart\n",
    "\n",
    "# Open File to write the D3 Graph\n",
    "output_file = open('test2-nvd3.html', 'w')\n",
    "\n",
    "chart = lineWithFocusChart(name='lineWithFocusChart',height=450, width=450) #x_is_date=True,x_axis_format=\"%d %b %Y\"\n",
    "xdata = mdata['luxstamp'][0].tolist()\n",
    "ydata = mdata['spikyS1'][0].tolist()\n",
    "\n",
    "extra_serie = {\"tooltip\": {\"y_start\": \"\", \"y_end\": \" ext\"},\n",
    "               \"date_format\": \"%d %b %Y\"}\n",
    "chart.add_serie(name=\"Serie 1\", y=ydata, x=xdata, extra=extra_serie)\n",
    "chart.buildhtml()\n",
    "\n",
    "output_file.write(chart.htmlcontent)\n",
    "\n",
    "# close Html file\n",
    "output_file.close()"
   ]
  },
  {
   "cell_type": "markdown",
   "metadata": {},
   "source": [
    "<h1> Example make a bar chart with emoji in d3 </h1>"
   ]
  },
  {
   "cell_type": "code",
   "execution_count": 3,
   "metadata": {
    "collapsed": false
   },
   "outputs": [],
   "source": [
    "from nvd3 import multiBarChart\n",
    "\n",
    "# Open File to write the D3 Graph\n",
    "output_file = open('test3-nvd3.html', 'w')\n",
    "\n",
    "kwargs1 = {\"fontSize\": '50'}\n",
    "\n",
    "chart = multiBarChart(width=800, height=400, x_axis_format=None, **kwargs1)\n",
    "xdata = [u'\\U0001f346', '😂', '🐶', '❤️']\n",
    "#xdata = ['one' , 'two', 'three', 'four']\n",
    "ydata1 = [6, 12, 9, 16]\n",
    "ydata2 = [8, 14, 7, 11]\n",
    "\n",
    "chart.add_serie(name=\"Serie 1\", y=ydata1, x=xdata, **kwargs1)\n",
    "chart.add_serie(name=\"Serie 2\", y=ydata2, x=xdata, **kwargs1)\n",
    "chart.buildhtml()\n",
    "\n",
    "output_file.write(chart.htmlcontent)\n",
    "\n",
    "# close Html file\n",
    "output_file.close()"
   ]
  },
  {
   "cell_type": "code",
   "execution_count": 28,
   "metadata": {
    "collapsed": true
   },
   "outputs": [],
   "source": [
    "multiBarChart?"
   ]
  }
 ],
 "metadata": {
  "kernelspec": {
   "display_name": "Python 2",
   "language": "python",
   "name": "python2"
  },
  "language_info": {
   "codemirror_mode": {
    "name": "ipython",
    "version": 2
   },
   "file_extension": ".py",
   "mimetype": "text/x-python",
   "name": "python",
   "nbconvert_exporter": "python",
   "pygments_lexer": "ipython2",
   "version": "2.7.11"
  }
 },
 "nbformat": 4,
 "nbformat_minor": 0
}
