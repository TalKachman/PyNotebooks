{
 "cells": [
  {
   "cell_type": "code",
   "execution_count": 734,
   "metadata": {
    "collapsed": true
   },
   "outputs": [],
   "source": [
    "import time"
   ]
  },
  {
   "cell_type": "code",
   "execution_count": 8,
   "metadata": {
    "collapsed": false
   },
   "outputs": [],
   "source": [
    "import collections\n",
    "class Solution(object):\n",
    "    def sorted_cut(self,S,preVal=0):\n",
    "        tmp_list=[x for x,val in S.items() if (val>0) & (x>=preVal)]\n",
    "        tmp_list.sort()\n",
    "        return tmp_list\n",
    "    \n",
    "    def threeSum(self, nums):\n",
    "        \"\"\"\n",
    "        :type nums: List[int]\n",
    "        :rtype: List[List[int]]\n",
    "        \"\"\"\n",
    "        answers=[]\n",
    "        S_init=collections.defaultdict(lambda:0)\n",
    "        for num in nums:\n",
    "            S_init[num]=S_init[num]+1\n",
    "        \n",
    "        #error checking if empty\n",
    "        if len(nums)>0:\n",
    "            min_val=min(nums)\n",
    "        else:\n",
    "            min_val=0\n",
    "            \n",
    "        list1=self.sorted_cut(S_init,min_val)\n",
    "        for v1 in list1:\n",
    "            S_init[v1]=S_init[v1]-1\n",
    "            S=dict(S_init)\n",
    "            \n",
    "            list2=self.sorted_cut(S,v1)\n",
    "            \n",
    "            for v2 in list2:\n",
    "                S[v2]=S[v2]-1\n",
    "            \n",
    "                v3=-(v1+v2)\n",
    "                list3=self.sorted_cut(S,v2)\n",
    "                #print(S[6])\n",
    "                if v3 in list3 and (S[v2]>=0): #second term ensures second index isn't reused\n",
    "                    #S[v1]=-1    \n",
    "                    #S[v3]=-1\n",
    "                    answers.append([v1,v2,v3])\n",
    "             \n",
    "        return answers\n",
    "    \n",
    "    def fourSum(self, nums):\n",
    "        answers=[]\n",
    "        S_init=collections.defaultdict(lambda:0)\n",
    "        for num in nums:\n",
    "            S_init[num]=S_init[num]+1\n",
    "        \n",
    "        #error checking if empty\n",
    "        if len(nums)>0:\n",
    "            min_val=min(nums)\n",
    "        else:\n",
    "            min_val=0\n",
    "            \n",
    "        list1=self.sorted_cut(S_init,min_val)\n",
    "        for v1 in list1:\n",
    "            S_init[v1]=S_init[v1]-1\n",
    "            S=dict(S_init)\n",
    "            \n",
    "            list2=self.sorted_cut(S,v1)\n",
    "            \n",
    "            for v2 in list2:\n",
    "                S[v2]=S[v2]-1\n",
    "                S2=dict(S)\n",
    "                \n",
    "                list3=self.sorted_cut(S2,v2)\n",
    "                \n",
    "                for v3 in list3:\n",
    "                    S2[v3]=S2[v3]-1\n",
    "            \n",
    "                    v4=-(v1+v2+v3)\n",
    "                    list4=self.sorted_cut(S2,v3)\n",
    "                    if v4 in list4 and (S2[v3]>=0): #second term ensures second index isn't reused   \n",
    "                        S2[v2]=-1\n",
    "                        answers.append([v1,v2,v3,v4])\n",
    "             \n",
    "        return answers"
   ]
  },
  {
   "cell_type": "code",
   "execution_count": 2,
   "metadata": {
    "collapsed": true
   },
   "outputs": [],
   "source": [
    "test=Solution()"
   ]
  },
  {
   "cell_type": "code",
   "execution_count": 760,
   "metadata": {
    "collapsed": false
   },
   "outputs": [
    {
     "data": {
      "text/plain": [
       "[]"
      ]
     },
     "execution_count": 760,
     "metadata": {},
     "output_type": "execute_result"
    }
   ],
   "source": [
    "test.fourSum([])"
   ]
  },
  {
   "cell_type": "code",
   "execution_count": 768,
   "metadata": {
    "collapsed": false
   },
   "outputs": [],
   "source": [
    "def canWinNim(n):\n",
    "    \"\"\"\n",
    "    :type n: int\n",
    "    :rtype: bool\n",
    "    \"\"\"\n",
    "    #initial condition:\n",
    "    win_array=[True,True,True]\n",
    "    while n>=4:\n",
    "        n=n-1\n",
    "        #boundry condition\n",
    "        if sum(win_array)==3:\n",
    "            win_array.pop(0)\n",
    "            win_array.append(False)\n",
    "        else:\n",
    "            win_array.pop(0)\n",
    "            win_array.append(True)\n",
    "\n",
    "    return(win_array[-1])"
   ]
  },
  {
   "cell_type": "code",
   "execution_count": 793,
   "metadata": {
    "collapsed": false
   },
   "outputs": [],
   "source": [
    "def canWinNim(n):\n",
    "    \"\"\"\n",
    "    :type n: int\n",
    "    :rtype: bool\n",
    "    \"\"\"\n",
    "    #initial condition:\n",
    "    if n<=3:\n",
    "        return True\n",
    "    \n",
    "    if n>=4:\n",
    "        return not (canWinNim(n-1) & canWinNim(n-2) & canWinNim(n-3))\n",
    "\n",
    "def canWinNimFast(n):\n",
    "    \"\"\"\n",
    "    :type n: int\n",
    "    :rtype: bool\n",
    "    \"\"\"\n",
    "    #initial condition:\n",
    "    if n%4==0:\n",
    "        return False\n",
    "    else:\n",
    "        return True"
   ]
  },
  {
   "cell_type": "code",
   "execution_count": 796,
   "metadata": {
    "collapsed": false
   },
   "outputs": [
    {
     "data": {
      "text/plain": [
       "True"
      ]
     },
     "execution_count": 796,
     "metadata": {},
     "output_type": "execute_result"
    }
   ],
   "source": [
    "canWinNimFast(1000002)"
   ]
  },
  {
   "cell_type": "code",
   "execution_count": 809,
   "metadata": {
    "collapsed": false
   },
   "outputs": [],
   "source": [
    "def sum_str(string):\n",
    "    return sum([ord(char)-96 for char in string])"
   ]
  },
  {
   "cell_type": "code",
   "execution_count": 812,
   "metadata": {
    "collapsed": false
   },
   "outputs": [
    {
     "data": {
      "text/plain": [
       "1"
      ]
     },
     "execution_count": 812,
     "metadata": {},
     "output_type": "execute_result"
    }
   ],
   "source": [
    "sum_str('a')"
   ]
  },
  {
   "cell_type": "code",
   "execution_count": 9,
   "metadata": {
    "collapsed": false
   },
   "outputs": [
    {
     "data": {
      "text/plain": [
       "[[-8, 1, 7],\n",
       " [-8, 2, 6],\n",
       " [-8, 4, 4],\n",
       " [-7, 1, 6],\n",
       " [-7, 3, 4],\n",
       " [-4, -2, 6],\n",
       " [-4, 1, 3],\n",
       " [-4, 2, 2],\n",
       " [-2, -1, 3],\n",
       " [-1, -1, 2]]"
      ]
     },
     "execution_count": 9,
     "metadata": {},
     "output_type": "execute_result"
    }
   ],
   "source": [
    "test.threeSum([-1,-1,-1,2,2,-4,-8,4,4,6,7,-7,1,-2,3])"
   ]
  },
  {
   "cell_type": "code",
   "execution_count": 744,
   "metadata": {
    "collapsed": false
   },
   "outputs": [
    {
     "name": "stdout",
     "output_type": "stream",
     "text": [
      "0.000520944595337\n"
     ]
    }
   ],
   "source": [
    "t0 = time.time()\n",
    "test.threeSum([-1,-1,-1,2,2,-4,-8,4,4,6,7,-7,1,-2,3])\n",
    "t1 = time.time()\n",
    "\n",
    "print(t1-t0)"
   ]
  },
  {
   "cell_type": "code",
   "execution_count": null,
   "metadata": {
    "collapsed": true
   },
   "outputs": [],
   "source": []
  },
  {
   "cell_type": "code",
   "execution_count": null,
   "metadata": {
    "collapsed": true
   },
   "outputs": [],
   "source": []
  },
  {
   "cell_type": "code",
   "execution_count": 729,
   "metadata": {
    "collapsed": false
   },
   "outputs": [
    {
     "data": {
      "text/plain": [
       "[[-1, 0, 1]]"
      ]
     },
     "execution_count": 729,
     "metadata": {},
     "output_type": "execute_result"
    }
   ],
   "source": [
    "test.threeSum([1,-1,-1,0])"
   ]
  },
  {
   "cell_type": "code",
   "execution_count": 561,
   "metadata": {
    "collapsed": false
   },
   "outputs": [],
   "source": [
    "remaining=nums[0+1:]\n",
    "jj=remaining.index(val)"
   ]
  },
  {
   "cell_type": "code",
   "execution_count": 215,
   "metadata": {
    "collapsed": false
   },
   "outputs": [
    {
     "name": "stdout",
     "output_type": "stream",
     "text": [
      "yes\n"
     ]
    }
   ],
   "source": [
    "if 6 in [1,3,4,5,-4,6]:\n",
    "    print(\"yes\")"
   ]
  },
  {
   "cell_type": "code",
   "execution_count": 216,
   "metadata": {
    "collapsed": false
   },
   "outputs": [],
   "source": [
    "import collections\n",
    "nums.sort()\n",
    "S=collections.defaultdict(lambda:1)\n",
    "for num in nums:\n",
    "    S[num]+=1\n",
    "#S.sort()\n",
    "    answers=[]\n",
    "\n",
    "for key in S.keys():\n",
    "    S[key]-=1\n"
   ]
  },
  {
   "cell_type": "code",
   "execution_count": 63,
   "metadata": {
    "collapsed": false
   },
   "outputs": [
    {
     "data": {
      "text/plain": [
       "[1, 2, 3, -4]"
      ]
     },
     "execution_count": 63,
     "metadata": {},
     "output_type": "execute_result"
    }
   ],
   "source": [
    "[key for key,value in S.items() if value>0]"
   ]
  },
  {
   "cell_type": "code",
   "execution_count": 157,
   "metadata": {
    "collapsed": false
   },
   "outputs": [
    {
     "name": "stdout",
     "output_type": "stream",
     "text": [
      "1 1\n",
      "2 2\n",
      "3 2\n",
      "-4 1\n"
     ]
    }
   ],
   "source": [
    "for key, value in S.items():\n",
    "    print key,value"
   ]
  },
  {
   "cell_type": "code",
   "execution_count": 162,
   "metadata": {
    "collapsed": false
   },
   "outputs": [
    {
     "data": {
      "text/plain": [
       "[2, 3]"
      ]
     },
     "execution_count": 162,
     "metadata": {},
     "output_type": "execute_result"
    }
   ],
   "source": [
    "[key for key,val in S.items() if val>1]"
   ]
  },
  {
   "cell_type": "code",
   "execution_count": 599,
   "metadata": {
    "collapsed": true
   },
   "outputs": [],
   "source": [
    "a=[[1,2],[3,4],[1,1]]"
   ]
  },
  {
   "cell_type": "code",
   "execution_count": 680,
   "metadata": {
    "collapsed": false
   },
   "outputs": [],
   "source": [
    "def lord(nums):\n",
    "    answers=[]\n",
    "    nums.sort()\n",
    "    for ii,v1 in enumerate(nums):\n",
    "        for jj,v2 in enumerate(nums[ii:]):\n",
    "            v3= -(v1+v2)\n",
    "            if v3 in [x for x in nums if (x!=v1) and (x!=v2)]:\n",
    "                answer=[v1,v2,v3]\n",
    "                answer.sort()\n",
    "                if answer not in answers:\n",
    "                    answers.append(answer)\n",
    "    return answers"
   ]
  },
  {
   "cell_type": "code",
   "execution_count": 746,
   "metadata": {
    "collapsed": false
   },
   "outputs": [
    {
     "data": {
      "text/plain": [
       "defaultdict(<function <lambda> at 0x10ab19140>, {1: 1, 2: 2, 3: 2, -4: 1})"
      ]
     },
     "execution_count": 746,
     "metadata": {},
     "output_type": "execute_result"
    }
   ],
   "source": [
    "S"
   ]
  },
  {
   "cell_type": "code",
   "execution_count": 749,
   "metadata": {
    "collapsed": false
   },
   "outputs": [
    {
     "name": "stdout",
     "output_type": "stream",
     "text": [
      "(-4, 1)\n",
      "(1, 1)\n",
      "(2, 2)\n",
      "(3, 2)\n"
     ]
    }
   ],
   "source": [
    "for n, count in sorted(S.items()):\n",
    "    print(n,count)"
   ]
  },
  {
   "cell_type": "code",
   "execution_count": 21,
   "metadata": {
    "collapsed": false
   },
   "outputs": [],
   "source": [
    "def fibo(n):\n",
    "    if n == 0:\n",
    "        a,b=0,0\n",
    "    elif n ==1 :\n",
    "        a,b=1,0\n",
    "    else:\n",
    "        b,c=fibo(n-1)\n",
    "        a=b+c\n",
    "    return a,b\n",
    "    "
   ]
  },
  {
   "cell_type": "code",
   "execution_count": 22,
   "metadata": {
    "collapsed": false
   },
   "outputs": [
    {
     "data": {
      "text/plain": [
       "(55, 34)"
      ]
     },
     "execution_count": 22,
     "metadata": {},
     "output_type": "execute_result"
    }
   ],
   "source": [
    "fibo(10)"
   ]
  },
  {
   "cell_type": "code",
   "execution_count": null,
   "metadata": {
    "collapsed": true
   },
   "outputs": [],
   "source": []
  }
 ],
 "metadata": {
  "kernelspec": {
   "display_name": "Python 2",
   "language": "python",
   "name": "python2"
  },
  "language_info": {
   "codemirror_mode": {
    "name": "ipython",
    "version": 2
   },
   "file_extension": ".py",
   "mimetype": "text/x-python",
   "name": "python",
   "nbconvert_exporter": "python",
   "pygments_lexer": "ipython2",
   "version": "2.7.10"
  }
 },
 "nbformat": 4,
 "nbformat_minor": 0
}
