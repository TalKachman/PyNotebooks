{
 "cells": [
  {
   "cell_type": "markdown",
   "metadata": {},
   "source": [
    "<h1> Create the FB problem table </h1>"
   ]
  },
  {
   "cell_type": "code",
   "execution_count": 1,
   "metadata": {
    "collapsed": true
   },
   "outputs": [],
   "source": [
    "from __future__ import division\n",
    "import json\n",
    "import pandas as pd\n",
    "import re, collections\n",
    "import numpy as np\n",
    "import os\n",
    "base_dir=os.path.expanduser('~')\n",
    "import datetime\n",
    "import time\n",
    "import psycopg2"
   ]
  },
  {
   "cell_type": "code",
   "execution_count": 11,
   "metadata": {
    "collapsed": true
   },
   "outputs": [],
   "source": [
    "#connect\n",
    "conn = psycopg2.connect(\"host=localhost port=5432 dbname=fb\")\n",
    "cur = conn.cursor()"
   ]
  },
  {
   "cell_type": "code",
   "execution_count": 12,
   "metadata": {
    "collapsed": false
   },
   "outputs": [],
   "source": [
    "#Create Friend table\n",
    "cur.execute(\\\n",
    "\"CREATE TABLE Friend (id serial PRIMARY KEY,\\\n",
    "    u_id integer,\\\n",
    "    f_id integer\\\n",
    "    );\")\n",
    "conn.commit()"
   ]
  },
  {
   "cell_type": "code",
   "execution_count": 13,
   "metadata": {
    "collapsed": true
   },
   "outputs": [],
   "source": [
    "#Create Friend table\n",
    "cur.execute(\\\n",
    "\"CREATE TABLE Liked (id serial PRIMARY KEY,\\\n",
    "    u_id integer,\\\n",
    "    page_id integer\\\n",
    "    );\")\n",
    "conn.commit()"
   ]
  },
  {
   "cell_type": "markdown",
   "metadata": {},
   "source": [
    "<h1> Add entries for table </h1>"
   ]
  },
  {
   "cell_type": "code",
   "execution_count": 14,
   "metadata": {
    "collapsed": true
   },
   "outputs": [],
   "source": [
    "users=[1,1,2,2,1,3,3,2,1]\n",
    "friends=[2,3,3,4,4,2,6,1,6]\n",
    "ul=[1,1,2,2,1,1,3,3,4,4,4,2,1]#13\n",
    "liked=[4,5,5,6,7,1,1,8,9,0,3,2,7]"
   ]
  },
  {
   "cell_type": "code",
   "execution_count": null,
   "metadata": {
    "collapsed": false
   },
   "outputs": [],
   "source": [
    "for u,f in zip(users,friends):\n",
    "    cur.execute(\"INSERT INTO Friend (u_id,f_id) VALUES (%s,%s);\",(u,f))\n",
    "conn.commit()"
   ]
  },
  {
   "cell_type": "code",
   "execution_count": 17,
   "metadata": {
    "collapsed": true
   },
   "outputs": [],
   "source": [
    "for u,p in zip(ul,liked):\n",
    "    cur.execute(\"INSERT INTO Liked (u_id,page_id) VALUES (%s,%s);\",(u,p))\n",
    "conn.commit()"
   ]
  },
  {
   "cell_type": "code",
   "execution_count": null,
   "metadata": {
    "collapsed": true
   },
   "outputs": [],
   "source": []
  },
  {
   "cell_type": "markdown",
   "metadata": {},
   "source": [
    "<h1> Solution </h1>"
   ]
  },
  {
   "cell_type": "markdown",
   "metadata": {},
   "source": [
    "create a table with pages that \"I Liked\" and join on a table that your \"Friends Liked\" ON u_id=u_id and I_liked=Friend_like, return the rows that your friends like but what you liked is null"
   ]
  },
  {
   "cell_type": "markdown",
   "metadata": {},
   "source": [
    "select FL.u_id, array_agg(FL.friend_liked) as rec from (select friend.u_id,liked.page_id as friend_liked from Liked join Friend on Liked.u_id=Friend.f_id) as FL left join (select u_id,page_id as i_liked from Liked) as IL on FL.u_id=IL.u_id AND FL.friend_liked=IL.i_liked WHERE IL.i_liked is NULL group by FL.u_id;"
   ]
  },
  {
   "cell_type": "markdown",
   "metadata": {},
   "source": [
    "<p>\n",
    "1. (select Friend.u_id,liked.page_id as friend_liked from Liked join Friend on Liked.u_id=Friend.f_id) as FL\n",
    "    <br> This gets the pages that the friend of each user like  <br> \n",
    "2.  (select u_id,page_id as i_liked from Liked)\n",
    "    <br> Selects the pages I liked  <br> \n",
    "3. Left join on u_id and i_liked=friend_liked liked where i_liked is null\n",
    "</p>"
   ]
  },
  {
   "cell_type": "code",
   "execution_count": null,
   "metadata": {
    "collapsed": true
   },
   "outputs": [],
   "source": []
  }
 ],
 "metadata": {
  "kernelspec": {
   "display_name": "Python 2",
   "language": "python",
   "name": "python2"
  },
  "language_info": {
   "codemirror_mode": {
    "name": "ipython",
    "version": 2
   },
   "file_extension": ".py",
   "mimetype": "text/x-python",
   "name": "python",
   "nbconvert_exporter": "python",
   "pygments_lexer": "ipython2",
   "version": "2.7.11"
  }
 },
 "nbformat": 4,
 "nbformat_minor": 0
}
