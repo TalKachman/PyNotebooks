{
 "cells": [
  {
   "cell_type": "markdown",
   "metadata": {},
   "source": [
    "<h1> Emoji DB for James </h1>"
   ]
  },
  {
   "cell_type": "code",
   "execution_count": 1,
   "metadata": {
    "collapsed": true
   },
   "outputs": [],
   "source": [
    "from __future__ import division\n",
    "import json\n",
    "import pandas as pd\n",
    "import re, collections\n",
    "import numpy as np\n",
    "import os\n",
    "base_dir=os.path.expanduser('~')\n",
    "import datetime\n",
    "import time\n",
    "import psycopg2\n",
    "from nltk.corpus import words"
   ]
  },
  {
   "cell_type": "markdown",
   "metadata": {},
   "source": [
    "<h1> Connect to the emoji_db </h1>"
   ]
  },
  {
   "cell_type": "code",
   "execution_count": 3,
   "metadata": {
    "collapsed": false
   },
   "outputs": [
    {
     "ename": "KeyboardInterrupt",
     "evalue": "",
     "output_type": "error",
     "traceback": [
      "\u001b[0;31m---------------------------------------------------------------------------\u001b[0m",
      "\u001b[0;31mKeyboardInterrupt\u001b[0m                         Traceback (most recent call last)",
      "\u001b[0;31mKeyboardInterrupt\u001b[0m: "
     ]
    }
   ],
   "source": [
    "#connect\n",
    "conn = psycopg2.connect(\"host=52.38.112.55 port=5432 dbname=emoji_db user=WizzKid password=IVapeBro\")\n",
    "cur = conn.cursor()"
   ]
  },
  {
   "cell_type": "code",
   "execution_count": 272,
   "metadata": {
    "collapsed": true
   },
   "outputs": [],
   "source": [
    "#connect\n",
    "conn = psycopg2.connect(\"host=localhost port=5432 dbname=emoji_db user=postgres password=darkmatter\")\n",
    "cur = conn.cursor()"
   ]
  },
  {
   "cell_type": "markdown",
   "metadata": {},
   "source": [
    "<h1> Loop through the english dictionary </h1>"
   ]
  },
  {
   "cell_type": "code",
   "execution_count": null,
   "metadata": {
    "collapsed": false,
    "scrolled": true
   },
   "outputs": [],
   "source": [
    "lang='en'\n",
    "facefilter='on'\n",
    "for word in words.words():\n",
    "    print(word)\n",
    "    word=word.lower()\n",
    "    word=word.replace(\"'\",\"''\")#replace all apostrophes with double for SQL query\n",
    "    cur.execute(\"SELECT T.Label,SUM(T.Freq) as TFreq From (SELECT unnest(emojiLabel) as Label, unnest(emojiCount) as Freq, unnest(emojiLabelFaceFilter) as FF FROM emoji_tweet WHERE (LOWER(text) LIKE '%{:s}%' AND lang='{:s}' )) as T WHERE(T.FF is True) group by T.Label order by TFreq DESC limit 15;\".format(word,lang))\n",
    "    result=self.cur.fetchall()\n",
    "    xdata=[val[0] for val in result]\n",
    "    ydata=[val[1] for val in result]"
   ]
  },
  {
   "cell_type": "code",
   "execution_count": null,
   "metadata": {
    "collapsed": true
   },
   "outputs": [],
   "source": [
    "pattern_type = 'single'\n",
    "freq_filter = 'all'\n",
    "face_filter = 'on'\n",
    "user_lang = 'en'\n",
    "for word in words.words():\n",
    "    print(word)\n",
    "    if freq_filter=='freq':\n",
    "        xdata, ydata = Emoji.filter_emoji_freq(word,face_filter,pattern_type,user_lang)\n",
    "    elif freq_filter=='all':\n",
    "        xdata, ydata = Emoji.filter_emoji(word,face_filter,pattern_type,user_lang)\n",
    "    else: #surr (surrounding text, takes long to query)\n",
    "        xdata, ydata = Emoji.filter_emoji_surr(word,face_filter,pattern_type,user_lang)\n",
    "    #write result to DB\n",
    "    Emoji.index_result(word,freq_filter,face_filter,pattern_type,user_lang,xdata,ydata)"
   ]
  },
  {
   "cell_type": "markdown",
   "metadata": {},
   "source": [
    "<h1> select the top word in one language and match to another </h1>"
   ]
  },
  {
   "cell_type": "raw",
   "metadata": {},
   "source": [
    "select emojiLabel[1] as result from emoji_search where searchterm='dog' AND lang='en' AND facefilter='on' order by date DESC limit 1;"
   ]
  },
  {
   "cell_type": "code",
   "execution_count": 336,
   "metadata": {
    "collapsed": false
   },
   "outputs": [],
   "source": [
    "word='snow'\n",
    "cur.execute(\"select DISTINCT(b.searchTerm), (SELECT COUNT(*) from (select unnest(a.emojiLabel[1:4]) as yp intersect select unnest(b.emojiLabel[1:4])as yo) as Foo) \\\n",
    "from (select emojiLabel from emoji_search where searchterm=' {:s}' AND \\\n",
    "lang='en' AND facefilter='on' order by date DESC limit 1) a join emoji_search b on \\\n",
    "(select COUNT(*) from (select unnest(a.emojiLabel[1:4]) as yp intersect select unnest(b.emojiLabel[1:4])as yo) as Foo)>=2 \\\n",
    "WHERE b.lang='es' AND b.facefilter='on' ;\".format(word))"
   ]
  },
  {
   "cell_type": "code",
   "execution_count": 337,
   "metadata": {
    "collapsed": false
   },
   "outputs": [
    {
     "data": {
      "text/plain": [
       "[(' dec\\xc3\\xada', 2L),\n",
       " (' nieve', 2L),\n",
       " (' llover', 2L),\n",
       " (' hielo', 2L),\n",
       " (' alaska', 2L),\n",
       " (' dec\\xc3\\xadan', 2L)]"
      ]
     },
     "execution_count": 337,
     "metadata": {},
     "output_type": "execute_result"
    }
   ],
   "source": [
    "result=cur.fetchall()\n",
    "result"
   ]
  },
  {
   "cell_type": "code",
   "execution_count": 295,
   "metadata": {
    "collapsed": false
   },
   "outputs": [
    {
     "name": "stdout",
     "output_type": "stream",
     "text": [
      "[('\\xe8\\xa1\\x97\\xe9\\x81\\x93', 2L)]\n",
      "[('\\xe8\\xa1\\x97\\xe9\\x81\\x93', 2L)]\n"
     ]
    }
   ],
   "source": [
    "for item in result[0]:\n",
    "    print result"
   ]
  },
  {
   "cell_type": "code",
   "execution_count": 329,
   "metadata": {
    "collapsed": false
   },
   "outputs": [
    {
     "name": "stdout",
     "output_type": "stream",
     "text": [
      "더\n"
     ]
    }
   ],
   "source": [
    "print('\\xeb\\x8d\\x94')"
   ]
  },
  {
   "cell_type": "markdown",
   "metadata": {},
   "source": [
    "<h1> Search by top result </h1>"
   ]
  },
  {
   "cell_type": "code",
   "execution_count": 334,
   "metadata": {
    "collapsed": true
   },
   "outputs": [],
   "source": [
    "word='snow'\n",
    "cur.execute(\"select b.searchTerm from (select emojiLabel from emoji_search where searchterm=' {:s}' AND \\\n",
    "lang='en' AND facefilter='on' order by date DESC limit 1) a join emoji_search b on \\\n",
    "a.emojiLabel[1]=b.emojiLabel[1]\\\n",
    "WHERE b.lang='es' AND b.facefilter='on' ;\".format(word))"
   ]
  },
  {
   "cell_type": "code",
   "execution_count": 335,
   "metadata": {
    "collapsed": false
   },
   "outputs": [
    {
     "data": {
      "text/plain": [
       "[(' dec\\xc3\\xada',),\n",
       " (' fr\\xc3\\xado',),\n",
       " (' hielo',),\n",
       " (' nieve',),\n",
       " (' fresco',),\n",
       " (' dispara',),\n",
       " (' pieza',),\n",
       " (' dec\\xc3\\xadan',),\n",
       " (' llover',),\n",
       " (' empacar',),\n",
       " (' cagada',),\n",
       " (' cuidarse',),\n",
       " (' congelada',),\n",
       " (' cambiarse',),\n",
       " (' disparate',),\n",
       " (' revisar\\xc3\\xa9',)]"
      ]
     },
     "execution_count": 335,
     "metadata": {},
     "output_type": "execute_result"
    }
   ],
   "source": [
    "result=cur.fetchall()\n",
    "result"
   ]
  },
  {
   "cell_type": "code",
   "execution_count": 327,
   "metadata": {
    "collapsed": false
   },
   "outputs": [
    {
     "name": "stdout",
     "output_type": "stream",
     "text": [
      "임마\n"
     ]
    }
   ],
   "source": [
    "print(result[0][0])"
   ]
  },
  {
   "cell_type": "code",
   "execution_count": 191,
   "metadata": {
    "collapsed": true
   },
   "outputs": [],
   "source": [
    "word='beer'\n",
    "cur.execute(\"select emojiLabel[1:4] from emoji_search where searchterm=' beer' AND lang='en' AND facefilter='on' order by date DESC limit 1;\")"
   ]
  }
 ],
 "metadata": {
  "kernelspec": {
   "display_name": "Python 2",
   "language": "python",
   "name": "python2"
  },
  "language_info": {
   "codemirror_mode": {
    "name": "ipython",
    "version": 2
   },
   "file_extension": ".py",
   "mimetype": "text/x-python",
   "name": "python",
   "nbconvert_exporter": "python",
   "pygments_lexer": "ipython2",
   "version": "2.7.11"
  }
 },
 "nbformat": 4,
 "nbformat_minor": 0
}
