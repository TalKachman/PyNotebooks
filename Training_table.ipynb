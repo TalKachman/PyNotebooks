{
 "cells": [
  {
   "cell_type": "code",
   "execution_count": 143,
   "metadata": {
    "collapsed": true
   },
   "outputs": [],
   "source": [
    "from __future__ import division\n",
    "import json\n",
    "import re, collections\n",
    "import numpy as np\n",
    "import os\n",
    "base_dir=os.path.expanduser('~')\n",
    "import datetime\n",
    "import psycopg2\n",
    "import json\n",
    "\n",
    "#connect\n",
    "#conn = psycopg2.connect(\"dbname=emoji_db user=postgres password=darkmatter\")\n",
    "conn = psycopg2.connect(\"dbname=qa\")\n",
    "#on AWS: conn = psycopg2.connect(\"host=localhost port=5432 dbname=emoji_db user=postgres password=darkmatter\")\n",
    "cur = conn.cursor()"
   ]
  },
  {
   "cell_type": "code",
   "execution_count": 144,
   "metadata": {
    "collapsed": false
   },
   "outputs": [],
   "source": [
    "#training table, initialize\n",
    "cur.execute(\"CREATE TABLE training (id serial PRIMARY KEY,\\\n",
    "    question text,\\\n",
    "    qestion_type text,\\\n",
    "    qestion_type_bow text,\\\n",
    "    qestion_type_human text,\\\n",
    "    qa_id integer,\\\n",
    "    data_corr_yn float,\\\n",
    "    data_corr_oe float,\\\n",
    "    bow_corr_yn float,\\\n",
    "    bow_corr_oe float,\\\n",
    "    count_yn integer,\\\n",
    "    count_oe integer,\\\n",
    "    name text,\\\n",
    "    time timestamp\\\n",
    "    );\")\n",
    "conn.commit() #submit change to db"
   ]
  },
  {
   "cell_type": "code",
   "execution_count": null,
   "metadata": {
    "collapsed": true
   },
   "outputs": [],
   "source": [
    "#types\n",
    "# open-ended\n",
    "# yes/no"
   ]
  },
  {
   "cell_type": "markdown",
   "metadata": {},
   "source": [
    "<h1> Insert into table </h1>"
   ]
  },
  {
   "cell_type": "code",
   "execution_count": 191,
   "metadata": {
    "collapsed": false
   },
   "outputs": [],
   "source": [
    "question='can you play thrash or speed metal on this amp'\n",
    "qestion_type='open-ended'\n",
    "qestion_type_bow= 'yes/no'\n",
    "qestion_type_human= 'yes/no'\n",
    "qa_id=1\n",
    "data_corr_yn=0\n",
    "data_corr_oe=0\n",
    "bow_corr_yn=1\n",
    "bow_corr_oe=0\n",
    "count_yn=1\n",
    "count_oe=0\n",
    "name='test'\n",
    "sub_time=datetime.datetime.now()\n",
    "\n",
    "cur.execute(\"INSERT INTO training (\\\n",
    "question,\\\n",
    "qestion_type,\\\n",
    "qestion_type_bow,\\\n",
    "qestion_type_human,\\\n",
    "qa_id,\\\n",
    "data_corr_yn,\\\n",
    "data_corr_oe,\\\n",
    "bow_corr_yn,\\\n",
    "bow_corr_oe,\\\n",
    "count_yn,\\\n",
    "count_oe,\\\n",
    "name,\\\n",
    "time\\\n",
    ")\\\n",
    "VALUES (\\\n",
    "%s,%s,%s,%s,%s,%s,%s,%s,%s,%s,%s,%s,%s\\\n",
    ")\",(\\\n",
    "question,\\\n",
    "qestion_type,\\\n",
    "qestion_type_bow,\\\n",
    "qestion_type_human,\\\n",
    "qa_id,\\\n",
    "data_corr_yn,\\\n",
    "data_corr_oe,\\\n",
    "bow_corr_yn,\\\n",
    "bow_corr_oe,\\\n",
    "count_yn,\\\n",
    "count_oe,\\\n",
    "name,\\\n",
    "sub_time\\\n",
    "))\n",
    "conn.commit() #submit change to db"
   ]
  },
  {
   "cell_type": "code",
   "execution_count": 196,
   "metadata": {
    "collapsed": false
   },
   "outputs": [],
   "source": [
    "cur.execute(\"SELECT name, count(*) from training group by name order by count DESC;\")\n",
    "result=cur.fetchall()"
   ]
  },
  {
   "cell_type": "code",
   "execution_count": 197,
   "metadata": {
    "collapsed": false
   },
   "outputs": [
    {
     "data": {
      "text/plain": [
       "[('Attila', 2L), ('test', 1L)]"
      ]
     },
     "execution_count": 197,
     "metadata": {},
     "output_type": "execute_result"
    }
   ],
   "source": [
    "result"
   ]
  },
  {
   "cell_type": "code",
   "execution_count": 185,
   "metadata": {
    "collapsed": false
   },
   "outputs": [
    {
     "ename": "TypeError",
     "evalue": "'long' object is not iterable",
     "output_type": "error",
     "traceback": [
      "\u001b[0;31m---------------------------------------------------------------------------\u001b[0m",
      "\u001b[0;31mTypeError\u001b[0m                                 Traceback (most recent call last)",
      "\u001b[0;32m<ipython-input-185-7658816b606c>\u001b[0m in \u001b[0;36m<module>\u001b[0;34m()\u001b[0m\n\u001b[1;32m      1\u001b[0m \u001b[0mnames\u001b[0m\u001b[0;34m=\u001b[0m\u001b[0mresult\u001b[0m\u001b[0;34m[\u001b[0m\u001b[0;36m0\u001b[0m\u001b[0;34m]\u001b[0m\u001b[0;34m\u001b[0m\u001b[0m\n\u001b[0;32m----> 2\u001b[0;31m \u001b[0mcounts\u001b[0m\u001b[0;34m=\u001b[0m\u001b[0;34m[\u001b[0m\u001b[0mint\u001b[0m\u001b[0;34m(\u001b[0m\u001b[0mval\u001b[0m\u001b[0;34m)\u001b[0m \u001b[0;32mfor\u001b[0m \u001b[0mval\u001b[0m \u001b[0;32min\u001b[0m \u001b[0mresult\u001b[0m\u001b[0;34m[\u001b[0m\u001b[0;36m1\u001b[0m\u001b[0;34m]\u001b[0m\u001b[0;34m]\u001b[0m\u001b[0;34m\u001b[0m\u001b[0m\n\u001b[0m",
      "\u001b[0;31mTypeError\u001b[0m: 'long' object is not iterable"
     ]
    }
   ],
   "source": [
    "names=result[0]\n",
    "counts=[int(val) for val in result[1]]"
   ]
  },
  {
   "cell_type": "code",
   "execution_count": 198,
   "metadata": {
    "collapsed": false
   },
   "outputs": [
    {
     "data": {
      "text/plain": [
       "{'key': 'Serie 1',\n",
       " 'values': [{'label': 'Attila', 'rank': 1, 'value': 2},\n",
       "  {'label': 'test', 'rank': 2, 'value': 1}]}"
      ]
     },
     "execution_count": 198,
     "metadata": {},
     "output_type": "execute_result"
    }
   ],
   "source": [
    "{\"values\":[{\"rank\":rank+1,\"value\":int(count),\"label\":name} for rank,(name,count) in enumerate(result)],\"key\": \"Serie 1\"}"
   ]
  },
  {
   "cell_type": "code",
   "execution_count": 35,
   "metadata": {
    "collapsed": true
   },
   "outputs": [],
   "source": [
    "cur.execute(\"SELECT * from training order by id DESC limit 1;\")"
   ]
  },
  {
   "cell_type": "code",
   "execution_count": 36,
   "metadata": {
    "collapsed": false
   },
   "outputs": [],
   "source": [
    "result=cur.fetchall()[0]"
   ]
  },
  {
   "cell_type": "code",
   "execution_count": 37,
   "metadata": {
    "collapsed": false
   },
   "outputs": [
    {
     "data": {
      "text/plain": [
       "(1,\n",
       " 'can you play thrash or speed metal on this amp',\n",
       " 'open-ended',\n",
       " 'yes/no',\n",
       " 'yes/no',\n",
       " 1,\n",
       " 0.0,\n",
       " 0.0,\n",
       " 1.0,\n",
       " 0.0,\n",
       " 1,\n",
       " 0)"
      ]
     },
     "execution_count": 37,
     "metadata": {},
     "output_type": "execute_result"
    }
   ],
   "source": [
    "result"
   ]
  },
  {
   "cell_type": "code",
   "execution_count": 52,
   "metadata": {
    "collapsed": true
   },
   "outputs": [],
   "source": [
    "yn=[1,2]\n",
    "oe=[3,4]\n",
    "label=['Data','Human']\n",
    "key=['Yes/No','Data']"
   ]
  },
  {
   "cell_type": "code",
   "execution_count": 55,
   "metadata": {
    "collapsed": false
   },
   "outputs": [
    {
     "data": {
      "text/plain": [
       "[{'key': 'Yes/No',\n",
       "  'values': [{'x': 'Data', 'y': 100}, {'x': 'Human', 'y': 200}],\n",
       "  'yAxis': '1'},\n",
       " {'key': 'Data',\n",
       "  'values': [{'x': 'Data', 'y': 300}, {'x': 'Human', 'y': 400}],\n",
       "  'yAxis': '1'}]"
      ]
     },
     "execution_count": 55,
     "metadata": {},
     "output_type": "execute_result"
    }
   ],
   "source": [
    "[{\"values\":[{\"y\":yn[0]*100,\"x\":label[0]},{\"y\":yn[1]*100,\"x\":label[1]}],\"key\":key[0],\"yAxis\":\"1\"},\\\n",
    " {\"values\":[{\"y\":oe[0]*100,\"x\":label[0]},{\"y\":oe[1]*100,\"x\":label[1]}],\"key\":key[1],\"yAxis\":\"1\"}]"
   ]
  },
  {
   "cell_type": "markdown",
   "metadata": {
    "collapsed": true
   },
   "source": [
    "<h1> Test sentence model and combine BoW with QModel from word2vec </h1>"
   ]
  },
  {
   "cell_type": "code",
   "execution_count": 56,
   "metadata": {
    "collapsed": true
   },
   "outputs": [],
   "source": [
    "import re\n",
    "from gensim import corpora, models, similarities\n",
    "\n",
    "bag_of_words_yn='is,will,may,might,does,do,can,could,must,should,are,would,did'.split(',')\n",
    "QmodelB=models.Word2Vec.load('QmodelB_update')"
   ]
  },
  {
   "cell_type": "markdown",
   "metadata": {},
   "source": [
    "<h3> process the sentence </h3>"
   ]
  },
  {
   "cell_type": "code",
   "execution_count": 131,
   "metadata": {
    "collapsed": true
   },
   "outputs": [],
   "source": [
    "def process_line(sentence):\n",
    "    #step 1, split\n",
    "    sentences=re.split(r'[;:!?.-]\\s*', sentence)\n",
    "    result= [re.findall(\"[0-9a-z']+\", sent.lower()) for sent in sentences if \\\n",
    "           re.findall(\"[0-9a-z']+\", sent.lower())!=[]]\n",
    "    if result==[]:\n",
    "        result=['']\n",
    "    #return first sentence and first word\n",
    "    return ' '.join(result[0])+'?',result[0][0]\n",
    "stoplist = set('for a of the and to in rt'.split())"
   ]
  },
  {
   "cell_type": "markdown",
   "metadata": {},
   "source": [
    "<h3> Given a word check if it is similar enough to bag of words </h3>"
   ]
  },
  {
   "cell_type": "code",
   "execution_count": 136,
   "metadata": {
    "collapsed": false
   },
   "outputs": [
    {
     "data": {
      "text/plain": [
       "True"
      ]
     },
     "execution_count": 136,
     "metadata": {},
     "output_type": "execute_result"
    }
   ],
   "source": [
    "sentence,first_word = process_line('can I do 8 of that?')\n",
    "#first_word=sentence[0].lower()\n",
    "\n",
    "try:\n",
    "    is_in_bag=({first_word}|{item[0] for item in QmodelB.most_similar(first_word)})&set(bag_of_words_yn)!=set()\n",
    "except KeyError:\n",
    "    is_in_bag=False\n",
    "is_in_bag"
   ]
  },
  {
   "cell_type": "code",
   "execution_count": 127,
   "metadata": {
    "collapsed": false
   },
   "outputs": [
    {
     "data": {
      "text/plain": [
       "'can i do 8 of that?'"
      ]
     },
     "execution_count": 127,
     "metadata": {},
     "output_type": "execute_result"
    }
   ],
   "source": [
    "' '.join(sentence)+'?'"
   ]
  },
  {
   "cell_type": "code",
   "execution_count": null,
   "metadata": {
    "collapsed": true
   },
   "outputs": [],
   "source": [
    "if sentence.split()[0].lower() in bag_of_words_yn:\n",
    "    qestion_type_bow='yes/no'\n",
    "else:\n",
    "    qestion_type_bow='open-ended'"
   ]
  },
  {
   "cell_type": "code",
   "execution_count": 138,
   "metadata": {
    "collapsed": true
   },
   "outputs": [],
   "source": [
    "conn.close()"
   ]
  },
  {
   "cell_type": "markdown",
   "metadata": {
    "collapsed": true
   },
   "source": [
    "<h1> bag of words </h1>"
   ]
  },
  {
   "cell_type": "code",
   "execution_count": null,
   "metadata": {
    "collapsed": true
   },
   "outputs": [],
   "source": [
    "self.bag_of_words_yn='is,will,wil,may,might,does,dose,doe,dos,do,can,could,must,should,are,would,do,did'.split(',')\n"
   ]
  }
 ],
 "metadata": {
  "kernelspec": {
   "display_name": "Python 2",
   "language": "python",
   "name": "python2"
  },
  "language_info": {
   "codemirror_mode": {
    "name": "ipython",
    "version": 2
   },
   "file_extension": ".py",
   "mimetype": "text/x-python",
   "name": "python",
   "nbconvert_exporter": "python",
   "pygments_lexer": "ipython2",
   "version": "2.7.11"
  }
 },
 "nbformat": 4,
 "nbformat_minor": 0
}
