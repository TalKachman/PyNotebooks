{
 "cells": [
  {
   "cell_type": "markdown",
   "metadata": {},
   "source": [
    "<h1> Histogram YN vs. OE </h1>"
   ]
  },
  {
   "cell_type": "code",
   "execution_count": 2,
   "metadata": {
    "collapsed": false
   },
   "outputs": [
    {
     "name": "stdout",
     "output_type": "stream",
     "text": [
      "Populating the interactive namespace from numpy and matplotlib\n"
     ]
    }
   ],
   "source": [
    "# gensim modules\n",
    "from __future__ import division\n",
    "from gensim import utils\n",
    "from gensim.models.doc2vec import LabeledSentence, TaggedDocument\n",
    "from gensim.models import Doc2Vec\n",
    "\n",
    "# numpy\n",
    "import numpy as np\n",
    "import re\n",
    "\n",
    "import matplotlib as mpl\n",
    "\n",
    "from collections import defaultdict\n",
    "\n",
    "%pylab inline\n",
    "pylab.rcParams['figure.figsize'] = (16.0, 8.0) # set size of figures\"\n",
    "plt.rcParams.update({'font.size': 24})"
   ]
  },
  {
   "cell_type": "code",
   "execution_count": 3,
   "metadata": {
    "collapsed": true
   },
   "outputs": [],
   "source": [
    "import psycopg2\n",
    "conn = psycopg2.connect(\"host=localhost port=5432 dbname=qa\")\n",
    "cur = conn.cursor()\n",
    "#connect to db and find q/a\n",
    "#cur.execute(\"SELECT question from qa;\")\n",
    "#Qresults=cur.fetchall()\n",
    "#cur.execute(\"SELECT answer from qa;\")\n",
    "#Aresults=cur.fetchall()"
   ]
  },
  {
   "cell_type": "code",
   "execution_count": 4,
   "metadata": {
    "collapsed": true
   },
   "outputs": [],
   "source": [
    "cur.execute(\"SELECT question from qa WHERE questiontype  = 'yes/no';\")\n",
    "Q_yn=cur.fetchall()\n",
    "cur.execute(\"SELECT question from qa WHERE questiontype  = 'open-ended';\")\n",
    "Q_oe=cur.fetchall()"
   ]
  },
  {
   "cell_type": "code",
   "execution_count": 5,
   "metadata": {
    "collapsed": false
   },
   "outputs": [],
   "source": [
    "def process_line(sentence):\n",
    "    #step 1 split if we need to\n",
    "    sentences=re.split(r'[;:!?.-]\\s*', sentence)\n",
    "    result= [re.findall(\"[a-z']+\", sent.lower()) for sent in sentences if \\\n",
    "           re.findall(\"[a-z']+\", sent.lower())!=[]]\n",
    "    if result==[]:\n",
    "        result=['']\n",
    "    return result\n",
    "stoplist = set('for a of the and to in rt'.split())"
   ]
  },
  {
   "cell_type": "markdown",
   "metadata": {},
   "source": [
    "<h1> clean up inputs </h1>"
   ]
  },
  {
   "cell_type": "code",
   "execution_count": 6,
   "metadata": {
    "collapsed": false
   },
   "outputs": [],
   "source": [
    "qs_yn= [[word for word in process_line(sentence[0])[0] if word not in stoplist] for sentence in Q_yn]\n",
    "#qs_yn_sample=qs_yn[:int(len(qs_yn)/2)]\n",
    "qs_oe= [[word for word in process_line(sentence[0])[0] if word not in stoplist] for sentence in Q_oe]\n",
    "#qs_oe_sample=qs_oe[:int(len(qs_oe)/2)]"
   ]
  },
  {
   "cell_type": "markdown",
   "metadata": {},
   "source": [
    "<h1> build histogram for the first word in the sentence </h1>"
   ]
  },
  {
   "cell_type": "code",
   "execution_count": 7,
   "metadata": {
    "collapsed": true
   },
   "outputs": [],
   "source": [
    "S_yn=defaultdict(lambda:0)\n",
    "S_oe=defaultdict(lambda:0)"
   ]
  },
  {
   "cell_type": "code",
   "execution_count": 8,
   "metadata": {
    "collapsed": false
   },
   "outputs": [],
   "source": [
    "for words in qs_yn:\n",
    "    try:\n",
    "        S_yn[words[0]]+=1\n",
    "    except IndexError:\n",
    "        a=1\n",
    "        \n",
    "for words in qs_oe:\n",
    "    try:\n",
    "        S_oe[words[0]]+=1\n",
    "    except IndexError:\n",
    "        a=1"
   ]
  },
  {
   "cell_type": "markdown",
   "metadata": {},
   "source": [
    "<h1> Misslabeled Open Ended Questions </h1>"
   ]
  },
  {
   "cell_type": "code",
   "execution_count": 102,
   "metadata": {
    "collapsed": false,
    "scrolled": true
   },
   "outputs": [
    {
     "name": "stdout",
     "output_type": "stream",
     "text": [
      "can you play thrash or speed metal on this amp\n",
      "can anyone please tell me what piano repertoire songs are on yamaha np\n",
      "can you use its usb connect your laptop while recording\n",
      "can this unit handle true v phantom ribbon mics 's or u\n",
      "can it be just used as regular mic\n",
      "can this be played out loud as synthesizer\n",
      "can i connect bass guitar this mixer\n",
      "can this unit be used mic drum kit mix mp play along tracks so both can be heard thru head phones powered monitor\n",
      "can i fit board x\n",
      "can i use mixer's main out go straight into kt 's inst inputs\n",
      "can i connect an ipod or any device this playback\n",
      "can i hook up two wireless microphones it at time or is capacity only one\n",
      "can i play it without connecting computer\n",
      "can someone tell me what idk means\n",
      "can this device be used effectively tune room\n",
      "can i put this mic normal mic stand\n",
      "can anyone tell me if g\n",
      "can anyone tell me how long this would last with battery\n",
      "can i add boost pedal my solos or pre amp pedal\n",
      "can anyone confirm that g is low g not high g\n",
      "can you use youtube with it let me know at\n",
      "can someone do some measurements me\n",
      "can these be used with existing strap buttons that come on music man guitars such as john petrucci model or do you have replace them\n",
      "can these be used with existing strap buttons on an accoustic taylor ce or do they requires screwing new parts\n",
      "can i connect this mixer my yamaha or onkyo receiver output my existing stereo speakers use my pa system\n",
      "can these be used both vocals music or do you need separate speakers music\n",
      "can we put smart phone iphone receiver it will work\n",
      "can this be used meinl cajon\n",
      "can you use microphone guitar at same time\n",
      "can cup holder be rotated once locked into position or must it be verticle\n"
     ]
    },
    {
     "ename": "IndexError",
     "evalue": "list index out of range",
     "output_type": "error",
     "traceback": [
      "\u001b[0;31m---------------------------------------------------------------------------\u001b[0m",
      "\u001b[0;31mIndexError\u001b[0m                                Traceback (most recent call last)",
      "\u001b[0;32m<ipython-input-102-64339b698829>\u001b[0m in \u001b[0;36m<module>\u001b[0;34m()\u001b[0m\n\u001b[1;32m      1\u001b[0m \u001b[0;32mfor\u001b[0m \u001b[0mwords\u001b[0m \u001b[0;32min\u001b[0m \u001b[0mqs_oe\u001b[0m\u001b[0;34m:\u001b[0m\u001b[0;34m\u001b[0m\u001b[0m\n\u001b[0;32m----> 2\u001b[0;31m     \u001b[0;32mif\u001b[0m \u001b[0mwords\u001b[0m\u001b[0;34m[\u001b[0m\u001b[0;36m0\u001b[0m\u001b[0;34m]\u001b[0m\u001b[0;34m==\u001b[0m\u001b[0;34m'can'\u001b[0m\u001b[0;34m:\u001b[0m\u001b[0;34m\u001b[0m\u001b[0m\n\u001b[0m\u001b[1;32m      3\u001b[0m         \u001b[0;32mprint\u001b[0m\u001b[0;34m(\u001b[0m\u001b[0;34m' '\u001b[0m\u001b[0;34m.\u001b[0m\u001b[0mjoin\u001b[0m\u001b[0;34m(\u001b[0m\u001b[0mwords\u001b[0m\u001b[0;34m)\u001b[0m\u001b[0;34m)\u001b[0m\u001b[0;34m\u001b[0m\u001b[0m\n",
      "\u001b[0;31mIndexError\u001b[0m: list index out of range"
     ]
    }
   ],
   "source": [
    "for words in qs_oe:\n",
    "    if words[0]=='can':\n",
    "        print(' '.join(words))"
   ]
  },
  {
   "cell_type": "code",
   "execution_count": 104,
   "metadata": {
    "collapsed": false,
    "scrolled": true
   },
   "outputs": [
    {
     "name": "stdout",
     "output_type": "stream",
     "text": [
      "does this switch require one or two cables\n",
      "does this have male pins or female holes\n",
      "does this unit just record or does it also playback compact discs\n",
      "does this adapter work with mk\n",
      "does this support multi\n",
      "does roland cube street two\n",
      "does anyone know if peg that comes with this stand is same as hercules ds b flute clarinetinet peg http\n",
      "does anyone know if this will fit flesch flat center\n",
      "does usb cord function as midi connector or do i need separate additional midi cords\n",
      "does this come with mocrophone will it work with sure pgx transmitter\n",
      "does this lap steel have adjustable bridge\n",
      "does it come with cable\n",
      "does this work as di box as well\n",
      "does this box have an on off button or do you have replug it each time\n",
      "does system come with battery or do you have order battery separately\n",
      "does this amp have rca inputs i can run my ipad into will it work well with pair watt pa speakers\n",
      "does this come with power cord or do you have buy that\n",
      "does acoustic guitar sound good on this or it just keyboards\n",
      "does it have normal guitar size\n",
      "does this guitar have screws on fretboard at fret\n",
      "does anyone have any experience with this system outdoor wedding reception\n",
      "does anyone know if an iphone will work docking station\n",
      "does microphone come with manufacturer's warranty\n",
      "does this come pair or sold separately\n",
      "does this guitar come with pick or should they be purchased separately\n",
      "does this unit come with measurement microphone\n",
      "does usb port only power device\n",
      "does this work with windows\n",
      "does this unit has digital i o\n",
      "does this mic come with cable connect it pc\n",
      "does this mic have screw mount like blue microphones yeti pro or similar way be suspended upside down\n",
      "does this mike require phantom power\n",
      "does this microphone output straight xlr which i can plug directly into preamp\n",
      "does this require phantom power\n",
      "does this accept v power adaptor wall wart or is it battery\n",
      "does this come with screws mount headshell\n",
      "does it come with an arched back or it's flat like most smaller soprano ukes\n",
      "does it come pre\n",
      "does seat spin or is it locked\n",
      "does each presets have amp b switch like rp how do you switch preset stomp rp needs two buttons pressed perfectly or else\n",
      "does anyone know about action or height strings\n",
      "does it have backpack straps\n",
      "does this machine include ethnic or tuned percussion like bodhran tabla frame drum glockenspiel chimes or dumbek etc\n",
      "does this come with full version virtual dj djc or is that an additional purchase\n",
      "does it fold or collapse easily\n",
      "does it come with picks or do you have buy them separately\n",
      "does this guitar come with power cable or do i need get one before it arrives\n",
      "does it come with case or any bag\n",
      "does anyone know why these are cheaper then rokit 's or any other krk rokit speaker\n",
      "does this desk come with sliding computer keyboard shelf or does it need be purchased separately\n",
      "does this fit fret style guitar or fret guitar\n",
      "does this theremin come complete ready play\n",
      "does this mic have mute so if you don't want mic picking up something you can just mute it\n",
      "does this case come with shoulder rest compartment or is there place put it\n",
      "does this actually come with shelves\n",
      "does it come with clear strips or do i buy those separately\n",
      "does this come with plastic strands attach them drum\n",
      "does it really steam\n",
      "does anyone know if any theses cup holders accomidate coozy\n",
      "does this particular item come with wireless remote or do i have purchase one separately\n"
     ]
    },
    {
     "ename": "IndexError",
     "evalue": "list index out of range",
     "output_type": "error",
     "traceback": [
      "\u001b[0;31m---------------------------------------------------------------------------\u001b[0m",
      "\u001b[0;31mIndexError\u001b[0m                                Traceback (most recent call last)",
      "\u001b[0;32m<ipython-input-104-9c301ee29858>\u001b[0m in \u001b[0;36m<module>\u001b[0;34m()\u001b[0m\n\u001b[1;32m      1\u001b[0m \u001b[0;32mfor\u001b[0m \u001b[0mwords\u001b[0m \u001b[0;32min\u001b[0m \u001b[0mqs_oe\u001b[0m\u001b[0;34m:\u001b[0m\u001b[0;34m\u001b[0m\u001b[0m\n\u001b[0;32m----> 2\u001b[0;31m     \u001b[0;32mif\u001b[0m \u001b[0mwords\u001b[0m\u001b[0;34m[\u001b[0m\u001b[0;36m0\u001b[0m\u001b[0;34m]\u001b[0m\u001b[0;34m==\u001b[0m\u001b[0;34m'does'\u001b[0m\u001b[0;34m:\u001b[0m\u001b[0;34m\u001b[0m\u001b[0m\n\u001b[0m\u001b[1;32m      3\u001b[0m         \u001b[0;32mprint\u001b[0m\u001b[0;34m(\u001b[0m\u001b[0;34m' '\u001b[0m\u001b[0;34m.\u001b[0m\u001b[0mjoin\u001b[0m\u001b[0;34m(\u001b[0m\u001b[0mwords\u001b[0m\u001b[0;34m)\u001b[0m\u001b[0;34m)\u001b[0m\u001b[0;34m\u001b[0m\u001b[0m\n",
      "\u001b[0;31mIndexError\u001b[0m: list index out of range"
     ]
    }
   ],
   "source": [
    "for words in qs_oe:\n",
    "    if words[0]=='does':\n",
    "        print(' '.join(words))"
   ]
  },
  {
   "cell_type": "markdown",
   "metadata": {},
   "source": [
    "<h1> Properly labeled </h1>"
   ]
  },
  {
   "cell_type": "code",
   "execution_count": 106,
   "metadata": {
    "collapsed": false
   },
   "outputs": [
    {
     "name": "stdout",
     "output_type": "stream",
     "text": [
      "does this work bass\n",
      "does it work on\n",
      "does this bag fit fender kingman acoustic dreadnought bass guitar\n",
      "does this piano work with midi cord connect internet\n",
      "does it works with boss rc\n",
      "does it come with cable s\n",
      "does this work with vox\n",
      "does wire have memory ie is it hard straighten\n",
      "does this wire holds its shape\n",
      "does this wire holds its shape\n",
      "does it have knot strap\n",
      "does this shockmount work with audio technica at\n",
      "does this psm shock mount fit at\n",
      "does this fit rode ntk\n",
      "does this work with electro voice re\n",
      "does it work rode nt\n",
      "does this require phantom v power\n",
      "does this microphone work with an iphone\n",
      "does any body use theses master slave mode\n",
      "does yamaha pa volt power adapter work with psre keyboard\n",
      "does this work on yamaha psr\n",
      "does yamaha pa volt power adapter work with psre keyboard\n",
      "does yamaha pa volt power adapter work with psre keyboard\n",
      "does it work with yamaha psr\n",
      "does amp come with headphone output jack private playing\n",
      "does amp come with distortion\n",
      "does it have distortion\n",
      "does it come with tremolo bar\n",
      "does this come xlr cords\n",
      "does it work with most daws\n",
      "does yamaha fit\n",
      "does this microphone have\n",
      "does this supply power single phantom powered mic xlr connectors\n",
      "does this bag have any padding whatsoever\n",
      "does it fit privia px\n",
      "does it fit px m\n",
      "does it fit privia px\n",
      "does this bag fit privia px\n",
      "does this bag work px\n",
      "does it come with power supply\n",
      "does it have batteries\n",
      "does this make good travel guitar larger adult\n",
      "does this guitar have steel strings\n",
      "does it work with yamaha ypt keyboard\n",
      "does it fit psre\n",
      "does this product come with whammy bar like it shows picture\n",
      "does this produce different types sounds\n",
      "does it work with fl studio do pads work on fl studio too\n",
      "does it work yamaha p\n",
      "does it work as amplifier also\n",
      "does this unit have such function that removes singer's voice from pre\n",
      "does it come with power adapter plug mixer into wall outlet\n",
      "does it have phantom power supply\n",
      "does it come as picture shows with stand clamp threaded shaft screwing into stand\n",
      "does this lap steel need amplipher speaker\n",
      "does this guitar come with finger picks slide\n",
      "does stand come with mic clip\n",
      "does it have an on off switch\n",
      "does dark rosewood bench have storage\n",
      "does it have storage\n",
      "does it work with roland gr\n",
      "does looper rc fit this bag\n",
      "does this amp have speakon connections\n",
      "does this work on an acoustic that has no electric part it\n",
      "does this unit have built drum machine\n",
      "does device have storage area sheet music\n",
      "does this come with threaded part that screws into mic\n",
      "does this work mxl\n",
      "does this work on audio technica at\n",
      "does it work with pro tools\n",
      "does this keyboard come with usb cable needed connect computer\n",
      "does this work with windows\n",
      "does recording voice reading from manuscript go into an identifiable file that could be emailed\n",
      "does this case fit les paul\n",
      "does this run on batteries too\n",
      "does this needle work crosley model cr\n",
      "does this need an amplifier\n",
      "does it come with strap button\n",
      "does this guitar come with strings\n",
      "does it include cable\n",
      "does this guitar have holes attach strap\n",
      "does it work with cuebase\n",
      "does this work well with ipad air\n",
      "does it fit prs custom\n",
      "does this case have moisture seal like skb flight case\n",
      "does this unit come with rta mic already\n",
      "does this unit comes with subwoofer connector\n",
      "does this come with poop filter\n",
      "does this mixer come with traktor software\n",
      "does this tuner pedal have buffer effect like boss chromatic tuners do\n",
      "does this work with osx mavericks via thunderbolt\n",
      "does this product come with shock mount\n",
      "does it have truss rod\n",
      "does microphone come with cable\n",
      "does this require preamp\n",
      "does this pedal have buffered low z output\n",
      "does it tail when bypassed\n",
      "does it come with power supply\n",
      "does this have reverb too if not what's great reverb pedal\n",
      "does this pedal have some form true bypass\n",
      "does this come with headshell\n",
      "does digitech rp include drum machine i\n",
      "does this unit have distortion overdrive sound like slayer thrash metal\n",
      "does this work bass\n",
      "does it come with guitar strap\n",
      "does this include guitar\n",
      "does this violin come mahogany color as pictured\n",
      "does it have an inch output jack\n",
      "does this machine have preset user time\n",
      "does it store drum patterns\n",
      "does this work well backing solo performers during live shows\n",
      "does this case come with rack screws\n",
      "does this amp have reverb echo effects\n",
      "does it come with an ac adapter\n",
      "does this work with ipad\n",
      "does this work with serato\n",
      "does this work with traktor\n",
      "does ocarina come with box picture\n",
      "does it come with any kind neck strap\n",
      "does thread adapter allow mount\n",
      "does this stand work an acoustic guitar\n",
      "does this work ukuleles\n",
      "does seat swivel\n",
      "does it stay tune\n",
      "does it work with nexus android\n",
      "does it come with tuner\n",
      "does ac adapter have usb end that goes into wall plug amp\n",
      "does ac adapter have usb end that goes into wall plug amp\n",
      "does it come with carrying case\n",
      "does it work with windows\n",
      "does anyone that owns this case use it on firebird with mandolin tuners\n",
      "does anyone that owns this case use it on firebird with banjo tuners\n",
      "does it come with connection\n",
      "does it pick up background noise\n",
      "does this guitar have an adjustment rod neck\n",
      "does this guitar have both pins at top an bottom it strap\n",
      "does this play ipods\n",
      "does this machine come with power cord\n",
      "does karaoke machine include microphone\n",
      "does it have strap attachments\n",
      "does case come with velvet blanket put on top violin\n",
      "does this have shoulder strap or back pack strap\n",
      "does this have lock\n",
      "does anybody else have problem with amp humming loudly when it's plugged\n",
      "does it mount on mic stand\n",
      "does amp come with power cord\n",
      "does it come with case\n",
      "does it hold standard pint sized beer glass\n",
      "does it hold\n",
      "does bubble king leak\n",
      "does it work v\n",
      "does this work fl studio\n",
      "does it include tuner with band eq\n",
      "does it have pedal\n",
      "does this microphone offer noise cancelling feature\n",
      "does this fender two button switch work with fender super champ x head cabinet\n",
      "does it act as note drone\n",
      "does anybody else find case has very objectionable smell\n",
      "does this di have ground lift\n",
      "does this controller work chauvet mini kinta\n",
      "does this come with full version pod farm\n",
      "does ux come with pod farm\n",
      "does this have usb port\n",
      "does this ukulele have aquila strings\n",
      "does beginner's 'learn play' book come with it\n",
      "does this pedal work yamaha s xs year\n",
      "does this pedal make clicking sound when pressed\n",
      "does this have warranty\n",
      "does it have switch either polarity\n",
      "does microphone chord come with it\n",
      "does anyone have an issue with plugging this into usb\n",
      "does it have neck strap inside keep headstock centered avoid de\n",
      "does this work with tascamixz input an ipad\n",
      "does it include power cable connect with amp\n",
      "does this guitar have built tuner\n",
      "does case have straps on back like backpack\n",
      "does it come with shoulder strap\n",
      "does this case latch as well as zip\n",
      "does it fit your standard bows violin\n",
      "does this case accommodate banjo that has guitar styled tuners\n",
      "does this piano have weighted keys\n",
      "does it have an out midi\n",
      "does it connect amplifier\n",
      "does any ez\n",
      "does this come with all cables\n",
      "does it come with pedals\n",
      "does it autotune\n",
      "does this work well with guitar\n",
      "does it come with tom mounts\n",
      "does battery brings stud hit hat ride\n",
      "does it make good travel guitar an adult\n",
      "does needle come\n",
      "does it fit rode videomic pro\n",
      "does this fit me\n",
      "does it work with presonus interfaces studio one studio live software\n",
      "does it work fl studio\n",
      "does this device work with modul\n",
      "does this come with hardshell case\n",
      "does this mixer have phantom power\n",
      "does this mixer have phase flip button on each channel\n",
      "does phantom power work on all xlr inputs\n",
      "does each channel have led light showing it is use\n",
      "does this come with snares\n",
      "does this adapter work with chauvet xpress mac osx\n",
      "does this product require drivers that can only be installed limited number computers\n",
      "does this instrument need an electric amp\n",
      "does it have dmx inputs\n",
      "does it work with presonus interfaces studio one studio live software\n",
      "does it work fl studio\n",
      "does this device work with modul\n",
      "does it work on\n",
      "does this have ac noise filtering reduces radio frequency rfi amp\n",
      "does it have v\n",
      "does it work on memorex karoke machine\n",
      "does mic have wireless capabilities\n",
      "does it work with memorex karaoke\n",
      "does it record playback\n",
      "does this unit record voice music play back\n",
      "does this have yr warranty\n",
      "does it come with case\n",
      "does this ukulele come with aquila strings\n",
      "does this fit dean dave mustaine zero deth we trust electric guitar\n",
      "does this come with headphones so i won't disturb my family\n",
      "does it work with rocksmith ps\n",
      "does this work with yamaha dgx windows\n",
      "does it work with ensoniq eps plus\n",
      "does it sound nice\n",
      "does this guitar arrive with low action\n",
      "does this case fit bc rich pro x mockingbird electric\n",
      "does this case fit bc rich mockingbird\n",
      "does this case fit bc rich mockingbird\n",
      "does it fit schecter omen extreme\n",
      "does this speaker tilt sit on floor like wedge like first generations did\n",
      "does this flute include case cleaning rod\n",
      "does this flute come with curved headjoint as pictured images\n",
      "does it have music holder attached\n",
      "does this keyboard stand fit yamaha p b\n",
      "does it work with ps\n",
      "does this work windows\n",
      "does it work on linux\n",
      "does it connect earphones so you can play without others hearing\n",
      "does this work with verizon cell phone\n",
      "does this come with ableton live lite software\n",
      "does this product come with warning that it contains cancer causing chemicals\n",
      "does this bell have clapper\n",
      "does this case have padding on inside\n",
      "does it come with case mic\n",
      "does this come with desktop stand as well\n",
      "does this work on windows\n",
      "does this work on windows\n",
      "does this mic need phantom power\n",
      "does this mic reduce unwanted sound\n",
      "does this bass come with gigbag\n",
      "does somebody could comment on comparison light brightness this led machine old type lamp based vertigo which was using x watt lamp\n",
      "does this device work with chauvet products that have plug remote\n",
      "does this trumpet come with case\n",
      "does this instrument come with mouth piece\n",
      "does this instrument come with hard case\n",
      "does snair drum work with same rebound with sticks\n",
      "does this strap have two ends it with holes that can attach regular guitar with buttons at neck at bottom guitar\n",
      "does it not connect into your camera somewhere\n",
      "does it come with carrying bag\n",
      "does this item come with carrying bag\n",
      "does this come with carrying case\n",
      "does this usb adapter work any vocal microphone\n",
      "does it come pair\n",
      "does this mic come with mounting flange provided already box\n",
      "does this microphone need an electrical power source too\n",
      "does this microphone need an electrical power source too\n",
      "does this mic require phantom power\n",
      "does this banjo come with case\n",
      "does it come set up ready play\n",
      "does it come with full deering warranty\n",
      "does godin ultra come with gig bag case\n",
      "does acoustic side sound well using an electric amp\n"
     ]
    },
    {
     "ename": "IndexError",
     "evalue": "list index out of range",
     "output_type": "error",
     "traceback": [
      "\u001b[0;31m---------------------------------------------------------------------------\u001b[0m",
      "\u001b[0;31mIndexError\u001b[0m                                Traceback (most recent call last)",
      "\u001b[0;32m<ipython-input-106-3efe921d416e>\u001b[0m in \u001b[0;36m<module>\u001b[0;34m()\u001b[0m\n\u001b[1;32m      1\u001b[0m \u001b[0;32mfor\u001b[0m \u001b[0mwords\u001b[0m \u001b[0;32min\u001b[0m \u001b[0mqs_yn\u001b[0m\u001b[0;34m:\u001b[0m\u001b[0;34m\u001b[0m\u001b[0m\n\u001b[0;32m----> 2\u001b[0;31m     \u001b[0;32mif\u001b[0m \u001b[0mwords\u001b[0m\u001b[0;34m[\u001b[0m\u001b[0;36m0\u001b[0m\u001b[0;34m]\u001b[0m\u001b[0;34m==\u001b[0m\u001b[0;34m'does'\u001b[0m\u001b[0;34m:\u001b[0m\u001b[0;34m\u001b[0m\u001b[0m\n\u001b[0m\u001b[1;32m      3\u001b[0m         \u001b[0;32mprint\u001b[0m\u001b[0;34m(\u001b[0m\u001b[0;34m' '\u001b[0m\u001b[0;34m.\u001b[0m\u001b[0mjoin\u001b[0m\u001b[0;34m(\u001b[0m\u001b[0mwords\u001b[0m\u001b[0;34m)\u001b[0m\u001b[0;34m)\u001b[0m\u001b[0;34m\u001b[0m\u001b[0m\n",
      "\u001b[0;31mIndexError\u001b[0m: list index out of range"
     ]
    }
   ],
   "source": [
    "for words in qs_yn:\n",
    "    if words[0]=='does':\n",
    "        print(' '.join(words))"
   ]
  },
  {
   "cell_type": "code",
   "execution_count": null,
   "metadata": {
    "collapsed": true
   },
   "outputs": [],
   "source": []
  },
  {
   "cell_type": "code",
   "execution_count": null,
   "metadata": {
    "collapsed": true
   },
   "outputs": [],
   "source": []
  },
  {
   "cell_type": "markdown",
   "metadata": {},
   "source": [
    "<h1> Most common first word </h1>"
   ]
  },
  {
   "cell_type": "code",
   "execution_count": 9,
   "metadata": {
    "collapsed": false
   },
   "outputs": [],
   "source": [
    "arr_yn=numpy.array([[key,val] for (key,val) in S_yn.iteritems()])\n",
    "arr_oe=numpy.array([[key,val] for (key,val) in S_oe.iteritems()])"
   ]
  },
  {
   "cell_type": "code",
   "execution_count": 10,
   "metadata": {
    "collapsed": false
   },
   "outputs": [
    {
     "data": {
      "text/plain": [
       "['does', 'is', 'will', 'can', 'i', 'do', 'are', 'would', 'has', 'my']"
      ]
     },
     "execution_count": 10,
     "metadata": {},
     "output_type": "execute_result"
    }
   ],
   "source": [
    "arr_yn[argsort(arr_yn[:,1].astype(int))[::-1]][:10][:,0].tolist()"
   ]
  },
  {
   "cell_type": "code",
   "execution_count": 211,
   "metadata": {
    "collapsed": false
   },
   "outputs": [
    {
     "data": {
      "text/plain": [
       "array([['does', '152949'],\n",
       "       ['is', '117469'],\n",
       "       ['will', '111151'],\n",
       "       ['can', '100414'],\n",
       "       ['i', '38724'],\n",
       "       ['do', '32623'],\n",
       "       ['are', '26504'],\n",
       "       ['would', '17381'],\n",
       "       ['has', '7907'],\n",
       "       ['my', '6763']], \n",
       "      dtype='|S16')"
      ]
     },
     "execution_count": 211,
     "metadata": {},
     "output_type": "execute_result"
    }
   ],
   "source": [
    "arr_yn[argsort(arr_yn[:,1].astype(int))[::-1]][:10]"
   ]
  },
  {
   "cell_type": "markdown",
   "metadata": {},
   "source": [
    "<h1> Hist top 10 words in each and build a list to overlay </h1>"
   ]
  },
  {
   "cell_type": "code",
   "execution_count": 12,
   "metadata": {
    "collapsed": false
   },
   "outputs": [],
   "source": [
    "xx_oe=arr_oe[argsort(arr_oe[:,1].astype(int))[::-1]][:10][:,0]\n",
    "xx_yn=arr_yn[argsort(arr_yn[:,1].astype(int))[::-1]][:10][:,0]\n",
    "common_first_words=list(set(xx_oe.tolist()+xx_yn.tolist()))"
   ]
  },
  {
   "cell_type": "code",
   "execution_count": 13,
   "metadata": {
    "collapsed": false
   },
   "outputs": [],
   "source": [
    "yy_oe=[S_oe[word] for word in common_first_words]\n",
    "yy_yn=[S_yn[word] for word in common_first_words]"
   ]
  },
  {
   "cell_type": "code",
   "execution_count": 14,
   "metadata": {
    "collapsed": false
   },
   "outputs": [],
   "source": [
    "#sort by top y/n response\n",
    "sorted_index=[yy_yn.index(x) for x in sorted(yy_yn)][::-1]\n",
    "sorted_index\n",
    "common_first_words=[common_first_words[ii] for ii in sorted_index]\n",
    "common_first_words\n",
    "yy_oe=[yy_oe[ii] for ii in sorted_index]\n",
    "yy_yn=[yy_yn[ii] for ii in sorted_index]"
   ]
  },
  {
   "cell_type": "code",
   "execution_count": 16,
   "metadata": {
    "collapsed": false
   },
   "outputs": [
    {
     "name": "stderr",
     "output_type": "stream",
     "text": [
      "/Users/attiladobi/anaconda2/lib/python2.7/site-packages/matplotlib/legend.py:325: UserWarning: Unrecognized location \"upper middle\". Falling back on \"best\"; valid locations are\n",
      "\tright\n",
      "\tcenter left\n",
      "\tupper right\n",
      "\tlower right\n",
      "\tbest\n",
      "\tcenter\n",
      "\tlower left\n",
      "\tcenter right\n",
      "\tupper left\n",
      "\tupper center\n",
      "\tlower center\n",
      "\n",
      "  six.iterkeys(self.codes))))\n"
     ]
    },
    {
     "data": {
      "text/plain": [
       "<matplotlib.legend.Legend at 0x14987d910>"
      ]
     },
     "execution_count": 16,
     "metadata": {},
     "output_type": "execute_result"
    },
    {
     "data": {
      "image/png": "[encoded data removed]",
      "text/plain": [
       "<matplotlib.figure.Figure at 0x104077810>"
      ]
     },
     "metadata": {},
     "output_type": "display_data"
    }
   ],
   "source": [
    "xx=np.arange(len(common_first_words))\n",
    "plt.bar(xx,yy_oe/sum(yy_oe),color='b',alpha=0.5, width=0.4,label='Open Ended')\n",
    "plt.bar(xx+.25,yy_yn/sum(yy_yn),color='r',alpha=0.5,width=0.4, label='Yes/No')\n",
    "plt.xticks(xx+1/2, common_first_words, rotation='vertical')\n",
    "plt.gca().yaxis.set_major_locator(plt.NullLocator())\n",
    "plt.legend(loc='upper middle')"
   ]
  },
  {
   "cell_type": "code",
   "execution_count": null,
   "metadata": {
    "collapsed": true
   },
   "outputs": [],
   "source": []
  },
  {
   "cell_type": "code",
   "execution_count": 25,
   "metadata": {
    "collapsed": true
   },
   "outputs": [],
   "source": [
    "bag_of_words_yn=\"is,will,wil,may,might,does,dose,doe,dos,do,can,could,must,should,are,would,do,did,what,what's\".split(',')\n",
    "bag_of_words_oe=\"what,what's\".split(',')"
   ]
  },
  {
   "cell_type": "code",
   "execution_count": 26,
   "metadata": {
    "collapsed": false
   },
   "outputs": [],
   "source": [
    "a=set(bag_of_words_yn)\n",
    "b=set(bag_of_words_oe)"
   ]
  },
  {
   "cell_type": "code",
   "execution_count": 29,
   "metadata": {
    "collapsed": false
   },
   "outputs": [
    {
     "data": {
      "text/plain": [
       "True"
      ]
     },
     "execution_count": 29,
     "metadata": {},
     "output_type": "execute_result"
    }
   ],
   "source": [
    "'what' in b"
   ]
  },
  {
   "cell_type": "code",
   "execution_count": null,
   "metadata": {
    "collapsed": true
   },
   "outputs": [],
   "source": []
  }
 ],
 "metadata": {
  "kernelspec": {
   "display_name": "Python 2",
   "language": "python",
   "name": "python2"
  },
  "language_info": {
   "codemirror_mode": {
    "name": "ipython",
    "version": 2
   },
   "file_extension": ".py",
   "mimetype": "text/x-python",
   "name": "python",
   "nbconvert_exporter": "python",
   "pygments_lexer": "ipython2",
   "version": "2.7.11"
  }
 },
 "nbformat": 4,
 "nbformat_minor": 0
}
