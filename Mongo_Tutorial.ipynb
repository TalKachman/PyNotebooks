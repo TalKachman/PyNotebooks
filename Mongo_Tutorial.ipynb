{
 "cells": [
  {
   "cell_type": "code",
   "execution_count": 1,
   "metadata": {
    "collapsed": true
   },
   "outputs": [],
   "source": [
    "from pymongo import MongoClient \n",
    "\n",
    "MONGODB_HOST = 'localhost'\n",
    "MONGODB_PORT = 27017\n",
    "DBS_NAME = 'donorschoose'\n",
    "COLLECTION_NAME = 'projects'"
   ]
  },
  {
   "cell_type": "code",
   "execution_count": 2,
   "metadata": {
    "collapsed": true
   },
   "outputs": [],
   "source": [
    "FIELDS = {'school_state': True, 'resource_type': True, 'poverty_level': True, 'date_posted': True, 'total_donations': True, '_id': False}"
   ]
  },
  {
   "cell_type": "code",
   "execution_count": 6,
   "metadata": {
    "collapsed": false
   },
   "outputs": [],
   "source": [
    "connection = MongoClient(MONGODB_HOST, MONGODB_PORT)\n",
    "collection = connection[DBS_NAME][COLLECTION_NAME]\n",
    "projects = collection.find({'school_state':'NY'}, projection=FIELDS, limit=10)"
   ]
  },
  {
   "cell_type": "code",
   "execution_count": 7,
   "metadata": {
    "collapsed": false
   },
   "outputs": [
    {
     "name": "stdout",
     "output_type": "stream",
     "text": [
      "{u'school_state': u'NY', u'date_posted': u'2002-09-13 00:00:00', u'poverty_level': u'highest poverty', u'resource_type': u'Supplies', u'total_donations': 251}\n",
      "{u'school_state': u'NY', u'date_posted': u'2002-09-17 00:00:00', u'poverty_level': u'highest poverty', u'resource_type': u'Trips', u'total_donations': 2110}\n",
      "{u'school_state': u'NY', u'date_posted': u'2002-09-16 00:00:00', u'poverty_level': u'moderate poverty', u'resource_type': u'Supplies', u'total_donations': 125}\n",
      "{u'school_state': u'NY', u'date_posted': u'2002-09-17 00:00:00', u'poverty_level': u'highest poverty', u'resource_type': u'Technology', u'total_donations': 1241}\n",
      "{u'school_state': u'NY', u'date_posted': u'2002-09-17 00:00:00', u'poverty_level': u'highest poverty', u'resource_type': u'Technology', u'total_donations': 83}\n",
      "{u'school_state': u'NY', u'date_posted': u'2002-09-17 00:00:00', u'poverty_level': u'highest poverty', u'resource_type': u'Supplies', u'total_donations': 254}\n",
      "{u'school_state': u'NY', u'date_posted': u'2002-09-17 00:00:00', u'poverty_level': u'moderate poverty', u'resource_type': u'Books', u'total_donations': 313}\n",
      "{u'school_state': u'NY', u'date_posted': u'2002-09-17 00:00:00', u'poverty_level': u'highest poverty', u'resource_type': u'Technology', u'total_donations': 364}\n",
      "{u'school_state': u'NY', u'date_posted': u'2002-09-17 00:00:00', u'poverty_level': u'low poverty', u'resource_type': u'Supplies', u'total_donations': 454}\n",
      "{u'school_state': u'NY', u'date_posted': u'2002-09-17 00:00:00', u'poverty_level': u'highest poverty', u'resource_type': u'Books', u'total_donations': 380}\n"
     ]
    }
   ],
   "source": [
    "for project in projects:\n",
    "    print project"
   ]
  },
  {
   "cell_type": "code",
   "execution_count": null,
   "metadata": {
    "collapsed": true
   },
   "outputs": [],
   "source": [
    "projects = collection.find(projection=FIELDS, )"
   ]
  }
 ],
 "metadata": {
  "kernelspec": {
   "display_name": "Python 2",
   "language": "python",
   "name": "python2"
  },
  "language_info": {
   "codemirror_mode": {
    "name": "ipython",
    "version": 2
   },
   "file_extension": ".py",
   "mimetype": "text/x-python",
   "name": "python",
   "nbconvert_exporter": "python",
   "pygments_lexer": "ipython2",
   "version": "2.7.10"
  }
 },
 "nbformat": 4,
 "nbformat_minor": 0
}
