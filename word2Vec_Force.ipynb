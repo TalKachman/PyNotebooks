{
 "cells": [
  {
   "cell_type": "code",
   "execution_count": 7,
   "metadata": {
    "collapsed": true
   },
   "outputs": [],
   "source": [
    "from __future__ import division\n",
    "import psycopg2\n",
    "import numpy as np\n",
    "import json\n",
    "import re\n",
    "from gensim import corpora, models, similarities"
   ]
  },
  {
   "cell_type": "code",
   "execution_count": 2,
   "metadata": {
    "collapsed": true
   },
   "outputs": [],
   "source": [
    "########## emoji visual data ##########################################\n",
    "def clean_result(model_result):\n",
    "    return [item[0] for item in QmodelB.most_similar('you')],[item[1] for item in QmodelB.most_similar('you')]\n",
    "\n",
    "def visual(word):\n",
    "    word=word.lower()\n",
    "    results,counts=clean_result(QmodelB.most_similar(word))\n",
    "    source_target=[]\n",
    "    for result_word in results:\n",
    "        #append source target, and search next layer\n",
    "        source_target.append((word,result_word))\n",
    "        results2,counts2=clean_result(QmodelB.most_similar(result_word))\n",
    "        for result_word2 in results2:\n",
    "            source_target.append((result_word,result_word2))\n",
    "    return [{\"source\":src,\"target\":tar,\"type\":\"blah\"} for src,tar in source_target]"
   ]
  },
  {
   "cell_type": "code",
   "execution_count": 8,
   "metadata": {
    "collapsed": false
   },
   "outputs": [],
   "source": [
    "QmodelB=models.Word2Vec.load('QmodelB')"
   ]
  },
  {
   "cell_type": "code",
   "execution_count": 6,
   "metadata": {
    "collapsed": false
   },
   "outputs": [
    {
     "data": {
      "text/plain": [
       "[{'source': 'you', 'target': u'u', 'type': 'blah'},\n",
       " {'source': u'u', 'target': u'u', 'type': 'blah'},\n",
       " {'source': u'u', 'target': u'we', 'type': 'blah'},\n",
       " {'source': u'u', 'target': u'i', 'type': 'blah'},\n",
       " {'source': u'u', 'target': u'yall', 'type': 'blah'},\n",
       " {'source': u'u', 'target': u'anyone', 'type': 'blah'},\n",
       " {'source': u'u', 'target': u'anybody', 'type': 'blah'},\n",
       " {'source': u'u', 'target': u'ability', 'type': 'blah'},\n",
       " {'source': u'u', 'target': u\"y'all\", 'type': 'blah'},\n",
       " {'source': u'u', 'target': u'your', 'type': 'blah'},\n",
       " {'source': u'u', 'target': u'yourself', 'type': 'blah'},\n",
       " {'source': 'you', 'target': u'we', 'type': 'blah'},\n",
       " {'source': u'we', 'target': u'u', 'type': 'blah'},\n",
       " {'source': u'we', 'target': u'we', 'type': 'blah'},\n",
       " {'source': u'we', 'target': u'i', 'type': 'blah'},\n",
       " {'source': u'we', 'target': u'yall', 'type': 'blah'},\n",
       " {'source': u'we', 'target': u'anyone', 'type': 'blah'},\n",
       " {'source': u'we', 'target': u'anybody', 'type': 'blah'},\n",
       " {'source': u'we', 'target': u'ability', 'type': 'blah'},\n",
       " {'source': u'we', 'target': u\"y'all\", 'type': 'blah'},\n",
       " {'source': u'we', 'target': u'your', 'type': 'blah'},\n",
       " {'source': u'we', 'target': u'yourself', 'type': 'blah'},\n",
       " {'source': 'you', 'target': u'i', 'type': 'blah'},\n",
       " {'source': u'i', 'target': u'u', 'type': 'blah'},\n",
       " {'source': u'i', 'target': u'we', 'type': 'blah'},\n",
       " {'source': u'i', 'target': u'i', 'type': 'blah'},\n",
       " {'source': u'i', 'target': u'yall', 'type': 'blah'},\n",
       " {'source': u'i', 'target': u'anyone', 'type': 'blah'},\n",
       " {'source': u'i', 'target': u'anybody', 'type': 'blah'},\n",
       " {'source': u'i', 'target': u'ability', 'type': 'blah'},\n",
       " {'source': u'i', 'target': u\"y'all\", 'type': 'blah'},\n",
       " {'source': u'i', 'target': u'your', 'type': 'blah'},\n",
       " {'source': u'i', 'target': u'yourself', 'type': 'blah'},\n",
       " {'source': 'you', 'target': u'yall', 'type': 'blah'},\n",
       " {'source': u'yall', 'target': u'u', 'type': 'blah'},\n",
       " {'source': u'yall', 'target': u'we', 'type': 'blah'},\n",
       " {'source': u'yall', 'target': u'i', 'type': 'blah'},\n",
       " {'source': u'yall', 'target': u'yall', 'type': 'blah'},\n",
       " {'source': u'yall', 'target': u'anyone', 'type': 'blah'},\n",
       " {'source': u'yall', 'target': u'anybody', 'type': 'blah'},\n",
       " {'source': u'yall', 'target': u'ability', 'type': 'blah'},\n",
       " {'source': u'yall', 'target': u\"y'all\", 'type': 'blah'},\n",
       " {'source': u'yall', 'target': u'your', 'type': 'blah'},\n",
       " {'source': u'yall', 'target': u'yourself', 'type': 'blah'},\n",
       " {'source': 'you', 'target': u'anyone', 'type': 'blah'},\n",
       " {'source': u'anyone', 'target': u'u', 'type': 'blah'},\n",
       " {'source': u'anyone', 'target': u'we', 'type': 'blah'},\n",
       " {'source': u'anyone', 'target': u'i', 'type': 'blah'},\n",
       " {'source': u'anyone', 'target': u'yall', 'type': 'blah'},\n",
       " {'source': u'anyone', 'target': u'anyone', 'type': 'blah'},\n",
       " {'source': u'anyone', 'target': u'anybody', 'type': 'blah'},\n",
       " {'source': u'anyone', 'target': u'ability', 'type': 'blah'},\n",
       " {'source': u'anyone', 'target': u\"y'all\", 'type': 'blah'},\n",
       " {'source': u'anyone', 'target': u'your', 'type': 'blah'},\n",
       " {'source': u'anyone', 'target': u'yourself', 'type': 'blah'},\n",
       " {'source': 'you', 'target': u'anybody', 'type': 'blah'},\n",
       " {'source': u'anybody', 'target': u'u', 'type': 'blah'},\n",
       " {'source': u'anybody', 'target': u'we', 'type': 'blah'},\n",
       " {'source': u'anybody', 'target': u'i', 'type': 'blah'},\n",
       " {'source': u'anybody', 'target': u'yall', 'type': 'blah'},\n",
       " {'source': u'anybody', 'target': u'anyone', 'type': 'blah'},\n",
       " {'source': u'anybody', 'target': u'anybody', 'type': 'blah'},\n",
       " {'source': u'anybody', 'target': u'ability', 'type': 'blah'},\n",
       " {'source': u'anybody', 'target': u\"y'all\", 'type': 'blah'},\n",
       " {'source': u'anybody', 'target': u'your', 'type': 'blah'},\n",
       " {'source': u'anybody', 'target': u'yourself', 'type': 'blah'},\n",
       " {'source': 'you', 'target': u'ability', 'type': 'blah'},\n",
       " {'source': u'ability', 'target': u'u', 'type': 'blah'},\n",
       " {'source': u'ability', 'target': u'we', 'type': 'blah'},\n",
       " {'source': u'ability', 'target': u'i', 'type': 'blah'},\n",
       " {'source': u'ability', 'target': u'yall', 'type': 'blah'},\n",
       " {'source': u'ability', 'target': u'anyone', 'type': 'blah'},\n",
       " {'source': u'ability', 'target': u'anybody', 'type': 'blah'},\n",
       " {'source': u'ability', 'target': u'ability', 'type': 'blah'},\n",
       " {'source': u'ability', 'target': u\"y'all\", 'type': 'blah'},\n",
       " {'source': u'ability', 'target': u'your', 'type': 'blah'},\n",
       " {'source': u'ability', 'target': u'yourself', 'type': 'blah'},\n",
       " {'source': 'you', 'target': u\"y'all\", 'type': 'blah'},\n",
       " {'source': u\"y'all\", 'target': u'u', 'type': 'blah'},\n",
       " {'source': u\"y'all\", 'target': u'we', 'type': 'blah'},\n",
       " {'source': u\"y'all\", 'target': u'i', 'type': 'blah'},\n",
       " {'source': u\"y'all\", 'target': u'yall', 'type': 'blah'},\n",
       " {'source': u\"y'all\", 'target': u'anyone', 'type': 'blah'},\n",
       " {'source': u\"y'all\", 'target': u'anybody', 'type': 'blah'},\n",
       " {'source': u\"y'all\", 'target': u'ability', 'type': 'blah'},\n",
       " {'source': u\"y'all\", 'target': u\"y'all\", 'type': 'blah'},\n",
       " {'source': u\"y'all\", 'target': u'your', 'type': 'blah'},\n",
       " {'source': u\"y'all\", 'target': u'yourself', 'type': 'blah'},\n",
       " {'source': 'you', 'target': u'your', 'type': 'blah'},\n",
       " {'source': u'your', 'target': u'u', 'type': 'blah'},\n",
       " {'source': u'your', 'target': u'we', 'type': 'blah'},\n",
       " {'source': u'your', 'target': u'i', 'type': 'blah'},\n",
       " {'source': u'your', 'target': u'yall', 'type': 'blah'},\n",
       " {'source': u'your', 'target': u'anyone', 'type': 'blah'},\n",
       " {'source': u'your', 'target': u'anybody', 'type': 'blah'},\n",
       " {'source': u'your', 'target': u'ability', 'type': 'blah'},\n",
       " {'source': u'your', 'target': u\"y'all\", 'type': 'blah'},\n",
       " {'source': u'your', 'target': u'your', 'type': 'blah'},\n",
       " {'source': u'your', 'target': u'yourself', 'type': 'blah'},\n",
       " {'source': 'you', 'target': u'yourself', 'type': 'blah'},\n",
       " {'source': u'yourself', 'target': u'u', 'type': 'blah'},\n",
       " {'source': u'yourself', 'target': u'we', 'type': 'blah'},\n",
       " {'source': u'yourself', 'target': u'i', 'type': 'blah'},\n",
       " {'source': u'yourself', 'target': u'yall', 'type': 'blah'},\n",
       " {'source': u'yourself', 'target': u'anyone', 'type': 'blah'},\n",
       " {'source': u'yourself', 'target': u'anybody', 'type': 'blah'},\n",
       " {'source': u'yourself', 'target': u'ability', 'type': 'blah'},\n",
       " {'source': u'yourself', 'target': u\"y'all\", 'type': 'blah'},\n",
       " {'source': u'yourself', 'target': u'your', 'type': 'blah'},\n",
       " {'source': u'yourself', 'target': u'yourself', 'type': 'blah'}]"
      ]
     },
     "execution_count": 6,
     "metadata": {},
     "output_type": "execute_result"
    }
   ],
   "source": [
    "visual('you')"
   ]
  },
  {
   "cell_type": "markdown",
   "metadata": {
    "collapsed": true
   },
   "source": [
    "<h1> bag of words </h1>"
   ]
  },
  {
   "cell_type": "code",
   "execution_count": 9,
   "metadata": {
    "collapsed": true
   },
   "outputs": [],
   "source": [
    "bag_of_words_yn='is,will,wil,may,might,does,dose,doe,dos,do,can,could,must,should,are,would,do,did'.split(',')"
   ]
  },
  {
   "cell_type": "code",
   "execution_count": 17,
   "metadata": {
    "collapsed": false
   },
   "outputs": [
    {
     "data": {
      "text/plain": [
       "False"
      ]
     },
     "execution_count": 17,
     "metadata": {},
     "output_type": "execute_result"
    }
   ],
   "source": [
    "first_word=\"what\"\n",
    "is_in_bag=({first_word}|{item[0] for item in QmodelB.most_similar(first_word)})&set(bag_of_words_yn)!=set()\n",
    "is_in_bag"
   ]
  },
  {
   "cell_type": "code",
   "execution_count": null,
   "metadata": {
    "collapsed": true
   },
   "outputs": [],
   "source": []
  }
 ],
 "metadata": {
  "kernelspec": {
   "display_name": "Python 2",
   "language": "python",
   "name": "python2"
  },
  "language_info": {
   "codemirror_mode": {
    "name": "ipython",
    "version": 2
   },
   "file_extension": ".py",
   "mimetype": "text/x-python",
   "name": "python",
   "nbconvert_exporter": "python",
   "pygments_lexer": "ipython2",
   "version": "2.7.11"
  }
 },
 "nbformat": 4,
 "nbformat_minor": 0
}
