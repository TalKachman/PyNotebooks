{
 "metadata": {
  "name": "",
  "signature": "sha256:2e810bb627b6440be44bed926f18f76e17308b923ebc962fb307c5a4c6514499"
 },
 "nbformat": 3,
 "nbformat_minor": 0,
 "worksheets": [
  {
   "cells": [
    {
     "cell_type": "markdown",
     "metadata": {},
     "source": [
      "<h1> Numpy, Matplotlib, Pandas, Bokeh Setup </h1>"
     ]
    },
    {
     "cell_type": "code",
     "collapsed": false,
     "input": [
      "from numpy import *\n",
      "import scipy\n",
      "import pylab\n",
      "import matplotlib.pyplot as plt # plotting libraries from matlab\n",
      "from scipy.stats import multivariate_normal\n",
      "from dateutil import parser\n",
      "from matplotlib import pyplot as plt\n",
      "import matplotlib.dates as md\n",
      "import scipy.io as sio\n",
      "from scipy.optimize import curve_fit # for fitting\n",
      "import pandas as pd"
     ],
     "language": "python",
     "metadata": {},
     "outputs": []
    },
    {
     "cell_type": "code",
     "collapsed": false,
     "input": [
      "from bokeh.plotting import figure, output_file, show, VBox, ColumnDataSource, output_server, cursession, curdoc, output_notebook\n",
      "from bokeh.models.widgets import Slider, TextInput, HBox, VBox, Dialog, Button, VBoxForm, MultiSelect, PreText, Select\n",
      "from bokeh.models import Range1d, HoverTool, BoxSelectTool\n",
      "from bokeh.server.utils.plugins import object_page\n",
      "from IPython.html.widgets import interact"
     ],
     "language": "python",
     "metadata": {},
     "outputs": []
    },
    {
     "cell_type": "code",
     "collapsed": false,
     "input": [
      "#define function to convert matfile into dataframe (panda)\n",
      "def df_from_mat(mat_data):\n",
      "    a=[]\n",
      "    keys=[]\n",
      "    \n",
      "    for key in mat_data.keys():\n",
      "        if key[0]!='_':\n",
      "            a.append(mat_data[key])\n",
      "            keys.append(key)\n",
      "    keys=array(keys)\n",
      "    return pd.DataFrame(vstack(a[:]).T,columns=keys)"
     ],
     "language": "python",
     "metadata": {},
     "outputs": []
    }
   ],
   "metadata": {}
  }
 ]
}